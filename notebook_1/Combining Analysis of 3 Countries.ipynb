{
 "cells": [
  {
   "cell_type": "code",
   "execution_count": 0,
   "metadata": {
    "application/vnd.databricks.v1+cell": {
     "cellMetadata": {},
     "inputWidgets": {},
     "nuid": "83ee6fa3-703b-4a66-b6fa-3a1bacda2ccb",
     "showTitle": false,
     "tableResultSettingsMap": {},
     "title": ""
    }
   },
   "outputs": [],
   "source": []
  },
  {
   "cell_type": "code",
   "execution_count": 0,
   "metadata": {
    "application/vnd.databricks.v1+cell": {
     "cellMetadata": {
      "byteLimit": 2048000,
      "rowLimit": 10000
     },
     "inputWidgets": {},
     "nuid": "5b0cc1b8-f569-413f-a2e5-937f76054893",
     "showTitle": false,
     "tableResultSettingsMap": {},
     "title": ""
    }
   },
   "outputs": [],
   "source": [
    "# Here i have loaded all the 3 country data \n",
    "india_df = spark.read.parquet('/FileStore/tables/final_india_trending')\n",
    "singapore_df = spark.read.parquet('/FileStore/tables/final_singapore_trending')\n",
    "usa_df = spark.read.parquet('/FileStore/tables/final_usa_trending')\n",
    "\n"
   ]
  },
  {
   "cell_type": "markdown",
   "metadata": {
    "application/vnd.databricks.v1+cell": {
     "cellMetadata": {},
     "inputWidgets": {},
     "nuid": "66a4b392-fe9f-4b15-bb47-01ac263bc22d",
     "showTitle": false,
     "tableResultSettingsMap": {},
     "title": ""
    }
   },
   "source": [
    "# Schema Check + Sampling"
   ]
  },
  {
   "cell_type": "code",
   "execution_count": 0,
   "metadata": {
    "application/vnd.databricks.v1+cell": {
     "cellMetadata": {},
     "inputWidgets": {},
     "nuid": "2920a285-6246-4eea-bb97-016e41d9fe03",
     "showTitle": false,
     "tableResultSettingsMap": {},
     "title": ""
    }
   },
   "outputs": [],
   "source": [
    "india_df.printSchema()\n",
    "india_df.show(5)\n",
    "# singapore_df.show(5)\n",
    "# usa_df.show(5)"
   ]
  },
  {
   "cell_type": "code",
   "execution_count": 0,
   "metadata": {
    "application/vnd.databricks.v1+cell": {
     "cellMetadata": {
      "byteLimit": 2048000,
      "rowLimit": 10000
     },
     "inputWidgets": {},
     "nuid": "9100fd16-2635-44d7-b2a7-d305c7d89ce2",
     "showTitle": false,
     "tableResultSettingsMap": {},
     "title": ""
    }
   },
   "outputs": [
    {
     "output_type": "stream",
     "name": "stdout",
     "output_type": "stream",
     "text": [
      "root\n |-- id: string (nullable = true)\n |-- channelId: string (nullable = true)\n |-- channelTitle: string (nullable = true)\n |-- title: string (nullable = true)\n |-- description: string (nullable = true)\n |-- categoryId: string (nullable = true)\n |-- tags: array (nullable = true)\n |    |-- element: string (containsNull = true)\n |-- defaultLanguage: string (nullable = true)\n |-- defaultAudioLanguage: string (nullable = true)\n |-- viewCount: integer (nullable = true)\n |-- likeCount: integer (nullable = true)\n |-- commentCount: integer (nullable = true)\n |-- duration: integer (nullable = true)\n |-- caption: string (nullable = true)\n |-- categoryName: string (nullable = true)\n |-- publishedDate: date (nullable = true)\n |-- year: integer (nullable = true)\n |-- month: integer (nullable = true)\n |-- engagement: integer (nullable = true)\n |-- durationCategory: string (nullable = true)\n\n"
     ]
    }
   ],
   "source": [
    "india_df.printSchema()"
   ]
  },
  {
   "cell_type": "code",
   "execution_count": 0,
   "metadata": {
    "application/vnd.databricks.v1+cell": {
     "cellMetadata": {
      "byteLimit": 2048000,
      "rowLimit": 10000
     },
     "inputWidgets": {},
     "nuid": "57f21e5f-6be1-445e-a08e-9a8dbc2facea",
     "showTitle": false,
     "tableResultSettingsMap": {},
     "title": ""
    }
   },
   "outputs": [
    {
     "output_type": "stream",
     "name": "stdout",
     "output_type": "stream",
     "text": [
      "+-----------+--------------------+-----------------+--------------------+--------------------+----------+--------------------+---------------+--------------------+---------+---------+------------+--------+-------+----------------+-------------+----+-----+----------+----------------+\n|         id|           channelId|     channelTitle|               title|         description|categoryId|                tags|defaultLanguage|defaultAudioLanguage|viewCount|likeCount|commentCount|duration|caption|    categoryName|publishedDate|year|month|engagement|durationCategory|\n+-----------+--------------------+-----------------+--------------------+--------------------+----------+--------------------+---------------+--------------------+---------+---------+------------+--------+-------+----------------+-------------+----+-----+----------+----------------+\n|nyURE5vmj2I|UCLbdVvreihwZRL6k...|Think Music India|Thalaivan Thalaiv...|Here's the Offici...|         1|[thalaivan thalai...|             en|                  ta|  4200400|   139778|        2773|     167|   true|Film & Animation|   2025-07-17|2025|    7|    142551|           Short|\n|tQtJzzCOiys|UC3ar28GS6o1p0m_w...|       Pen Movies|Romeo S3 - Full M...|Romeo S3, directe...|         1|[Romeo S3, Palak ...|             en|                  hi|  1848605|    33429|         994|    8732|   true|Film & Animation|   2025-07-17|2025|    7|     34423|            Long|\n|iKZyYdwS3Wg|UCWOA1ZGywLbqmigx...|          Netflix|Stranger Things 5...|Every battle has ...|        24|[Caleb McLaughlin...|           null|               en-US| 14269445|   668886|       38411|     167|   true|   Entertainment|   2025-07-16|2025|    7|    707297|           Short|\n|EW4PcyuFMfo|UCq-Fj5jknLsUf-MW...|         T-Series|Dil Pe Chalai Chu...|Presenting the hi...|        10|[hindi songs 2025...|           null|                  hi| 13988050|   603633|       30240|     241|  false|           Music|   2025-07-14|2025|    7|    633873|           Short|\n|dItCVr0wbJU|UCSfxFZFzcpYMbOB3...|         SlayyPop|Playing Real Life...|Thanks to @Netfli...|        20|[squid game, squi...|           null|               en-IN|  2324607|    74447|        2260|    1081|  false|          Gaming|   2025-07-16|2025|    7|     76707|          Medium|\n+-----------+--------------------+-----------------+--------------------+--------------------+----------+--------------------+---------------+--------------------+---------+---------+------------+--------+-------+----------------+-------------+----+-----+----------+----------------+\nonly showing top 5 rows\n\n"
     ]
    }
   ],
   "source": [
    "india_df.show(5)"
   ]
  },
  {
   "cell_type": "markdown",
   "metadata": {
    "application/vnd.databricks.v1+cell": {
     "cellMetadata": {},
     "inputWidgets": {},
     "nuid": "eb39d7d4-9b7a-473e-8696-928316430fa2",
     "showTitle": false,
     "tableResultSettingsMap": {},
     "title": ""
    }
   },
   "source": [
    "# Most Popular Categories (By Views) per Country"
   ]
  },
  {
   "cell_type": "code",
   "execution_count": 0,
   "metadata": {
    "application/vnd.databricks.v1+cell": {
     "cellMetadata": {
      "byteLimit": 2048000,
      "rowLimit": 10000
     },
     "inputWidgets": {},
     "nuid": "76a847dd-f0a4-47c6-9848-646002200a8c",
     "showTitle": false,
     "tableResultSettingsMap": {},
     "title": ""
    }
   },
   "outputs": [],
   "source": [
    "from pyspark.sql.functions import sum\n",
    "\n",
    "india_top_categories = india_df.groupBy(\"categoryName\").agg(sum(\"viewCount\").alias(\"totalViews\")).orderBy(\"totalViews\", ascending=False)\n",
    "singapore_top_categories = singapore_df.groupBy(\"categoryName\").agg(sum(\"viewCount\").alias(\"totalViews\")).orderBy(\"totalViews\", ascending=False)\n",
    "usa_top_categories = usa_df.groupBy(\"categoryName\").agg(sum(\"viewCount\").alias(\"totalViews\")).orderBy(\"totalViews\", ascending=False)\n"
   ]
  },
  {
   "cell_type": "code",
   "execution_count": 0,
   "metadata": {
    "application/vnd.databricks.v1+cell": {
     "cellMetadata": {
      "byteLimit": 2048000,
      "rowLimit": 10000
     },
     "inputWidgets": {},
     "nuid": "3c0bd6e3-1cd1-4e00-8ba5-e556839b990b",
     "showTitle": false,
     "tableResultSettingsMap": {},
     "title": ""
    }
   },
   "outputs": [
    {
     "output_type": "stream",
     "name": "stdout",
     "output_type": "stream",
     "text": [
      "+--------------------+----------+\n|        categoryName|totalViews|\n+--------------------+----------+\n|       Entertainment|  47350484|\n|    Film & Animation|  12422167|\n|              Gaming|   8804699|\n|               Music|   4055819|\n|              Sports|   3397192|\n|Science & Technology|   1771137|\n|      People & Blogs|   1413995|\n|              Comedy|    360781|\n+--------------------+----------+\n\n"
     ]
    }
   ],
   "source": [
    "usa_top_categories .show()"
   ]
  },
  {
   "cell_type": "markdown",
   "metadata": {
    "application/vnd.databricks.v1+cell": {
     "cellMetadata": {},
     "inputWidgets": {},
     "nuid": "e485ce54-8cde-4410-b330-015594cf4fa5",
     "showTitle": false,
     "tableResultSettingsMap": {},
     "title": ""
    }
   },
   "source": [
    "# Average Engagement Metrics per Category"
   ]
  },
  {
   "cell_type": "code",
   "execution_count": 0,
   "metadata": {
    "application/vnd.databricks.v1+cell": {
     "cellMetadata": {
      "byteLimit": 2048000,
      "rowLimit": 10000
     },
     "inputWidgets": {},
     "nuid": "071654fc-1fea-4b1a-bb57-630b08805708",
     "showTitle": false,
     "tableResultSettingsMap": {},
     "title": ""
    }
   },
   "outputs": [],
   "source": [
    "# We have to find out which category has more engagement in which country."
   ]
  },
  {
   "cell_type": "code",
   "execution_count": 0,
   "metadata": {
    "application/vnd.databricks.v1+cell": {
     "cellMetadata": {
      "byteLimit": 2048000,
      "rowLimit": 10000
     },
     "inputWidgets": {},
     "nuid": "4a94abf3-940e-46c0-88e5-ee1be1443083",
     "showTitle": false,
     "tableResultSettingsMap": {},
     "title": ""
    }
   },
   "outputs": [
    {
     "output_type": "stream",
     "name": "stdout",
     "output_type": "stream",
     "text": [
      "+--------------------+------------------+------------------+------------------+\n|        categoryName|         avg_views|         avg_likes|      avg_comments|\n+--------------------+------------------+------------------+------------------+\n|              Gaming| 978299.8888888889|48705.666666666664| 4206.111111111111|\n|       Entertainment|2630582.4444444445|111615.77777777778|10010.944444444445|\n|Science & Technology|          590379.0|           23137.0|            1630.0|\n|              Sports|          679438.4|            9854.2|             874.6|\n|    Film & Animation|4140722.3333333335|132544.66666666666|           11176.0|\n|      People & Blogs|         353498.75|          20409.75|           1512.75|\n|               Music| 579402.7142857143| 57134.57142857143| 5456.571428571428|\n|              Comedy|          360781.0|           17293.0|            1164.0|\n+--------------------+------------------+------------------+------------------+\n\n"
     ]
    }
   ],
   "source": [
    "from pyspark.sql.functions import avg\n",
    "\n",
    "usa_avg = usa_df.groupBy(\"categoryName\").agg(\n",
    "    avg(\"viewCount\").alias(\"avg_views\"),\n",
    "    avg(\"likeCount\").alias(\"avg_likes\"),\n",
    "    avg(\"commentCount\").alias(\"avg_comments\")\n",
    ")\n",
    "usa_avg.show()\n"
   ]
  },
  {
   "cell_type": "code",
   "execution_count": 0,
   "metadata": {
    "application/vnd.databricks.v1+cell": {
     "cellMetadata": {
      "byteLimit": 2048000,
      "rowLimit": 10000
     },
     "inputWidgets": {},
     "nuid": "9107c556-d310-4c18-8923-ea6351148881",
     "showTitle": false,
     "tableResultSettingsMap": {},
     "title": ""
    }
   },
   "outputs": [
    {
     "output_type": "stream",
     "name": "stdout",
     "output_type": "stream",
     "text": [
      "+--------------------+------------------+---------+-----------------+\n|        categoryName|         avg_views|avg_likes|     avg_comments|\n+--------------------+------------------+---------+-----------------+\n|           Education|         2350017.0| 110810.0|           2945.0|\n|              Gaming|         3068021.0|  99307.0|           4220.5|\n|       Entertainment|2250641.6818181816|  55871.0|2834.409090909091|\n|Science & Technology|         2512134.0| 139321.5|           7832.0|\n|              Sports|         1133050.0|  15467.0|            262.0|\n|       Howto & Style|          536617.0|  11772.0|            991.0|\n|    Film & Animation|         4431647.0| 147836.0|           8572.0|\n|      People & Blogs|        1805826.75|75211.625|           2181.0|\n|               Music|       4535913.125|179635.75|        11024.875|\n|              Comedy|          805324.5|  22510.0|            438.5|\n+--------------------+------------------+---------+-----------------+\n\n"
     ]
    }
   ],
   "source": [
    "from pyspark.sql.functions import avg\n",
    "\n",
    "india_avg = india_df.groupBy(\"categoryName\").agg(\n",
    "    avg(\"viewCount\").alias(\"avg_views\"),\n",
    "    avg(\"likeCount\").alias(\"avg_likes\"),\n",
    "    avg(\"commentCount\").alias(\"avg_comments\")\n",
    ")\n",
    "india_avg.show()"
   ]
  },
  {
   "cell_type": "code",
   "execution_count": 0,
   "metadata": {
    "application/vnd.databricks.v1+cell": {
     "cellMetadata": {
      "byteLimit": 2048000,
      "rowLimit": 10000
     },
     "inputWidgets": {},
     "nuid": "29e4c955-fe07-4165-b3c2-c2e1da2c198b",
     "showTitle": false,
     "tableResultSettingsMap": {},
     "title": ""
    }
   },
   "outputs": [
    {
     "output_type": "stream",
     "name": "stdout",
     "output_type": "stream",
     "text": [
      "+--------------------+--------------------+-----------------+------------------+\n|        categoryName|           avg_views|        avg_likes|      avg_comments|\n+--------------------+--------------------+-----------------+------------------+\n|           Education|         2.7345187E7|         431517.5|             988.0|\n|              Gaming|        3.09292035E7|        1211572.5|           13611.5|\n|       Entertainment|1.4902018705882354E7|425525.4117647059|2111.6470588235293|\n|Science & Technology|         1.6002138E7|         129765.5|             231.5|\n|              Sports|        2.48394705E7|        793180.25|            6551.0|\n|    Film & Animation|           2852714.5|         270477.0|             208.5|\n|      People & Blogs|       1.739849525E7|        490016.75|            2883.5|\n|     News & Politics|            157293.5|           2209.5|             251.5|\n|    Autos & Vehicles|         1.0391809E7|         599792.0|            5383.0|\n|               Music|        2.98327185E7|       1159357.25|           74950.0|\n|              Comedy|           5375988.5|         392050.5|            1391.5|\n+--------------------+--------------------+-----------------+------------------+\n\n"
     ]
    }
   ],
   "source": [
    "from pyspark.sql.functions import avg\n",
    "\n",
    "singapore_avg = singapore_df.groupBy(\"categoryName\").agg(\n",
    "    avg(\"viewCount\").alias(\"avg_views\"),\n",
    "    avg(\"likeCount\").alias(\"avg_likes\"),\n",
    "    avg(\"commentCount\").alias(\"avg_comments\")\n",
    ")\n",
    "singapore_avg.show()"
   ]
  },
  {
   "cell_type": "markdown",
   "metadata": {
    "application/vnd.databricks.v1+cell": {
     "cellMetadata": {},
     "inputWidgets": {},
     "nuid": "d92d6430-bfc5-4846-8789-1605a98bb427",
     "showTitle": false,
     "tableResultSettingsMap": {},
     "title": ""
    }
   },
   "source": [
    "# Top Channels in Each Country"
   ]
  },
  {
   "cell_type": "code",
   "execution_count": 0,
   "metadata": {
    "application/vnd.databricks.v1+cell": {
     "cellMetadata": {
      "byteLimit": 2048000,
      "rowLimit": 10000
     },
     "inputWidgets": {},
     "nuid": "b1a655b9-8e92-459d-a180-8a1486807dfb",
     "showTitle": false,
     "tableResultSettingsMap": {},
     "title": ""
    }
   },
   "outputs": [
    {
     "output_type": "stream",
     "name": "stdout",
     "output_type": "stream",
     "text": [
      "+---------------+----------+\n|   channelTitle|totalViews|\n+---------------+----------+\n|    Mini Katana|  94520245|\n|    Ben Azelart|  84420253|\n|      BLACKPINK|  75930630|\n|     IShowSpeed|  61858407|\n|      BEN EAGLE|  61073614|\n|Let's Romantic |  53777618|\n|       Red Bull|  46427751|\n|     Nam Phương|  35077490|\n|     MaviGadget|  31441467|\n|   Eternal Love|  26856450|\n+---------------+----------+\nonly showing top 10 rows\n\n"
     ]
    }
   ],
   "source": [
    "singapore_df.groupBy(\"channelTitle\").agg(sum(\"viewCount\").alias(\"totalViews\")).orderBy(\"totalViews\", ascending=False).show(10)\n"
   ]
  },
  {
   "cell_type": "code",
   "execution_count": 0,
   "metadata": {
    "application/vnd.databricks.v1+cell": {
     "cellMetadata": {
      "byteLimit": 2048000,
      "rowLimit": 10000
     },
     "inputWidgets": {},
     "nuid": "62102e1d-8033-494a-abf3-685fa947bc22",
     "showTitle": false,
     "tableResultSettingsMap": {},
     "title": ""
    }
   },
   "outputs": [
    {
     "output_type": "stream",
     "name": "stdout",
     "output_type": "stream",
     "text": [
      "+--------------------+----------+\n|        channelTitle|totalViews|\n+--------------------+----------+\n|             Netflix|  14269445|\n|        Warner Bros.|   7245936|\n|      Call Her Daddy|   6892201|\n|              Disney|   6385779|\n|        EA SPORTS FC|   5607960|\n|               Pixar|   4591295|\n|         FX Networks|   4095561|\n|                 IGN|   3921003|\n|              Vsauce|   3100641|\n|The Late Show wit...|   2623291|\n+--------------------+----------+\nonly showing top 10 rows\n\n"
     ]
    }
   ],
   "source": [
    "usa_df.groupBy(\"channelTitle\").agg(sum(\"viewCount\").alias(\"totalViews\")).orderBy(\"totalViews\", ascending=False).show(10)\n"
   ]
  },
  {
   "cell_type": "code",
   "execution_count": 0,
   "metadata": {
    "application/vnd.databricks.v1+cell": {
     "cellMetadata": {
      "byteLimit": 2048000,
      "rowLimit": 10000
     },
     "inputWidgets": {},
     "nuid": "cfb808fb-8572-415b-8271-c88a0befb73b",
     "showTitle": false,
     "tableResultSettingsMap": {},
     "title": ""
    }
   },
   "outputs": [
    {
     "output_type": "stream",
     "name": "stdout",
     "output_type": "stream",
     "text": [
      "+--------------------+----------+\n|        channelTitle|totalViews|\n+--------------------+----------+\n|            T-Series|  34221562|\n|   Zee Music Company|  17185883|\n|             Netflix|  14269445|\n|  Sourav Joshi Vlogs|   9017936|\n|        Warner Bros.|   7245936|\n|    Vijay Television|   5838381|\n|   Think Music India|   4200400|\n|Free Fire India O...|   3811435|\n|            ETV Dhee|   3137692|\n|           Crazy XYZ|   2771269|\n+--------------------+----------+\nonly showing top 10 rows\n\n"
     ]
    }
   ],
   "source": [
    "india_df.groupBy(\"channelTitle\").agg(sum(\"viewCount\").alias(\"totalViews\")).orderBy(\"totalViews\", ascending=False).show(10)\n"
   ]
  },
  {
   "cell_type": "code",
   "execution_count": 0,
   "metadata": {
    "application/vnd.databricks.v1+cell": {
     "cellMetadata": {},
     "inputWidgets": {},
     "nuid": "95c2f21e-1bb5-4706-bdaa-9a2b0f25e572",
     "showTitle": false,
     "tableResultSettingsMap": {},
     "title": ""
    }
   },
   "outputs": [],
   "source": []
  },
  {
   "cell_type": "markdown",
   "metadata": {
    "application/vnd.databricks.v1+cell": {
     "cellMetadata": {},
     "inputWidgets": {},
     "nuid": "301f3840-1738-42af-ad1b-7d12098ed769",
     "showTitle": false,
     "tableResultSettingsMap": {},
     "title": ""
    }
   },
   "source": [
    "# Combine Insights"
   ]
  },
  {
   "cell_type": "code",
   "execution_count": 0,
   "metadata": {
    "application/vnd.databricks.v1+cell": {
     "cellMetadata": {
      "byteLimit": 2048000,
      "rowLimit": 10000
     },
     "inputWidgets": {},
     "nuid": "719add24-600e-407a-9cf1-78919f020437",
     "showTitle": false,
     "tableResultSettingsMap": {},
     "title": ""
    }
   },
   "outputs": [],
   "source": [
    "# category wise comparison for all countries in one table"
   ]
  },
  {
   "cell_type": "code",
   "execution_count": 0,
   "metadata": {
    "application/vnd.databricks.v1+cell": {
     "cellMetadata": {
      "byteLimit": 2048000,
      "rowLimit": 10000
     },
     "inputWidgets": {},
     "nuid": "022ce296-c639-4951-8100-27a5010c156a",
     "showTitle": false,
     "tableResultSettingsMap": {},
     "title": ""
    }
   },
   "outputs": [
    {
     "output_type": "stream",
     "name": "stdout",
     "output_type": "stream",
     "text": [
      "+--------------------+-----------+---------+---------------+\n|        categoryName|india_views|usa_views|singapore_views|\n+--------------------+-----------+---------+---------------+\n|    Autos & Vehicles|          0|        0|       10391809|\n|              Comedy|    1610649|   360781|       10751977|\n|           Education|    2350017|        0|       54690374|\n|       Entertainment|   49514117| 47350484|      253334318|\n|    Film & Animation|   13294941| 12422167|        5705429|\n|              Gaming|    6136042|  8804699|       61858407|\n|       Howto & Style|     536617|        0|              0|\n|               Music|   36287305|  4055819|      238661748|\n|     News & Politics|          0|        0|         314587|\n|      People & Blogs|   14446614|  1413995|      139187962|\n|Science & Technology|    5024268|  1771137|       32004276|\n|              Sports|    1133050|  3397192|       99357882|\n+--------------------+-----------+---------+---------------+\n\n"
     ]
    }
   ],
   "source": [
    "from pyspark.sql.functions import sum\n",
    "\n",
    "# Aggregate view count by category for each country\n",
    "india_cat = india_df.groupBy(\"categoryName\").agg(sum(\"viewCount\").alias(\"india_views\"))\n",
    "usa_cat = usa_df.groupBy(\"categoryName\").agg(sum(\"viewCount\").alias(\"usa_views\"))\n",
    "sing_cat = singapore_df.groupBy(\"categoryName\").agg(sum(\"viewCount\").alias(\"singapore_views\"))\n",
    "\n",
    "# Join all\n",
    "combined = india_cat.join(usa_cat, \"categoryName\", \"outer\").join(sing_cat, \"categoryName\", \"outer\").fillna(0)\n",
    "combined.show()\n"
   ]
  },
  {
   "cell_type": "markdown",
   "metadata": {
    "application/vnd.databricks.v1+cell": {
     "cellMetadata": {},
     "inputWidgets": {},
     "nuid": "1b06fe74-60e8-4ae7-b8f7-869af572a463",
     "showTitle": false,
     "tableResultSettingsMap": {},
     "title": ""
    }
   },
   "source": [
    "# Upload Frequency per Day (Digital Culture Insight)"
   ]
  },
  {
   "cell_type": "code",
   "execution_count": 0,
   "metadata": {
    "application/vnd.databricks.v1+cell": {
     "cellMetadata": {
      "byteLimit": 2048000,
      "rowLimit": 10000
     },
     "inputWidgets": {},
     "nuid": "b3a84bf5-0c83-491e-84b9-0b7be1daf609",
     "showTitle": false,
     "tableResultSettingsMap": {},
     "title": ""
    }
   },
   "outputs": [
    {
     "output_type": "stream",
     "name": "stdout",
     "output_type": "stream",
     "text": [
      "+-----------+-----+\n|upload_date|count|\n+-----------+-----+\n| 2025-07-14|    1|\n| 2025-07-15|    4|\n| 2025-07-16|   11|\n| 2025-07-17|   27|\n| 2025-07-18|    7|\n+-----------+-----+\n\n"
     ]
    }
   ],
   "source": [
    "from pyspark.sql.functions import to_date\n",
    "\n",
    "india_daily = india_df.withColumn(\"upload_date\", to_date(\"publishedDate\")) \\\n",
    "                      .groupBy(\"upload_date\").count().orderBy(\"upload_date\")\n",
    "\n",
    "india_daily.show()\n"
   ]
  },
  {
   "cell_type": "code",
   "execution_count": 0,
   "metadata": {
    "application/vnd.databricks.v1+cell": {
     "cellMetadata": {
      "byteLimit": 2048000,
      "rowLimit": 10000
     },
     "inputWidgets": {},
     "nuid": "8d30fc52-a59e-41e9-bb55-de6619741792",
     "showTitle": false,
     "tableResultSettingsMap": {},
     "title": ""
    }
   },
   "outputs": [
    {
     "output_type": "stream",
     "name": "stdout",
     "output_type": "stream",
     "text": [
      "+-----------+--------------------+---------------------------+-----------+\n|upload_date|categoryName        |channelTitle               |video_count|\n+-----------+--------------------+---------------------------+-----------+\n|2025-07-14 |Music               |T-Series                   |1          |\n|2025-07-15 |Music               |T-Series                   |1          |\n|2025-07-15 |Education           |Nischay Malhan             |1          |\n|2025-07-15 |Entertainment       |Zee Music Company          |1          |\n|2025-07-15 |Comedy              |Mic Set                    |1          |\n|2025-07-16 |Entertainment       |Thugesh                    |1          |\n|2025-07-16 |Science & Technology|Crazy XYZ                  |1          |\n|2025-07-16 |People & Blogs      |Wanderers Hub              |1          |\n|2025-07-16 |Gaming              |SlayyPop                   |1          |\n|2025-07-16 |Entertainment       |LOL (Life of Limbachiyaa’s)|1          |\n|2025-07-16 |Music               |T-Series Telugu            |1          |\n|2025-07-16 |Entertainment       |Netflix                    |1          |\n|2025-07-16 |Entertainment       |Hungry Birds               |1          |\n|2025-07-16 |Gaming              |Free Fire India Official   |1          |\n|2025-07-16 |Entertainment       |ETV Dhee                   |1          |\n|2025-07-16 |Sports              |Sony Sports Network        |1          |\n|2025-07-17 |Entertainment       |Vijay Television           |3          |\n|2025-07-17 |Howto & Style       |Steffi Ulagam              |1          |\n|2025-07-17 |People & Blogs      |Sushma Kiron               |1          |\n|2025-07-17 |Entertainment       |JFW - Just for Women       |1          |\n+-----------+--------------------+---------------------------+-----------+\nonly showing top 20 rows\n\n"
     ]
    }
   ],
   "source": [
    "from pyspark.sql.functions import to_date, count, col\n",
    "\n",
    "# Step 0: Add 'upload_date' to india_df\n",
    "india_df = india_df.withColumn(\"upload_date\", to_date(\"publishedDate\"))\n",
    "\n",
    "# Step 1: Group by upload_date, categoryName, channelTitle\n",
    "category_channel_daily_upload = india_df.groupBy(\n",
    "    \"upload_date\", \"categoryName\", \"channelTitle\"\n",
    ").agg(\n",
    "    count(\"*\").alias(\"video_count\")\n",
    ").orderBy(\"upload_date\", \"video_count\", ascending=[True, False])\n",
    "\n",
    "category_channel_daily_upload.show(truncate=False)\n",
    "\n"
   ]
  },
  {
   "cell_type": "code",
   "execution_count": 0,
   "metadata": {
    "application/vnd.databricks.v1+cell": {
     "cellMetadata": {},
     "inputWidgets": {},
     "nuid": "765f52d9-8a46-4dfc-9ffb-046a86c5a9dd",
     "showTitle": false,
     "tableResultSettingsMap": {},
     "title": ""
    }
   },
   "outputs": [],
   "source": []
  }
 ],
 "metadata": {
  "application/vnd.databricks.v1+notebook": {
   "computePreferences": null,
   "dashboards": [],
   "environmentMetadata": {
    "base_environment": "",
    "environment_version": "1"
   },
   "inputWidgetPreferences": null,
   "language": "python",
   "notebookMetadata": {
    "pythonIndentUnit": 4
   },
   "notebookName": "Combining Analysis of 3 Countries",
   "widgets": {}
  }
 },
 "nbformat": 4,
 "nbformat_minor": 0
}