{
 "cells": [
  {
   "cell_type": "code",
   "execution_count": 0,
   "metadata": {
    "application/vnd.databricks.v1+cell": {
     "cellMetadata": {
      "byteLimit": 2048000,
      "rowLimit": 10000
     },
     "inputWidgets": {},
     "nuid": "32ae22b2-129d-4c12-87dc-dcd702461314",
     "showTitle": false,
     "tableResultSettingsMap": {},
     "title": ""
    }
   },
   "outputs": [
    {
     "output_type": "display_data",
     "data": {
      "text/html": [
       "\n",
       "            <div>\n",
       "                <p><b>SparkSession - hive</b></p>\n",
       "                \n",
       "        <div>\n",
       "            <p><b>SparkContext</b></p>\n",
       "\n",
       "            <p><a href=\"/?o=2693056574163122#setting/sparkui/0802-125322-ud8ppufz/driver-2183822887553302789\">Spark UI</a></p>\n",
       "\n",
       "            <dl>\n",
       "              <dt>Version</dt>\n",
       "                <dd><code>v3.3.2</code></dd>\n",
       "              <dt>Master</dt>\n",
       "                <dd><code>local[8]</code></dd>\n",
       "              <dt>AppName</dt>\n",
       "                <dd><code>Databricks Shell</code></dd>\n",
       "            </dl>\n",
       "        </div>\n",
       "        \n",
       "            </div>\n",
       "        "
      ]
     },
     "metadata": {
      "application/vnd.databricks.v1+output": {
       "addedWidgets": {},
       "arguments": {},
       "data": "\n            <div>\n                <p><b>SparkSession - hive</b></p>\n                \n        <div>\n            <p><b>SparkContext</b></p>\n\n            <p><a href=\"/?o=2693056574163122#setting/sparkui/0802-125322-ud8ppufz/driver-2183822887553302789\">Spark UI</a></p>\n\n            <dl>\n              <dt>Version</dt>\n                <dd><code>v3.3.2</code></dd>\n              <dt>Master</dt>\n                <dd><code>local[8]</code></dd>\n              <dt>AppName</dt>\n                <dd><code>Databricks Shell</code></dd>\n            </dl>\n        </div>\n        \n            </div>\n        ",
       "datasetInfos": [],
       "metadata": {},
       "removedWidgets": [],
       "textData": null,
       "type": "htmlSandbox"
      }
     },
     "output_type": "display_data"
    }
   ],
   "source": [
    "from pyspark.sql import SparkSession\n",
    "\n",
    "spark = SparkSession.builder.appName(\"YouTube Trending Analysis\").getOrCreate()\n",
    "\n",
    "spark"
   ]
  },
  {
   "cell_type": "markdown",
   "metadata": {
    "application/vnd.databricks.v1+cell": {
     "cellMetadata": {
      "byteLimit": 2048000,
      "rowLimit": 10000
     },
     "inputWidgets": {},
     "nuid": "65f210ab-19c4-489c-96af-e8f5ecc91776",
     "showTitle": false,
     "tableResultSettingsMap": {},
     "title": ""
    }
   },
   "source": [
    "# WORKING ON  JSON FORMAT DATA"
   ]
  },
  {
   "cell_type": "code",
   "execution_count": 0,
   "metadata": {
    "application/vnd.databricks.v1+cell": {
     "cellMetadata": {
      "byteLimit": 2048000,
      "rowLimit": 10000
     },
     "inputWidgets": {},
     "nuid": "8f18068d-e610-42c7-a6b4-49ef5920bad7",
     "showTitle": false,
     "tableResultSettingsMap": {},
     "title": ""
    }
   },
   "outputs": [],
   "source": [
    "df1 = spark.read.format(\"json\").load(\"dbfs:/FileStore/shared_uploads/krath2928@gmail.com/trending_india.json\")\n",
    "df2 = spark.read.format(\"json\").load(\"dbfs:/FileStore/shared_uploads/krath2928@gmail.com/trending_singapore.json\")\n",
    "df3 = spark.read.format(\"json\").load(\"dbfs:/FileStore/shared_uploads/krath2928@gmail.com/trending_usa.json\")"
   ]
  },
  {
   "cell_type": "markdown",
   "metadata": {
    "application/vnd.databricks.v1+cell": {
     "cellMetadata": {
      "byteLimit": 2048000,
      "rowLimit": 10000
     },
     "inputWidgets": {},
     "nuid": "ff0b7c13-13b7-4125-a666-94fcda7ff6aa",
     "showTitle": false,
     "tableResultSettingsMap": {},
     "title": ""
    }
   },
   "source": [
    "# Analysis on India Data Set"
   ]
  },
  {
   "cell_type": "code",
   "execution_count": 0,
   "metadata": {
    "application/vnd.databricks.v1+cell": {
     "cellMetadata": {
      "byteLimit": 2048000,
      "rowLimit": 10000
     },
     "inputWidgets": {},
     "nuid": "10507f2e-63c5-4bdc-8333-8c6c79234602",
     "showTitle": false,
     "tableResultSettingsMap": {},
     "title": ""
    }
   },
   "outputs": [
    {
     "output_type": "stream",
     "name": "stdout",
     "output_type": "stream",
     "text": [
      "root\n |-- contentDetails: struct (nullable = true)\n |    |-- caption: string (nullable = true)\n |    |-- definition: string (nullable = true)\n |    |-- dimension: string (nullable = true)\n |    |-- duration: string (nullable = true)\n |    |-- licensedContent: boolean (nullable = true)\n |    |-- projection: string (nullable = true)\n |    |-- regionRestriction: struct (nullable = true)\n |    |    |-- allowed: array (nullable = true)\n |    |    |    |-- element: string (containsNull = true)\n |-- etag: string (nullable = true)\n |-- id: string (nullable = true)\n |-- kind: string (nullable = true)\n |-- snippet: struct (nullable = true)\n |    |-- categoryId: string (nullable = true)\n |    |-- channelId: string (nullable = true)\n |    |-- channelTitle: string (nullable = true)\n |    |-- defaultAudioLanguage: string (nullable = true)\n |    |-- defaultLanguage: string (nullable = true)\n |    |-- description: string (nullable = true)\n |    |-- liveBroadcastContent: string (nullable = true)\n |    |-- localized: struct (nullable = true)\n |    |    |-- description: string (nullable = true)\n |    |    |-- title: string (nullable = true)\n |    |-- publishedAt: string (nullable = true)\n |    |-- tags: array (nullable = true)\n |    |    |-- element: string (containsNull = true)\n |    |-- thumbnails: struct (nullable = true)\n |    |    |-- default: struct (nullable = true)\n |    |    |    |-- height: long (nullable = true)\n |    |    |    |-- url: string (nullable = true)\n |    |    |    |-- width: long (nullable = true)\n |    |    |-- high: struct (nullable = true)\n |    |    |    |-- height: long (nullable = true)\n |    |    |    |-- url: string (nullable = true)\n |    |    |    |-- width: long (nullable = true)\n |    |    |-- maxres: struct (nullable = true)\n |    |    |    |-- height: long (nullable = true)\n |    |    |    |-- url: string (nullable = true)\n |    |    |    |-- width: long (nullable = true)\n |    |    |-- medium: struct (nullable = true)\n |    |    |    |-- height: long (nullable = true)\n |    |    |    |-- url: string (nullable = true)\n |    |    |    |-- width: long (nullable = true)\n |    |    |-- standard: struct (nullable = true)\n |    |    |    |-- height: long (nullable = true)\n |    |    |    |-- url: string (nullable = true)\n |    |    |    |-- width: long (nullable = true)\n |    |-- title: string (nullable = true)\n |-- statistics: struct (nullable = true)\n |    |-- commentCount: string (nullable = true)\n |    |-- favoriteCount: string (nullable = true)\n |    |-- likeCount: string (nullable = true)\n |    |-- viewCount: string (nullable = true)\n\n"
     ]
    }
   ],
   "source": [
    "# Load JSON (multiline must be true for nested JSON objects)\n",
    "df = spark.read.option(\"multiline\", \"true\").json(\"dbfs:/FileStore/shared_uploads/krath2928@gmail.com/trending_india.json\")\n",
    "\n",
    "# Show schema to understand structure\n",
    "df.printSchema()\n"
   ]
  },
  {
   "cell_type": "code",
   "execution_count": 0,
   "metadata": {
    "application/vnd.databricks.v1+cell": {
     "cellMetadata": {
      "byteLimit": 2048000,
      "rowLimit": 10000
     },
     "inputWidgets": {},
     "nuid": "ca151225-5e52-467b-92b9-f5e97a488411",
     "showTitle": false,
     "tableResultSettingsMap": {},
     "title": ""
    }
   },
   "outputs": [
    {
     "output_type": "stream",
     "name": "stdout",
     "output_type": "stream",
     "text": [
      "+-----------+--------------------+------------------------+------------------------+----------------------------------------------------------------------------------------------------+---------------------------------------------------------------------------------------------------------------------------------------------------------------------------------------------------------------------------------------------------------------------------------------------------------------------------------------------------------------------------------------------------------------------------------------------------------------------------------------------------------------------------------------------------------------------------------------------------------------------------------------------------------------------------------------------------------------------------------------------------------------------------------------------------------------------------------------------------------------------------------------------------------------------------------------------------------------------------------------------------------------------------------------------------------------------------------------------------------------------------------------------------------------------------------------------------------------------------------------------------------------------------------------------------------------------------------------------------------------------------------------------------------------------------------------------------------------------------------------------------------------------------------------------------------------------------------------------------------------------------------------------------------------------------------------------------------------------------------------------------------------------------------------------------------------------------------------------------------------------------------------------------------------------------------------------------------------------------------------------------------------------------------------------------------------------------------------------------------------------------------------------------------------------------------------------------------------------------------------------------------------------------------------------------------------------------------------------------------------------------------------------------------------------------------------------------------------------------------------------------------------------------------------------------------------------------------------------------------------------------------------------------------------------------------------------------------------------------------------------------------------------------------------------------------------------------------------------------------------------------------------------------------------------------------------------------------------------------------------------------------------------------------------------------------------------------------------------------------------------------------------------------------------------------------------------------------------------------------------------------------------------------------------------------------------------------------------------------------------------------------------------------------------------------------------------------------------------------------------------------------------------------------------------------------------------------------------------------------------------------------------------------------------------------------------------------------------------------------------------------------------------------------------------------------------------------------------------------------------------------------------------------------------------------------------------------------------------------------------------------------------------------------------------------------------------------------------------------------------------------------------------------------------------------------------------------------------------------------------------------------------------------------------------------------------------------------------------------------------------------------------------------------------------------------------------------------------------------------------------------------------------------------------------------------------------------------------------------------------------------------------------------------------------------------------------------------------------------------------------------------------------------------------------------------------------------------------------------------------------------------------------------+----------+---------------------------------------------------------------------------------------------------------------------------------------------------------------------------------------------------------------------------------------------------------------------------------------------------------------------------------------------------------------------------------------------------------------------------------------------------------------------------------------------------+---------------+--------------------+---------+---------+------------+----------+-------+\n|id         |publishedAt         |channelId               |channelTitle            |title                                                                                               |description                                                                                                                                                                                                                                                                                                                                                                                                                                                                                                                                                                                                                                                                                                                                                                                                                                                                                                                                                                                                                                                                                                                                                                                                                                                                                                                                                                                                                                                                                                                                                                                                                                                                                                                                                                                                                                                                                                                                                                                                                                                                                                                                                                                                                                                                                                                                                                                                                                                                                                                                                                                                                                                                                                                                                                                                                                                                                                                                                                                                                                                                                                                                                                                                                                                                                                                                                                                                                                                                                                                                                                                                                                                                                                                                                                                                                                                                                                                                                                                                                                                                                                                                                                                                                                                                                                                                                                                                                                                                                                                                                                                                                                                                                                                                                                                                                                                                                        |categoryId|tags                                                                                                                                                                                                                                                                                                                                                                                                                                                                                               |defaultLanguage|defaultAudioLanguage|viewCount|likeCount|commentCount|duration  |caption|\n+-----------+--------------------+------------------------+------------------------+----------------------------------------------------------------------------------------------------+---------------------------------------------------------------------------------------------------------------------------------------------------------------------------------------------------------------------------------------------------------------------------------------------------------------------------------------------------------------------------------------------------------------------------------------------------------------------------------------------------------------------------------------------------------------------------------------------------------------------------------------------------------------------------------------------------------------------------------------------------------------------------------------------------------------------------------------------------------------------------------------------------------------------------------------------------------------------------------------------------------------------------------------------------------------------------------------------------------------------------------------------------------------------------------------------------------------------------------------------------------------------------------------------------------------------------------------------------------------------------------------------------------------------------------------------------------------------------------------------------------------------------------------------------------------------------------------------------------------------------------------------------------------------------------------------------------------------------------------------------------------------------------------------------------------------------------------------------------------------------------------------------------------------------------------------------------------------------------------------------------------------------------------------------------------------------------------------------------------------------------------------------------------------------------------------------------------------------------------------------------------------------------------------------------------------------------------------------------------------------------------------------------------------------------------------------------------------------------------------------------------------------------------------------------------------------------------------------------------------------------------------------------------------------------------------------------------------------------------------------------------------------------------------------------------------------------------------------------------------------------------------------------------------------------------------------------------------------------------------------------------------------------------------------------------------------------------------------------------------------------------------------------------------------------------------------------------------------------------------------------------------------------------------------------------------------------------------------------------------------------------------------------------------------------------------------------------------------------------------------------------------------------------------------------------------------------------------------------------------------------------------------------------------------------------------------------------------------------------------------------------------------------------------------------------------------------------------------------------------------------------------------------------------------------------------------------------------------------------------------------------------------------------------------------------------------------------------------------------------------------------------------------------------------------------------------------------------------------------------------------------------------------------------------------------------------------------------------------------------------------------------------------------------------------------------------------------------------------------------------------------------------------------------------------------------------------------------------------------------------------------------------------------------------------------------------------------------------------------------------------------------------------------------------------------------------------------------------------------------------------------------------+----------+---------------------------------------------------------------------------------------------------------------------------------------------------------------------------------------------------------------------------------------------------------------------------------------------------------------------------------------------------------------------------------------------------------------------------------------------------------------------------------------------------+---------------+--------------------+---------+---------+------------+----------+-------+\n|nyURE5vmj2I|2025-07-17T11:30:04Z|UCLbdVvreihwZRL6kwuEUYsA|Think Music India       |Thalaivan Thalaivii - Trailer | Vijay Sethupathi, Nithya Menen | Pandiraaj | Santhosh Narayanan     |Here's the Official Trailer of \"Thalaivan Thalaivii\", Starring Makkal Selvan Vijay Sethupathi, Nithya Menen, Yogi Babu & Others Music by Santhosh Narayanan, Written & Directed by Pandiraaj.\\n\\nMovie Credits :\\n\\nCast : Makkal Selvan Vijay Sethupathi, Nithya Menen, Yogi Babu\\nWritten & Directed by Pandiraaj\\nProduced by Sathya Jyothi Films, TG Thyagarajan Presents\\nProducers : Sendhil Thyagarajan & Arjun Thyagarajan\\nCo-Produced by G. Saravanan & Sai Siddharth\\nMusic : Santhosh Narayanan\\nDirector of Photography : M. Sukumar\\nArt Director : K. Veerasamar\\nEditor : Pradeep E Ragav\\nStunt Master : Kalai Kingson\\nChoreography : Baba Bhaskar\\nLyrics : Vivek, Karthi Netha\\nCostume Designer : Poornima Ramaswamy\\nCostume : K. Nataraj\\nAudiography : M.R. Rajakrishnan\\nSound Design : Arun S Mani (Oli Lab)\\nMusic Supervisor : Santhosh Kumar\\nVFX Producer :  B.R. Venkatesh\\nDI : Prasath Somasekar (Knack Studios)\\nStills : Theni Murugan\\nPublicity Designer : Gopi Prasannaa\\nPRO : Nikil Murukan\\nProduction Controller : Ramadoss & N. Mahendran\\nSubtitles : Rekhs\\nVideo Animation : ADFX Studio\\n\\nAudio Label : Think Music\\n\\n© 2025 SPI Music Pvt. Ltd.\\n\\nFor All Latest Updates:\\nWebsite: https://thinkmusic.in/\\nSubscribe to us on: http://www.youtube.com/thinkmusicindia\\nFollow us on: https://twitter.com/thinkmusicindia\\nLike us on: https://www.facebook.com/Thinkmusicofficial\\nFollow us on: https://www.instagram.com/thinkmusicofficial\\n\\n#ThalaivanThalaivii  #VijaySethupathi #NithyaMenen #SanthoshNarayanan #Pandiraaj #YogiBabu #SathyaJyothiFilms #ThalaivanThalaiviiTrailer                                                                                                                                                                                                                                                                                                                                                                                                                                                                                                                                                                                                                                                                                                                                                                                                                                                                                                                                                                                                                                                                                                                                                                                                                                                                                                                                                                                                                                                                                                                                                                                                                                                                                                                                                                                                                                                                                                                                                                                                                                                                                                                                                                                                                                                                                                                                                                                                                                                                                                                                                                                                                                                                                                                                                                                                                                                                                                                                                                                                                                                                                                                                                                                                                                                      |1         |[thalaivan thalaivii, vijay sethupathi, nithya menen, pandiraaj, santhosh narayanan, thalaivan thalaivii trailer, vijay sethupathy, nithya menon, vijay sethupathy thalaivan thalaivii trailer, thalaivan thalaivi, thalaivan thalaivi trailer, thalaivan thalaivii tamil movie, thalaivan thalaivii movie tamil, thalaivan thalaivi movie, thalaivan thalaivi tamil movie, vijay sethupathy new movie, thalaivan thalaivi movie tamil, latest tamil movies 2025, tamil movies 2025, tamil movies] |en             |ta                  |4200400  |139778   |2773        |PT2M47S   |true   |\n|tQtJzzCOiys|2025-07-17T18:31:12Z|UC3ar28GS6o1p0m_wabfk2zw|Pen Movies              |Romeo S3 - Full Movie | Palak Tiwari, Thakur Anoop Singh | Pen Movies | New Hindi Movie 2025        |Romeo S3, directed by Guddu Dhanoa and produced by Pen Studios and Wild River Pictures, is an adrenaline-fueled Hindi action thriller set in the underworld of Goa.\\nThakur Anoop Singh stars as DCP Sangram Singh Shekhawat, a fearless cop who goes undercover to dismantle a dangerous drug cartel while uncovering a sinister virus-linked conspiracy.\\nOpposing him is Palak Tiwari’s investigative journalist, Tanu, whose dogged pursuit of truth pulls her into Sangram’s high-stakes mission.\\nPacked with explosive fight scenes, high-speed chases, and larger-than-life stunts, the film delivers classic masala action in a bold, cinematic.\\nWhile praised for its sheer energy and punchy performances, critics note the storyline sometimes leans on predictable tropes and formulaic twists.\\n\\nEnjoy Super Hit Movies Collection:- \\nAcharya - https://youtu.be/MZGKv-UqD4c\\nJaya Janaki Nayaka KHOONKHAR - https://youtu.be/1lFk1LSsI_c \\nSHER KA SHIKAAR - https://youtu.be/FE435iFT6jw \\nTholi Prema -  https://youtu.be/J4nBcaYMuI4\\nEntertainment- https://youtu.be/LXXkiUKDK4w            \\n\\n\\nFor your favourite Bollywood Movies, subscribe now: \\nhttp://bit.ly/2VXistY\\n\\nSUBSCRIBE for the best Bollywood clips, movies and scenes all in your PEN Multiplex channel \\nhttp://bit.ly/2QxELp3\\n\\nFor your favorite Gujarati Movies, Subscribe now: http://bit.ly/2VZm9Q6\\n\\nFor Action-Packed Movies, Click on the below link now...\\nPen Action: http://bit.ly/2XaSS6t\\n\\n\\nEnjoy & stay connected with us! \\nLike us on Facebook: https://www.facebook.com/PenMovies\\nFollow us on Twitter: https://twitter.com/penmovies\\nFollow us on Instagram: https://www.instagram.com/penmovies 👉 Log On To Our Official Website : https://penstudios.in/                                                                                                                                                                                                                                                                                                                                                                                                                                                                                                                                                                                                                                                                                                                                                                                                                                                                                                                                                                                                                                                                                                                                                                                                                                       \n\n*** WARNING: max output size exceeded, skipping output. ***\n\n/tseriesmusic\\n👉 Follow us on X: https://twitter.com/tseries\\n👉 Follow us on Instagram: https://instagram.com/tseries.official                                                                                                                                                                                                                                                                                                                                                                                                                                                                                                                                                                                                                                                                                                                                                                                                                                                                                                                                                                                                                                                                                                                                                                                                                                                                                                                                                                                                                                                                                                                                                                                                                                                                                                                                                                                                                                                                                                                                                                                                                                                                                                                                                                                                                                                                                                                                                                                                                                            |10        |[hindi songs 2025, hindi songs new, bollywood songs 2025, tseries, tseries songs, 6 am full song, 6 am full video song, yo yo honey singh 6 am song, honey singh new song, 6 am full song video, 6 am honey singh song video, 6 am video song, honey singh 6 am rap, yo yo honey singh 6 am video, honey singh 6 am song, 6 am rap honey singh, yo yo honey singh 6 am, honey singh 6 am, yo yo honey singh 6am song, honey singh 6 am full song, yo yo honey singh songs, 6 am, honey singh]      |null           |hi                  |14334248 |531193   |33356       |PT3M44S   |false  |\n|CvvAUixGjvk|2025-07-16T14:07:58Z|UCTLZ1jlmY-VogpQXng48iKQ|Hungry Birds            |Last to Leave in The Bedroom Challenge 🛏️                                                          |Who will survive the chaos and be the last to leave?  Let the madness begin!\\n\\nPlease guys show your love and support and do subscribe to our new channel. The new video is live. \\nNew Video (Hungry Birds Inside) Link =  https://youtu.be/HMpssaJOVD0\\n\\nFor the Latest Updates on Our Life Please Follow Us On Instagram: \\n https://insta.openinapp.co/x14wy\\n\\nFacebook: https://fb.openinapp.co/igi1s\\n\\nCast= Sanket, Umesh,Priti, Akshada\\n\\n#hungrybirdsnewvideo #hungrybirdschallenge #lasttoleavechallenge                                                                                                                                                                                                                                                                                                                                                                                                                                                                                                                                                                                                                                                                                                                                                                                                                                                                                                                                                                                                                                                                                                                                                                                                                                                                                                                                                                                                                                                                                                                                                                                                                                                                                                                                                                                                                                                                                                                                                                                                                                                                                                                                                                                                                                                                                                                                                                                                                                                                                                                                                                                                                                                                                                                                                                                                                                                                                                                                                                                                                                                                                                                                                                                                                                                                                                                                                                                                                                                                                                                                                                                                                                                                                                                                                                                                                                                                                                                                                                                                                                                                                                                                                                                                                                                                                                                                                                            |24        |[hungry birds, hungry birds new video, hungry birds new challenge, hungry birds new challenge video, challenge video, last to leave, last to leave in bedroom, bedroom challenge, hungry birds new challenge 24 hours, 24 hours challenge video, funny video, funny challenge video, trending video, viral video on youtube, viral youtube video, viral challenge video, youtube videos, short challenges, funny videos, trendingchallenge, last to leave wins, hugry birds new challenge video]   |null           |hi                  |916734   |8581     |637         |PT12M42S  |false  |\n|pnKsuTVC1WY|2025-07-17T00:55:03Z|UC3YaDnARRUu8wp_wPx7a1bA|Telly MEK               |Mannat NEW PROMO Puneet Ne Uchala Mannat Pe Kichad Apni Beti Ka Saath Dene Khada Hua Gagan          |Video Credit  - JIOHOTSTAR\\n\\nTelly MEK is your one stop destination for all the insights into the Television and OTT Industry. We brings you all the daily updates on the Indian Television Shows like The Kapil Sharma Show, Sharktank India ,Dharampatni , Udaariyaan, Masterchef India and many more..\\nSubscribe to our channel or MISS the latest Update!\\n\\nFor Business Inquiry Get In Touch\\nTurningredmedia@gmail.com\\n\\nFOLLOW US ON SOCIAL\\nhttps://www.instagram.com/telllyalert/                                                                                                                                                                                                                                                                                                                                                                                                                                                                                                                                                                                                                                                                                                                                                                                                                                                                                                                                                                                                                                                                                                                                                                                                                                                                                                                                                                                                                                                                                                                                                                                                                                                                                                                                                                                                                                                                                                                                                                                                                                                                                                                                                                                                                                                                                                                                                                                                                                                                                                                                                                                                                                                                                                                                                                                                                                                                                                                                                                                                                                                                                                                                                                                                                                                                                                                                                                                                                                                                                                                                                                                                                                                                                                                                                                                                                                                                                                                                                                                                                                                                                                                                                                                                                                                                                                                                                                                                     |22        |[mannat new promo, mannat promo, mannat, mannat 1st promo, mannat promo colors tv, mannat serial new promo, mannat serial promo colors tv, mannat today full episode, mannat serial, meri jannat tu meri mannat tu, mannat har khushi paane ki, mannat song, meri mannat tu, mannat promo today, mannat serial promo, mannat promo update, mannat 1 episode, mannat new promo today, colors tv mannat promo, mannat new serial, mannat ayesha singh, mannat today episode, mannat tour]            |null           |null                |452979   |3725     |97          |PT1M27S   |false  |\n|DLtLWLY8uN4|2025-07-16T04:25:00Z|UC4AB0_ectRryjCF_ugD0U8w|Free Fire India Official|Free Fire MAX Stories | Making of a Hero Ft.  @DesiGamers_   | Full Video                           |Heroes aren’t born, they’re made through grit, grind, and relentless effort 🔥\\n\\nIn this full edition of Free Fire MAX Stories, @DesiGamers_  opens up like never before, sharing the highs, the lows, and the journey that turned him into a hero for millions 😎\\n\\nFollow us on -  \\nInstagram: https://www.instagram.com/freefireindiaofficial/\\nFacebook:  https://www.facebook.com/freefireIND\\n\\n#FreeFireMAX #Booyah                                                                                                                                                                                                                                                                                                                                                                                                                                                                                                                                                                                                                                                                                                                                                                                                                                                                                                                                                                                                                                                                                                                                                                                                                                                                                                                                                                                                                                                                                                                                                                                                                                                                                                                                                                                                                                                                                                                                                                                                                                                                                                                                                                                                                                                                                                                                                                                                                                                                                                                                                                                                                                                                                                                                                                                                                                                                                                                                                                                                                                                                                                                                                                                                                                                                                                                                                                                                                                                                                                                                                                                                                                                                                                                                                                                                                                                                                                                                                                                                                                                                                                                                                                                                                                                                                                                                                                                                                                                                      |20        |null                                                                                                                                                                                                                                                                                                                                                                                                                                                                                               |null           |en                  |3811435  |124167   |6181        |PT8M43S   |false  |\n+-----------+--------------------+------------------------+------------------------+----------------------------------------------------------------------------------------------------+---------------------------------------------------------------------------------------------------------------------------------------------------------------------------------------------------------------------------------------------------------------------------------------------------------------------------------------------------------------------------------------------------------------------------------------------------------------------------------------------------------------------------------------------------------------------------------------------------------------------------------------------------------------------------------------------------------------------------------------------------------------------------------------------------------------------------------------------------------------------------------------------------------------------------------------------------------------------------------------------------------------------------------------------------------------------------------------------------------------------------------------------------------------------------------------------------------------------------------------------------------------------------------------------------------------------------------------------------------------------------------------------------------------------------------------------------------------------------------------------------------------------------------------------------------------------------------------------------------------------------------------------------------------------------------------------------------------------------------------------------------------------------------------------------------------------------------------------------------------------------------------------------------------------------------------------------------------------------------------------------------------------------------------------------------------------------------------------------------------------------------------------------------------------------------------------------------------------------------------------------------------------------------------------------------------------------------------------------------------------------------------------------------------------------------------------------------------------------------------------------------------------------------------------------------------------------------------------------------------------------------------------------------------------------------------------------------------------------------------------------------------------------------------------------------------------------------------------------------------------------------------------------------------------------------------------------------------------------------------------------------------------------------------------------------------------------------------------------------------------------------------------------------------------------------------------------------------------------------------------------------------------------------------------------------------------------------------------------------------------------------------------------------------------------------------------------------------------------------------------------------------------------------------------------------------------------------------------------------------------------------------------------------------------------------------------------------------------------------------------------------------------------------------------------------------------------------------------------------------------------------------------------------------------------------------------------------------------------------------------------------------------------------------------------------------------------------------------------------------------------------------------------------------------------------------------------------------------------------------------------------------------------------------------------------------------------------------------------------------------------------------------------------------------------------------------------------------------------------------------------------------------------------------------------------------------------------------------------------------------------------------------------------------------------------------------------------------------------------------------------------------------------------------------------------------------------------------------------------------------------------------------------+----------+---------------------------------------------------------------------------------------------------------------------------------------------------------------------------------------------------------------------------------------------------------------------------------------------------------------------------------------------------------------------------------------------------------------------------------------------------------------------------------------------------+---------------+--------------------+---------+---------+------------+----------+-------+\nonly showing top 20 rows\n\n"
     ]
    }
   ],
   "source": [
    "from pyspark.sql.functions import col\n",
    "\n",
    "selected_df = df.select(\n",
    "    \"id\",\n",
    "    \"snippet.publishedAt\",\n",
    "    \"snippet.channelId\",\n",
    "    \"snippet.channelTitle\",\n",
    "    \"snippet.title\",\n",
    "    \"snippet.description\",\n",
    "    \"snippet.categoryId\",\n",
    "    \"snippet.tags\",\n",
    "    \"snippet.defaultLanguage\",\n",
    "    \"snippet.defaultAudioLanguage\",\n",
    "    \"statistics.viewCount\",\n",
    "    \"statistics.likeCount\",\n",
    "    \"statistics.commentCount\",\n",
    "    \"contentDetails.duration\",\n",
    "    \"contentDetails.caption\"\n",
    ")\n",
    "\n",
    "selected_df.show(truncate=False)\n"
   ]
  },
  {
   "cell_type": "code",
   "execution_count": 0,
   "metadata": {
    "application/vnd.databricks.v1+cell": {
     "cellMetadata": {
      "byteLimit": 2048000,
      "rowLimit": 10000
     },
     "inputWidgets": {},
     "nuid": "892bb121-cb2c-4833-af81-1e27e7d2b6f3",
     "showTitle": false,
     "tableResultSettingsMap": {},
     "title": ""
    }
   },
   "outputs": [],
   "source": [
    "from pyspark.sql.functions import col\n",
    "\n",
    "casted_df = selected_df.withColumn(\"viewCount\", col(\"viewCount\").cast(\"int\")) \\\n",
    "                       .withColumn(\"likeCount\", col(\"likeCount\").cast(\"int\")) \\\n",
    "                       .withColumn(\"commentCount\", col(\"commentCount\").cast(\"int\"))\n"
   ]
  },
  {
   "cell_type": "code",
   "execution_count": 0,
   "metadata": {
    "application/vnd.databricks.v1+cell": {
     "cellMetadata": {
      "byteLimit": 2048000,
      "rowLimit": 10000
     },
     "inputWidgets": {},
     "nuid": "997eb25c-60ad-4b36-a77e-48c84776b109",
     "showTitle": false,
     "tableResultSettingsMap": {},
     "title": ""
    }
   },
   "outputs": [
    {
     "output_type": "stream",
     "name": "stdout",
     "output_type": "stream",
     "text": [
      "root\n |-- id: string (nullable = true)\n |-- publishedAt: string (nullable = true)\n |-- channelId: string (nullable = true)\n |-- channelTitle: string (nullable = true)\n |-- title: string (nullable = true)\n |-- description: string (nullable = true)\n |-- categoryId: string (nullable = true)\n |-- tags: array (nullable = true)\n |    |-- element: string (containsNull = true)\n |-- defaultLanguage: string (nullable = true)\n |-- defaultAudioLanguage: string (nullable = true)\n |-- viewCount: integer (nullable = true)\n |-- likeCount: integer (nullable = true)\n |-- commentCount: integer (nullable = true)\n |-- duration: string (nullable = true)\n |-- caption: string (nullable = true)\n\n"
     ]
    }
   ],
   "source": [
    "casted_df.printSchema()"
   ]
  },
  {
   "cell_type": "code",
   "execution_count": 0,
   "metadata": {
    "application/vnd.databricks.v1+cell": {
     "cellMetadata": {
      "byteLimit": 2048000,
      "rowLimit": 10000
     },
     "inputWidgets": {},
     "nuid": "ccc1a3bc-c7b4-4d5a-990c-5b1f7a8ee121",
     "showTitle": false,
     "tableResultSettingsMap": {},
     "title": ""
    }
   },
   "outputs": [
    {
     "output_type": "stream",
     "name": "stdout",
     "output_type": "stream",
     "text": [
      "-RECORD 0----------------------------------------------------------------------------------------------------------------------------------------------------------------------------------------------------------------------------------------------------------------------------------------------------------------------------------------------------------------------------------------------------------------------------------------------------------------------------------------------------------------------------------------------------------------------------------------------------------------------------------------------------------------------------------------------------------------------------------------------------------------------------------------------------------------------------------------------------------------------------------------------------------------------------------------------------------------------------------------------------------------------------------------------------------------------------------------------------------------------------------------------------------------------------------------------------------------------------------------------------------------------------------------------------------------------------------------------------------------------------------------------------------------------------------------------------------------------------------------------------------------------------------------------------------------------------------------------------------------------------------------------------------------------------------------------------------------------------------------------------------------------------------------\n viewCount    | 4200400                                                                                                                                                                                                                                                                                                                                                                                                                                                                                                                                                                                                                                                                                                                                                                                                                                                                                                                                                                                                                                                                                                                                                                                                                                                                                                                                                                                                                                                                                                                                                                                                                                                                                                                                                                          \n likeCount    | 139778                                                                                                                                                                                                                                                                                                                                                                                                                                                                                                                                                                                                                                                                                                                                                                                                                                                                                                                                                                                                                                                                                                                                                                                                                                                                                                                                                                                                                                                                                                                                                                                                                                                                                                                                                                           \n commentCount | 2773                                                                                                                                                                                                                                                                                                                                                                                                                                                                                                                                                                                                                                                                                                                                                                                                                                                                                                                                                                                                                                                                                                                                                                                                                                                                                                                                                                                                                                                                                                                                                                                                                                                                                                                                                                             \n duration     | PT2M47S                                                                                                                                                                                                                                                                                                                                                                                                                                                                                                                                                                                                                                                                                                                                                                                                                                                                                                                                                                                                                                                                                                                                                                                                                                                                                                                                                                                                                                                                                                                                                                                                                                                                                                                                                                          \n publishedAt  | 2025-07-17T11:30:04Z                                                                                                                                                                                                                                                                                                                                                                                                                                                                                                                                                                                                                                                                                                                                                                                                                                                                                                                                                                                                                                                                                                                                                                                                                                                                                                                                                                                                                                                                                                                                                                                                                                                                                                                                                             \n channelTitle | Think Music India                                                                                                                                                                                                                                                                                                                                                                                                                                                                                                                                                                                                                                                                                                                                                                                                                                                                                                                                                                                                                                                                                                                                                                                                                                                                                                                                                                                                                                                                                                                                                                                                                                                                                                                                                                \n title        | Thalaivan Thalaivii - Trailer | Vijay Sethupathi, Nithya Menen | Pandiraaj | Santhosh Narayanan                                                                                                                                                                                                                                                                                                                                                                                                                                                                                                                                                                                                                                                                                                                                                                                                                                                                                                                                                                                                                                                                                                                                                                                                                                                                                                                                                                                                                                                                                                                                                                                                                                                                                  \n categoryId   | 1                                                                                                                                                                                                                                                                                                                                                                                                                                                                                                                                                                                                                                                                                                                                                                                                                                                                                                                                                                                                                                                                                                                                                                                                                                                                                                                                                                                                                                                                                                                                                                                                                                                                                                                                                                                \n description  | Here's the Official Trailer of \"Thalaivan Thalaivii\", Starring Makkal Selvan Vijay Sethupathi, Nithya Menen, Yogi Babu & Others Music by Santhosh Narayanan, Written & Directed by Pandiraaj.\\n\\nMovie Credits :\\n\\nCast : Makkal Selvan Vijay Sethupathi, Nithya Menen, Yogi Babu\\nWritten & Directed by Pandiraaj\\nProduced by Sathya Jyothi Films, TG Thyagarajan Presents\\nProducers : Sendhil Thyagarajan & Arjun Thyagarajan\\nCo-Produced by G. Saravanan & Sai Siddharth\\nMusic : Santhosh Narayanan\\nDirector of Photography : M. Sukumar\\nArt Director : K. Veerasamar\\nEditor : Pradeep E Ragav\\nStunt Master : Kalai Kingson\\nChoreography : Baba Bhaskar\\nLyrics : Vivek, Karthi Netha\\nCostume Designer : Poornima Ramaswamy\\nCostume : K. Nataraj\\nAudiography : M.R. Rajakrishnan\\nSound Design : Arun S Mani (Oli Lab)\\nMusic Supervisor : Santhosh Kumar\\nVFX Producer :  B.R. Venkatesh\\nDI : Prasath Somasekar (Knack Studios)\\nStills : Theni Murugan\\nPublicity Designer : Gopi Prasannaa\\nPRO : Nikil Murukan\\nProduction Controller : Ramadoss & N. Mahendran\\nSubtitles : Rekhs\\nVideo Animation : ADFX Studio\\n\\nAudio Label : Think Music\\n\\n© 2025 SPI Music Pvt. Ltd.\\n\\nFor All Latest Updates:\\nWebsite: https://thinkmusic.in/\\nSubscribe to us on: http://www.youtube.com/thinkmusicindia\\nFollow us on: https://twitter.com/thinkmusicindia\\nLike us on: https://www.facebook.com/Thinkmusicofficial\\nFollow us on: https://www.instagram.com/thinkmusicofficial\\n\\n#ThalaivanThalaivii  #VijaySethupathi #NithyaMenen #SanthoshNarayanan #Pandiraaj #YogiBabu #SathyaJyothiFilms #ThalaivanThalaiviiTrailer                                                                                                                                    \n-RECORD 1----------------------------------------------------------------------------------------------------------------------------------------------------------------------------------------------------------------------------------------------------------------------------------------------------------------------------------------------------------------------------------------------------------------------------------------------------------------------------------------------------------------------------------------------------------------------------------------------------------------------------------------------------------------------------------------------------------------------------------------------------------------------------------------------------------------------------------------------------------------------------------------------------------------------------------------------------------------------------------------------------------------------------------------------------------------------------------------------------------------------------------------------------------------------------------------------------------------------------------------------------------------------------------------------------------------------------------------------------------------------------------------------------------------------------------------------------------------------------------------------------------------------------------------------------------------------------------------------------------------------------------------------------------------------------------------------------------------------------------------------------------------------------------------\n viewCount    | 1848605                                                                                                                                                                                                                                                                                                                                                                                                                                                                                                                                                                                                                                                                                                                                                                                                                                                                                                                                                                                                                                                                                                                                                                                                                                                                                                                                                                                                                                                                                                                                                                                                                                                                                                                                                                          \n likeCount    | 33429                                                                                                                                                                                                                                                                                                                                                                                                                                                                                                                                                                                                                                                                                                                                                                                                                                                                                                                                                                                                                                                                                                                                                                                                                                                                                                                                                                                                                                                                                                                                                                                                                                                                                                                                                                            \n commentCount | 994                                                                                                                                                                                                                                                                                                                                                                                                                                                                                                                                                                                                                                                                                                                                                                                                                                                                                                                                                                                                                                                                                                                                                                                                                                                                                                                                                                                                                                                                                                                                                                                                                                                                                                                                                                              \n duration     | PT2H25M32S                                                                                                                                                                                                                                                                                                                                                                                                                                                                                                                                                                                                                                                                                                                                                                                  \n\n*** WARNING: max output size exceeded, skipping output. ***\n\n                                                                                                                                                                                                                                                                                                                                                                                                                                                                                                                                                                                                                                                                                                                                                                                  \n channelTitle | Pen Movies                                                                                                                                                                                                                                                                                                                                                                                                                                                                                                                                                                                                                                                                                                                                                                                                                                                                                                                                                                                                                                                                                                                                                                                                                                                                                                                                                                                                                                                                                                                                                                                                                                                                                                                                                                       \n title        | Romeo S3 - Full Movie | Palak Tiwari, Thakur Anoop Singh | Pen Movies | New Hindi Movie 2025                                                                                                                                                                                                                                                                                                                                                                                                                                                                                                                                                                                                                                                                                                                                                                                                                                                                                                                                                                                                                                                                                                                                                                                                                                                                                                                                                                                                                                                                                                                                                                                                                                                                                     \n categoryId   | 1                                                                                                                                                                                                                                                                                                                                                                                                                                                                                                                                                                                                                                                                                                                                                                                                                                                                                                                                                                                                                                                                                                                                                                                                                                                                                                                                                                                                                                                                                                                                                                                                                                                                                                                                                                                \n description  | Romeo S3, directed by Guddu Dhanoa and produced by Pen Studios and Wild River Pictures, is an adrenaline-fueled Hindi action thriller set in the underworld of Goa.\\nThakur Anoop Singh stars as DCP Sangram Singh Shekhawat, a fearless cop who goes undercover to dismantle a dangerous drug cartel while uncovering a sinister virus-linked conspiracy.\\nOpposing him is Palak Tiwari’s investigative journalist, Tanu, whose dogged pursuit of truth pulls her into Sangram’s high-stakes mission.\\nPacked with explosive fight scenes, high-speed chases, and larger-than-life stunts, the film delivers classic masala action in a bold, cinematic.\\nWhile praised for its sheer energy and punchy performances, critics note the storyline sometimes leans on predictable tropes and formulaic twists.\\n\\nEnjoy Super Hit Movies Collection:- \\nAcharya - https://youtu.be/MZGKv-UqD4c\\nJaya Janaki Nayaka KHOONKHAR - https://youtu.be/1lFk1LSsI_c \\nSHER KA SHIKAAR - https://youtu.be/FE435iFT6jw \\nTholi Prema -  https://youtu.be/J4nBcaYMuI4\\nEntertainment- https://youtu.be/LXXkiUKDK4w            \\n\\n\\nFor your favourite Bollywood Movies, subscribe now: \\nhttp://bit.ly/2VXistY\\n\\nSUBSCRIBE for the best Bollywood clips, movies and scenes all in your PEN Multiplex channel \\nhttp://bit.ly/2QxELp3\\n\\nFor your favorite Gujarati Movies, Subscribe now: http://bit.ly/2VZm9Q6\\n\\nFor Action-Packed Movies, Click on the below link now...\\nPen Action: http://bit.ly/2XaSS6t\\n\\n\\nEnjoy & stay connected with us! \\nLike us on Facebook: https://www.facebook.com/PenMovies\\nFollow us on Twitter: https://twitter.com/penmovies\\nFollow us on Instagram: https://www.instagram.com/penmovies 👉 Log On To Our Official Website : https://penstudios.in/ \n-RECORD 2----------------------------------------------------------------------------------------------------------------------------------------------------------------------------------------------------------------------------------------------------------------------------------------------------------------------------------------------------------------------------------------------------------------------------------------------------------------------------------------------------------------------------------------------------------------------------------------------------------------------------------------------------------------------------------------------------------------------------------------------------------------------------------------------------------------------------------------------------------------------------------------------------------------------------------------------------------------------------------------------------------------------------------------------------------------------------------------------------------------------------------------------------------------------------------------------------------------------------------------------------------------------------------------------------------------------------------------------------------------------------------------------------------------------------------------------------------------------------------------------------------------------------------------------------------------------------------------------------------------------------------------------------------------------------------------------------------------------------------------------------------------------------------------\n viewCount    | 14269445                                                                                                                                                                                                                                                                                                                                                                                                                                                                                                                                                                                                                                                                                                                                                                                                                                                                                                                                                                                                                                                                                                                                                                                                                                                                                                                                                                                                                                                                                                                                                                                                                                                                                                                                                                         \n likeCount    | 668886                                                                                                                                                                                                                                                                                                                                                                                                                                                                                                                                                                                                                                                                                                                                                                                                                                                                                                                                                                                                                                                                                                                                                                                                                                                                                                                                                                                                                                                                                                                                                                                                                                                                                                                                                                           \n commentCount | 38411                                                                                                                                                                                                                                                                                                                                                                                                                                                                                                                                                                                                                                                                                                                                                                                                                                                                                                                                                                                                                                                                                                                                                                                                                                                                                                                                                                                                                                                                                                                                                                                                                                                                                                                                                                            \n duration     | PT2M47S                                                                                                                                                                                                                                                                                                                                                                                                                                                                                                                                                                                                                                                                                                                                                                                                                                                                                                                                                                                                                                                                                                                                                                                                                                                                                                                                                                                                                                                                                                                                                                                                                                                                                                                                                                          \n publishedAt  | 2025-07-16T14:00:00Z                                                                                                                                                                                                                                                                                                                                                                                                                                                                                                                                                                                                                                                                                                                                                                                                                                                                                                                                                                                                                                                                                                                                                                                                                                                                                                                                                                                                                                                                                                                                                                                                                                                                                                                                                             \n channelTitle | Netflix                                                                                                                                                                                                                                                                                                                                                                                                                                                                                                                                                                                                                                                                                                                                                                                                                                                                                                                                                                                                                                                                                                                                                                                                                                                                                                                                                                                                                                                                                                                                                                                                                                                                                                                                                                          \n title        | Stranger Things 5 | Official Teaser | Netflix                                                                                                                                                                                                                                                                                                                                                                                                                                                                                                                                                                                                                                                                                                                                                                                                                                                                                                                                                                                                                                                                                                                                                                                                                                                                                                                                                                                                                                                                                                                                                                                                                                                                                                                                    \n categoryId   | 24                                                                                                                                                                                                                                                                                                                                                                                                                                                                                                                                                                                                                                                                                                                                                                                                                                                                                                                                                                                                                                                                                                                                                                                                                                                                                                                                                                                                                                                                                                                                                                                                                                                                                                                                                                               \n description  | Every battle has led to this.\\n\\nMore about Stranger Things 5:\\nThe fall of 1987. Hawkins is scarred by the opening of the Rifts, and our heroes are united by a single goal: find and kill Vecna. But he has vanished — his whereabouts and plans unknown. Complicating their mission, the government has placed the town under military quarantine and intensified its hunt for Eleven, forcing her back into hiding. As the anniversary of Will’s disappearance approaches, so does a heavy, familiar dread. The final battle is looming — and with it, a darkness more powerful and more deadly than anything they’ve faced before. To end this nightmare, they’ll need everyone — the full party — standing together, one last time.\\n\\nWatch on Netflix: https://www.netflix.com/title/81297917\\n\\nAbout Netflix:\\nNetflix is one of the world's leading entertainment services, with over 300 million paid memberships in over 190 countries enjoying TV series, films and games across a wide variety of genres and languages. Members can play, pause and resume watching as much as they want, anytime, anywhere, and can change their plans at any time.\\n\\nStranger Things 5 | Official Teaser | Netflix\\nhttps://www.youtube.com/@Netflix                                                                                                                                                                                                                                                                                                                                                                                                                                                                                                                           \nonly showing top 3 rows\n\n"
     ]
    }
   ],
   "source": [
    "casted_df.select(\n",
    "    \"viewCount\", \"likeCount\", \"commentCount\",\n",
    "    \"duration\", \"publishedAt\", \"channelTitle\",\n",
    "    \"title\", \"categoryId\", \"description\"\n",
    ").show(3, truncate=False, vertical=True)"
   ]
  },
  {
   "cell_type": "code",
   "execution_count": 0,
   "metadata": {
    "application/vnd.databricks.v1+cell": {
     "cellMetadata": {
      "byteLimit": 2048000,
      "rowLimit": 10000
     },
     "inputWidgets": {},
     "nuid": "7645889e-8a65-4707-b3a7-6ea4da5edfc7",
     "showTitle": false,
     "tableResultSettingsMap": {},
     "title": ""
    }
   },
   "outputs": [
    {
     "output_type": "stream",
     "name": "stdout",
     "output_type": "stream",
     "text": [
      "+----------------------------------------------------------------------------------------------------+----------+\n|title                                                                                               |duration  |\n+----------------------------------------------------------------------------------------------------+----------+\n|Thalaivan Thalaivii - Trailer | Vijay Sethupathi, Nithya Menen | Pandiraaj | Santhosh Narayanan     |PT2M47S   |\n|Romeo S3 - Full Movie | Palak Tiwari, Thakur Anoop Singh | Pen Movies | New Hindi Movie 2025        |PT2H25M32S|\n|Stranger Things 5 | Official Teaser | Netflix                                                       |PT2M47S   |\n|Dil Pe Chalai Churiya (Trending Version) | Sonu Nigam | Raju Kalakar, Anjali, Rajan, Rishabh,Deepak |PT4M1S    |\n|Playing Real Life SQUID GAME in KOREA | SlayyPop                                                    |PT18M1S   |\n|Dhana Mani engagement |அம்மாக்கு சேலை எடுக்குறதுக்குள்ள கடையே கலகலனு் ஆய்டுச்சி😂  | Dress Purchase |PT17M45S  |\n|Yeh Rishta Kya Kehlata Hai: Chaos at Anshumaan-Abhira’s Wedding — Will Abhira & Armaan Reunite?| SBB|PT7M10S   |\n|SON OF SARDAAR 2 | THE PO PO SONG | Ajay Devgn | Mrunal Thakur | Guru Randhawa | Tanishk Bagchi     |PT2M50S   |\n|Finally We Found This ? 🤩 सच में खजाना मिल गया | Treasure Hunt Challenge Part - 4                  |PT14M47S  |\n|I Ruined my BROTHER'S PROPOSAL so I Did This...                                                     |PT24M5S   |\n+----------------------------------------------------------------------------------------------------+----------+\nonly showing top 10 rows\n\n"
     ]
    }
   ],
   "source": [
    "casted_df.select(\"title\", \"duration\").show(10, truncate=False)"
   ]
  },
  {
   "cell_type": "markdown",
   "metadata": {
    "application/vnd.databricks.v1+cell": {
     "cellMetadata": {
      "byteLimit": 2048000,
      "rowLimit": 10000
     },
     "inputWidgets": {},
     "nuid": "6b3b438a-f8b7-498d-82cf-7e47234ce5f5",
     "showTitle": false,
     "tableResultSettingsMap": {},
     "title": ""
    }
   },
   "source": [
    "# Convert duration (ISO 8601 format) to Total Seconds"
   ]
  },
  {
   "cell_type": "code",
   "execution_count": 0,
   "metadata": {
    "application/vnd.databricks.v1+cell": {
     "cellMetadata": {
      "byteLimit": 2048000,
      "rowLimit": 10000
     },
     "inputWidgets": {},
     "nuid": "a443fcaa-b0af-42ab-bf9e-70be769305e4",
     "showTitle": false,
     "tableResultSettingsMap": {},
     "title": ""
    }
   },
   "outputs": [],
   "source": [
    "from pyspark.sql.functions import col, regexp_extract\n",
    "\n",
    "# Step 1: Extract raw duration string\n",
    "df_with_duration = casted_df.withColumn(\"duration_raw\", col(\"duration\"))\n",
    "\n",
    "# Step 2: Extract hours, minutes, and seconds using regex\n",
    "df_parsed = df_with_duration \\\n",
    "    .withColumn(\"hours\", regexp_extract(col(\"duration_raw\"), r'PT(\\d+)H', 1).cast(\"int\")) \\\n",
    "    .withColumn(\"minutes\", regexp_extract(col(\"duration_raw\"), r'(?<=PT(\\d+H)?)?(\\d+)M', 2).cast(\"int\")) \\\n",
    "    .withColumn(\"seconds\", regexp_extract(col(\"duration_raw\"), r'(?<=M)?(\\d+)S', 1).cast(\"int\"))\n",
    "\n",
    "# Step 3: Replace nulls with 0\n",
    "df_filled = df_parsed.fillna({\"hours\": 0, \"minutes\": 0, \"seconds\": 0})\n",
    "\n",
    "# Step 4: Calculate total duration in seconds and overwrite `duration` column\n",
    "final_df = df_filled.withColumn(\n",
    "    \"duration\",\n",
    "    col(\"hours\") * 3600 + col(\"minutes\") * 60 + col(\"seconds\")\n",
    ")\n",
    "\n",
    "# Step 5: Drop temporary columns (if you want clean dataframe)\n",
    "final_df = final_df.drop(\"duration_raw\", \"hours\", \"minutes\", \"seconds\")\n",
    "\n",
    "#  Now update casted_df to this final version\n",
    "casted_df = final_df\n"
   ]
  },
  {
   "cell_type": "code",
   "execution_count": 0,
   "metadata": {
    "application/vnd.databricks.v1+cell": {
     "cellMetadata": {
      "byteLimit": 2048000,
      "rowLimit": 10000
     },
     "inputWidgets": {},
     "nuid": "bf677749-02ba-4573-a714-7b5beefce49c",
     "showTitle": false,
     "tableResultSettingsMap": {},
     "title": ""
    }
   },
   "outputs": [
    {
     "output_type": "stream",
     "name": "stdout",
     "output_type": "stream",
     "text": [
      "root\n |-- id: string (nullable = true)\n |-- publishedAt: string (nullable = true)\n |-- channelId: string (nullable = true)\n |-- channelTitle: string (nullable = true)\n |-- title: string (nullable = true)\n |-- description: string (nullable = true)\n |-- categoryId: string (nullable = true)\n |-- tags: array (nullable = true)\n |    |-- element: string (containsNull = true)\n |-- defaultLanguage: string (nullable = true)\n |-- defaultAudioLanguage: string (nullable = true)\n |-- viewCount: integer (nullable = true)\n |-- likeCount: integer (nullable = true)\n |-- commentCount: integer (nullable = true)\n |-- duration: integer (nullable = false)\n |-- caption: string (nullable = true)\n\n"
     ]
    }
   ],
   "source": [
    "casted_df.printSchema()"
   ]
  },
  {
   "cell_type": "code",
   "execution_count": 0,
   "metadata": {
    "application/vnd.databricks.v1+cell": {
     "cellMetadata": {
      "byteLimit": 2048000,
      "rowLimit": 10000
     },
     "inputWidgets": {},
     "nuid": "8f64ab24-b6eb-4389-8874-e28d6a196b93",
     "showTitle": false,
     "tableResultSettingsMap": {},
     "title": ""
    }
   },
   "outputs": [
    {
     "output_type": "stream",
     "name": "stdout",
     "output_type": "stream",
     "text": [
      "+----------------------------------------------------------------------------------------------------+--------+\n|title                                                                                               |duration|\n+----------------------------------------------------------------------------------------------------+--------+\n|Thalaivan Thalaivii - Trailer | Vijay Sethupathi, Nithya Menen | Pandiraaj | Santhosh Narayanan     |167     |\n|Romeo S3 - Full Movie | Palak Tiwari, Thakur Anoop Singh | Pen Movies | New Hindi Movie 2025        |8732    |\n|Stranger Things 5 | Official Teaser | Netflix                                                       |167     |\n|Dil Pe Chalai Churiya (Trending Version) | Sonu Nigam | Raju Kalakar, Anjali, Rajan, Rishabh,Deepak |241     |\n|Playing Real Life SQUID GAME in KOREA | SlayyPop                                                    |1081    |\n|Dhana Mani engagement |அம்மாக்கு சேலை எடுக்குறதுக்குள்ள கடையே கலகலனு் ஆய்டுச்சி😂  | Dress Purchase |1065    |\n|Yeh Rishta Kya Kehlata Hai: Chaos at Anshumaan-Abhira’s Wedding — Will Abhira & Armaan Reunite?| SBB|430     |\n|SON OF SARDAAR 2 | THE PO PO SONG | Ajay Devgn | Mrunal Thakur | Guru Randhawa | Tanishk Bagchi     |170     |\n|Finally We Found This ? 🤩 सच में खजाना मिल गया | Treasure Hunt Challenge Part - 4                  |887     |\n|I Ruined my BROTHER'S PROPOSAL so I Did This...                                                     |1445    |\n+----------------------------------------------------------------------------------------------------+--------+\nonly showing top 10 rows\n\n"
     ]
    }
   ],
   "source": [
    "casted_df.select(\"title\", \"duration\").show(10, truncate=False)"
   ]
  },
  {
   "cell_type": "code",
   "execution_count": 0,
   "metadata": {
    "application/vnd.databricks.v1+cell": {
     "cellMetadata": {
      "byteLimit": 2048000,
      "rowLimit": 10000
     },
     "inputWidgets": {},
     "nuid": "b36b09a7-2062-4e40-9dc0-d5d06c309ed4",
     "showTitle": false,
     "tableResultSettingsMap": {},
     "title": ""
    }
   },
   "outputs": [],
   "source": []
  },
  {
   "cell_type": "markdown",
   "metadata": {
    "application/vnd.databricks.v1+cell": {
     "cellMetadata": {
      "byteLimit": 2048000,
      "rowLimit": 10000
     },
     "inputWidgets": {},
     "nuid": "6ded9613-2dce-48c1-bc2a-497431e8e39f",
     "showTitle": false,
     "tableResultSettingsMap": {},
     "title": ""
    }
   },
   "source": [
    "# in our data distinct categoryid available"
   ]
  },
  {
   "cell_type": "code",
   "execution_count": 0,
   "metadata": {
    "application/vnd.databricks.v1+cell": {
     "cellMetadata": {
      "byteLimit": 2048000,
      "rowLimit": 10000
     },
     "inputWidgets": {},
     "nuid": "399df398-0557-4c03-a2f8-d1440650cfbb",
     "showTitle": false,
     "tableResultSettingsMap": {},
     "title": ""
    }
   },
   "outputs": [
    {
     "output_type": "stream",
     "name": "stdout",
     "output_type": "stream",
     "text": [
      "Out[71]: 10"
     ]
    }
   ],
   "source": [
    "df.select(\"snippet.categoryId\").distinct().count()"
   ]
  },
  {
   "cell_type": "code",
   "execution_count": 0,
   "metadata": {
    "application/vnd.databricks.v1+cell": {
     "cellMetadata": {
      "byteLimit": 2048000,
      "rowLimit": 10000
     },
     "inputWidgets": {},
     "nuid": "79d37982-ffbc-4607-b6bc-86a636951806",
     "showTitle": false,
     "tableResultSettingsMap": {},
     "title": ""
    }
   },
   "outputs": [
    {
     "output_type": "stream",
     "name": "stdout",
     "output_type": "stream",
     "text": [
      "+----------+\n|categoryId|\n+----------+\n|22        |\n|28        |\n|27        |\n|17        |\n|26        |\n|23        |\n|24        |\n|1         |\n|20        |\n|10        |\n+----------+\n\n"
     ]
    }
   ],
   "source": [
    "df.select(\"snippet.categoryId\").distinct().show(truncate=False)"
   ]
  },
  {
   "cell_type": "markdown",
   "metadata": {
    "application/vnd.databricks.v1+cell": {
     "cellMetadata": {
      "byteLimit": 2048000,
      "rowLimit": 10000
     },
     "inputWidgets": {},
     "nuid": "327f6212-d205-4861-9b98-25a2a321067a",
     "showTitle": false,
     "tableResultSettingsMap": {},
     "title": ""
    }
   },
   "source": [
    "# Mapping distinct Categoryid to Category Name"
   ]
  },
  {
   "cell_type": "code",
   "execution_count": 0,
   "metadata": {
    "application/vnd.databricks.v1+cell": {
     "cellMetadata": {
      "byteLimit": 2048000,
      "rowLimit": 10000
     },
     "inputWidgets": {},
     "nuid": "64f36730-ac2c-4371-9a87-b688527e3072",
     "showTitle": false,
     "tableResultSettingsMap": {},
     "title": ""
    }
   },
   "outputs": [],
   "source": [
    "from pyspark.sql.functions import when, col\n",
    "\n",
    "casted_df = casted_df.withColumn(\n",
    "    \"categoryName\",\n",
    "    when(col(\"categoryId\") == \"1\", \"Film & Animation\")\n",
    "    .when(col(\"categoryId\") == \"10\", \"Music\")\n",
    "    .when(col(\"categoryId\") == \"17\", \"Sports\")\n",
    "    .when(col(\"categoryId\") == \"20\", \"Gaming\")\n",
    "    .when(col(\"categoryId\") == \"22\", \"People & Blogs\")\n",
    "    .when(col(\"categoryId\") == \"23\", \"Comedy\")\n",
    "    .when(col(\"categoryId\") == \"24\", \"Entertainment\")\n",
    "    .when(col(\"categoryId\") == \"26\", \"Howto & Style\")\n",
    "    .when(col(\"categoryId\") == \"27\", \"Education\")\n",
    "    .when(col(\"categoryId\") == \"28\", \"Science & Technology\")\n",
    "    .otherwise(\"Unknown\")\n",
    ")\n"
   ]
  },
  {
   "cell_type": "code",
   "execution_count": 0,
   "metadata": {
    "application/vnd.databricks.v1+cell": {
     "cellMetadata": {
      "byteLimit": 2048000,
      "rowLimit": 10000
     },
     "inputWidgets": {},
     "nuid": "c541ff33-1510-4e37-bf8d-e13cc5f6d487",
     "showTitle": false,
     "tableResultSettingsMap": {},
     "title": ""
    }
   },
   "outputs": [
    {
     "output_type": "stream",
     "name": "stdout",
     "output_type": "stream",
     "text": [
      "root\n |-- id: string (nullable = true)\n |-- publishedAt: string (nullable = true)\n |-- channelId: string (nullable = true)\n |-- channelTitle: string (nullable = true)\n |-- title: string (nullable = true)\n |-- description: string (nullable = true)\n |-- categoryId: string (nullable = true)\n |-- tags: array (nullable = true)\n |    |-- element: string (containsNull = true)\n |-- defaultLanguage: string (nullable = true)\n |-- defaultAudioLanguage: string (nullable = true)\n |-- viewCount: integer (nullable = true)\n |-- likeCount: integer (nullable = true)\n |-- commentCount: integer (nullable = true)\n |-- duration: integer (nullable = false)\n |-- caption: string (nullable = true)\n |-- categoryName: string (nullable = false)\n\n"
     ]
    }
   ],
   "source": [
    "casted_df.printSchema()"
   ]
  },
  {
   "cell_type": "code",
   "execution_count": 0,
   "metadata": {
    "application/vnd.databricks.v1+cell": {
     "cellMetadata": {
      "byteLimit": 2048000,
      "rowLimit": 10000
     },
     "inputWidgets": {},
     "nuid": "ff50a3a5-581a-46eb-a7c3-d1d75a0209b3",
     "showTitle": false,
     "tableResultSettingsMap": {},
     "title": ""
    }
   },
   "outputs": [
    {
     "output_type": "stream",
     "name": "stdout",
     "output_type": "stream",
     "text": [
      "+--------------------+-----+\n|categoryName        |count|\n+--------------------+-----+\n|Education           |1    |\n|Gaming              |2    |\n|Entertainment       |22   |\n|Science & Technology|2    |\n|Sports              |1    |\n|Howto & Style       |1    |\n|Film & Animation    |3    |\n|People & Blogs      |8    |\n|Music               |8    |\n|Comedy              |2    |\n+--------------------+-----+\n\n"
     ]
    }
   ],
   "source": [
    "casted_df.groupBy(\"categoryName\").count().show(truncate=False)"
   ]
  },
  {
   "cell_type": "markdown",
   "metadata": {
    "application/vnd.databricks.v1+cell": {
     "cellMetadata": {
      "byteLimit": 2048000,
      "rowLimit": 10000
     },
     "inputWidgets": {},
     "nuid": "805284b9-33ac-47d1-8d0b-6aa5f89c6fad",
     "showTitle": false,
     "tableResultSettingsMap": {},
     "title": ""
    }
   },
   "source": [
    "# convert publishAt col to time stamp"
   ]
  },
  {
   "cell_type": "code",
   "execution_count": 0,
   "metadata": {
    "application/vnd.databricks.v1+cell": {
     "cellMetadata": {
      "byteLimit": 2048000,
      "rowLimit": 10000
     },
     "inputWidgets": {},
     "nuid": "41e25605-f3b2-4039-8682-ecba4daa182f",
     "showTitle": false,
     "tableResultSettingsMap": {},
     "title": ""
    }
   },
   "outputs": [],
   "source": [
    "from pyspark.sql.functions import col, to_timestamp, to_date, year, month\n",
    "\n",
    "# Step 1: Convert to timestamp\n",
    "casted_df = casted_df.withColumn(\"publishedAt_ts\", to_timestamp(col(\"publishedAt\"), \"yyyy-MM-dd'T'HH:mm:ss'Z'\"))\n",
    "\n",
    "# Step 2: Extract only the date part\n",
    "casted_df = casted_df.withColumn(\"publishedDate\", to_date(col(\"publishedAt_ts\")))\n",
    "\n",
    "# Step 3: Extract year and month from publishedDate\n",
    "casted_df = casted_df.withColumn(\"year\", year(\"publishedDate\")) \\\n",
    "                     .withColumn(\"month\", month(\"publishedDate\"))\n",
    "\n",
    "# Step 4: Drop original publishedAt and timestamp\n",
    "casted_df = casted_df.drop(\"publishedAt\", \"publishedAt_ts\")\n"
   ]
  },
  {
   "cell_type": "code",
   "execution_count": 0,
   "metadata": {
    "application/vnd.databricks.v1+cell": {
     "cellMetadata": {
      "byteLimit": 2048000,
      "rowLimit": 10000
     },
     "inputWidgets": {},
     "nuid": "0ab524a7-b326-4039-9bd0-464026b0bd89",
     "showTitle": false,
     "tableResultSettingsMap": {},
     "title": ""
    }
   },
   "outputs": [
    {
     "output_type": "stream",
     "name": "stdout",
     "output_type": "stream",
     "text": [
      "root\n |-- id: string (nullable = true)\n |-- channelId: string (nullable = true)\n |-- channelTitle: string (nullable = true)\n |-- title: string (nullable = true)\n |-- description: string (nullable = true)\n |-- categoryId: string (nullable = true)\n |-- tags: array (nullable = true)\n |    |-- element: string (containsNull = true)\n |-- defaultLanguage: string (nullable = true)\n |-- defaultAudioLanguage: string (nullable = true)\n |-- viewCount: integer (nullable = true)\n |-- likeCount: integer (nullable = true)\n |-- commentCount: integer (nullable = true)\n |-- duration: integer (nullable = false)\n |-- caption: string (nullable = true)\n |-- categoryName: string (nullable = false)\n |-- publishedDate: date (nullable = true)\n |-- year: integer (nullable = true)\n |-- month: integer (nullable = true)\n\n"
     ]
    }
   ],
   "source": [
    "casted_df.printSchema()"
   ]
  },
  {
   "cell_type": "code",
   "execution_count": 0,
   "metadata": {
    "application/vnd.databricks.v1+cell": {
     "cellMetadata": {
      "byteLimit": 2048000,
      "rowLimit": 10000
     },
     "inputWidgets": {},
     "nuid": "962546f2-4c0a-43fd-b9c3-6a3b3f4370dd",
     "showTitle": false,
     "tableResultSettingsMap": {},
     "title": ""
    }
   },
   "outputs": [
    {
     "output_type": "stream",
     "name": "stdout",
     "output_type": "stream",
     "text": [
      "-RECORD 0-----------------------------------------------------------------------------------------------------------------------------------------------------------------------------------------------------------------------------------------------------------------------------------------------------------------------------------------------------------------------------------------------------------------------------------------------------------------------------------------------------------------------------------------------------------------------------------------------------------------------------------------------------------------------------------------------------------------------------------------------------------------------------------------------------------------------------------------------------------------------------------------------------------------------------------------------------------------------------------------------------------------------------------------------------------------------------------------------------------------------------------------------------------------------------------------------------------------------------------------------------------------------------------------------------------------------------------------------------------------------------------------------------------------------------------------------------------------------------------------------------------------------------------------------------------------------------------------------------------------------------------------------------------------------------------------------------------------------------------------------------------------------------------------\n viewCount     | 4200400                                                                                                                                                                                                                                                                                                                                                                                                                                                                                                                                                                                                                                                                                                                                                                                                                                                                                                                                                                                                                                                                                                                                                                                                                                                                                                                                                                                                                                                                                                                                                                                                                                                                                                                                                                          \n likeCount     | 139778                                                                                                                                                                                                                                                                                                                                                                                                                                                                                                                                                                                                                                                                                                                                                                                                                                                                                                                                                                                                                                                                                                                                                                                                                                                                                                                                                                                                                                                                                                                                                                                                                                                                                                                                                                           \n commentCount  | 2773                                                                                                                                                                                                                                                                                                                                                                                                                                                                                                                                                                                                                                                                                                                                                                                                                                                                                                                                                                                                                                                                                                                                                                                                                                                                                                                                                                                                                                                                                                                                                                                                                                                                                                                                                                             \n duration      | 167                                                                                                                                                                                                                                                                                                                                                                                                                                                                                                                                                                                                                                                                                                                                                                                                                                                                                                                                                                                                                                                                                                                                                                                                                                                                                                                                                                                                                                                                                                                                                                                                                                                                                                                                                                              \n publishedDate | 2025-07-17                                                                                                                                                                                                                                                                                                                                                                                                                                                                                                                                                                                                                                                                                                                                                                                                                                                                                                                                                                                                                                                                                                                                                                                                                                                                                                                                                                                                                                                                                                                                                                                                                                                                                                                                                                       \n channelTitle  | Think Music India                                                                                                                                                                                                                                                                                                                                                                                                                                                                                                                                                                                                                                                                                                                                                                                                                                                                                                                                                                                                                                                                                                                                                                                                                                                                                                                                                                                                                                                                                                                                                                                                                                                                                                                                                                \n title         | Thalaivan Thalaivii - Trailer | Vijay Sethupathi, Nithya Menen | Pandiraaj | Santhosh Narayanan                                                                                                                                                                                                                                                                                                                                                                                                                                                                                                                                                                                                                                                                                                                                                                                                                                                                                                                                                                                                                                                                                                                                                                                                                                                                                                                                                                                                                                                                                                                                                                                                                                                                                  \n categoryId    | 1                                                                                                                                                                                                                                                                                                                                                                                                                                                                                                                                                                                                                                                                                                                                                                                                                                                                                                                                                                                                                                                                                                                                                                                                                                                                                                                                                                                                                                                                                                                                                                                                                                                                                                                                                                                \n description   | Here's the Official Trailer of \"Thalaivan Thalaivii\", Starring Makkal Selvan Vijay Sethupathi, Nithya Menen, Yogi Babu & Others Music by Santhosh Narayanan, Written & Directed by Pandiraaj.\\n\\nMovie Credits :\\n\\nCast : Makkal Selvan Vijay Sethupathi, Nithya Menen, Yogi Babu\\nWritten & Directed by Pandiraaj\\nProduced by Sathya Jyothi Films, TG Thyagarajan Presents\\nProducers : Sendhil Thyagarajan & Arjun Thyagarajan\\nCo-Produced by G. Saravanan & Sai Siddharth\\nMusic : Santhosh Narayanan\\nDirector of Photography : M. Sukumar\\nArt Director : K. Veerasamar\\nEditor : Pradeep E Ragav\\nStunt Master : Kalai Kingson\\nChoreography : Baba Bhaskar\\nLyrics : Vivek, Karthi Netha\\nCostume Designer : Poornima Ramaswamy\\nCostume : K. Nataraj\\nAudiography : M.R. Rajakrishnan\\nSound Design : Arun S Mani (Oli Lab)\\nMusic Supervisor : Santhosh Kumar\\nVFX Producer :  B.R. Venkatesh\\nDI : Prasath Somasekar (Knack Studios)\\nStills : Theni Murugan\\nPublicity Designer : Gopi Prasannaa\\nPRO : Nikil Murukan\\nProduction Controller : Ramadoss & N. Mahendran\\nSubtitles : Rekhs\\nVideo Animation : ADFX Studio\\n\\nAudio Label : Think Music\\n\\n© 2025 SPI Music Pvt. Ltd.\\n\\nFor All Latest Updates:\\nWebsite: https://thinkmusic.in/\\nSubscribe to us on: http://www.youtube.com/thinkmusicindia\\nFollow us on: https://twitter.com/thinkmusicindia\\nLike us on: https://www.facebook.com/Thinkmusicofficial\\nFollow us on: https://www.instagram.com/thinkmusicofficial\\n\\n#ThalaivanThalaivii  #VijaySethupathi #NithyaMenen #SanthoshNarayanan #Pandiraaj #YogiBabu #SathyaJyothiFilms #ThalaivanThalaiviiTrailer                                                                                                                                    \n categoryName  | Film & Animation                                                                                                                                                                                                                                                                                                                                                                                                                                                                                                                                                                                                                                                                                                                                                                                                                                                                                                                                                                                                                                                                                                                                                                                                                                                                                                                                                                                                                                                                                                                                                                                                                                                                                                                                                                 \n-RECORD 1-----------------------------------------------------------------------------------------------------------------------------------------------------------------------------------------------------------------------------------------------------------------------------------------------------------------------------------------------------------------------------------------------------------------------------------------------------------------------------------------------------------------------------------------------------------------------------------------------------------------------------------------------------------------------------------------------------------------------------------------------------------------------------------------------------------------------------------------------------------------------------------------------------------------------------------------------------------------------------------------------------------------------------------------------------------------------------------------------------------------------------------------------------------------------------------------------------------------------------------------------------------------------------------------------------------------------------------------------------------------------------------------------------------------------------------------------------------------------------------------------------------------------------------------------------------------------------------------------------------------------------------------------------------------------------------------------------------------------------------------------------------------------------------------\n viewCount     | 1848605                                                                                                                                                                                                                                                                                                                                                                                                                                                                                                                                                                                                                                                                                                                                                                                                                                                                                                                                                                                                                                                                                                                                                                                                                                                                                                                                                                                                                                                                                                                                                                                                                                                                                                                                                                          \n likeCount     | 33429                                                                                                                                                                                                                                                                                                                                                                                                                                                                                                                                                                                                                                                                                                                                                                                                                                                                                                                                                                                                                                                                                                                                                                                                                                                                                                                                                                                                                                                                                                                                                                                                                                                                                                                                                                            \n commentCount  | 994                                                                                                                                                                                                                                                                                                                                                                                                                                                                                                                                                                                                                                                                                                                                                                          \n\n*** WARNING: max output size exceeded, skipping output. ***\n\n                                                                                                                                                                                                                                                                                                                                                                                                                                                                                                                                                                                                                                                                                                                                                                    \n categoryId    | 1                                                                                                                                                                                                                                                                                                                                                                                                                                                                                                                                                                                                                                                                                                                                                                                                                                                                                                                                                                                                                                                                                                                                                                                                                                                                                                                                                                                                                                                                                                                                                                                                                                                                                                                                                                                \n description   | Romeo S3, directed by Guddu Dhanoa and produced by Pen Studios and Wild River Pictures, is an adrenaline-fueled Hindi action thriller set in the underworld of Goa.\\nThakur Anoop Singh stars as DCP Sangram Singh Shekhawat, a fearless cop who goes undercover to dismantle a dangerous drug cartel while uncovering a sinister virus-linked conspiracy.\\nOpposing him is Palak Tiwari’s investigative journalist, Tanu, whose dogged pursuit of truth pulls her into Sangram’s high-stakes mission.\\nPacked with explosive fight scenes, high-speed chases, and larger-than-life stunts, the film delivers classic masala action in a bold, cinematic.\\nWhile praised for its sheer energy and punchy performances, critics note the storyline sometimes leans on predictable tropes and formulaic twists.\\n\\nEnjoy Super Hit Movies Collection:- \\nAcharya - https://youtu.be/MZGKv-UqD4c\\nJaya Janaki Nayaka KHOONKHAR - https://youtu.be/1lFk1LSsI_c \\nSHER KA SHIKAAR - https://youtu.be/FE435iFT6jw \\nTholi Prema -  https://youtu.be/J4nBcaYMuI4\\nEntertainment- https://youtu.be/LXXkiUKDK4w            \\n\\n\\nFor your favourite Bollywood Movies, subscribe now: \\nhttp://bit.ly/2VXistY\\n\\nSUBSCRIBE for the best Bollywood clips, movies and scenes all in your PEN Multiplex channel \\nhttp://bit.ly/2QxELp3\\n\\nFor your favorite Gujarati Movies, Subscribe now: http://bit.ly/2VZm9Q6\\n\\nFor Action-Packed Movies, Click on the below link now...\\nPen Action: http://bit.ly/2XaSS6t\\n\\n\\nEnjoy & stay connected with us! \\nLike us on Facebook: https://www.facebook.com/PenMovies\\nFollow us on Twitter: https://twitter.com/penmovies\\nFollow us on Instagram: https://www.instagram.com/penmovies 👉 Log On To Our Official Website : https://penstudios.in/ \n categoryName  | Film & Animation                                                                                                                                                                                                                                                                                                                                                                                                                                                                                                                                                                                                                                                                                                                                                                                                                                                                                                                                                                                                                                                                                                                                                                                                                                                                                                                                                                                                                                                                                                                                                                                                                                                                                                                                                                 \n-RECORD 2-----------------------------------------------------------------------------------------------------------------------------------------------------------------------------------------------------------------------------------------------------------------------------------------------------------------------------------------------------------------------------------------------------------------------------------------------------------------------------------------------------------------------------------------------------------------------------------------------------------------------------------------------------------------------------------------------------------------------------------------------------------------------------------------------------------------------------------------------------------------------------------------------------------------------------------------------------------------------------------------------------------------------------------------------------------------------------------------------------------------------------------------------------------------------------------------------------------------------------------------------------------------------------------------------------------------------------------------------------------------------------------------------------------------------------------------------------------------------------------------------------------------------------------------------------------------------------------------------------------------------------------------------------------------------------------------------------------------------------------------------------------------------------------------\n viewCount     | 14269445                                                                                                                                                                                                                                                                                                                                                                                                                                                                                                                                                                                                                                                                                                                                                                                                                                                                                                                                                                                                                                                                                                                                                                                                                                                                                                                                                                                                                                                                                                                                                                                                                                                                                                                                                                         \n likeCount     | 668886                                                                                                                                                                                                                                                                                                                                                                                                                                                                                                                                                                                                                                                                                                                                                                                                                                                                                                                                                                                                                                                                                                                                                                                                                                                                                                                                                                                                                                                                                                                                                                                                                                                                                                                                                                           \n commentCount  | 38411                                                                                                                                                                                                                                                                                                                                                                                                                                                                                                                                                                                                                                                                                                                                                                                                                                                                                                                                                                                                                                                                                                                                                                                                                                                                                                                                                                                                                                                                                                                                                                                                                                                                                                                                                                            \n duration      | 167                                                                                                                                                                                                                                                                                                                                                                                                                                                                                                                                                                                                                                                                                                                                                                                                                                                                                                                                                                                                                                                                                                                                                                                                                                                                                                                                                                                                                                                                                                                                                                                                                                                                                                                                                                              \n publishedDate | 2025-07-16                                                                                                                                                                                                                                                                                                                                                                                                                                                                                                                                                                                                                                                                                                                                                                                                                                                                                                                                                                                                                                                                                                                                                                                                                                                                                                                                                                                                                                                                                                                                                                                                                                                                                                                                                                       \n channelTitle  | Netflix                                                                                                                                                                                                                                                                                                                                                                                                                                                                                                                                                                                                                                                                                                                                                                                                                                                                                                                                                                                                                                                                                                                                                                                                                                                                                                                                                                                                                                                                                                                                                                                                                                                                                                                                                                          \n title         | Stranger Things 5 | Official Teaser | Netflix                                                                                                                                                                                                                                                                                                                                                                                                                                                                                                                                                                                                                                                                                                                                                                                                                                                                                                                                                                                                                                                                                                                                                                                                                                                                                                                                                                                                                                                                                                                                                                                                                                                                                                                                    \n categoryId    | 24                                                                                                                                                                                                                                                                                                                                                                                                                                                                                                                                                                                                                                                                                                                                                                                                                                                                                                                                                                                                                                                                                                                                                                                                                                                                                                                                                                                                                                                                                                                                                                                                                                                                                                                                                                               \n description   | Every battle has led to this.\\n\\nMore about Stranger Things 5:\\nThe fall of 1987. Hawkins is scarred by the opening of the Rifts, and our heroes are united by a single goal: find and kill Vecna. But he has vanished — his whereabouts and plans unknown. Complicating their mission, the government has placed the town under military quarantine and intensified its hunt for Eleven, forcing her back into hiding. As the anniversary of Will’s disappearance approaches, so does a heavy, familiar dread. The final battle is looming — and with it, a darkness more powerful and more deadly than anything they’ve faced before. To end this nightmare, they’ll need everyone — the full party — standing together, one last time.\\n\\nWatch on Netflix: https://www.netflix.com/title/81297917\\n\\nAbout Netflix:\\nNetflix is one of the world's leading entertainment services, with over 300 million paid memberships in over 190 countries enjoying TV series, films and games across a wide variety of genres and languages. Members can play, pause and resume watching as much as they want, anytime, anywhere, and can change their plans at any time.\\n\\nStranger Things 5 | Official Teaser | Netflix\\nhttps://www.youtube.com/@Netflix                                                                                                                                                                                                                                                                                                                                                                                                                                                                                                                           \n categoryName  | Entertainment                                                                                                                                                                                                                                                                                                                                                                                                                                                                                                                                                                                                                                                                                                                                                                                                                                                                                                                                                                                                                                                                                                                                                                                                                                                                                                                                                                                                                                                                                                                                                                                                                                                                                                                                                                    \nonly showing top 3 rows\n\n"
     ]
    }
   ],
   "source": [
    "casted_df.select(\n",
    "    \"viewCount\", \"likeCount\", \"commentCount\",\n",
    "    \"duration\", \"publishedDate\", \"channelTitle\",\n",
    "    \"title\", \"categoryId\", \"description\", \"categoryName\"\n",
    ").show(3, truncate=False, vertical=True)"
   ]
  },
  {
   "cell_type": "code",
   "execution_count": 0,
   "metadata": {
    "application/vnd.databricks.v1+cell": {
     "cellMetadata": {
      "byteLimit": 2048000,
      "rowLimit": 10000
     },
     "inputWidgets": {},
     "nuid": "f0e80c8e-29a0-40ad-825c-88ad2e1a18ae",
     "showTitle": false,
     "tableResultSettingsMap": {},
     "title": ""
    }
   },
   "outputs": [],
   "source": [
    "# in likecount there was a single null valued  so i filled it with '0' "
   ]
  },
  {
   "cell_type": "code",
   "execution_count": 0,
   "metadata": {
    "application/vnd.databricks.v1+cell": {
     "cellMetadata": {
      "byteLimit": 2048000,
      "rowLimit": 10000
     },
     "inputWidgets": {},
     "nuid": "e5477787-87b1-4a2c-9c35-7a06f103431c",
     "showTitle": false,
     "tableResultSettingsMap": {},
     "title": ""
    }
   },
   "outputs": [],
   "source": [
    "from pyspark.sql.functions import col\n",
    "\n",
    "casted_df = casted_df.fillna({\"likeCount\": 0})\n",
    "\n"
   ]
  },
  {
   "cell_type": "code",
   "execution_count": 0,
   "metadata": {
    "application/vnd.databricks.v1+cell": {
     "cellMetadata": {
      "byteLimit": 2048000,
      "rowLimit": 10000
     },
     "inputWidgets": {},
     "nuid": "1385fb4d-67df-48ee-9a8e-eccbe3f81e95",
     "showTitle": false,
     "tableResultSettingsMap": {},
     "title": ""
    }
   },
   "outputs": [
    {
     "output_type": "stream",
     "name": "stdout",
     "output_type": "stream",
     "text": [
      "+--------------+--------------+-----------------+-------------+------------+-----------------+------------------+---------+----------+\n|null_viewCount|null_likeCount|null_commentCount|null_duration|null_caption|null_categoryName|null_publishedDate|null_year|null_month|\n+--------------+--------------+-----------------+-------------+------------+-----------------+------------------+---------+----------+\n|             0|             0|                0|            0|           0|                0|                 0|        0|         0|\n+--------------+--------------+-----------------+-------------+------------+-----------------+------------------+---------+----------+\n\n"
     ]
    }
   ],
   "source": [
    "from pyspark.sql.functions import col, count, when\n",
    "\n",
    "# Check null values for all relevant columns\n",
    "casted_df.select([\n",
    "    count(when(col(\"viewCount\").isNull(), 1)).alias(\"null_viewCount\"),\n",
    "    count(when(col(\"likeCount\").isNull(), 1)).alias(\"null_likeCount\"),\n",
    "    count(when(col(\"commentCount\").isNull(), 1)).alias(\"null_commentCount\"),\n",
    "    count(when(col(\"duration\").isNull(), 1)).alias(\"null_duration\"),\n",
    "    count(when(col(\"caption\").isNull(), 1)).alias(\"null_caption\"),\n",
    "    count(when(col(\"categoryName\").isNull(), 1)).alias(\"null_categoryName\"),\n",
    "    count(when(col(\"publishedDate\").isNull(), 1)).alias(\"null_publishedDate\"),\n",
    "    count(when(col(\"year\").isNull(), 1)).alias(\"null_year\"),\n",
    "    count(when(col(\"month\").isNull(), 1)).alias(\"null_month\")\n",
    "]).show()\n"
   ]
  },
  {
   "cell_type": "code",
   "execution_count": 0,
   "metadata": {
    "application/vnd.databricks.v1+cell": {
     "cellMetadata": {
      "byteLimit": 2048000,
      "rowLimit": 10000
     },
     "inputWidgets": {},
     "nuid": "c74762e0-c245-47a5-8f59-e64c58dc6f0c",
     "showTitle": false,
     "tableResultSettingsMap": {},
     "title": ""
    }
   },
   "outputs": [],
   "source": []
  },
  {
   "cell_type": "markdown",
   "metadata": {
    "application/vnd.databricks.v1+cell": {
     "cellMetadata": {
      "byteLimit": 2048000,
      "rowLimit": 10000
     },
     "inputWidgets": {},
     "nuid": "59a1cd37-6f3e-49b7-889a-245055ec1ed7",
     "showTitle": false,
     "tableResultSettingsMap": {},
     "title": ""
    }
   },
   "source": [
    "# Engegment Analysis"
   ]
  },
  {
   "cell_type": "code",
   "execution_count": 0,
   "metadata": {
    "application/vnd.databricks.v1+cell": {
     "cellMetadata": {
      "byteLimit": 2048000,
      "rowLimit": 10000
     },
     "inputWidgets": {},
     "nuid": "323f1a54-6a9e-4759-b170-fa731c9643e2",
     "showTitle": false,
     "tableResultSettingsMap": {},
     "title": ""
    }
   },
   "outputs": [],
   "source": []
  },
  {
   "cell_type": "markdown",
   "metadata": {
    "application/vnd.databricks.v1+cell": {
     "cellMetadata": {
      "byteLimit": 2048000,
      "rowLimit": 10000
     },
     "inputWidgets": {},
     "nuid": "8a7823b9-d19a-4943-b152-6de415351740",
     "showTitle": false,
     "tableResultSettingsMap": {},
     "title": ""
    }
   },
   "source": [
    "# Top Channels by Total Views"
   ]
  },
  {
   "cell_type": "code",
   "execution_count": 0,
   "metadata": {
    "application/vnd.databricks.v1+cell": {
     "cellMetadata": {
      "byteLimit": 2048000,
      "rowLimit": 10000
     },
     "inputWidgets": {},
     "nuid": "96b2e805-cabd-4d8f-9a0b-680fa6bebea3",
     "showTitle": false,
     "tableResultSettingsMap": {},
     "title": ""
    }
   },
   "outputs": [
    {
     "output_type": "stream",
     "name": "stdout",
     "output_type": "stream",
     "text": [
      "+---------------------------+----------+\n|channelTitle               |totalViews|\n+---------------------------+----------+\n|T-Series                   |34221562  |\n|Zee Music Company          |17185883  |\n|Netflix                    |14269445  |\n|Sourav Joshi Vlogs         |9017936   |\n|Warner Bros.               |7245936   |\n|Vijay Television           |5838381   |\n|Think Music India          |4200400   |\n|Free Fire India Official   |3811435   |\n|ETV Dhee                   |3137692   |\n|Crazy XYZ                  |2771269   |\n|Nischay Malhan             |2350017   |\n|SlayyPop                   |2324607   |\n|Wanderers Hub              |2315667   |\n|MR. INDIAN HACKER          |2252999   |\n|LOL (Life of Limbachiyaa’s)|1962844   |\n|Pen Movies                 |1848605   |\n|Saba Ibrahim               |1271272   |\n|Thugesh                    |1237751   |\n|Sony Sports Network        |1133050   |\n|Sun TV                     |973087    |\n+---------------------------+----------+\nonly showing top 20 rows\n\n"
     ]
    }
   ],
   "source": [
    "top_channels = casted_df.groupBy(\"channelTitle\") \\\n",
    "    .sum(\"viewCount\") \\\n",
    "    .withColumnRenamed(\"sum(viewCount)\", \"totalViews\") \\\n",
    "    .orderBy(col(\"totalViews\").desc())\n",
    "\n",
    "top_channels.show(20, truncate=False)\n"
   ]
  },
  {
   "cell_type": "markdown",
   "metadata": {
    "application/vnd.databricks.v1+cell": {
     "cellMetadata": {
      "byteLimit": 2048000,
      "rowLimit": 10000
     },
     "inputWidgets": {},
     "nuid": "dfb84900-0c87-4718-be54-c06aa4374f44",
     "showTitle": false,
     "tableResultSettingsMap": {},
     "title": ""
    }
   },
   "source": [
    "# Top channels by total likes"
   ]
  },
  {
   "cell_type": "code",
   "execution_count": 0,
   "metadata": {
    "application/vnd.databricks.v1+cell": {
     "cellMetadata": {
      "byteLimit": 2048000,
      "rowLimit": 10000
     },
     "inputWidgets": {},
     "nuid": "26c93f1e-ae15-43fc-928e-43b89f09fa58",
     "showTitle": false,
     "tableResultSettingsMap": {},
     "title": ""
    }
   },
   "outputs": [
    {
     "output_type": "stream",
     "name": "stdout",
     "output_type": "stream",
     "text": [
      "+------------------------+----------+\n|channelTitle            |totalLikes|\n+------------------------+----------+\n|T-Series                |1270614   |\n|Netflix                 |668886    |\n|Sourav Joshi Vlogs      |427552    |\n|Warner Bros.            |270301    |\n|MR. INDIAN HACKER       |141791    |\n|Think Music India       |139778    |\n|Crazy XYZ               |136852    |\n|Free Fire India Official|124167    |\n|Nischay Malhan          |110810    |\n|Vijay Television        |98911     |\n+------------------------+----------+\nonly showing top 10 rows\n\n"
     ]
    }
   ],
   "source": [
    "top_liked_channels = casted_df.groupBy(\"channelTitle\") \\\n",
    "    .sum(\"likeCount\") \\\n",
    "    .withColumnRenamed(\"sum(likeCount)\", \"totalLikes\") \\\n",
    "    .orderBy(col(\"totalLikes\").desc())\n",
    "top_liked_channels.show(10, truncate=False)\n"
   ]
  },
  {
   "cell_type": "markdown",
   "metadata": {
    "application/vnd.databricks.v1+cell": {
     "cellMetadata": {
      "byteLimit": 2048000,
      "rowLimit": 10000
     },
     "inputWidgets": {},
     "nuid": "f838a2e2-3f0e-4420-a331-9a206ab29e8e",
     "showTitle": false,
     "tableResultSettingsMap": {},
     "title": ""
    }
   },
   "source": [
    "# Most Liked Videos"
   ]
  },
  {
   "cell_type": "code",
   "execution_count": 0,
   "metadata": {
    "application/vnd.databricks.v1+cell": {
     "cellMetadata": {
      "byteLimit": 2048000,
      "rowLimit": 10000
     },
     "inputWidgets": {},
     "nuid": "b674279d-a9bb-40b4-9a17-6160169e5396",
     "showTitle": false,
     "tableResultSettingsMap": {},
     "title": ""
    }
   },
   "outputs": [],
   "source": [
    "# Here we can find top 5 most liked videos along with its title and chanelTitle "
   ]
  },
  {
   "cell_type": "code",
   "execution_count": 0,
   "metadata": {
    "application/vnd.databricks.v1+cell": {
     "cellMetadata": {
      "byteLimit": 2048000,
      "rowLimit": 10000
     },
     "inputWidgets": {},
     "nuid": "903f3373-0893-4111-bba0-b183b49bbf2f",
     "showTitle": false,
     "tableResultSettingsMap": {},
     "title": ""
    }
   },
   "outputs": [
    {
     "output_type": "stream",
     "name": "stdout",
     "output_type": "stream",
     "text": [
      "+---------------------------------------------------------------------------------------------------+------------------+---------+\n|title                                                                                              |channelTitle      |likeCount|\n+---------------------------------------------------------------------------------------------------+------------------+---------+\n|Stranger Things 5 | Official Teaser | Netflix                                                      |Netflix           |668886   |\n|Dil Pe Chalai Churiya (Trending Version) | Sonu Nigam | Raju Kalakar, Anjali, Rajan, Rishabh,Deepak|T-Series          |603633   |\n|6 AM (Official Video): YO YO HONEY SINGH | HEERA SOHAL | GLORY | BHUSHAN KUMAR                     |T-Series          |531193   |\n|Mortal Kombat II | Official Trailer                                                                |Warner Bros.      |270301   |\n|Shadi Ki Taiyari shuru Hogyi 😍                                                                    |Sourav Joshi Vlogs|223796   |\n+---------------------------------------------------------------------------------------------------+------------------+---------+\nonly showing top 5 rows\n\n"
     ]
    }
   ],
   "source": [
    "most_liked = casted_df.orderBy(col(\"likeCount\").desc())\n",
    "most_liked.select(\"title\", \"channelTitle\", \"likeCount\").show(5, truncate=False)\n"
   ]
  },
  {
   "cell_type": "markdown",
   "metadata": {
    "application/vnd.databricks.v1+cell": {
     "cellMetadata": {
      "byteLimit": 2048000,
      "rowLimit": 10000
     },
     "inputWidgets": {},
     "nuid": "817cd47b-62ee-444f-964f-cd1563f92e48",
     "showTitle": false,
     "tableResultSettingsMap": {},
     "title": ""
    }
   },
   "source": [
    "# Top videos by comment count"
   ]
  },
  {
   "cell_type": "code",
   "execution_count": 0,
   "metadata": {
    "application/vnd.databricks.v1+cell": {
     "cellMetadata": {
      "byteLimit": 2048000,
      "rowLimit": 10000
     },
     "inputWidgets": {},
     "nuid": "e9b07943-1823-4bd7-8d2d-983f69989173",
     "showTitle": false,
     "tableResultSettingsMap": {},
     "title": ""
    }
   },
   "outputs": [
    {
     "output_type": "stream",
     "name": "stdout",
     "output_type": "stream",
     "text": [
      "+---------------------------------------------------------------------------------------------------+------------+------------+\n|title                                                                                              |channelTitle|commentCount|\n+---------------------------------------------------------------------------------------------------+------------+------------+\n|Stranger Things 5 | Official Teaser | Netflix                                                      |Netflix     |38411       |\n|6 AM (Official Video): YO YO HONEY SINGH | HEERA SOHAL | GLORY | BHUSHAN KUMAR                     |T-Series    |33356       |\n|Dil Pe Chalai Churiya (Trending Version) | Sonu Nigam | Raju Kalakar, Anjali, Rajan, Rishabh,Deepak|T-Series    |30240       |\n|Mortal Kombat II | Official Trailer                                                                |Warner Bros.|21949       |\n|SON OF SARDAAR 2 | THE PO PO SONG | Ajay Devgn | Mrunal Thakur | Guru Randhawa | Tanishk Bagchi    |T-Series    |13875       |\n+---------------------------------------------------------------------------------------------------+------------+------------+\nonly showing top 5 rows\n\n"
     ]
    }
   ],
   "source": [
    "most_commented = casted_df.orderBy(col(\"commentCount\").desc())\n",
    "most_commented.select(\"title\", \"channelTitle\", \"commentCount\").show(5, truncate=False)\n"
   ]
  },
  {
   "cell_type": "markdown",
   "metadata": {
    "application/vnd.databricks.v1+cell": {
     "cellMetadata": {
      "byteLimit": 2048000,
      "rowLimit": 10000
     },
     "inputWidgets": {},
     "nuid": "3a6cd6ce-7e7b-45ff-b92a-539d0bfc7ef8",
     "showTitle": false,
     "tableResultSettingsMap": {},
     "title": ""
    }
   },
   "source": [
    "# Like to View ratio (engagement rate)"
   ]
  },
  {
   "cell_type": "code",
   "execution_count": 0,
   "metadata": {
    "application/vnd.databricks.v1+cell": {
     "cellMetadata": {
      "byteLimit": 2048000,
      "rowLimit": 10000
     },
     "inputWidgets": {},
     "nuid": "f9f494d7-0e56-4a3e-820a-f97c1bb5f0dc",
     "showTitle": false,
     "tableResultSettingsMap": {},
     "title": ""
    }
   },
   "outputs": [
    {
     "output_type": "stream",
     "name": "stdout",
     "output_type": "stream",
     "text": [
      "+----------------------------------------------------------------------------------------------------+-------------------+--------------------+\n|title                                                                                               |channelTitle       |likeViewRatio       |\n+----------------------------------------------------------------------------------------------------+-------------------+--------------------+\n|Dino James - Still Here ft. Katya Krishnan (Official Music Video)                                   |Dino James         |0.14690939597315436 |\n|#Video | जल ढ़ारे चल | Khesari Lal Yadav, Srishti Bharti | Jal Dhare Chal | Bhojpuri Bolbam Song 2025|Khesari Music World|0.1374067896389325  |\n|Mr. Truth | Episode 11 | Dreamz Unlimited                                                           |Dreamz Unlimited   |0.12197487036626153 |\n|Sabba : Village Flow (Official Video) | Latest Punjabi Songs 2025 | New Punjabi Songs 2025          |Speed Records      |0.07908112255574415 |\n|Finally We Found This ? 🤩 सच में खजाना मिल गया | Treasure Hunt Challenge Part - 4                  |MR. INDIAN HACKER  |0.06293433774271538 |\n|The Kuldeep Singhania Roast! (STOP THIS MAN)                                                        |Thugesh            |0.05580201510643094 |\n|Marriage Sothanaigal | Micset                                                                       |Mic Set            |0.052535978574194384|\n|Shadi Ki Taiyari shuru Hogyi 😍                                                                     |Sourav Joshi Vlogs |0.0518810581143147  |\n|Super Chor Bazaar Challenge | Winner Will Keep Everything🤑                                         |Crazy XYZ          |0.04938243093687405 |\n|Childhood Imagination Comes True | Motorised Boat | ഈ ബോട്ട് പറക്കും | M4 Tech |                    |M4 Tech            |0.04794989505348344 |\n+----------------------------------------------------------------------------------------------------+-------------------+--------------------+\nonly showing top 10 rows\n\n"
     ]
    }
   ],
   "source": [
    "from pyspark.sql.functions import expr\n",
    "\n",
    "engagement_df = casted_df.withColumn(\"likeViewRatio\", expr(\"likeCount / viewCount\"))\n",
    "engagement_df.orderBy(col(\"likeViewRatio\").desc()).select(\"title\", \"channelTitle\", \"likeViewRatio\").show(10, truncate=False)\n"
   ]
  },
  {
   "cell_type": "markdown",
   "metadata": {
    "application/vnd.databricks.v1+cell": {
     "cellMetadata": {
      "byteLimit": 2048000,
      "rowLimit": 10000
     },
     "inputWidgets": {},
     "nuid": "323db54d-d270-4994-8ff6-7f421b8e9547",
     "showTitle": false,
     "tableResultSettingsMap": {},
     "title": ""
    }
   },
   "source": [
    "# Analysis based on categories"
   ]
  },
  {
   "cell_type": "code",
   "execution_count": 0,
   "metadata": {
    "application/vnd.databricks.v1+cell": {
     "cellMetadata": {
      "byteLimit": 2048000,
      "rowLimit": 10000
     },
     "inputWidgets": {},
     "nuid": "03daabaf-cc6c-4269-a6f8-dd45baf329b0",
     "showTitle": false,
     "tableResultSettingsMap": {},
     "title": ""
    }
   },
   "outputs": [],
   "source": []
  },
  {
   "cell_type": "markdown",
   "metadata": {
    "application/vnd.databricks.v1+cell": {
     "cellMetadata": {
      "byteLimit": 2048000,
      "rowLimit": 10000
     },
     "inputWidgets": {},
     "nuid": "34eec125-9197-4ddc-8ac5-ef719fdff2bf",
     "showTitle": false,
     "tableResultSettingsMap": {},
     "title": ""
    }
   },
   "source": [
    "# Top Categories by Likes"
   ]
  },
  {
   "cell_type": "code",
   "execution_count": 0,
   "metadata": {
    "application/vnd.databricks.v1+cell": {
     "cellMetadata": {
      "byteLimit": 2048000,
      "rowLimit": 10000
     },
     "inputWidgets": {},
     "nuid": "deb0b65a-faf9-4f8b-84ce-bdfea58f5332",
     "showTitle": false,
     "tableResultSettingsMap": {},
     "title": ""
    }
   },
   "outputs": [
    {
     "output_type": "stream",
     "name": "stdout",
     "output_type": "stream",
     "text": [
      "+--------------------+--------------------+----------+\n|        categoryName|        channelTitle|totalLikes|\n+--------------------+--------------------+----------+\n|               Music|            T-Series|   1270614|\n|       Entertainment|             Netflix|    668886|\n|      People & Blogs|  Sourav Joshi Vlogs|    427552|\n|    Film & Animation|        Warner Bros.|    270301|\n|Science & Technology|   MR. INDIAN HACKER|    141791|\n|    Film & Animation|   Think Music India|    139778|\n|Science & Technology|           Crazy XYZ|    136852|\n|              Gaming|Free Fire India O...|    124167|\n|           Education|      Nischay Malhan|    110810|\n|       Entertainment|    Vijay Television|     98911|\n|       Entertainment|            ETV Dhee|     96560|\n|       Entertainment|LOL (Life of Limb...|     92515|\n|      People & Blogs|       Wanderers Hub|     82931|\n|       Entertainment|   Zee Music Company|     80213|\n|              Gaming|            SlayyPop|     74447|\n|       Entertainment|             Thugesh|     69069|\n|      People & Blogs|        Saba Ibrahim|     58240|\n|               Music| Khesari Music World|     56018|\n|               Music|          Dino James|     43779|\n|              Comedy|             Mic Set|     39075|\n+--------------------+--------------------+----------+\nonly showing top 20 rows\n\n"
     ]
    }
   ],
   "source": [
    "from pyspark.sql.functions import sum\n",
    "\n",
    "casted_df.groupBy(\"categoryName\",\"channelTitle\") \\\n",
    "    .agg(sum(\"likeCount\").alias(\"totalLikes\")) \\\n",
    "    .orderBy(\"totalLikes\", ascending=False) \\\n",
    "    .show()\n",
    "\n"
   ]
  },
  {
   "cell_type": "markdown",
   "metadata": {
    "application/vnd.databricks.v1+cell": {
     "cellMetadata": {
      "byteLimit": 2048000,
      "rowLimit": 10000
     },
     "inputWidgets": {},
     "nuid": "c9b17c2a-56a1-4e31-840b-5e35b1bad17d",
     "showTitle": false,
     "tableResultSettingsMap": {},
     "title": ""
    }
   },
   "source": [
    "# Top Categories by Comments"
   ]
  },
  {
   "cell_type": "code",
   "execution_count": 0,
   "metadata": {
    "application/vnd.databricks.v1+cell": {
     "cellMetadata": {
      "byteLimit": 2048000,
      "rowLimit": 10000
     },
     "inputWidgets": {},
     "nuid": "2d4a45e0-807c-4cf9-94f6-8b7b1ef9b00b",
     "showTitle": false,
     "tableResultSettingsMap": {},
     "title": ""
    }
   },
   "outputs": [
    {
     "output_type": "stream",
     "name": "stdout",
     "output_type": "stream",
     "text": [
      "+--------------------+--------------------+-------------+\n|        categoryName|        channelTitle|totalComments|\n+--------------------+--------------------+-------------+\n|               Music|            T-Series|        77471|\n|       Entertainment|             Netflix|        38411|\n|    Film & Animation|        Warner Bros.|        21949|\n|      People & Blogs|  Sourav Joshi Vlogs|        10831|\n|Science & Technology|   MR. INDIAN HACKER|         9984|\n|              Gaming|Free Fire India O...|         6181|\n|Science & Technology|           Crazy XYZ|         5680|\n|               Music| Khesari Music World|         4842|\n|       Entertainment|LOL (Life of Limb...|         4215|\n|       Entertainment|             Thugesh|         3983|\n|       Entertainment|   Zee Music Company|         3855|\n|               Music|          Dino James|         3451|\n|           Education|      Nischay Malhan|         2945|\n|    Film & Animation|   Think Music India|         2773|\n|      People & Blogs|        Saba Ibrahim|         2749|\n|       Entertainment|            ETV Dhee|         2547|\n|       Entertainment|    Dreamz Unlimited|         2406|\n|              Gaming|            SlayyPop|         2260|\n|      People & Blogs|       Wanderers Hub|         2161|\n|               Music|       Speed Records|         2103|\n+--------------------+--------------------+-------------+\nonly showing top 20 rows\n\n"
     ]
    }
   ],
   "source": [
    "casted_df.groupBy(\"categoryName\",\"channelTitle\") \\\n",
    "    .agg(sum(\"commentCount\").alias(\"totalComments\")) \\\n",
    "    .orderBy(\"totalComments\", ascending=False) \\\n",
    "    .show()"
   ]
  },
  {
   "cell_type": "markdown",
   "metadata": {
    "application/vnd.databricks.v1+cell": {
     "cellMetadata": {
      "byteLimit": 2048000,
      "rowLimit": 10000
     },
     "inputWidgets": {},
     "nuid": "64c9cb00-3f53-4b1b-ac68-4409dafa4221",
     "showTitle": false,
     "tableResultSettingsMap": {},
     "title": ""
    }
   },
   "source": [
    "# Average Engagement per Category"
   ]
  },
  {
   "cell_type": "code",
   "execution_count": 0,
   "metadata": {
    "application/vnd.databricks.v1+cell": {
     "cellMetadata": {
      "byteLimit": 2048000,
      "rowLimit": 10000
     },
     "inputWidgets": {},
     "nuid": "1057d0d1-6c72-4b42-aa40-2d69f020fff5",
     "showTitle": false,
     "tableResultSettingsMap": {},
     "title": ""
    }
   },
   "outputs": [],
   "source": [
    "# create engagment column on adding likecount and commentcount"
   ]
  },
  {
   "cell_type": "code",
   "execution_count": 0,
   "metadata": {
    "application/vnd.databricks.v1+cell": {
     "cellMetadata": {
      "byteLimit": 2048000,
      "rowLimit": 10000
     },
     "inputWidgets": {},
     "nuid": "02ae8e87-d6e7-484a-8f4c-b41893b79db4",
     "showTitle": false,
     "tableResultSettingsMap": {},
     "title": ""
    }
   },
   "outputs": [],
   "source": [
    "casted_df = casted_df.withColumn(\n",
    "    \"engagement\",\n",
    "    col(\"likeCount\") + col(\"commentCount\")\n",
    ")"
   ]
  },
  {
   "cell_type": "code",
   "execution_count": 0,
   "metadata": {
    "application/vnd.databricks.v1+cell": {
     "cellMetadata": {
      "byteLimit": 2048000,
      "rowLimit": 10000
     },
     "inputWidgets": {},
     "nuid": "9287e64b-4719-4b95-ad4f-8aa3c0590fdb",
     "showTitle": false,
     "tableResultSettingsMap": {},
     "title": ""
    }
   },
   "outputs": [
    {
     "output_type": "stream",
     "name": "stdout",
     "output_type": "stream",
     "text": [
      "+--------------------+-----------------+\n|categoryName        |avgEngagement    |\n+--------------------+-----------------+\n|Music               |190660.625       |\n|Film & Animation    |156408.0         |\n|Science & Technology|147153.5         |\n|Education           |113755.0         |\n|Gaming              |103527.5         |\n|People & Blogs      |77392.625        |\n|Entertainment       |58705.40909090909|\n|Comedy              |22948.5          |\n|Sports              |15729.0          |\n|Howto & Style       |12763.0          |\n+--------------------+-----------------+\n\n"
     ]
    }
   ],
   "source": [
    "from pyspark.sql.functions import avg\n",
    "\n",
    "casted_df.groupBy(\"categoryName\") \\\n",
    "    .agg(avg(\"engagement\").alias(\"avgEngagement\")) \\\n",
    "    .orderBy(\"avgEngagement\", ascending=False) \\\n",
    "    .show(truncate=False)\n"
   ]
  },
  {
   "cell_type": "code",
   "execution_count": 0,
   "metadata": {
    "application/vnd.databricks.v1+cell": {
     "cellMetadata": {
      "byteLimit": 2048000,
      "rowLimit": 10000
     },
     "inputWidgets": {},
     "nuid": "c99929e7-4f10-48be-b18c-9e30a213f83d",
     "showTitle": false,
     "tableResultSettingsMap": {},
     "title": ""
    }
   },
   "outputs": [],
   "source": []
  },
  {
   "cell_type": "markdown",
   "metadata": {
    "application/vnd.databricks.v1+cell": {
     "cellMetadata": {
      "byteLimit": 2048000,
      "rowLimit": 10000
     },
     "inputWidgets": {},
     "nuid": "d28831dd-1a5b-4d12-9e23-ff0ec108a111",
     "showTitle": false,
     "tableResultSettingsMap": {},
     "title": ""
    }
   },
   "source": [
    "# Average engagement by video duration"
   ]
  },
  {
   "cell_type": "code",
   "execution_count": 0,
   "metadata": {
    "application/vnd.databricks.v1+cell": {
     "cellMetadata": {
      "byteLimit": 2048000,
      "rowLimit": 10000
     },
     "inputWidgets": {},
     "nuid": "ea0fa3a8-9071-4595-9f40-c71df1acd649",
     "showTitle": false,
     "tableResultSettingsMap": {},
     "title": ""
    }
   },
   "outputs": [],
   "source": [
    "# it says that people are engage or not  in short,long or medium videos"
   ]
  },
  {
   "cell_type": "code",
   "execution_count": 0,
   "metadata": {
    "application/vnd.databricks.v1+cell": {
     "cellMetadata": {
      "byteLimit": 2048000,
      "rowLimit": 10000
     },
     "inputWidgets": {},
     "nuid": "2e5a3e86-3190-4fb4-be32-bc64cc6e1467",
     "showTitle": false,
     "tableResultSettingsMap": {},
     "title": ""
    }
   },
   "outputs": [
    {
     "output_type": "stream",
     "name": "stdout",
     "output_type": "stream",
     "text": [
      "+----------------+-----------------+\n|durationCategory|    avgEngagement|\n+----------------+-----------------+\n|           Short|169278.9411764706|\n|          Medium|          70355.0|\n|            Long|34779.58823529412|\n+----------------+-----------------+\n\n"
     ]
    }
   ],
   "source": [
    "# Step 1: Categorize durations\n",
    "from pyspark.sql.functions import when\n",
    "\n",
    "casted_df = casted_df.withColumn(\n",
    "    \"durationCategory\",\n",
    "    when(col(\"duration\") <= 300, \"Short\")  # ≤ 5 mins\n",
    "    .when((col(\"duration\") > 300) & (col(\"duration\") <= 1200), \"Medium\")  # 5–20 mins\n",
    "    .otherwise(\"Long\")  # > 20 mins\n",
    ")\n",
    "\n",
    "# Step 2: Avg engagement per duration category\n",
    "casted_df.groupBy(\"durationCategory\") \\\n",
    "    .agg(avg(\"engagement\").alias(\"avgEngagement\")) \\\n",
    "    .orderBy(\"avgEngagement\", ascending=False) \\\n",
    "    .show()\n"
   ]
  },
  {
   "cell_type": "markdown",
   "metadata": {
    "application/vnd.databricks.v1+cell": {
     "cellMetadata": {
      "byteLimit": 2048000,
      "rowLimit": 10000
     },
     "inputWidgets": {},
     "nuid": "72538082-1c80-46e1-a04c-a82a83b09d27",
     "showTitle": false,
     "tableResultSettingsMap": {},
     "title": ""
    }
   },
   "source": [
    "# Top performing categories within duration groups"
   ]
  },
  {
   "cell_type": "code",
   "execution_count": 0,
   "metadata": {
    "application/vnd.databricks.v1+cell": {
     "cellMetadata": {
      "byteLimit": 2048000,
      "rowLimit": 10000
     },
     "inputWidgets": {},
     "nuid": "d038bee9-35aa-4c91-bdbe-1217fc49ee26",
     "showTitle": false,
     "tableResultSettingsMap": {},
     "title": ""
    }
   },
   "outputs": [
    {
     "output_type": "stream",
     "name": "stdout",
     "output_type": "stream",
     "text": [
      "+----------------+--------------------+------------------+\n|durationCategory|        categoryName|     avgEngagement|\n+----------------+--------------------+------------------+\n|           Short|               Music|217805.42857142858|\n|           Short|    Film & Animation|          217400.5|\n|           Short|       Entertainment|130640.14285714286|\n|           Short|      People & Blogs|            3822.0|\n|          Medium|      People & Blogs|152518.33333333334|\n|          Medium|Science & Technology|          151775.0|\n|          Medium|           Education|          113755.0|\n|          Medium|              Gaming|          103527.5|\n|          Medium|              Comedy|           39837.0|\n|          Medium|       Entertainment|21201.833333333332|\n|          Medium|              Sports|           15729.0|\n|          Medium|       Howto & Style|           12763.0|\n|            Long|Science & Technology|          142532.0|\n|            Long|      People & Blogs|           39441.0|\n|            Long|    Film & Animation|           34423.0|\n|            Long|       Entertainment|27758.555555555555|\n|            Long|              Comedy|            6060.0|\n|            Long|               Music|             647.0|\n+----------------+--------------------+------------------+\n\n"
     ]
    }
   ],
   "source": [
    "casted_df.groupBy(\"durationCategory\", \"categoryName\") \\\n",
    "    .agg(avg(\"engagement\").alias(\"avgEngagement\")) \\\n",
    "    .orderBy(\"durationCategory\", \"avgEngagement\", ascending=False) \\\n",
    "    .show()\n"
   ]
  },
  {
   "cell_type": "markdown",
   "metadata": {
    "application/vnd.databricks.v1+cell": {
     "cellMetadata": {
      "byteLimit": 2048000,
      "rowLimit": 10000
     },
     "inputWidgets": {},
     "nuid": "a661a564-4a57-4ecb-a99e-b3b16ad09a30",
     "showTitle": false,
     "tableResultSettingsMap": {},
     "title": ""
    }
   },
   "source": [
    "# Total Watch Time per Category (durationCategory)"
   ]
  },
  {
   "cell_type": "code",
   "execution_count": 0,
   "metadata": {
    "application/vnd.databricks.v1+cell": {
     "cellMetadata": {
      "byteLimit": 2048000,
      "rowLimit": 10000
     },
     "inputWidgets": {},
     "nuid": "8135d5b7-c765-4405-8d4c-47fc3a68c97b",
     "showTitle": false,
     "tableResultSettingsMap": {},
     "title": ""
    }
   },
   "outputs": [
    {
     "output_type": "stream",
     "name": "stdout",
     "output_type": "stream",
     "text": [
      "+----------------+----------------------+\n|durationCategory|totalWatchTime_seconds|\n+----------------+----------------------+\n|            Long|                 38208|\n|          Medium|                 12478|\n|           Short|                  2396|\n+----------------+----------------------+\n\n"
     ]
    }
   ],
   "source": [
    "casted_df.groupBy(\"durationCategory\") \\\n",
    "    .agg(sum(\"duration\").alias(\"totalWatchTime_seconds\")) \\\n",
    "    .orderBy(\"totalWatchTime_seconds\", ascending=False) \\\n",
    "    .show()\n"
   ]
  },
  {
   "cell_type": "markdown",
   "metadata": {
    "application/vnd.databricks.v1+cell": {
     "cellMetadata": {
      "byteLimit": 2048000,
      "rowLimit": 10000
     },
     "inputWidgets": {},
     "nuid": "565c3471-5d58-420c-aed6-a1330c16b51f",
     "showTitle": false,
     "tableResultSettingsMap": {},
     "title": ""
    }
   },
   "source": [
    "# Total Watch Time per Category and Duration Bucket"
   ]
  },
  {
   "cell_type": "code",
   "execution_count": 0,
   "metadata": {
    "application/vnd.databricks.v1+cell": {
     "cellMetadata": {
      "byteLimit": 2048000,
      "rowLimit": 10000
     },
     "inputWidgets": {},
     "nuid": "96c31859-b420-4e1d-96d0-50e72ebda425",
     "showTitle": false,
     "tableResultSettingsMap": {},
     "title": ""
    }
   },
   "outputs": [
    {
     "output_type": "stream",
     "name": "stdout",
     "output_type": "stream",
     "text": [
      "+--------------------+----------------+----------------------+\n|categoryName        |durationCategory|totalWatchTime_seconds|\n+--------------------+----------------+----------------------+\n|Comedy              |Long            |3498                  |\n|Comedy              |Medium          |755                   |\n|Education           |Medium          |640                   |\n|Entertainment       |Long            |14918                 |\n|Entertainment       |Medium          |4455                  |\n|Entertainment       |Short           |668                   |\n|Film & Animation    |Long            |8732                  |\n|Film & Animation    |Short           |320                   |\n|Gaming              |Medium          |1604                  |\n|Howto & Style       |Medium          |734                   |\n|Music               |Long            |3416                  |\n|Music               |Short           |1321                  |\n|People & Blogs      |Long            |6034                  |\n|People & Blogs      |Medium          |2406                  |\n|People & Blogs      |Short           |87                    |\n|Science & Technology|Long            |1610                  |\n|Science & Technology|Medium          |887                   |\n|Sports              |Medium          |997                   |\n+--------------------+----------------+----------------------+\n\n"
     ]
    }
   ],
   "source": [
    "from pyspark.sql.functions import sum\n",
    "\n",
    "casted_df.groupBy(\"categoryName\", \"durationCategory\") \\\n",
    "    .agg(sum(\"duration\").alias(\"totalWatchTime_seconds\")) \\\n",
    "    .orderBy(\"categoryName\", \"durationCategory\") \\\n",
    "    .show(truncate=False)\n"
   ]
  },
  {
   "cell_type": "code",
   "execution_count": 0,
   "metadata": {
    "application/vnd.databricks.v1+cell": {
     "cellMetadata": {
      "byteLimit": 2048000,
      "rowLimit": 10000
     },
     "inputWidgets": {},
     "nuid": "0eaeb5be-22ef-4b78-9924-575d01e1a8e4",
     "showTitle": false,
     "tableResultSettingsMap": {},
     "title": ""
    }
   },
   "outputs": [],
   "source": [
    "# i have attached the chanelTitle also , from here we can get idea \n",
    "# 1) Which channel is dominating which category .\n",
    "# 2) Which channel do people watch for longer time?\n",
    "# 3) Which channel's videos, short, medium or long, are being watched more?"
   ]
  },
  {
   "cell_type": "code",
   "execution_count": 0,
   "metadata": {
    "application/vnd.databricks.v1+cell": {
     "cellMetadata": {
      "byteLimit": 2048000,
      "rowLimit": 10000
     },
     "inputWidgets": {},
     "nuid": "57605fe9-91b9-4aa1-b324-e7c395e19551",
     "showTitle": false,
     "tableResultSettingsMap": {},
     "title": ""
    }
   },
   "outputs": [
    {
     "output_type": "stream",
     "name": "stdout",
     "output_type": "stream",
     "text": [
      "+------------------------+--------------------+----------------+----------------------+\n|channelTitle            |categoryName        |durationCategory|totalWatchTime_seconds|\n+------------------------+--------------------+----------------+----------------------+\n|Sony Sports Network     |Sports              |Medium          |997                   |\n|MR. INDIAN HACKER       |Science & Technology|Medium          |887                   |\n|Crazy XYZ               |Science & Technology|Long            |1610                  |\n|Telly MEK               |People & Blogs      |Short           |87                    |\n|Sourav Joshi Vlogs      |People & Blogs      |Medium          |1341                  |\n|RasigargalinRasigan     |People & Blogs      |Medium          |1065                  |\n|Sushma Kiron            |People & Blogs      |Long            |1795                  |\n|Breakthrough            |People & Blogs      |Long            |1459                  |\n|Wanderers Hub           |People & Blogs      |Long            |1445                  |\n|Saba Ibrahim            |People & Blogs      |Long            |1335                  |\n|T-Series                |Music               |Short           |635                   |\n|Dino James              |Music               |Short           |285                   |\n|Khesari Music World     |Music               |Short           |203                   |\n|Speed Records           |Music               |Short           |171                   |\n|T-Series Telugu         |Music               |Short           |27                    |\n|Bhakti Maalai           |Music               |Long            |3416                  |\n|Steffi Ulagam           |Howto & Style       |Medium          |734                   |\n|SlayyPop                |Gaming              |Medium          |1081                  |\n|Free Fire India Official|Gaming              |Medium          |523                   |\n|Think Music India       |Film & Animation    |Short           |167                   |\n+------------------------+--------------------+----------------+----------------------+\nonly showing top 20 rows\n\n"
     ]
    }
   ],
   "source": [
    "from pyspark.sql.functions import sum\n",
    "\n",
    "casted_df.groupBy(\"channelTitle\", \"categoryName\", \"durationCategory\") \\\n",
    "    .agg(sum(\"duration\").alias(\"totalWatchTime_seconds\")) \\\n",
    "    .orderBy(\"categoryName\", \"durationCategory\", \"totalWatchTime_seconds\", ascending=False) \\\n",
    "    .show(truncate=False)\n"
   ]
  },
  {
   "cell_type": "code",
   "execution_count": 0,
   "metadata": {
    "application/vnd.databricks.v1+cell": {
     "cellMetadata": {
      "byteLimit": 2048000,
      "rowLimit": 10000
     },
     "inputWidgets": {},
     "nuid": "de4288fe-4a2a-4ffe-8618-22ede843d9b2",
     "showTitle": false,
     "tableResultSettingsMap": {},
     "title": ""
    }
   },
   "outputs": [],
   "source": []
  },
  {
   "cell_type": "markdown",
   "metadata": {
    "application/vnd.databricks.v1+cell": {
     "cellMetadata": {
      "byteLimit": 2048000,
      "rowLimit": 10000
     },
     "inputWidgets": {},
     "nuid": "26ed54da-4b5a-4911-87b5-8cd16f364749",
     "showTitle": false,
     "tableResultSettingsMap": {},
     "title": ""
    }
   },
   "source": [
    "# Top 5 Longest Videos with High Engagement"
   ]
  },
  {
   "cell_type": "code",
   "execution_count": 0,
   "metadata": {
    "application/vnd.databricks.v1+cell": {
     "cellMetadata": {
      "byteLimit": 2048000,
      "rowLimit": 10000
     },
     "inputWidgets": {},
     "nuid": "36ab70d5-02e4-4397-8a6e-d488f803e5b0",
     "showTitle": false,
     "tableResultSettingsMap": {},
     "title": ""
    }
   },
   "outputs": [
    {
     "output_type": "stream",
     "name": "stdout",
     "output_type": "stream",
     "text": [
      "+----------------------------------------------------------------------------------------------------+--------+----------+\n|title                                                                                               |duration|engagement|\n+----------------------------------------------------------------------------------------------------+--------+----------+\n|Romeo S3 - Full Movie | Palak Tiwari, Thakur Anoop Singh | Pen Movies | New Hindi Movie 2025        |8732    |34423     |\n|किसको इशारों में कहा Jetha ने अकलमंद? | Taarak Mehta Ka Ooltah Chashmah | Full Movie                |3498    |6060      |\n|ஆடி முதல் வெள்ளி அம்மன் பாடல் |ஆடி வெள்ளி அம்மனுக்கு | Aadi Velli Ammanukku | Aadi Masam Amman Songs|3416    |647       |\n|Mahalakshmi | Flowers TV | EP # 157 + 158                                                           |2515    |4961      |\n|Dhee 20 | Re Release Special | 9th July 2025 | Regena Cassandrra ,Vijay Binni | Full Episode | ETV  |2022    |54832     |\n+----------------------------------------------------------------------------------------------------+--------+----------+\nonly showing top 5 rows\n\n"
     ]
    }
   ],
   "source": [
    "casted_df.orderBy(col(\"duration\").desc(), col(\"engagement\").desc()).select(\"title\", \"duration\", \"engagement\").show(5, truncate=False)\n"
   ]
  },
  {
   "cell_type": "markdown",
   "metadata": {
    "application/vnd.databricks.v1+cell": {
     "cellMetadata": {
      "byteLimit": 2048000,
      "rowLimit": 10000
     },
     "inputWidgets": {},
     "nuid": "8d19b75d-093e-46ea-85c3-29b77bba7f76",
     "showTitle": false,
     "tableResultSettingsMap": {},
     "title": ""
    }
   },
   "source": [
    "#  Education and Tech-Focused Insights"
   ]
  },
  {
   "cell_type": "code",
   "execution_count": 0,
   "metadata": {
    "application/vnd.databricks.v1+cell": {
     "cellMetadata": {
      "byteLimit": 2048000,
      "rowLimit": 10000
     },
     "inputWidgets": {},
     "nuid": "05a53a27-e6af-4fcc-b9b4-6548b325d12b",
     "showTitle": false,
     "tableResultSettingsMap": {},
     "title": ""
    }
   },
   "outputs": [
    {
     "output_type": "stream",
     "name": "stdout",
     "output_type": "stream",
     "text": [
      "+-----------+--------------------+-----------------+--------------------+--------------------+----------+--------------------+---------------+--------------------+---------+---------+------------+--------+-------+--------------------+-------------+----+-----+----------+----------------+\n|         id|           channelId|     channelTitle|               title|         description|categoryId|                tags|defaultLanguage|defaultAudioLanguage|viewCount|likeCount|commentCount|duration|caption|        categoryName|publishedDate|year|month|engagement|durationCategory|\n+-----------+--------------------+-----------------+--------------------+--------------------+----------+--------------------+---------------+--------------------+---------+---------+------------+--------+-------+--------------------+-------------+----+-----+----------+----------------+\n|DEtNELkJRJg|UCSiDGb0MnHFGjs4E...|MR. INDIAN HACKER|Finally We Found ...|Guy's iss video m...|        28|[treasure challen...|          en-US|                 zxx|  2252999|   141791|        9984|     887|  false|Science & Technology|   2025-07-17|2025|    7|    151775|          Medium|\n|mqp2_TaJDac|UCebC4x5l2-PQxg46...|        Crazy XYZ|Super Chor Bazaar...|Hello guys, is vi...|        28|[Crazy xyz challe...|           null|                  hi|  2771269|   136852|        5680|    1610|  false|Science & Technology|   2025-07-16|2025|    7|    142532|            Long|\n|FnkgM7qrueY|UC2ue0PuRZwRHPfp2...|   Nischay Malhan|Next Level Brain ...|reaction on next ...|        27|[nischay malhan, ...|           null|                  en|  2350017|   110810|        2945|     640|  false|           Education|   2025-07-15|2025|    7|    113755|          Medium|\n+-----------+--------------------+-----------------+--------------------+--------------------+----------+--------------------+---------------+--------------------+---------+---------+------------+--------+-------+--------------------+-------------+----+-----+----------+----------------+\n\n"
     ]
    }
   ],
   "source": [
    "education_df = casted_df.filter(col(\"categoryName\").isin(\"Education\", \"Science & Technology\"))\n",
    "education_df.show()"
   ]
  },
  {
   "cell_type": "code",
   "execution_count": 0,
   "metadata": {
    "application/vnd.databricks.v1+cell": {
     "cellMetadata": {
      "byteLimit": 2048000,
      "rowLimit": 10000
     },
     "inputWidgets": {},
     "nuid": "35598906-d939-40da-be20-b3ccba8c1e84",
     "showTitle": false,
     "tableResultSettingsMap": {},
     "title": ""
    }
   },
   "outputs": [
    {
     "output_type": "stream",
     "name": "stdout",
     "output_type": "stream",
     "text": [
      "+----------------------------------------------------------------------------------+---------+---------+----------+\n|title                                                                             |likeCount|viewCount|engagement|\n+----------------------------------------------------------------------------------+---------+---------+----------+\n|Finally We Found This ? 🤩 सच में खजाना मिल गया | Treasure Hunt Challenge Part - 4|141791   |2252999  |151775    |\n|Super Chor Bazaar Challenge | Winner Will Keep Everything🤑                       |136852   |2771269  |142532    |\n|Next Level Brain Rot😂 But Shhhhh....🙊                                           |110810   |2350017  |113755    |\n+----------------------------------------------------------------------------------+---------+---------+----------+\n\n"
     ]
    }
   ],
   "source": [
    "education_df.select(\"title\", \"likeCount\", \"viewCount\", \"engagement\").show(truncate=False)"
   ]
  },
  {
   "cell_type": "code",
   "execution_count": 0,
   "metadata": {
    "application/vnd.databricks.v1+cell": {
     "cellMetadata": {
      "byteLimit": 2048000,
      "rowLimit": 10000
     },
     "inputWidgets": {},
     "nuid": "21dfe6ff-4d99-4671-b6df-c4ff3df9cf61",
     "showTitle": false,
     "tableResultSettingsMap": {},
     "title": ""
    }
   },
   "outputs": [
    {
     "output_type": "stream",
     "name": "stdout",
     "output_type": "stream",
     "text": [
      "+-----------------+----------------------------------------------------------------------------------+--------------------+\n|channelTitle     |title                                                                             |categoryName        |\n+-----------------+----------------------------------------------------------------------------------+--------------------+\n|MR. INDIAN HACKER|Finally We Found This ? 🤩 सच में खजाना मिल गया | Treasure Hunt Challenge Part - 4|Science & Technology|\n|Crazy XYZ        |Super Chor Bazaar Challenge | Winner Will Keep Everything🤑                       |Science & Technology|\n|Nischay Malhan   |Next Level Brain Rot😂 But Shhhhh....🙊                                           |Education           |\n+-----------------+----------------------------------------------------------------------------------+--------------------+\n\n"
     ]
    }
   ],
   "source": [
    "education_df.select(\"channelTitle\", \"title\", \"categoryName\").show(truncate=False)\n"
   ]
  },
  {
   "cell_type": "code",
   "execution_count": 0,
   "metadata": {
    "application/vnd.databricks.v1+cell": {
     "cellMetadata": {
      "byteLimit": 2048000,
      "rowLimit": 10000
     },
     "inputWidgets": {},
     "nuid": "d9d8f83f-36e6-435c-aa19-aa9b8b8b88dc",
     "showTitle": false,
     "tableResultSettingsMap": {},
     "title": ""
    }
   },
   "outputs": [],
   "source": [
    "# i check education content by seeing the keyword like what ever i have mentioned in the below "
   ]
  },
  {
   "cell_type": "code",
   "execution_count": 0,
   "metadata": {
    "application/vnd.databricks.v1+cell": {
     "cellMetadata": {
      "byteLimit": 2048000,
      "rowLimit": 10000
     },
     "inputWidgets": {},
     "nuid": "6fc60c96-efa4-4590-8eab-436d85d9fae6",
     "showTitle": false,
     "tableResultSettingsMap": {},
     "title": ""
    }
   },
   "outputs": [
    {
     "output_type": "stream",
     "name": "stdout",
     "output_type": "stream",
     "text": [
      "+---+---------+------------+-----+-----------+----------+----+---------------+--------------------+---------+---------+------------+--------+-------+------------+-------------+----+-----+----------+----------------+\n|id |channelId|channelTitle|title|description|categoryId|tags|defaultLanguage|defaultAudioLanguage|viewCount|likeCount|commentCount|duration|caption|categoryName|publishedDate|year|month|engagement|durationCategory|\n+---+---------+------------+-----+-----------+----------+----+---------------+--------------------+---------+---------+------------+--------+-------+------------+-------------+----+-----+----------+----------------+\n+---+---------+------------+-----+-----------+----------+----+---------------+--------------------+---------+---------+------------+--------+-------+------------+-------------+----+-----+----------+----------------+\n\nOut[105]: 0"
     ]
    }
   ],
   "source": [
    "from pyspark.sql.functions import col, lower\n",
    "from functools import reduce\n",
    "\n",
    "keywords = [\"tutorial\", \"science\", \"learn\", \"how to\", \"technology\", \"education\", \"experiment\", \"physics\", \"math\", \"engineering\"]\n",
    "\n",
    "# Debugging: ensure title is not null\n",
    "education_df_filtered = education_df.filter(col(\"title\").isNotNull())\n",
    "\n",
    "# Apply keyword filter in lowercase\n",
    "education_clean_df = education_df_filtered.filter(\n",
    "    reduce(lambda a, b: a | b, [lower(col(\"title\")).contains(k) for k in keywords])\n",
    ")\n",
    "\n",
    "education_clean_df.show(truncate=False)\n",
    "education_clean_df.count()\n"
   ]
  },
  {
   "cell_type": "code",
   "execution_count": 0,
   "metadata": {
    "application/vnd.databricks.v1+cell": {
     "cellMetadata": {
      "byteLimit": 2048000,
      "rowLimit": 10000
     },
     "inputWidgets": {},
     "nuid": "fc350f10-fa51-4863-86ea-92043f10432e",
     "showTitle": false,
     "tableResultSettingsMap": {},
     "title": ""
    }
   },
   "outputs": [
    {
     "output_type": "stream",
     "name": "stdout",
     "output_type": "stream",
     "text": [
      "+----------------------------------------------------------------------------------+\n|title                                                                             |\n+----------------------------------------------------------------------------------+\n|Finally We Found This ? 🤩 सच में खजाना मिल गया | Treasure Hunt Challenge Part - 4|\n|Super Chor Bazaar Challenge | Winner Will Keep Everything🤑                       |\n|Next Level Brain Rot😂 But Shhhhh....🙊                                           |\n+----------------------------------------------------------------------------------+\n\n"
     ]
    }
   ],
   "source": [
    "education_df.select(\"title\").show(20, truncate=False)\n",
    "\n"
   ]
  },
  {
   "cell_type": "markdown",
   "metadata": {
    "application/vnd.databricks.v1+cell": {
     "cellMetadata": {
      "byteLimit": 2048000,
      "rowLimit": 10000
     },
     "inputWidgets": {},
     "nuid": "55145c68-0251-440b-bc86-81512397016c",
     "showTitle": false,
     "tableResultSettingsMap": {},
     "title": ""
    }
   },
   "source": [
    "# Most engaging education/tech videos"
   ]
  },
  {
   "cell_type": "code",
   "execution_count": 0,
   "metadata": {
    "application/vnd.databricks.v1+cell": {
     "cellMetadata": {
      "byteLimit": 2048000,
      "rowLimit": 10000
     },
     "inputWidgets": {},
     "nuid": "300a4b04-b5fa-4f7f-aab3-a1c98ec44373",
     "showTitle": false,
     "tableResultSettingsMap": {},
     "title": ""
    }
   },
   "outputs": [
    {
     "output_type": "stream",
     "name": "stdout",
     "output_type": "stream",
     "text": [
      "+----------------------------------------------------------------------------------+----------+\n|title                                                                             |engagement|\n+----------------------------------------------------------------------------------+----------+\n|Finally We Found This ? 🤩 सच में खजाना मिल गया | Treasure Hunt Challenge Part - 4|151775    |\n|Super Chor Bazaar Challenge | Winner Will Keep Everything🤑                       |142532    |\n|Next Level Brain Rot😂 But Shhhhh....🙊                                           |113755    |\n+----------------------------------------------------------------------------------+----------+\n\n"
     ]
    }
   ],
   "source": [
    "education_df.orderBy(\"engagement\", ascending=False).select(\"title\", \"engagement\").show(10, truncate=False)\n"
   ]
  },
  {
   "cell_type": "markdown",
   "metadata": {
    "application/vnd.databricks.v1+cell": {
     "cellMetadata": {
      "byteLimit": 2048000,
      "rowLimit": 10000
     },
     "inputWidgets": {},
     "nuid": "1c7ddbff-e737-450c-bf00-4307c7652db4",
     "showTitle": false,
     "tableResultSettingsMap": {},
     "title": ""
    }
   },
   "source": [
    "# Keyword-Based Filtering (regardless of category)"
   ]
  },
  {
   "cell_type": "code",
   "execution_count": 0,
   "metadata": {
    "application/vnd.databricks.v1+cell": {
     "cellMetadata": {
      "byteLimit": 2048000,
      "rowLimit": 10000
     },
     "inputWidgets": {},
     "nuid": "bd86f6a7-aeec-4b9a-bb8d-088cb159604f",
     "showTitle": false,
     "tableResultSettingsMap": {},
     "title": ""
    }
   },
   "outputs": [
    {
     "output_type": "stream",
     "name": "stdout",
     "output_type": "stream",
     "text": [
      "+-------------+-----------------------------------------------------------------------------------------------+---------------------------------------------------------------------------------------------------------------------------------------------------------------------------------------------------------------------------------------------------------------------------------------------------------------------------------------------------------------------------------------------------------------------------------------------------------------------------------------------------------------------------------------------------------------------------------------------------------------------------------------------------------------------------------------------------------------------------------------------------------------------------------------------------------------------------------------------------------------------------------------------------------------------------------------------------------------------------------------------------------------------------------------------------------------------------------------------------------------------------------------------------------------------------------------------------------------------------------------------------------------------------------------------------------------------------------------------------------------------------------------------------------------------------------------------------------------------------------------------------------------------------------------------------------------------------------------------------------------------------------------------------------------------------------------------------------------------------------------------------------------------------------------------------------------------------------------------------------------------------------------------------------------------------------------------------------------------------------------------------------------------------------------------------------------------------------------------------------------------------------------------------------------------------------------------------------------------------------------------------------------------------------------------------------------------------------------------------------------------------------------------------------------------------------------------------------------------------------------------------------------------------------------------------------------------------------------------------------------------------------------------------------------------------------------------------------------------------------------------------------------------------------------------------------------------------------------------------------------------------------------------------------------------------------------------------------------------------------------------------------------------------------------------------------------------------------------------------------------------------------------------------------------------------------------------------------------------------------------------------------------------------------------------------------------------------------------------------------------------------------------------------------------------------------------------------------------------------------------------------------------------------------------------------------------------------------------------------------------------------------------------------------------------------------------------------------------------------------------------------------------------------------------------------------------------------------------------------------------------------------------------------------------------------------------------------------------------------------------------------------------------------------------------------------------------------------------------------------------------------------------------------------------------------------------------------------------------------------------------------------------------------------------------------------------------------------------------------------------------------------------------------------------------------------------------------------------------------------------------------------------------------------------------------------------------------------------------------------------------------------------------------------------------------------------------------------------------------------------------------------------------------------------------------------------------------------------------------------------------------------------------------+\n|categoryName |title                                                                                          |description                                                                                                                                                                                                                                                                                                                                                                                                                                                                                                                                                                                                                                                                                                                                                                                                                                                                                                                                                                                                                                                                                                                                                                                                                                                                                                                                                                                                                                                                                                                                                                                                                                                                                                                                                                                                                                                                                                                                                                                                                                                                                                                                                                                                                                                                                                                                                                                                                                                                                                                                                                                                                                                                                                                                                                                                                                                                                                                                                                                                                                                                                                                                                                                                                                                                                                                                                                                                                                                                                                                                                                                                                                                                                                                                                                                                                                                                                                                                                                                                                                                                                                                                                                                                                                                                                                                                                                                                                                                                                                                                                                                                                                                                                                                                                                                                                                                                                        |\n+-------------+-----------------------------------------------------------------------------------------------+---------------------------------------------------------------------------------------------------------------------------------------------------------------------------------------------------------------------------------------------------------------------------------------------------------------------------------------------------------------------------------------------------------------------------------------------------------------------------------------------------------------------------------------------------------------------------------------------------------------------------------------------------------------------------------------------------------------------------------------------------------------------------------------------------------------------------------------------------------------------------------------------------------------------------------------------------------------------------------------------------------------------------------------------------------------------------------------------------------------------------------------------------------------------------------------------------------------------------------------------------------------------------------------------------------------------------------------------------------------------------------------------------------------------------------------------------------------------------------------------------------------------------------------------------------------------------------------------------------------------------------------------------------------------------------------------------------------------------------------------------------------------------------------------------------------------------------------------------------------------------------------------------------------------------------------------------------------------------------------------------------------------------------------------------------------------------------------------------------------------------------------------------------------------------------------------------------------------------------------------------------------------------------------------------------------------------------------------------------------------------------------------------------------------------------------------------------------------------------------------------------------------------------------------------------------------------------------------------------------------------------------------------------------------------------------------------------------------------------------------------------------------------------------------------------------------------------------------------------------------------------------------------------------------------------------------------------------------------------------------------------------------------------------------------------------------------------------------------------------------------------------------------------------------------------------------------------------------------------------------------------------------------------------------------------------------------------------------------------------------------------------------------------------------------------------------------------------------------------------------------------------------------------------------------------------------------------------------------------------------------------------------------------------------------------------------------------------------------------------------------------------------------------------------------------------------------------------------------------------------------------------------------------------------------------------------------------------------------------------------------------------------------------------------------------------------------------------------------------------------------------------------------------------------------------------------------------------------------------------------------------------------------------------------------------------------------------------------------------------------------------------------------------------------------------------------------------------------------------------------------------------------------------------------------------------------------------------------------------------------------------------------------------------------------------------------------------------------------------------------------------------------------------------------------------------------------------------------------------------------------------------------------+\n|Music        |SON OF SARDAAR 2 | THE PO PO SONG | Ajay Devgn | Mrunal Thakur | Guru Randhawa | Tanishk Bagchi|Reloading the superhit with a new twist! Presenting \"THE PO PO SONG\" from the film SON OF SARDAAR 2. Feat. Ajay Devgn, Mrunal Thakur & Guru Randhawa. \\n\\nProduced by: Ajay Devgn, Jyoti Deshpande\\nProduced by: N R Pachisia, Pravin Talreja\\nCo-Producer: Kumar Mangat Pathak\\nPresented by: Jio Studios & Devgn Films\\nA SOS2 Limited Production\\n\\n#SonOfSardaar2 in cinemas this 25th of July! \\n#SardaarIsBack #SOS2\\n\\n♪Full Song Available on♪ \\nJioSaavn: http://bit.ly/44SiRTY\\nSpotify: http://bit.ly/4lydbpr\\nApple Music: http://bit.ly/4kL1LNZ\\nGaana: http://bit.ly/4kFPdqX\\nAmazon Prime Music: http://bit.ly/3GQ1XgT\\nYouTube Music: http://bit.ly/3IxLHBL\\n\\nAudio Credits:\\nSinger : Guru Randhawa\\nMusic : Tanishk Bagchi\\nLyrics : Armaan Sharma\\nMusic Production: Tanishk Bagchi\\nAdditional music Production: Param Raj\\nMix & Master : Abhishek Ghatak\\nMusic Label – T-Series\\n\\nOriginal Credits:\\nMusic- Himesh Reshammiya\\nSinger - Vikas Bhalla, Aman Trikha, Himesh Reshammiya\\nLyrics - Shabbir Ahmed\\n\\nFilm Credits\\nDirector: Vijay Kumar Arora\\nProduced by: Ajay Devgn, Jyoti Deshpande\\nProduced by: N R Pachisia, Pravin Talreja\\nCo-Producer: Kumar Mangat Pathak\\nPresented by: Jio Studios & Devgn Films\\nA SOS2 Limited Production\\nStory & Screenplay: Jagdeep Singh Sidhu & Mohit Jain\\nDirector of Photography: Aseem Bajaj, GBCT\\nProject Head & Creative Producer: Danish Devgn\\nEditor: Ninad Khanolkar\\nVFX Creative Head: Naveen Paul (NY VFXWaala)\\nBackground Score: Amar Mohile & Salil Amrute\\nDialogues: Jagdeep Singh Sidhu\\nExecutive Producer: Ashish Kathpal\\nLine Producer: Vivek Padaliya\\nSound Designer: Lochan Pratap Kanvinde\\nProduction Designer: Garima Mathur\\nCostume Designer: Radhika Mehra\\nChief Finance Officer (Devgn Films): Nilesh Ghag\\nCOO & CFO (Jio Studios): Priyanka Chaudhary\\nChoreographer: Ganesh Acharya\\nUK Producer: Amit Dalmia\\nPR Head (Jio Studios): Amita Naidu\\nChief Legal Officer (Jio Studios): Dipti Kotak\\nAction Director: R. P Yadav\\nAssociate EP: Ronak Motla\\nFirst Assistant Director: Amit Singh Rajput\\nSupervising Producer: Pragya Singh\\nMusic: T-Series\\nRe-Recording Mixer: Justin Lissy Jose, CAS\\nSound Mixing: Mariyano Studios Pvt. Ltd\\nLyrics: Jaani, Shabbir Ahmed, Sukriti Bhardwaj, Khara, Albel Brar\\nMusic Composer: Jaani, Harsh Upadhyay, Sunny Vik, Tejwant Kittu\\nVFX: NY VFXWaala\\nVFX Supervisor: Pankaj M Kalbende\\nDI: NY DI - Waala\\nDI Head of Production: Sameer Arekar\\nDI Colorist: Santosh Pawar (Santy)\\nPost Producer: Industrywalas\\nMedia Consultant: Parag Desai (Universal Communications)\\nDigital Marketing Agency: The Small Big Idea\\nPublicity Design: Himanshu Nanda & Rahul Nanda (H-One)\\nMarketing Consultant: Deepesh Shah (Yellow Inc)\\nCasting Director: Mukesh Chhabra, CSA\\nVisual Promotion: MA+TH (Marching Ants + Trigger Happy)\\n\\nDownload Desibeats - https://bit.ly/4bEaNcJ\\nDownload Tapbeats -  https://bit.ly/4bY3hcZ\\n\\n___________________________________\\nEnjoy & stay connected with us!\\n👉 Subscribe to T-Series: https://youtube.com/tseries\\n👉 Like us on Facebook: https://www.facebook.com/tseriesmusic\\n👉 Follow us on X: https://twitter.com/tseries\\n👉 Follow us on Instagram: https://instagram.com/tseries.official\\n👉 Follow us on Snapchat: https://snapchat.com/t/lHs719Qu                                                                                                                                                                                                                                                                                                                                                                                                                                                                                                                                                                                                                                                                                                                                                                                                                                                                                                                                                                                                                                                                                                                                                                                                                                                                                                                                                                                                                                                                                                                       |\n|Music        |Sabba : Village Flow (Official Video) | Latest Punjabi Songs 2025 | New Punjabi Songs 2025     |Straight from the heart of the pind, Sabba drops 'Village Flow', a desi anthem full of pride, passion, and pure Punjabi swag! This isn’t just another track — it’s a celebration of Sabba’s roots and rise.\\n\\nIs vaar gall sirf beats di nahi – ae taan Sabba Da Lanter ae, jisnu vekh ke poora pind hi nach paeya! 🔥\\n\\n#punjabimusic #latestpunjabisong #sabbadalanter\\n\\n\\nStreaming Links :\\n\\nInsta\\nhttps://www.instagram.com/reels/audio/1384408396005666\\n\\nSpotify\\nhttps://open.spotify.com/album/7bySaar4oQhsod5QaZrjvV\\n\\nAmazon Music\\nhttps://music.amazon.in/albums/B0FH27Y1LW\\n\\nApple Music\\nhttps://music.apple.com/in/album/village-flow-single/1825339856\\n\\nGaana\\nhttps://gaana.com/album/village-flow\\n\\nJioSaavn\\nhttps://www.jiosaavn.com/album/village-flow/I1Asyr2DoOM_\\n\\nYouTube Music\\nhttps://music.youtube.com/watch?v=SRscWBa1OSE&si=_DpMZ6EdS3CoD55a \\n\\n\\nCredits :\\n\\nSpeed Records Presents\\nSong - Village Flow\\nSinger/Composer/Lyrics - Sabba\\nMusic - JayB Singh\\nDirection/Concept?Screenplay : Sahil Sharma\\nPresentation : Meeru\\nProducer - Sarabjit Saroya\\nDop : Pardeep Potter\\nEditor : HC Edittz\\nProd. : Sahil Sharma Filmzz (Honey)\\nCostume : Rajat Manchanda\\nReels Shoot : Jagjit Chak\\nDigital Managed By Scope Entertainment\\nDigital Promotions By Speed Records Digital\\nReel Promotions By Scope Digital\\nLabel - Speed Records\\n\\nLyrics :\\nNi baitha mai trakki de mathe ch jhanda gaddke\\nNi utte nahio aaya thalle kise de vi laggke\\nOh hun mera changa aaya kehnde pair chhad gya\\nNi jehde maade time ch gye si hath chhadke\\nOh lanka nahio dhayi bhave bheti aa harek de\\nNi mere saale kinne hi jo bahre pye aa hate de\\nNi bahoteya de rang udd janda kude face to\\nNi charno da dohta baitha gaddi vich vekhke\\nHo vekhi mardanya eh rang kartar de\\nOh aap mar jande jehde doojeya nu maarde\\nHo bahn jihdi fadi hove neeli Chhatt wale ne\\nNi kitho sutt hona a laler nehri taarke\\nOh chhetti hath aunde nahio uchiya udariyaan\\nNi reejh na pugaiye asi vair nale yaariyan\\nOh vairi voori vekhke badak maar dyidi\\nNi kudi jandi vekh kde whistlaan ni maariyan\\nNi gabhru rakaane bebe bapu ji to baahre na\\nNa saade kolo vaade hone lagne ve laare na\\nNi tere kolo main vi tere maa-pe charwaune na\\nTe mere kolo ranjhe wangu pashu jaane chaare na\\nNa dil to greeb bhave bhute na ameer ni\\nAa jehde nal bhai kathi kri na mandeer ni\\nNi susti na nede tede mitran de laggdi \\nNi 24 ghante lor vich rehnda ae sareer ni\\nNi bhaiyan te yakeen security jeyo z te\\nHo bade dil lutte akh mittraa di red ne\\nHo dabb nal lgga jo rakaane 30 bore da\\nFlower bna dewe bhaida eh forehead te\\nNa nimm jehe lot aune mitthi teri talk to\\nNa pighluga dil eh jwaani teri hot to\\nDass fer sher da ni rutba ki reh gya\\nJe oh vi gya pattya rakaane cat walk to\\nOh zindgi nu reejha nal maande aa baithke\\nKoi chakkr ni meeru bai khada jado back te\\nHo asi befikre 9 10 vje sojiye\\nNi sathon gallan adhi raat honiya ni chat te\\nNi chattya ni kde v yaara ne billo thukk ke\\nOh jo vi kita shar-e-aam kreya ni lukk ke\\nOh Kayi saale raula pake kehn asi ki aa\\nTe sara kujh dssya ae mittra di chupp ne\\nJo tappde aa salya nu shittra di ghaat ni\\nOh fer vekhi baith jaane sara chupp chaap ni\\nOhh kehnde ne ke saade naalo vadda koi vaily ni\\nTe Dhaai saah ne ch*** de utte bhora maas ni\\nNeet saaf rabb ne vi kujh ni lakoya kude\\nTension ni len koi dinda bai saroya kude\\nDhannwaad karda va saareya da dil to\\nHaaye pauna si punjab kattha lentar te hoya kude\\nHo dunia ta jitti baitha hun kithe haar da\\nJhool jhool ture kude pota jagtar da\\nOh jihna hun takk aukh vich hi aa kattli\\nNi maapeya nu geda mai lwauna ik bahar da\\nHo guru ghar jaake bhala sareyaa da mangda\\nHo adhi cho vi adhi cheej doojeya na vand da\\nHo mai ni kehnda rabb bahla deyi jawe menu\\nJinna mera banda onna hi ohto mangda\\n\\n\\nLike || Share || Spread || Love \\n  \\nEnjoy & stay connected with us!\\n► Subscribe to Speed Records : http://bit.ly/SpeedRecords\\n► Like us on Facebook: https://www.facebook.com/SpeedRecords\\n► Follow us on Twitter: https://twitter.com/Speed_Records\\n► Follow us on Instagram: https://instagram.com/speedrecords\\n► Follow on Snapchat : https://www.snapchat.com/add/speedrecords \\n\\nSpeed Records Haryanvi\\nYoutube: https://bit.ly/2kSrhZK\\nInstagram: https://www.instagram.com/speedharyanviofficial \\n\\nSpeed Records Bhojpuri - \\nYoutube: https://bit.ly/2y8HSez\\nInstagram: https://bit.ly/2xM2WYL\\nSnapchat: https://www.snapchat.com/add/speedbhojpuri\\n\\nOops TV -\\nOops TV Facebook Link - https://m.facebook.com/oopstvfun/\\n\\nPoon Poon - \\nSnapchat - https://www.snapchat.com/add/poonpoon0001\\nYoutube - http://bitly.com/2hwYOnx\\nFacebook - https://www.facebook.com/officialpoonpoon\\nInstagram - https://instagram.com/poonpoonofficial|\n|Entertainment|The Kuldeep Singhania Roast! (STOP THIS MAN)                                                   |we talk about the conspiracy theorist kuldeep singhania and his constipated theories!\\n\\n#thugesh #kuldeepsinghania #funny \\n\\n▶️ Main Channel:  @Thugesh \\n🎙️Documentry Channel @realthugesh \\n👀Reaction Channel @UnfilteredThugesh \\n\\nFOLLOW ME ON:\\n\\n📸 Instagram: https://www.instagram.com/maheshkeshwala/\\n🐦  Twitter: https://twitter.com/RealThugesh\\n📖 Facebook: https://www.facebook.com/thugesh\\n\\n►DISCLAIMER\\nCopyright Disclaimer under section 107 of the Copyright Act of 1976, allowance is made for “fair use” for purposes such as criticism, comment, news reporting, teaching, scholarship, education and research. Fair use is a use permitted by copyright statute that might otherwise be infringing.\\n\\nNote- all the comments and jokes made in the video are for the content and the clips and not on the person himself!! thank you :)                                                                                                                                                                                                                                                                                                                                                                                                                                                                                                                                                                                                                                                                                                                                                                                                                                                                                                                                                                                                                                                                                                                                                                                                                                                                                                                                                                                                                                                                                                                                                                                                                                                                                                                                                                                                                                                                                                                                                                                                                                                                                                                                                                                                                                                                                                                                                                                                                                                                                                                                                                                                                                                                                                                                                                                                                                                                                                                                                                                                                                                                                                                                                                                                                                                                                                                                                                                                                                                                                                                                                                                                                                                                                                                                                                                                                                                                                                                                                                                                                           |\n+-------------+-----------------------------------------------------------------------------------------------+---------------------------------------------------------------------------------------------------------------------------------------------------------------------------------------------------------------------------------------------------------------------------------------------------------------------------------------------------------------------------------------------------------------------------------------------------------------------------------------------------------------------------------------------------------------------------------------------------------------------------------------------------------------------------------------------------------------------------------------------------------------------------------------------------------------------------------------------------------------------------------------------------------------------------------------------------------------------------------------------------------------------------------------------------------------------------------------------------------------------------------------------------------------------------------------------------------------------------------------------------------------------------------------------------------------------------------------------------------------------------------------------------------------------------------------------------------------------------------------------------------------------------------------------------------------------------------------------------------------------------------------------------------------------------------------------------------------------------------------------------------------------------------------------------------------------------------------------------------------------------------------------------------------------------------------------------------------------------------------------------------------------------------------------------------------------------------------------------------------------------------------------------------------------------------------------------------------------------------------------------------------------------------------------------------------------------------------------------------------------------------------------------------------------------------------------------------------------------------------------------------------------------------------------------------------------------------------------------------------------------------------------------------------------------------------------------------------------------------------------------------------------------------------------------------------------------------------------------------------------------------------------------------------------------------------------------------------------------------------------------------------------------------------------------------------------------------------------------------------------------------------------------------------------------------------------------------------------------------------------------------------------------------------------------------------------------------------------------------------------------------------------------------------------------------------------------------------------------------------------------------------------------------------------------------------------------------------------------------------------------------------------------------------------------------------------------------------------------------------------------------------------------------------------------------------------------------------------------------------------------------------------------------------------------------------------------------------------------------------------------------------------------------------------------------------------------------------------------------------------------------------------------------------------------------------------------------------------------------------------------------------------------------------------------------------------------------------------------------------------------------------------------------------------------------------------------------------------------------------------------------------------------------------------------------------------------------------------------------------------------------------------------------------------------------------------------------------------------------------------------------------------------------------------------------------------------------------------------------------------------------------------------+\n\n"
     ]
    }
   ],
   "source": [
    "from pyspark.sql.functions import lower, col\n",
    "from functools import reduce\n",
    "\n",
    "keywords = [\"tutorial\", \"science\", \"learn\", \"how to\", \"technology\", \"education\", \"experiment\", \"physics\", \"math\", \"engineering\"]\n",
    "\n",
    "# keyword-based filter on title and description\n",
    "filtered_df = casted_df.filter(\n",
    "    reduce(lambda a, b: a | b, [lower(col(\"title\")).contains(k) | lower(col(\"description\")).contains(k) for k in keywords])\n",
    ")\n",
    "\n",
    "filtered_df.select(\"categoryName\", \"title\", \"description\").show(truncate=False)\n"
   ]
  },
  {
   "cell_type": "code",
   "execution_count": 0,
   "metadata": {
    "application/vnd.databricks.v1+cell": {
     "cellMetadata": {
      "byteLimit": 2048000,
      "rowLimit": 10000
     },
     "inputWidgets": {},
     "nuid": "4c0e881d-fa54-43d1-bf17-ed8dea2305eb",
     "showTitle": false,
     "tableResultSettingsMap": {},
     "title": ""
    }
   },
   "outputs": [],
   "source": [
    "output_path = '/FileStore/tables/final_india_trending'\n",
    "casted_df.write.mode('overwrite').parquet(output_path)\n"
   ]
  },
  {
   "cell_type": "code",
   "execution_count": 0,
   "metadata": {
    "application/vnd.databricks.v1+cell": {
     "cellMetadata": {},
     "inputWidgets": {},
     "nuid": "cf0ebc13-0c91-41b6-bf03-83c50a1fbbd4",
     "showTitle": false,
     "tableResultSettingsMap": {},
     "title": ""
    }
   },
   "outputs": [],
   "source": []
  }
 ],
 "metadata": {
  "application/vnd.databricks.v1+notebook": {
   "computePreferences": null,
   "dashboards": [],
   "environmentMetadata": {
    "base_environment": "",
    "environment_version": "1"
   },
   "inputWidgetPreferences": null,
   "language": "python",
   "notebookMetadata": {
    "pythonIndentUnit": 4
   },
   "notebookName": "india_trends",
   "widgets": {}
  }
 },
 "nbformat": 4,
 "nbformat_minor": 0
}