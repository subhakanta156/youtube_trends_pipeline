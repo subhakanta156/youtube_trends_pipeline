{
 "cells": [
  {
   "cell_type": "markdown",
   "metadata": {
    "application/vnd.databricks.v1+cell": {
     "cellMetadata": {},
     "inputWidgets": {},
     "nuid": "8c54fa95-8f68-41ee-961a-db9fdd9c7169",
     "showTitle": false,
     "tableResultSettingsMap": {},
     "title": ""
    }
   },
   "source": [
    "#  Analysis on Singapore Data Set"
   ]
  },
  {
   "cell_type": "code",
   "execution_count": 0,
   "metadata": {
    "application/vnd.databricks.v1+cell": {
     "cellMetadata": {
      "byteLimit": 2048000,
      "rowLimit": 10000
     },
     "inputWidgets": {},
     "nuid": "f04aae1b-568c-4dc1-bd4b-49ac308492ac",
     "showTitle": false,
     "tableResultSettingsMap": {},
     "title": ""
    }
   },
   "outputs": [
    {
     "output_type": "stream",
     "name": "stdout",
     "output_type": "stream",
     "text": [
      "root\n |-- contentDetails: struct (nullable = true)\n |    |-- caption: string (nullable = true)\n |    |-- definition: string (nullable = true)\n |    |-- dimension: string (nullable = true)\n |    |-- duration: string (nullable = true)\n |    |-- licensedContent: boolean (nullable = true)\n |    |-- projection: string (nullable = true)\n |    |-- regionRestriction: struct (nullable = true)\n |    |    |-- blocked: array (nullable = true)\n |    |    |    |-- element: string (containsNull = true)\n |-- etag: string (nullable = true)\n |-- id: string (nullable = true)\n |-- kind: string (nullable = true)\n |-- snippet: struct (nullable = true)\n |    |-- categoryId: string (nullable = true)\n |    |-- channelId: string (nullable = true)\n |    |-- channelTitle: string (nullable = true)\n |    |-- defaultAudioLanguage: string (nullable = true)\n |    |-- defaultLanguage: string (nullable = true)\n |    |-- description: string (nullable = true)\n |    |-- liveBroadcastContent: string (nullable = true)\n |    |-- localized: struct (nullable = true)\n |    |    |-- description: string (nullable = true)\n |    |    |-- title: string (nullable = true)\n |    |-- publishedAt: string (nullable = true)\n |    |-- tags: array (nullable = true)\n |    |    |-- element: string (containsNull = true)\n |    |-- thumbnails: struct (nullable = true)\n |    |    |-- default: struct (nullable = true)\n |    |    |    |-- height: long (nullable = true)\n |    |    |    |-- url: string (nullable = true)\n |    |    |    |-- width: long (nullable = true)\n |    |    |-- high: struct (nullable = true)\n |    |    |    |-- height: long (nullable = true)\n |    |    |    |-- url: string (nullable = true)\n |    |    |    |-- width: long (nullable = true)\n |    |    |-- maxres: struct (nullable = true)\n |    |    |    |-- height: long (nullable = true)\n |    |    |    |-- url: string (nullable = true)\n |    |    |    |-- width: long (nullable = true)\n |    |    |-- medium: struct (nullable = true)\n |    |    |    |-- height: long (nullable = true)\n |    |    |    |-- url: string (nullable = true)\n |    |    |    |-- width: long (nullable = true)\n |    |    |-- standard: struct (nullable = true)\n |    |    |    |-- height: long (nullable = true)\n |    |    |    |-- url: string (nullable = true)\n |    |    |    |-- width: long (nullable = true)\n |    |-- title: string (nullable = true)\n |-- statistics: struct (nullable = true)\n |    |-- commentCount: string (nullable = true)\n |    |-- favoriteCount: string (nullable = true)\n |    |-- likeCount: string (nullable = true)\n |    |-- viewCount: string (nullable = true)\n\n"
     ]
    }
   ],
   "source": [
    "# Load JSON (multiline must be true for nested JSON objects)\n",
    "df = spark.read.option(\"multiline\", \"true\").json(\"dbfs:/FileStore/shared_uploads/krath2928@gmail.com/trending_singapore.json\")\n",
    "\n",
    "# Show schema to understand structure\n",
    "df.printSchema()"
   ]
  },
  {
   "cell_type": "code",
   "execution_count": 0,
   "metadata": {
    "application/vnd.databricks.v1+cell": {
     "cellMetadata": {
      "byteLimit": 2048000,
      "rowLimit": 10000
     },
     "inputWidgets": {},
     "nuid": "3cbe9ae3-ef1e-462a-93e8-74bef7ed8131",
     "showTitle": false,
     "tableResultSettingsMap": {},
     "title": ""
    }
   },
   "outputs": [
    {
     "output_type": "stream",
     "name": "stdout",
     "output_type": "stream",
     "text": [
      "+-----------+--------------------+------------------------+----------------------------------+----------------------------------------------------------------------------------------------------+--------------------------------------------------------------------------------------------------------------------------------------------------------------------------------------------------------------------------------------------------------------------------------------------------------------------------------------------------------------------------------------------------------------------------------------------------------------------------------------------------------------------------------------------------------------------------------------------------------------------------------------------------------------------------------------------------------------------------------------------------------------------------------------------------------------------------------------------------------------------------------------------------------------------------------------------------------------------------------------------------------------------------------------------------------------------------------------------------------------------------------------------------------------------------------------------------------------------------------------------------------------------------------------------------------------------------------------------------------------------------------------------------------------------------------------------------------------------------------------------------------------------------------------------------------------------------------------------------------------------------------------------------------------------------------------------------------------------------------------------------------------------------------------------------------------------------------------------------------------------------------------------------------------------------------------------------------------------------------------------------------------------------------------------------------------------------------------------------------------------------------------------------------------------------------------------------------------------------------------------------------------------------------------------------------------------------------------------------------------------------------------------------------------------------------------------------------------------------------------------------------------------------------------------------------------------------------------------------------------------------------------------------------------------------------------------------------------------------------------------------------------------------------------------------------------------------------------------------------------------------------------------------------------------------------------------------------------------------------------------------------------------------------------------------------------------------------------------------------------------------------------------------------------------------------------------------------------------------------------------------------------------------------------------------------------------------------------------------------------------------------------------------------------------------------------------------------------------------------------------------------------------------------------------------------------------------------------------------------------------------------------------------------------------------------------------------------------------------------------------------------------------------------------------------------------------------------------------------------------------------------------------------------------+----------+------------------------------------------------------------------------------------------------------------------------------------------------------------------------------------------------------------------------------------------------------------------------------------------------------------------------------------------------------------------------------------------------------------------------------------------------------------------------------------------+---------------+--------------------+---------+---------+------------+--------+-------+\n|id         |publishedAt         |channelId               |channelTitle                      |title                                                                                               |description                                                                                                                                                                                                                                                                                                                                                                                                                                                                                                                                                                                                                                                                                                                                                                                                                                                                                                                                                                                                                                                                                                                                                                                                                                                                                                                                                                                                                                                                                                                                                                                                                                                                                                                                                                                                                                                                                                                                                                                                                                                                                                                                                                                                                                                                                                                                                                                                                                                                                                                                                                                                                                                                                                                                                                                                                                                                                                                                                                                                                                                                                                                                                                                                                                                                                                                                                                                                                                                                                                                                                                                                                                                                                                                                                                                                                                                                                                   |categoryId|tags                                                                                                                                                                                                                                                                                                                                                                                                                                                                                      |defaultLanguage|defaultAudioLanguage|viewCount|likeCount|commentCount|duration|caption|\n+-----------+--------------------+------------------------+----------------------------------+----------------------------------------------------------------------------------------------------+--------------------------------------------------------------------------------------------------------------------------------------------------------------------------------------------------------------------------------------------------------------------------------------------------------------------------------------------------------------------------------------------------------------------------------------------------------------------------------------------------------------------------------------------------------------------------------------------------------------------------------------------------------------------------------------------------------------------------------------------------------------------------------------------------------------------------------------------------------------------------------------------------------------------------------------------------------------------------------------------------------------------------------------------------------------------------------------------------------------------------------------------------------------------------------------------------------------------------------------------------------------------------------------------------------------------------------------------------------------------------------------------------------------------------------------------------------------------------------------------------------------------------------------------------------------------------------------------------------------------------------------------------------------------------------------------------------------------------------------------------------------------------------------------------------------------------------------------------------------------------------------------------------------------------------------------------------------------------------------------------------------------------------------------------------------------------------------------------------------------------------------------------------------------------------------------------------------------------------------------------------------------------------------------------------------------------------------------------------------------------------------------------------------------------------------------------------------------------------------------------------------------------------------------------------------------------------------------------------------------------------------------------------------------------------------------------------------------------------------------------------------------------------------------------------------------------------------------------------------------------------------------------------------------------------------------------------------------------------------------------------------------------------------------------------------------------------------------------------------------------------------------------------------------------------------------------------------------------------------------------------------------------------------------------------------------------------------------------------------------------------------------------------------------------------------------------------------------------------------------------------------------------------------------------------------------------------------------------------------------------------------------------------------------------------------------------------------------------------------------------------------------------------------------------------------------------------------------------------------------------------------------------------------+----------+------------------------------------------------------------------------------------------------------------------------------------------------------------------------------------------------------------------------------------------------------------------------------------------------------------------------------------------------------------------------------------------------------------------------------------------------------------------------------------------+---------------+--------------------+---------+---------+------------+--------+-------+\n|CgCVZdcKcqY|2025-07-11T04:00:07Z|UCOmHUn--16B90oW2L6FRR3A|BLACKPINK                         |BLACKPINK - ‘뛰어(JUMP)’ M/V                                                                        |BLACKPINK - 뛰어(JUMP)\\n\\nI’m not that easy to tame\\nYou should see me under these lights\\nAll my tears turn to ice\\n\\nThat’s the sweetest escape\\nEvery time the feeling kicks in\\nI might stay through the night\\n\\nBet you get it now\\nRocked that didn’t I\\n착각 하지마 누가 누군지 oh\\n\\nThink you runnin that\\nGuess we gunnin back\\nYou know I walk yeah I talk it\\n\\n눈감고 하나 둘 셋\\n뛰어\\n\\n뛰어 뛰어\\n뛰어 뛰어\\n\\nSo come up with me I’ll take you high\\nThat prima donna spice up your life\\n\\nYou know I got that shit that you like\\nSo come up with me run up uh jump 뛰어\\n\\nWatch me runnin up the place\\nI’m already stuntin’ and my girls are on the way\\n\\nWatch me open up the place\\nWanna see you bumpin baby\\nBouncin to the bass\\n\\nAre you not entertained\\nI ain’t gotta explain it\\nI’m with all of my sisters\\nGot em goin insane, yeah\\n\\nYou know we on a mission\\nAll gas no brakes, yeah\\nBreaking out of the system\\nBreaking out of this cage, yeah\\n\\nBet you get it now\\nAte that didn’t I\\n순간 잊지마 누가 누군지 oh\\n\\nThink you runnin that\\nGuess we gunnin back\\nYou know I walk yeah I talk it\\n\\n눈감고 하나 둘 셋\\n뛰어\\n\\n뛰어 뛰어\\n뛰어 뛰어\\n\\nSo come up with me I’ll take you high\\nThat prima donna spice up your life\\n\\nYou know I got that shit that you like\\nSo come up with me run up uh jump 뛰어\\n\\nWatch me runnin up the place\\nI’m already stuntin’ and my girls are on the way\\n\\nWatch me open up the place\\nWanna see you bumpin baby\\nBouncin to the bass\\n \\nBlackpink in your area\\n\\nAvailable @ https://blackpink.lnk.to/JUMP\\n\\nMore about BLACKPINK @\\nhttp://www.blackpinkofficial.com/\\nhttp://www.facebook.com/BLACKPINKOFFICIAL\\nhttp://www.youtube.com/BLACKPINKOFFICIAL\\nhttps://www.instagram.com/BLACKPINKOFFICIAL\\nhttps://twitter.com/BLACKPINK\\n\\n#BLACKPINK #블랙핑크 #뛰어 #JUMP #MV #OUTNOW #YG                                                                                                                                                                                                                                                                                                                                                                                                                                                                                                                                                                                                                                                                                                                                                                                                                                                                                                                                                                                                                                                                                                                                                                                                                                                                                                                                                                                                                                                                                                                                                                                                                                                                                                                                                                                                                                                                                                                                                                                                                    |10        |[YG Entertainment, YG, 와이지, K-pop, BLACKPINK, 블랙핑크, 블핑, 제니, 로제, 리사, 지수, LISA, JISOO, JENNIE, ROSÉ, BLINK, 블링크, JENNIE You & Me, JENNIE You and ME, You & Me, You and Me, 제니 You & Me, 제니 You and Me, 제니 유앤미, 유앤미, JENNIE 유앤미, 제니 코첼라, JENNIE COACHELLA]                                                                                                                                                                                           |null           |ko                  |75930630 |4598329  |378951      |PT3M14S |true   |\n|027kT1dl7cg|2025-07-13T13:30:00Z|UCh_WD2DxGoskrwgC6bA4Irg|Let's Romantic                    |cute couple 😭🤣 #newmusic #music #funny #love #funnyvideo #prank                                   |                                                                                                                                                                                                                                                                                                                                                                                                                                                                                                                                                                                                                                                                                                                                                                                                                                                                                                                                                                                                                                                                                                                                                                                                                                                                                                                                                                                                                                                                                                                                                                                                                                                                                                                                                                                                                                                                                                                                                                                                                                                                                                                                                                                                                                                                                                                                                                                                                                                                                                                                                                                                                                                                                                                                                                                                                                                                                                                                                                                                                                                                                                                                                                                                                                                                                                                                                                                                                                                                                                                                                                                                                                                                                                                                                                                                                                                                                                              |10        |[shorts,romantic,romantic status,romantic hug shorts,viral shorts,short,trending shorts,romantic love,romantic couple,couple shorts,romantic hug video status,trending short,youtube shorts,tm romantic,viral short,romantic video,romantic love story,romantic videos,couples romantic,romantic love video,romantic hug status,#shorts,new romantic status video,tight hug romantic status,romantic cople golas,shorts video,romantic hug whatsapp status]                               |null           |null                |53777618 |1218226  |1515        |PT18S   |false  |\n|T--M_M2NvhM|2025-07-12T17:44:56Z|UC7ovu6a8ydIbDy0fAKmoZ9A|相信音樂BinMusic                  |F4 x MAYDAY五月天 [ 流星雨 Meteor Rain ] 5525版 Official Stage Video                                |一場橫跨24年的青春盛宴\\n一首〈流星雨〉喚醒全亞洲的共同記憶\\n​\\n華語最強傳奇男團 —— F4\\n亞洲第一搖滾天團 —— 五月天 \\n神級合體，震撼降臨臺北大巨蛋\\n重啟《流星花園》席捲全亞洲的青春風暴\\n​\\n陪你去看流星雨，\\n陪你一起把奇蹟變現場\\n讓不可能在此刻發生！\\n\\n／\\n\\n♛ F4\\n華語第一傳奇男團，橫掃亞洲的青春現象級符號\\n朱孝天、言承旭、吳建豪、周渝民\\n以《流星花園》紅遍全亞洲，成名於世，更登上《富比士》，接受《CNN》專訪\\n被譽為「亞洲之光」的國際級偶像傳奇！\\n​\\n♛ MAYDAY 五月天\\n全亞洲最具代表性的搖滾天團，世代共鳴的象徵\\n阿信（Vocal)、怪獸（Guitar）、石頭（Guitar）、瑪莎（Bass）、冠佑（Drum）\\n巡演足跡遍及亞洲、美洲、歐洲與澳洲\\n征服全球多座指標性舞台，將華語搖滾刻進世界音樂版圖\\n美國《華盛頓郵報》盛讚為「華人披頭四」\\n亞洲媒體一致推崇的——「演唱會之王」！\\n\\n​\\n／\\n​\\nMAYDAY #5525 LIVE TOUR\\n五月天 [ 回到那一天 ] 25週年巡迴演唱會\\n​\\n一生必看一場五月天！\\n🏆 橫掃 8 項國際舞台設計大獎\\n🏆 15,640 片 16K 巨型球體 LED，震撼視覺極限\\n🏆 斥資 2,600 萬美金，締造全感官極致舞台\\n🏆 螢光棒智慧連控燈效，共創沉浸式萬人圖騰秀\\n​\\n91場巡演，380萬人次熱血共鳴\\n雙主題、雙體驗，全方位升級感官震撼\\n2025盛夏，五月天即將締造北京鳥巢42場新紀錄\\n寫下華語樂壇前所未見、最傳奇的一頁！\\n​\\n\\n#F4 #五月天 #MAYDAY\\n#MAYDAY5525LIVETOUR\\n#Concert #LiveTour\\n\\n-\\n\\n▍流星雨 Meteor Rain｜5525版\\n▍F4 X 五月天｜回到那一天\\n\\n作詞｜鄔裕康     作曲｜平井堅\\n\\n陪你去看流星雨  落在這地球上 \\n讓你的淚落在我肩膀\\n要你相信我的愛  只肯為你勇敢 \\n你會看見  幸福的所在\\n\\n溫柔的星空  應該讓你感動 \\n我在你身後  為你佈置一片天空\\n不准你難過  替你擺平寂寞 \\n夢想的重量  全部都交給我\\n\\n牽你手  跟著我走  風再大又怎樣 \\n你有了我  再也不會迷路方向\\n\\n陪你去看流星雨  落在這地球上 \\n讓你的淚落在我肩膀\\n要你相信我的愛  只肯為你勇敢 \\n你會看見  幸福的所在\\n\\n傷感若太多  心丟給我保護 \\n疲倦的煙火  我會替你都趕走\\n燦爛的言語  只能點綴感情 \\n如果我沉默  因為我真的愛你\\n\\n牽你手  跟著我走  風再大又怎樣 \\n你有了我  再也不會迷路方向\\n\\n陪你去看流星雨  落在這地球上 \\n讓你的淚落在我肩膀\\n要你相信我的愛  只肯為你勇敢 \\n你會看見  幸福的所在\\n\\n雨和雲漸漸散開   灑下一片溫暖 \\n我要分享你眼中的淚光\\n\\n陪你去看流星雨  落在這地球上 \\n讓你的淚落在我肩膀\\n要你相信我的愛  只肯為你勇敢 \\n你會看見  幸福的所在\\n\\n-\\n\\n｜音樂製作  Music Credit｜\\n編曲 Arrangement｜五月天 Mayday / 王士榛 Helix Wang\\n和聲 Backing Vocal｜鄒謦蓬 UP Tsou / 詹宏業 Ryan Chan\\n小朋友和聲 Kid Backing Vocal｜黃千芸 Abbie\\n木吉他演奏 Acoustic Guitar｜葉世康 Sam Yip\\nAmb 技術支援｜Master Tones\\n混音 Mixing｜詹宏業 Ryan Chan\\n\\n弦樂編寫 Strings Arrangement｜王士榛 Helix Wang\\n弦樂統籌 / 監製 String Coordinator / Producer｜蔡曜宇 Shuon Tsai \\n弦樂 Strings｜曜爆甘音樂工作室 Just Busy Music Studio\\n\\n第一小提琴 First Violin｜陳奕勇 Yi-Yung Chen / 駱思云 Ssu-Yun Lo\\n第二小提琴 Second Violin｜朱奕寧 Yi-Ning Ju / 沈鎮堯 Chen-Yao Shen\\n中提琴 Viola｜甘威鵬 Weapon Gan / 牟啟東 Wayne Mau\\n大提琴 Cello｜葉欲新 Yu-Shin Yeh / 張雅迪 Ya-Ti Chang\\n\\n弦樂團行政String Administration｜林舜瑜 Shun-Yu Lin \\n弦樂錄音師 String Recording Engineer｜朱品豪 Pin-Hao Ju \\n弦樂錄音室String Recording Studio｜強力錄音室 Mega Force Studio\\n\\n-\\n\\n｜影像製作  Video Credit｜\\n製作｜8ID Studio\\n導演｜魏奕旻 / 張天城\\n製片｜杜達修\\n執行製片｜達叔\\n攝影師｜魏奕旻 / 張天城 / 陳翔科 / 陳韋翰 / 莊竣瑋 / 郭彥澤 / 徐英誠 / 徐立民 / 林軒陽 / 李金勳 / 許鈞暐\\n剪接｜魏奕旻 / 張天城\\n後期｜何冠臻 / 李宜樺\\n歌詞字幕｜吳東峻\\n調色｜魏奕旻\\n\\n封面 / 標準字設計｜吳建龍 / 畢展熒\\n\\n-\\n｜演出製作  Producti\n\n*** WARNING: max output size exceeded, skipping output. ***\n\n                                                                                                                                                                                                                                                                                                                                                                                                                                                                                                                                                                                                                                                                                                                                                                                                                                                                                                                                                                                                                                                                                                                                                                                                                                                                                                                                                                                                                                                                                                                                                                                                                                                                                                                                                                                                                               |24        |[money management tips, wealth, financial education, make money online, stock market for beginners, passive income, money management, real estate investing, motivational, financial freedom, how to invest, business ideas, financial literacy, business motivation, how to invest in stocks for beginners, personal finance, investing for beginners, investment tips, business mindset, how to build wealth, investment strategies, finance, how to make money, stock market investing]|en             |en                  |4862479  |182790   |1026        |PT58S   |false  |\n|WWCebBCk5E8|2025-07-11T10:01:02Z|UCAbdQ0Lp3xihjnIvrdeGFCQ|Nanning First Sister              |The human cub went to buy a duck~ #cutebabygrowthdiary #ruralcutebaby #growingfooddiary             |Hello, family, welcome to the channel of ”Nanning First Sister”🎉!\\n\\nIn our channel, the camera focuses on those cute babies🎯. From the growth records of cute babies to parenting tips, here you can experience the ups and downs of raising a baby in all aspects.\\n\\nAll videos in the channel have obtained the authorization of creators in mainland China and strictly abide by the platform regulations📺.\\n\\nIf you also like cute cute babies! Hurry up and subscribe to the channel🔔, click the little bell, and don't miss any wonderful cute baby videos. I look forward to interacting with everyone in the comment area, sharing your love for cute babies, and you are also welcome to share your own parenting stories and valuable suggestions.                                                                                                                                                                                                                                                                                                                                                                                                                                                                                                                                                                                                                                                                                                                                                                                                                                                                                                                                                                                                                                                                                                                                                                                                                                                                                                                                                                                                                                                                                                                                                                                                                                                                                                                                                                                                                                                                                                                                                                                                                                                                                                                                                                                                                                                                                                                                                                                                                                                                                                                                                                                                                                                                                                                                                                                                                                                                                                                                                                                                                                                                                                                                           |22        |[Nanning First Sister, Baby Cuties, Adorable Kids, Cute Baby Moments, Toddler Development, Baby Growth Records, Infant Daily Life, Kid's Funny Stories, Child - pet Interaction, Parenting Tips, Baby Milestones, First Steps, First Words, Baby Laughs, Toddler Tantrums, Kids' Games, Children's Parties, Parent - child Bonding, Chinese - authorized Baby Videos]                                                                                                                     |en             |en                  |7443536  |180812   |898         |PT1M3S  |false  |\n|lWG7uUijHOo|2025-07-15T12:45:07Z|UCJbu1cqzQKfGi1fflY5x6vg|API Tamil Comedy                  |Watch full video 👆 Minsara Kanavu Comedy Scenes - #arvindswamy #kajol #prabhudeva #nassar #shorts  |\"Minsara Kanavu\" Comedy Scenes - Shorts on API Tamil Comedy\\n\\nTo watch the full video,Click the ▶ button,in the video\\n\\nEnjoy & stay connected with us!\\nSubscribe to API  -https://goo.gl/sos1Jn\\nWebsite:http://www.apinternationalfilms.com                                                                                                                                                                                                                                                                                                                                                                                                                                                                                                                                                                                                                                                                                                                                                                                                                                                                                                                                                                                                                                                                                                                                                                                                                                                                                                                                                                                                                                                                                                                                                                                                                                                                                                                                                                                                                                                                                                                                                                                                                                                                                                                                                                                                                                                                                                                                                                                                                                                                                                                                                                                                                                                                                                                                                                                                                                                                                                                                                                                                                                                                                                                                                                                                                                                                                                                                                                                                                                                                                                                                                                                                                                                              |24        |[minsara kanavu tamil movie, minsara kanavu movie scenes, minsara kanavu best scenes, minsara kanavu comedy scenes, minsara kanavu movie songs, tamil movie scenes, super hit tamil movie scenes, minsara kanavu full movie, minsara kanavu movie, minsara kanavu, minsara kanavu tamil full movie, minsara kanavu songs, minsara kanavu video songs, minsara kanavu scenes, minsara kanavu love scenes, tamil best scenes, Arvind Swamy, Prabhu Deva, kajol, shorts, apicomedy scenes]   |null           |ta                  |2268651  |130811   |113         |PT1M29S |false  |\n|RMkAftmzxVE|2025-07-14T12:00:54Z|UC_Lnb8ZHqqgLbp-7hltuT9w|CNA Insider                       |Are Expensive Eggs More Nutritious? | Talking Point | Full Episode                                  |Eggs are a must have in every kitchen but with so many options on the shelf today, choosing the right one can be confusing. Brown, white, enriched, first born – what’s the difference? In this episode of Talking Point, host Diana Ser, goes straight to the source to find out.\\n\\nShe also puts different varieties of eggs to the test to investigate what’s really inside each egg and heads to cooking school to find out what the most nutritious ways to cook eggs could be. Are the most expensive eggs really all they’re cracked up to be?\\n\\nWATCH MORE Talking Point\\nhttps://www.youtube.com/playlist?list=PLkMf14VQEvTai524iU74UlzpWvb1RRAvl\\n\\n00:00 Introduction\\n01:08 Types of eggs in the market\\n2:36 Inside egg farm in Singapore\\n3:52 What's so special about first born eggs?\\n4:19: Enriched VS regular eggs\\n6:13 White VS brown eggs\\n7:17 Japanese eggs: safe to eat raw?\\n11:10 Lab result: nutritional content of different eggs\\n14:40 How to best cook eggs\\n18:19 Test for egg freshness\\n19:55 How many eggs to eat a day\\n\\nAbout the show: \\nTalking Point investigates a current issue or event, offering different perspectives to local stories and revealing how it all affects you.\\n================================================\\n#CNAInsider #CNATalkingPoint #Eggs #EggNutrition \\n\\n\\nFor more, SUBSCRIBE to CNA INSIDER! \\nhttps://cna.asia/insideryoutubesub\\n\\nFollow CNA INSIDER on:\\nTelegram: https://t.me/CNAInsiderSG\\nInstagram: https://www.instagram.com/cnainsider/\\nFacebook: https://www.facebook.com/cnainsider/\\nWebsite: https://cna.asia/cnainsider                                                                                                                                                                                                                                                                                                                                                                                                                                                                                                                                                                                                                                                                                                                                                                                                                                                                                                                                                                                                                                                                                                                                                                                                                                                                                                                                                                                                                                                                                                                                                                                                                                                                                                                                                                                                                                                                                                                                                                                                                                                                                                                                                                                                                                                                                      |25        |null                                                                                                                                                                                                                                                                                                                                                                                                                                                                                      |en-GB          |en                  |197891   |2458     |340         |PT22M40S|false  |\n|a3sR_bs3FOY|2025-07-13T19:19:15Z|UCKX8qlNu2v4m0bCkhd7jicA|Haley Kalil                       |Told me dad to record the prettiest thing here 😭😭                                                 |                                                                                                                                                                                                                                                                                                                                                                                                                                                                                                                                                                                                                                                                                                                                                                                                                                                                                                                                                                                                                                                                                                                                                                                                                                                                                                                                                                                                                                                                                                                                                                                                                                                                                                                                                                                                                                                                                                                                                                                                                                                                                                                                                                                                                                                                                                                                                                                                                                                                                                                                                                                                                                                                                                                                                                                                                                                                                                                                                                                                                                                                                                                                                                                                                                                                                                                                                                                                                                                                                                                                                                                                                                                                                                                                                                                                                                                                                                              |22        |null                                                                                                                                                                                                                                                                                                                                                                                                                                                                                      |null           |en-US               |8643942  |668005   |2450        |PT10S   |false  |\n+-----------+--------------------+------------------------+----------------------------------+----------------------------------------------------------------------------------------------------+--------------------------------------------------------------------------------------------------------------------------------------------------------------------------------------------------------------------------------------------------------------------------------------------------------------------------------------------------------------------------------------------------------------------------------------------------------------------------------------------------------------------------------------------------------------------------------------------------------------------------------------------------------------------------------------------------------------------------------------------------------------------------------------------------------------------------------------------------------------------------------------------------------------------------------------------------------------------------------------------------------------------------------------------------------------------------------------------------------------------------------------------------------------------------------------------------------------------------------------------------------------------------------------------------------------------------------------------------------------------------------------------------------------------------------------------------------------------------------------------------------------------------------------------------------------------------------------------------------------------------------------------------------------------------------------------------------------------------------------------------------------------------------------------------------------------------------------------------------------------------------------------------------------------------------------------------------------------------------------------------------------------------------------------------------------------------------------------------------------------------------------------------------------------------------------------------------------------------------------------------------------------------------------------------------------------------------------------------------------------------------------------------------------------------------------------------------------------------------------------------------------------------------------------------------------------------------------------------------------------------------------------------------------------------------------------------------------------------------------------------------------------------------------------------------------------------------------------------------------------------------------------------------------------------------------------------------------------------------------------------------------------------------------------------------------------------------------------------------------------------------------------------------------------------------------------------------------------------------------------------------------------------------------------------------------------------------------------------------------------------------------------------------------------------------------------------------------------------------------------------------------------------------------------------------------------------------------------------------------------------------------------------------------------------------------------------------------------------------------------------------------------------------------------------------------------------------------------------------------------------------------------------------------+----------+------------------------------------------------------------------------------------------------------------------------------------------------------------------------------------------------------------------------------------------------------------------------------------------------------------------------------------------------------------------------------------------------------------------------------------------------------------------------------------------+---------------+--------------------+---------+---------+------------+--------+-------+\nonly showing top 20 rows\n\n"
     ]
    }
   ],
   "source": [
    "from pyspark.sql.functions import col\n",
    "\n",
    "selected_df = df.select(\n",
    "    \"id\",\n",
    "    \"snippet.publishedAt\",\n",
    "    \"snippet.channelId\",\n",
    "    \"snippet.channelTitle\",\n",
    "    \"snippet.title\",\n",
    "    \"snippet.description\",\n",
    "    \"snippet.categoryId\",\n",
    "    \"snippet.tags\",\n",
    "    \"snippet.defaultLanguage\",\n",
    "    \"snippet.defaultAudioLanguage\",\n",
    "    \"statistics.viewCount\",\n",
    "    \"statistics.likeCount\",\n",
    "    \"statistics.commentCount\",\n",
    "    \"contentDetails.duration\",\n",
    "    \"contentDetails.caption\"\n",
    ")\n",
    "\n",
    "selected_df.show(truncate=False)\n"
   ]
  },
  {
   "cell_type": "code",
   "execution_count": 0,
   "metadata": {
    "application/vnd.databricks.v1+cell": {
     "cellMetadata": {
      "byteLimit": 2048000,
      "rowLimit": 10000
     },
     "inputWidgets": {},
     "nuid": "792a7481-be34-4fee-a5e1-3fd0f070630a",
     "showTitle": false,
     "tableResultSettingsMap": {},
     "title": ""
    }
   },
   "outputs": [],
   "source": [
    "from pyspark.sql.functions import col\n",
    "\n",
    "casted_df1 = selected_df.withColumn(\"viewCount\", col(\"viewCount\").cast(\"int\")) \\\n",
    "                       .withColumn(\"likeCount\", col(\"likeCount\").cast(\"int\")) \\\n",
    "                       .withColumn(\"commentCount\", col(\"commentCount\").cast(\"int\"))\n"
   ]
  },
  {
   "cell_type": "code",
   "execution_count": 0,
   "metadata": {
    "application/vnd.databricks.v1+cell": {
     "cellMetadata": {
      "byteLimit": 2048000,
      "rowLimit": 10000
     },
     "inputWidgets": {},
     "nuid": "e5a0258b-3f1e-4057-8375-eb6f3df26e3a",
     "showTitle": false,
     "tableResultSettingsMap": {},
     "title": ""
    }
   },
   "outputs": [
    {
     "output_type": "stream",
     "name": "stdout",
     "output_type": "stream",
     "text": [
      "root\n |-- id: string (nullable = true)\n |-- publishedAt: string (nullable = true)\n |-- channelId: string (nullable = true)\n |-- channelTitle: string (nullable = true)\n |-- title: string (nullable = true)\n |-- description: string (nullable = true)\n |-- categoryId: string (nullable = true)\n |-- tags: array (nullable = true)\n |    |-- element: string (containsNull = true)\n |-- defaultLanguage: string (nullable = true)\n |-- defaultAudioLanguage: string (nullable = true)\n |-- viewCount: integer (nullable = true)\n |-- likeCount: integer (nullable = true)\n |-- commentCount: integer (nullable = true)\n |-- duration: string (nullable = true)\n |-- caption: string (nullable = true)\n\n"
     ]
    }
   ],
   "source": [
    "casted_df1.printSchema()"
   ]
  },
  {
   "cell_type": "code",
   "execution_count": 0,
   "metadata": {
    "application/vnd.databricks.v1+cell": {
     "cellMetadata": {
      "byteLimit": 2048000,
      "rowLimit": 10000
     },
     "inputWidgets": {},
     "nuid": "ee389418-722f-4bf2-b4c7-b15b5b9c74b1",
     "showTitle": false,
     "tableResultSettingsMap": {},
     "title": ""
    }
   },
   "outputs": [
    {
     "output_type": "stream",
     "name": "stdout",
     "output_type": "stream",
     "text": [
      "-RECORD 0----------------------------------------------------------------------------------------------------------------------------------------------------------------------------------------------------------------------------------------------------------------------------------------------------------------------------------------------------------------------------------------------------------------------------------------------------------------------------------------------------------------------------------------------------------------------------------------------------------------------------------------------------------------------------------------------------------------------------------------------------------------------------------------------------------------------------------------------------------------------------------------------------------------------------------------------------------------------------------------------------------------------------------------------------------------------------------------------------------------------------------------------------------------------------------------------------------------------------------------------------------------------------------------------------------------------------------------------------------------------------------------------------------------------------------------------------------------------------------------------------------------------------------------------------------------------------------------------------------------------------------------------------------------------------------------------------------------------------------------------------------------------------------------------------------------------------------------------------------------------------------------------------------------------------------------------------------------------------------------------------------------------------------------------------------------------------------------------------------------------------------------------------------------------------------------------------------------------------------------------------------------------------------------------------------------------------------------------------------------------------------------------------------------------------------------------------------------------------------------------------------------------------------------------------------------------------------------------------------------------------------------------------------------------------------------------------------------------------------------------------------------------------------------------------------------------------------------------------------------------------------------------------------------------------------------------------------------------------------------------------------------------------------------------------------------------------------------------------------------------------------------------------------------------------------------------------------------------------------------------------------------------------------------------------------------------------------------------------------------------------------------------------------------------------------------------------------------------------------------------------------------------------------------------------------------------------------------------------------------------------------------------------------------------------------------------------------------------------------------------------------------------------------------------------------------------------------------------------------------------------------------------------------------------\n viewCount    | 75930630                                                                                                                                                                                                                                                                                                                                                                                                                                                                                                                                                                                                                                                                                                                                                                                                                                                                                                                                                                                                                                                                                                                                                                                                                                                                                                                                                                                                                                                                                                                                                                                                                                                                                                                                                                                                                                                                                                                                                                                                                                                                                                                                                                                                                                                                                                                                                                                                                                                                                                                                                                                                                                                                                                                                                                                                                                                                                                                                                                                                                                                                                                                                                                                                                                                                                                                                                                                                                                                                                                                                                                                                                                                                                                                                                                                                                                                                                                       \n likeCount    | 4598329                                                                                                                                                                                                                                                                                                                                                                                                                                                                                                                                                                                                                                                                                                                                                                                                                                                                                                                                                                                                                                                                                                                                                                                                                                                                                                                                                                                                                                                                                                                                                                                                                                                                                                                                                                                                                                                                                                                                                                                                                                                                                                                                                                                                                                                                                                                                                                                                                                                                                                                                                                                                                                                                                                                                                                                                                                                                                                                                                                                                                                                                                                                                                                                                                                                                                                                                                                                                                                                                                                                                                                                                                                                                                                                                                                                                                                                                                                        \n commentCount | 378951                                                                                                                                                                                                                                                                                                                                                                                                                                                                                                                                                                                                                                                                                                                                                                                                                                                                                                                                                                                                                                                                                                                                                                                                                                                                                                                                                                                                                                                                                                                                                                                                                                                                                                                                                                                                                                                                                                                                                                                                                                                                                                                                                                                                                                                                                                                                                                                                                                                                                                                                                                                                                                                                                                                                                                                                                                                                                                                                                                                                                                                                                                                                                                                                                                                                                                                                                                                                                                                                                                                                                                                                                                                                                                                                                                                                                                                                                                         \n duration     | PT3M14S                                                                                                                                                                                                                                                                                                                                                                                                                                                                                                                                                                                                                                                                                                                                                                                                                                                                                                                                                                                                                                                                                                                                                                                                                                                                                                                                                                                                                                                                                                                                                                                                                                                                                                                                                                                                                                                                                                                                                                                                                                                                                                                                                                                                                                                                                                                                                                                                                                                                                                                                                                                                                                                                                                                                                                                                                                                                                                                                                                                                                                                                                                                                                                                                                                                                                                                                                                                                                                                                                                                                                                                                                                                                                                                                                                                                                                                                                                        \n publishedAt  | 2025-07-11T04:00:07Z                                                                                                                                                                                                                                                                                                                                                                                                                                                                                                                                                                                                                                                                                                                                                                                                                                                                                                                                                                                                                                                                                                                                                                                                                                                                                                                                                                                                                                                                                                                                                                                                                                                                                                                                                                                                                                                                                                                                                                                                                                                                                                                                                                                                                                                                                                                                                                                                                                                                                                                                                                                                                                                                                                                                                                                                                                                                                                                                                                                                                                                                                                                                                                                                                                                                                                                                                                                                                                                                                                                                                                                                                                                                                                                                                                                                                                                                                           \n channelTitle | BLACKPINK                                                                                                                                                                                                                                                                                                                                                                                                                                                                                                                                                                                                                                                                                                                                                                                                                                                                                                                                                                                                                                                                                                                                                                                                                                                                                                                                                                                                                                                                                                                                                                                                                                                                                                                                                                                                                                                                                                                                                                                                                                                                                                                                                                                                                                                                                                                                                                                                               \n\n*** WARNING: max output size exceeded, skipping output. ***\n\n                                                                                                                                                                                                                                                                                                                                                                                                                                                                                                                                                                                                                                                                                                                                                                                                                                                                                                                                                                                                                                                                                                                                                                                                                                                                                                                                                                                                                                                                                                                                                                                                                                                                                                                                                                                                                                                                                                                                                                                                                                                                                                                                                                                                                                                                                                                                                                                                                                                                                                                                                                                                                                                                                                                                                                                                                                                                                                                                                                                                                                                                                                                                                                                                                                                                                                                                                                                                                                                                                                                                                                                                                                                              \n duration     | PT5M5S                                                                                                                                                                                                                                                                                                                                                                                                                                                                                                                                                                                                                                                                                                                                                                                                                                                                                                                                                                                                                                                                                                                                                                                                                                                                                                                                                                                                                                                                                                                                                                                                                                                                                                                                                                                                                                                                                                                                                                                                                                                                                                                                                                                                                                                                                                                                                                                                                                                                                                                                                                                                                                                                                                                                                                                                                                                                                                                                                                                                                                                                                                                                                                                                                                                                                                                                                                                                                                                                                                                                                                                                                                                                                                                                                                                                                                                                                                         \n publishedAt  | 2025-07-12T17:44:56Z                                                                                                                                                                                                                                                                                                                                                                                                                                                                                                                                                                                                                                                                                                                                                                                                                                                                                                                                                                                                                                                                                                                                                                                                                                                                                                                                                                                                                                                                                                                                                                                                                                                                                                                                                                                                                                                                                                                                                                                                                                                                                                                                                                                                                                                                                                                                                                                                                                                                                                                                                                                                                                                                                                                                                                                                                                                                                                                                                                                                                                                                                                                                                                                                                                                                                                                                                                                                                                                                                                                                                                                                                                                                                                                                                                                                                                                                                           \n channelTitle | 相信音樂BinMusic                                                                                                                                                                                                                                                                                                                                                                                                                                                                                                                                                                                                                                                                                                                                                                                                                                                                                                                                                                                                                                                                                                                                                                                                                                                                                                                                                                                                                                                                                                                                                                                                                                                                                                                                                                                                                                                                                                                                                                                                                                                                                                                                                                                                                                                                                                                                                                                                                                                                                                                                                                                                                                                                                                                                                                                                                                                                                                                                                                                                                                                                                                                                                                                                                                                                                                                                                                                                                                                                                                                                                                                                                                                                                                                                                                                                                                                                                               \n title        | F4 x MAYDAY五月天 [ 流星雨 Meteor Rain ] 5525版 Official Stage Video                                                                                                                                                                                                                                                                                                                                                                                                                                                                                                                                                                                                                                                                                                                                                                                                                                                                                                                                                                                                                                                                                                                                                                                                                                                                                                                                                                                                                                                                                                                                                                                                                                                                                                                                                                                                                                                                                                                                                                                                                                                                                                                                                                                                                                                                                                                                                                                                                                                                                                                                                                                                                                                                                                                                                                                                                                                                                                                                                                                                                                                                                                                                                                                                                                                                                                                                                                                                                                                                                                                                                                                                                                                                                                                                                                                                                                           \n categoryId   | 10                                                                                                                                                                                                                                                                                                                                                                                                                                                                                                                                                                                                                                                                                                                                                                                                                                                                                                                                                                                                                                                                                                                                                                                                                                                                                                                                                                                                                                                                                                                                                                                                                                                                                                                                                                                                                                                                                                                                                                                                                                                                                                                                                                                                                                                                                                                                                                                                                                                                                                                                                                                                                                                                                                                                                                                                                                                                                                                                                                                                                                                                                                                                                                                                                                                                                                                                                                                                                                                                                                                                                                                                                                                                                                                                                                                                                                                                                                             \n description  | 一場橫跨24年的青春盛宴\\n一首〈流星雨〉喚醒全亞洲的共同記憶\\n​\\n華語最強傳奇男團 —— F4\\n亞洲第一搖滾天團 —— 五月天 \\n神級合體，震撼降臨臺北大巨蛋\\n重啟《流星花園》席捲全亞洲的青春風暴\\n​\\n陪你去看流星雨，\\n陪你一起把奇蹟變現場\\n讓不可能在此刻發生！\\n\\n／\\n\\n♛ F4\\n華語第一傳奇男團，橫掃亞洲的青春現象級符號\\n朱孝天、言承旭、吳建豪、周渝民\\n以《流星花園》紅遍全亞洲，成名於世，更登上《富比士》，接受《CNN》專訪\\n被譽為「亞洲之光」的國際級偶像傳奇！\\n​\\n♛ MAYDAY 五月天\\n全亞洲最具代表性的搖滾天團，世代共鳴的象徵\\n阿信（Vocal)、怪獸（Guitar）、石頭（Guitar）、瑪莎（Bass）、冠佑（Drum）\\n巡演足跡遍及亞洲、美洲、歐洲與澳洲\\n征服全球多座指標性舞台，將華語搖滾刻進世界音樂版圖\\n美國《華盛頓郵報》盛讚為「華人披頭四」\\n亞洲媒體一致推崇的——「演唱會之王」！\\n\\n​\\n／\\n​\\nMAYDAY #5525 LIVE TOUR\\n五月天 [ 回到那一天 ] 25週年巡迴演唱會\\n​\\n一生必看一場五月天！\\n🏆 橫掃 8 項國際舞台設計大獎\\n🏆 15,640 片 16K 巨型球體 LED，震撼視覺極限\\n🏆 斥資 2,600 萬美金，締造全感官極致舞台\\n🏆 螢光棒智慧連控燈效，共創沉浸式萬人圖騰秀\\n​\\n91場巡演，380萬人次熱血共鳴\\n雙主題、雙體驗，全方位升級感官震撼\\n2025盛夏，五月天即將締造北京鳥巢42場新紀錄\\n寫下華語樂壇前所未見、最傳奇的一頁！\\n​\\n\\n#F4 #五月天 #MAYDAY\\n#MAYDAY5525LIVETOUR\\n#Concert #LiveTour\\n\\n-\\n\\n▍流星雨 Meteor Rain｜5525版\\n▍F4 X 五月天｜回到那一天\\n\\n作詞｜鄔裕康     作曲｜平井堅\\n\\n陪你去看流星雨  落在這地球上 \\n讓你的淚落在我肩膀\\n要你相信我的愛  只肯為你勇敢 \\n你會看見  幸福的所在\\n\\n溫柔的星空  應該讓你感動 \\n我在你身後  為你佈置一片天空\\n不准你難過  替你擺平寂寞 \\n夢想的重量  全部都交給我\\n\\n牽你手  跟著我走  風再大又怎樣 \\n你有了我  再也不會迷路方向\\n\\n陪你去看流星雨  落在這地球上 \\n讓你的淚落在我肩膀\\n要你相信我的愛  只肯為你勇敢 \\n你會看見  幸福的所在\\n\\n傷感若太多  心丟給我保護 \\n疲倦的煙火  我會替你都趕走\\n燦爛的言語  只能點綴感情 \\n如果我沉默  因為我真的愛你\\n\\n牽你手  跟著我走  風再大又怎樣 \\n你有了我  再也不會迷路方向\\n\\n陪你去看流星雨  落在這地球上 \\n讓你的淚落在我肩膀\\n要你相信我的愛  只肯為你勇敢 \\n你會看見  幸福的所在\\n\\n雨和雲漸漸散開   灑下一片溫暖 \\n我要分享你眼中的淚光\\n\\n陪你去看流星雨  落在這地球上 \\n讓你的淚落在我肩膀\\n要你相信我的愛  只肯為你勇敢 \\n你會看見  幸福的所在\\n\\n-\\n\\n｜音樂製作  Music Credit｜\\n編曲 Arrangement｜五月天 Mayday / 王士榛 Helix Wang\\n和聲 Backing Vocal｜鄒謦蓬 UP Tsou / 詹宏業 Ryan Chan\\n小朋友和聲 Kid Backing Vocal｜黃千芸 Abbie\\n木吉他演奏 Acoustic Guitar｜葉世康 Sam Yip\\nAmb 技術支援｜Master Tones\\n混音 Mixing｜詹宏業 Ryan Chan\\n\\n弦樂編寫 Strings Arrangement｜王士榛 Helix Wang\\n弦樂統籌 / 監製 String Coordinator / Producer｜蔡曜宇 Shuon Tsai \\n弦樂 Strings｜曜爆甘音樂工作室 Just Busy Music Studio\\n\\n第一小提琴 First Violin｜陳奕勇 Yi-Yung Chen / 駱思云 Ssu-Yun Lo\\n第二小提琴 Second Violin｜朱奕寧 Yi-Ning Ju / 沈鎮堯 Chen-Yao Shen\\n中提琴 Viola｜甘威鵬 Weapon Gan / 牟啟東 Wayne Mau\\n大提琴 Cello｜葉欲新 Yu-Shin Yeh / 張雅迪 Ya-Ti Chang\\n\\n弦樂團行政String Administration｜林舜瑜 Shun-Yu Lin \\n弦樂錄音師 String Recording Engineer｜朱品豪 Pin-Hao Ju \\n弦樂錄音室String Recording Studio｜強力錄音室 Mega Force Studio\\n\\n-\\n\\n｜影像製作  Video Credit｜\\n製作｜8ID Studio\\n導演｜魏奕旻 / 張天城\\n製片｜杜達修\\n執行製片｜達叔\\n攝影師｜魏奕旻 / 張天城 / 陳翔科 / 陳韋翰 / 莊竣瑋 / 郭彥澤 / 徐英誠 / 徐立民 / 林軒陽 / 李金勳 / 許鈞暐\\n剪接｜魏奕旻 / 張天城\\n後期｜何冠臻 / 李宜樺\\n歌詞字幕｜吳東峻\\n調色｜魏奕旻\\n\\n封面 / 標準字設計｜吳建龍 / 畢展熒\\n\\n-\\n｜演出製作  Production Credit｜\\n必應創造\\n\\n#F4 #五月天 \\n#流星雨 #流星花園 \\n#朱孝天 #言承旭 #吳建豪 #周渝民 \\n\\n\\n‥‥訂閱‧追蹤‥‥‥‥‥‥‥‥\\n▶ 追蹤 五月天 Mayday \\nhttps://imayday55555.soci.vip/\\n\\n▶ 訂閱相信音樂YouTube官方頻道\\n– MV首播、新歌搶先聽、獨家花絮\\nhttp://bit.ly/YTBinMusic\\n\\n按讚相信音樂官方FB Like on Facebook\\n– 官方訊息公佈、即時照片\\nhttps://www.facebook.com/ibinmusic \nonly showing top 3 rows\n\n"
     ]
    }
   ],
   "source": [
    "casted_df1.select(\n",
    "    \"viewCount\", \"likeCount\", \"commentCount\",\n",
    "    \"duration\", \"publishedAt\", \"channelTitle\",\n",
    "    \"title\", \"categoryId\", \"description\"\n",
    ").show(3, truncate=False, vertical=True)"
   ]
  },
  {
   "cell_type": "code",
   "execution_count": 0,
   "metadata": {
    "application/vnd.databricks.v1+cell": {
     "cellMetadata": {
      "byteLimit": 2048000,
      "rowLimit": 10000
     },
     "inputWidgets": {},
     "nuid": "591a17b4-8eaa-4663-a32c-8f73abf78546",
     "showTitle": false,
     "tableResultSettingsMap": {},
     "title": ""
    }
   },
   "outputs": [
    {
     "output_type": "stream",
     "name": "stdout",
     "output_type": "stream",
     "text": [
      "+----------------------------------------------------------------------------------------------------+--------+\n|title                                                                                               |duration|\n+----------------------------------------------------------------------------------------------------+--------+\n|BLACKPINK - ‘뛰어(JUMP)’ M/V                                                                        |PT3M14S |\n|cute couple 😭🤣 #newmusic #music #funny #love #funnyvideo #prank                                   |PT18S   |\n|F4 x MAYDAY五月天 [ 流星雨 Meteor Rain ] 5525版 Official Stage Video                                |PT5M5S  |\n|Little doctor playing with dog👩‍⚕️🤭💕✨                                                            |PT26S   |\n|Big Brother King For Sister💝☺️                                                                     |PT15S   |\n|CZN Burak Pranked Me🇹🇷 #ishowspeed                                                                |PT14S   |\n|What's The Sharpest homemade Katana?                                                                |PT1M32S |\n|Monica - Lyric Video| COOLIE | Superstar Rajinikanth | Sun Pictures | Lokesh | Anirudh | Pooja Hegde|PT3M35S |\n|Can I Stand Longer Than Cole Palmer?                                                                |PT1M8S  |\n|TWICE \"THIS IS FOR\" M/V                                                                             |PT2M14S |\n+----------------------------------------------------------------------------------------------------+--------+\nonly showing top 10 rows\n\n"
     ]
    }
   ],
   "source": [
    "casted_df1.select(\"title\", \"duration\").show(10, truncate=False)"
   ]
  },
  {
   "cell_type": "markdown",
   "metadata": {
    "application/vnd.databricks.v1+cell": {
     "cellMetadata": {},
     "inputWidgets": {},
     "nuid": "2d99d079-4709-4b16-ac40-6ccb820c33aa",
     "showTitle": false,
     "tableResultSettingsMap": {},
     "title": ""
    }
   },
   "source": [
    "# Convert duration (ISO 8601 format) to Total Seconds"
   ]
  },
  {
   "cell_type": "code",
   "execution_count": 0,
   "metadata": {
    "application/vnd.databricks.v1+cell": {
     "cellMetadata": {
      "byteLimit": 2048000,
      "rowLimit": 10000
     },
     "inputWidgets": {},
     "nuid": "ce17cda5-3b86-44a8-8cde-fe4d388f573f",
     "showTitle": false,
     "tableResultSettingsMap": {},
     "title": ""
    }
   },
   "outputs": [],
   "source": [
    "from pyspark.sql.functions import col, regexp_extract\n",
    "\n",
    "# Step 1: Extract raw duration string\n",
    "df_with_duration = casted_df1.withColumn(\"duration_raw\", col(\"duration\"))\n",
    "\n",
    "# Step 2: Extract hours, minutes, and seconds using regex\n",
    "df_parsed = df_with_duration \\\n",
    "    .withColumn(\"hours\", regexp_extract(col(\"duration_raw\"), r'PT(\\d+)H', 1).cast(\"int\")) \\\n",
    "    .withColumn(\"minutes\", regexp_extract(col(\"duration_raw\"), r'(?<=PT(\\d+H)?)?(\\d+)M', 2).cast(\"int\")) \\\n",
    "    .withColumn(\"seconds\", regexp_extract(col(\"duration_raw\"), r'(?<=M)?(\\d+)S', 1).cast(\"int\"))\n",
    "\n",
    "# Step 3: Replace nulls with 0\n",
    "df_filled = df_parsed.fillna({\"hours\": 0, \"minutes\": 0, \"seconds\": 0})\n",
    "\n",
    "# Step 4: Calculate total duration in seconds and overwrite `duration` column\n",
    "final_df = df_filled.withColumn(\n",
    "    \"duration\",\n",
    "    col(\"hours\") * 3600 + col(\"minutes\") * 60 + col(\"seconds\")\n",
    ")\n",
    "\n",
    "# Step 5: Drop temporary columns (if you want clean dataframe)\n",
    "final_df = final_df.drop(\"duration_raw\", \"hours\", \"minutes\", \"seconds\")\n",
    "\n",
    "#  Now update casted_df to this final version\n",
    "casted_df1 = final_df\n"
   ]
  },
  {
   "cell_type": "code",
   "execution_count": 0,
   "metadata": {
    "application/vnd.databricks.v1+cell": {
     "cellMetadata": {
      "byteLimit": 2048000,
      "rowLimit": 10000
     },
     "inputWidgets": {},
     "nuid": "2082b769-d0fd-4d9d-bfea-ae162f64979d",
     "showTitle": false,
     "tableResultSettingsMap": {},
     "title": ""
    }
   },
   "outputs": [
    {
     "output_type": "stream",
     "name": "stdout",
     "output_type": "stream",
     "text": [
      "root\n |-- id: string (nullable = true)\n |-- publishedAt: string (nullable = true)\n |-- channelId: string (nullable = true)\n |-- channelTitle: string (nullable = true)\n |-- title: string (nullable = true)\n |-- description: string (nullable = true)\n |-- categoryId: string (nullable = true)\n |-- tags: array (nullable = true)\n |    |-- element: string (containsNull = true)\n |-- defaultLanguage: string (nullable = true)\n |-- defaultAudioLanguage: string (nullable = true)\n |-- viewCount: integer (nullable = true)\n |-- likeCount: integer (nullable = true)\n |-- commentCount: integer (nullable = true)\n |-- duration: integer (nullable = false)\n |-- caption: string (nullable = true)\n\n"
     ]
    }
   ],
   "source": [
    "casted_df1.printSchema()"
   ]
  },
  {
   "cell_type": "code",
   "execution_count": 0,
   "metadata": {
    "application/vnd.databricks.v1+cell": {
     "cellMetadata": {
      "byteLimit": 2048000,
      "rowLimit": 10000
     },
     "inputWidgets": {},
     "nuid": "9a39972c-eaf7-4832-8aab-00b23adfbcf1",
     "showTitle": false,
     "tableResultSettingsMap": {},
     "title": ""
    }
   },
   "outputs": [
    {
     "output_type": "stream",
     "name": "stdout",
     "output_type": "stream",
     "text": [
      "+----------------------------------------------------------------------------------------------------+--------+\n|title                                                                                               |duration|\n+----------------------------------------------------------------------------------------------------+--------+\n|BLACKPINK - ‘뛰어(JUMP)’ M/V                                                                        |194     |\n|cute couple 😭🤣 #newmusic #music #funny #love #funnyvideo #prank                                   |18      |\n|F4 x MAYDAY五月天 [ 流星雨 Meteor Rain ] 5525版 Official Stage Video                                |305     |\n|Little doctor playing with dog👩‍⚕️🤭💕✨                                                            |26      |\n|Big Brother King For Sister💝☺️                                                                     |15      |\n|CZN Burak Pranked Me🇹🇷 #ishowspeed                                                                |14      |\n|What's The Sharpest homemade Katana?                                                                |92      |\n|Monica - Lyric Video| COOLIE | Superstar Rajinikanth | Sun Pictures | Lokesh | Anirudh | Pooja Hegde|215     |\n|Can I Stand Longer Than Cole Palmer?                                                                |68      |\n|TWICE \"THIS IS FOR\" M/V                                                                             |134     |\n|这样的制自制泳池，对小朋友来说，真的是太欢乐了 #涨知识#科普                                         |20      |\n|HSA sting operation catches vape seller in Bishan                                                   |68      |\n|She wears makeup every day to school.#movie #viralvideo #shorts                                     |123     |\n|The Last Player Was Just Different                                                                  |26      |\n|LEGO are more expensive than you think                                                              |38      |\n|Turning $1.6M Into Opportunity 💼🔥 #shorts #motivation #growth                                     |58      |\n|The human cub went to buy a duck~ #cutebabygrowthdiary #ruralcutebaby #growingfooddiary             |63      |\n|Watch full video 👆 Minsara Kanavu Comedy Scenes - #arvindswamy #kajol #prabhudeva #nassar #shorts  |89      |\n|Are Expensive Eggs More Nutritious? | Talking Point | Full Episode                                  |1360    |\n|Told me dad to record the prettiest thing here 😭😭                                                 |10      |\n+----------------------------------------------------------------------------------------------------+--------+\nonly showing top 20 rows\n\n"
     ]
    }
   ],
   "source": [
    "casted_df1.select(\"title\", \"duration\").show(20, truncate=False)"
   ]
  },
  {
   "cell_type": "markdown",
   "metadata": {
    "application/vnd.databricks.v1+cell": {
     "cellMetadata": {},
     "inputWidgets": {},
     "nuid": "dd244853-6b10-4de3-a70a-d34ac35f2c66",
     "showTitle": false,
     "tableResultSettingsMap": {},
     "title": ""
    }
   },
   "source": [
    "# in our data distinct categoryid available"
   ]
  },
  {
   "cell_type": "code",
   "execution_count": 0,
   "metadata": {
    "application/vnd.databricks.v1+cell": {
     "cellMetadata": {
      "byteLimit": 2048000,
      "rowLimit": 10000
     },
     "inputWidgets": {},
     "nuid": "5a34f302-0e64-4dbf-a984-0fe8decbece9",
     "showTitle": false,
     "tableResultSettingsMap": {},
     "title": ""
    }
   },
   "outputs": [
    {
     "output_type": "stream",
     "name": "stdout",
     "output_type": "stream",
     "text": [
      "Out[10]: 11"
     ]
    }
   ],
   "source": [
    "df.select(\"snippet.categoryId\").distinct().count()"
   ]
  },
  {
   "cell_type": "code",
   "execution_count": 0,
   "metadata": {
    "application/vnd.databricks.v1+cell": {
     "cellMetadata": {
      "byteLimit": 2048000,
      "rowLimit": 10000
     },
     "inputWidgets": {},
     "nuid": "6dd88098-31fc-44a4-aea6-61ac1febd41f",
     "showTitle": false,
     "tableResultSettingsMap": {},
     "title": ""
    }
   },
   "outputs": [
    {
     "output_type": "stream",
     "name": "stdout",
     "output_type": "stream",
     "text": [
      "+----------+\n|categoryId|\n+----------+\n|22        |\n|28        |\n|27        |\n|17        |\n|23        |\n|25        |\n|24        |\n|1         |\n|20        |\n|10        |\n|2         |\n+----------+\n\n"
     ]
    }
   ],
   "source": [
    "df.select(\"snippet.categoryId\").distinct().show(truncate=False)"
   ]
  },
  {
   "cell_type": "markdown",
   "metadata": {
    "application/vnd.databricks.v1+cell": {
     "cellMetadata": {},
     "inputWidgets": {},
     "nuid": "16421d27-26a0-467d-a39e-e12906494c39",
     "showTitle": false,
     "tableResultSettingsMap": {},
     "title": ""
    }
   },
   "source": [
    "# Mapping distinct Categoryid to Category Name"
   ]
  },
  {
   "cell_type": "code",
   "execution_count": 0,
   "metadata": {
    "application/vnd.databricks.v1+cell": {
     "cellMetadata": {
      "byteLimit": 2048000,
      "rowLimit": 10000
     },
     "inputWidgets": {},
     "nuid": "f6ee9d9e-442c-404e-90a3-41f7cf91bbc1",
     "showTitle": false,
     "tableResultSettingsMap": {},
     "title": ""
    }
   },
   "outputs": [],
   "source": [
    "from pyspark.sql.functions import when, col\n",
    "\n",
    "casted_df1 = casted_df1.withColumn(\n",
    "    \"categoryName\",\n",
    "    when(col(\"categoryId\") == \"1\", \"Film & Animation\")\n",
    "    .when(col(\"categoryId\") == \"2\", \"Autos & Vehicles\")\n",
    "    .when(col(\"categoryId\") == \"10\", \"Music\")\n",
    "    .when(col(\"categoryId\") == \"17\", \"Sports\")\n",
    "    .when(col(\"categoryId\") == \"20\", \"Gaming\")\n",
    "    .when(col(\"categoryId\") == \"22\", \"People & Blogs\")\n",
    "    .when(col(\"categoryId\") == \"23\", \"Comedy\")\n",
    "    .when(col(\"categoryId\") == \"24\", \"Entertainment\")\n",
    "    .when(col(\"categoryId\") == \"25\", \"News & Politics\")\n",
    "    .when(col(\"categoryId\") == \"26\", \"Howto & Style\")\n",
    "    .when(col(\"categoryId\") == \"27\", \"Education\")\n",
    "    .when(col(\"categoryId\") == \"28\", \"Science & Technology\")\n",
    "    .otherwise(\"Unknown\")\n",
    ")\n"
   ]
  },
  {
   "cell_type": "code",
   "execution_count": 0,
   "metadata": {
    "application/vnd.databricks.v1+cell": {
     "cellMetadata": {
      "byteLimit": 2048000,
      "rowLimit": 10000
     },
     "inputWidgets": {},
     "nuid": "4d7ce358-1302-425e-90a1-206328af2063",
     "showTitle": false,
     "tableResultSettingsMap": {},
     "title": ""
    }
   },
   "outputs": [
    {
     "output_type": "stream",
     "name": "stdout",
     "output_type": "stream",
     "text": [
      "+--------------------+-----+\n|categoryName        |count|\n+--------------------+-----+\n|Education           |2    |\n|Gaming              |2    |\n|Entertainment       |17   |\n|Science & Technology|2    |\n|Sports              |4    |\n|Film & Animation    |2    |\n|People & Blogs      |8    |\n|News & Politics     |2    |\n|Autos & Vehicles    |1    |\n|Music               |8    |\n|Comedy              |2    |\n+--------------------+-----+\n\n"
     ]
    }
   ],
   "source": [
    "casted_df1.groupBy(\"categoryName\").count().show(truncate=False)"
   ]
  },
  {
   "cell_type": "markdown",
   "metadata": {
    "application/vnd.databricks.v1+cell": {
     "cellMetadata": {},
     "inputWidgets": {},
     "nuid": "55f1f135-444b-4d9a-98f7-a5a07e1d19e0",
     "showTitle": false,
     "tableResultSettingsMap": {},
     "title": ""
    }
   },
   "source": [
    "# convert publishAt col to time stamp"
   ]
  },
  {
   "cell_type": "code",
   "execution_count": 0,
   "metadata": {
    "application/vnd.databricks.v1+cell": {
     "cellMetadata": {
      "byteLimit": 2048000,
      "rowLimit": 10000
     },
     "inputWidgets": {},
     "nuid": "2fef90f9-6bb4-4b6b-a974-fc72484cb519",
     "showTitle": false,
     "tableResultSettingsMap": {},
     "title": ""
    }
   },
   "outputs": [],
   "source": [
    "from pyspark.sql.functions import col, to_timestamp, to_date, year, month\n",
    "\n",
    "# Step 1: Convert to timestamp\n",
    "casted_df1 = casted_df1.withColumn(\"publishedAt_ts\", to_timestamp(col(\"publishedAt\"), \"yyyy-MM-dd'T'HH:mm:ss'Z'\"))\n",
    "\n",
    "# Step 2: Extract only the date part\n",
    "casted_df1 = casted_df1.withColumn(\"publishedDate\", to_date(col(\"publishedAt_ts\")))\n",
    "\n",
    "# Step 3: Extract year and month from publishedDate\n",
    "casted_df1 = casted_df1.withColumn(\"year\", year(\"publishedDate\")) \\\n",
    "                     .withColumn(\"month\", month(\"publishedDate\"))\n",
    "\n",
    "# Step 4: Drop original publishedAt and timestamp\n",
    "casted_df1 = casted_df1.drop(\"publishedAt\", \"publishedAt_ts\")\n"
   ]
  },
  {
   "cell_type": "code",
   "execution_count": 0,
   "metadata": {
    "application/vnd.databricks.v1+cell": {
     "cellMetadata": {
      "byteLimit": 2048000,
      "rowLimit": 10000
     },
     "inputWidgets": {},
     "nuid": "519a98f5-e361-4a12-b9fb-a68549911ea6",
     "showTitle": false,
     "tableResultSettingsMap": {},
     "title": ""
    }
   },
   "outputs": [
    {
     "output_type": "stream",
     "name": "stdout",
     "output_type": "stream",
     "text": [
      "-RECORD 0-----------------------------------------------------------------------------------------------------------------------------------------------------------------------------------------------------------------------------------------------------------------------------------------------------------------------------------------------------------------------------------------------------------------------------------------------------------------------------------------------------------------------------------------------------------------------------------------------------------------------------------------------------------------------------------------------------------------------------------------------------------------------------------------------------------------------------------------------------------------------------------------------------------------------------------------------------------------------------------------------------------------------------------------------------------------------------------------------------------------------------------------------------------------------------------------------------------------------------------------------------------------------------------------------------------------------------------------------------------------------------------------------------------------------------------------------------------------------------------------------------------------------------------------------------------------------------------------------------------------------------------------------------------------------------------------------------------------------------------------------------------------------------------------------------------------------------------------------------------------------------------------------------------------------------------------------------------------------------------------------------------------------------------------------------------------------------------------------------------------------------------------------------------------------------------------------------------------------------------------------------------------------------------------------------------------------------------------------------------------------------------------------------------------------------------------------------------------------------------------------------------------------------------------------------------------------------------------------------------------------------------------------------------------------------------------------------------------------------------------------------------------------------------------------------------------------------------------------------------------------------------------------------------------------------------------------------------------------------------------------------------------------------------------------------------------------------------------------------------------------------------------------------------------------------------------------------------------------------------------------------------------------------------------------------------------------------------------------------------------------------------------------------------------------------------------------------------------------------------------------------------------------------------------------------------------------------------------------------------------------------------------------------------------------------------------------------------------------------------------------------------------------------------------------------------------------------------------------------------------------------------------------------------------------\n viewCount     | 75930630                                                                                                                                                                                                                                                                                                                                                                                                                                                                                                                                                                                                                                                                                                                                                                                                                                                                                                                                                                                                                                                                                                                                                                                                                                                                                                                                                                                                                                                                                                                                                                                                                                                                                                                                                                                                                                                                                                                                                                                                                                                                                                                                                                                                                                                                                                                                                                                                                                                                                                                                                                                                                                                                                                                                                                                                                                                                                                                                                                                                                                                                                                                                                                                                                                                                                                                                                                                                                                                                                                                                                                                                                                                                                                                                                                                                                                                                                                       \n likeCount     | 4598329                                                                                                                                                                                                                                                                                                                                                                                                                                                                                                                                                                                                                                                                                                                                                                                                                                                                                                                                                                                                                                                                                                                                                                                                                                                                                                                                                                                                                                                                                                                                                                                                                                                                                                                                                                                                                                                                                                                                                                                                                                                                                                                                                                                                                                                                                                                                                                                                                                                                                                                                                                                                                                                                                                                                                                                                                                                                                                                                                                                                                                                                                                                                                                                                                                                                                                                                                                                                                                                                                                                                                                                                                                                                                                                                                                                                                                                                                                        \n commentCount  | 378951                                                                                                                                                                                                                                                                                                                                                                                                                                                                                                                                                                                                                                                                                                                                                                                                                                                                                                                                                                                                                                                                                                                                                                                                                                                                                                                                                                                                                                                                                                                                                                                                                                                                                                                                                                                                                                                                                                                                                                                                                                                                                                                                                                                                                                                                                                                                                                                                                                                                                                                                                                                                                                                                                                                                                                                                                                                                                                                                                                                                                                                                                                                                                                                                                                                                                                                                                                                                                                                                                                                                                                                                                                                                                                                                                                                                                                                                                                         \n duration      | 194                                                                                                                                                                                                                                                                                                                                                                                                                                                                                                                                                                                                                                                                                                                                                                                                                                                                                                                                                                                                                                                                                                                                                                                                                                                                                                                                                                                                                                                                                                                                                                                                                                                                                                                                                                                                                                                                                                                                                                                                                                                                                                                                                                                                                                                                                                                                                                                                                                                                                                                                                                                                                                                                                                                                                                                                                                                                                                                                                                                                                                                                                                                                                                                                                                                                                                                                                                                                                                                                                                                                                                                                                                                                                                                                                                                                                                                                                                            \n publishedDate | 2025-07-11                                                                                                                                                                                                                                                                                                                                                                                                                                                                                                                                                                                                                                                                                                                                                                                                                                                                                                                                                                                                                                                                                                                                                                                                                                                                                                                                                                                                                                                                                                                                                                                                                                                                                                                                                                                                                                                                                                                                                                                                                                                                                                                                                                                                                                                                                                                                                                                                                                                                                                                                                                                                                                                                                                                                                                                                                                                                                                                                                                                                                                                                                                                                                                                                                                                                                                                                                                                                                                                                                                                                                                                                                                                                                                                                                                                                                                                                                                     \n channelTitle  | BLACKPINK                                                                                                                                                                                                                                                                                                                                                                                                                                                                                                                                                                                                                                                                                                                                                                                                                                                                                                                                                                                                                                                                                                                                                                                                                                                                                                                                                                                                                                                                                                                                                                                                                                                                                                                                                                                                                                                                                                                                                                                                                                                                                                                                                                                                                                                                                                                                                                                                        \n\n*** WARNING: max output size exceeded, skipping output. ***\n\n                                                                                                                                                                                                                                                                                                                                                                                                                                                                                                                                                                                                                                                                                                                                                                                                                                                                                                                                                                                                                                                                                                                                                                                                                                                                                                                                                                                                                                                                                                                                                                                                                                                                                                                                                                                                                                                                                                                                                                                                                                                                                                                                                                                                                                                                                                                                                                                                                                                                                                                                                                                                                                                                                                                                                                                                                                                                                                                                                                                                                                                                                                                                                                                                                                                                                                                                                                                                                                                                                                                                                                                                                                                        \n publishedDate | 2025-07-12                                                                                                                                                                                                                                                                                                                                                                                                                                                                                                                                                                                                                                                                                                                                                                                                                                                                                                                                                                                                                                                                                                                                                                                                                                                                                                                                                                                                                                                                                                                                                                                                                                                                                                                                                                                                                                                                                                                                                                                                                                                                                                                                                                                                                                                                                                                                                                                                                                                                                                                                                                                                                                                                                                                                                                                                                                                                                                                                                                                                                                                                                                                                                                                                                                                                                                                                                                                                                                                                                                                                                                                                                                                                                                                                                                                                                                                                                                     \n channelTitle  | 相信音樂BinMusic                                                                                                                                                                                                                                                                                                                                                                                                                                                                                                                                                                                                                                                                                                                                                                                                                                                                                                                                                                                                                                                                                                                                                                                                                                                                                                                                                                                                                                                                                                                                                                                                                                                                                                                                                                                                                                                                                                                                                                                                                                                                                                                                                                                                                                                                                                                                                                                                                                                                                                                                                                                                                                                                                                                                                                                                                                                                                                                                                                                                                                                                                                                                                                                                                                                                                                                                                                                                                                                                                                                                                                                                                                                                                                                                                                                                                                                                                               \n title         | F4 x MAYDAY五月天 [ 流星雨 Meteor Rain ] 5525版 Official Stage Video                                                                                                                                                                                                                                                                                                                                                                                                                                                                                                                                                                                                                                                                                                                                                                                                                                                                                                                                                                                                                                                                                                                                                                                                                                                                                                                                                                                                                                                                                                                                                                                                                                                                                                                                                                                                                                                                                                                                                                                                                                                                                                                                                                                                                                                                                                                                                                                                                                                                                                                                                                                                                                                                                                                                                                                                                                                                                                                                                                                                                                                                                                                                                                                                                                                                                                                                                                                                                                                                                                                                                                                                                                                                                                                                                                                                                                           \n categoryId    | 10                                                                                                                                                                                                                                                                                                                                                                                                                                                                                                                                                                                                                                                                                                                                                                                                                                                                                                                                                                                                                                                                                                                                                                                                                                                                                                                                                                                                                                                                                                                                                                                                                                                                                                                                                                                                                                                                                                                                                                                                                                                                                                                                                                                                                                                                                                                                                                                                                                                                                                                                                                                                                                                                                                                                                                                                                                                                                                                                                                                                                                                                                                                                                                                                                                                                                                                                                                                                                                                                                                                                                                                                                                                                                                                                                                                                                                                                                                             \n description   | 一場橫跨24年的青春盛宴\\n一首〈流星雨〉喚醒全亞洲的共同記憶\\n​\\n華語最強傳奇男團 —— F4\\n亞洲第一搖滾天團 —— 五月天 \\n神級合體，震撼降臨臺北大巨蛋\\n重啟《流星花園》席捲全亞洲的青春風暴\\n​\\n陪你去看流星雨，\\n陪你一起把奇蹟變現場\\n讓不可能在此刻發生！\\n\\n／\\n\\n♛ F4\\n華語第一傳奇男團，橫掃亞洲的青春現象級符號\\n朱孝天、言承旭、吳建豪、周渝民\\n以《流星花園》紅遍全亞洲，成名於世，更登上《富比士》，接受《CNN》專訪\\n被譽為「亞洲之光」的國際級偶像傳奇！\\n​\\n♛ MAYDAY 五月天\\n全亞洲最具代表性的搖滾天團，世代共鳴的象徵\\n阿信（Vocal)、怪獸（Guitar）、石頭（Guitar）、瑪莎（Bass）、冠佑（Drum）\\n巡演足跡遍及亞洲、美洲、歐洲與澳洲\\n征服全球多座指標性舞台，將華語搖滾刻進世界音樂版圖\\n美國《華盛頓郵報》盛讚為「華人披頭四」\\n亞洲媒體一致推崇的——「演唱會之王」！\\n\\n​\\n／\\n​\\nMAYDAY #5525 LIVE TOUR\\n五月天 [ 回到那一天 ] 25週年巡迴演唱會\\n​\\n一生必看一場五月天！\\n🏆 橫掃 8 項國際舞台設計大獎\\n🏆 15,640 片 16K 巨型球體 LED，震撼視覺極限\\n🏆 斥資 2,600 萬美金，締造全感官極致舞台\\n🏆 螢光棒智慧連控燈效，共創沉浸式萬人圖騰秀\\n​\\n91場巡演，380萬人次熱血共鳴\\n雙主題、雙體驗，全方位升級感官震撼\\n2025盛夏，五月天即將締造北京鳥巢42場新紀錄\\n寫下華語樂壇前所未見、最傳奇的一頁！\\n​\\n\\n#F4 #五月天 #MAYDAY\\n#MAYDAY5525LIVETOUR\\n#Concert #LiveTour\\n\\n-\\n\\n▍流星雨 Meteor Rain｜5525版\\n▍F4 X 五月天｜回到那一天\\n\\n作詞｜鄔裕康     作曲｜平井堅\\n\\n陪你去看流星雨  落在這地球上 \\n讓你的淚落在我肩膀\\n要你相信我的愛  只肯為你勇敢 \\n你會看見  幸福的所在\\n\\n溫柔的星空  應該讓你感動 \\n我在你身後  為你佈置一片天空\\n不准你難過  替你擺平寂寞 \\n夢想的重量  全部都交給我\\n\\n牽你手  跟著我走  風再大又怎樣 \\n你有了我  再也不會迷路方向\\n\\n陪你去看流星雨  落在這地球上 \\n讓你的淚落在我肩膀\\n要你相信我的愛  只肯為你勇敢 \\n你會看見  幸福的所在\\n\\n傷感若太多  心丟給我保護 \\n疲倦的煙火  我會替你都趕走\\n燦爛的言語  只能點綴感情 \\n如果我沉默  因為我真的愛你\\n\\n牽你手  跟著我走  風再大又怎樣 \\n你有了我  再也不會迷路方向\\n\\n陪你去看流星雨  落在這地球上 \\n讓你的淚落在我肩膀\\n要你相信我的愛  只肯為你勇敢 \\n你會看見  幸福的所在\\n\\n雨和雲漸漸散開   灑下一片溫暖 \\n我要分享你眼中的淚光\\n\\n陪你去看流星雨  落在這地球上 \\n讓你的淚落在我肩膀\\n要你相信我的愛  只肯為你勇敢 \\n你會看見  幸福的所在\\n\\n-\\n\\n｜音樂製作  Music Credit｜\\n編曲 Arrangement｜五月天 Mayday / 王士榛 Helix Wang\\n和聲 Backing Vocal｜鄒謦蓬 UP Tsou / 詹宏業 Ryan Chan\\n小朋友和聲 Kid Backing Vocal｜黃千芸 Abbie\\n木吉他演奏 Acoustic Guitar｜葉世康 Sam Yip\\nAmb 技術支援｜Master Tones\\n混音 Mixing｜詹宏業 Ryan Chan\\n\\n弦樂編寫 Strings Arrangement｜王士榛 Helix Wang\\n弦樂統籌 / 監製 String Coordinator / Producer｜蔡曜宇 Shuon Tsai \\n弦樂 Strings｜曜爆甘音樂工作室 Just Busy Music Studio\\n\\n第一小提琴 First Violin｜陳奕勇 Yi-Yung Chen / 駱思云 Ssu-Yun Lo\\n第二小提琴 Second Violin｜朱奕寧 Yi-Ning Ju / 沈鎮堯 Chen-Yao Shen\\n中提琴 Viola｜甘威鵬 Weapon Gan / 牟啟東 Wayne Mau\\n大提琴 Cello｜葉欲新 Yu-Shin Yeh / 張雅迪 Ya-Ti Chang\\n\\n弦樂團行政String Administration｜林舜瑜 Shun-Yu Lin \\n弦樂錄音師 String Recording Engineer｜朱品豪 Pin-Hao Ju \\n弦樂錄音室String Recording Studio｜強力錄音室 Mega Force Studio\\n\\n-\\n\\n｜影像製作  Video Credit｜\\n製作｜8ID Studio\\n導演｜魏奕旻 / 張天城\\n製片｜杜達修\\n執行製片｜達叔\\n攝影師｜魏奕旻 / 張天城 / 陳翔科 / 陳韋翰 / 莊竣瑋 / 郭彥澤 / 徐英誠 / 徐立民 / 林軒陽 / 李金勳 / 許鈞暐\\n剪接｜魏奕旻 / 張天城\\n後期｜何冠臻 / 李宜樺\\n歌詞字幕｜吳東峻\\n調色｜魏奕旻\\n\\n封面 / 標準字設計｜吳建龍 / 畢展熒\\n\\n-\\n｜演出製作  Production Credit｜\\n必應創造\\n\\n#F4 #五月天 \\n#流星雨 #流星花園 \\n#朱孝天 #言承旭 #吳建豪 #周渝民 \\n\\n\\n‥‥訂閱‧追蹤‥‥‥‥‥‥‥‥\\n▶ 追蹤 五月天 Mayday \\nhttps://imayday55555.soci.vip/\\n\\n▶ 訂閱相信音樂YouTube官方頻道\\n– MV首播、新歌搶先聽、獨家花絮\\nhttp://bit.ly/YTBinMusic\\n\\n按讚相信音樂官方FB Like on Facebook\\n– 官方訊息公佈、即時照片\\nhttps://www.facebook.com/ibinmusic \n categoryName  | Music                                                                                                                                                                                                                                                                                                                                                                                                                                                                                                                                                                                                                                                                                                                                                                                                                                                                                                                                                                                                                                                                                                                                                                                                                                                                                                                                                                                                                                                                                                                                                                                                                                                                                                                                                                                                                                                                                                                                                                                                                                                                                                                                                                                                                                                                                                                                                                                                                                                                                                                                                                                                                                                                                                                                                                                                                                                                                                                                                                                                                                                                                                                                                                                                                                                                                                                                                                                                                                                                                                                                                                                                                                                                                                                                                                                                                                                                                                          \nonly showing top 3 rows\n\n"
     ]
    }
   ],
   "source": [
    "casted_df1.select(\n",
    "    \"viewCount\", \"likeCount\", \"commentCount\",\n",
    "    \"duration\", \"publishedDate\", \"channelTitle\",\n",
    "    \"title\", \"categoryId\", \"description\", \"categoryName\"\n",
    ").show(3, truncate=False, vertical=True)"
   ]
  },
  {
   "cell_type": "code",
   "execution_count": 0,
   "metadata": {
    "application/vnd.databricks.v1+cell": {
     "cellMetadata": {
      "byteLimit": 2048000,
      "rowLimit": 10000
     },
     "inputWidgets": {},
     "nuid": "49f12a12-4cdd-411e-a253-fcaaee767c0f",
     "showTitle": false,
     "tableResultSettingsMap": {},
     "title": ""
    }
   },
   "outputs": [],
   "source": [
    "# in likecount there was a single null valued  so i filled it with '0'"
   ]
  },
  {
   "cell_type": "code",
   "execution_count": 0,
   "metadata": {
    "application/vnd.databricks.v1+cell": {
     "cellMetadata": {
      "byteLimit": 2048000,
      "rowLimit": 10000
     },
     "inputWidgets": {},
     "nuid": "b104ddf9-6be4-4c83-a0de-7a45930bbb5b",
     "showTitle": false,
     "tableResultSettingsMap": {},
     "title": ""
    }
   },
   "outputs": [],
   "source": [
    "from pyspark.sql.functions import col\n",
    "\n",
    "casted_df1 = casted_df1.fillna({\"likeCount\": 0})"
   ]
  },
  {
   "cell_type": "code",
   "execution_count": 0,
   "metadata": {
    "application/vnd.databricks.v1+cell": {
     "cellMetadata": {
      "byteLimit": 2048000,
      "rowLimit": 10000
     },
     "inputWidgets": {},
     "nuid": "5a39e05c-40f8-470a-8a67-7f450f6c839a",
     "showTitle": false,
     "tableResultSettingsMap": {},
     "title": ""
    }
   },
   "outputs": [
    {
     "output_type": "stream",
     "name": "stdout",
     "output_type": "stream",
     "text": [
      "+--------------+--------------+-----------------+-------------+------------+-----------------+------------------+---------+----------+\n|null_viewCount|null_likeCount|null_commentCount|null_duration|null_caption|null_categoryName|null_publishedDate|null_year|null_month|\n+--------------+--------------+-----------------+-------------+------------+-----------------+------------------+---------+----------+\n|             0|             0|                0|            0|           0|                0|                 0|        0|         0|\n+--------------+--------------+-----------------+-------------+------------+-----------------+------------------+---------+----------+\n\n"
     ]
    }
   ],
   "source": [
    "from pyspark.sql.functions import col, count, when\n",
    "\n",
    "# Check null values for all relevant columns\n",
    "casted_df1.select([\n",
    "    count(when(col(\"viewCount\").isNull(), 1)).alias(\"null_viewCount\"),\n",
    "    count(when(col(\"likeCount\").isNull(), 1)).alias(\"null_likeCount\"),\n",
    "    count(when(col(\"commentCount\").isNull(), 1)).alias(\"null_commentCount\"),\n",
    "    count(when(col(\"duration\").isNull(), 1)).alias(\"null_duration\"),\n",
    "    count(when(col(\"caption\").isNull(), 1)).alias(\"null_caption\"),\n",
    "    count(when(col(\"categoryName\").isNull(), 1)).alias(\"null_categoryName\"),\n",
    "    count(when(col(\"publishedDate\").isNull(), 1)).alias(\"null_publishedDate\"),\n",
    "    count(when(col(\"year\").isNull(), 1)).alias(\"null_year\"),\n",
    "    count(when(col(\"month\").isNull(), 1)).alias(\"null_month\")\n",
    "]).show()"
   ]
  },
  {
   "cell_type": "markdown",
   "metadata": {
    "application/vnd.databricks.v1+cell": {
     "cellMetadata": {},
     "inputWidgets": {},
     "nuid": "efd02f91-a09b-46a2-bcad-bd351fea621e",
     "showTitle": false,
     "tableResultSettingsMap": {},
     "title": ""
    }
   },
   "source": [
    "# Engegment Analysis"
   ]
  },
  {
   "cell_type": "code",
   "execution_count": 0,
   "metadata": {
    "application/vnd.databricks.v1+cell": {
     "cellMetadata": {},
     "inputWidgets": {},
     "nuid": "5408738e-5c60-4787-831d-ccdd90a9271d",
     "showTitle": false,
     "tableResultSettingsMap": {},
     "title": ""
    }
   },
   "outputs": [],
   "source": []
  },
  {
   "cell_type": "markdown",
   "metadata": {
    "application/vnd.databricks.v1+cell": {
     "cellMetadata": {},
     "inputWidgets": {},
     "nuid": "eaca3062-75ba-4fd7-9770-93e25163f1b4",
     "showTitle": false,
     "tableResultSettingsMap": {},
     "title": ""
    }
   },
   "source": [
    "# Top Channels by Total Views"
   ]
  },
  {
   "cell_type": "code",
   "execution_count": 0,
   "metadata": {
    "application/vnd.databricks.v1+cell": {
     "cellMetadata": {
      "byteLimit": 2048000,
      "rowLimit": 10000
     },
     "inputWidgets": {},
     "nuid": "428d1a72-ca6c-4974-9d4f-3c5212e13ec9",
     "showTitle": false,
     "tableResultSettingsMap": {},
     "title": ""
    }
   },
   "outputs": [
    {
     "output_type": "stream",
     "name": "stdout",
     "output_type": "stream",
     "text": [
      "+-----------------+----------+\n|channelTitle     |totalViews|\n+-----------------+----------+\n|Mini Katana      |94520245  |\n|Ben Azelart      |84420253  |\n|BLACKPINK        |75930630  |\n|IShowSpeed       |61858407  |\n|BEN EAGLE        |61073614  |\n|Let's Romantic   |53777618  |\n|Red Bull         |46427751  |\n|Nam Phương       |35077490  |\n|MaviGadget       |31441467  |\n|Eternal Love     |26856450  |\n|Endless Love     |26270841  |\n|Dude Perfect     |21957536  |\n|JYP Entertainment|21366271  |\n|Browney          |20654992  |\n|Sun TV           |19711313  |\n|CONDA NGUYEN     |19612884  |\n|DAZN Football    |18817196  |\n|BLACKPINK - Topic|17758514  |\n|王家帮           |13249135  |\n|Ong Squad        |13040440  |\n+-----------------+----------+\nonly showing top 20 rows\n\n"
     ]
    }
   ],
   "source": [
    "top_channels = casted_df1.groupBy(\"channelTitle\") \\\n",
    "    .sum(\"viewCount\") \\\n",
    "    .withColumnRenamed(\"sum(viewCount)\", \"totalViews\") \\\n",
    "    .orderBy(col(\"totalViews\").desc())\n",
    "\n",
    "top_channels.show(20, truncate=False)\n"
   ]
  },
  {
   "cell_type": "markdown",
   "metadata": {
    "application/vnd.databricks.v1+cell": {
     "cellMetadata": {},
     "inputWidgets": {},
     "nuid": "510fa74a-18c4-47ad-aaa0-6f5583511fc4",
     "showTitle": false,
     "tableResultSettingsMap": {},
     "title": ""
    }
   },
   "source": [
    "# Top channels by total likes"
   ]
  },
  {
   "cell_type": "code",
   "execution_count": 0,
   "metadata": {
    "application/vnd.databricks.v1+cell": {
     "cellMetadata": {
      "byteLimit": 2048000,
      "rowLimit": 10000
     },
     "inputWidgets": {},
     "nuid": "0264b927-0c25-4401-8208-0fb02e61a2d8",
     "showTitle": false,
     "tableResultSettingsMap": {},
     "title": ""
    }
   },
   "outputs": [
    {
     "output_type": "stream",
     "name": "stdout",
     "output_type": "stream",
     "text": [
      "+-----------------+----------+\n|channelTitle     |totalLikes|\n+-----------------+----------+\n|BLACKPINK        |4598329   |\n|Mini Katana      |2504386   |\n|IShowSpeed       |2423145   |\n|Ben Azelart      |1795348   |\n|Red Bull         |1436906   |\n|Browney          |1266350   |\n|JYP Entertainment|1259913   |\n|Let's Romantic   |1218226   |\n|BEN EAGLE        |1198220   |\n|Dude Perfect     |929960    |\n+-----------------+----------+\nonly showing top 10 rows\n\n"
     ]
    }
   ],
   "source": [
    "top_liked_channels = casted_df1.groupBy(\"channelTitle\") \\\n",
    "    .sum(\"likeCount\") \\\n",
    "    .withColumnRenamed(\"sum(likeCount)\", \"totalLikes\") \\\n",
    "    .orderBy(col(\"totalLikes\").desc())\n",
    "top_liked_channels.show(10, truncate=False)"
   ]
  },
  {
   "cell_type": "markdown",
   "metadata": {
    "application/vnd.databricks.v1+cell": {
     "cellMetadata": {},
     "inputWidgets": {},
     "nuid": "b31b7891-e658-446e-88a9-86eef1376b01",
     "showTitle": false,
     "tableResultSettingsMap": {},
     "title": ""
    }
   },
   "source": [
    "# Most Liked Videos"
   ]
  },
  {
   "cell_type": "code",
   "execution_count": 0,
   "metadata": {
    "application/vnd.databricks.v1+cell": {
     "cellMetadata": {
      "byteLimit": 2048000,
      "rowLimit": 10000
     },
     "inputWidgets": {},
     "nuid": "972d58b1-cecc-4995-85d5-8f72f68509f4",
     "showTitle": false,
     "tableResultSettingsMap": {},
     "title": ""
    }
   },
   "outputs": [],
   "source": [
    "# Here we can find top 5 most liked videos along with its title and chanelTitle "
   ]
  },
  {
   "cell_type": "code",
   "execution_count": 0,
   "metadata": {
    "application/vnd.databricks.v1+cell": {
     "cellMetadata": {
      "byteLimit": 2048000,
      "rowLimit": 10000
     },
     "inputWidgets": {},
     "nuid": "3126c1f2-98d5-44f2-823b-4bdbd70e6048",
     "showTitle": false,
     "tableResultSettingsMap": {},
     "title": ""
    }
   },
   "outputs": [
    {
     "output_type": "stream",
     "name": "stdout",
     "output_type": "stream",
     "text": [
      "+--------------------------------------------+------------+---------+\n|title                                       |channelTitle|likeCount|\n+--------------------------------------------+------------+---------+\n|BLACKPINK - ‘뛰어(JUMP)’ M/V                |BLACKPINK   |4598329  |\n|What's The Sharpest homemade Katana?        |Mini Katana |2504386  |\n|Which Shoes Will Protect Your Feet?         |Ben Azelart |1795348  |\n|Mousetrap Backflip Challenge🐭😱 #ishowspeed|IShowSpeed  |1501394  |\n|That Plot Twist 🤯                          |Red Bull    |1436906  |\n+--------------------------------------------+------------+---------+\nonly showing top 5 rows\n\n"
     ]
    }
   ],
   "source": [
    "most_liked = casted_df1.orderBy(col(\"likeCount\").desc())\n",
    "most_liked.select(\"title\", \"channelTitle\", \"likeCount\").show(5, truncate=False)"
   ]
  },
  {
   "cell_type": "markdown",
   "metadata": {
    "application/vnd.databricks.v1+cell": {
     "cellMetadata": {},
     "inputWidgets": {},
     "nuid": "b8c7bae9-6cc9-427d-9583-d9db7862a0c2",
     "showTitle": false,
     "tableResultSettingsMap": {},
     "title": ""
    }
   },
   "source": [
    "# Top videos by comment count"
   ]
  },
  {
   "cell_type": "code",
   "execution_count": 0,
   "metadata": {
    "application/vnd.databricks.v1+cell": {
     "cellMetadata": {
      "byteLimit": 2048000,
      "rowLimit": 10000
     },
     "inputWidgets": {},
     "nuid": "0b5e363b-1853-4709-8aad-f7273839cfe4",
     "showTitle": false,
     "tableResultSettingsMap": {},
     "title": ""
    }
   },
   "outputs": [
    {
     "output_type": "stream",
     "name": "stdout",
     "output_type": "stream",
     "text": [
      "+----------------------------------------------------------------------------------------------------+-----------------+------------+\n|title                                                                                               |channelTitle     |commentCount|\n+----------------------------------------------------------------------------------------------------+-----------------+------------+\n|BLACKPINK - ‘뛰어(JUMP)’ M/V                                                                        |BLACKPINK        |378951      |\n|TWICE \"THIS IS FOR\" M/V                                                                             |JYP Entertainment|156785      |\n|SUPER JUNIOR 슈퍼주니어 'Express Mode' MV                                                           |SMTOWN           |34147       |\n|Mousetrap Backflip Challenge🐭😱 #ishowspeed                                                        |IShowSpeed       |19171       |\n|Monica - Lyric Video| COOLIE | Superstar Rajinikanth | Sun Pictures | Lokesh | Anirudh | Pooja Hegde|Sun TV           |18019       |\n+----------------------------------------------------------------------------------------------------+-----------------+------------+\nonly showing top 5 rows\n\n"
     ]
    }
   ],
   "source": [
    "most_commented = casted_df1.orderBy(col(\"commentCount\").desc())\n",
    "most_commented.select(\"title\", \"channelTitle\", \"commentCount\").show(5, truncate=False)\n"
   ]
  },
  {
   "cell_type": "markdown",
   "metadata": {
    "application/vnd.databricks.v1+cell": {
     "cellMetadata": {},
     "inputWidgets": {},
     "nuid": "a304f592-fa43-4f53-944c-03b1b263aff6",
     "showTitle": false,
     "tableResultSettingsMap": {},
     "title": ""
    }
   },
   "source": [
    "# Like to View ratio (engagement rate)"
   ]
  },
  {
   "cell_type": "code",
   "execution_count": 0,
   "metadata": {
    "application/vnd.databricks.v1+cell": {
     "cellMetadata": {
      "byteLimit": 2048000,
      "rowLimit": 10000
     },
     "inputWidgets": {},
     "nuid": "e788b8cd-8853-40ea-9633-ebde16384720",
     "showTitle": false,
     "tableResultSettingsMap": {},
     "title": ""
    }
   },
   "outputs": [
    {
     "output_type": "stream",
     "name": "stdout",
     "output_type": "stream",
     "text": [
      "+--------------------------------------------------------------------------------------+-------------------+--------------------+\n|title                                                                                 |channelTitle       |likeViewRatio       |\n+--------------------------------------------------------------------------------------+-------------------+--------------------+\n|She wears makeup every day to school.#movie #viralvideo #shorts                       |DreamSaga Review   |0.11433539063898798 |\n|THIS is the most TERRIFYING sound for parents ​⁠@theweeniefamily                      |Jeenie.Weenie      |0.0890278120899892  |\n|Told me dad to record the prettiest thing here 😭😭                                   |Haley Kalil        |0.07728013445717244 |\n|How Can He Jump Under Water?                                                          |Browney            |0.07171899013850713 |\n|Haley is working her magic #ModernFamily #HaleyDunphy #LukeDunphy #AlexDunphy #Shorts |Peacock            |0.07081044239277569 |\n|என்மேல Bottle எரிஞ்சது எவன்டா | Master | Vijay | Vijay Sethupathi | Malavika | #shorts|Seven Screen Studio|0.06645979606381323 |\n|How to scare off scam callers Audio: @msnewslady                                      |Jeenie.Weenie      |0.0628408671502992  |\n|BLACKPINK - ‘뛰어(JUMP)’ M/V                                                          |BLACKPINK          |0.0605596055241475  |\n|TWICE \"THIS IS FOR\" M/V                                                               |JYP Entertainment  |0.058967379005910765|\n|LEGO are more expensive than you think                                                |Corridor Crew      |0.05856584223705228 |\n+--------------------------------------------------------------------------------------+-------------------+--------------------+\nonly showing top 10 rows\n\n"
     ]
    }
   ],
   "source": [
    "from pyspark.sql.functions import expr\n",
    "\n",
    "engagement_df = casted_df1.withColumn(\"likeViewRatio\", expr(\"likeCount / viewCount\"))\n",
    "engagement_df.orderBy(col(\"likeViewRatio\").desc()).select(\"title\", \"channelTitle\", \"likeViewRatio\").show(10, truncate=False)\n"
   ]
  },
  {
   "cell_type": "markdown",
   "metadata": {
    "application/vnd.databricks.v1+cell": {
     "cellMetadata": {},
     "inputWidgets": {},
     "nuid": "7a278472-2c15-47f7-8fe9-7a5bf7db7018",
     "showTitle": false,
     "tableResultSettingsMap": {},
     "title": ""
    }
   },
   "source": [
    "# Analysis based on categories"
   ]
  },
  {
   "cell_type": "code",
   "execution_count": 0,
   "metadata": {
    "application/vnd.databricks.v1+cell": {
     "cellMetadata": {},
     "inputWidgets": {},
     "nuid": "fab62f58-f77b-4ff4-a2ef-0fb13ad81dd8",
     "showTitle": false,
     "tableResultSettingsMap": {},
     "title": ""
    }
   },
   "outputs": [],
   "source": []
  },
  {
   "cell_type": "markdown",
   "metadata": {
    "application/vnd.databricks.v1+cell": {
     "cellMetadata": {},
     "inputWidgets": {},
     "nuid": "dc0e3a33-635e-4b99-b60f-fe6b73b5f589",
     "showTitle": false,
     "tableResultSettingsMap": {},
     "title": ""
    }
   },
   "source": [
    "# Top Categories by Likes"
   ]
  },
  {
   "cell_type": "code",
   "execution_count": 0,
   "metadata": {
    "application/vnd.databricks.v1+cell": {
     "cellMetadata": {
      "byteLimit": 2048000,
      "rowLimit": 10000
     },
     "inputWidgets": {},
     "nuid": "7651e06a-79ae-44bb-8e9f-9e06f14de881",
     "showTitle": false,
     "tableResultSettingsMap": {},
     "title": ""
    }
   },
   "outputs": [
    {
     "output_type": "stream",
     "name": "stdout",
     "output_type": "stream",
     "text": [
      "+----------------+--------------------+----------+\n|    categoryName|        channelTitle|totalLikes|\n+----------------+--------------------+----------+\n|           Music|           BLACKPINK|   4598329|\n|  People & Blogs|         Mini Katana|   2504386|\n|          Gaming|          IShowSpeed|   2423145|\n|   Entertainment|         Ben Azelart|   1795348|\n|          Sports|            Red Bull|   1436906|\n|   Entertainment|             Browney|   1266350|\n|           Music|   JYP Entertainment|   1259913|\n|           Music|     Let's Romantic |   1218226|\n|   Entertainment|           BEN EAGLE|   1198220|\n|          Sports|        Dude Perfect|    929960|\n|           Music|        Endless Love|    841136|\n|          Comedy|       Jeenie.Weenie|    784101|\n|  People & Blogs|         Haley Kalil|    668005|\n|           Music|        Eternal Love|    605711|\n|Autos & Vehicles|Engineering Expla...|    599792|\n|       Education|          Nam Phương|    582700|\n|   Entertainment|   The Land Of Boggs|    571262|\n|          Sports|             Thogden|    547239|\n|   Entertainment|           Ong Squad|    529192|\n|   Entertainment|              Sun TV|    472453|\n+----------------+--------------------+----------+\nonly showing top 20 rows\n\n"
     ]
    }
   ],
   "source": [
    "from pyspark.sql.functions import sum\n",
    "\n",
    "casted_df1.groupBy(\"categoryName\",\"channelTitle\") \\\n",
    "    .agg(sum(\"likeCount\").alias(\"totalLikes\")) \\\n",
    "    .orderBy(\"totalLikes\", ascending=False) \\\n",
    "    .show()"
   ]
  },
  {
   "cell_type": "markdown",
   "metadata": {
    "application/vnd.databricks.v1+cell": {
     "cellMetadata": {},
     "inputWidgets": {},
     "nuid": "afd15138-c645-4d6d-93a1-ab7a6b5781f9",
     "showTitle": false,
     "tableResultSettingsMap": {},
     "title": ""
    }
   },
   "source": [
    "# Top Categories by Comments"
   ]
  },
  {
   "cell_type": "code",
   "execution_count": 0,
   "metadata": {
    "application/vnd.databricks.v1+cell": {
     "cellMetadata": {
      "byteLimit": 2048000,
      "rowLimit": 10000
     },
     "inputWidgets": {},
     "nuid": "65d7ca24-ee49-43d5-9188-c9afa1aa2e34",
     "showTitle": false,
     "tableResultSettingsMap": {},
     "title": ""
    }
   },
   "outputs": [
    {
     "output_type": "stream",
     "name": "stdout",
     "output_type": "stream",
     "text": [
      "+----------------+------------------------+-------------+\n|    categoryName|            channelTitle|totalComments|\n+----------------+------------------------+-------------+\n|           Music|               BLACKPINK|       378951|\n|           Music|       JYP Entertainment|       156785|\n|           Music|                  SMTOWN|        34147|\n|          Gaming|              IShowSpeed|        27223|\n|   Entertainment|                  Sun TV|        18019|\n|  People & Blogs|             Mini Katana|        17714|\n|          Sports|           DAZN Football|        15470|\n|           Music|            Eternal Love|         9102|\n|           Music|        相信音樂BinMusic|         6947|\n|           Music|       BLACKPINK - Topic|         6907|\n|Autos & Vehicles|    Engineering Expla...|         5383|\n|           Music|            Endless Love|         5246|\n|          Sports|            Dude Perfect|         4148|\n|   Entertainment|                 Browney|         3893|\n|          Sports|                 Thogden|         3445|\n|          Sports|                Red Bull|         3141|\n|   Entertainment|             Ben Azelart|         2827|\n|          Comedy|           Jeenie.Weenie|         2783|\n|  People & Blogs|             Haley Kalil|         2450|\n|   Entertainment|芒果TV音乐 MangoTV Music|         2435|\n+----------------+------------------------+-------------+\nonly showing top 20 rows\n\n"
     ]
    }
   ],
   "source": [
    "casted_df1.groupBy(\"categoryName\",\"channelTitle\") \\\n",
    "    .agg(sum(\"commentCount\").alias(\"totalComments\")) \\\n",
    "    .orderBy(\"totalComments\", ascending=False) \\\n",
    "    .show()"
   ]
  },
  {
   "cell_type": "markdown",
   "metadata": {
    "application/vnd.databricks.v1+cell": {
     "cellMetadata": {},
     "inputWidgets": {},
     "nuid": "29e2be55-aed0-444e-babc-f525ac8194c4",
     "showTitle": false,
     "tableResultSettingsMap": {},
     "title": ""
    }
   },
   "source": [
    "# Average Engagement per Category"
   ]
  },
  {
   "cell_type": "code",
   "execution_count": 0,
   "metadata": {
    "application/vnd.databricks.v1+cell": {
     "cellMetadata": {
      "byteLimit": 2048000,
      "rowLimit": 10000
     },
     "inputWidgets": {},
     "nuid": "8846a27c-f868-43c0-a306-388092a0be14",
     "showTitle": false,
     "tableResultSettingsMap": {},
     "title": ""
    }
   },
   "outputs": [],
   "source": [
    "# create engagment column on adding likecount and commentcount"
   ]
  },
  {
   "cell_type": "code",
   "execution_count": 0,
   "metadata": {
    "application/vnd.databricks.v1+cell": {
     "cellMetadata": {
      "byteLimit": 2048000,
      "rowLimit": 10000
     },
     "inputWidgets": {},
     "nuid": "84461051-421b-4c51-b80f-589425644f81",
     "showTitle": false,
     "tableResultSettingsMap": {},
     "title": ""
    }
   },
   "outputs": [],
   "source": [
    "casted_df1 = casted_df1.withColumn(\n",
    "    \"engagement\",\n",
    "    col(\"likeCount\") + col(\"commentCount\")\n",
    ")"
   ]
  },
  {
   "cell_type": "code",
   "execution_count": 0,
   "metadata": {
    "application/vnd.databricks.v1+cell": {
     "cellMetadata": {
      "byteLimit": 2048000,
      "rowLimit": 10000
     },
     "inputWidgets": {},
     "nuid": "58c6afc4-6aad-4dbf-9914-fb3d0f0d6790",
     "showTitle": false,
     "tableResultSettingsMap": {},
     "title": ""
    }
   },
   "outputs": [
    {
     "output_type": "stream",
     "name": "stdout",
     "output_type": "stream",
     "text": [
      "+--------------------+-----------------+\n|categoryName        |avgEngagement    |\n+--------------------+-----------------+\n|Music               |1234307.25       |\n|Gaming              |1225184.0        |\n|Sports              |799731.25        |\n|Autos & Vehicles    |605175.0         |\n|People & Blogs      |492900.25        |\n|Education           |432505.5         |\n|Entertainment       |427637.0588235294|\n|Comedy              |393442.0         |\n|Film & Animation    |270685.5         |\n|Science & Technology|129997.0         |\n|News & Politics     |2461.0           |\n+--------------------+-----------------+\n\n"
     ]
    }
   ],
   "source": [
    "from pyspark.sql.functions import avg\n",
    "\n",
    "casted_df1.groupBy(\"categoryName\") \\\n",
    "    .agg(avg(\"engagement\").alias(\"avgEngagement\")) \\\n",
    "    .orderBy(\"avgEngagement\", ascending=False) \\\n",
    "    .show(truncate=False)"
   ]
  },
  {
   "cell_type": "markdown",
   "metadata": {
    "application/vnd.databricks.v1+cell": {
     "cellMetadata": {},
     "inputWidgets": {},
     "nuid": "12678a4a-5224-4a11-86b5-78551c2028ac",
     "showTitle": false,
     "tableResultSettingsMap": {},
     "title": ""
    }
   },
   "source": [
    "# Average engagement by video duration"
   ]
  },
  {
   "cell_type": "code",
   "execution_count": 0,
   "metadata": {
    "application/vnd.databricks.v1+cell": {
     "cellMetadata": {
      "byteLimit": 2048000,
      "rowLimit": 10000
     },
     "inputWidgets": {},
     "nuid": "314089df-87b4-42b6-9d33-4eb82d21c66b",
     "showTitle": false,
     "tableResultSettingsMap": {},
     "title": ""
    }
   },
   "outputs": [],
   "source": [
    "# it says that people are engage or not  in short,long or medium videos"
   ]
  },
  {
   "cell_type": "code",
   "execution_count": 0,
   "metadata": {
    "application/vnd.databricks.v1+cell": {
     "cellMetadata": {
      "byteLimit": 2048000,
      "rowLimit": 10000
     },
     "inputWidgets": {},
     "nuid": "b79d7bbe-3a61-498d-a49a-008d9e1fca80",
     "showTitle": false,
     "tableResultSettingsMap": {},
     "title": ""
    }
   },
   "outputs": [
    {
     "output_type": "stream",
     "name": "stdout",
     "output_type": "stream",
     "text": [
      "+----------------+-----------------+\n|durationCategory|    avgEngagement|\n+----------------+-----------------+\n|           Short|626325.3829787234|\n|          Medium|         180024.5|\n|            Long|           2798.0|\n+----------------+-----------------+\n\n"
     ]
    }
   ],
   "source": [
    "# Step 1: Categorize durations\n",
    "from pyspark.sql.functions import when\n",
    "\n",
    "casted_df1 = casted_df1.withColumn(\n",
    "    \"durationCategory\",\n",
    "    when(col(\"duration\") <= 300, \"Short\")  # ≤ 5 mins\n",
    "    .when((col(\"duration\") > 300) & (col(\"duration\") <= 1200), \"Medium\")  # 5–20 mins\n",
    "    .otherwise(\"Long\")  # > 20 mins\n",
    ")\n",
    "\n",
    "# Step 2: Avg engagement per duration category\n",
    "casted_df1.groupBy(\"durationCategory\") \\\n",
    "    .agg(avg(\"engagement\").alias(\"avgEngagement\")) \\\n",
    "    .orderBy(\"avgEngagement\", ascending=False) \\\n",
    "    .show()"
   ]
  },
  {
   "cell_type": "markdown",
   "metadata": {
    "application/vnd.databricks.v1+cell": {
     "cellMetadata": {},
     "inputWidgets": {},
     "nuid": "ce409ff0-0c1a-4661-9b75-7961a110a86f",
     "showTitle": false,
     "tableResultSettingsMap": {},
     "title": ""
    }
   },
   "source": [
    "# Top performing categories within duration groups"
   ]
  },
  {
   "cell_type": "code",
   "execution_count": 0,
   "metadata": {
    "application/vnd.databricks.v1+cell": {
     "cellMetadata": {
      "byteLimit": 2048000,
      "rowLimit": 10000
     },
     "inputWidgets": {},
     "nuid": "51af81e9-c496-42f7-a03b-6388d039023e",
     "showTitle": false,
     "tableResultSettingsMap": {},
     "title": ""
    }
   },
   "outputs": [
    {
     "output_type": "stream",
     "name": "stdout",
     "output_type": "stream",
     "text": [
      "+----------------+--------------------+------------------+\n|durationCategory|        categoryName|     avgEngagement|\n+----------------+--------------------+------------------+\n|           Short|               Music|1398356.4285714286|\n|           Short|              Gaming|         1225184.0|\n|           Short|              Sports| 974946.3333333334|\n|           Short|    Autos & Vehicles|          605175.0|\n|           Short|      People & Blogs|         492900.25|\n|           Short|           Education|          432505.5|\n|           Short|       Entertainment| 427637.0588235294|\n|           Short|              Comedy|          393442.0|\n|           Short|    Film & Animation|          270685.5|\n|           Short|Science & Technology|          129997.0|\n|           Short|     News & Politics|            2124.0|\n|          Medium|              Sports|          274086.0|\n|          Medium|               Music|           85963.0|\n|            Long|     News & Politics|            2798.0|\n+----------------+--------------------+------------------+\n\n"
     ]
    }
   ],
   "source": [
    "casted_df1.groupBy(\"durationCategory\", \"categoryName\") \\\n",
    "    .agg(avg(\"engagement\").alias(\"avgEngagement\")) \\\n",
    "    .orderBy(\"durationCategory\", \"avgEngagement\", ascending=False) \\\n",
    "    .show()"
   ]
  },
  {
   "cell_type": "markdown",
   "metadata": {
    "application/vnd.databricks.v1+cell": {
     "cellMetadata": {},
     "inputWidgets": {},
     "nuid": "7d390bfe-503f-49ac-8637-90493ae46485",
     "showTitle": false,
     "tableResultSettingsMap": {},
     "title": ""
    }
   },
   "source": [
    "# Total Watch Time per Category (durationCategory)"
   ]
  },
  {
   "cell_type": "code",
   "execution_count": 0,
   "metadata": {
    "application/vnd.databricks.v1+cell": {
     "cellMetadata": {
      "byteLimit": 2048000,
      "rowLimit": 10000
     },
     "inputWidgets": {},
     "nuid": "53636074-cdef-4860-89c1-ff7042eab7f7",
     "showTitle": false,
     "tableResultSettingsMap": {},
     "title": ""
    }
   },
   "outputs": [
    {
     "output_type": "stream",
     "name": "stdout",
     "output_type": "stream",
     "text": [
      "+----------------+----------------------+\n|durationCategory|totalWatchTime_seconds|\n+----------------+----------------------+\n|           Short|                  3111|\n|            Long|                  1360|\n|          Medium|                  1120|\n+----------------+----------------------+\n\n"
     ]
    }
   ],
   "source": [
    "casted_df1.groupBy(\"durationCategory\") \\\n",
    "    .agg(sum(\"duration\").alias(\"totalWatchTime_seconds\")) \\\n",
    "    .orderBy(\"totalWatchTime_seconds\", ascending=False) \\\n",
    "    .show()"
   ]
  },
  {
   "cell_type": "markdown",
   "metadata": {
    "application/vnd.databricks.v1+cell": {
     "cellMetadata": {},
     "inputWidgets": {},
     "nuid": "6a13551a-5a86-4c81-a1c6-07eddbf80ba3",
     "showTitle": false,
     "tableResultSettingsMap": {},
     "title": ""
    }
   },
   "source": [
    "# Total Watch Time per Category and Duration Bucket"
   ]
  },
  {
   "cell_type": "code",
   "execution_count": 0,
   "metadata": {
    "application/vnd.databricks.v1+cell": {
     "cellMetadata": {
      "byteLimit": 2048000,
      "rowLimit": 10000
     },
     "inputWidgets": {},
     "nuid": "3f9d59a2-7bcb-4344-947c-05db57ec1109",
     "showTitle": false,
     "tableResultSettingsMap": {},
     "title": ""
    }
   },
   "outputs": [
    {
     "output_type": "stream",
     "name": "stdout",
     "output_type": "stream",
     "text": [
      "+--------------------+----------------+----------------------+\n|categoryName        |durationCategory|totalWatchTime_seconds|\n+--------------------+----------------+----------------------+\n|Autos & Vehicles    |Short           |55                    |\n|Comedy              |Short           |45                    |\n|Education           |Short           |76                    |\n|Entertainment       |Short           |1129                  |\n|Film & Animation    |Short           |160                   |\n|Gaming              |Short           |66                    |\n|Music               |Medium          |305                   |\n|Music               |Short           |757                   |\n|News & Politics     |Long            |1360                  |\n|News & Politics     |Short           |68                    |\n|People & Blogs      |Short           |535                   |\n|Science & Technology|Short           |34                    |\n|Sports              |Medium          |815                   |\n|Sports              |Short           |186                   |\n+--------------------+----------------+----------------------+\n\n"
     ]
    }
   ],
   "source": [
    "from pyspark.sql.functions import sum\n",
    "\n",
    "casted_df1.groupBy(\"categoryName\", \"durationCategory\") \\\n",
    "    .agg(sum(\"duration\").alias(\"totalWatchTime_seconds\")) \\\n",
    "    .orderBy(\"categoryName\", \"durationCategory\") \\\n",
    "    .show(truncate=False)"
   ]
  },
  {
   "cell_type": "code",
   "execution_count": 0,
   "metadata": {
    "application/vnd.databricks.v1+cell": {
     "cellMetadata": {
      "byteLimit": 2048000,
      "rowLimit": 10000
     },
     "inputWidgets": {},
     "nuid": "0b73c502-ca59-4b38-8092-36c33c29399e",
     "showTitle": false,
     "tableResultSettingsMap": {},
     "title": ""
    }
   },
   "outputs": [],
   "source": [
    "# i have attached the chanelTitle also , from here we can get idea \n",
    "# 1) Which channel is dominating which category .\n",
    "# 2) Which channel do people watch for longer time?\n",
    "# 3) Which channel's videos, short, medium or long, are being watched more?"
   ]
  },
  {
   "cell_type": "code",
   "execution_count": 0,
   "metadata": {
    "application/vnd.databricks.v1+cell": {
     "cellMetadata": {
      "byteLimit": 2048000,
      "rowLimit": 10000
     },
     "inputWidgets": {},
     "nuid": "7d6890c8-87f3-4546-b3c9-87ebf19fa070",
     "showTitle": false,
     "tableResultSettingsMap": {},
     "title": ""
    }
   },
   "outputs": [
    {
     "output_type": "stream",
     "name": "stdout",
     "output_type": "stream",
     "text": [
      "+--------------------+--------------------+----------------+----------------------+\n|channelTitle        |categoryName        |durationCategory|totalWatchTime_seconds|\n+--------------------+--------------------+----------------+----------------------+\n|Dude Perfect        |Sports              |Short           |69                    |\n|Thogden             |Sports              |Short           |68                    |\n|Red Bull            |Sports              |Short           |49                    |\n|DAZN Football       |Sports              |Medium          |815                   |\n|头脑眼大设计        |Science & Technology|Short           |20                    |\n|MaviGadget          |Science & Technology|Short           |14                    |\n|王家帮              |People & Blogs      |Short           |142                   |\n|汤泉兄弟            |People & Blogs      |Short           |115                   |\n|Mini Katana         |People & Blogs      |Short           |92                    |\n|Nanning First Sister|People & Blogs      |Short           |63                    |\n|悠可爱啦            |People & Blogs      |Short           |46                    |\n|Twins Dad           |People & Blogs      |Short           |36                    |\n|Behindwoods TV      |People & Blogs      |Short           |31                    |\n|Haley Kalil         |People & Blogs      |Short           |10                    |\n|The Straits Times   |News & Politics     |Short           |68                    |\n|CNA Insider         |News & Politics     |Long            |1360                  |\n|SMTOWN              |Music               |Short           |205                   |\n|BLACKPINK           |Music               |Short           |194                   |\n|BLACKPINK - Topic   |Music               |Short           |165                   |\n|JYP Entertainment   |Music               |Short           |134                   |\n+--------------------+--------------------+----------------+----------------------+\nonly showing top 20 rows\n\n"
     ]
    }
   ],
   "source": [
    "from pyspark.sql.functions import sum\n",
    "\n",
    "casted_df1.groupBy(\"channelTitle\", \"categoryName\", \"durationCategory\") \\\n",
    "    .agg(sum(\"duration\").alias(\"totalWatchTime_seconds\")) \\\n",
    "    .orderBy(\"categoryName\", \"durationCategory\", \"totalWatchTime_seconds\", ascending=False) \\\n",
    "    .show(truncate=False)"
   ]
  },
  {
   "cell_type": "markdown",
   "metadata": {
    "application/vnd.databricks.v1+cell": {
     "cellMetadata": {},
     "inputWidgets": {},
     "nuid": "db1aca3c-f3eb-4638-a3ad-d36b3364bb4f",
     "showTitle": false,
     "tableResultSettingsMap": {},
     "title": ""
    }
   },
   "source": [
    "# Top 5 Longest Videos with High Engagement"
   ]
  },
  {
   "cell_type": "code",
   "execution_count": 0,
   "metadata": {
    "application/vnd.databricks.v1+cell": {
     "cellMetadata": {
      "byteLimit": 2048000,
      "rowLimit": 10000
     },
     "inputWidgets": {},
     "nuid": "ee2d6af4-b10d-449d-8b0d-0732d92a96a5",
     "showTitle": false,
     "tableResultSettingsMap": {},
     "title": ""
    }
   },
   "outputs": [
    {
     "output_type": "stream",
     "name": "stdout",
     "output_type": "stream",
     "text": [
      "+------------------------------------------------------------------------------------------------------------------+--------+----------+\n|title                                                                                                             |duration|engagement|\n+------------------------------------------------------------------------------------------------------------------+--------+----------+\n|Are Expensive Eggs More Nutritious? | Talking Point | Full Episode                                                |1360    |2798      |\n|Chelsea vs. PSG | FIFA Club World Cup Final Extended Highlights                                                   |815     |274086    |\n|F4 x MAYDAY五月天 [ 流星雨 Meteor Rain ] 5525版 Official Stage Video                                              |305     |85963     |\n|【歌手2025·纯享】 #李佳薇《天后》展现强大唱功！高亢嗓音诠释爱而不得的复杂情绪 ｜《歌手2025》| SINGER 2025｜MangoTV|295     |22490     |\n|Monica - Lyric Video| COOLIE | Superstar Rajinikanth | Sun Pictures | Lokesh | Anirudh | Pooja Hegde              |215     |490472    |\n+------------------------------------------------------------------------------------------------------------------+--------+----------+\nonly showing top 5 rows\n\n"
     ]
    }
   ],
   "source": [
    "casted_df1.orderBy(col(\"duration\").desc(), col(\"engagement\").desc()).select(\"title\", \"duration\", \"engagement\").show(5, truncate=False)\n"
   ]
  },
  {
   "cell_type": "markdown",
   "metadata": {
    "application/vnd.databricks.v1+cell": {
     "cellMetadata": {},
     "inputWidgets": {},
     "nuid": "4ad540b4-926c-4ca2-b39c-7dc8ff1206b7",
     "showTitle": false,
     "tableResultSettingsMap": {},
     "title": ""
    }
   },
   "source": [
    "#  Education and Tech-Focused Insights"
   ]
  },
  {
   "cell_type": "code",
   "execution_count": 0,
   "metadata": {
    "application/vnd.databricks.v1+cell": {
     "cellMetadata": {
      "byteLimit": 2048000,
      "rowLimit": 10000
     },
     "inputWidgets": {},
     "nuid": "1be4bca4-204b-4bf7-b55a-279f3dc241de",
     "showTitle": false,
     "tableResultSettingsMap": {},
     "title": ""
    }
   },
   "outputs": [
    {
     "output_type": "stream",
     "name": "stdout",
     "output_type": "stream",
     "text": [
      "+-----------+--------------------+------------+-------------------------------------+-------------------------------------+----------+--------------------+---------------+--------------------+---------+---------+------------+--------+-------+--------------------+-------------+----+-----+----------+----------------+\n|         id|           channelId|channelTitle|                                title|                          description|categoryId|                tags|defaultLanguage|defaultAudioLanguage|viewCount|likeCount|commentCount|duration|caption|        categoryName|publishedDate|year|month|engagement|durationCategory|\n+-----------+--------------------+------------+-------------------------------------+-------------------------------------+----------+--------------------+---------------+--------------------+---------+---------+------------+--------+-------+--------------------+-------------+----+-----+----------+----------------+\n|3gRKBu6xIIA|UCdfHiFFYfos49nJc...|头脑眼大设计|这样的制自制泳池，对小朋友来说，真...|这样的制自制泳池，对小朋友来说，真...|        28|                null|           null|               zh-CN|   562809|     8158|          54|      20|  false|Science & Technology|   2025-07-13|2025|    7|      8212|           Short|\n|8TtHU0PGXY8|UCJfNJmcv6LXCDsaa...|  MaviGadget|                 Magic Dust Remove...|                 You can find the ...|        28|[gadget, tech, us...|           null|                  en| 31441467|   251373|         409|      14|  false|Science & Technology|   2025-07-08|2025|    7|    251782|           Short|\n|EQm9YLtI870|UCfxNud6-l1CKSjij...|CONDA NGUYEN|                 Be nice to everyo...|                 Thank you for sup...|        27|[good, good man, ...|             en|                  en| 19612884|   280335|         261|      41|  false|           Education|   2025-07-04|2025|    7|    280596|           Short|\n|jfkDwA3pnNk|UCVhoKlfJtHesO0m5...|  Nam Phương|                 * lòng tốt nhưng ...|                 Nhấn đăng ký theo...|        27|[nam phương, nam ...|             en|                  en| 35077490|   582700|        1715|      35|  false|           Education|   2025-07-01|2025|    7|    584415|           Short|\n+-----------+--------------------+------------+-------------------------------------+-------------------------------------+----------+--------------------+---------------+--------------------+---------+---------+------------+--------+-------+--------------------+-------------+----+-----+----------+----------------+\n\n"
     ]
    }
   ],
   "source": [
    "education_df = casted_df1.filter(col(\"categoryName\").isin(\"Education\", \"Science & Technology\"))\n",
    "education_df.show()"
   ]
  },
  {
   "cell_type": "code",
   "execution_count": 0,
   "metadata": {
    "application/vnd.databricks.v1+cell": {
     "cellMetadata": {
      "byteLimit": 2048000,
      "rowLimit": 10000
     },
     "inputWidgets": {},
     "nuid": "9cb0aa79-f8f1-4670-a740-f7d7817a1457",
     "showTitle": false,
     "tableResultSettingsMap": {},
     "title": ""
    }
   },
   "outputs": [
    {
     "output_type": "stream",
     "name": "stdout",
     "output_type": "stream",
     "text": [
      "+------------------------------------------------------------------------------------------------+---------+---------+----------+\n|title                                                                                           |likeCount|viewCount|engagement|\n+------------------------------------------------------------------------------------------------+---------+---------+----------+\n|这样的制自制泳池，对小朋友来说，真的是太欢乐了 #涨知识#科普                                     |8158     |562809   |8212      |\n|Magic Dust Remover Cleaning Gel ✅ Product Link in Bio ( # 1970 )                                |251373   |31441467 |251782    |\n|Be nice to everyone [CONDA NGUYEN] #condanguyen #kindness #goodman #help #respect               |280335   |19612884 |280596    |\n|* lòng tốt nhưng hơi thiếu thông minh. ^^ [Nam Phương] #namphuong #shorts #funny #comedy #action|582700   |35077490 |584415    |\n+------------------------------------------------------------------------------------------------+---------+---------+----------+\n\n"
     ]
    }
   ],
   "source": [
    "education_df.select(\"title\", \"likeCount\", \"viewCount\", \"engagement\").show(truncate=False)"
   ]
  },
  {
   "cell_type": "code",
   "execution_count": 0,
   "metadata": {
    "application/vnd.databricks.v1+cell": {
     "cellMetadata": {
      "byteLimit": 2048000,
      "rowLimit": 10000
     },
     "inputWidgets": {},
     "nuid": "7623a721-348b-41ee-b4ec-8baca2f82a6d",
     "showTitle": false,
     "tableResultSettingsMap": {},
     "title": ""
    }
   },
   "outputs": [
    {
     "output_type": "stream",
     "name": "stdout",
     "output_type": "stream",
     "text": [
      "+------------+------------------------------------------------------------------------------------------------+--------------------+\n|channelTitle|title                                                                                           |categoryName        |\n+------------+------------------------------------------------------------------------------------------------+--------------------+\n|头脑眼大设计|这样的制自制泳池，对小朋友来说，真的是太欢乐了 #涨知识#科普                                     |Science & Technology|\n|MaviGadget  |Magic Dust Remover Cleaning Gel ✅ Product Link in Bio ( # 1970 )                                |Science & Technology|\n|CONDA NGUYEN|Be nice to everyone [CONDA NGUYEN] #condanguyen #kindness #goodman #help #respect               |Education           |\n|Nam Phương  |* lòng tốt nhưng hơi thiếu thông minh. ^^ [Nam Phương] #namphuong #shorts #funny #comedy #action|Education           |\n+------------+------------------------------------------------------------------------------------------------+--------------------+\n\n"
     ]
    }
   ],
   "source": [
    "education_df.select(\"channelTitle\", \"title\", \"categoryName\").show(truncate=False)"
   ]
  },
  {
   "cell_type": "code",
   "execution_count": 0,
   "metadata": {
    "application/vnd.databricks.v1+cell": {
     "cellMetadata": {
      "byteLimit": 2048000,
      "rowLimit": 10000
     },
     "inputWidgets": {},
     "nuid": "87fd1372-0e1e-4dcf-bb1a-b01313187a8c",
     "showTitle": false,
     "tableResultSettingsMap": {},
     "title": ""
    }
   },
   "outputs": [],
   "source": [
    "# i check education content by seeing the keyword like what ever i have mentioned in the below "
   ]
  },
  {
   "cell_type": "code",
   "execution_count": 0,
   "metadata": {
    "application/vnd.databricks.v1+cell": {
     "cellMetadata": {
      "byteLimit": 2048000,
      "rowLimit": 10000
     },
     "inputWidgets": {},
     "nuid": "056363be-170c-41be-bd9a-2951b9719f12",
     "showTitle": false,
     "tableResultSettingsMap": {},
     "title": ""
    }
   },
   "outputs": [
    {
     "output_type": "stream",
     "name": "stdout",
     "output_type": "stream",
     "text": [
      "+---+---------+------------+-----+-----------+----------+----+---------------+--------------------+---------+---------+------------+--------+-------+------------+-------------+----+-----+----------+----------------+\n|id |channelId|channelTitle|title|description|categoryId|tags|defaultLanguage|defaultAudioLanguage|viewCount|likeCount|commentCount|duration|caption|categoryName|publishedDate|year|month|engagement|durationCategory|\n+---+---------+------------+-----+-----------+----------+----+---------------+--------------------+---------+---------+------------+--------+-------+------------+-------------+----+-----+----------+----------------+\n+---+---------+------------+-----+-----------+----------+----+---------------+--------------------+---------+---------+------------+--------+-------+------------+-------------+----+-----+----------+----------------+\n\nOut[50]: 0"
     ]
    }
   ],
   "source": [
    "from pyspark.sql.functions import col, lower\n",
    "from functools import reduce\n",
    "\n",
    "keywords = [\"tutorial\", \"science\", \"AI\", \"learn\", \"how to\", \"technology\", \"education\", \"experiment\", \"physics\", \"math\", \"engineering\"]\n",
    "\n",
    "# Debugging: ensure title is not null\n",
    "education_df_filtered = education_df.filter(col(\"title\").isNotNull())\n",
    "\n",
    "# Apply keyword filter in lowercase\n",
    "education_clean_df = education_df_filtered.filter(\n",
    "    reduce(lambda a, b: a | b, [lower(col(\"title\")).contains(k) for k in keywords])\n",
    ")\n",
    "\n",
    "education_clean_df.show(truncate=False)\n",
    "education_clean_df.count()"
   ]
  },
  {
   "cell_type": "code",
   "execution_count": 0,
   "metadata": {
    "application/vnd.databricks.v1+cell": {
     "cellMetadata": {
      "byteLimit": 2048000,
      "rowLimit": 10000
     },
     "inputWidgets": {},
     "nuid": "f0ddb7a1-d2fa-4ce7-ba97-8fa0a1e9506b",
     "showTitle": false,
     "tableResultSettingsMap": {},
     "title": ""
    }
   },
   "outputs": [
    {
     "output_type": "stream",
     "name": "stdout",
     "output_type": "stream",
     "text": [
      "+------------------------------------------------------------------------------------------------+\n|title                                                                                           |\n+------------------------------------------------------------------------------------------------+\n|这样的制自制泳池，对小朋友来说，真的是太欢乐了 #涨知识#科普                                     |\n|Magic Dust Remover Cleaning Gel ✅ Product Link in Bio ( # 1970 )                                |\n|Be nice to everyone [CONDA NGUYEN] #condanguyen #kindness #goodman #help #respect               |\n|* lòng tốt nhưng hơi thiếu thông minh. ^^ [Nam Phương] #namphuong #shorts #funny #comedy #action|\n+------------------------------------------------------------------------------------------------+\n\n"
     ]
    }
   ],
   "source": [
    "education_df.select(\"title\").show(20, truncate=False)"
   ]
  },
  {
   "cell_type": "markdown",
   "metadata": {
    "application/vnd.databricks.v1+cell": {
     "cellMetadata": {},
     "inputWidgets": {},
     "nuid": "96a2d8a9-37db-4b40-8006-3e749f6e0be9",
     "showTitle": false,
     "tableResultSettingsMap": {},
     "title": ""
    }
   },
   "source": [
    "# Most engaging education/tech videos"
   ]
  },
  {
   "cell_type": "code",
   "execution_count": 0,
   "metadata": {
    "application/vnd.databricks.v1+cell": {
     "cellMetadata": {
      "byteLimit": 2048000,
      "rowLimit": 10000
     },
     "inputWidgets": {},
     "nuid": "1274e9c2-cb57-4043-ac98-94fc7ecd0d95",
     "showTitle": false,
     "tableResultSettingsMap": {},
     "title": ""
    }
   },
   "outputs": [
    {
     "output_type": "stream",
     "name": "stdout",
     "output_type": "stream",
     "text": [
      "+------------------------------------------------------------------------------------------------+----------+\n|title                                                                                           |engagement|\n+------------------------------------------------------------------------------------------------+----------+\n|* lòng tốt nhưng hơi thiếu thông minh. ^^ [Nam Phương] #namphuong #shorts #funny #comedy #action|584415    |\n|Be nice to everyone [CONDA NGUYEN] #condanguyen #kindness #goodman #help #respect               |280596    |\n|Magic Dust Remover Cleaning Gel ✅ Product Link in Bio ( # 1970 )                                |251782    |\n|这样的制自制泳池，对小朋友来说，真的是太欢乐了 #涨知识#科普                                     |8212      |\n+------------------------------------------------------------------------------------------------+----------+\n\n"
     ]
    }
   ],
   "source": [
    "education_df.orderBy(\"engagement\", ascending=False).select(\"title\", \"engagement\").show(10, truncate=False)"
   ]
  },
  {
   "cell_type": "markdown",
   "metadata": {
    "application/vnd.databricks.v1+cell": {
     "cellMetadata": {},
     "inputWidgets": {},
     "nuid": "ee95efd3-a9a4-4d4f-bc99-5b8f2c7e616b",
     "showTitle": false,
     "tableResultSettingsMap": {},
     "title": ""
    }
   },
   "source": [
    "# Keyword-Based Filtering (regardless of category)"
   ]
  },
  {
   "cell_type": "code",
   "execution_count": 0,
   "metadata": {
    "application/vnd.databricks.v1+cell": {
     "cellMetadata": {
      "byteLimit": 2048000,
      "rowLimit": 10000
     },
     "inputWidgets": {},
     "nuid": "b25434fb-2409-4f0b-8326-490f6c403a27",
     "showTitle": false,
     "tableResultSettingsMap": {},
     "title": ""
    }
   },
   "outputs": [
    {
     "output_type": "stream",
     "name": "stdout",
     "output_type": "stream",
     "text": [
      "+----------------+------------------------------------------------------------------+------------------------------------------------------------------------------------------------------------------------------------------------------------------------------------------------------------------------------------------------------------------------------------------------------------------------------------------------------------------------------------------------------------------------------------------------------------------------------------------------------------------------------------------------------------------------------------------------------------------------------------------------------------------------------------------------------------------------------------------------------------------------------------------------------------------------------------------------------------------------------------------------------------------------------------------------------------------------------------------------------------------------------------------------------------------------------------------------------------------------------------------------------------------------------------------------------------------------------------------------------------------------------------------------------------------------------------------------------------------------------------------------------------------------------------------------------------------------------------------------------------------------------------------------------------------------------------------------------------------------+\n|categoryName    |title                                                             |description                                                                                                                                                                                                                                                                                                                                                                                                                                                                                                                                                                                                                                                                                                                                                                                                                                                                                                                                                                                                                                                                                                                                                                                                                                                                                                                                                                                                                                                                                                                                                                                                             |\n+----------------+------------------------------------------------------------------+------------------------------------------------------------------------------------------------------------------------------------------------------------------------------------------------------------------------------------------------------------------------------------------------------------------------------------------------------------------------------------------------------------------------------------------------------------------------------------------------------------------------------------------------------------------------------------------------------------------------------------------------------------------------------------------------------------------------------------------------------------------------------------------------------------------------------------------------------------------------------------------------------------------------------------------------------------------------------------------------------------------------------------------------------------------------------------------------------------------------------------------------------------------------------------------------------------------------------------------------------------------------------------------------------------------------------------------------------------------------------------------------------------------------------------------------------------------------------------------------------------------------------------------------------------------------------------------------------------------------+\n|People & Blogs  |What's The Sharpest homemade Katana?                              |SUBSCRIBE & ADOPT A KATANA WITH THE LINK IN BIO!!\\n\\nIf you love katana unboxing, then you'll love this. See the Katanas slice in action as satisfying as ASMR! These aren't rusted katanas! Sword-making, blacksmithing, knife making, and katana making are Mini Katana's passions! Be like your favorite hero in Wild Heart, Blox fruit, or Elden ring, and test your slicing skill with a Karakuri Katana, Nodachi, cursed dual katana, moonveil katana build, rivers of blood katana, or the true triple katana. Forget how to make paper katanas or lego katanas these are real carbon steel! Subscribe to watch mini katana unboxing, how to make a katana with cardboard and with paper, and more!  The Mini Katana Store is committed to high quality carbon steel blades and giving you slice of life looks as we try not to laugh challenge. Trust, Mini Katana knows how to make kunai and how to make a sword!\\n\\n--OUR SOCIALS--\\nINSTAGRAM ► https://www.instagram.com/minikatanastore\\nTWITTER ► https://twitter.com/minikatanastore\\nTIKTOK ► https://www.tiktok.com/@mini.katana\\nDISCORD ► http://discord.gg/minikatana\\n\\nFor questions, email us at hello@minikatana.com                                                                                                                                                                                                                                                                                                                                                                                                                           |\n|News & Politics |HSA sting operation catches vape seller in Bishan                 |The ongoing crackdown on e-vaporisers turned dramatic on July 10 when an enforcement officer dived into a moving car to stop a suspected peddler from escaping.\\nThe scene played out on Bishan Street 13, when the alleged pusher tried to flee during an operation by the Health Sciences Authority (HSA).\\n\\nREAD MORE: https://www.straitstimes.com/singapore/hsa-intensifies-crackdown-on-vapes-young-suspected-kpod-peddlers-nabbed-in-bishan-yishun\\n\\n\\nFollow The Straits Times on YouTube: https://str.sg/ytsub\\nTurn on notifications 🔔 to stay updated.\\n--------------------\\nWEBSITE ➤ https://www.straitstimes.com\\nWHATSAPP ➤ https://str.sg/whatsapp\\nTIKTOK  ➤ https://www.tiktok.com/@straitstimes\\nINSTAGRAM ➤ https://www.instagram.com/straits_times\\nFACEBOOK ➤ https://www.facebook.com/TheStraitsTimes\\nTWITTER ➤ https://twitter.com/straits_times\\nTELEGRAM ➤ https://t.me/TheStraitsTimes\\nPODCASTS ➤ https://str.sg/stpodcasts\\n\\n#straitstimes #vaping #sting #crime                                                                                                                                                                                                                                                                                                                                                                                                                                                                                                                                                                                                                     |\n|News & Politics |Are Expensive Eggs More Nutritious? | Talking Point | Full Episode|Eggs are a must have in every kitchen but with so many options on the shelf today, choosing the right one can be confusing. Brown, white, enriched, first born – what’s the difference? In this episode of Talking Point, host Diana Ser, goes straight to the source to find out.\\n\\nShe also puts different varieties of eggs to the test to investigate what’s really inside each egg and heads to cooking school to find out what the most nutritious ways to cook eggs could be. Are the most expensive eggs really all they’re cracked up to be?\\n\\nWATCH MORE Talking Point\\nhttps://www.youtube.com/playlist?list=PLkMf14VQEvTai524iU74UlzpWvb1RRAvl\\n\\n00:00 Introduction\\n01:08 Types of eggs in the market\\n2:36 Inside egg farm in Singapore\\n3:52 What's so special about first born eggs?\\n4:19: Enriched VS regular eggs\\n6:13 White VS brown eggs\\n7:17 Japanese eggs: safe to eat raw?\\n11:10 Lab result: nutritional content of different eggs\\n14:40 How to best cook eggs\\n18:19 Test for egg freshness\\n19:55 How many eggs to eat a day\\n\\nAbout the show: \\nTalking Point investigates a current issue or event, offering different perspectives to local stories and revealing how it all affects you.\\n================================================\\n#CNAInsider #CNATalkingPoint #Eggs #EggNutrition \\n\\n\\nFor more, SUBSCRIBE to CNA INSIDER! \\nhttps://cna.asia/insideryoutubesub\\n\\nFollow CNA INSIDER on:\\nTelegram: https://t.me/CNAInsiderSG\\nInstagram: https://www.instagram.com/cnainsider/\\nFacebook: https://www.facebook.com/cnainsider/\\nWebsite: https://cna.asia/cnainsider|\n|Entertainment   |Safety first                                                      |Follow Ong Squad on Instagram: https://www.instagram.com/_ongsquad/ \\nFollow Ong Squad on TikTok : https://www.tiktok.com/@ongsquad\\n\\n#momsoftiktok #tiktokrecipe #hotpot #cookingwithkids  #wholesomecontent #marriedcouple #momsanddaughters #girlmom #millennialmom #millennialparenting #babyfever #funnykids #comedy #funnyvideo #boymom  #momvibes #pregnancy #bunintheoven #newborn #faq #parentcontent #marriagevideo #familychannel  #OngSquad #FamilyFriendly #FunnyCooking #EasyRecipes #FunnyFood #HowToCook #familyfuntimes  #RecipeTutorial, how to make hot pot, hot pot recipe, cooking with my kids, cooking asmr, cooking videos, asmr, mukbang, youtube shorts                                                                                                                                                                                                                                                                                                                                                                                                                                                                                                                                                                                                                                                                                                                                                                                                                                                                                                                                      |\n|Autos & Vehicles|Should You Always Press The Handbrake Button?                     |Should you always push the handbrake button? People say don’t yank the hand brake without pushing the button. Let’s pull back the covers on this  myth. When you pull up on the hand brake, this pulls on a cable. This cable forces pressure to be applied to the rear brake pads, locking the wheel. The hand brake uses a ratcheting mechanism, so as you pull it up, the pawl clicks along the gear teeth until you stop pulling, where it’s held in pace by the nearest gear tooth. The button is simply there to release the pawl away from the gear, so you can disengage the parking brake. So it’s two robust metal parts, with very little speed between them, and thus negligible friction and wear generated. But to be safe, I stopped using my car entirely and now just walk, so that my parking brake doesn’t wear out. \\n\\nFull Handbrake Video - https://youtu.be/1ePcNfx1UEw\\n\\nSubscribe to Engineering Explained for more videos! - https://goo.gl/VZstk7\\nRecommended Books & Car Products - http://amzn.to/2BrekJm\\n\\nEngineering Explained is a participant in the Amazon Influencer Program.\\n\\nDon't forget to check out my other pages below!\\nInstagram: http://www.instagram.com/engineeringexplained\\nFacebook: http://www.facebook.com/engineeringexplained\\nEE Extra: https://www.youtube.com/channel/UCsrY4q8xGPJQbQ8HPQZn6iA                                                                                                                                                                                                                                                          |\n|Comedy          |How to scare off scam callers Audio: @msnewslady                  |                                                                                                                                                                                                                                                                                                                                                                                                                                                                                                                                                                                                                                                                                                                                                                                                                                                                                                                                                                                                                                                                                                                                                                                                                                                                                                                                                                                                                                                                                                                                                                                                                        |\n+----------------+------------------------------------------------------------------+------------------------------------------------------------------------------------------------------------------------------------------------------------------------------------------------------------------------------------------------------------------------------------------------------------------------------------------------------------------------------------------------------------------------------------------------------------------------------------------------------------------------------------------------------------------------------------------------------------------------------------------------------------------------------------------------------------------------------------------------------------------------------------------------------------------------------------------------------------------------------------------------------------------------------------------------------------------------------------------------------------------------------------------------------------------------------------------------------------------------------------------------------------------------------------------------------------------------------------------------------------------------------------------------------------------------------------------------------------------------------------------------------------------------------------------------------------------------------------------------------------------------------------------------------------------------------------------------------------------------+\n\n"
     ]
    }
   ],
   "source": [
    "from pyspark.sql.functions import lower, col\n",
    "from functools import reduce\n",
    "\n",
    "keywords = [\"tutorial\", \"science\", \"AI\", \"learn\", \"how to\", \"technology\", \"education\", \"experiment\", \"physics\", \"math\", \"engineering\"]\n",
    "\n",
    "# keyword-based filter on title and description\n",
    "filtered_df = casted_df1.filter(\n",
    "    reduce(lambda a, b: a | b, [lower(col(\"title\")).contains(k) | lower(col(\"description\")).contains(k) for k in keywords])\n",
    ")\n",
    "\n",
    "filtered_df.select(\"categoryName\", \"title\", \"description\").show(truncate=False)\n"
   ]
  },
  {
   "cell_type": "code",
   "execution_count": 0,
   "metadata": {
    "application/vnd.databricks.v1+cell": {
     "cellMetadata": {
      "byteLimit": 2048000,
      "rowLimit": 10000
     },
     "inputWidgets": {},
     "nuid": "1412d677-345f-4e46-8432-8e0f0774f328",
     "showTitle": false,
     "tableResultSettingsMap": {},
     "title": ""
    }
   },
   "outputs": [],
   "source": [
    "output_path = '/FileStore/tables/final_singapore_trending'\n",
    "casted_df1.write.mode('overwrite').parquet(output_path)"
   ]
  }
 ],
 "metadata": {
  "application/vnd.databricks.v1+notebook": {
   "computePreferences": null,
   "dashboards": [],
   "environmentMetadata": {
    "base_environment": "",
    "environment_version": "1"
   },
   "inputWidgetPreferences": null,
   "language": "python",
   "notebookMetadata": {
    "pythonIndentUnit": 4
   },
   "notebookName": "Singapore_trends",
   "widgets": {}
  }
 },
 "nbformat": 4,
 "nbformat_minor": 0
}