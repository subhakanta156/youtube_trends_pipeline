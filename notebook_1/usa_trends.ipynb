{
 "cells": [
  {
   "cell_type": "markdown",
   "metadata": {
    "application/vnd.databricks.v1+cell": {
     "cellMetadata": {},
     "inputWidgets": {},
     "nuid": "a3d1f297-89a6-4626-af20-8a0367910527",
     "showTitle": false,
     "tableResultSettingsMap": {},
     "title": ""
    }
   },
   "source": [
    "# Analysis on USA Data Set"
   ]
  },
  {
   "cell_type": "code",
   "execution_count": 0,
   "metadata": {
    "application/vnd.databricks.v1+cell": {
     "cellMetadata": {
      "byteLimit": 2048000,
      "rowLimit": 10000
     },
     "inputWidgets": {},
     "nuid": "01a26c95-de19-40b8-affe-3a5ee20ef714",
     "showTitle": false,
     "tableResultSettingsMap": {},
     "title": ""
    }
   },
   "outputs": [
    {
     "output_type": "stream",
     "name": "stdout",
     "output_type": "stream",
     "text": [
      "root\n |-- contentDetails: struct (nullable = true)\n |    |-- caption: string (nullable = true)\n |    |-- definition: string (nullable = true)\n |    |-- dimension: string (nullable = true)\n |    |-- duration: string (nullable = true)\n |    |-- licensedContent: boolean (nullable = true)\n |    |-- projection: string (nullable = true)\n |    |-- regionRestriction: struct (nullable = true)\n |    |    |-- allowed: array (nullable = true)\n |    |    |    |-- element: string (containsNull = true)\n |    |    |-- blocked: array (nullable = true)\n |    |    |    |-- element: string (containsNull = true)\n |-- etag: string (nullable = true)\n |-- id: string (nullable = true)\n |-- kind: string (nullable = true)\n |-- snippet: struct (nullable = true)\n |    |-- categoryId: string (nullable = true)\n |    |-- channelId: string (nullable = true)\n |    |-- channelTitle: string (nullable = true)\n |    |-- defaultAudioLanguage: string (nullable = true)\n |    |-- defaultLanguage: string (nullable = true)\n |    |-- description: string (nullable = true)\n |    |-- liveBroadcastContent: string (nullable = true)\n |    |-- localized: struct (nullable = true)\n |    |    |-- description: string (nullable = true)\n |    |    |-- title: string (nullable = true)\n |    |-- publishedAt: string (nullable = true)\n |    |-- tags: array (nullable = true)\n |    |    |-- element: string (containsNull = true)\n |    |-- thumbnails: struct (nullable = true)\n |    |    |-- default: struct (nullable = true)\n |    |    |    |-- height: long (nullable = true)\n |    |    |    |-- url: string (nullable = true)\n |    |    |    |-- width: long (nullable = true)\n |    |    |-- high: struct (nullable = true)\n |    |    |    |-- height: long (nullable = true)\n |    |    |    |-- url: string (nullable = true)\n |    |    |    |-- width: long (nullable = true)\n |    |    |-- maxres: struct (nullable = true)\n |    |    |    |-- height: long (nullable = true)\n |    |    |    |-- url: string (nullable = true)\n |    |    |    |-- width: long (nullable = true)\n |    |    |-- medium: struct (nullable = true)\n |    |    |    |-- height: long (nullable = true)\n |    |    |    |-- url: string (nullable = true)\n |    |    |    |-- width: long (nullable = true)\n |    |    |-- standard: struct (nullable = true)\n |    |    |    |-- height: long (nullable = true)\n |    |    |    |-- url: string (nullable = true)\n |    |    |    |-- width: long (nullable = true)\n |    |-- title: string (nullable = true)\n |-- statistics: struct (nullable = true)\n |    |-- commentCount: string (nullable = true)\n |    |-- favoriteCount: string (nullable = true)\n |    |-- likeCount: string (nullable = true)\n |    |-- viewCount: string (nullable = true)\n\n"
     ]
    }
   ],
   "source": [
    "# Load JSON (multiline must be true for nested JSON objects)\n",
    "df = spark.read.option(\"multiline\", \"true\").json(\"dbfs:/FileStore/shared_uploads/krath2928@gmail.com/trending_usa.json\")\n",
    "\n",
    "# Show schema to understand structure\n",
    "df.printSchema()"
   ]
  },
  {
   "cell_type": "code",
   "execution_count": 0,
   "metadata": {
    "application/vnd.databricks.v1+cell": {
     "cellMetadata": {
      "byteLimit": 2048000,
      "rowLimit": 10000
     },
     "inputWidgets": {},
     "nuid": "dd8826d8-bad7-447a-951b-e8bd84ec9708",
     "showTitle": false,
     "tableResultSettingsMap": {},
     "title": ""
    }
   },
   "outputs": [
    {
     "output_type": "stream",
     "name": "stdout",
     "output_type": "stream",
     "text": [
      "+-----------+--------------------+------------------------+----------------------------------+--------------------------------------------------------------------------+--------------------------------------------------------------------------------------------------------------------------------------------------------------------------------------------------------------------------------------------------------------------------------------------------------------------------------------------------------------------------------------------------------------------------------------------------------------------------------------------------------------------------------------------------------------------------------------------------------------------------------------------------------------------------------------------------------------------------------------------------------------------------------------------------------------------------------------------------------------------------------------------------------------------------------------------------------------------------------------------------------------------------------------------------------------------------------------------------------------------------------------------------------------------------------------------------------------------------------------------------------------------------------------------------------------------------------------------------------------------------------------------------------------------------------------------------------------------------------------------------------------------------------------------------------------------------------------------------------------------------------------------------------------------------------------------------------------------------------------------------------------------------------------------------------------------------------------------------------------------------------------------------------------------------------------------------------------------------------------------------------------------------------------------------------------------------------------------------------------------------------------------------------------------------------------------------------------------------------------------------------------------------------------------------------------------------------------------------------------------------------------------------------------------------------------------------------------------------------------------------------------------------------------------------------------------------------------------------------------------------------------------------------------------------------------------------------------------------------------------------------------------------------------------+----------+-------------------------------------------------------------------------------------------------------------------------------------------------------------------------------------------------------------------------------------------------------------------------------------------------------------------------------------------------------------------------------------------------------------------------------------------------------------------------------------------------------+---------------+--------------------+---------+---------+------------+----------+-------+\n|id         |publishedAt         |channelId               |channelTitle                      |title                                                                     |description                                                                                                                                                                                                                                                                                                                                                                                                                                                                                                                                                                                                                                                                                                                                                                                                                                                                                                                                                                                                                                                                                                                                                                                                                                                                                                                                                                                                                                                                                                                                                                                                                                                                                                                                                                                                                                                                                                                                                                                                                                                                                                                                                                                                                                                                                                                                                                                                                                                                                                                                                                                                                                                                                                                                                                                 |categoryId|tags                                                                                                                                                                                                                                                                                                                                                                                                                                                                                                   |defaultLanguage|defaultAudioLanguage|viewCount|likeCount|commentCount|duration  |caption|\n+-----------+--------------------+------------------------+----------------------------------+--------------------------------------------------------------------------+--------------------------------------------------------------------------------------------------------------------------------------------------------------------------------------------------------------------------------------------------------------------------------------------------------------------------------------------------------------------------------------------------------------------------------------------------------------------------------------------------------------------------------------------------------------------------------------------------------------------------------------------------------------------------------------------------------------------------------------------------------------------------------------------------------------------------------------------------------------------------------------------------------------------------------------------------------------------------------------------------------------------------------------------------------------------------------------------------------------------------------------------------------------------------------------------------------------------------------------------------------------------------------------------------------------------------------------------------------------------------------------------------------------------------------------------------------------------------------------------------------------------------------------------------------------------------------------------------------------------------------------------------------------------------------------------------------------------------------------------------------------------------------------------------------------------------------------------------------------------------------------------------------------------------------------------------------------------------------------------------------------------------------------------------------------------------------------------------------------------------------------------------------------------------------------------------------------------------------------------------------------------------------------------------------------------------------------------------------------------------------------------------------------------------------------------------------------------------------------------------------------------------------------------------------------------------------------------------------------------------------------------------------------------------------------------------------------------------------------------------------------------------------------------+----------+-------------------------------------------------------------------------------------------------------------------------------------------------------------------------------------------------------------------------------------------------------------------------------------------------------------------------------------------------------------------------------------------------------------------------------------------------------------------------------------------------------+---------------+--------------------+---------+---------+------------+----------+-------+\n|zTD57bOhXMA|2025-07-17T04:36:43Z|UCyGi3eCuxko37WB6uUr7LjA|Call Her Daddy                    |Huda: Love Island Tell All (Full Episode)                                 |You’re welcome x2\\n\\nThis episode includes discussion about domestic violence, suicidal ideation, and eating disorders. Please keep this in mind when deciding if, how, and when you’ll listen.                                                                                                                                                                                                                                                                                                                                                                                                                                                                                                                                                                                                                                                                                                                                                                                                                                                                                                                                                                                                                                                                                                                                                                                                                                                                                                                                                                                                                                                                                                                                                                                                                                                                                                                                                                                                                                                                                                                                                                                                                                                                                                                                                                                                                                                                                                                                                                                                                                                                                                                                                                                             |24        |[Call her daddy, chd, daddy gang, call her daddy podcast, alex cooper, call, her, daddy, interview, podcast, unwell podcast, unwell, unwell network, alex, cooper]                                                                                                                                                                                                                                                                                                                                     |null           |en-US               |4672616  |120088   |18283       |PT1H54M19S|false  |\n|AuqEZx6TmfI|2025-07-18T02:04:38Z|UCMtFAi84ehTSYSE9XoHefig|The Late Show with Stephen Colbert|Stephen Colbert Announces The Cancellation Of “The Late Show”             |Stephen Colbert tells his audience that the next season of “The Late Show” will be the last, and that the series will end in May 2026.\\n\\n#Colbert #Comedy #StephenColbert #TheLateShow\\n\\nSubscribe To \"The Late Show\" Channel: http://bit.ly/ColbertYouTube\\n\\nWatch full episodes of \"The Late Show\": http://bit.ly/1Puei40\\nListen to \"The Late Show Pod Show\" podcast: https://link.chtbl.com/Awagtx95?sid=yt\\nLike \"The Late Show\" on Facebook: http://on.fb.me/1df139Y\\nFollow \"The Late Show\" on X: http://bit.ly/1dMzZzG\\nFollow \"The Late Show\" on Instagram: http://bit.ly/29wfREj\\n\\nWatch The Late Show with Stephen Colbert weeknights at 11:35 PM ET/10:35 PM CT. Only on CBS.\\n\\n---\\nStephen Colbert brings his signature satire and comedy to THE LATE SHOW with STEPHEN COLBERT, the #1 show in late night, where he talks with an eclectic mix of guests about what is new and relevant in the worlds of politics, entertainment, business, music, technology and more. Featuring bandleader Louis Cato and “THE LATE SHOW band,” the Peabody Award-winning and Emmy Award-nominated show is broadcast from the historic Ed Sullivan Theater. Stephen Colbert took over as host, executive producer and writer of THE LATE SHOW on Sept. 8, 2015.                                                                                                                                                                                                                                                                                                                                                                                                                                                                                                                                                                                                                                                                                                                                                                                                                                                                                                                                                                                                                                                                                                                                                                                                                                                                                                                                                                                                                                                                                                                       |24        |[The Late Show, Late Show, Stephen Colbert, Steven Colbert, Colbert, celebrity, celeb, celebrities, late night, talk show, comedian, comedy, CBS, joke, jokes, funny, funny video, funny videos, humor, hollywood, famous]                                                                                                                                                                                                                                                                             |en             |en                  |2623291  |125258   |37158       |PT2M27S   |false  |\n|ZdC5mFHPldg|2025-07-17T16:05:00Z|UCjmJDM5pRKbUlVIzDYYWb6g|Warner Bros.                      |Mortal Kombat II | Official Trailer                                       |It's called Mortal Kombat (II).\\nMortal Kombat II – only in theaters and @imax October 24. #MortalKombatMovie #FilmedForIMAX \\n\\nFrom New Line Cinema comes the latest high-stakes installment in the blockbuster video game franchise in all its brutal glory, Mortal Kombat II.  This time, the fan favorite champions—now joined by Johnny Cage himself—are pitted against one another in the ultimate, no-holds barred, gory battle to defeat the dark rule of Shao Kahn that threatens the very existence of the Earthrealm and its defenders.\\n\\nKarl Urban stars as Johnny Cage, alongside Adeline Rudolph, Jessica McNamee, Josh Lawson, Ludi Lin, Mehcad Brooks, Tati Gabrielle, Lewis Tan, Damon Herriman, with Chin Han, Tadanobu Asano as Lord Raiden, Joe Taslim as Bi-Han, and Hiroyuki Sanada as Hanzo Hasashi and Scorpion.\\n\\nDirector Simon McQuoid returns to helm the follow up to his explosive 2021 cinematic adventure, from a screenplay by Jeremy Slater, based on the videogame created by Ed Boon and John Tobias.  The film is produced by Todd Garner, James Wan, Toby Emmerich, E. Bennett Walsh and McQuoid, and executive produced by Michael Clear, Judson Scott, Slater and Lawrence Kasanoff.  \\n\\nJoining McQuoid behind the camera are director of photography Stephen F. Windon, production designer Yohei Taneda, editor Stuart Levy and costume designer Cappi Ireland, with casting by Rich Delia and music by Benjamin Wallfisch.\\n\\nNew Line Cinema Presents an Atomic Monster/Broken Road Production, a Fireside Films Production, Mortal Kombat II.  The film will be distributed worldwide by Warner Bros. Pictures, only in theaters and IMAX® across North America on October 24, 2025, and internationally beginning 22 October 2025.                                                                                                                                                                                                                                                                                                                                                                                                                                                                                                                                                                                                                                                                                                                                                                                                                                                                                                                                                                                                      |1         |[2025, Action, Adeline Rudolph, Adventure, Battle, Coming Soon, Damon Herriman, Fantasy, Film, Film Trailer, Film Warner, Game, Hiroyuki Sanada, Jessica McNamee, Joe Taslim as Bi-Han, Josh Lawson, Karl Urban, Lewis Tan, Ludi Lin, MMA Fighter, Martial Arts, Mehcad Brooks, Mortal Kombat, Mortal Kombat II, Movie, Official Trailer, Simon McQuoid, Tadanobu Asano as Lord Raiden, Tati Gabrielle, Trailer, Video Game, WB, Warner, Warner Bros, Warner Brothers, Warner Media, with Chin Han]    |en             |en-US               |7245936  |270309   |21950       |PT2M33S   |true   |\n|BxY5l4ZK61I|2025-07-18T04:00:15Z|UCMoWQ_lvBWARyM7r1B3ZIIg|Monster High                      |Monster High Fright Song ft. KATSEYE | Official Music Video | Monster High|Get ready to unleash your inner monster! KATSEYE brings a scary-good remake of Monster High's iclawnic \"Fright Song,\" celebrating everyone’s uniqueness and self-expression. Parents, now streaming globally on all major platforms! Parents, the following is intended for older children. \\n\\nYou Can Now Watch More of What You Love! 💜\\nhttps://www.youtube.com/playlist?list=PLIsR9TmiBZZ9VxLnxadyGE1tnytaovAVE\\nhttps://www.youtube.com/playlist?list=PLIsR9TmiBZZ-0wrTslHxGPCVGB1D8Ycfn\\nhttps://www.youtube.com/playlist?list=PLIsR9TmiBZZ-ftUO9aimSux7HqVxbmL6Q\\n\\nYou can watch now on Prime Video\\n► You Can Subscribe Now: https://www.youtube.com/@MonsterHigh?sub_confirmation=1\\n► You Can Watch More: https://www.youtube.com/c/monsterhigh\\n► New Videos: https://www.youtube.com/playlist?list=PLIsR9TmiBZZ-ftUO9aimSux7HqVxbmL6Q\\n\\nAbout Monster High:\\nMonster High students come from all walks of life. From ghosts and werewolves to vampires and sea monsters (and more!), everyone is welcome at Monster High. Here on the Monster High YouTube channel, you can find YouTube original series, songs, compilations, and more moments featuring your favorite characters, such as Draculaura, Frankie Stein, Clawdeen Wolf, Deuce Gorgon and more! Monster High is a place where students embrace and celebrate what makes them different. Our students also accept their friends and all their unique qualities because that’s what real friendship is all about.\\n\\nAbout Monster High YouTube Channel: ​\\nWelcome to the official Monster High YouTube Channel! Check out the coolest toys, the craziest stunts, the fastest action, and the most epic races on our channel! Go behind the scenes for exclusive content, jump behind the wheel of World Record-breaking stunts, jumps and loops, and show us how you perform the craziest stunts on orange track! Stay up to date on our episodic content by subscribing now!  ​\\n\\nMonster High International Channels\\nMonster High en Castellano: https://www.youtube.com/@MonsterHighenCastellano\\nMonster High Latinoamérica: https://www.youtube.com/@MonsterHighLatinoam%C3%A9rica\\nMonster High Deutsch: https://www.youtube.com/@MonsterHighDeutsch\\nMonster High Français: https://www.youtube.com/@MonsterHighFran%C3%A7ais\\nMonster High Россия: https://www.youtube.com/@MonsterHighRussia\\nMonster High Türkiye: https://www.youtube.com/@MonsterHighT%C3%BCrkiye\\nMonster High Po Polsku: https://www.youtube.com/@MonsterHighPolska\\nMonster High Italiano: https://www.youtube.com/@MonsterHighItaliano\\nMonster High Ελληνικά: https://www.youtube.com/@MonsterHighGreeceOfficial\\nMonster High Português: https://www.youtube.com/@MonsterHighBrazil\\n\\nhttps://www.youtube.com/@MonsterHigh|24        |[Monster High, mattel, we are monster high, draculaura, monster high cleo, monster high twyla, monster high frankie, lagoona blue, monster high videos, monster high clawdeen, EDIT_Original, SC_MH Music VIdeos, FORM_Live Action, TYPE_Entertainment, Fright Song, Katseye Fright Song, Katseye, Katseye Song, Katseye Touch, Katseye Mama, Katseye Live, Katseye Touch Live, Katseye Debut Live, katseye buttons, katseye my way, katseye new song, my way katseye, CHAR_Katseye]                   |null           |en                  |865237   |182106   |0           |PT2M44S   |false  |\n|YShVEXb7-ic|2025-07-17T16:00:55Z|UC_5niPa-d35gg88HaS7RrIw|Disney                            |Tron: Ares | Official Trailer                                             |Watch the brand-new trailer for Tron: Ares and experience it in theaters, filmed for IMAX, October 10.\\n \\nTron: Ares follows a highly sophisticated Program, Ares, who is sent from the digital world into the real world on a dangerous mission, marking humankind’s first encounter with A.I. beings. The feature film is directed by Joachim Rønning and stars Jared Leto, Greta Lee, Evan Peters, Hasan Minhaj, Jodie Turner-Smith, Arturo Castro, Cameron Monaghan, with Gillian Anderson, and Jeff Bridges. Sean Bailey, Jeffrey Silver, Justin Springer, Jared Leto, Emma Ludbrook and Steven Lisberger are the producers, with Russell Allen serving as executive producer.\\n\\nGrammy®-award winning rock band Nine Inch Nails composed the score\n\n*** WARNING: max output size exceeded, skipping output. ***\n\n                                                                                                                                                                                                                                                                                           |20        |[DougDoug, DougDoug's Leftovers, DougDoug Youtube, DougDoug second channel, dougdoug stream highlights, dougdoug twitch, dougdoug twitch highlights, dougdoug stream, twitch, twitch chat, twitch plays, DougDougDoug, DougDougDoug Youtube, jerma, nandre, jerma985, joel vinesauce, vinesauce, pointcrow, pontcow]                                                                                                                                                                                   |null           |en                  |309204   |21409    |628         |PT21M25S  |false  |\n|alVyFX7iQg8|2025-07-16T18:12:02Z|UCKy1dAqELo0zrOtPkf0eTMw|IGN                               |Mortal Kombat 2 - Official 'Uncaged Fury' Teaser Trailer (2025) Karl Urban|Don't miss the 'Uncaged Fury' Teaser Trailer for Mortal Kombat 2, the upcoming action film based on the hit Mortal Kombat game IP distributed by Warner Bros. Pictures. Take a look at the in-universe film trailer for Uncaged Fury starring the one and only Johnny Cage, portrayed by Karl Urban. \\n\\nUncaged Fury sees the legendary Johnny Cage take on a band of goons with ease, making use of pipes, fast-paced combat skills, and an aura unlike any other.\\n\\nMortal Kombat 2 is in theaters on October 24.                                                                                                                                                                                                                                                                                                                                                                                                                                                                                                                                                                                                                                                                                                                                                                                                                                                                                                                                                                                                                                                                                                                                                                                                                                                                                                                                                                                                                                                                                                                                                                                                                                                                                                                                                                                                                                                                                                                                                                                                                                                                                                                                                                                                                                                                       |24        |[ign, mortal kombat 2, mk 2, mortal kombat 2 movie, mortal kombat 2 movie trailer, mortal kombat ii, mortal kombat 2 trailer, mortal kombat live action trailer, mortal kombat movie trailer, movie trailers, movie trailer, movies, new movies, new movie trailers, upcoming movies 2025, new movies 2025, 2025 new movies, 2025 trailers, new trailers, ign movie trailer, johnny cage, karl urban]                                                                                                  |null           |null                |3921003  |111672   |9675        |PT1M      |false  |\n|-Sj-FmI5JfA|2025-07-17T16:00:01Z|UC4a5d57ZAWl999-YXw0C1Vg|Nine Inch Nails                   |Nine Inch Nails - As Alive As You Need Me To Be (Official Lyric Video)    |Nine Inch Nails - As Alive As You Need Me To Be (Official Lyric Video)\\n\\nListen to ‘As Alive As You Need Me To Be,’ out now: https://NineInchNails.lnk.to/AAAYNMTB\\nPre-Order TRON: Ares (Original Motion Picture Soundtrack), out September 19: https://NineInchNails.lnk.to/TRONAres\\n\\nShop official music and merch: https://NineInchNails.lnk.to/Store\\n\\nwww.nin.com  \\nhttps://www.facebook.com/ninofficial\\nhttps://tiktok.com/@nineinchnails \\nhttps://www.instagram.com/nineinchnails\\n\\n#NineInchNails #TrentReznor #AtticusRoss                                                                                                                                                                                                                                                                                                                                                                                                                                                                                                                                                                                                                                                                                                                                                                                                                                                                                                                                                                                                                                                                                                                                                                                                                                                                                                                                                                                                                                                                                                                                                                                                                                                                                                                                                                                                                                                                                                                                                                                                                                                                                                                                                                                                                                                |24        |[nine inch nails, nin, trent reznor, atticus ross, nineinchnails, tron, tron ares, torn ares, tron aires, new nin, industrial, electronic, the downward spiral, pretty hate machine, hurt nin, closer nin, jared leto, disney, evan peters, greta lee, jeff bridges, trent resnor, peel it back, nine inch nails live, nine inch nails 2025, 2025, new music 2025, nine inch nails new music, as alive as you need me to be, aaaynmtb, nine inch nails visualizer, visualizer, visualiser, lyric video]|en-US          |en-US               |369484   |33770    |3069        |PT3M54S   |true   |\n|5QL1PK5XcGg|2025-07-17T21:00:01Z|UCSnqXeK94-iNmwqGO__eJ5g|Steve Wallis                      |Fake Bear Trap Camping                                                    |I picked up a piece of culvert and disguised it to look like a bear trap for camping. The goal was to prevent anyone from camping beside me and it seemed to do the trick! It was a comfortable night with good food and a cozy campfire.\\n\\n----------------------------------------------------------------\\n• Website: https://campingwithsteve.com\\n• My Amazon store: https://amzn.to/49li5Az\\n• Merch https://crowdmade.com/collections/stevewallis\\n----------------------------------------------------------------\\n\\nGear:\\n\\nCamera: Sony Alpha FX3\\nhttps://amzn.to/3SIMQra\\n\\nLens: Sony FE PZ 16-35mm F4 G\\nhttps://amzn.to/3SL1rm7\\n\\nEditing: Apple 2021 MacBook Pro M1 Final Cut Pro\\nhttps://amzn.to/3YeuCiy\\n\\nDrone: DJI Mini 3\\nhttps://amzn.to/3YqQ0Ew\\n\\n----------------------------------------------------------------\\nSocials: \\n• Facebook: https://facebook.com/campingwithsteve\\n• Instagram: https://instagram.com/campingsteve\\n• Twitter/X: https://twitter.com/hunkerdownsteve\\n• TikTok: https://tiktok.com/@campingwithsteve\\n• Bluesky: https://bsky.app/profile/campingwithsteve.com\\n----------------------------------------------------------------\\n\\n#hunkerdown #camping #campinglife                                                                                                                                                                                                                                                                                                                                                                                                                                                                                                                                                                                                                                                                                                                                                                                                                                                                                                                                                                                                                                                                                                                                                                                                                                                                                                                                                                                                                                                                                                                                                          |22        |null                                                                                                                                                                                                                                                                                                                                                                                                                                                                                                   |null           |en                  |386928   |36516    |4066        |PT21M13S  |false  |\n|RtkJZLNoKOk|2025-07-17T21:00:29Z|UCUqLwBXfSeA4auWIX1ZLZJw|The Grim Kleaper                  |Rimworld but Raids get Exponentially Bigger                               |Spoiler: My computer catches fire.\\n\\nModlist (this was played on 1.5): https://steamcommunity.com/sharedfiles/filedetails/?id=3506357762\\n\\nTwitch: https://www.twitch.tv/the_grim_kleaper\\nSecond Channel: https://www.youtube.com/@antikleaper\\nJoin my Discord: https://discord.gg/tWsGBZXAQN\\n\\nEdited by @Neverian \\n\\nMusic Used:\\nHorizons by Makeup and Vanity Set\\nThrough the Prism by Ava Low\\nRooftop Rumble from Nick All Stars Brawl\\nWatery Graves from Plants vs Zombies\\nBloons TD Jazz Theme by e_soup\\nT Station from Age of Empires II\\nAlbatross by Lexica\\nFar Future Theme from Plants vs Zombies 2\\nFatal Flaw by Makeup and Vanity Set\\nColonial (Explore) from FTL: Faster Than Light (song by Ben Prunty)\\nTerran Three from Starcraft Broodwar\\nUnison by Makeup and Vanity Set\\nMario Kart DS - Waluigi Pinball [Eurobeat Remix]\\nSmells like Crickets, Tastes like Chicken from Age of Empires II\\nColonial (Explore) from FTL: Faster Than Light (song by Ben Prunty) (I used it twice because it's just that good)\\nMilkyWay (Battle) from FTL: Faster Than Light (song by Ben Prunty)\\nWar Season from LISA\\nAce Attorney - Triple Corner\\nClose the Gates from Rimworld\\nStix and Stones Medley from Stronghold\\nSolo Nobre by Makeup and Vanity Set                                                                                                                                                                                                                                                                                                                                                                                                                                                                                                                                                                                                                                                                                                                                                                                                                                                                                                                                                                                                                                                                                                                                                                                                                                                                                                                                                                                                                                                                                                     |20        |[kleapit, the_grim_kleaper, kleaper, rim world, rimworld, anti-kleaper, kleap, grim, odyssey, winston waves, survival, raids, waves, void]                                                                                                                                                                                                                                                                                                                                                             |en             |en                  |233433   |17502    |729         |PT41M43S  |false  |\n|OfArl3njEgo|2025-07-17T22:27:39Z|UCXjvsikVclbNRGRlzr8jTEg|Baseball Doesn't Exist            |Why Baseball Players Put Sticky Stuff on Everything                       |So stop putting off those doctors appointments and go to https://zocdoc.com/baseballdoesntexist - also linked in the description - to find and instantly book a top-rated doctor today.\\n\\nNEW CHANNEL: https://www.youtube.com/@UCfsocaCHgELMJ2udpwr3SYA \\n\\nLike and Subscribe\\nPodcast https://cms.megaphone.fm/channel/podcastdoesntexist?selected=BVLLC4832541624\\nTwitter: @Baseballdoesnt \\nInstagram: @baseballdoesntexist\\nTik Tok: @bbldoesntexist\\nEmail: Baseballdoesnt@gmail.com\\nEdited By: Aidan.                                                                                                                                                                                                                                                                                                                                                                                                                                                                                                                                                                                                                                                                                                                                                                                                                                                                                                                                                                                                                                                                                                                                                                                                                                                                                                                                                                                                                                                                                                                                                                                                                                                                                                                                                                                                                                                                                                                                                                                                                                                                                                                                                                                                                                                                            |17        |null                                                                                                                                                                                                                                                                                                                                                                                                                                                                                                   |null           |en                  |223004   |5447     |495         |PT26M14S  |false  |\n|FqIi3N9dusk|2025-07-17T12:59:59Z|UC2dIDJBf9W88PxGm-uHZPaQ|FX Networks                       |Alien: Earth | Official Trailer 2: Greener World | FX                     |FX’s Alien: Earth. OFFICIAL TRAILER 2: _GREENER WORLD._ Prepare. Before it’s too late. Premieres August 12 on @FXNetworks  | @hulu  and with #HuluOnDisneyPlus. \\n\\nSubscribe now for more Alien: Earth clips: http://bit.ly/SubscribeFX |  Visit Official Site: https://www.fxnetworks.com/shows/alien-earth\\n\\n#AlienEarth #FX\\n\\nWhen the mysterious deep space research vessel USCSS Maginot crash-lands on Earth, “Wendy” (Sydney Chandler) and a ragtag group of tactical soldiers make a fateful discovery that puts them face-to-face with the planet’s greatest threat. FX’s Alien: Earth is created for television and executive produced by Noah Hawley.\\n\\nFollow Alien: Earth on Instagram: http://instagram.com/alienearthfx\\n\\nFollow FX on Instagram: http://instagram.com/FXNetworks\\nFollow FX on TikTok: http://tiktok.com/@FXNetworks\\nLike FX on Facebook: https://facebook.com/FXNetworks\\nFollow FX on Threads: https://threads.com/@fxnetworks\\n\\nAlien: Earth | Official Trailer: Greener World | FX\\nhttps://www.youtube.com/user/FXNetworks                                                                                                                                                                                                                                                                                                                                                                                                                                                                                                                                                                                                                                                                                                                                                                                                                                                                                                                                                                                                                                                                                                                                                                                                                                                                                                                                                                                                                                                                                                                                                                                                                                                                                                                      |24        |[FX, Alien: Earth, Ridley Scott, Timothy David Olyphant, Alex Lawther, Samuel Blenkin, Essie Davis, Adarsh Gourav, Dan O'Bannon, Ronald Shusett, 1979 Prequel, 1979 Movie, Noah Hawley, Sci-Fi Horror, Sci-Fi Series, Alien: Romulus, timothy olyphant, trailer, official trailer, teaser, new series, alien series, alien, alien franchise, alien invasion, alien earth 2025, sydney chandler, tv adaptation, aliens on earth, predator, resurrection, covenant, romulus, sneak peek, first look]     |null           |en                  |4095561  |17083    |1544        |PT1M38S   |true   |\n+-----------+--------------------+------------------------+----------------------------------+--------------------------------------------------------------------------+--------------------------------------------------------------------------------------------------------------------------------------------------------------------------------------------------------------------------------------------------------------------------------------------------------------------------------------------------------------------------------------------------------------------------------------------------------------------------------------------------------------------------------------------------------------------------------------------------------------------------------------------------------------------------------------------------------------------------------------------------------------------------------------------------------------------------------------------------------------------------------------------------------------------------------------------------------------------------------------------------------------------------------------------------------------------------------------------------------------------------------------------------------------------------------------------------------------------------------------------------------------------------------------------------------------------------------------------------------------------------------------------------------------------------------------------------------------------------------------------------------------------------------------------------------------------------------------------------------------------------------------------------------------------------------------------------------------------------------------------------------------------------------------------------------------------------------------------------------------------------------------------------------------------------------------------------------------------------------------------------------------------------------------------------------------------------------------------------------------------------------------------------------------------------------------------------------------------------------------------------------------------------------------------------------------------------------------------------------------------------------------------------------------------------------------------------------------------------------------------------------------------------------------------------------------------------------------------------------------------------------------------------------------------------------------------------------------------------------------------------------------------------------------------+----------+-------------------------------------------------------------------------------------------------------------------------------------------------------------------------------------------------------------------------------------------------------------------------------------------------------------------------------------------------------------------------------------------------------------------------------------------------------------------------------------------------------+---------------+--------------------+---------+---------+------------+----------+-------+\nonly showing top 20 rows\n\n"
     ]
    }
   ],
   "source": [
    "from pyspark.sql.functions import col\n",
    "\n",
    "selected_df = df.select(\n",
    "    \"id\",\n",
    "    \"snippet.publishedAt\",\n",
    "    \"snippet.channelId\",\n",
    "    \"snippet.channelTitle\",\n",
    "    \"snippet.title\",\n",
    "    \"snippet.description\",\n",
    "    \"snippet.categoryId\",\n",
    "    \"snippet.tags\",\n",
    "    \"snippet.defaultLanguage\",\n",
    "    \"snippet.defaultAudioLanguage\",\n",
    "    \"statistics.viewCount\",\n",
    "    \"statistics.likeCount\",\n",
    "    \"statistics.commentCount\",\n",
    "    \"contentDetails.duration\",\n",
    "    \"contentDetails.caption\"\n",
    ")\n",
    "\n",
    "selected_df.show(truncate=False)\n"
   ]
  },
  {
   "cell_type": "code",
   "execution_count": 0,
   "metadata": {
    "application/vnd.databricks.v1+cell": {
     "cellMetadata": {
      "byteLimit": 2048000,
      "rowLimit": 10000
     },
     "inputWidgets": {},
     "nuid": "4b9e84b6-8c43-4b76-8e3b-d45999e0a5cc",
     "showTitle": false,
     "tableResultSettingsMap": {},
     "title": ""
    }
   },
   "outputs": [],
   "source": [
    "from pyspark.sql.functions import col\n",
    "\n",
    "casted_df2 = selected_df.withColumn(\"viewCount\", col(\"viewCount\").cast(\"int\")) \\\n",
    "                       .withColumn(\"likeCount\", col(\"likeCount\").cast(\"int\")) \\\n",
    "                       .withColumn(\"commentCount\", col(\"commentCount\").cast(\"int\"))"
   ]
  },
  {
   "cell_type": "code",
   "execution_count": 0,
   "metadata": {
    "application/vnd.databricks.v1+cell": {
     "cellMetadata": {
      "byteLimit": 2048000,
      "rowLimit": 10000
     },
     "inputWidgets": {},
     "nuid": "700f12bc-4368-431b-9808-d450c3db9e0b",
     "showTitle": false,
     "tableResultSettingsMap": {},
     "title": ""
    }
   },
   "outputs": [
    {
     "output_type": "stream",
     "name": "stdout",
     "output_type": "stream",
     "text": [
      "root\n |-- id: string (nullable = true)\n |-- publishedAt: string (nullable = true)\n |-- channelId: string (nullable = true)\n |-- channelTitle: string (nullable = true)\n |-- title: string (nullable = true)\n |-- description: string (nullable = true)\n |-- categoryId: string (nullable = true)\n |-- tags: array (nullable = true)\n |    |-- element: string (containsNull = true)\n |-- defaultLanguage: string (nullable = true)\n |-- defaultAudioLanguage: string (nullable = true)\n |-- viewCount: integer (nullable = true)\n |-- likeCount: integer (nullable = true)\n |-- commentCount: integer (nullable = true)\n |-- duration: string (nullable = true)\n |-- caption: string (nullable = true)\n\n"
     ]
    }
   ],
   "source": [
    "casted_df2.printSchema()"
   ]
  },
  {
   "cell_type": "code",
   "execution_count": 0,
   "metadata": {
    "application/vnd.databricks.v1+cell": {
     "cellMetadata": {
      "byteLimit": 2048000,
      "rowLimit": 10000
     },
     "inputWidgets": {},
     "nuid": "178c42e2-b6a8-4cd6-a787-7a270d017098",
     "showTitle": false,
     "tableResultSettingsMap": {},
     "title": ""
    }
   },
   "outputs": [
    {
     "output_type": "stream",
     "name": "stdout",
     "output_type": "stream",
     "text": [
      "-RECORD 0----------------------------------------------------------------------------------------------------------------------------------------------------------------------------------------------------------------------------------------------------------------------------------------------------------------------------------------------------------------------------------------------------------------------------------------------------------------------------------------------------------------------------------------------------------------------------------------------------------------------------------------------------------------------------------------------------------------------------------------------------------------------------------------------------------------------------------------------------------------------------------------------------------------------------------------------------------------------------------------------------------------------------------------------------------------------------------------------------------------------------------------------------------------------------------------------------------------------------------------------------------------------------------------------------------------------------------------------------------------------------------------------------------------------------------------------------------------------------------------------------------------------------------------------------------------------------------------------------------------------------------------------------------------------------------------------------------------------------------------------------------------------------------------------\n viewCount    | 4672616                                                                                                                                                                                                                                                                                                                                                                                                                                                                                                                                                                                                                                                                                                                                                                                                                                                                                                                                                                                                                                                                                                                                                                                                                                                                                                                                                                                                                                                                                                                                                                                                                                                                                                                                                                                \n likeCount    | 120088                                                                                                                                                                                                                                                                                                                                                                                                                                                                                                                                                                                                                                                                                                                                                                                                                                                                                                                                                                                                                                                                                                                                                                                                                                                                                                                                                                                                                                                                                                                                                                                                                                                                                                                                                                                 \n commentCount | 18283                                                                                                                                                                                                                                                                                                                                                                                                                                                                                                                                                                                                                                                                                                                                                                                                                                                                                                                                                                                                                                                                                                                                                                                                                                                                                                                                                                                                                                                                                                                                                                                                                                                                                                                                                                                  \n duration     | PT1H54M19S                                                                                                                                                                                                                                                                                                                                                                                                                                                                                                                                                                                                                                                                                                                                                                                                                                                                                                                                                                                                                                                                                                                                                                                                                                                                                                                                                                                                                                                                                                                                                                                                                                                                                                                                                                             \n publishedAt  | 2025-07-17T04:36:43Z                                                                                                                                                                                                                                                                                                                                                                                                                                                                                                                                                                                                                                                                                                                                                                                                                                                                                                                                                                                                                                                                                                                                                                                                                                                                                                                                                                                                                                                                                                                                                                                                                                                                                                                                                                   \n channelTitle | Call Her Daddy                                                                                                                                                                                                                                                                                                                                                                                                                                                                                                                                                                                                                                                                                                                                                                                                                                                                                                                                                                                                                                                                                                                                                                                                                                                                                                                                                                                                                                                                                                                                                                                                                                                                                                                                                                         \n title        | Huda: Love Island Tell All (Full Episode)                                                                                                                                                                                                                                                                                                                                                                                                                                                                                                                                                                                                                                                                                                                                                                                                                                                                                                                                                                                                                                                                                                                                                                                                                                                                                                                                                                                                                                                                                                                                                                                                                                                                                                                                              \n categoryId   | 24                                                                                                                                                                                                                                                                                                                                                                                                                                                                                                                                                                                                                                                                                                                                                                                                                                                                                                                                                                                                                                                                                                                                                                                                                                                                                                                                                                                                                                                                                                                                                                                                                                                                                                                                                                                     \n description  | You’re welcome x2\\n\\nThis episode includes discussion about domestic violence, suicidal ideation, and eating disorders. Please keep this in mind when deciding if, how, and when you’ll listen.                                                                                                                                                                                                                                                                                                                                                                                                                                                                                                                                                                                                                                                                                                                                                                                                                                                                                                                                                                                                                                                                                                                                                                                                                                                                                                                                                                                                                                                                                                                                                                                        \n-RECORD 1----------------------------------------------------------------------------------------------------------------------------------------------------------------------------------------------------------------------------------------------------------------------------------------------------------------------------------------------------------------------------------------------------------------------------------------------------------------------------------------------------------------------------------------------------------------------------------------------------------------------------------------------------------------------------------------------------------------------------------------------------------------------------------------------------------------------------------------------------------------------------------------------------------------------------------------------------------------------------------------------------------------------------------------------------------------------------------------------------------------------------------------------------------------------------------------------------------------------------------------------------------------------------------------------------------------------------------------------------------------------------------------------------------------------------------------------------------------------------------------------------------------------------------------------------------------------------------------------------------------------------------------------------------------------------------------------------------------------------------------------------------------------------------------------\n viewCount    | 2623291                                                                                                                                                                                                                                                                                                                                                                                                                                                                                                                                                                                                                                                                                                                                                                                                                                                                                                                                                                                                                                                                                                                                                                                                                                                                                                                                                                                                                                                                                                                                                                                                                                                                                                                                                                                \n likeCount    | 125258                                                                                                                                                                                                                                                                                                                                                                                                                                                                                                                                                                                                                                                                                                                                                                                                                                                                                                                                                                                                                                                                                                                                                                                                                                                                                                                                                                                                                                                                                                                                                                                                                                                                                                                                                                                 \n commentCount | 37158                                                                                                                                                                                                                                                                                                                                                                                                                                                                                                                                                                                                                                                                                                                                                                                                                                                                                                                                                                                                                                                                                                                                                                                                                                                                                                                                                                                                                                                                                                                                                                                                                                                                                                                                                                                  \n duration     | PT2M27S                                                                                                                                                                                                                                                                                                                                                                                                                                                                                                                                                                                                                                                                                                 \n\n*** WARNING: max output size exceeded, skipping output. ***\n\n                                                                                                                                                                                                                                                                                                                                                                                                                                                                                                                                                                                                                                                                                              \n channelTitle | The Late Show with Stephen Colbert                                                                                                                                                                                                                                                                                                                                                                                                                                                                                                                                                                                                                                                                                                                                                                                                                                                                                                                                                                                                                                                                                                                                                                                                                                                                                                                                                                                                                                                                                                                                                                                                                                                                                                                                                     \n title        | Stephen Colbert Announces The Cancellation Of “The Late Show”                                                                                                                                                                                                                                                                                                                                                                                                                                                                                                                                                                                                                                                                                                                                                                                                                                                                                                                                                                                                                                                                                                                                                                                                                                                                                                                                                                                                                                                                                                                                                                                                                                                                                                                          \n categoryId   | 24                                                                                                                                                                                                                                                                                                                                                                                                                                                                                                                                                                                                                                                                                                                                                                                                                                                                                                                                                                                                                                                                                                                                                                                                                                                                                                                                                                                                                                                                                                                                                                                                                                                                                                                                                                                     \n description  | Stephen Colbert tells his audience that the next season of “The Late Show” will be the last, and that the series will end in May 2026.\\n\\n#Colbert #Comedy #StephenColbert #TheLateShow\\n\\nSubscribe To \"The Late Show\" Channel: http://bit.ly/ColbertYouTube\\n\\nWatch full episodes of \"The Late Show\": http://bit.ly/1Puei40\\nListen to \"The Late Show Pod Show\" podcast: https://link.chtbl.com/Awagtx95?sid=yt\\nLike \"The Late Show\" on Facebook: http://on.fb.me/1df139Y\\nFollow \"The Late Show\" on X: http://bit.ly/1dMzZzG\\nFollow \"The Late Show\" on Instagram: http://bit.ly/29wfREj\\n\\nWatch The Late Show with Stephen Colbert weeknights at 11:35 PM ET/10:35 PM CT. Only on CBS.\\n\\n---\\nStephen Colbert brings his signature satire and comedy to THE LATE SHOW with STEPHEN COLBERT, the #1 show in late night, where he talks with an eclectic mix of guests about what is new and relevant in the worlds of politics, entertainment, business, music, technology and more. Featuring bandleader Louis Cato and “THE LATE SHOW band,” the Peabody Award-winning and Emmy Award-nominated show is broadcast from the historic Ed Sullivan Theater. Stephen Colbert took over as host, executive producer and writer of THE LATE SHOW on Sept. 8, 2015.                                                                                                                                                                                                                                                                                                                                                                                                                                                                                                                  \n-RECORD 2----------------------------------------------------------------------------------------------------------------------------------------------------------------------------------------------------------------------------------------------------------------------------------------------------------------------------------------------------------------------------------------------------------------------------------------------------------------------------------------------------------------------------------------------------------------------------------------------------------------------------------------------------------------------------------------------------------------------------------------------------------------------------------------------------------------------------------------------------------------------------------------------------------------------------------------------------------------------------------------------------------------------------------------------------------------------------------------------------------------------------------------------------------------------------------------------------------------------------------------------------------------------------------------------------------------------------------------------------------------------------------------------------------------------------------------------------------------------------------------------------------------------------------------------------------------------------------------------------------------------------------------------------------------------------------------------------------------------------------------------------------------------------------------------\n viewCount    | 7245936                                                                                                                                                                                                                                                                                                                                                                                                                                                                                                                                                                                                                                                                                                                                                                                                                                                                                                                                                                                                                                                                                                                                                                                                                                                                                                                                                                                                                                                                                                                                                                                                                                                                                                                                                                                \n likeCount    | 270309                                                                                                                                                                                                                                                                                                                                                                                                                                                                                                                                                                                                                                                                                                                                                                                                                                                                                                                                                                                                                                                                                                                                                                                                                                                                                                                                                                                                                                                                                                                                                                                                                                                                                                                                                                                 \n commentCount | 21950                                                                                                                                                                                                                                                                                                                                                                                                                                                                                                                                                                                                                                                                                                                                                                                                                                                                                                                                                                                                                                                                                                                                                                                                                                                                                                                                                                                                                                                                                                                                                                                                                                                                                                                                                                                  \n duration     | PT2M33S                                                                                                                                                                                                                                                                                                                                                                                                                                                                                                                                                                                                                                                                                                                                                                                                                                                                                                                                                                                                                                                                                                                                                                                                                                                                                                                                                                                                                                                                                                                                                                                                                                                                                                                                                                                \n publishedAt  | 2025-07-17T16:05:00Z                                                                                                                                                                                                                                                                                                                                                                                                                                                                                                                                                                                                                                                                                                                                                                                                                                                                                                                                                                                                                                                                                                                                                                                                                                                                                                                                                                                                                                                                                                                                                                                                                                                                                                                                                                   \n channelTitle | Warner Bros.                                                                                                                                                                                                                                                                                                                                                                                                                                                                                                                                                                                                                                                                                                                                                                                                                                                                                                                                                                                                                                                                                                                                                                                                                                                                                                                                                                                                                                                                                                                                                                                                                                                                                                                                                                           \n title        | Mortal Kombat II | Official Trailer                                                                                                                                                                                                                                                                                                                                                                                                                                                                                                                                                                                                                                                                                                                                                                                                                                                                                                                                                                                                                                                                                                                                                                                                                                                                                                                                                                                                                                                                                                                                                                                                                                                                                                                                                    \n categoryId   | 1                                                                                                                                                                                                                                                                                                                                                                                                                                                                                                                                                                                                                                                                                                                                                                                                                                                                                                                                                                                                                                                                                                                                                                                                                                                                                                                                                                                                                                                                                                                                                                                                                                                                                                                                                                                      \n description  | It's called Mortal Kombat (II).\\nMortal Kombat II – only in theaters and @imax October 24. #MortalKombatMovie #FilmedForIMAX \\n\\nFrom New Line Cinema comes the latest high-stakes installment in the blockbuster video game franchise in all its brutal glory, Mortal Kombat II.  This time, the fan favorite champions—now joined by Johnny Cage himself—are pitted against one another in the ultimate, no-holds barred, gory battle to defeat the dark rule of Shao Kahn that threatens the very existence of the Earthrealm and its defenders.\\n\\nKarl Urban stars as Johnny Cage, alongside Adeline Rudolph, Jessica McNamee, Josh Lawson, Ludi Lin, Mehcad Brooks, Tati Gabrielle, Lewis Tan, Damon Herriman, with Chin Han, Tadanobu Asano as Lord Raiden, Joe Taslim as Bi-Han, and Hiroyuki Sanada as Hanzo Hasashi and Scorpion.\\n\\nDirector Simon McQuoid returns to helm the follow up to his explosive 2021 cinematic adventure, from a screenplay by Jeremy Slater, based on the videogame created by Ed Boon and John Tobias.  The film is produced by Todd Garner, James Wan, Toby Emmerich, E. Bennett Walsh and McQuoid, and executive produced by Michael Clear, Judson Scott, Slater and Lawrence Kasanoff.  \\n\\nJoining McQuoid behind the camera are director of photography Stephen F. Windon, production designer Yohei Taneda, editor Stuart Levy and costume designer Cappi Ireland, with casting by Rich Delia and music by Benjamin Wallfisch.\\n\\nNew Line Cinema Presents an Atomic Monster/Broken Road Production, a Fireside Films Production, Mortal Kombat II.  The film will be distributed worldwide by Warner Bros. Pictures, only in theaters and IMAX® across North America on October 24, 2025, and internationally beginning 22 October 2025. \nonly showing top 3 rows\n\n"
     ]
    }
   ],
   "source": [
    "casted_df2.select(\n",
    "    \"viewCount\", \"likeCount\", \"commentCount\",\n",
    "    \"duration\", \"publishedAt\", \"channelTitle\",\n",
    "    \"title\", \"categoryId\", \"description\"\n",
    ").show(3, truncate=False, vertical=True)"
   ]
  },
  {
   "cell_type": "code",
   "execution_count": 0,
   "metadata": {
    "application/vnd.databricks.v1+cell": {
     "cellMetadata": {
      "byteLimit": 2048000,
      "rowLimit": 10000
     },
     "inputWidgets": {},
     "nuid": "f6c0f78c-b6a5-4c4a-bae3-c1491b94086e",
     "showTitle": false,
     "tableResultSettingsMap": {},
     "title": ""
    }
   },
   "outputs": [
    {
     "output_type": "stream",
     "name": "stdout",
     "output_type": "stream",
     "text": [
      "+--------------------------------------------------------------------------+----------+\n|title                                                                     |duration  |\n+--------------------------------------------------------------------------+----------+\n|Huda: Love Island Tell All (Full Episode)                                 |PT1H54M19S|\n|Stephen Colbert Announces The Cancellation Of “The Late Show”             |PT2M27S   |\n|Mortal Kombat II | Official Trailer                                       |PT2M33S   |\n|Monster High Fright Song ft. KATSEYE | Official Music Video | Monster High|PT2M44S   |\n|Tron: Ares | Official Trailer                                             |PT2M25S   |\n|Stranger Things 5 | Official Teaser | Netflix                             |PT2M47S   |\n|Alex Warren - Eternity (Official Audio)                                   |PT3M10S   |\n|Amaya: Love Island Tell All (Full Episode)                                |PT1H13M43S|\n|The Open Championship 2025 highlights: Late First Round | Golf Channel    |PT19M47S  |\n|I Bought Every Fish From a Live Fish Vending Machine...                   |PT19M39S  |\n+--------------------------------------------------------------------------+----------+\nonly showing top 10 rows\n\n"
     ]
    }
   ],
   "source": [
    "casted_df2.select(\"title\", \"duration\").show(10, truncate=False)"
   ]
  },
  {
   "cell_type": "markdown",
   "metadata": {
    "application/vnd.databricks.v1+cell": {
     "cellMetadata": {},
     "inputWidgets": {},
     "nuid": "efcbf1fb-2562-4906-8f19-139707e3649c",
     "showTitle": false,
     "tableResultSettingsMap": {},
     "title": ""
    }
   },
   "source": [
    "# Convert duration (ISO 8601 format) to Total Seconds"
   ]
  },
  {
   "cell_type": "code",
   "execution_count": 0,
   "metadata": {
    "application/vnd.databricks.v1+cell": {
     "cellMetadata": {
      "byteLimit": 2048000,
      "rowLimit": 10000
     },
     "inputWidgets": {},
     "nuid": "aeadf585-d825-4717-b568-c524bbbe3336",
     "showTitle": false,
     "tableResultSettingsMap": {},
     "title": ""
    }
   },
   "outputs": [],
   "source": [
    "from pyspark.sql.functions import col, regexp_extract\n",
    "\n",
    "# Step 1: Extract raw duration string\n",
    "df_with_duration = casted_df2.withColumn(\"duration_raw\", col(\"duration\"))\n",
    "\n",
    "# Step 2: Extract hours, minutes, and seconds using regex\n",
    "df_parsed = df_with_duration \\\n",
    "    .withColumn(\"hours\", regexp_extract(col(\"duration_raw\"), r'PT(\\d+)H', 1).cast(\"int\")) \\\n",
    "    .withColumn(\"minutes\", regexp_extract(col(\"duration_raw\"), r'(?<=PT(\\d+H)?)?(\\d+)M', 2).cast(\"int\")) \\\n",
    "    .withColumn(\"seconds\", regexp_extract(col(\"duration_raw\"), r'(?<=M)?(\\d+)S', 1).cast(\"int\"))\n",
    "\n",
    "# Step 3: Replace nulls with 0\n",
    "df_filled = df_parsed.fillna({\"hours\": 0, \"minutes\": 0, \"seconds\": 0})\n",
    "\n",
    "# Step 4: Calculate total duration in seconds and overwrite `duration` column\n",
    "final_df = df_filled.withColumn(\n",
    "    \"duration\",\n",
    "    col(\"hours\") * 3600 + col(\"minutes\") * 60 + col(\"seconds\")\n",
    ")\n",
    "\n",
    "# Step 5: Drop temporary columns (if you want clean dataframe)\n",
    "final_df = final_df.drop(\"duration_raw\", \"hours\", \"minutes\", \"seconds\")\n",
    "\n",
    "#  Now update casted_df to this final version\n",
    "casted_df2 = final_df\n"
   ]
  },
  {
   "cell_type": "code",
   "execution_count": 0,
   "metadata": {
    "application/vnd.databricks.v1+cell": {
     "cellMetadata": {
      "byteLimit": 2048000,
      "rowLimit": 10000
     },
     "inputWidgets": {},
     "nuid": "4c1a7ea6-ecc9-42f7-b51a-f2191994de96",
     "showTitle": false,
     "tableResultSettingsMap": {},
     "title": ""
    }
   },
   "outputs": [
    {
     "output_type": "stream",
     "name": "stdout",
     "output_type": "stream",
     "text": [
      "+--------------------------------------------------------------------------+--------+\n|title                                                                     |duration|\n+--------------------------------------------------------------------------+--------+\n|Huda: Love Island Tell All (Full Episode)                                 |6859    |\n|Stephen Colbert Announces The Cancellation Of “The Late Show”             |147     |\n|Mortal Kombat II | Official Trailer                                       |153     |\n|Monster High Fright Song ft. KATSEYE | Official Music Video | Monster High|164     |\n|Tron: Ares | Official Trailer                                             |145     |\n|Stranger Things 5 | Official Teaser | Netflix                             |167     |\n|Alex Warren - Eternity (Official Audio)                                   |190     |\n|Amaya: Love Island Tell All (Full Episode)                                |4423    |\n|The Open Championship 2025 highlights: Late First Round | Golf Channel    |1187    |\n|I Bought Every Fish From a Live Fish Vending Machine...                   |1179    |\n+--------------------------------------------------------------------------+--------+\nonly showing top 10 rows\n\n"
     ]
    }
   ],
   "source": [
    "casted_df2.select(\"title\", \"duration\").show(10, truncate=False)"
   ]
  },
  {
   "cell_type": "markdown",
   "metadata": {
    "application/vnd.databricks.v1+cell": {
     "cellMetadata": {},
     "inputWidgets": {},
     "nuid": "f0129bf9-faf6-46e7-9efc-d81721d5396c",
     "showTitle": false,
     "tableResultSettingsMap": {},
     "title": ""
    }
   },
   "source": [
    "# in our data distinct categoryid available"
   ]
  },
  {
   "cell_type": "code",
   "execution_count": 0,
   "metadata": {
    "application/vnd.databricks.v1+cell": {
     "cellMetadata": {
      "byteLimit": 2048000,
      "rowLimit": 10000
     },
     "inputWidgets": {},
     "nuid": "3a0117c2-e00c-430d-b984-4b7dd4d3fea4",
     "showTitle": false,
     "tableResultSettingsMap": {},
     "title": ""
    }
   },
   "outputs": [
    {
     "output_type": "stream",
     "name": "stdout",
     "output_type": "stream",
     "text": [
      "Out[9]: 8"
     ]
    }
   ],
   "source": [
    "df.select(\"snippet.categoryId\").distinct().count()"
   ]
  },
  {
   "cell_type": "code",
   "execution_count": 0,
   "metadata": {
    "application/vnd.databricks.v1+cell": {
     "cellMetadata": {
      "byteLimit": 2048000,
      "rowLimit": 10000
     },
     "inputWidgets": {},
     "nuid": "eba3cf92-49e8-4ae2-a49b-0c1f1379dffa",
     "showTitle": false,
     "tableResultSettingsMap": {},
     "title": ""
    }
   },
   "outputs": [
    {
     "output_type": "stream",
     "name": "stdout",
     "output_type": "stream",
     "text": [
      "+----------+\n|categoryId|\n+----------+\n|22        |\n|28        |\n|17        |\n|23        |\n|24        |\n|1         |\n|20        |\n|10        |\n+----------+\n\n"
     ]
    }
   ],
   "source": [
    "df.select(\"snippet.categoryId\").distinct().show(truncate=False)"
   ]
  },
  {
   "cell_type": "markdown",
   "metadata": {
    "application/vnd.databricks.v1+cell": {
     "cellMetadata": {},
     "inputWidgets": {},
     "nuid": "4c29ef56-42cc-40ff-a7ef-7624e240ec2d",
     "showTitle": false,
     "tableResultSettingsMap": {},
     "title": ""
    }
   },
   "source": [
    "# Mapping distinct Categoryid to Category Name"
   ]
  },
  {
   "cell_type": "code",
   "execution_count": 0,
   "metadata": {
    "application/vnd.databricks.v1+cell": {
     "cellMetadata": {
      "byteLimit": 2048000,
      "rowLimit": 10000
     },
     "inputWidgets": {},
     "nuid": "d397d41f-447f-4fb6-99eb-795a83a77944",
     "showTitle": false,
     "tableResultSettingsMap": {},
     "title": ""
    }
   },
   "outputs": [],
   "source": [
    "from pyspark.sql.functions import when, col\n",
    "\n",
    "casted_df2 = casted_df2.withColumn(\n",
    "    \"categoryName\",\n",
    "    when(col(\"categoryId\") == \"1\", \"Film & Animation\")\n",
    "    .when(col(\"categoryId\") == \"10\", \"Music\")\n",
    "    .when(col(\"categoryId\") == \"17\", \"Sports\")\n",
    "    .when(col(\"categoryId\") == \"20\", \"Gaming\")\n",
    "    .when(col(\"categoryId\") == \"22\", \"People & Blogs\")\n",
    "    .when(col(\"categoryId\") == \"23\", \"Comedy\")\n",
    "    .when(col(\"categoryId\") == \"24\", \"Entertainment\")\n",
    "    .when(col(\"categoryId\") == \"28\", \"Science & Technology\")\n",
    "    .otherwise(\"Unknown\")\n",
    ")\n"
   ]
  },
  {
   "cell_type": "code",
   "execution_count": 0,
   "metadata": {
    "application/vnd.databricks.v1+cell": {
     "cellMetadata": {
      "byteLimit": 2048000,
      "rowLimit": 10000
     },
     "inputWidgets": {},
     "nuid": "f02c03ff-f476-4567-8124-771c10957517",
     "showTitle": false,
     "tableResultSettingsMap": {},
     "title": ""
    }
   },
   "outputs": [
    {
     "output_type": "stream",
     "name": "stdout",
     "output_type": "stream",
     "text": [
      "+--------------------+-----+\n|categoryName        |count|\n+--------------------+-----+\n|Gaming              |9    |\n|Entertainment       |18   |\n|Science & Technology|3    |\n|Sports              |5    |\n|Film & Animation    |3    |\n|People & Blogs      |4    |\n|Music               |7    |\n|Comedy              |1    |\n+--------------------+-----+\n\n"
     ]
    }
   ],
   "source": [
    "casted_df2.groupBy(\"categoryName\").count().show(truncate=False)"
   ]
  },
  {
   "cell_type": "markdown",
   "metadata": {
    "application/vnd.databricks.v1+cell": {
     "cellMetadata": {},
     "inputWidgets": {},
     "nuid": "7691bdc5-632e-4adf-88e4-14acf9b0b706",
     "showTitle": false,
     "tableResultSettingsMap": {},
     "title": ""
    }
   },
   "source": [
    "# convert publishAt col to time stamp"
   ]
  },
  {
   "cell_type": "code",
   "execution_count": 0,
   "metadata": {
    "application/vnd.databricks.v1+cell": {
     "cellMetadata": {
      "byteLimit": 2048000,
      "rowLimit": 10000
     },
     "inputWidgets": {},
     "nuid": "3df5497b-bb19-4755-9a15-2c4b0cc23d39",
     "showTitle": false,
     "tableResultSettingsMap": {},
     "title": ""
    }
   },
   "outputs": [],
   "source": [
    "from pyspark.sql.functions import col, to_timestamp, to_date, year, month\n",
    "\n",
    "# Step 1: Convert to timestamp\n",
    "casted_df2 = casted_df2.withColumn(\"publishedAt_ts\", to_timestamp(col(\"publishedAt\"), \"yyyy-MM-dd'T'HH:mm:ss'Z'\"))\n",
    "\n",
    "# Step 2: Extract only the date part\n",
    "casted_df2 = casted_df2.withColumn(\"publishedDate\", to_date(col(\"publishedAt_ts\")))\n",
    "\n",
    "# Step 3: Extract year and month from publishedDate\n",
    "casted_df2 = casted_df2.withColumn(\"year\", year(\"publishedDate\")) \\\n",
    "                     .withColumn(\"month\", month(\"publishedDate\"))\n",
    "\n",
    "# Step 4: Drop original publishedAt and timestamp\n",
    "casted_df2 = casted_df2.drop(\"publishedAt\", \"publishedAt_ts\")"
   ]
  },
  {
   "cell_type": "code",
   "execution_count": 0,
   "metadata": {
    "application/vnd.databricks.v1+cell": {
     "cellMetadata": {
      "byteLimit": 2048000,
      "rowLimit": 10000
     },
     "inputWidgets": {},
     "nuid": "d8490bd4-b104-4d20-bb9b-d6dcb3e2dd8b",
     "showTitle": false,
     "tableResultSettingsMap": {},
     "title": ""
    }
   },
   "outputs": [
    {
     "output_type": "stream",
     "name": "stdout",
     "output_type": "stream",
     "text": [
      "-RECORD 0-----------------------------------------------------------------------------------------------------------------------------------------------------------------------------------------------------------------------------------------------------------------------------------------------------------------------------------------------------------------------------------------------------------------------------------------------------------------------------------------------------------------------------------------------------------------------------------------------------------------------------------------------------------------------------------------------------------------------------------------------------------------------------------------------------------------------------------------------------------------------------------------------------------------------------------------------------------------------------------------------------------------------------------------------------------------------------------------------------------------------------------------------------------------------------------------------------------------------------------------------------------------------------------------------------------------------------------------------------------------------------------------------------------------------------------------------------------------------------------------------------------------------------------------------------------------------------------------------------------------------------------------------------------------------------------------------------------------------------------------------------------------------------------------------\n viewCount     | 4672616                                                                                                                                                                                                                                                                                                                                                                                                                                                                                                                                                                                                                                                                                                                                                                                                                                                                                                                                                                                                                                                                                                                                                                                                                                                                                                                                                                                                                                                                                                                                                                                                                                                                                                                                                                                \n likeCount     | 120088                                                                                                                                                                                                                                                                                                                                                                                                                                                                                                                                                                                                                                                                                                                                                                                                                                                                                                                                                                                                                                                                                                                                                                                                                                                                                                                                                                                                                                                                                                                                                                                                                                                                                                                                                                                 \n commentCount  | 18283                                                                                                                                                                                                                                                                                                                                                                                                                                                                                                                                                                                                                                                                                                                                                                                                                                                                                                                                                                                                                                                                                                                                                                                                                                                                                                                                                                                                                                                                                                                                                                                                                                                                                                                                                                                  \n duration      | 6859                                                                                                                                                                                                                                                                                                                                                                                                                                                                                                                                                                                                                                                                                                                                                                                                                                                                                                                                                                                                                                                                                                                                                                                                                                                                                                                                                                                                                                                                                                                                                                                                                                                                                                                                                                                   \n publishedDate | 2025-07-17                                                                                                                                                                                                                                                                                                                                                                                                                                                                                                                                                                                                                                                                                                                                                                                                                                                                                                                                                                                                                                                                                                                                                                                                                                                                                                                                                                                                                                                                                                                                                                                                                                                                                                                                                                             \n channelTitle  | Call Her Daddy                                                                                                                                                                                                                                                                                                                                                                                                                                                                                                                                                                                                                                                                                                                                                                                                                                                                                                                                                                                                                                                                                                                                                                                                                                                                                                                                                                                                                                                                                                                                                                                                                                                                                                                                                                         \n title         | Huda: Love Island Tell All (Full Episode)                                                                                                                                                                                                                                                                                                                                                                                                                                                                                                                                                                                                                                                                                                                                                                                                                                                                                                                                                                                                                                                                                                                                                                                                                                                                                                                                                                                                                                                                                                                                                                                                                                                                                                                                              \n categoryId    | 24                                                                                                                                                                                                                                                                                                                                                                                                                                                                                                                                                                                                                                                                                                                                                                                                                                                                                                                                                                                                                                                                                                                                                                                                                                                                                                                                                                                                                                                                                                                                                                                                                                                                                                                                                                                     \n description   | You’re welcome x2\\n\\nThis episode includes discussion about domestic violence, suicidal ideation, and eating disorders. Please keep this in mind when deciding if, how, and when you’ll listen.                                                                                                                                                                                                                                                                                                                                                                                                                                                                                                                                                                                                                                                                                                                                                                                                                                                                                                                                                                                                                                                                                                                                                                                                                                                                                                                                                                                                                                                                                                                                                                                        \n categoryName  | Entertainment                                                                                                                                                                                                                                                                                                                                                                                                                                                                                                                                                                                                                                                                                                                                                                                                                                                                                                                                                                                                                                                                                                                                                                                                                                                                                                                                                                                                                                                                                                                                                                                                                                                                                                                                                                          \n-RECORD 1-----------------------------------------------------------------------------------------------------------------------------------------------------------------------------------------------------------------------------------------------------------------------------------------------------------------------------------------------------------------------------------------------------------------------------------------------------------------------------------------------------------------------------------------------------------------------------------------------------------------------------------------------------------------------------------------------------------------------------------------------------------------------------------------------------------------------------------------------------------------------------------------------------------------------------------------------------------------------------------------------------------------------------------------------------------------------------------------------------------------------------------------------------------------------------------------------------------------------------------------------------------------------------------------------------------------------------------------------------------------------------------------------------------------------------------------------------------------------------------------------------------------------------------------------------------------------------------------------------------------------------------------------------------------------------------------------------------------------------------------------------------------------------------------------\n viewCount     | 2623291                                                                                                                                                                                                                                                                                                                                                                                                                                                                                                                                                                                                                                                                                                                                                                                                                                                                                                                                                                                                                                                                                                                                                                                                                                                                                                                                                                                                                                                                                                                                                                                                                                                                                                                                                                                \n likeCount     | 125258                                                                                                                                                                                                                                                                                                                                                                                                                                                                                                                                                                                                                                                                                                                                                                                                                                                                                                                                                                                                                                                                                                                                                                                                                                                                                                                                                                                                                                                                                                                                                                                                                                                                                                                                                                                 \n commentCount  | 37158                                                                                                                                                                                                                                                                                                                                                                                                                                                                                                                                                                                                                                                                                    \n\n*** WARNING: max output size exceeded, skipping output. ***\n\n                                                                                                                                                                                                                                                                                                                                                                                                                                                                                                                                                                                                                                                                                \n categoryId    | 24                                                                                                                                                                                                                                                                                                                                                                                                                                                                                                                                                                                                                                                                                                                                                                                                                                                                                                                                                                                                                                                                                                                                                                                                                                                                                                                                                                                                                                                                                                                                                                                                                                                                                                                                                                                     \n description   | Stephen Colbert tells his audience that the next season of “The Late Show” will be the last, and that the series will end in May 2026.\\n\\n#Colbert #Comedy #StephenColbert #TheLateShow\\n\\nSubscribe To \"The Late Show\" Channel: http://bit.ly/ColbertYouTube\\n\\nWatch full episodes of \"The Late Show\": http://bit.ly/1Puei40\\nListen to \"The Late Show Pod Show\" podcast: https://link.chtbl.com/Awagtx95?sid=yt\\nLike \"The Late Show\" on Facebook: http://on.fb.me/1df139Y\\nFollow \"The Late Show\" on X: http://bit.ly/1dMzZzG\\nFollow \"The Late Show\" on Instagram: http://bit.ly/29wfREj\\n\\nWatch The Late Show with Stephen Colbert weeknights at 11:35 PM ET/10:35 PM CT. Only on CBS.\\n\\n---\\nStephen Colbert brings his signature satire and comedy to THE LATE SHOW with STEPHEN COLBERT, the #1 show in late night, where he talks with an eclectic mix of guests about what is new and relevant in the worlds of politics, entertainment, business, music, technology and more. Featuring bandleader Louis Cato and “THE LATE SHOW band,” the Peabody Award-winning and Emmy Award-nominated show is broadcast from the historic Ed Sullivan Theater. Stephen Colbert took over as host, executive producer and writer of THE LATE SHOW on Sept. 8, 2015.                                                                                                                                                                                                                                                                                                                                                                                                                                                                                                                  \n categoryName  | Entertainment                                                                                                                                                                                                                                                                                                                                                                                                                                                                                                                                                                                                                                                                                                                                                                                                                                                                                                                                                                                                                                                                                                                                                                                                                                                                                                                                                                                                                                                                                                                                                                                                                                                                                                                                                                          \n-RECORD 2-----------------------------------------------------------------------------------------------------------------------------------------------------------------------------------------------------------------------------------------------------------------------------------------------------------------------------------------------------------------------------------------------------------------------------------------------------------------------------------------------------------------------------------------------------------------------------------------------------------------------------------------------------------------------------------------------------------------------------------------------------------------------------------------------------------------------------------------------------------------------------------------------------------------------------------------------------------------------------------------------------------------------------------------------------------------------------------------------------------------------------------------------------------------------------------------------------------------------------------------------------------------------------------------------------------------------------------------------------------------------------------------------------------------------------------------------------------------------------------------------------------------------------------------------------------------------------------------------------------------------------------------------------------------------------------------------------------------------------------------------------------------------------------------------\n viewCount     | 7245936                                                                                                                                                                                                                                                                                                                                                                                                                                                                                                                                                                                                                                                                                                                                                                                                                                                                                                                                                                                                                                                                                                                                                                                                                                                                                                                                                                                                                                                                                                                                                                                                                                                                                                                                                                                \n likeCount     | 270309                                                                                                                                                                                                                                                                                                                                                                                                                                                                                                                                                                                                                                                                                                                                                                                                                                                                                                                                                                                                                                                                                                                                                                                                                                                                                                                                                                                                                                                                                                                                                                                                                                                                                                                                                                                 \n commentCount  | 21950                                                                                                                                                                                                                                                                                                                                                                                                                                                                                                                                                                                                                                                                                                                                                                                                                                                                                                                                                                                                                                                                                                                                                                                                                                                                                                                                                                                                                                                                                                                                                                                                                                                                                                                                                                                  \n duration      | 153                                                                                                                                                                                                                                                                                                                                                                                                                                                                                                                                                                                                                                                                                                                                                                                                                                                                                                                                                                                                                                                                                                                                                                                                                                                                                                                                                                                                                                                                                                                                                                                                                                                                                                                                                                                    \n publishedDate | 2025-07-17                                                                                                                                                                                                                                                                                                                                                                                                                                                                                                                                                                                                                                                                                                                                                                                                                                                                                                                                                                                                                                                                                                                                                                                                                                                                                                                                                                                                                                                                                                                                                                                                                                                                                                                                                                             \n channelTitle  | Warner Bros.                                                                                                                                                                                                                                                                                                                                                                                                                                                                                                                                                                                                                                                                                                                                                                                                                                                                                                                                                                                                                                                                                                                                                                                                                                                                                                                                                                                                                                                                                                                                                                                                                                                                                                                                                                           \n title         | Mortal Kombat II | Official Trailer                                                                                                                                                                                                                                                                                                                                                                                                                                                                                                                                                                                                                                                                                                                                                                                                                                                                                                                                                                                                                                                                                                                                                                                                                                                                                                                                                                                                                                                                                                                                                                                                                                                                                                                                                    \n categoryId    | 1                                                                                                                                                                                                                                                                                                                                                                                                                                                                                                                                                                                                                                                                                                                                                                                                                                                                                                                                                                                                                                                                                                                                                                                                                                                                                                                                                                                                                                                                                                                                                                                                                                                                                                                                                                                      \n description   | It's called Mortal Kombat (II).\\nMortal Kombat II – only in theaters and @imax October 24. #MortalKombatMovie #FilmedForIMAX \\n\\nFrom New Line Cinema comes the latest high-stakes installment in the blockbuster video game franchise in all its brutal glory, Mortal Kombat II.  This time, the fan favorite champions—now joined by Johnny Cage himself—are pitted against one another in the ultimate, no-holds barred, gory battle to defeat the dark rule of Shao Kahn that threatens the very existence of the Earthrealm and its defenders.\\n\\nKarl Urban stars as Johnny Cage, alongside Adeline Rudolph, Jessica McNamee, Josh Lawson, Ludi Lin, Mehcad Brooks, Tati Gabrielle, Lewis Tan, Damon Herriman, with Chin Han, Tadanobu Asano as Lord Raiden, Joe Taslim as Bi-Han, and Hiroyuki Sanada as Hanzo Hasashi and Scorpion.\\n\\nDirector Simon McQuoid returns to helm the follow up to his explosive 2021 cinematic adventure, from a screenplay by Jeremy Slater, based on the videogame created by Ed Boon and John Tobias.  The film is produced by Todd Garner, James Wan, Toby Emmerich, E. Bennett Walsh and McQuoid, and executive produced by Michael Clear, Judson Scott, Slater and Lawrence Kasanoff.  \\n\\nJoining McQuoid behind the camera are director of photography Stephen F. Windon, production designer Yohei Taneda, editor Stuart Levy and costume designer Cappi Ireland, with casting by Rich Delia and music by Benjamin Wallfisch.\\n\\nNew Line Cinema Presents an Atomic Monster/Broken Road Production, a Fireside Films Production, Mortal Kombat II.  The film will be distributed worldwide by Warner Bros. Pictures, only in theaters and IMAX® across North America on October 24, 2025, and internationally beginning 22 October 2025. \n categoryName  | Film & Animation                                                                                                                                                                                                                                                                                                                                                                                                                                                                                                                                                                                                                                                                                                                                                                                                                                                                                                                                                                                                                                                                                                                                                                                                                                                                                                                                                                                                                                                                                                                                                                                                                                                                                                                                                                       \nonly showing top 3 rows\n\n"
     ]
    }
   ],
   "source": [
    "casted_df2.select(\n",
    "    \"viewCount\", \"likeCount\", \"commentCount\",\n",
    "    \"duration\", \"publishedDate\", \"channelTitle\",\n",
    "    \"title\", \"categoryId\", \"description\", \"categoryName\"\n",
    ").show(3, truncate=False, vertical=True)"
   ]
  },
  {
   "cell_type": "code",
   "execution_count": 0,
   "metadata": {
    "application/vnd.databricks.v1+cell": {
     "cellMetadata": {
      "byteLimit": 2048000,
      "rowLimit": 10000
     },
     "inputWidgets": {},
     "nuid": "a40e076f-d91f-4047-a3d8-78afa2dc3b6f",
     "showTitle": false,
     "tableResultSettingsMap": {},
     "title": ""
    }
   },
   "outputs": [
    {
     "output_type": "stream",
     "name": "stdout",
     "output_type": "stream",
     "text": [
      "+--------------+--------------+-----------------+-------------+------------+-----------------+------------------+---------+----------+\n|null_viewCount|null_likeCount|null_commentCount|null_duration|null_caption|null_categoryName|null_publishedDate|null_year|null_month|\n+--------------+--------------+-----------------+-------------+------------+-----------------+------------------+---------+----------+\n|             0|             0|                0|            0|           0|                0|                 0|        0|         0|\n+--------------+--------------+-----------------+-------------+------------+-----------------+------------------+---------+----------+\n\n"
     ]
    }
   ],
   "source": [
    "from pyspark.sql.functions import col, count, when\n",
    "\n",
    "# Check null values for all relevant columns\n",
    "casted_df2.select([\n",
    "    count(when(col(\"viewCount\").isNull(), 1)).alias(\"null_viewCount\"),\n",
    "    count(when(col(\"likeCount\").isNull(), 1)).alias(\"null_likeCount\"),\n",
    "    count(when(col(\"commentCount\").isNull(), 1)).alias(\"null_commentCount\"),\n",
    "    count(when(col(\"duration\").isNull(), 1)).alias(\"null_duration\"),\n",
    "    count(when(col(\"caption\").isNull(), 1)).alias(\"null_caption\"),\n",
    "    count(when(col(\"categoryName\").isNull(), 1)).alias(\"null_categoryName\"),\n",
    "    count(when(col(\"publishedDate\").isNull(), 1)).alias(\"null_publishedDate\"),\n",
    "    count(when(col(\"year\").isNull(), 1)).alias(\"null_year\"),\n",
    "    count(when(col(\"month\").isNull(), 1)).alias(\"null_month\")\n",
    "]).show()"
   ]
  },
  {
   "cell_type": "markdown",
   "metadata": {
    "application/vnd.databricks.v1+cell": {
     "cellMetadata": {},
     "inputWidgets": {},
     "nuid": "b61dd461-a595-43c4-a9d5-8df662db0470",
     "showTitle": false,
     "tableResultSettingsMap": {},
     "title": ""
    }
   },
   "source": [
    "# Engegment Analysis"
   ]
  },
  {
   "cell_type": "markdown",
   "metadata": {
    "application/vnd.databricks.v1+cell": {
     "cellMetadata": {},
     "inputWidgets": {},
     "nuid": "292b0471-0144-4eab-8c18-37ade479f705",
     "showTitle": false,
     "tableResultSettingsMap": {},
     "title": ""
    }
   },
   "source": [
    "# Top Channels by Total Views"
   ]
  },
  {
   "cell_type": "code",
   "execution_count": 0,
   "metadata": {
    "application/vnd.databricks.v1+cell": {
     "cellMetadata": {
      "byteLimit": 2048000,
      "rowLimit": 10000
     },
     "inputWidgets": {},
     "nuid": "4b9e4962-37c7-444f-a2a8-7d943e2ee985",
     "showTitle": false,
     "tableResultSettingsMap": {},
     "title": ""
    }
   },
   "outputs": [
    {
     "output_type": "stream",
     "name": "stdout",
     "output_type": "stream",
     "text": [
      "+----------------------------------+----------+\n|channelTitle                      |totalViews|\n+----------------------------------+----------+\n|Netflix                           |14269445  |\n|Warner Bros.                      |7245936   |\n|Call Her Daddy                    |6892201   |\n|Disney                            |6385779   |\n|EA SPORTS FC                      |5607960   |\n|Pixar                             |4591295   |\n|FX Networks                       |4095561   |\n|IGN                               |3921003   |\n|Vsauce                            |3100641   |\n|The Late Show with Stephen Colbert|2623291   |\n|MLB                               |1910577   |\n|Ryan Trahan                       |1575509   |\n|Neutro Shorty                     |1340872   |\n|MileyCyrusVEVO                    |969788    |\n|Monster High                      |865237    |\n|SMii7Yplus                        |851355    |\n|theneedledrop                     |809080    |\n|Jake Webber                       |761597    |\n|Fanatiz                           |705728    |\n|Tom Stanton                       |689822    |\n+----------------------------------+----------+\nonly showing top 20 rows\n\n"
     ]
    }
   ],
   "source": [
    "top_channels = casted_df2.groupBy(\"channelTitle\") \\\n",
    "    .sum(\"viewCount\") \\\n",
    "    .withColumnRenamed(\"sum(viewCount)\", \"totalViews\") \\\n",
    "    .orderBy(col(\"totalViews\").desc())\n",
    "\n",
    "top_channels.show(20, truncate=False)\n"
   ]
  },
  {
   "cell_type": "markdown",
   "metadata": {
    "application/vnd.databricks.v1+cell": {
     "cellMetadata": {},
     "inputWidgets": {},
     "nuid": "7fc38aa3-3020-4dc9-9040-b822d2633791",
     "showTitle": false,
     "tableResultSettingsMap": {},
     "title": ""
    }
   },
   "source": [
    "# Top channels by total likes"
   ]
  },
  {
   "cell_type": "code",
   "execution_count": 0,
   "metadata": {
    "application/vnd.databricks.v1+cell": {
     "cellMetadata": {
      "byteLimit": 2048000,
      "rowLimit": 10000
     },
     "inputWidgets": {},
     "nuid": "101ca613-58b3-4f6a-9435-4a410d6626f8",
     "showTitle": false,
     "tableResultSettingsMap": {},
     "title": ""
    }
   },
   "outputs": [
    {
     "output_type": "stream",
     "name": "stdout",
     "output_type": "stream",
     "text": [
      "+----------------------------------+----------+\n|channelTitle                      |totalLikes|\n+----------------------------------+----------+\n|Netflix                           |668886    |\n|Vsauce                            |370710    |\n|Warner Bros.                      |270309    |\n|EA SPORTS FC                      |238643    |\n|Monster High                      |182106    |\n|Call Her Daddy                    |181429    |\n|Neutro Shorty                     |177218    |\n|The Late Show with Stephen Colbert|125258    |\n|IGN                               |111672    |\n|Disney                            |92490     |\n+----------------------------------+----------+\nonly showing top 10 rows\n\n"
     ]
    }
   ],
   "source": [
    "top_liked_channels = casted_df2.groupBy(\"channelTitle\") \\\n",
    "    .sum(\"likeCount\") \\\n",
    "    .withColumnRenamed(\"sum(likeCount)\", \"totalLikes\") \\\n",
    "    .orderBy(col(\"totalLikes\").desc())\n",
    "top_liked_channels.show(10, truncate=False)"
   ]
  },
  {
   "cell_type": "markdown",
   "metadata": {
    "application/vnd.databricks.v1+cell": {
     "cellMetadata": {},
     "inputWidgets": {},
     "nuid": "48a0b3fc-3f95-4cb3-a0b1-7d3ee772c00a",
     "showTitle": false,
     "tableResultSettingsMap": {},
     "title": ""
    }
   },
   "source": [
    "# Most Liked Videos"
   ]
  },
  {
   "cell_type": "code",
   "execution_count": 0,
   "metadata": {
    "application/vnd.databricks.v1+cell": {
     "cellMetadata": {
      "byteLimit": 2048000,
      "rowLimit": 10000
     },
     "inputWidgets": {},
     "nuid": "05a67acc-11c0-4a5c-8c01-153450fe269b",
     "showTitle": false,
     "tableResultSettingsMap": {},
     "title": ""
    }
   },
   "outputs": [],
   "source": [
    "# Here we can find top 5 most liked videos along with its title and chanelTitle "
   ]
  },
  {
   "cell_type": "code",
   "execution_count": 0,
   "metadata": {
    "application/vnd.databricks.v1+cell": {
     "cellMetadata": {
      "byteLimit": 2048000,
      "rowLimit": 10000
     },
     "inputWidgets": {},
     "nuid": "783ae0b8-8d9f-41e3-8a99-2c3ffd7fbab8",
     "showTitle": false,
     "tableResultSettingsMap": {},
     "title": ""
    }
   },
   "outputs": [
    {
     "output_type": "stream",
     "name": "stdout",
     "output_type": "stream",
     "text": [
      "+--------------------------------------------------------------------------+------------+----------------+---------+\n|title                                                                     |channelTitle|categoryName    |likeCount|\n+--------------------------------------------------------------------------+------------+----------------+---------+\n|Stranger Things 5 | Official Teaser | Netflix                             |Netflix     |Entertainment   |668886   |\n|All The Ghosts You Will Be                                                |Vsauce      |Entertainment   |370710   |\n|Mortal Kombat II | Official Trailer                                       |Warner Bros.|Film & Animation|270309   |\n|EA SPORTS FC 26 | Official Reveal Trailer                                 |EA SPORTS FC|Gaming          |238643   |\n|Monster High Fright Song ft. KATSEYE | Official Music Video | Monster High|Monster High|Entertainment   |182106   |\n+--------------------------------------------------------------------------+------------+----------------+---------+\nonly showing top 5 rows\n\n"
     ]
    }
   ],
   "source": [
    "most_liked = casted_df2.orderBy(col(\"likeCount\").desc())\n",
    "most_liked.select(\"title\", \"channelTitle\", \"categoryName\", \"likeCount\").show(5, truncate=False)"
   ]
  },
  {
   "cell_type": "markdown",
   "metadata": {
    "application/vnd.databricks.v1+cell": {
     "cellMetadata": {},
     "inputWidgets": {},
     "nuid": "6107156f-7f41-4f64-871c-e93a330eda4c",
     "showTitle": false,
     "tableResultSettingsMap": {},
     "title": ""
    }
   },
   "source": [
    "# Top videos by comment count"
   ]
  },
  {
   "cell_type": "code",
   "execution_count": 0,
   "metadata": {
    "application/vnd.databricks.v1+cell": {
     "cellMetadata": {
      "byteLimit": 2048000,
      "rowLimit": 10000
     },
     "inputWidgets": {},
     "nuid": "cbea6a8f-634a-472b-9c15-9ae03a0e642b",
     "showTitle": false,
     "tableResultSettingsMap": {},
     "title": ""
    }
   },
   "outputs": [
    {
     "output_type": "stream",
     "name": "stdout",
     "output_type": "stream",
     "text": [
      "+-------------------------------------------------------------+----------------------------------+------------+\n|title                                                        |channelTitle                      |commentCount|\n+-------------------------------------------------------------+----------------------------------+------------+\n|Stranger Things 5 | Official Teaser | Netflix                |Netflix                           |38411       |\n|Stephen Colbert Announces The Cancellation Of “The Late Show”|The Late Show with Stephen Colbert|37158       |\n|All The Ghosts You Will Be                                   |Vsauce                            |36579       |\n|Mortal Kombat II | Official Trailer                          |Warner Bros.                      |21950       |\n|EA SPORTS FC 26 | Official Reveal Trailer                    |EA SPORTS FC                      |21063       |\n+-------------------------------------------------------------+----------------------------------+------------+\nonly showing top 5 rows\n\n"
     ]
    }
   ],
   "source": [
    "most_commented = casted_df2.orderBy(col(\"commentCount\").desc())\n",
    "most_commented.select(\"title\", \"channelTitle\", \"commentCount\").show(5, truncate=False)"
   ]
  },
  {
   "cell_type": "markdown",
   "metadata": {
    "application/vnd.databricks.v1+cell": {
     "cellMetadata": {},
     "inputWidgets": {},
     "nuid": "e8492add-4e83-444f-b87b-ec5051952c0e",
     "showTitle": false,
     "tableResultSettingsMap": {},
     "title": ""
    }
   },
   "source": [
    "# Like to View ratio (engagement rate)"
   ]
  },
  {
   "cell_type": "code",
   "execution_count": 0,
   "metadata": {
    "application/vnd.databricks.v1+cell": {
     "cellMetadata": {
      "byteLimit": 2048000,
      "rowLimit": 10000
     },
     "inputWidgets": {},
     "nuid": "f83a2d28-aeca-4426-b58e-2f76a89f17d1",
     "showTitle": false,
     "tableResultSettingsMap": {},
     "title": ""
    }
   },
   "outputs": [
    {
     "output_type": "stream",
     "name": "stdout",
     "output_type": "stream",
     "text": [
      "+----------------------------------------------------------------------------+-------------------+-------------------+\n|title                                                                       |channelTitle       |likeViewRatio      |\n+----------------------------------------------------------------------------+-------------------+-------------------+\n|Monster High Fright Song ft. KATSEYE | Official Music Video | Monster High  |Monster High       |0.2104695014198422 |\n|Yeat & BNYX® - IM YEAT (Real Lyfe Shit)                                     |Yeat Music         |0.15190918869084205|\n|Neutro Shorty - PRÉNDELO PINGÜINO (Video Oficial)                           |Neutro Shorty      |0.1321662321235733 |\n|Eddsworld - Tales Of Terror                                                 |Eddsworld          |0.12327502495999562|\n|All The Ghosts You Will Be                                                  |Vsauce             |0.11955914922108042|\n|$uicideboy$ Want to \"Save 100,000 Souls\" In Their Lifetime | Billboard Cover|Billboard          |0.10801464835999591|\n|Alex Warren - Eternity (Official Audio)                                     |Alex Warren        |0.10312278088574052|\n|Fake Bear Trap Camping                                                      |Steve Wallis       |0.09437414712814787|\n|Nine Inch Nails - As Alive As You Need Me To Be (Official Lyric Video)      |Nine Inch Nails    |0.09139773305474662|\n|BabyChiefDoit - Lunch Break Freestyle (Lyrical Lemonade Exclusive)          |Lyrical Lemonade TV|0.08879753858569556|\n+----------------------------------------------------------------------------+-------------------+-------------------+\nonly showing top 10 rows\n\n"
     ]
    }
   ],
   "source": [
    "from pyspark.sql.functions import expr\n",
    "\n",
    "engagement_df = casted_df2.withColumn(\"likeViewRatio\", expr(\"likeCount / viewCount\"))\n",
    "engagement_df.orderBy(col(\"likeViewRatio\").desc()).select(\"title\", \"channelTitle\", \"likeViewRatio\").show(10, truncate=False)"
   ]
  },
  {
   "cell_type": "markdown",
   "metadata": {
    "application/vnd.databricks.v1+cell": {
     "cellMetadata": {},
     "inputWidgets": {},
     "nuid": "1686796c-5320-4cdc-91aa-356a48a889d5",
     "showTitle": false,
     "tableResultSettingsMap": {},
     "title": ""
    }
   },
   "source": [
    "# Analysis based on categories"
   ]
  },
  {
   "cell_type": "markdown",
   "metadata": {
    "application/vnd.databricks.v1+cell": {
     "cellMetadata": {},
     "inputWidgets": {},
     "nuid": "f4a17f74-3a40-43ef-8cda-5076a6efdb8f",
     "showTitle": false,
     "tableResultSettingsMap": {},
     "title": ""
    }
   },
   "source": [
    "# Top Categories by Likes"
   ]
  },
  {
   "cell_type": "code",
   "execution_count": 0,
   "metadata": {
    "application/vnd.databricks.v1+cell": {
     "cellMetadata": {
      "byteLimit": 2048000,
      "rowLimit": 10000
     },
     "inputWidgets": {},
     "nuid": "6b65a592-3300-4560-a919-4cc50c894ecf",
     "showTitle": false,
     "tableResultSettingsMap": {},
     "title": ""
    }
   },
   "outputs": [
    {
     "output_type": "stream",
     "name": "stdout",
     "output_type": "stream",
     "text": [
      "+--------------------+--------------------+----------+\n|        categoryName|        channelTitle|totalLikes|\n+--------------------+--------------------+----------+\n|       Entertainment|             Netflix|    668886|\n|       Entertainment|              Vsauce|    370710|\n|    Film & Animation|        Warner Bros.|    270309|\n|              Gaming|        EA SPORTS FC|    238643|\n|       Entertainment|        Monster High|    182106|\n|       Entertainment|      Call Her Daddy|    181429|\n|               Music|       Neutro Shorty|    177218|\n|       Entertainment|The Late Show wit...|    125258|\n|       Entertainment|                 IGN|    111672|\n|       Entertainment|              Disney|     92490|\n|    Film & Animation|           Eddsworld|     72108|\n|       Entertainment|         Ryan Trahan|     69377|\n|               Music|      MileyCyrusVEVO|     62608|\n|              Gaming|          SMii7Yplus|     56201|\n|    Film & Animation|               Pixar|     55217|\n|              Gaming|                 3FS|     50940|\n|               Music|       theneedledrop|     49754|\n|               Music|          Yeat Music|     47454|\n|Science & Technology|         Tom Stanton|     38444|\n|      People & Blogs|        Steve Wallis|     36516|\n+--------------------+--------------------+----------+\nonly showing top 20 rows\n\n"
     ]
    }
   ],
   "source": [
    "from pyspark.sql.functions import sum\n",
    "\n",
    "casted_df2.groupBy(\"categoryName\",\"channelTitle\") \\\n",
    "    .agg(sum(\"likeCount\").alias(\"totalLikes\")) \\\n",
    "    .orderBy(\"totalLikes\", ascending=False) \\\n",
    "    .show()"
   ]
  },
  {
   "cell_type": "markdown",
   "metadata": {
    "application/vnd.databricks.v1+cell": {
     "cellMetadata": {},
     "inputWidgets": {},
     "nuid": "f778e262-a165-4db6-935a-609f71a25b25",
     "showTitle": false,
     "tableResultSettingsMap": {},
     "title": ""
    }
   },
   "source": [
    "# Top Categories by Comments"
   ]
  },
  {
   "cell_type": "code",
   "execution_count": 0,
   "metadata": {
    "application/vnd.databricks.v1+cell": {
     "cellMetadata": {
      "byteLimit": 2048000,
      "rowLimit": 10000
     },
     "inputWidgets": {},
     "nuid": "fe060528-01a4-48be-a1ef-de0b93e0f82f",
     "showTitle": false,
     "tableResultSettingsMap": {},
     "title": ""
    }
   },
   "outputs": [
    {
     "output_type": "stream",
     "name": "stdout",
     "output_type": "stream",
     "text": [
      "+----------------+--------------------+-------------+\n|    categoryName|        channelTitle|totalComments|\n+----------------+--------------------+-------------+\n|   Entertainment|             Netflix|        38411|\n|   Entertainment|The Late Show wit...|        37158|\n|   Entertainment|              Vsauce|        36579|\n|   Entertainment|      Call Her Daddy|        23290|\n|Film & Animation|        Warner Bros.|        21950|\n|          Gaming|        EA SPORTS FC|        21063|\n|           Music|       Neutro Shorty|        17694|\n|   Entertainment|                 IGN|         9675|\n|   Entertainment|         Ryan Trahan|         8885|\n|   Entertainment|              Disney|         8672|\n|           Music|       theneedledrop|         6501|\n|          Gaming|                 3FS|         6163|\n|Film & Animation|           Eddsworld|         5958|\n|           Music|      MileyCyrusVEVO|         5909|\n|Film & Animation|               Pixar|         5620|\n|  People & Blogs|        Steve Wallis|         4066|\n|           Music|          Yeat Music|         3792|\n|   Entertainment|         Jake Webber|         3746|\n|   Entertainment|    Access Hollywood|         3515|\n|   Entertainment|     Nine Inch Nails|         3069|\n+----------------+--------------------+-------------+\nonly showing top 20 rows\n\n"
     ]
    }
   ],
   "source": [
    "casted_df2.groupBy(\"categoryName\",\"channelTitle\") \\\n",
    "    .agg(sum(\"commentCount\").alias(\"totalComments\")) \\\n",
    "    .orderBy(\"totalComments\", ascending=False) \\\n",
    "    .show()"
   ]
  },
  {
   "cell_type": "markdown",
   "metadata": {
    "application/vnd.databricks.v1+cell": {
     "cellMetadata": {},
     "inputWidgets": {},
     "nuid": "b112e247-476f-4d8f-adf0-7abb5ee96d48",
     "showTitle": false,
     "tableResultSettingsMap": {},
     "title": ""
    }
   },
   "source": [
    "# Average Engagement per Category"
   ]
  },
  {
   "cell_type": "code",
   "execution_count": 0,
   "metadata": {
    "application/vnd.databricks.v1+cell": {
     "cellMetadata": {
      "byteLimit": 2048000,
      "rowLimit": 10000
     },
     "inputWidgets": {},
     "nuid": "480d58db-115c-45bc-aa6b-0571891f0f7f",
     "showTitle": false,
     "tableResultSettingsMap": {},
     "title": ""
    }
   },
   "outputs": [],
   "source": [
    "# create engagment column on adding likecount and commentcount"
   ]
  },
  {
   "cell_type": "code",
   "execution_count": 0,
   "metadata": {
    "application/vnd.databricks.v1+cell": {
     "cellMetadata": {
      "byteLimit": 2048000,
      "rowLimit": 10000
     },
     "inputWidgets": {},
     "nuid": "28ac1306-30cf-474a-ae29-3ffaf0c0c141",
     "showTitle": false,
     "tableResultSettingsMap": {},
     "title": ""
    }
   },
   "outputs": [],
   "source": [
    "casted_df2 = casted_df2.withColumn(\n",
    "    \"engagement\",\n",
    "    col(\"likeCount\") + col(\"commentCount\")\n",
    ")"
   ]
  },
  {
   "cell_type": "code",
   "execution_count": 0,
   "metadata": {
    "application/vnd.databricks.v1+cell": {
     "cellMetadata": {
      "byteLimit": 2048000,
      "rowLimit": 10000
     },
     "inputWidgets": {},
     "nuid": "7c4c5460-5c61-4d28-8b34-f188bcd3f9f4",
     "showTitle": false,
     "tableResultSettingsMap": {},
     "title": ""
    }
   },
   "outputs": [
    {
     "output_type": "stream",
     "name": "stdout",
     "output_type": "stream",
     "text": [
      "+--------------------+------------------+\n|categoryName        |avgEngagement     |\n+--------------------+------------------+\n|Film & Animation    |143720.66666666666|\n|Entertainment       |121626.72222222222|\n|Music               |62591.142857142855|\n|Gaming              |52911.77777777778 |\n|Science & Technology|24767.0           |\n|People & Blogs      |21922.5           |\n|Comedy              |18457.0           |\n|Sports              |10728.8           |\n+--------------------+------------------+\n\n"
     ]
    }
   ],
   "source": [
    "from pyspark.sql.functions import avg\n",
    "\n",
    "casted_df2.groupBy(\"categoryName\") \\\n",
    "    .agg(avg(\"engagement\").alias(\"avgEngagement\")) \\\n",
    "    .orderBy(\"avgEngagement\", ascending=False) \\\n",
    "    .show(truncate=False)"
   ]
  },
  {
   "cell_type": "markdown",
   "metadata": {
    "application/vnd.databricks.v1+cell": {
     "cellMetadata": {},
     "inputWidgets": {},
     "nuid": "9825f758-2d43-4083-bd32-fc498f03f058",
     "showTitle": false,
     "tableResultSettingsMap": {},
     "title": ""
    }
   },
   "source": [
    "# Average engagement by video duration"
   ]
  },
  {
   "cell_type": "code",
   "execution_count": 0,
   "metadata": {
    "application/vnd.databricks.v1+cell": {
     "cellMetadata": {
      "byteLimit": 2048000,
      "rowLimit": 10000
     },
     "inputWidgets": {},
     "nuid": "ad88929c-6053-4084-8b27-f1a37c7e8a09",
     "showTitle": false,
     "tableResultSettingsMap": {},
     "title": ""
    }
   },
   "outputs": [],
   "source": [
    "# it says that people are engage or not  in short,long or medium videos"
   ]
  },
  {
   "cell_type": "code",
   "execution_count": 0,
   "metadata": {
    "application/vnd.databricks.v1+cell": {
     "cellMetadata": {
      "byteLimit": 2048000,
      "rowLimit": 10000
     },
     "inputWidgets": {},
     "nuid": "17605288-d162-4b2a-94f7-3ce75fcb44c5",
     "showTitle": false,
     "tableResultSettingsMap": {},
     "title": ""
    }
   },
   "outputs": [
    {
     "output_type": "stream",
     "name": "stdout",
     "output_type": "stream",
     "text": [
      "+----------------+------------------+\n|durationCategory|     avgEngagement|\n+----------------+------------------+\n|           Short|       142023.9375|\n|            Long|54736.142857142855|\n|          Medium|26695.153846153848|\n+----------------+------------------+\n\n"
     ]
    }
   ],
   "source": [
    "# Step 1: Categorize durations\n",
    "from pyspark.sql.functions import when\n",
    "\n",
    "casted_df2 = casted_df2.withColumn(\n",
    "    \"durationCategory\",\n",
    "    when(col(\"duration\") <= 300, \"Short\")  # ≤ 5 mins\n",
    "    .when((col(\"duration\") > 300) & (col(\"duration\") <= 1200), \"Medium\")  # 5–20 mins\n",
    "    .otherwise(\"Long\")  # > 20 mins\n",
    ")\n",
    "\n",
    "# Step 2: Avg engagement per duration category\n",
    "casted_df2.groupBy(\"durationCategory\") \\\n",
    "    .agg(avg(\"engagement\").alias(\"avgEngagement\")) \\\n",
    "    .orderBy(\"avgEngagement\", ascending=False) \\\n",
    "    .show()\n"
   ]
  },
  {
   "cell_type": "markdown",
   "metadata": {
    "application/vnd.databricks.v1+cell": {
     "cellMetadata": {},
     "inputWidgets": {},
     "nuid": "6a482220-60b6-4b0f-beb8-96be6d79b776",
     "showTitle": false,
     "tableResultSettingsMap": {},
     "title": ""
    }
   },
   "source": [
    "# Top performing categories within duration groups"
   ]
  },
  {
   "cell_type": "code",
   "execution_count": 0,
   "metadata": {
    "application/vnd.databricks.v1+cell": {
     "cellMetadata": {
      "byteLimit": 2048000,
      "rowLimit": 10000
     },
     "inputWidgets": {},
     "nuid": "36bdaa2e-2489-41df-93ae-3ad697771ff0",
     "showTitle": false,
     "tableResultSettingsMap": {},
     "title": ""
    }
   },
   "outputs": [
    {
     "output_type": "stream",
     "name": "stdout",
     "output_type": "stream",
     "text": [
      "+----------------+--------------------+------------------+\n|durationCategory|        categoryName|     avgEngagement|\n+----------------+--------------------+------------------+\n|           Short|       Entertainment|189970.57142857142|\n|           Short|    Film & Animation|          176548.0|\n|           Short|              Gaming|          136535.5|\n|           Short|               Music|          73199.25|\n|           Short|      People & Blogs|           23625.0|\n|          Medium|    Film & Animation|           78066.0|\n|          Medium|               Music|           44543.0|\n|          Medium|Science & Technology|           27991.0|\n|          Medium|       Entertainment|27819.666666666668|\n|          Medium|      People & Blogs|           14337.0|\n|          Medium|              Gaming|            6864.0|\n|          Medium|              Sports| 6414.333333333333|\n|            Long|       Entertainment|           97003.5|\n|            Long|               Music|           56255.0|\n|            Long|              Gaming|32711.833333333332|\n|            Long|      People & Blogs|           24864.0|\n|            Long|              Comedy|           18457.0|\n|            Long|Science & Technology|           18319.0|\n|            Long|              Sports|           17200.5|\n+----------------+--------------------+------------------+\n\n"
     ]
    }
   ],
   "source": [
    "casted_df2.groupBy(\"durationCategory\", \"categoryName\") \\\n",
    "    .agg(avg(\"engagement\").alias(\"avgEngagement\")) \\\n",
    "    .orderBy(\"durationCategory\", \"avgEngagement\", ascending=False) \\\n",
    "    .show()"
   ]
  },
  {
   "cell_type": "markdown",
   "metadata": {
    "application/vnd.databricks.v1+cell": {
     "cellMetadata": {},
     "inputWidgets": {},
     "nuid": "166abd9f-8ccb-41a8-b4c9-419d2b9ff327",
     "showTitle": false,
     "tableResultSettingsMap": {},
     "title": ""
    }
   },
   "source": [
    "# Total Watch Time per Category (durationCategory)"
   ]
  },
  {
   "cell_type": "code",
   "execution_count": 0,
   "metadata": {
    "application/vnd.databricks.v1+cell": {
     "cellMetadata": {
      "byteLimit": 2048000,
      "rowLimit": 10000
     },
     "inputWidgets": {},
     "nuid": "7ea04df4-30df-43d4-a882-9817c35fb363",
     "showTitle": false,
     "tableResultSettingsMap": {},
     "title": ""
    }
   },
   "outputs": [
    {
     "output_type": "stream",
     "name": "stdout",
     "output_type": "stream",
     "text": [
      "+----------------+----------------------+\n|durationCategory|totalWatchTime_seconds|\n+----------------+----------------------+\n|            Long|                 46976|\n|          Medium|                 10043|\n|           Short|                  2420|\n+----------------+----------------------+\n\n"
     ]
    }
   ],
   "source": [
    "casted_df2.groupBy(\"durationCategory\") \\\n",
    "    .agg(sum(\"duration\").alias(\"totalWatchTime_seconds\")) \\\n",
    "    .orderBy(\"totalWatchTime_seconds\", ascending=False) \\\n",
    "    .show()"
   ]
  },
  {
   "cell_type": "markdown",
   "metadata": {
    "application/vnd.databricks.v1+cell": {
     "cellMetadata": {},
     "inputWidgets": {},
     "nuid": "9ef57a41-2a71-439c-9a24-c72174d65d3a",
     "showTitle": false,
     "tableResultSettingsMap": {},
     "title": ""
    }
   },
   "source": [
    "# Total Watch Time per Category and Duration Bucket"
   ]
  },
  {
   "cell_type": "code",
   "execution_count": 0,
   "metadata": {
    "application/vnd.databricks.v1+cell": {
     "cellMetadata": {
      "byteLimit": 2048000,
      "rowLimit": 10000
     },
     "inputWidgets": {},
     "nuid": "03a06169-ab08-4050-9b2b-26befeb8b02c",
     "showTitle": false,
     "tableResultSettingsMap": {},
     "title": ""
    }
   },
   "outputs": [
    {
     "output_type": "stream",
     "name": "stdout",
     "output_type": "stream",
     "text": [
      "+--------------------+----------------+----------------------+\n|categoryName        |durationCategory|totalWatchTime_seconds|\n+--------------------+----------------+----------------------+\n|Comedy              |Long            |2669                  |\n|Entertainment       |Long            |23506                 |\n|Entertainment       |Medium          |2036                  |\n|Entertainment       |Short           |1015                  |\n|Film & Animation    |Medium          |329                   |\n|Film & Animation    |Short           |274                   |\n|Gaming              |Long            |12392                 |\n|Gaming              |Medium          |681                   |\n|Gaming              |Short           |203                   |\n|Music               |Long            |1283                  |\n|Music               |Medium          |1526                  |\n|Music               |Short           |767                   |\n|People & Blogs      |Long            |2764                  |\n|People & Blogs      |Medium          |1179                  |\n|People & Blogs      |Short           |161                   |\n|Science & Technology|Long            |1530                  |\n|Science & Technology|Medium          |1761                  |\n|Sports              |Long            |2832                  |\n|Sports              |Medium          |2531                  |\n+--------------------+----------------+----------------------+\n\n"
     ]
    }
   ],
   "source": [
    "from pyspark.sql.functions import sum\n",
    "\n",
    "casted_df2.groupBy(\"categoryName\", \"durationCategory\") \\\n",
    "    .agg(sum(\"duration\").alias(\"totalWatchTime_seconds\")) \\\n",
    "    .orderBy(\"categoryName\", \"durationCategory\") \\\n",
    "    .show(truncate=False)"
   ]
  },
  {
   "cell_type": "code",
   "execution_count": 0,
   "metadata": {
    "application/vnd.databricks.v1+cell": {
     "cellMetadata": {
      "byteLimit": 2048000,
      "rowLimit": 10000
     },
     "inputWidgets": {},
     "nuid": "e590d938-c33d-487f-b8c7-1908dbc14f26",
     "showTitle": false,
     "tableResultSettingsMap": {},
     "title": ""
    }
   },
   "outputs": [],
   "source": [
    "# i have attached the chanelTitle also , from here we can get idea \n",
    "# 1) Which channel is dominating which category .\n",
    "# 2) Which channel do people watch for longer time?\n",
    "# 3) Which channel's videos, short, medium or long, are being watched more?"
   ]
  },
  {
   "cell_type": "code",
   "execution_count": 0,
   "metadata": {
    "application/vnd.databricks.v1+cell": {
     "cellMetadata": {
      "byteLimit": 2048000,
      "rowLimit": 10000
     },
     "inputWidgets": {},
     "nuid": "f46f55d5-fb05-48b3-b042-1fcdcaa31bd4",
     "showTitle": false,
     "tableResultSettingsMap": {},
     "title": ""
    }
   },
   "outputs": [
    {
     "output_type": "stream",
     "name": "stdout",
     "output_type": "stream",
     "text": [
      "+----------------------+--------------------+----------------+----------------------+\n|channelTitle          |categoryName        |durationCategory|totalWatchTime_seconds|\n+----------------------+--------------------+----------------+----------------------+\n|Golf Channel          |Sports              |Medium          |1187                  |\n|Fanatiz               |Sports              |Medium          |733                   |\n|The R&A               |Sports              |Medium          |611                   |\n|Baseball Doesn't Exist|Sports              |Long            |1574                  |\n|MLB                   |Sports              |Long            |1258                  |\n|Tom Stanton           |Science & Technology|Medium          |1076                  |\n|StarTalk              |Science & Technology|Medium          |685                   |\n|OpenAI                |Science & Technology|Long            |1530                  |\n|Chuckyy               |People & Blogs      |Short           |161                   |\n|The Fish Guys         |People & Blogs      |Medium          |1179                  |\n|Kesley Jade           |People & Blogs      |Long            |1491                  |\n|Steve Wallis          |People & Blogs      |Long            |1273                  |\n|Lyrical Lemonade TV   |Music               |Short           |234                   |\n|Yeat Music            |Music               |Short           |201                   |\n|Alex Warren           |Music               |Short           |190                   |\n|Neutro Shorty         |Music               |Short           |142                   |\n|Billboard             |Music               |Medium          |1164                  |\n|MileyCyrusVEVO        |Music               |Medium          |362                   |\n|theneedledrop         |Music               |Long            |1283                  |\n|EA SPORTS FC          |Gaming              |Short           |145                   |\n+----------------------+--------------------+----------------+----------------------+\nonly showing top 20 rows\n\n"
     ]
    }
   ],
   "source": [
    "from pyspark.sql.functions import sum\n",
    "\n",
    "casted_df2.groupBy(\"channelTitle\", \"categoryName\", \"durationCategory\") \\\n",
    "    .agg(sum(\"duration\").alias(\"totalWatchTime_seconds\")) \\\n",
    "    .orderBy(\"categoryName\", \"durationCategory\", \"totalWatchTime_seconds\", ascending=False) \\\n",
    "    .show(truncate=False)"
   ]
  },
  {
   "cell_type": "markdown",
   "metadata": {
    "application/vnd.databricks.v1+cell": {
     "cellMetadata": {},
     "inputWidgets": {},
     "nuid": "cd366598-fc5e-4f29-a7f7-6c9bd8a88f7e",
     "showTitle": false,
     "tableResultSettingsMap": {},
     "title": ""
    }
   },
   "source": [
    "# Top 5 Longest Videos with High Engagement"
   ]
  },
  {
   "cell_type": "code",
   "execution_count": 0,
   "metadata": {
    "application/vnd.databricks.v1+cell": {
     "cellMetadata": {
      "byteLimit": 2048000,
      "rowLimit": 10000
     },
     "inputWidgets": {},
     "nuid": "c33015d4-42f4-43d8-b4d4-19280af4a191",
     "showTitle": false,
     "tableResultSettingsMap": {},
     "title": ""
    }
   },
   "outputs": [
    {
     "output_type": "stream",
     "name": "stdout",
     "output_type": "stream",
     "text": [
      "+------------------------------------------+--------+----------+\n|title                                     |duration|engagement|\n+------------------------------------------+--------+----------+\n|Huda: Love Island Tell All (Full Episode) |6859    |138371    |\n|Amaya: Love Island Tell All (Full Episode)|4423    |66348     |\n|We went to Italy!                         |3430    |38054     |\n|MINECRAFT WITH TOMAR                      |2864    |18335     |\n|AI Bigfoot VLOGS are HYSTERICAL           |2669    |18457     |\n+------------------------------------------+--------+----------+\nonly showing top 5 rows\n\n"
     ]
    }
   ],
   "source": [
    "casted_df2.orderBy(col(\"duration\").desc(), col(\"engagement\").desc()).select(\"title\", \"duration\", \"engagement\").show(5, truncate=False)\n"
   ]
  },
  {
   "cell_type": "markdown",
   "metadata": {
    "application/vnd.databricks.v1+cell": {
     "cellMetadata": {},
     "inputWidgets": {},
     "nuid": "ea894c00-88fe-4e23-bd7b-8f0bfb97421e",
     "showTitle": false,
     "tableResultSettingsMap": {},
     "title": ""
    }
   },
   "source": [
    "#  Education and Tech-Focused Insights"
   ]
  },
  {
   "cell_type": "code",
   "execution_count": 0,
   "metadata": {
    "application/vnd.databricks.v1+cell": {
     "cellMetadata": {
      "byteLimit": 2048000,
      "rowLimit": 10000
     },
     "inputWidgets": {},
     "nuid": "c01114b4-b3bb-4539-9fb7-d1dc9a2254b9",
     "showTitle": false,
     "tableResultSettingsMap": {},
     "title": ""
    }
   },
   "outputs": [
    {
     "output_type": "stream",
     "name": "stdout",
     "output_type": "stream",
     "text": [
      "+-----------+--------------------+------------+--------------------+--------------------+----------+--------------------+---------------+--------------------+---------+---------+------------+--------+-------+--------------------+-------------+----+-----+----------+----------------+\n|         id|           channelId|channelTitle|               title|         description|categoryId|                tags|defaultLanguage|defaultAudioLanguage|viewCount|likeCount|commentCount|duration|caption|        categoryName|publishedDate|year|month|engagement|durationCategory|\n+-----------+--------------------+------------+--------------------+--------------------+----------+--------------------+---------------+--------------------+---------+---------+------------+--------+-------+--------------------+-------------+----+-----+----------+----------------+\n|1jn_RpbPbEc|UCXZCJLdBC09xxGZ6...|      OpenAI|Introduction to C...|Sam Altman, Casey...|        28|                null|             en|                  en|   652252|    16790|        1529|    1530|  false|Science & Technology|   2025-07-17|2025|    7|     18319|            Long|\n|_EJ0LlB35ds|UCqoAEDirJPjEUFcF...|    StarTalk|Why Earth’s Rotat...|Go to https://gro...|        28|[startalk, star t...|           null|                  en|   429063|    14177|        1386|     685|  false|Science & Technology|   2025-07-17|2025|    7|     15563|          Medium|\n|zB3lrLjqIh4|UC67gfx2Fg7K2NSHq...| Tom Stanton|Building a Stirli...|Go to https://gro...|        28|                null|           null|               en-GB|   689822|    38444|        1975|    1076|  false|Science & Technology|   2025-07-16|2025|    7|     40419|          Medium|\n+-----------+--------------------+------------+--------------------+--------------------+----------+--------------------+---------------+--------------------+---------+---------+------------+--------+-------+--------------------+-------------+----+-----+----------+----------------+\n\n"
     ]
    }
   ],
   "source": [
    "education_df = casted_df2.filter(col(\"categoryName\").isin(\"Education\", \"Science & Technology\"))\n",
    "education_df.show()"
   ]
  },
  {
   "cell_type": "code",
   "execution_count": 0,
   "metadata": {
    "application/vnd.databricks.v1+cell": {
     "cellMetadata": {
      "byteLimit": 2048000,
      "rowLimit": 10000
     },
     "inputWidgets": {},
     "nuid": "12075b0e-1ddd-40cf-9db6-a0e2c34c43ed",
     "showTitle": false,
     "tableResultSettingsMap": {},
     "title": ""
    }
   },
   "outputs": [
    {
     "output_type": "stream",
     "name": "stdout",
     "output_type": "stream",
     "text": [
      "+--------------------------------------+---------+---------+----------+\n|title                                 |likeCount|viewCount|engagement|\n+--------------------------------------+---------+---------+----------+\n|Introduction to ChatGPT agent         |16790    |652252   |18319     |\n|Why Earth’s Rotation Speed is Changing|14177    |429063   |15563     |\n|Building a Stirling Engine Bike       |38444    |689822   |40419     |\n+--------------------------------------+---------+---------+----------+\n\n"
     ]
    }
   ],
   "source": [
    "education_df.select(\"title\", \"likeCount\", \"viewCount\", \"engagement\").show(truncate=False)"
   ]
  },
  {
   "cell_type": "code",
   "execution_count": 0,
   "metadata": {
    "application/vnd.databricks.v1+cell": {
     "cellMetadata": {
      "byteLimit": 2048000,
      "rowLimit": 10000
     },
     "inputWidgets": {},
     "nuid": "37435634-b924-4b1a-9e97-0697b14f5d24",
     "showTitle": false,
     "tableResultSettingsMap": {},
     "title": ""
    }
   },
   "outputs": [
    {
     "output_type": "stream",
     "name": "stdout",
     "output_type": "stream",
     "text": [
      "+------------+--------------------------------------+--------------------+\n|channelTitle|title                                 |categoryName        |\n+------------+--------------------------------------+--------------------+\n|OpenAI      |Introduction to ChatGPT agent         |Science & Technology|\n|StarTalk    |Why Earth’s Rotation Speed is Changing|Science & Technology|\n|Tom Stanton |Building a Stirling Engine Bike       |Science & Technology|\n+------------+--------------------------------------+--------------------+\n\n"
     ]
    }
   ],
   "source": [
    "education_df.select(\"channelTitle\", \"title\", \"categoryName\").show(truncate=False)"
   ]
  },
  {
   "cell_type": "code",
   "execution_count": 0,
   "metadata": {
    "application/vnd.databricks.v1+cell": {
     "cellMetadata": {
      "byteLimit": 2048000,
      "rowLimit": 10000
     },
     "inputWidgets": {},
     "nuid": "ace40303-58b9-4085-9902-5a1f88d9c731",
     "showTitle": false,
     "tableResultSettingsMap": {},
     "title": ""
    }
   },
   "outputs": [],
   "source": [
    "# i check education content by seeing the keyword like what ever i have mentioned in the below "
   ]
  },
  {
   "cell_type": "code",
   "execution_count": 0,
   "metadata": {
    "application/vnd.databricks.v1+cell": {
     "cellMetadata": {
      "byteLimit": 2048000,
      "rowLimit": 10000
     },
     "inputWidgets": {},
     "nuid": "16662341-36c6-4733-adda-665a12313bfe",
     "showTitle": false,
     "tableResultSettingsMap": {},
     "title": ""
    }
   },
   "outputs": [
    {
     "output_type": "stream",
     "name": "stdout",
     "output_type": "stream",
     "text": [
      "+---+---------+------------+-----+-----------+----------+----+---------------+--------------------+---------+---------+------------+--------+-------+------------+-------------+----+-----+----------+----------------+\n|id |channelId|channelTitle|title|description|categoryId|tags|defaultLanguage|defaultAudioLanguage|viewCount|likeCount|commentCount|duration|caption|categoryName|publishedDate|year|month|engagement|durationCategory|\n+---+---------+------------+-----+-----------+----------+----+---------------+--------------------+---------+---------+------------+--------+-------+------------+-------------+----+-----+----------+----------------+\n+---+---------+------------+-----+-----------+----------+----+---------------+--------------------+---------+---------+------------+--------+-------+------------+-------------+----+-----+----------+----------------+\n\nOut[40]: 0"
     ]
    }
   ],
   "source": [
    "from pyspark.sql.functions import col, lower\n",
    "from functools import reduce\n",
    "\n",
    "keywords = [\"tutorial\", \"science\", \"ChatGPT\", \"learn\", \"how to\", \"technology\", \"education\", \"experiment\", \"physics\", \"math\", \"engineering\"]\n",
    "\n",
    "# Debugging: ensure title is not null\n",
    "education_df_filtered = education_df.filter(col(\"title\").isNotNull())\n",
    "\n",
    "# Apply keyword filter in lowercase\n",
    "education_clean_df = education_df_filtered.filter(\n",
    "    reduce(lambda a, b: a | b, [lower(col(\"title\")).contains(k) for k in keywords])\n",
    ")\n",
    "\n",
    "education_clean_df.show(truncate=False)\n",
    "education_clean_df.count()"
   ]
  },
  {
   "cell_type": "code",
   "execution_count": 0,
   "metadata": {
    "application/vnd.databricks.v1+cell": {
     "cellMetadata": {
      "byteLimit": 2048000,
      "rowLimit": 10000
     },
     "inputWidgets": {},
     "nuid": "a238e0b8-83a6-46de-8354-94033d784029",
     "showTitle": false,
     "tableResultSettingsMap": {},
     "title": ""
    }
   },
   "outputs": [
    {
     "output_type": "stream",
     "name": "stdout",
     "output_type": "stream",
     "text": [
      "+--------------------------------------+\n|title                                 |\n+--------------------------------------+\n|Introduction to ChatGPT agent         |\n|Why Earth’s Rotation Speed is Changing|\n|Building a Stirling Engine Bike       |\n+--------------------------------------+\n\n"
     ]
    }
   ],
   "source": [
    "education_df.select(\"title\").show(20, truncate=False)\n"
   ]
  },
  {
   "cell_type": "markdown",
   "metadata": {
    "application/vnd.databricks.v1+cell": {
     "cellMetadata": {},
     "inputWidgets": {},
     "nuid": "d3830f3d-fa93-43b5-b99a-e2ac6f3bc753",
     "showTitle": false,
     "tableResultSettingsMap": {},
     "title": ""
    }
   },
   "source": [
    "# Most engaging education/tech videos"
   ]
  },
  {
   "cell_type": "code",
   "execution_count": 0,
   "metadata": {
    "application/vnd.databricks.v1+cell": {
     "cellMetadata": {
      "byteLimit": 2048000,
      "rowLimit": 10000
     },
     "inputWidgets": {},
     "nuid": "ef19a6ce-a98e-4a65-85e8-c4e4862eecef",
     "showTitle": false,
     "tableResultSettingsMap": {},
     "title": ""
    }
   },
   "outputs": [
    {
     "output_type": "stream",
     "name": "stdout",
     "output_type": "stream",
     "text": [
      "+--------------------------------------+----------+\n|title                                 |engagement|\n+--------------------------------------+----------+\n|Building a Stirling Engine Bike       |40419     |\n|Introduction to ChatGPT agent         |18319     |\n|Why Earth’s Rotation Speed is Changing|15563     |\n+--------------------------------------+----------+\n\n"
     ]
    }
   ],
   "source": [
    "education_df.orderBy(\"engagement\", ascending=False).select(\"title\", \"engagement\").show(10, truncate=False)\n"
   ]
  },
  {
   "cell_type": "markdown",
   "metadata": {
    "application/vnd.databricks.v1+cell": {
     "cellMetadata": {},
     "inputWidgets": {},
     "nuid": "fd1a839c-1e38-47a0-bd8f-5f2afc28e551",
     "showTitle": false,
     "tableResultSettingsMap": {},
     "title": ""
    }
   },
   "source": [
    "# Keyword-Based Filtering (regardless of category)"
   ]
  },
  {
   "cell_type": "code",
   "execution_count": 0,
   "metadata": {
    "application/vnd.databricks.v1+cell": {
     "cellMetadata": {
      "byteLimit": 2048000,
      "rowLimit": 10000
     },
     "inputWidgets": {},
     "nuid": "3baa390e-4c73-4594-9723-bf089493667f",
     "showTitle": false,
     "tableResultSettingsMap": {},
     "title": ""
    }
   },
   "outputs": [
    {
     "output_type": "stream",
     "name": "stdout",
     "output_type": "stream",
     "text": [
      "+--------------------+----------------------------------------------------------------------+-----------------------------------------------------------------------------------------------------------------------------------------------------------------------------------------------------------------------------------------------------------------------------------------------------------------------------------------------------------------------------------------------------------------------------------------------------------------------------------------------------------------------------------------------------------------------------------------------------------------------------------------------------------------------------------------------------------------------------------------------------------------------------------------------------------------------------------------------------------------------------------------------------------------------------------------------------------------------------------------------------------------------------------------------------------------------------------------------------------------------------------------------------------------------------------------------------------------------------------------------------------------------------------------------------------------------------------------------------------------------------------------------------------------------------------------------------------------------------------------------------------------------------------------------------------------------------------------------------------------------------------------------------------------------------------------------------------------------------------------------------------------------------------------------------------------------------------------------------------------------------------------------------------------------------------------------------------------------------------------------------------------------------------------------------------------------------------------------------------------------------------------------------------------------------------------------------------------------------------------------------------------------------------------------------------------------------------------------------------------------------------------------------------------------------------------------------------------------------------------------------------------------------------------------------------------------------------------------------------------------------------------------------------------------------------------------------------------------------------------------------------------------------------------------------------------------------------------------------------------------------------------------------------------------------------------------------------------------------------------------------------------------------------------------------------------------------------------------------------------------------------------------------------------------------------------------------------------------------------------------------------------------------------------------------------------------------------------------------------------------------------------------------------------------------------------------------------------------------------------------------------------------------------------------------------------------------------------------------------------------------------------------------------------------------------------------------------------------------------------------------------------------------------------------------------------------------------------------------------------------------------------------------------------------------------------------------------------------------------------------------------------------------------------------------------------------------------------------------------------------------------------------------------------------------------------------------------------------------------------------------------------------------------------------------------------------------------------------------------------------------------------------------------------------------------------------------------------------------------------------------------------------------------------------------------------------------------------------------------------------------------------------------------------------------------------------------------------------------------------------------------------------------------------------------------------------------------------------------------------------------------------------------------------------------------------------------------------------------------------------------------------------------------------------------------------------------------------------------------------------------------------------------------------------------------------------------------------------------------------------------------------------------------------------------------------------+\n|categoryName        |title                                                                 |description                                                                                                                                                                                                                                                                                                                                                                                                                                                                                                                                                                                                                                                                                                                                                                                                                                                                                                                                                                                                                                                                                                                                                                                                                                                                                                                                                                                                                                                                                                                                                                                                                                                                                                                                                                                                                                                                                                                                                                                                                                                                                                                                                                                                                                                                                                                                                                                                                                                                                                                                                                                                                                                                                                                                                                                                                                                                                                                                                                                                                                                                                                                                                                                                                                                                                                                                                                                                                                                                                                                                                                                                                                                                                                                                                                                                                                                                                                                                                                                                                                                                                                                                                                                                                                                                                                                                                                                                                                                                                                                                                                                                                                                                                                                                                                                                                                                                                                                                                                                                                                                                                                                                                                                                                                                                                                            |\n+--------------------+----------------------------------------------------------------------+-----------------------------------------------------------------------------------------------------------------------------------------------------------------------------------------------------------------------------------------------------------------------------------------------------------------------------------------------------------------------------------------------------------------------------------------------------------------------------------------------------------------------------------------------------------------------------------------------------------------------------------------------------------------------------------------------------------------------------------------------------------------------------------------------------------------------------------------------------------------------------------------------------------------------------------------------------------------------------------------------------------------------------------------------------------------------------------------------------------------------------------------------------------------------------------------------------------------------------------------------------------------------------------------------------------------------------------------------------------------------------------------------------------------------------------------------------------------------------------------------------------------------------------------------------------------------------------------------------------------------------------------------------------------------------------------------------------------------------------------------------------------------------------------------------------------------------------------------------------------------------------------------------------------------------------------------------------------------------------------------------------------------------------------------------------------------------------------------------------------------------------------------------------------------------------------------------------------------------------------------------------------------------------------------------------------------------------------------------------------------------------------------------------------------------------------------------------------------------------------------------------------------------------------------------------------------------------------------------------------------------------------------------------------------------------------------------------------------------------------------------------------------------------------------------------------------------------------------------------------------------------------------------------------------------------------------------------------------------------------------------------------------------------------------------------------------------------------------------------------------------------------------------------------------------------------------------------------------------------------------------------------------------------------------------------------------------------------------------------------------------------------------------------------------------------------------------------------------------------------------------------------------------------------------------------------------------------------------------------------------------------------------------------------------------------------------------------------------------------------------------------------------------------------------------------------------------------------------------------------------------------------------------------------------------------------------------------------------------------------------------------------------------------------------------------------------------------------------------------------------------------------------------------------------------------------------------------------------------------------------------------------------------------------------------------------------------------------------------------------------------------------------------------------------------------------------------------------------------------------------------------------------------------------------------------------------------------------------------------------------------------------------------------------------------------------------------------------------------------------------------------------------------------------------------------------------------------------------------------------------------------------------------------------------------------------------------------------------------------------------------------------------------------------------------------------------------------------------------------------------------------------------------------------------------------------------------------------------------------------------------------------------------------------------------------------------+\n|Entertainment       |Stephen Colbert Announces The Cancellation Of “The Late Show”         |Stephen Colbert tells his audience that the next season of “The Late Show” will be the last, and that the series will end in May 2026.\\n\\n#Colbert #Comedy #StephenColbert #TheLateShow\\n\\nSubscribe To \"The Late Show\" Channel: http://bit.ly/ColbertYouTube\\n\\nWatch full episodes of \"The Late Show\": http://bit.ly/1Puei40\\nListen to \"The Late Show Pod Show\" podcast: https://link.chtbl.com/Awagtx95?sid=yt\\nLike \"The Late Show\" on Facebook: http://on.fb.me/1df139Y\\nFollow \"The Late Show\" on X: http://bit.ly/1dMzZzG\\nFollow \"The Late Show\" on Instagram: http://bit.ly/29wfREj\\n\\nWatch The Late Show with Stephen Colbert weeknights at 11:35 PM ET/10:35 PM CT. Only on CBS.\\n\\n---\\nStephen Colbert brings his signature satire and comedy to THE LATE SHOW with STEPHEN COLBERT, the #1 show in late night, where he talks with an eclectic mix of guests about what is new and relevant in the worlds of politics, entertainment, business, music, technology and more. Featuring bandleader Louis Cato and “THE LATE SHOW band,” the Peabody Award-winning and Emmy Award-nominated show is broadcast from the historic Ed Sullivan Theater. Stephen Colbert took over as host, executive producer and writer of THE LATE SHOW on Sept. 8, 2015.                                                                                                                                                                                                                                                                                                                                                                                                                                                                                                                                                                                                                                                                                                                                                                                                                                                                                                                                                                                                                                                                                                                                                                                                                                                                                                                                                                                                                                                                                                                                                                                                                                                                                                                                                                                                                                                                                                                                                                                                                                                                                                                                                                                                                                                                                                                                                                                                                                                                                                                                                                                                                                                                                                                                                                                                                                                                                                                                                                                                                                                                                                                                                                                                                                                                                                                                                                                                                                                                                                                                                                                                                                                                                                                                                                                                                                                                                                                                                                                                                                                  |\n|Music               |Alex Warren - Eternity (Official Audio)                               |'You'll Be Alright, Kid' out now: https://alexwarren.lnk.to/YoullBeAlrightKid\\n\\nLyrics:\\nHear the clock ticking on the wall\\nLosing sleep losing track of the tears I cry\\nEvery drop is a waterfall\\nEvery breath is a break in the riptide\\nOh, how long\\nHas it been I\\nDon’t know\\nBut it\\nFeels like an eternity\\nSince I had you here with me\\nSince I had to learn to be\\nSomeone you don't know \\nTo be with you in paradise\\nWhat I wouldn’t sacrifice\\nWhy’d you have to chase the light\\nSomewhere I can’t go\\nAs I walk this world alone\\nAs I walk this world alone\\nAnother glimpse of what coulda been\\nAnother dream of the way that it never was\\nFalling back in the wilderness\\nWaking up rubbing salt in the cut\\nOh, how long\\nHas it been I\\nDon’t know\\nBut it\\nFeels like an eternity\\nSince I had you here with me\\nSince I had to learn to be\\nSomeone you don't know \\nTo be with you in paradise\\nWhat I wouldn’t sacrifice\\nWhy’d you have to chase the light\\nSomewhere I can’t go\\nAs I walk this world alone\\nAs I walk this world alone\\n\\nIt’s an endless night\\nIt’s a starless sky\\nIt’s a hell that I call home\\nIt’s a long goodbye\\nOn the other side\\nOf the only life I know\\n\\nAnd it feels like an eternity\\nSince I had you here with me\\nSince I had to learn to be\\nSomeone you don't know \\n\\nTo be with you in paradise\\nWhat I wouldn’t sacrifice\\nWhy’d you have to chase the light\\nSomewhere I can’t go\\nAs I walk this world alone\\nAs I walk this world alone                                                                                                                                                                                                                                                                                                                                                                                                                                                                                                                                                                                                                                                                                                                                                                                                                                                                                                                                                                                                                                                                                                                                                                                                                                                                                                                                                                                                                                                                                                                                                                                                                                                                                                                                                                                                                                                                                                                                                                                                                                                                                                                                                                                                                                                                                                                                                                                                                                                                                                                                                                                                                                                                                                                               \n\n*** WARNING: max output size exceeded, skipping output. ***\n\n Golf Channel\\nhttps://www.youtube.com/golfchannel?sub_confirmation=1                                                                                                                                                                                                                                                                                                                                                                                                                                                                                                                                                                                                                                                                                                                                                                                                                                                                                                                                                                                                                                                                                                                                                                                                                                                                                                                                                                                                                                                                                                                                                                                                                                                                                                                                                                                                                                                                                                                                                                                                                                                                                                                                                                                                                                                                                                                                                                                                                                                                                                                                                                                                                                                                                                                                                                                                                                                                                                                                                                                                                                                                                                                                                                                                                                                                                                                                                                                                                                                                                                                                                                                                                                                                                                                                                                                                                                                                                                                                                                                                                                                                                                                                                                                                                                                                        |\n|Science & Technology|Introduction to ChatGPT agent                                         |Sam Altman, Casey Chu, Isa Fulford, Yash Kumar, and Zhiqing Sun introduce and demo our unified agentic model in ChatGPT.                                                                                                                                                                                                                                                                                                                                                                                                                                                                                                                                                                                                                                                                                                                                                                                                                                                                                                                                                                                                                                                                                                                                                                                                                                                                                                                                                                                                                                                                                                                                                                                                                                                                                                                                                                                                                                                                                                                                                                                                                                                                                                                                                                                                                                                                                                                                                                                                                                                                                                                                                                                                                                                                                                                                                                                                                                                                                                                                                                                                                                                                                                                                                                                                                                                                                                                                                                                                                                                                                                                                                                                                                                                                                                                                                                                                                                                                                                                                                                                                                                                                                                                                                                                                                                                                                                                                                                                                                                                                                                                                                                                                                                                                                                                                                                                                                                                                                                                                                                                                                                                                                                                                                                                               |\n|Science & Technology|Why Earth’s Rotation Speed is Changing                                |Go to https://ground.news/startalk to stay fully informed on the latest Space and Science news. Save 40% off through our link for unlimited access to the Vantage plan this month.\\n\\nWhy is the Earth spinning faster? Neil deGrasse Tyson explains what’s up with Earth’s rotational velocity and how different factors can add or subtract leap seconds to our year. Is climate change affecting Earth’s spin? \\n\\nTimestamps: \\n00:00 - Introduction: What Up With Earth Spinning Faster? \\n00:12 - Standardizing Time & Adding Leap Seconds\\n2:47 - Earth Speeding Up\\n3:26 - What Effects Earth’s Rotation? Tides\\n4:50 - Earthquakes\\n6:09 - Melting Polar Ice\\n7:17 - Clickbait Titles & Our Spinning Planet\\n\\nCheck out our second channel, @StarTalkPlus\\n\\nGet the NEW StarTalk book, 'To Infinity and Beyond: A Journey of Cosmic Discovery' on Amazon: https://amzn.to/3PL0NFn\\n\\nSupport us on Patreon: https://www.patreon.com/startalkradio\\n\\nFOLLOW or SUBSCRIBE to StarTalk:\\nTwitter: http://twitter.com/startalkradio\\nFacebook: https://www.facebook.com/StarTalk\\nInstagram: https://www.instagram.com/startalk\\n\\nAbout StarTalk: \\nScience meets pop culture on StarTalk! Astrophysicist & Hayden Planetarium director Neil deGrasse Tyson, his comic co-hosts, guest celebrities & scientists discuss astronomy, physics, and everything else about life in the universe. Keep Looking Up!\\n\\n#StarTalk #NeildeGrasseTyson                                                                                                                                                                                                                                                                                                                                                                                                                                                                                                                                                                                                                                                                                                                                                                                                                                                                                                                                                                                                                                                                                                                                                                                                                                                                                                                                                                                                                                                                                                                                                                                                                                                                                                                                                                                                                                                                                                                                                                                                                                                                                                                                                                                                                                                                                                                                                                                                                                                                                                                                                                                                                                                                                                                                                                                                                                                                                                                                                                                                                                                                                                                                                                                                                                                                                                                                                                                                                                                                                                                                                                                                                                                                                                                                                                                                                                                                  |\n|Entertainment       |All The Ghosts You Will Be                                            |MOX NOX. Pre-order the Death Clock here: http://www.InqFactory.com/DeathClock\\nSpecial thanks to @CalebMarting  for his tireless work on the prototypes. Our entire team at the Curiosity Box and Inq Factory is incredible -- it's a gift to be able to make the world curiouser with you all! \\n\\n\"Curiouser\" is a very curious word.\\n\\nLINKS TO LEARN MORE:\\n\\nflour particle size: https://www.researchgate.net/publication/335277332_Influence_of_milling_whole_wheat_grains_and_particle_size_on_thermo-mechanical_properties_of_flour_using_Mixolab\\n\\nsolar corona:\\nhttps://svs.gsfc.nasa.gov/14865\\n\\neclipse footage: https://svs.gsfc.nasa.gov/14572/\\n\\nKUSHIM:\\nhttps://en.wikipedia.org/wiki/Kushim_(Uruk_period)\\nhttps://indroyc.com/2024/02/23/kushims-story-the-first-name-in-history/\\n\\nGAL-SAL:\\nhttps://isac-idb.uchicago.edu/id/b6ace1f1-9701-4dc5-b366-8c15c7da00ca\\nhttps://www.instagram.com/p/DLlP1d6zlPR/?img_index=2\\n\\nGudea: \\nhttps://en.wikipedia.org/wiki/Gudea\\nhttps://en.wikipedia.org/wiki/Statues_of_Gudea\\nhttps://www.sumerianshakespeare.com/face-of-gudea\\n\\nOther early human forms:\\nhttps://en.wikipedia.org/wiki/Urfa_Man\\n\\nHistory of human figure in art: https://jesygilkesuca.home.blog/2020/09/14/history-and-depictions-of-the-human-figure/\\n\\n3D interactive DNA model: https://www.labxchange.org/library/items/lb:LabXchange:5c1562b9:lx_simulation:1\\n\\nHow many genetic ancestors do you have? https://gcbias.org/2013/11/11/how-does-your-number-of-genetic-ancestors-grow-back-over-time/\\n\\nfossilization video: https://commons.wikimedia.org/wiki/File:Wie_entstehen_Fossilien_(CC_by_4.0)_redub_EO.webm\\n\\nHow to become a fossil:\\nhttps://www.newscientist.com/lastword/mg24632832-100-wheres-the-best-place-to-be-buried-to-preserve-your-body-as-a-fossil/\\nhttps://www.bbc.com/future/article/20180215-how-does-fossilisation-happen\\n\\nwhere to be buried to become a fossil Earth images: https://visibleearth.nasa.gov/\\n\\nBig Bertha: https://en.wikipedia.org/wiki/Big_Bertha_(lunar_sample)\\n\\nred giant sun: https://science.nasa.gov/resource/life-and-death-of-a-planetary-system/\\n\\nInteractive voyager viewer: https://science.nasa.gov/mission/voyager/\\n\\nWifi signal in house: https://jasmcole.com/2014/07/12/wifi-strife/\\n\\nHow we’ve found partners over time https://www.pnas.org/doi/full/10.1073/pnas.1908630116\\n\\nScreen time: https://explodingtopics.com/blog/screen-time-stats\\n\\nMobile phones vs toothbrushes: https://bcp-advisors.com/wp-content/uploads/2024/05/Cell-Phones-and-Toothbrushes.pdf\\n\\nOld music outselling new: https://web.archive.org/web/20160222071723/http://www.chartattack.com/news/2016/01/20/old-music-is-outselling-new-music-for-the-first-time-in-history/\\n\\n“Soy Bomb” incident: https://www.youtube.com/watch?v=2OeNKBq63iM\\n\\nSteve Fossett: https://en.wikipedia.org/wiki/Steve_Fossett\\n\\nGabby Petito: https://en.wikipedia.org/wiki/Killing_of_Gabby_Petito\\n\\nUnknown soldier:\\nhttps://en.wikipedia.org/wiki/Tomb_of_the_Unknown_Soldier_(Arlington_National_Cemetery)\\nhttps://www.defense.gov/Multimedia/Photos/igphoto/2002889128/\\n\\nConrad Roy: https://en.wikipedia.org/wiki/Death_of_Conrad_Roy\\n\\nFrederick Douglass: https://www.nps.gov/articles/000/frederick-douglass-and-the-power-of-photography.htm\\n\\nSojourner Truth: https://www.metmuseum.org/art/collection/search/301989\\n\\nWallace Line:\\nhttps://en.wikipedia.org/wiki/Wallace_Line\\nhttps://commons.wikimedia.org/wiki/File:Map_of_Sunda_and_Sahul.svg\\n\\nHomo Erectus image: https://commons.wikimedia.org/wiki/File:Homo_erectus,_The_Natural_History_Museum_Vienna,_20210730_1228_1282.jpg\\n\\nRoman aqueduct image: https://en.wikipedia.org/wiki/Roman_aqueduct#/media/File:Pont_du_Gard_BLS.jpg\\n\\nChicago filmed from a dirigible: https://commons.wikimedia.org/wiki/File:Chicago_Photographed_from_Ray_Knabenshue%27s_Dirigible_Air_Ship.webm\\n\\nWorld pop density map: https://commons.wikimedia.org/wiki/File:World_Population_Density_Map_2020.png\\n\\nbooks:\\nI Am A Strange Loop - Douglas_Hofstadter\\nA Short History of Nearly Everything Book - Bill Bryson\\nReasons and Persons - Derek Parfit\\nDocumentality - Maurizio Ferraris\\nAmusing Ourselves To Death - Neil Postman\\nEverything Bad Is Good For You - Steven Johnson\\nSoul Dust - Nicholas Humphrey\\nThe View From Nowhere - Thomas Nagel\\n\\nALL MUSIC BY @jakechudnow \\nYou can pick up Jake Chudnow’s Vsauce music on vinyl here: https://inqfactory.com/pages/vinyl\\n\\nSONGS:\\n\\n00ː00 - 00ː01 - J Wilde\\n00ː03 - 00ː26 - Food\\n00ː20 - 01ː14 - Rain, Dreams\\n01ː12 - 01ː22 - Moon Men (Instrumental)\\n01ː22 - 01ː33 - J Wilde\\n01ː26 - 02ː27 - What My Nervous Stomach Sounds Like\\n02ː01 - 02ː38 - For Leah\\n02ː39 - 03ː39 - Moon Men (Instrumental)\\n03ː40 - 04ː56 - Imaginary Sun\\n04ː49 - 05ː50 - It’s Good To Be D\\n05ː50 - 06ː37 - Thunder\\n06ː37 - 08ː03 - For You\\n08ː11 - 10ː08 - Rain, Dreams\\n10ː02 - 11ː10 - Hydrogen\\n11ː34 - 11ː50 - Prelude To Shona\\n11ː50 - 13ː02 - For Leah\\n13ː09 - 13ː56 - Shallow Anne\\n13ː41 - 13ː56 - Monkey Morning\\n13ː56 - 16ː10 - J Wilde\\n15ː56 - 19ː04 - Olive\\n19ː06 - 21ː54 - J Wilde\\n\\nhttps://www.instagram.com/electricpants\\nhttps://www.tiktok.com/@corndogwilly|\n+--------------------+----------------------------------------------------------------------+-----------------------------------------------------------------------------------------------------------------------------------------------------------------------------------------------------------------------------------------------------------------------------------------------------------------------------------------------------------------------------------------------------------------------------------------------------------------------------------------------------------------------------------------------------------------------------------------------------------------------------------------------------------------------------------------------------------------------------------------------------------------------------------------------------------------------------------------------------------------------------------------------------------------------------------------------------------------------------------------------------------------------------------------------------------------------------------------------------------------------------------------------------------------------------------------------------------------------------------------------------------------------------------------------------------------------------------------------------------------------------------------------------------------------------------------------------------------------------------------------------------------------------------------------------------------------------------------------------------------------------------------------------------------------------------------------------------------------------------------------------------------------------------------------------------------------------------------------------------------------------------------------------------------------------------------------------------------------------------------------------------------------------------------------------------------------------------------------------------------------------------------------------------------------------------------------------------------------------------------------------------------------------------------------------------------------------------------------------------------------------------------------------------------------------------------------------------------------------------------------------------------------------------------------------------------------------------------------------------------------------------------------------------------------------------------------------------------------------------------------------------------------------------------------------------------------------------------------------------------------------------------------------------------------------------------------------------------------------------------------------------------------------------------------------------------------------------------------------------------------------------------------------------------------------------------------------------------------------------------------------------------------------------------------------------------------------------------------------------------------------------------------------------------------------------------------------------------------------------------------------------------------------------------------------------------------------------------------------------------------------------------------------------------------------------------------------------------------------------------------------------------------------------------------------------------------------------------------------------------------------------------------------------------------------------------------------------------------------------------------------------------------------------------------------------------------------------------------------------------------------------------------------------------------------------------------------------------------------------------------------------------------------------------------------------------------------------------------------------------------------------------------------------------------------------------------------------------------------------------------------------------------------------------------------------------------------------------------------------------------------------------------------------------------------------------------------------------------------------------------------------------------------------------------------------------------------------------------------------------------------------------------------------------------------------------------------------------------------------------------------------------------------------------------------------------------------------------------------------------------------------------------------------------------------------------------------------------------------------------------------------------------------------------------------------------------+\n\n"
     ]
    }
   ],
   "source": [
    "from pyspark.sql.functions import lower, col\n",
    "from functools import reduce\n",
    "\n",
    "keywords = [\"tutorial\", \"science\", \"learn\", \"how to\", \"technology\", \"education\", \"experiment\", \"ChatGPT\", \"OpenAI \", \"agent\"]\n",
    "\n",
    "# keyword-based filter on title and description\n",
    "filtered_df = casted_df2.filter(\n",
    "    reduce(lambda a, b: a | b, [lower(col(\"title\")).contains(k) | lower(col(\"description\")).contains(k) for k in keywords])\n",
    ")\n",
    "\n",
    "filtered_df.select(\"categoryName\", \"title\", \"description\").show(truncate=False)"
   ]
  },
  {
   "cell_type": "code",
   "execution_count": 0,
   "metadata": {
    "application/vnd.databricks.v1+cell": {
     "cellMetadata": {
      "byteLimit": 2048000,
      "rowLimit": 10000
     },
     "inputWidgets": {},
     "nuid": "7e1ee458-5e96-4e34-9e2d-ec7ce045a0de",
     "showTitle": false,
     "tableResultSettingsMap": {},
     "title": ""
    }
   },
   "outputs": [],
   "source": [
    "output_path = '/FileStore/tables/final_usa_trending'\n",
    "casted_df2.write.mode('overwrite').parquet(output_path)\n"
   ]
  }
 ],
 "metadata": {
  "application/vnd.databricks.v1+notebook": {
   "computePreferences": null,
   "dashboards": [],
   "environmentMetadata": {
    "base_environment": "",
    "environment_version": "1"
   },
   "inputWidgetPreferences": null,
   "language": "python",
   "notebookMetadata": {
    "pythonIndentUnit": 4
   },
   "notebookName": "usa_trends",
   "widgets": {}
  }
 },
 "nbformat": 4,
 "nbformat_minor": 0
}