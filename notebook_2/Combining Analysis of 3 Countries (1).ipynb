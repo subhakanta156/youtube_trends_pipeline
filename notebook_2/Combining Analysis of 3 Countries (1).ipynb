{
 "cells": [
  {
   "cell_type": "code",
   "execution_count": 0,
   "metadata": {
    "application/vnd.databricks.v1+cell": {
     "cellMetadata": {
      "byteLimit": 2048000,
      "rowLimit": 10000
     },
     "inputWidgets": {},
     "nuid": "83ee6fa3-703b-4a66-b6fa-3a1bacda2ccb",
     "showTitle": false,
     "tableResultSettingsMap": {},
     "title": ""
    }
   },
   "outputs": [],
   "source": [
    "india_df = spark.read.table(\"processed_data.india_trending_processed\")\n",
    "singapore_df = spark.read.table(\"processed_data.singapore_trending_processed\")\n",
    "usa_df = spark.read.table(\"processed_data.usa_trending_processed\")\n",
    "\n",
    "\n",
    "\n"
   ]
  },
  {
   "cell_type": "markdown",
   "metadata": {
    "application/vnd.databricks.v1+cell": {
     "cellMetadata": {},
     "inputWidgets": {},
     "nuid": "66a4b392-fe9f-4b15-bb47-01ac263bc22d",
     "showTitle": false,
     "tableResultSettingsMap": {},
     "title": ""
    }
   },
   "source": [
    "# Schema Check + Sampling"
   ]
  },
  {
   "cell_type": "code",
   "execution_count": 0,
   "metadata": {
    "application/vnd.databricks.v1+cell": {
     "cellMetadata": {
      "byteLimit": 2048000,
      "rowLimit": 10000
     },
     "inputWidgets": {},
     "nuid": "2920a285-6246-4eea-bb97-016e41d9fe03",
     "showTitle": false,
     "tableResultSettingsMap": {},
     "title": ""
    }
   },
   "outputs": [
    {
     "output_type": "stream",
     "name": "stdout",
     "output_type": "stream",
     "text": [
      "+-----------+------------------------+-------------------------------------------+---------------------------------------------------------------------------------------------------+--------------------------------------------------------------------------------------------------------------------------------------------------------------------------------------------------------------------------------------------------------------------------------------------------------------------------------------------------------------------------------------------------------------------------------------------------------------------------------------------------------------------------------------------------------------------------------------------------------------------------------------------------------------------------------------------------------------------------------------------------------------------------------------------------------------------------------------------------------------------------------------------------------------------------------------------------------------------------------------------------------------------------------------------------------------------------------------------------------------------------------------------------------------------------------------------------------------------------------------------------------------------------------------------------------------------------------------------------------------------------------------------------------------------------------------------------------------------------------------------------------------------------------------------------------------------------------------------------------------------------------------------------------------------------------------------------------------------------------------------------------------------------------------------------------------------------------------------------------------------------------------------------------------------------------------------------------------------------------------------------------------------------------------------------------------------------------------------------------------------------------------------------------------------------------------------------------------------------------------------------------------------------------------------------------------------------------------------------------------------------------------------------------------------------------------------------------------------------------------------------------------------------------------------------------------------------------------------------------------------------------------------------------------------------------------------------------------------------------------------------------------------------------------------------------------------------------------------------------------------------------------------------------------------------------------------------------------------------------------+----------+-------------------------------------------------------------------------------------------------------------------------------------------------------------------------------------------------------------------------------------------------------------------------------------------------------------------------------------------------------------------------------------------------------------------------------------------------------------------------------------------------+---------------+--------------------+---------+---------+------------+--------+-------+----------------+-------------+----+-----+----------+----------------+\n|id         |channelId               |channelTitle                               |title                                                                                              |description                                                                                                                                                                                                                                                                                                                                                                                                                                                                                                                                                                                                                                                                                                                                                                                                                                                                                                                                                                                                                                                                                                                                                                                                                                                                                                                                                                                                                                                                                                                                                                                                                                                                                                                                                                                                                                                                                                                                                                                                                                                                                                                                                                                                                                                                                                                                                                                                                                                                                                                                                                                                                                                                                                                                                                                                                                                                                                                                                                           |categoryId|tags                                                                                                                                                                                                                                                                                                                                                                                                                                                                                             |defaultLanguage|defaultAudioLanguage|viewCount|likeCount|commentCount|duration|caption|categoryName    |publishedDate|year|month|engagement|durationCategory|\n+-----------+------------------------+-------------------------------------------+---------------------------------------------------------------------------------------------------+--------------------------------------------------------------------------------------------------------------------------------------------------------------------------------------------------------------------------------------------------------------------------------------------------------------------------------------------------------------------------------------------------------------------------------------------------------------------------------------------------------------------------------------------------------------------------------------------------------------------------------------------------------------------------------------------------------------------------------------------------------------------------------------------------------------------------------------------------------------------------------------------------------------------------------------------------------------------------------------------------------------------------------------------------------------------------------------------------------------------------------------------------------------------------------------------------------------------------------------------------------------------------------------------------------------------------------------------------------------------------------------------------------------------------------------------------------------------------------------------------------------------------------------------------------------------------------------------------------------------------------------------------------------------------------------------------------------------------------------------------------------------------------------------------------------------------------------------------------------------------------------------------------------------------------------------------------------------------------------------------------------------------------------------------------------------------------------------------------------------------------------------------------------------------------------------------------------------------------------------------------------------------------------------------------------------------------------------------------------------------------------------------------------------------------------------------------------------------------------------------------------------------------------------------------------------------------------------------------------------------------------------------------------------------------------------------------------------------------------------------------------------------------------------------------------------------------------------------------------------------------------------------------------------------------------------------------------------------------------+----------+-------------------------------------------------------------------------------------------------------------------------------------------------------------------------------------------------------------------------------------------------------------------------------------------------------------------------------------------------------------------------------------------------------------------------------------------------------------------------------------------------+---------------+--------------------+---------+---------+------------+--------+-------+----------------+-------------+----+-----+----------+----------------+\n|ikasQ17KRiA|UC4zWG9LccdWGUlF77LZ8toA|Prime Video India                          |Andhera Season 1 - Official Trailer | Prajakta Koli, Surveen Chawla, Priya Bapat, Karanvir Malhotra|Prime Video India Presents\\nAndhera Season 1 Official Trailer\\nStarring Priya Bapat, Karanvir Malhotra, Prajakta Koli, Surveen Chawla, Vatsal Sheth, Parvin Dabas, Pranay Pachauri\\nDirected by Raaghav Dar\\nWritten by Gaurav Desai, Raaghav Dar, Karan Anshuman, Chintan\\nSarda, Akshat Ghildial, Karmanya Ahuja\\nCreated by Gaurav Desai\\nExecutive Producers: Ritesh Sidhwani, Farhan Akhtar, Kassim\\nJagmagia, Mohit Shah, Karan Anshuman\\nAssociate Producer: Vishal Ramchandani\\nProduction Company: Excel Media and Entertainment LLP\\n\\nOfficial Release Date Aug 14 2025, on Prime Video India.\\n\\nAbout:\\nIn the shadow of Mumbai&#39;s shimmering skyline, a sinister force\\nhunts the living. In this visceral tale of urban horror, a fearless cop\\nand a haunted medical student must take on this living darkness\\nto avert impending doom.\\n\\nFollow us on:\\nInstagram: https://www.instagram.com/primevideoin/\\nFacebook: https://www.facebook.com/PrimeVideoIN/\\nX: https://x.com/PrimeVideoIN\\n\\nABOUT PRIME VIDEO\\nPrime Video is a one-stop entertainment destination offering customers a vast collection of premium programming in one application available across several devices. On Prime Video, customers can find their favourite Indian and international original series, movies, TV shows, and more, across multiple languages – including Indian-produced Original series like Mirzapur, Farzi, Panchayat, The Family Man, Dhootha, Jubilee, Dahaad, Made in Heaven, Suzhal – The Vortex, Inspector Rishi, Poacher, Indian Police Force, Paatal Lok, Rainbow Rishta, Wedding.con; Original movies like Maja Ma, Ammu, Mast Mein Rehne Ka; popular global Originals like Citadel, The Lord of The Rings: The Rings of Power, Fallout, Reacher, The Boys, The Wheel of Time, Road House, The Idea of You; some of the biggest post-theatrical films; direct-to-service films such as Shershaah, Soorarai Pottru, Sardar Udham, Bawaal, Gehraiyaan, Jai Bhim, Jalsa, Sherni, Narappa, Sarpatta Parambarai, Kuruthi, Joji, Malik, Pippa, HOME, Sharmajee Ki Beti, and many more of such titles. Additionally, Prime Video’s video entertainment marketplace, offers customers programming from partners such as Lionsgate Play, Discovery+ Crunchyroll, BBC Player, Sony Pictures – Stream, MGM+, FanCode, Chaupal, Manorama Max, Eros Now, Hoichoi, Anime Times, to name a few, via Prime Video add-on-subscriptions, as well as the option to rent movies, regardless of whether customers have a Prime membership or not. Customers can also go behind the scenes of their favorite movies and series with exclusive X-Ray access. Prime Video is one benefit among many that provides savings, convenience, and entertainment as part of the Prime membership. For more info visit www.amazon.com/primevideo.\\n\\n#Andhera #primevideoindia #officialtrailer #prajaktakoli #andheraonprime\\n#priyabapat #surveenchawla #karanvirmalhotra #amazonprime|24        |[andhera, andhera trailer, andhera official trailer, andhera 2025, andhera movie, andhera series, andhera web series, andhera first look, andhera prime video, andhera ott release, andhera amazon prime, prajakta koli, prajakta koli fans, prajakta koli book, prajakta koli movies, prajakta koli videos, prajakta koli skincare, prajakta koli new video, prajakta kohli, prime video, prime video india, amazon prime, mostly sane, horror series, horror web series, horror, movie, series]|NULL           |en                  |2932388  |9640     |525         |141     |true   |Entertainment   |2025-08-08   |2025|8    |10165     |Short           |\n|cHd-vTYZ87A|UCmse5JbKneJqVyerfhDVYvQ|UV Creations                               |GHAATI Trailer (Telugu) | Anushka Shetty | Vikram Prabhu | Krish Jagarlamudi | UV Creations        |GHAATI Trailer (Telugu) on UV Creations.\\n\\n#GHAATI is an Upcoming Latest 2025 Movie Starring Anushka Shetty, Vikram Prabhu and others. Written & Directed by Krish Jagarlamudi. Music by Sagar Nagavelli. Produced by Rajeev Reddy and Sai Babu Jagarlamudi under First Frame Entertainments.\\n\\nIn Cinemas Worldwide from September 5th, 2025.\\n\\nIn Telugu, Tamil, Hindi, Kannada and Malayalam.\\n\\n#GhaatiTrailerTelugu #GhaatiTrailer #AnushkaShetty #VikramPrabhu #KrishJagarlamudi #NagavelliVidyaSagar #RajeevReddy #SaiBabuJagarlamudi #UVCreations #FirstFrameEntertainments #LatestTeluguTrailers2025 #LatestTeluguMovies2025\\n\\nCast: 'The Queen' Anushka Shetty, Vikram Prabhu & Others\\n\\nTechnical Crew:\\nWritten & Directed by: Krish Jagarlamudi\\nProduced by: Rajeev Reddy, Sai Babu Jagarlamudi\\nPresents: UV Creations\\nBanner: First Frame Entertainment\\nDirector of Photography: Manojh Reddy Katasani\\nMusic Director: Sagar Nagavelli  \\nArt Director: Thota Tharrani\\nStory: Chintakindi Srinivas Rao\\nDialogues: Sai Madhav Burra\\nAdditional Screenplay: D S Kannan, Ramana Salwa\\nLyrics: E S Murthy, Krish Jagarlamudi\\nEditor: Venkata Swamy Nakka, Chanakya Reddy Toorupu\\nAction: Ram Krishan\\nChoreographer: Raju Sundaram\\nCostumes: Aishwarya Rajeev\\nExecutive Producer: Suhasini Panguluri\\nSound Design: Sreesan G\\nSound Mix: Tapas Nayak \\nVFX Executive Producer: Ujwal\\nVFX Supervisor: Raghav Tammareddy, Bhavani Vara Prasad. CH\\nColorist: Vishnu Vardhan K\\nTrailer Cut: M. Sandeep, Nikhil Nadella\\nPublicity Designs: Anil & Bhanu\\nPRO: Vamsi-Shekar\\nMarketing: First Show\\nCo-Director: Seshu Kumar. M\\nChief Associate Director: Ramana Jagarlamudi(RJ)\\nAssociate Directors: Satyadev Jayanthi, Thanmayee Adi, Dedeep Ganapathineedi, Ranadheer Siddavaram, Navya Nagesh\\nAssistant Directors:  R Venkata Rahul, Seeta Madhur, Prathyusha Bandari, Madhav Pakki\\n\\nAudio Label: Aditya Music\\n\\nClick Here To Watch:  \\n\\nGHAATI Glimpse: https://youtu.be/W5FkYULk3Ls\\n\\nVT15 Shoot Begins: https://youtu.be/x2LODVjyec0\\n\\nVISHWAMBHARA Official Teaser : https://youtu.be/NCv-wz1nSnE\\n\\nCouple Friendly - Santosh Sobhan Birthday Glimpse - https://youtu.be/-uBqVFbXCxY\\n\\nMaa Nanna Super Hero Trailer : https://www.youtube.com/watch?v=uGV5i7YoprE\\n\\nBhaje Vaayu Vegam Trailer : https://youtu.be/q0kQT1HKiNE\\n\\nFollow For More Updates About UV Creations:\\n\\nLike: https://www.facebook.com/UVCTheMovieMakers\\nFollow: https://www.instagram.com/uvcreationsofficial  \\nFollow: https://twitter.com/UV_Creations\\nSubscribe: https://www.youtube.com/c/UVCreations                                                                                                                                                                                                                                                                                                                                                  |24        |[GHAATI Trailer (Telugu), Anushka Shetty, Vikram Prabhu, Krish Jagarlamudi, UV Creations, GHAATI, GHAATI Movie, Ghaati Movie Trailer, Ghaati Telugu Movie Trailer, Ghaati Telugu Movie, Anushka Ghaati, Anushka Movies, Anushka Latest Movies, Anushka Upcoming Movies, Anushka, Anushka Shetty New Movie, First Frame Entertainments, Nagavelli Vidya Sagar, Sai Babu Jagarlamudi, 2025 Telugu Movies, 2025 Latest Telugu Movies, 2025 Anushka Movies, KrishMovies, Latest Telugu Trailers 2025]|NULL           |en                  |3622582  |105708   |3711        |142     |true   |Entertainment   |2025-08-06   |2025|8    |109419    |Short           |\n|iFh8_VJWfmc|UC4ErS6cncrKu8YzBau2UfSg|ಕನ್ನಡ ಭಕ್ತಿ ಸಾಂಗ್ಸ್ - Kannada Bhakthi Songs|ವರಮಹಾಲಕ್ಷ್ಮಿ ವ್ರತ ವಿಶೇಷ | ಲಕ್ಷ್ಮಿ ದೇವಿ ಹಾಡುಗಳು | Vara Lakshmi Devi Songs | Kannada Bhakthi Songs   |ವರಮಹಾಲಕ್ಷ್ಮಿ ವ್ರತ ವಿಶೇಷ | ಲಕ್ಷ್ಮಿ ದೇವಿ ಹಾಡುಗಳು | Vara Lakshmi Devi Songs | Kannada Bhakthi Songs\\n\\nSongs In  This Video : \\n00:00 -  Bhagyada Lakshmi Baramma - ಭಾಗ್ಯದ ಲಕ್ಷ್ಮಿ ಬಾರಮ್ಮ\\n05:10 - Ele Belathingala - ಎಲೆ ಬೆಲತಿಂಗಳ\\n10:31 - Sumanasa Vanditha - ಸುಮನಸ ವಂದಿತ\\n15:37 - Sri lakshmi Bandavale - ಶ್ರೀ ಲಕ್ಷ್ಮಿ ಬಂದವಳೇ\\n20:08 - Asta Lakshm Suprabhata - ಅಷ್ಟ ಲಕ್ಷ್ಮೀ ಸುಪ್ರಭಾತ\\n33:38 - Namastu Maha Maaye - ನಮಸ್ತೇಸ್ತು ಮಹಾಮಾಯೆ\\n39:55 - Sri Lakshmi Shatanamavali - ಶ್ರೀ ಲಕ್ಷ್ಮಿ ಶತನಾಮಾವಳಿ\\n\\n#LakshmiDeviSongs\\n#BhakthiSongs\\n#Bhakthi\\n#VaralakshmiVratham\\n#VaralakshmiVrathamSongs\\n#Sravanamasam                                                                                                                                                                                                                                                                                                                                                                                                                                                                                                                                                                                                                                                                                                                                                                                                                                                                                                                                                                                                                                                                                                                                                                                                                                                                                                                                                                                                                                                                                                                                                                                                                                                                                                                                                                                                                                                                                                                                                                                                                                                                                                                                                                                                                                                                                                                                                                        |10        |[ಮಹಾಲಕ್ಷ್ಮಿ ವ್ರತ ವಿಶೇಷ, ಲಕ್ಷ್ಮಿ ದೇವಿ ಹಾಡುಗಳು, Vara Lakshmi Devi Songs, Kannada Bhakthi Songs, Bhagyada Lakshmi Baramma, Ele Belathingala, Sumanasa Vanditha, Sri lakshmi Bandavale, Asta Lakshm Suprabhata, Namastu Maha Maaye, Sri Lakshmi Shatanamavali, Lakshmi Devi Songs, Bhakthi Songs, lakshmi vratam songs, varalakshmi vratam haadugalu, varalakshmi vratam lakshmi devi songs, varalakshmi vratram lakshmi devi haadugalu, lakshmi devi songs, lakshmi devi bhakthi haadugalu]         |NULL           |kn                  |313375   |1230     |47          |3749    |false  |Music           |2025-08-07   |2025|8    |1277      |Long            |\n|3APZjsE8Wdo|UCZ9lCUhUOUrwqVJmfBkN92A|YesSmartyPie                               |HIMLANDS - THE RISE OF A NEW ENTITY [S-6 part 34]                                                  |#himlandsnewseason  \\n\\nNew Minecraft server BattlePie ~ https://discord.gg/battlepie\\nip ~ play.battlepie.net\\nCome, Play and let's have fun together\\n\\nPrevious Episode ~ https://youtu.be/HDmYyQPS490\\n\\nBecome a Channel Member for Bonus Clips of Himlands \uD83D\uDE01.\\nhttps://www.youtube.com/channel/UCZ9lCUhUOUrwqVJmfBkN92A/join\\n\\n\\nSubscribe to My New Gaming Channel ~  @SmartyPieUnlimited \\n\\nMy Whatsapp channel ~ https://whatsapp.com/channel/0029Va79tQ92UPBEgjMQXX2N\\n\\n\\nHIMLANDS - THE RISE OF A NEW ENTITY [S-6 part 34]\\n\\nMusic in Background by Epidemic Sounds ~ https://www.epidemicsound.com/referral/79rja1\\n\\nFollow me on Instagram ~ https://www.instagram.com/yes_smartypieog\\n\\nVlog Channel ~\\nHitesh Khangta Vlogs ~ https://www.youtube.com/channel/UCwCk4ZRlwu5mX_i_CckcWvw\\n\\nYesSmartyPie Shorts ~\\nhttps://youtube.com/channel/UCjWM0iY1NoLJE4MHwy2J9Qg\\n\\n\\n\\n\\n\\nDiscord link ~ https://discord.gg/Hc5x6vDB7Z\\n\\n\\nGame Name - Minecraft\\n\\n\\n\\n\\n\\n\\n\\n\\n\\n\\n\\n\\n\\nif you see this ~ comment #YesSmartyPie6                                                                                                                                                                                                                                                                                                                                                                                                                                                                                                                                                                                                                                                                                                                                                                                                                                                                                                                                                                                                                                                                                                                                                                                                                                                                                                                                                                                                                                                                                                                                                                                                                                                                                                                                                                                                                                                                                                                                    |20        |[YesSmartyPie, Yes smarty pie, SmartyPie, Smarty pie, YesSmartyPie Skyblock, YesSmartyPie Minecraft, Minecraft YesSmartyPie, yessmartypie himlands, himlands, yessmartypie himlands new video, smartypie himland, himland world, minecraft world himland, HIMLANDS ENTITIES BIGGEST SECRET REVEALED, I GOT SCAMMED, getting scammed in himlands, HIMLANDS BIGGEST ENTITY IS WEAK NOW, KILLWISH KIDNAPPED MY FRIEND, himlands episode 29, killwish wizard relation, THE RISE OF A NEW ENTITY]     |NULL           |hi                  |724075   |75934    |5013        |4162    |false  |Gaming          |2025-08-09   |2025|8    |80947     |Long            |\n|z3qVQClFwY8|UC3jMepkLKF8y4iiwWmAB3RA|Zee Studios                                |JATADHARA Official Teaser | Sudheer Babu | Sonakshi Sinha | Prerna Arora |Telugu-Hindi| Coming Soon|Releasing soon.\\n\\nZee Studios & Prerna Arora presents\\n \\nJATADHARA (Telugu & Hindi)\\nStarring Sudheer Babu & Sonakshi Sinha\\n\\nProduced by Umesh Kumar Bansal, Shivin Narang, Aruna Agarwal, Prerna Arora, Shilpa Singhal, Nikhil Nanda\\nCo-produced by Akshay Kejriwal, Kussum Arora\\nCreative Producer: Divya Vijay\\nDirected by Venkat Kalyan & Abhishek Jaiswal\\nWritten by Venkat Kalyan\\nAn Ess Kay Gee Entertainment Film\\nMusic by Zee Music Company \\n\\nA Zee Studios Worldwide Release\\n\\nStay Updated On:\\nhttps://www.facebook.com/ZeeStudios\\nhttps://twitter.com/ZeeStudios_\\nhttps://www.instagram.com/zeestudiosofficial/\\nhttps://www.youtube.com/@ZeeStudiosOfficial                                                                                                                                                                                                                                                                                                                                                                                                                                                                                                                                                                                                                                                                                                                                                                                                                                                                                                                                                                                                                                                                                                                                                                                                                                                                                                                                                                                                                                                                                                                                                                                                                                                                                                                                                                                                                                                                                                                                                                                                                                                                                                                                                                                                                                                                                              |1         |[Zee Studios, Bollywood Cinema, Hindi Cinema, Bollywood movie, Latest bollywood movie, upcoming bollywood movie, Promo, Trailer, Teaser, zee, entertainment, popular, famous, superhit, Blockbuster movie]                                                                                                                                                                                                                                                                                       |NULL           |en                  |5489968  |24031    |828         |74      |false  |Film & Animation|2025-08-08   |2025|8    |24859     |Short           |\n+-----------+------------------------+-------------------------------------------+---------------------------------------------------------------------------------------------------+--------------------------------------------------------------------------------------------------------------------------------------------------------------------------------------------------------------------------------------------------------------------------------------------------------------------------------------------------------------------------------------------------------------------------------------------------------------------------------------------------------------------------------------------------------------------------------------------------------------------------------------------------------------------------------------------------------------------------------------------------------------------------------------------------------------------------------------------------------------------------------------------------------------------------------------------------------------------------------------------------------------------------------------------------------------------------------------------------------------------------------------------------------------------------------------------------------------------------------------------------------------------------------------------------------------------------------------------------------------------------------------------------------------------------------------------------------------------------------------------------------------------------------------------------------------------------------------------------------------------------------------------------------------------------------------------------------------------------------------------------------------------------------------------------------------------------------------------------------------------------------------------------------------------------------------------------------------------------------------------------------------------------------------------------------------------------------------------------------------------------------------------------------------------------------------------------------------------------------------------------------------------------------------------------------------------------------------------------------------------------------------------------------------------------------------------------------------------------------------------------------------------------------------------------------------------------------------------------------------------------------------------------------------------------------------------------------------------------------------------------------------------------------------------------------------------------------------------------------------------------------------------------------------------------------------------------------------------------------------+----------+-------------------------------------------------------------------------------------------------------------------------------------------------------------------------------------------------------------------------------------------------------------------------------------------------------------------------------------------------------------------------------------------------------------------------------------------------------------------------------------------------+---------------+--------------------+---------+---------+------------+--------+-------+----------------+-------------+----+-----+----------+----------------+\nonly showing top 5 rows\n"
     ]
    }
   ],
   "source": [
    "india_df.show(5, truncate=False)\n"
   ]
  },
  {
   "cell_type": "code",
   "execution_count": 0,
   "metadata": {
    "application/vnd.databricks.v1+cell": {
     "cellMetadata": {
      "byteLimit": 2048000,
      "rowLimit": 10000
     },
     "inputWidgets": {},
     "nuid": "9100fd16-2635-44d7-b2a7-d305c7d89ce2",
     "showTitle": false,
     "tableResultSettingsMap": {},
     "title": ""
    }
   },
   "outputs": [
    {
     "output_type": "stream",
     "name": "stdout",
     "output_type": "stream",
     "text": [
      "root\n |-- id: string (nullable = true)\n |-- channelId: string (nullable = true)\n |-- channelTitle: string (nullable = true)\n |-- title: string (nullable = true)\n |-- description: string (nullable = true)\n |-- categoryId: string (nullable = true)\n |-- tags: array (nullable = true)\n |    |-- element: string (containsNull = true)\n |-- defaultLanguage: string (nullable = true)\n |-- defaultAudioLanguage: string (nullable = true)\n |-- viewCount: integer (nullable = true)\n |-- likeCount: integer (nullable = true)\n |-- commentCount: integer (nullable = true)\n |-- duration: integer (nullable = true)\n |-- caption: string (nullable = true)\n |-- categoryName: string (nullable = true)\n |-- publishedDate: date (nullable = true)\n |-- year: integer (nullable = true)\n |-- month: integer (nullable = true)\n |-- engagement: integer (nullable = true)\n |-- durationCategory: string (nullable = true)\n\n"
     ]
    }
   ],
   "source": [
    "india_df.printSchema()"
   ]
  },
  {
   "cell_type": "code",
   "execution_count": 0,
   "metadata": {
    "application/vnd.databricks.v1+cell": {
     "cellMetadata": {
      "byteLimit": 2048000,
      "rowLimit": 10000
     },
     "inputWidgets": {},
     "nuid": "57f21e5f-6be1-445e-a08e-9a8dbc2facea",
     "showTitle": false,
     "tableResultSettingsMap": {},
     "title": ""
    }
   },
   "outputs": [
    {
     "output_type": "stream",
     "name": "stdout",
     "output_type": "stream",
     "text": [
      "+-----------+--------------------+--------------------+--------------------+--------------------+----------+--------------------+---------------+--------------------+---------+---------+------------+--------+-------+----------------+-------------+----+-----+----------+----------------+\n|         id|           channelId|        channelTitle|               title|         description|categoryId|                tags|defaultLanguage|defaultAudioLanguage|viewCount|likeCount|commentCount|duration|caption|    categoryName|publishedDate|year|month|engagement|durationCategory|\n+-----------+--------------------+--------------------+--------------------+--------------------+----------+--------------------+---------------+--------------------+---------+---------+------------+--------+-------+----------------+-------------+----+-----+----------+----------------+\n|ikasQ17KRiA|UC4zWG9LccdWGUlF7...|   Prime Video India|Andhera Season 1 ...|Prime Video India...|        24|[andhera, andhera...|           NULL|                  en|  2932388|     9640|         525|     141|   true|   Entertainment|   2025-08-08|2025|    8|     10165|           Short|\n|cHd-vTYZ87A|UCmse5JbKneJqVyer...|        UV Creations|GHAATI Trailer (T...|GHAATI Trailer (T...|        24|[GHAATI Trailer (...|           NULL|                  en|  3622582|   105708|        3711|     142|   true|   Entertainment|   2025-08-06|2025|    8|    109419|           Short|\n|iFh8_VJWfmc|UC4ErS6cncrKu8YzB...|ಕನ್ನಡ ಭಕ್ತಿ ಸಾಂಗ್...|ವರಮಹಾಲಕ್ಷ್ಮಿ ವ್ರತ...|ವರಮಹಾಲಕ್ಷ್ಮಿ ವ್ರತ...|        10|[ಮಹಾಲಕ್ಷ್ಮಿ ವ್ರತ ...|           NULL|                  kn|   313375|     1230|          47|    3749|  false|           Music|   2025-08-07|2025|    8|      1277|            Long|\n|3APZjsE8Wdo|UCZ9lCUhUOUrwqVJm...|        YesSmartyPie|HIMLANDS - THE RI...|#himlandsnewseaso...|        20|[YesSmartyPie, Ye...|           NULL|                  hi|   724075|    75934|        5013|    4162|  false|          Gaming|   2025-08-09|2025|    8|     80947|            Long|\n|z3qVQClFwY8|UC3jMepkLKF8y4iiw...|         Zee Studios|JATADHARA Officia...|Releasing soon.\\n...|         1|[Zee Studios, Bol...|           NULL|                  en|  5489968|    24031|         828|      74|  false|Film & Animation|   2025-08-08|2025|    8|     24859|           Short|\n+-----------+--------------------+--------------------+--------------------+--------------------+----------+--------------------+---------------+--------------------+---------+---------+------------+--------+-------+----------------+-------------+----+-----+----------+----------------+\nonly showing top 5 rows\n"
     ]
    }
   ],
   "source": [
    "india_df.show(5)"
   ]
  },
  {
   "cell_type": "markdown",
   "metadata": {
    "application/vnd.databricks.v1+cell": {
     "cellMetadata": {},
     "inputWidgets": {},
     "nuid": "eb39d7d4-9b7a-473e-8696-928316430fa2",
     "showTitle": false,
     "tableResultSettingsMap": {},
     "title": ""
    }
   },
   "source": [
    "# Most Popular Categories (By Views) per Country"
   ]
  },
  {
   "cell_type": "code",
   "execution_count": 0,
   "metadata": {
    "application/vnd.databricks.v1+cell": {
     "cellMetadata": {
      "byteLimit": 2048000,
      "rowLimit": 10000
     },
     "inputWidgets": {},
     "nuid": "76a847dd-f0a4-47c6-9848-646002200a8c",
     "showTitle": false,
     "tableResultSettingsMap": {},
     "title": ""
    }
   },
   "outputs": [],
   "source": [
    "from pyspark.sql.functions import sum\n",
    "\n",
    "india_top_categories = india_df.groupBy(\"categoryName\").agg(sum(\"viewCount\").alias(\"totalViews\")).orderBy(\"totalViews\", ascending=False)\n",
    "singapore_top_categories = singapore_df.groupBy(\"categoryName\").agg(sum(\"viewCount\").alias(\"totalViews\")).orderBy(\"totalViews\", ascending=False)\n",
    "usa_top_categories = usa_df.groupBy(\"categoryName\").agg(sum(\"viewCount\").alias(\"totalViews\")).orderBy(\"totalViews\", ascending=False)\n"
   ]
  },
  {
   "cell_type": "code",
   "execution_count": 0,
   "metadata": {
    "application/vnd.databricks.v1+cell": {
     "cellMetadata": {
      "byteLimit": 2048000,
      "rowLimit": 10000
     },
     "inputWidgets": {},
     "nuid": "3c0bd6e3-1cd1-4e00-8ba5-e556839b990b",
     "showTitle": false,
     "tableResultSettingsMap": {},
     "title": ""
    }
   },
   "outputs": [
    {
     "output_type": "stream",
     "name": "stdout",
     "output_type": "stream",
     "text": [
      "+----------------+----------+\n|    categoryName|totalViews|\n+----------------+----------+\n|          Gaming|  12609380|\n|           Music|   9953226|\n|   Entertainment|   2880310|\n|  People & Blogs|   1399478|\n|Film & Animation|   1231124|\n+----------------+----------+\n\n"
     ]
    }
   ],
   "source": [
    "usa_top_categories .show()"
   ]
  },
  {
   "cell_type": "markdown",
   "metadata": {
    "application/vnd.databricks.v1+cell": {
     "cellMetadata": {},
     "inputWidgets": {},
     "nuid": "e485ce54-8cde-4410-b330-015594cf4fa5",
     "showTitle": false,
     "tableResultSettingsMap": {},
     "title": ""
    }
   },
   "source": [
    "# Average Engagement Metrics per Category"
   ]
  },
  {
   "cell_type": "code",
   "execution_count": 0,
   "metadata": {
    "application/vnd.databricks.v1+cell": {
     "cellMetadata": {
      "byteLimit": 2048000,
      "rowLimit": 10000
     },
     "inputWidgets": {},
     "nuid": "071654fc-1fea-4b1a-bb57-630b08805708",
     "showTitle": false,
     "tableResultSettingsMap": {},
     "title": ""
    }
   },
   "outputs": [],
   "source": [
    "# We have to find out which category has more engagement in which country."
   ]
  },
  {
   "cell_type": "code",
   "execution_count": 0,
   "metadata": {
    "application/vnd.databricks.v1+cell": {
     "cellMetadata": {
      "byteLimit": 2048000,
      "rowLimit": 10000
     },
     "inputWidgets": {},
     "nuid": "4a94abf3-940e-46c0-88e5-ee1be1443083",
     "showTitle": false,
     "tableResultSettingsMap": {},
     "title": ""
    }
   },
   "outputs": [
    {
     "output_type": "stream",
     "name": "stdout",
     "output_type": "stream",
     "text": [
      "+----------------+------------------+------------------+------------------+\n|    categoryName|         avg_views|         avg_likes|      avg_comments|\n+----------------+------------------+------------------+------------------+\n|  People & Blogs| 466492.6666666667|22476.333333333332|1412.3333333333333|\n|Film & Animation| 410374.6666666667|18770.333333333332|1576.3333333333333|\n|          Gaming| 700521.1111111111|25034.722222222223|2093.6111111111113|\n|   Entertainment|          576062.0|           11993.2|            1399.4|\n|           Music|473963.14285714284|17531.761904761905| 898.8571428571429|\n+----------------+------------------+------------------+------------------+\n\n"
     ]
    }
   ],
   "source": [
    "from pyspark.sql.functions import avg\n",
    "\n",
    "usa_avg = usa_df.groupBy(\"categoryName\").agg(\n",
    "    avg(\"viewCount\").alias(\"avg_views\"),\n",
    "    avg(\"likeCount\").alias(\"avg_likes\"),\n",
    "    avg(\"commentCount\").alias(\"avg_comments\")\n",
    ")\n",
    "usa_avg.show()\n"
   ]
  },
  {
   "cell_type": "code",
   "execution_count": 0,
   "metadata": {
    "application/vnd.databricks.v1+cell": {
     "cellMetadata": {
      "byteLimit": 2048000,
      "rowLimit": 10000
     },
     "inputWidgets": {},
     "nuid": "9107c556-d310-4c18-8923-ea6351148881",
     "showTitle": false,
     "tableResultSettingsMap": {},
     "title": ""
    }
   },
   "outputs": [
    {
     "output_type": "stream",
     "name": "stdout",
     "output_type": "stream",
     "text": [
      "+----------------+------------------+------------------+------------------+\n|    categoryName|         avg_views|         avg_likes|      avg_comments|\n+----------------+------------------+------------------+------------------+\n|  People & Blogs|          747044.0|           19489.0|1049.6666666666667|\n|Film & Animation|        2093308.75|           28217.5|            839.25|\n|          Gaming| 893735.6153846154|35047.769230769234|1808.7692307692307|\n|   Entertainment|        1202373.25|           63104.5|2439.6666666666665|\n|           Music|2807198.6666666665| 65657.16666666667| 4195.388888888889|\n+----------------+------------------+------------------+------------------+\n\n"
     ]
    }
   ],
   "source": [
    "from pyspark.sql.functions import avg\n",
    "\n",
    "india_avg = india_df.groupBy(\"categoryName\").agg(\n",
    "    avg(\"viewCount\").alias(\"avg_views\"),\n",
    "    avg(\"likeCount\").alias(\"avg_likes\"),\n",
    "    avg(\"commentCount\").alias(\"avg_comments\")\n",
    ")\n",
    "india_avg.show()"
   ]
  },
  {
   "cell_type": "code",
   "execution_count": 0,
   "metadata": {
    "application/vnd.databricks.v1+cell": {
     "cellMetadata": {
      "byteLimit": 2048000,
      "rowLimit": 10000
     },
     "inputWidgets": {},
     "nuid": "29e4c955-fe07-4165-b3c2-c2e1da2c198b",
     "showTitle": false,
     "tableResultSettingsMap": {},
     "title": ""
    }
   },
   "outputs": [
    {
     "output_type": "stream",
     "name": "stdout",
     "output_type": "stream",
     "text": [
      "+----------------+------------------+------------------+------------------+\n|    categoryName|         avg_views|         avg_likes|      avg_comments|\n+----------------+------------------+------------------+------------------+\n|  People & Blogs|        1037603.75|           49356.5|           3451.75|\n|Film & Animation| 8719190.333333334|           78767.0|4019.6666666666665|\n|          Gaming|         1993430.0|41435.933333333334|            1751.2|\n|          Sports|         5712448.0|          105317.0|            4694.0|\n|   Entertainment| 7730351.428571428|          221408.0|           11092.0|\n|           Music|3716897.9411764704|158684.17647058822| 6118.941176470588|\n+----------------+------------------+------------------+------------------+\n\n"
     ]
    }
   ],
   "source": [
    "from pyspark.sql.functions import avg\n",
    "\n",
    "singapore_avg = singapore_df.groupBy(\"categoryName\").agg(\n",
    "    avg(\"viewCount\").alias(\"avg_views\"),\n",
    "    avg(\"likeCount\").alias(\"avg_likes\"),\n",
    "    avg(\"commentCount\").alias(\"avg_comments\")\n",
    ")\n",
    "singapore_avg.show()"
   ]
  },
  {
   "cell_type": "markdown",
   "metadata": {
    "application/vnd.databricks.v1+cell": {
     "cellMetadata": {},
     "inputWidgets": {},
     "nuid": "d92d6430-bfc5-4846-8789-1605a98bb427",
     "showTitle": false,
     "tableResultSettingsMap": {},
     "title": ""
    }
   },
   "source": [
    "# Top Channels in Each Country"
   ]
  },
  {
   "cell_type": "code",
   "execution_count": 0,
   "metadata": {
    "application/vnd.databricks.v1+cell": {
     "cellMetadata": {
      "byteLimit": 2048000,
      "rowLimit": 10000
     },
     "inputWidgets": {},
     "nuid": "b1a655b9-8e92-459d-a180-8a1486807dfb",
     "showTitle": false,
     "tableResultSettingsMap": {},
     "title": ""
    }
   },
   "outputs": [
    {
     "output_type": "stream",
     "name": "stdout",
     "output_type": "stream",
     "text": [
      "+-------------------+----------+\n|       channelTitle|totalViews|\n+-------------------+----------+\n|       Excel Movies|  25329114|\n|             Sun TV|  21923784|\n|             Avatar|  20183637|\n|       Warner Bros.|  15850611|\n|   Sony Music South|  13191803|\n|        Brawl Stars|  12932859|\n|Junglee Music Tamil|  11421274|\n|                YRF|   9209754|\n|          BLACKPINK|   8496334|\n| Universal Pictures|   8435444|\n+-------------------+----------+\nonly showing top 10 rows\n"
     ]
    }
   ],
   "source": [
    "singapore_df.groupBy(\"channelTitle\").agg(sum(\"viewCount\").alias(\"totalViews\")).orderBy(\"totalViews\", ascending=False).show(10)\n"
   ]
  },
  {
   "cell_type": "code",
   "execution_count": 0,
   "metadata": {
    "application/vnd.databricks.v1+cell": {
     "cellMetadata": {
      "byteLimit": 2048000,
      "rowLimit": 10000
     },
     "inputWidgets": {},
     "nuid": "62102e1d-8033-494a-abf3-685fa947bc22",
     "showTitle": false,
     "tableResultSettingsMap": {},
     "title": ""
    }
   },
   "outputs": [
    {
     "output_type": "stream",
     "name": "stdout",
     "output_type": "stream",
     "text": [
      "+---------------+----------+\n|   channelTitle|totalViews|\n+---------------+----------+\n|       T-Series|   5067756|\n| MrBeast Gaming|   2807057|\n|     KreekCraft|   2473405|\n|        Peacock|   2057632|\n| Asmongold TV  |   1387047|\n|    MoreSidemen|   1213482|\n|Epitaph Records|   1134819|\n|     CaylusBlox|    997594|\n|     DOM Studio|    838822|\n|         Foltyn|    798010|\n+---------------+----------+\nonly showing top 10 rows\n"
     ]
    }
   ],
   "source": [
    "usa_df.groupBy(\"channelTitle\").agg(sum(\"viewCount\").alias(\"totalViews\")).orderBy(\"totalViews\", ascending=False).show(10)\n"
   ]
  },
  {
   "cell_type": "code",
   "execution_count": 0,
   "metadata": {
    "application/vnd.databricks.v1+cell": {
     "cellMetadata": {
      "byteLimit": 2048000,
      "rowLimit": 10000
     },
     "inputWidgets": {},
     "nuid": "cfb808fb-8572-415b-8271-c88a0befb73b",
     "showTitle": false,
     "tableResultSettingsMap": {},
     "title": ""
    }
   },
   "outputs": [
    {
     "output_type": "stream",
     "name": "stdout",
     "output_type": "stream",
     "text": [
      "+--------------------+----------+\n|        channelTitle|totalViews|\n+--------------------+----------+\n|            T-Series|  20984585|\n|Universal Music I...|  12361086|\n|                 YRF|   9209754|\n|         Zee Studios|   5489968|\n|           Purav Jha|   4492281|\n|        UV Creations|   3622582|\n|   Prime Video India|   2932388|\n|      MrBeast Gaming|   2807057|\n|Five Star Creations |   2070010|\n| Tropical 3D Animals|   1880896|\n+--------------------+----------+\nonly showing top 10 rows\n"
     ]
    }
   ],
   "source": [
    "india_df.groupBy(\"channelTitle\").agg(sum(\"viewCount\").alias(\"totalViews\")).orderBy(\"totalViews\", ascending=False).show(10)\n"
   ]
  },
  {
   "cell_type": "code",
   "execution_count": 0,
   "metadata": {
    "application/vnd.databricks.v1+cell": {
     "cellMetadata": {},
     "inputWidgets": {},
     "nuid": "95c2f21e-1bb5-4706-bdaa-9a2b0f25e572",
     "showTitle": false,
     "tableResultSettingsMap": {},
     "title": ""
    }
   },
   "outputs": [],
   "source": []
  },
  {
   "cell_type": "markdown",
   "metadata": {
    "application/vnd.databricks.v1+cell": {
     "cellMetadata": {},
     "inputWidgets": {},
     "nuid": "301f3840-1738-42af-ad1b-7d12098ed769",
     "showTitle": false,
     "tableResultSettingsMap": {},
     "title": ""
    }
   },
   "source": [
    "# Combine Insights"
   ]
  },
  {
   "cell_type": "code",
   "execution_count": 0,
   "metadata": {
    "application/vnd.databricks.v1+cell": {
     "cellMetadata": {
      "byteLimit": 2048000,
      "rowLimit": 10000
     },
     "inputWidgets": {},
     "nuid": "719add24-600e-407a-9cf1-78919f020437",
     "showTitle": false,
     "tableResultSettingsMap": {},
     "title": ""
    }
   },
   "outputs": [],
   "source": [
    "# category wise comparison for all countries in one table"
   ]
  },
  {
   "cell_type": "code",
   "execution_count": 0,
   "metadata": {
    "application/vnd.databricks.v1+cell": {
     "cellMetadata": {
      "byteLimit": 2048000,
      "rowLimit": 10000
     },
     "inputWidgets": {},
     "nuid": "022ce296-c639-4951-8100-27a5010c156a",
     "showTitle": false,
     "tableResultSettingsMap": {},
     "title": ""
    }
   },
   "outputs": [
    {
     "output_type": "stream",
     "name": "stdout",
     "output_type": "stream",
     "text": [
      "+----------------+-----------+---------+---------------+\n|    categoryName|india_views|usa_views|singapore_views|\n+----------------+-----------+---------+---------------+\n|  People & Blogs|    2241132|  1399478|        4150415|\n|Film & Animation|    8373235|  1231124|       52315142|\n|          Gaming|   11618563| 12609380|       29901450|\n|   Entertainment|   14428479|  2880310|       54112460|\n|           Music|   50529576|  9953226|       63187265|\n|          Sports|          0|        0|        5712448|\n+----------------+-----------+---------+---------------+\n\n"
     ]
    }
   ],
   "source": [
    "from pyspark.sql.functions import sum\n",
    "\n",
    "# Aggregate view count by category for each country\n",
    "india_cat = india_df.groupBy(\"categoryName\").agg(sum(\"viewCount\").alias(\"india_views\"))\n",
    "usa_cat = usa_df.groupBy(\"categoryName\").agg(sum(\"viewCount\").alias(\"usa_views\"))\n",
    "sing_cat = singapore_df.groupBy(\"categoryName\").agg(sum(\"viewCount\").alias(\"singapore_views\"))\n",
    "\n",
    "# Join all\n",
    "combined = india_cat.join(usa_cat, \"categoryName\", \"outer\").join(sing_cat, \"categoryName\", \"outer\").fillna(0)\n",
    "combined.show()\n"
   ]
  },
  {
   "cell_type": "markdown",
   "metadata": {
    "application/vnd.databricks.v1+cell": {
     "cellMetadata": {},
     "inputWidgets": {},
     "nuid": "1b06fe74-60e8-4ae7-b8f7-869af572a463",
     "showTitle": false,
     "tableResultSettingsMap": {},
     "title": ""
    }
   },
   "source": [
    "# Upload Frequency per Day (Digital Culture Insight)"
   ]
  },
  {
   "cell_type": "code",
   "execution_count": 0,
   "metadata": {
    "application/vnd.databricks.v1+cell": {
     "cellMetadata": {
      "byteLimit": 2048000,
      "rowLimit": 10000
     },
     "inputWidgets": {},
     "nuid": "b3a84bf5-0c83-491e-84b9-0b7be1daf609",
     "showTitle": false,
     "tableResultSettingsMap": {},
     "title": ""
    }
   },
   "outputs": [
    {
     "output_type": "stream",
     "name": "stdout",
     "output_type": "stream",
     "text": [
      "+-----------+-----+\n|upload_date|count|\n+-----------+-----+\n| 2025-08-03|    1|\n| 2025-08-06|    1|\n| 2025-08-07|    9|\n| 2025-08-08|   24|\n| 2025-08-09|   13|\n| 2025-08-10|    2|\n+-----------+-----+\n\n"
     ]
    }
   ],
   "source": [
    "from pyspark.sql.functions import to_date\n",
    "\n",
    "india_daily = india_df.withColumn(\"upload_date\", to_date(\"publishedDate\")) \\\n",
    "                      .groupBy(\"upload_date\").count().orderBy(\"upload_date\")\n",
    "\n",
    "india_daily.show()\n"
   ]
  },
  {
   "cell_type": "code",
   "execution_count": 0,
   "metadata": {
    "application/vnd.databricks.v1+cell": {
     "cellMetadata": {
      "byteLimit": 2048000,
      "rowLimit": 10000
     },
     "inputWidgets": {},
     "nuid": "8d30fc52-a59e-41e9-bb55-de6619741792",
     "showTitle": false,
     "tableResultSettingsMap": {},
     "title": ""
    }
   },
   "outputs": [
    {
     "output_type": "stream",
     "name": "stdout",
     "output_type": "stream",
     "text": [
      "+-----------+----------------+-------------------------------------------+-----------+\n|upload_date|categoryName    |channelTitle                               |video_count|\n+-----------+----------------+-------------------------------------------+-----------+\n|2025-08-03 |Music           |Anu Dubey Entertainment                    |1          |\n|2025-08-06 |Entertainment   |UV Creations                               |1          |\n|2025-08-07 |Music           |Think Music Telugu                         |1          |\n|2025-08-07 |Music           |ಕನ್ನಡ ಭಕ್ತಿ ಸಾಂಗ್ಸ್ - Kannada Bhakthi Songs|1          |\n|2025-08-07 |Music           |SRE BAKTHI                                 |1          |\n|2025-08-07 |Entertainment   |Udaya TV                                   |1          |\n|2025-08-07 |Entertainment   |Purav Jha                                  |1          |\n|2025-08-07 |Music           |YRF                                        |1          |\n|2025-08-07 |Music           |T-Series Tamil                             |1          |\n|2025-08-07 |Music           |Hrishi Audio Video                         |1          |\n|2025-08-07 |Entertainment   |RD Motion Pictures                         |1          |\n|2025-08-08 |Music           |T-Series Telugu                            |1          |\n|2025-08-08 |Film & Animation|Five Star Creations                        |1          |\n|2025-08-08 |Music           |Husky Music                                |1          |\n|2025-08-08 |Gaming          |Tonde Gamer                                |1          |\n|2025-08-08 |Music           |Bollywood Fever                            |1          |\n|2025-08-08 |Film & Animation|Kids Time Pass                             |1          |\n|2025-08-08 |Entertainment   |Teodorissimo - FunAnimation                |1          |\n|2025-08-08 |Music           |Zee Music Company                          |1          |\n|2025-08-08 |Entertainment   |Filmzz Day                                 |1          |\n+-----------+----------------+-------------------------------------------+-----------+\nonly showing top 20 rows\n"
     ]
    }
   ],
   "source": [
    "from pyspark.sql.functions import to_date, count, col\n",
    "\n",
    "# Step 0: Add 'upload_date' to india_df\n",
    "india_df = india_df.withColumn(\"upload_date\", to_date(\"publishedDate\"))\n",
    "\n",
    "# Step 1: Group by upload_date, categoryName, channelTitle\n",
    "category_channel_daily_upload = india_df.groupBy(\n",
    "    \"upload_date\", \"categoryName\", \"channelTitle\"\n",
    ").agg(\n",
    "    count(\"*\").alias(\"video_count\")\n",
    ").orderBy(\"upload_date\", \"video_count\", ascending=[True, False])\n",
    "\n",
    "category_channel_daily_upload.show(truncate=False)\n",
    "\n"
   ]
  },
  {
   "cell_type": "code",
   "execution_count": 0,
   "metadata": {
    "application/vnd.databricks.v1+cell": {
     "cellMetadata": {},
     "inputWidgets": {},
     "nuid": "765f52d9-8a46-4dfc-9ffb-046a86c5a9dd",
     "showTitle": false,
     "tableResultSettingsMap": {},
     "title": ""
    }
   },
   "outputs": [],
   "source": []
  }
 ],
 "metadata": {
  "application/vnd.databricks.v1+notebook": {
   "computePreferences": null,
   "dashboards": [],
   "environmentMetadata": {
    "base_environment": "",
    "environment_version": "1"
   },
   "inputWidgetPreferences": null,
   "language": "python",
   "notebookMetadata": {
    "pythonIndentUnit": 4
   },
   "notebookName": "Combining Analysis of 3 Countries",
   "widgets": {}
  },
  "language_info": {
   "name": "python"
  }
 },
 "nbformat": 4,
 "nbformat_minor": 0
}