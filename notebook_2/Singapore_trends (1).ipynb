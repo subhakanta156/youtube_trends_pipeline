{
 "cells": [
  {
   "cell_type": "markdown",
   "metadata": {
    "application/vnd.databricks.v1+cell": {
     "cellMetadata": {},
     "inputWidgets": {},
     "nuid": "8c54fa95-8f68-41ee-961a-db9fdd9c7169",
     "showTitle": false,
     "tableResultSettingsMap": {},
     "title": ""
    }
   },
   "source": [
    "#  Analysis on Singapore Data Set"
   ]
  },
  {
   "cell_type": "markdown",
   "metadata": {
    "application/vnd.databricks.v1+cell": {
     "cellMetadata": {},
     "inputWidgets": {},
     "nuid": "9cfb2c97-ab7f-4c96-a440-ab6e75d8cb2d",
     "showTitle": false,
     "tableResultSettingsMap": {},
     "title": ""
    }
   },
   "source": [
    "## Read from Delta table"
   ]
  },
  {
   "cell_type": "code",
   "execution_count": 0,
   "metadata": {
    "application/vnd.databricks.v1+cell": {
     "cellMetadata": {
      "byteLimit": 2048000,
      "rowLimit": 10000
     },
     "inputWidgets": {},
     "nuid": "f04aae1b-568c-4dc1-bd4b-49ac308492ac",
     "showTitle": false,
     "tableResultSettingsMap": {},
     "title": ""
    }
   },
   "outputs": [
    {
     "output_type": "stream",
     "name": "stdout",
     "output_type": "stream",
     "text": [
      "root\n |-- _id: string (nullable = true)\n |-- _fivetran_synced: timestamp (nullable = true)\n |-- data: string (nullable = true)\n |-- _fivetran_deleted: boolean (nullable = true)\n\n"
     ]
    }
   ],
   "source": [
    "from pyspark.sql.functions import col\n",
    "\n",
    "# Load table from mongo_youtube_trends schema\n",
    "df = spark.table(\"mongo_youtube_trends.singapore_trending\") \n",
    "# Show schema to understand structure\n",
    "df.printSchema()"
   ]
  },
  {
   "cell_type": "code",
   "execution_count": 0,
   "metadata": {
    "application/vnd.databricks.v1+cell": {
     "cellMetadata": {
      "byteLimit": 2048000,
      "rowLimit": 10000
     },
     "inputWidgets": {},
     "nuid": "e01b9236-d41b-4e87-8909-ec2333d4da0a",
     "showTitle": false,
     "tableResultSettingsMap": {},
     "title": ""
    }
   },
   "outputs": [],
   "source": [
    "from pyspark.sql.functions import from_json, col\n",
    "from pyspark.sql.types import StructType, StructField, StringType, ArrayType, BooleanType, TimestampType\n",
    "from pyspark.sql.types import *\n",
    "\n",
    "# Define schema based on DBFS JSON\n",
    "schema = StructType([\n",
    "    StructField(\"contentDetails\", StructType([\n",
    "        StructField(\"caption\", StringType(), True),\n",
    "        StructField(\"definition\", StringType(), True),\n",
    "        StructField(\"dimension\", StringType(), True),\n",
    "        StructField(\"duration\", StringType(), True),\n",
    "        StructField(\"licensedContent\", BooleanType(), True),\n",
    "        StructField(\"projection\", StringType(), True),\n",
    "        StructField(\"regionRestriction\", StructType([\n",
    "            StructField(\"allowed\", ArrayType(StringType()), True)\n",
    "        ]), True)\n",
    "    ]), True),\n",
    "\n",
    "    StructField(\"etag\", StringType(), True),\n",
    "    StructField(\"id\", StringType(), True),\n",
    "    StructField(\"kind\", StringType(), True),\n",
    "\n",
    "    StructField(\"snippet\", StructType([\n",
    "        StructField(\"categoryId\", StringType(), True),\n",
    "        StructField(\"channelId\", StringType(), True),\n",
    "        StructField(\"channelTitle\", StringType(), True),\n",
    "        StructField(\"defaultAudioLanguage\", StringType(), True),\n",
    "        StructField(\"defaultLanguage\", StringType(), True),\n",
    "        StructField(\"description\", StringType(), True),\n",
    "        StructField(\"liveBroadcastContent\", StringType(), True),\n",
    "        StructField(\"localized\", StructType([\n",
    "            StructField(\"description\", StringType(), True),\n",
    "            StructField(\"title\", StringType(), True)\n",
    "        ]), True),\n",
    "        StructField(\"publishedAt\", StringType(), True),\n",
    "        StructField(\"tags\", ArrayType(StringType()), True),\n",
    "        StructField(\"thumbnails\", StructType([\n",
    "            StructField(\"default\", StructType([\n",
    "                StructField(\"height\", LongType(), True),\n",
    "                StructField(\"url\", StringType(), True),\n",
    "                StructField(\"width\", LongType(), True)\n",
    "            ]), True),\n",
    "            StructField(\"high\", StructType([\n",
    "                StructField(\"height\", LongType(), True),\n",
    "                StructField(\"url\", StringType(), True),\n",
    "                StructField(\"width\", LongType(), True)\n",
    "            ]), True),\n",
    "            StructField(\"maxres\", StructType([\n",
    "                StructField(\"height\", LongType(), True),\n",
    "                StructField(\"url\", StringType(), True),\n",
    "                StructField(\"width\", LongType(), True)\n",
    "            ]), True),\n",
    "            StructField(\"medium\", StructType([\n",
    "                StructField(\"height\", LongType(), True),\n",
    "                StructField(\"url\", StringType(), True),\n",
    "                StructField(\"width\", LongType(), True)\n",
    "            ]), True),\n",
    "            StructField(\"standard\", StructType([\n",
    "                StructField(\"height\", LongType(), True),\n",
    "                StructField(\"url\", StringType(), True),\n",
    "                StructField(\"width\", LongType(), True)\n",
    "            ]), True)\n",
    "        ]), True),\n",
    "        StructField(\"title\", StringType(), True)\n",
    "    ]), True),\n",
    "\n",
    "    StructField(\"statistics\", StructType([\n",
    "        StructField(\"commentCount\", StringType(), True),\n",
    "        StructField(\"favoriteCount\", StringType(), True),\n",
    "        StructField(\"likeCount\", StringType(), True),\n",
    "        StructField(\"viewCount\", StringType(), True)\n",
    "    ]), True),\n",
    "])\n",
    "\n"
   ]
  },
  {
   "cell_type": "code",
   "execution_count": 0,
   "metadata": {
    "application/vnd.databricks.v1+cell": {
     "cellMetadata": {
      "byteLimit": 2048000,
      "rowLimit": 10000
     },
     "inputWidgets": {},
     "nuid": "14ad5ed5-6bd7-4f98-86c1-6ccaea11033d",
     "showTitle": false,
     "tableResultSettingsMap": {},
     "title": ""
    }
   },
   "outputs": [
    {
     "output_type": "stream",
     "name": "stdout",
     "output_type": "stream",
     "text": [
      "root\n |-- _id: string (nullable = true)\n |-- _fivetran_synced: timestamp (nullable = true)\n |-- data: string (nullable = true)\n |-- _fivetran_deleted: boolean (nullable = true)\n |-- json: struct (nullable = true)\n |    |-- contentDetails: struct (nullable = true)\n |    |    |-- caption: string (nullable = true)\n |    |    |-- definition: string (nullable = true)\n |    |    |-- dimension: string (nullable = true)\n |    |    |-- duration: string (nullable = true)\n |    |    |-- licensedContent: boolean (nullable = true)\n |    |    |-- projection: string (nullable = true)\n |    |    |-- regionRestriction: struct (nullable = true)\n |    |    |    |-- allowed: array (nullable = true)\n |    |    |    |    |-- element: string (containsNull = true)\n |    |-- etag: string (nullable = true)\n |    |-- id: string (nullable = true)\n |    |-- kind: string (nullable = true)\n |    |-- snippet: struct (nullable = true)\n |    |    |-- categoryId: string (nullable = true)\n |    |    |-- channelId: string (nullable = true)\n |    |    |-- channelTitle: string (nullable = true)\n |    |    |-- defaultAudioLanguage: string (nullable = true)\n |    |    |-- defaultLanguage: string (nullable = true)\n |    |    |-- description: string (nullable = true)\n |    |    |-- liveBroadcastContent: string (nullable = true)\n |    |    |-- localized: struct (nullable = true)\n |    |    |    |-- description: string (nullable = true)\n |    |    |    |-- title: string (nullable = true)\n |    |    |-- publishedAt: string (nullable = true)\n |    |    |-- tags: array (nullable = true)\n |    |    |    |-- element: string (containsNull = true)\n |    |    |-- thumbnails: struct (nullable = true)\n |    |    |    |-- default: struct (nullable = true)\n |    |    |    |    |-- height: long (nullable = true)\n |    |    |    |    |-- url: string (nullable = true)\n |    |    |    |    |-- width: long (nullable = true)\n |    |    |    |-- high: struct (nullable = true)\n |    |    |    |    |-- height: long (nullable = true)\n |    |    |    |    |-- url: string (nullable = true)\n |    |    |    |    |-- width: long (nullable = true)\n |    |    |    |-- maxres: struct (nullable = true)\n |    |    |    |    |-- height: long (nullable = true)\n |    |    |    |    |-- url: string (nullable = true)\n |    |    |    |    |-- width: long (nullable = true)\n |    |    |    |-- medium: struct (nullable = true)\n |    |    |    |    |-- height: long (nullable = true)\n |    |    |    |    |-- url: string (nullable = true)\n |    |    |    |    |-- width: long (nullable = true)\n |    |    |    |-- standard: struct (nullable = true)\n |    |    |    |    |-- height: long (nullable = true)\n |    |    |    |    |-- url: string (nullable = true)\n |    |    |    |    |-- width: long (nullable = true)\n |    |    |-- title: string (nullable = true)\n |    |-- statistics: struct (nullable = true)\n |    |    |-- commentCount: string (nullable = true)\n |    |    |-- favoriteCount: string (nullable = true)\n |    |    |-- likeCount: string (nullable = true)\n |    |    |-- viewCount: string (nullable = true)\n\n"
     ]
    }
   ],
   "source": [
    "from pyspark.sql.functions import from_json, col\n",
    "\n",
    "# Parse JSON string into struct\n",
    "parsed_df = df.withColumn(\"json\", from_json(col(\"data\"), schema))\n",
    "\n",
    "parsed_df.printSchema()"
   ]
  },
  {
   "cell_type": "code",
   "execution_count": 0,
   "metadata": {
    "application/vnd.databricks.v1+cell": {
     "cellMetadata": {
      "byteLimit": 2048000,
      "rowLimit": 10000
     },
     "inputWidgets": {},
     "nuid": "628be29c-3949-46a2-aae5-5f080a5d1b96",
     "showTitle": false,
     "tableResultSettingsMap": {},
     "title": ""
    }
   },
   "outputs": [
    {
     "output_type": "stream",
     "name": "stdout",
     "output_type": "stream",
     "text": [
      "+-----------+--------------------+------------------------+-------------------+----------------------------------------------------------------------------------------------------+-------------------------------------------------------------------------------------------------------------------------------------------------------------------------------------------------------------------------------------------------------------------------------------------------------------------------------------------------------------------------------------------------------------------------------------------------------------------------------------------------------------------------------------------------------------------------------------------------------------------------------------------------------------------------------------------------------------------------------------------------------------------------------------------------------------------------------------------------------------------------------------------------------------------------------------------------------------------------------------------------------------------------------------------------------------------------------------------------------------------------------------------------------------------------------------------------------------------------------------------------------------------------------------------------------------------------------------------------------------------------------------------------------------------------------------------------------------------------------------------------------------------------------------------------------------------------------------------------------------------------------------------------------------------------------------------------------------------------------------------------------------------------------------------------------------------------------------------------------------------------------------------------------------------------------------------------------------------------------------------------------------------------------------------------------------------------------------------------------------------------------------------------------------------------------------------------------------------------------------------------------------------------------------------------------------------------------------------------------------------------------------------------------------------------------------------------------------------------------------------------------------------------------------------------------------------------------------------------------------------------------------------------------------------------------------------------------------------------------------------------------------------------------------------------------------------------------------------------------------------------------------------------------------------------------------------------------------------------------------------------------------------------------------------------------------------------------------------------------------------------------------------------------------------------------------------------------------------------------------------------------------------------------------------------------------------------------------------------------------------------------------------------------------------------------------------------------------------------------------------------------------------------------------------------------------------------------------------------------------------------------------------------------------------------------------------+----------+---------------------------------------------------------------------------------------------------------------------------------------------------------------------------------------------------------------------------------------------------------------------------------------------------------------------------------------------------------------------------------------------------------------------------------------------------------------------------------------------------------------------------------------------------------------------+---------------+--------------------+---------+---------+------------+-----------+-------+\n|id         |publishedAt         |channelId               |channelTitle       |title                                                                                               |description                                                                                                                                                                                                                                                                                                                                                                                                                                                                                                                                                                                                                                                                                                                                                                                                                                                                                                                                                                                                                                                                                                                                                                                                                                                                                                                                                                                                                                                                                                                                                                                                                                                                                                                                                                                                                                                                                                                                                                                                                                                                                                                                                                                                                                                                                                                                                                                                                                                                                                                                                                                                                                                                                                                                                                                                                                                                                                                                                                                                                                                                                                                                                                                                                                                                                                                                                                                                                                                                                                                                                                                                                                                                                |categoryId|tags                                                                                                                                                                                                                                                                                                                                                                                                                                                                                                                                                                 |defaultLanguage|defaultAudioLanguage|viewCount|likeCount|commentCount|duration   |caption|\n+-----------+--------------------+------------------------+-------------------+----------------------------------------------------------------------------------------------------+-------------------------------------------------------------------------------------------------------------------------------------------------------------------------------------------------------------------------------------------------------------------------------------------------------------------------------------------------------------------------------------------------------------------------------------------------------------------------------------------------------------------------------------------------------------------------------------------------------------------------------------------------------------------------------------------------------------------------------------------------------------------------------------------------------------------------------------------------------------------------------------------------------------------------------------------------------------------------------------------------------------------------------------------------------------------------------------------------------------------------------------------------------------------------------------------------------------------------------------------------------------------------------------------------------------------------------------------------------------------------------------------------------------------------------------------------------------------------------------------------------------------------------------------------------------------------------------------------------------------------------------------------------------------------------------------------------------------------------------------------------------------------------------------------------------------------------------------------------------------------------------------------------------------------------------------------------------------------------------------------------------------------------------------------------------------------------------------------------------------------------------------------------------------------------------------------------------------------------------------------------------------------------------------------------------------------------------------------------------------------------------------------------------------------------------------------------------------------------------------------------------------------------------------------------------------------------------------------------------------------------------------------------------------------------------------------------------------------------------------------------------------------------------------------------------------------------------------------------------------------------------------------------------------------------------------------------------------------------------------------------------------------------------------------------------------------------------------------------------------------------------------------------------------------------------------------------------------------------------------------------------------------------------------------------------------------------------------------------------------------------------------------------------------------------------------------------------------------------------------------------------------------------------------------------------------------------------------------------------------------------------------------------------------------------------------+----------+---------------------------------------------------------------------------------------------------------------------------------------------------------------------------------------------------------------------------------------------------------------------------------------------------------------------------------------------------------------------------------------------------------------------------------------------------------------------------------------------------------------------------------------------------------------------+---------------+--------------------+---------+---------+------------+-----------+-------+\n|57jJy4nB18A|2025-08-09T11:00:09Z|UCJHBJ7F-nAIlMGolm0Hu4vg|Maizen             |We Found Mikey TALKING To a GHOST!                                                                  |Today, Mikey bought a mansion for only one cent! There's just one little problem... this mansion was the scene of a crime! Could there be something dangerous lurking in this old abandoned mansion after all...?\\n\\nWe hope you enjoy our videos! Have a great day! \\n\\nMaizen Merchandise ► https://shop-maizen.myspreadshop.com/                                                                                                                                                                                                                                                                                                                                                                                                                                                                                                                                                                                                                                                                                                                                                                                                                                                                                                                                                                                                                                                                                                                                                                                                                                                                                                                                                                                                                                                                                                                                                                                                                                                                                                                                                                                                                                                                                                                                                                                                                                                                                                                                                                                                                                                                                                                                                                                                                                                                                                                                                                                                                                                                                                                                                                                                                                                                                                                                                                                                                                                                                                                                                                                                                                                                                                                                                        |20        |[Minecraft, Maizen]                                                                                                                                                                                                                                                                                                                                                                                                                                                                                                                                                  |en             |en                  |648907   |5660     |650         |PT19M32S   |false  |\n|bMgfsdYoEEo|2025-07-31T16:00:56Z|UCjmJDM5pRKbUlVIzDYYWb6g|Warner Bros.       |The Conjuring: Last Rites | Official Trailer                                                        |Discover why this case ended it all. #TheConjuring: Last Rites - Only in Theaters September 5.\\n\\nFrom New Line Cinema comes the ninth entry in the more than $2 billion theatrical Conjuring universe, The Conjuring: Last Rites, directed by franchise veteran Michael Chaves and produced by franchise architects James Wan and Peter Safran.\\n\\nThe Conjuring: Last Rites delivers another thrilling chapter of the iconic Conjuring cinematic universe, based on real events.  Vera Farmiga and Patrick Wilson reunite for one last case as renowned, real-life paranormal investigators Ed and Lorraine Warren in a powerful and spine-chilling addition to the global box office-breaking franchise.\\n\\nFarmiga and Wilson star alongside Mia Tomlinson and Ben Hardy, who portray Ed and Lorraine’s daughter Judy Warren and her boyfriend, Tony Spera, as well as Steve Coulter returning as Father Gordon, Rebecca Calder, Elliot Cowan, Kíla Lord Cassidy, Beau Gadsdon, John Brotherton and Shannon Kook.\\n\\nChaves directs from a screenplay by Ian Goldberg & Richard Naing and David Leslie Johnson-McGoldrick, story by David Leslie Johnson-McGoldrick & James Wan, based on characters created by Chad Hayes & Carey W. Hayes.  The executive producers are Michael Clear, Judson Scott, Hans Ritter, David Leslie Johnson-McGoldrick, Natalia Safran, John Rickard and Michael Chaves.\\n\\nChaves is joined behind the camera by his creative team, including director of photography Eli Born, production designer John Frankish, editors Elliot Greenberg and Gregory Plotkin, visual effects supervisor Scott Edelstein, visual effects producer Eric Bruneau and costume designer Graham Churchyard, with casting by Rose Wicksteed and Sophie Kingston-Smith.  The music supervisor is Ian Broucek and the music is by composer Benjamin Wallfisch.\\n\\nNew Line Cinema Presents The Safran Company / An Atomic Monster Production, The Conjuring: Last Rites.  The film will be released worldwide by Warner Bros. Pictures and will be only in theaters and IMAX® in North America on September 5, 2025, and internationally beginning 3 September 2025.                                                                                                                                                                                                                                                                                                                                                                                                                                                                                                                                                                                                                                                                                                                                                                                                                                                                                                                                                                                                                                                                                                                                                                                                                                                                                                                                                                                                                                                                                                           |1         |[BasedOnRealEvents, ComingSoon, ConjuringUniverse, Film, FinalChapter, Franchise, IMAX, LastCase, MichaelChaves, NewLineCinema, NewTrailer, PatrickWilson, September2025, TheConjuring, Thriller, Trailer, VeraFarmiga, WB, WarnerBros, WarnerBrothers]                                                                                                                                                                                                                                                                                                              |en             |en-US               |15850611 |139418   |4123        |PT2M26S    |true   |\n|iWCAIUKkOOU|2025-08-08T13:30:56Z|UCNKt_IrkDN0riGVTN52tdPw|Sparrow Cinemas    |Captain Prabhakaran New 4K Trailer | Vijayakanth | RK Selvamani | Ilaiyaraja | Sparrow Cinemas      |#CaptainPrabhakaran #Vijayakanth #RkSelvamani #Ilayaraja #SparrowCinemas\\n\\nCaptain Prabhakaran 2025 New 4K Trailer | Vijayakanth's 100th Movie | RK Selvamani | Ilaiyaraja | Sparrow Cinemas\\n\\nDirected by RK Selvamani\\nProduced by Ibrahim Rowther & A. Mohammed Abubucker\\nStarring Vijayakanth, Sarath Kumar, Mansoor Ali Khan, Ramya Krishnan, Rupini & Livingston\\nMusic by Ilaiyaraaja\\nCinematography by Rajarajan\\nEdited by G. Jayachandran\\nEditor (4K Trailer Cuts): R Sudharshan\\nArt by JK\\nStunt: Super Subburayan\\nDialogues: Liyakath Ali Khan\\nRemastered by Film Vision - K Ramu\\nProduction company:  I. V. Cine Productions\\nRe-release by  Sparrow Cinemas Karthick.V\\nPRO: Diamond Babu, Ksk Selvakumaar & Captain MP Anand\\nDesign: Selva\\nRelease Date: Captain Birthday Celebration August 22, 2025                                                                                                                                                                                                                                                                                                                                                                                                                                                                                                                                                                                                                                                                                                                                                                                                                                                                                                                                                                                                                                                                                                                                                                                                                                                                                                                                                                                                                                                                                                                                                                                                                                                                                                                                                                                                                                                                                                                                                                                                                                                                                                                                                                                                         \n\n*** WARNING: max output size exceeded, skipping output. ***\n\nr.com/Wroetoshaw\\n\\n\uD83D\uDD35 VIK (Vikkstar123)\\n● http://www.youtube.com/Vikkstar123\\n● http://www.youtube.com/Vikkstar123HD\\n● http://www.youtube.com/VikkstarPlays\\n● http://www.instagram.com/Vikkstagram\\n● http://www.twitter.com/Vikkstar123\\n\\n\uD83D\uDD34 JJ (KSI)\\n● http://www.youtube.com/KSI\\n● http://www.youtube.com/KSIOlajidebtHD\\n● http://www.instagram.com/KSI\\n● http://www.twitter.com/KSIOlajidebt\\n\\n\uD83D\uDD35 TOBI (Tobjizzle)\\n● http://www.youtube.com/TBJZL\\n● http://www.youtube.com/Editingaming\\n● http://www.instagram.com/Tobjizzle\\n● http://www.twitter.com/Tobjizzle\\n\\n\uD83D\uDD34 ETHAN (Behzinga)\\n● http://www.youtube.com/Behzinga\\n● http://www.youtube.com/Beh2inga\\n● http://www.instagram.com/Behzingagram\\n● http://www.twitter.com/Behzinga\\n\\n\uD83D\uDD35 SIMON (Miniminter)\\n● http://www.youtube.com/Miniminter\\n● http://www.youtube.com/MM7Games\\n● http://www.instagram.com/Miniminter\\n● http://www.twitter.com/Miniminter\\n\\nEdited by @chipfat                                                                                                                                                                                                                                                                                                                                                                                                                                                                                                                                                                                                                                                                                                                                                                                                                                                                                                                                                                                                                                                                                                                                                                                                                                                                                                                                                                                                                                                                                                                                                                                                                                                                                                                                                                                                                                                                                                                            |22        |[sidemen, moresidemen, miniminter, ksi, zerkaa, behzinga, tbjzl, vikkstar, wroetoshaw]                                                                                                                                                                                                                                                                                                                                                                                                                                                                               |NULL           |en-GB               |1213482  |65014    |3880        |PT1H32M44S |false  |\n|LR19E9DkW6Y|2025-08-01T11:00:40Z|UCAZKwgbL-MwOkE-gz_5llwg|3P                 |3P x 艾薇Ivy - 'RAFFLESIA' (Official Music Video)                                                   |RAFFLESIA —— 大王花\\n世界上最大的花。\\n罕见而刺鼻，孤绝却盛放。\\n\\n这是一首展现孤傲力量与内心渴望的作品，\\n是对命运的挑衅，\\n也是对自我的肯定。\\n\\n最孤独的，莫过于强者。\\n\\n*‘RAFFLESIA'*\\n《鑫》专辑 - 第2首单曲\\n《xīn》album - 2nd single \\nhttps://bfan.link/rafflesia\\n\\n*3P 第一张专辑《鑫》COMING SOON*\\n\\n*3P【鑫世紀】巡回演唱会*\\n购票官网: \\nMY \\n\uD83D\uDCCC https://my.bookmyshow.com\\n\uD83D\uDCCC https://premier.ticketek.com.my\\nSG \\n\uD83D\uDCCC https://sistic.com.sg \\nTW \\n\uD83D\uDCCC https://kktix.com\\n\\n*《音乐制作 Music Production》*\\n作曲 Composed by: Caven Tang, Ivy艾薇\\n作词 Lyrics by: Caven Tang, Ivy艾薇\\n制作 Producer: 3P, Hanz郭文翰\\n配唱制作 Vocal Producer: Caven Tang, Hanz郭文翰\\n编曲 Arranger: Bothsiders\\n和声 Backing Vocalist: 3P, Ivy艾薇\\n录音师 Recording Engineer: Hanz郭文翰\\n和声编写: 艾薇，吴霏\\n艾薇 Vocal 录音师: 张\uD870\uDC29弘 Hoong\\n录音助理 Assistant Recording Engineer: Jason潘泇燊\\n录音室 Recording Studio: Vocast Studios\\n混音师 Mixing Engineer: Hanz郭文翰\\n混音工作室 Mixing Studio: Vocast Studios\\n母带工程师 Mastering Engineer: Hanz郭文翰\\n母带工作室 Mastering Studio: Vocast Studios\\n\\n*《MV 制作 MV Production》*\\n导演 Director: Aaron Chieng\\n总监 Executive Producer: 3P\\n副导 Assistant Director: Park\\n制作人 Producer: Peanut\\n摄影指导 Director of Photography: Aaron Chieng\\n第一摄大助 1st A.C: Ian Chin\\n第二摄大助 2nd A.C: Onion\\n制片公司 Production House: Underline Pictures\\n执行制作 Production Manager: xuuuuan\\n场地助理 Production Assistant: Yunni, Bong PY, 5am, Chong Janny, Lau Lih Han, Chau Jia Qian, graceeteh\\n剪辑师 Video Editor: Park\\n调色 Colorist: Flanjks\\nOn-set VFX supervisor + CG Compositor: J3on Ting\\nVFX + CG Compositor: lluzm\\n视觉特效师 Visual Effect Artist: Pua CC\\n3D Modelling: NT90\\n3D Environment: Jason, lluzm\\nOnline Assistant: Jun Wei\\n灯光 Gaffer: BLACK ILLUMINAR - Ng Yap Zhong\\n灯光助理 Lighting Crew: Hong Xing Hang, Ms Lee, Kerk Chun Hsien, Muhammad Afiq Bin Mohamad Amir, Foo Sze Yang, \\nMuhd Hafeez Bin Azhari, Muhd Ikhwan b Lokman, NUR SHAHRUDDIN BIN MOHD KAM, Yee Chee Yong, Cheh Kwai San, Kua En Yuan, \\nVictric Kor Yu Long, James, Keegan\\n美术指导 Art Director: Rachel Chong Chin Wei\\n美术组 Art Department: Khoo Jesslyn, Khoo Roselyn, Chok Jiaying\\n\\n舞蹈编排 Dance Choreography: Danny Lee, Ezra Tham\\n舞者 Dancers: Dicky Kam, Shaydon Yeong, Friday Boogie, Aisyamarissa, Leony Low, Shoba Rupini, DancerMan, Eunice Low, Khai Zun, D.Hartt, \\nNick Syaf, Ryan Isaac Julius, Kelly Tan, Vance Lee, Angeline Goh, Nigel Ng, Eliss Ng, Gaby Wong, Darren Ben, Alvinson Cody \\n\\n3P 艺人经纪 Artist Manager: Yeon Cham\\n3P 艺人助理 Artist Assistant: Yunni\\n艾薇經紀公司: 原音娛樂\\n艾薇執行經紀：陳姿妤、黃縝惟\\n\\n化妆团队 Make Up Team: Color Blindness \\n化妆师 Make Up Artist: Chu Hui, Sook Yee, Yu Jian, Tong Ern\\n发型师 Hair Stylist: Kah Yean, Lucas, Chloe\\n造型师 Costume Stylist: Carmen Lee\\n造型助理 Costume Assistant: Eric Créer, Tai Jin Jan\\n摄影 Photographer: Bryan Then\\n幕后摄影师 BTS: Jie Feng, Yong Zhao\\n图标设计 Logo Designer: Bear Teo\\n\\n*《食物赞助 Food Sponsors》*\\nBungkus Kaw Kaw, Dulu Kita, Nanyang Cafe 南洋冰室\\n\\n#RAFFLESIA #3P #艾薇Ivy\\n\\n• Instagram •\\n3P : https://www.instagram.com/threeeproduction\\nKevin Ong : https://www.instagram.com/kevinong__\\nDanny Lee : https://www.instagram.com/dannyleeyuxin\\nCaven Tang : https://www.instagram.com/caventang\\n\\n• Facebook •\\n3P : https://www.facebook.com/threeeproduction/\\n\\n• TikTok/抖音 •\\nID : 3p_official\\nKevin Ong : kevinong__ / kevinong__\\nDanny Lee : dannyleeyuxin / dannyleemtfk\\nCaven Tang : caventang / caventang\\n\\nBecause 3P is fun!|10        |[#3P, #Ivy, #RAFFLESIA, #艾薇, #艾薇Ivy, 3P, 3P RAFFLESIA, 3P x 艾薇Ivy - 'RAFFLESIA' (Official Music Video), 3P 第一张专辑《鑫》, Ivy, RAFFLESIA, RAFFLESIA (Official Music Video), Three Production, ThreeP, Threee Production, ThreeeP, dance, threeeproduction, 艾薇, 艾薇Ivy, 艾薇Ivy - RAFFLESIA]                                                                                                                                                                                                                                                              |NULL           |en-GB               |188964   |6456     |379         |PT3M20S    |true   |\n|5PcCuX7njv4|2025-08-07T09:04:03Z|UCooVYzDxdwTtGYAkcPmOgOw|Brawl Stars        |HOW TO GET AMAZING REWARDS, INCLUDING 1 GEM!                                                        |THIS DAY, WE have to complete 100 million Quests every day to get tons of rewards in the #QuestForQuests Community Event! \uD83D\uDE31\\n\\nWHAT?\\n\uD83D\uDD13 Every day, a new community bar must be completed in the in-game news\\n\uD83C\uDFB2 Complete 100M Quests in 24 hours and a D20 will be rolled, whichever number you get corresponds to a reward!\\n\uD83E\uDD33 All the rolls will be shown on video on our social media channels\\n❌ If the goal of the day it's not achieved, you won’t get to roll the D20 that day and a new community bar will start\\n\uD83C\uDF1F There will be extra Quests every day to help you progress!\\n\uD83C\uDF2D If you roll a 20 = CRITICAL SUCCESS and you get the KNIGHT DOUG SKIN FOR FREE! \\n\uD83C\uDF81 You can get the same reward multiple times! But if you get the same cosmetic reward twice, you’ll get fallback rewards!\\n\uD83D\uDCC5 On the last day, if the goal is achieved, the die will be rolled twice and you will get 2 rewards!\\n\\nREWARDS (D20):\\n1 - 1 gem\\n2 - Sword Spray (fallback = 100 Coins)\\n3 - Torch Spray (fallback = 100 Coins)\\n4 - 200 Coins\\n5 - Carnaval Player Icon (fallback = 200 Coins)\\n6 - Critical Failure Icon (fallback = 200 Coins)\\n7 - Robot Knight Icon (fallback = 200 Coins)\\n8 - Bling Box Emote (fallback = 500 Coins)\\n9 - 1000 Bling\\n10 - 200 Credits\\n11 - 300 Power Points\\n12 - 500 Coins\\n13 - 10 Random Starr Drops\\n14 - True Gold Doug Skin (fallback = 25000 Coins)\\n15 - Legendary Starr Drop\\n16 - 500 Credits\\n17 - 1000 Coins\\n18 - Ultra Trophy Box\\n19 - Hypercharge Drop\\n20 - Knight Doug Skin (fallback = 100 Gems)\\n\\n\uD83D\uDCE2 GIVEAWAY \uD83D\uDCE2\\n\\nWe will give out a free Brawl Pass Plus to 1000 players! The winners will be picked randomly at the end of the event, but the more Quests you complete, the higher the chances of winning!\\n\\nThe #QuestforQuests community event starts NOW and ends on August 18th!                                                                                                                                                                                                                                                                                                                                                                                                                                                                                                                                                                                                                                                                                                                                                                                                                                                                                                                                                                                                                                                                                                                                                                                                                                                                                                                                                                                                                                                                                                                                                                                                                                                                                                                                                                                                                                    |20        |[brawl stars, mobile game, mobile strategy game, mobile rpg, mobile battle royale, battle royale, supercell game, quest for quests, community event, lord of quests, d20, brawl stars community event, dani, marzio, drew, ring, quest, starr drop, legendary, coins]                                                                                                                                                                                                                                                                                                |en             |en                  |12932859 |169518   |5856        |PT3M6S     |true   |\n|kCX39Jq12Pc|2025-08-09T11:54:11Z|UCjvzNXGGlnC4jcCnhglf8-Q|Brawl Stars Esports|Brawl Stars Championship 2025 - August Monthly Finals - East Asia                                   |FOLLOW US ON\\nTwitter: https://twitter.com/Brawl_esports\\nInstagram: https://www.instagram.com/brawlstars_esports/\\nBSC Website: https://event.brawlstars.com/en\\n\\n#BSC25 #brawlstars #esports                                                                                                                                                                                                                                                                                                                                                                                                                                                                                                                                                                                                                                                                                                                                                                                                                                                                                                                                                                                                                                                                                                                                                                                                                                                                                                                                                                                                                                                                                                                                                                                                                                                                                                                                                                                                                                                                                                                                                                                                                                                                                                                                                                                                                                                                                                                                                                                                                                                                                                                                                                                                                                                                                                                                                                                                                                                                                                                                                                                                                                                                                                                                                                                                                                                                                                                                                                                                                                                                                            |20        |[BSC, Brawl Stars, Esports, Brawl Stars Esports]                                                                                                                                                                                                                                                                                                                                                                                                                                                                                                                     |NULL           |en                  |478552   |4986     |115         |PT5H40M38S |false  |\n|52eEa2nrs4E|2025-08-05T07:09:54Z|UCn9BuiRZGR_tPM2GGT4jN-w|Excel Movies       |120 Bahadur | Official Teaser | Farhan Akhtar | Raashii Khanna | 21st November                      |A moment in history where courage refused to fail. Based on a true story, 120 Bahadur at cinemas near you on 21st Nov, 2025. Teaser out now. #120Bahadur #EkSauBeesBahadur #DadaKishanKiJai\\n\\nEXCEL ENTERTAINMENT & TRIGGER HAPPY STUDIOS PRESENT\\n  \\n120 BAHADUR\\n   \\nAN EXCEL ENTERTAINMENT PRODUCTION  \\n\\nRELEASING ON 21ST NOVEMBER, 2025  \\n  \\nFEATURING : FARHAN AKHTAR    \\nSPECIAL APPEARANCE : RAASHII KHANNA    \\nINTRODUCING : SPARSH WALIA \\nSUPPORTED BY: AJINKYA RAMESH DEO, EIJAZ KHAN & VIVAN BHATHENA\\nANKIT SIWACH, ASHUTOSH SHUKLA, ATUL SINGH, BRIJESH KARANWAL, DEVENDRA AHIRWAR, DHANVEER SINGH, DIGVIJAY PRATAP, SAHIB VERMA\\n\\nDIRECTED BY RAZNEESH 'RAZY' GHAI\\nPRODUCED BY RITESH SIDHWANI, FARHAN AKHTAR, AMIT CHANDRRA\\nSTORY & SCREENPLAY: RAJIV G MENON\\nCO - PRODUCERS: RUCHA PATHAK, KASSIM JAGMAGIA, VISHAL RAMCHANDANI & JIGYASA SHARMA\\nASSOCIATE PRODUCER: ARHAN BAGATI\\nEXECUTIVE PRODUCER: SUNITHA RAM\\nDIRECTOR OF PHOTOGRAPHY: TETSUO NAGATA A.F.C\\nDIALOGUE: SUMIT ARORA\\nMUSIC COMPOSER: AMIT TRIVEDI\\nLYRICS: JAVED AKHTAR\\nBACKGROUND MUSIC COMPOSER: SATISH RAGHUNATHAN\\nSOUND DESIGN: PRANAV SHUKLA\\nACTION DIRECTOR & STUNT SUPERVISOR: MAREK SVITEK\\nACTION DIRECTOR INDIA: AMRITPAL SINGH\\nEDITOR: RAMESHWAR S. BHAGAT\\nFINANCIAL ADVISOR: BIMAL PAREKH & CO.\\nCFO: JASWANT SINGH HINDUJA\\nHEAD OF POST PRODUCTION: MANOJ CHOUHAN\\nVFX: NOLABEL, FRAME X, & FORTUNE LEAF\\nPRODUCTION DESIGN: SHAILAJA SHARMA\\nCOSTUME DESIGN: THEIA TEKCHANDANEY\\nDIRECTOR OF CHOREOGRAPHY: VIJAY ANIL GANGULY\\nMAKE UP HAIR & PROSTHETICS: SHIPRA SINGH ACHARYA\\nFIRST ASSISTANT DIRECTOR: VISHESH D SAREEN & YATHARTH AWASTHI\\nCASTING: ANMOL AHUJA\\nLEGAL HEAD: POOJA SHARMA\\nMILITARY CONSULTANT: COL. MANISH SARIN RETD\\nMEDIA CONSULTANT: SPICE\\nMARKETING: RHEA WAGH, NIDHI MEHTA MARTHAK & DEVANG MAJETHIA\\nPUBLICITY DESIGNERS: RAHUL NANDA, HIMANSHU NANDA\\nVISUAL PROMOTIONS, DIGITAL MARKETING AGENCY: MA&TH ( MEMBER OF HAKUHODO INTERNATIONAL )\\nTEASER DESIGN: WILD CARD CREATIVE GROUP\\nVFX SUPERVISORS: SANTOSH S RAJU,  ANAND SINGH ROSHAN \\nRE-RECORDING MIXER: DEBAJIT CHANGMAI (FUTUREWORKS MEDIA LTD), SARATH MOHAN.\\nCOLOR: REDCHILLI.COLOR\\nSR. COLORIST: KEN METZKER \\n\\n\\nFollow Us On :- \\r\\nClick to Subscribe :: http://bit.ly/ExcelMoviesYT\\r\\nFacebook :: https://www.facebook.com/excelentertainment/\\r\\nInstagram :: https://www.instagram.com/excelmovies/\\r\\nTwitter :: https://twitter.com/excelmovies                                                                                                                                                                                                                                                                                                                                                                                                                                                                                                                                                                                                                                                                                                                                                                                                                                                                                                                                                                                                                                                                                                                                                                                                           |1         |[FarhanAkhtar, 120Bahadur, RaashiiKhanna, RiteshSidhwani, RazneeshGhai, JavedAkhtar, AmitTrivedi, HindiMovie, Hindi, HindiFilm, HindiMusic, India, China, BattleOfRezangLa, Ladakh, England, Coolie, Rajikanth, TestSeries, War2, HrithikRoshan, JuniorNTR, KiaraAdvani, Saiyaara, SitaareZameenPar, AamirKhan, Kingdom, VijayDeverakonda, MahavatarNarsimha, SonOfSardar2, AjayDevgn, Bollywood, FreeFire, USA, America, TariffWar, IndependenceDay, Army, Ahir, Kumaon, NationalAwards, SRK, ShahRukhKhan, RaniMukherjee, Jawan, TMKOC, Milkha, Raanjhanaa, Russia]|NULL           |en                  |25329114 |121167   |9088        |PT2M8S     |true   |\n+-----------+--------------------+------------------------+-------------------+----------------------------------------------------------------------------------------------------+-------------------------------------------------------------------------------------------------------------------------------------------------------------------------------------------------------------------------------------------------------------------------------------------------------------------------------------------------------------------------------------------------------------------------------------------------------------------------------------------------------------------------------------------------------------------------------------------------------------------------------------------------------------------------------------------------------------------------------------------------------------------------------------------------------------------------------------------------------------------------------------------------------------------------------------------------------------------------------------------------------------------------------------------------------------------------------------------------------------------------------------------------------------------------------------------------------------------------------------------------------------------------------------------------------------------------------------------------------------------------------------------------------------------------------------------------------------------------------------------------------------------------------------------------------------------------------------------------------------------------------------------------------------------------------------------------------------------------------------------------------------------------------------------------------------------------------------------------------------------------------------------------------------------------------------------------------------------------------------------------------------------------------------------------------------------------------------------------------------------------------------------------------------------------------------------------------------------------------------------------------------------------------------------------------------------------------------------------------------------------------------------------------------------------------------------------------------------------------------------------------------------------------------------------------------------------------------------------------------------------------------------------------------------------------------------------------------------------------------------------------------------------------------------------------------------------------------------------------------------------------------------------------------------------------------------------------------------------------------------------------------------------------------------------------------------------------------------------------------------------------------------------------------------------------------------------------------------------------------------------------------------------------------------------------------------------------------------------------------------------------------------------------------------------------------------------------------------------------------------------------------------------------------------------------------------------------------------------------------------------------------------------------------------------------------------+----------+---------------------------------------------------------------------------------------------------------------------------------------------------------------------------------------------------------------------------------------------------------------------------------------------------------------------------------------------------------------------------------------------------------------------------------------------------------------------------------------------------------------------------------------------------------------------+---------------+--------------------+---------+---------+------------+-----------+-------+\nonly showing top 20 rows\n"
     ]
    }
   ],
   "source": [
    "from pyspark.sql.functions import col\n",
    "\n",
    "# Select required fields\n",
    "selected_df = parsed_df.select(\n",
    "    col(\"json.id\").alias(\"id\"),\n",
    "    col(\"json.snippet.publishedAt\").alias(\"publishedAt\"),\n",
    "    col(\"json.snippet.channelId\").alias(\"channelId\"),\n",
    "    col(\"json.snippet.channelTitle\").alias(\"channelTitle\"),\n",
    "    col(\"json.snippet.title\").alias(\"title\"),\n",
    "    col(\"json.snippet.description\").alias(\"description\"),\n",
    "    col(\"json.snippet.categoryId\").alias(\"categoryId\"),\n",
    "    col(\"json.snippet.tags\").alias(\"tags\"),\n",
    "    col(\"json.snippet.defaultLanguage\").alias(\"defaultLanguage\"),\n",
    "    col(\"json.snippet.defaultAudioLanguage\").alias(\"defaultAudioLanguage\"),\n",
    "    col(\"json.statistics.viewCount\").alias(\"viewCount\"),\n",
    "    col(\"json.statistics.likeCount\").alias(\"likeCount\"),\n",
    "    col(\"json.statistics.commentCount\").alias(\"commentCount\"),\n",
    "    col(\"json.contentDetails.duration\").alias(\"duration\"),\n",
    "    col(\"json.contentDetails.caption\").alias(\"caption\")\n",
    ")\n",
    "\n",
    "selected_df.show(truncate=False)\n"
   ]
  },
  {
   "cell_type": "code",
   "execution_count": 0,
   "metadata": {
    "application/vnd.databricks.v1+cell": {
     "cellMetadata": {
      "byteLimit": 2048000,
      "rowLimit": 10000
     },
     "inputWidgets": {},
     "nuid": "0937d18a-4a55-42e1-ac64-84af3b7d9cbc",
     "showTitle": false,
     "tableResultSettingsMap": {},
     "title": ""
    }
   },
   "outputs": [
    {
     "output_type": "stream",
     "name": "stdout",
     "output_type": "stream",
     "text": [
      "root\n |-- id: string (nullable = true)\n |-- publishedAt: string (nullable = true)\n |-- channelId: string (nullable = true)\n |-- channelTitle: string (nullable = true)\n |-- title: string (nullable = true)\n |-- description: string (nullable = true)\n |-- categoryId: string (nullable = true)\n |-- tags: array (nullable = true)\n |    |-- element: string (containsNull = true)\n |-- defaultLanguage: string (nullable = true)\n |-- defaultAudioLanguage: string (nullable = true)\n |-- viewCount: string (nullable = true)\n |-- likeCount: string (nullable = true)\n |-- commentCount: string (nullable = true)\n |-- duration: string (nullable = true)\n |-- caption: string (nullable = true)\n\n"
     ]
    }
   ],
   "source": [
    "selected_df.printSchema()"
   ]
  },
  {
   "cell_type": "code",
   "execution_count": 0,
   "metadata": {
    "application/vnd.databricks.v1+cell": {
     "cellMetadata": {
      "byteLimit": 2048000,
      "rowLimit": 10000
     },
     "inputWidgets": {},
     "nuid": "792a7481-be34-4fee-a5e1-3fd0f070630a",
     "showTitle": false,
     "tableResultSettingsMap": {},
     "title": ""
    }
   },
   "outputs": [],
   "source": [
    "from pyspark.sql.functions import col, when\n",
    "\n",
    "casted_df1 = selected_df.withColumn(\"viewCount\", when(col(\"viewCount\") != \"\", col(\"viewCount\").cast(\"int\")).otherwise(None)) \\\n",
    "                       .withColumn(\"likeCount\", when(col(\"likeCount\") != \"\", col(\"likeCount\").cast(\"int\")).otherwise(None)) \\\n",
    "                       .withColumn(\"commentCount\", when(col(\"commentCount\") != \"\", col(\"commentCount\").cast(\"int\")).otherwise(None))\n",
    "\n",
    "\n"
   ]
  },
  {
   "cell_type": "code",
   "execution_count": 0,
   "metadata": {
    "application/vnd.databricks.v1+cell": {
     "cellMetadata": {
      "byteLimit": 2048000,
      "rowLimit": 10000
     },
     "inputWidgets": {},
     "nuid": "e5a0258b-3f1e-4057-8375-eb6f3df26e3a",
     "showTitle": false,
     "tableResultSettingsMap": {},
     "title": ""
    }
   },
   "outputs": [
    {
     "output_type": "stream",
     "name": "stdout",
     "output_type": "stream",
     "text": [
      "root\n |-- id: string (nullable = true)\n |-- publishedAt: string (nullable = true)\n |-- channelId: string (nullable = true)\n |-- channelTitle: string (nullable = true)\n |-- title: string (nullable = true)\n |-- description: string (nullable = true)\n |-- categoryId: string (nullable = true)\n |-- tags: array (nullable = true)\n |    |-- element: string (containsNull = true)\n |-- defaultLanguage: string (nullable = true)\n |-- defaultAudioLanguage: string (nullable = true)\n |-- viewCount: integer (nullable = true)\n |-- likeCount: integer (nullable = true)\n |-- commentCount: integer (nullable = true)\n |-- duration: string (nullable = true)\n |-- caption: string (nullable = true)\n\n"
     ]
    }
   ],
   "source": [
    "casted_df1.printSchema()"
   ]
  },
  {
   "cell_type": "code",
   "execution_count": 0,
   "metadata": {
    "application/vnd.databricks.v1+cell": {
     "cellMetadata": {
      "byteLimit": 2048000,
      "rowLimit": 10000
     },
     "inputWidgets": {},
     "nuid": "ee389418-722f-4bf2-b4c7-b15b5b9c74b1",
     "showTitle": false,
     "tableResultSettingsMap": {},
     "title": ""
    }
   },
   "outputs": [
    {
     "output_type": "stream",
     "name": "stdout",
     "output_type": "stream",
     "text": [
      "-RECORD 0----------------------------------------------------------------------------------------------------------------------------------------------------------------------------------------------------------------------------------------------------------------------------------------------------------------------------------------------------------------------------------------------------------------------------------------------------------------------------------------------------------------------------------------------------------------------------------------------------------------------------------------------------------------------------------------------------------------------------------------------------------------------------------------------------------------------------------------------------------------------------------------------------------------------------------------------------------------------------------------------------------------------------------------------------------------------------------------------------------------------------------------------------------------------------------------------------------------------------------------------------------------------------------------------------------------------------------------------------------------------------------------------------------------------------------------------------------------------------------------------------------------------------------------------------------------------------------------------------------------------------------------------------------------------------------------------------------------------------------------------------------------------------------------------------------------------------------------------------------------------------------------------------------------------------------------------------------------------------------------------------------------------------------------------------------------------------------------------------------------------------------------------------------------------------------------\n viewCount    | 648907                                                                                                                                                                                                                                                                                                                                                                                                                                                                                                                                                                                                                                                                                                                                                                                                                                                                                                                                                                                                                                                                                                                                                                                                                                                                                                                                                                                                                                                                                                                                                                                                                                                                                                                                                                                                                                                                                                                                                                                                                                                                                                                                                                           \n likeCount    | 5660                                                                                                                                                                                                                                                                                                                                                                                                                                                                                                                                                                                                                                                                                                                                                                                                                                                                                                                                                                                                                                                                                                                                                                                                                                                                                                                                                                                                                                                                                                                                                                                                                                                                                                                                                                                                                                                                                                                                                                                                                                                                                                                                                                             \n commentCount | 650                                                                                                                                                                                                                                                                                                                                                                                                                                                                                                                                                                                                                                                                                                                                                                                                                                                                                                                                                                                                                                                                                                                                                                                                                                                                                                                                                                                                                                                                                                                                                                                                                                                                                                                                                                                                                                                                                                                                                                                                                                                                                                                                                                              \n duration     | PT19M32S                                                                                                                                                                                                                                                                                                                                                                                                                                                                                                                                                                                                                                                                                                                                                                                                                                                                                                                                                                                                                                                                                                                                                                                                                                                                                                                                                                                                                                                                                                                                                                                                                                                                                                                                                                                                                                                                                                                                                                                                                                                                                                                                                                         \n publishedAt  | 2025-08-09T11:00:09Z                                                                                                                                                                                                                                                                                                                                                                                                                                                                                                                                                                                                                                                                                                                                                                                                                                                                                                                                                                                                                                                                                                                                                                                                                                                                                                                                                                                                                                                                                                                                                                                                                                                                                                                                                                                                                                                                                                                                                                                                                                                                                                                                                             \n channelTitle | Maizen                                                                                                                                                                                                                                                                                                                                                                                                                                                                                                                                                                                                                                                                                                                                                                                                                                                                                                                                                                                                                                                                                                                                                                                                                                                                                                                                                                                                                                                                                                                                                                                                                                                                                                                                                                                                                                                                                                                                                                                                                                                                                                                                                                           \n title        | We Found Mikey TALKING To a GHOST!                                                                                                                                                                                                                                                                                                                                                                                                                                                                                                                                                                                                                                                                                                                                                                                                                                                                                                                                                                                                                                                                                                                                                                                                                                                                                                                                                                                                                                                                                                                                                                                                                                                                                                                                                                                                                                                                                                                                                                                                                                                                                                                                               \n categoryId   | 20                                                                                                                                                                                                                                                                                                                                                                                                                                                                                                                                                                                                                                                                                                                                                                                                                                                                                                                                                                                                                                                                                                                                                                                                                                                                                                                                                                                                                                                                                                                                                                                                                                                                                                                                                                                                                                                                                                                                                                                                                                                                                                                                                                               \n description  | Today, Mikey bought a mansion for only one cent! There's just one little problem... this mansion was the scene of a crime! Could there be something dangerous lurking in this old abandoned mansion after all...?\\n\\nWe hope you enjoy our videos! Have a great day! \\n\\nMaizen Merchandise ► https://shop-maizen.myspreadshop.com/                                                                                                                                                                                                                                                                                                                                                                                                                                                                                                                                                                                                                                                                                                                                                                                                                                                                                                                                                                                                                                                                                                                                                                                                                                                                                                                                                                                                                                                                                                                                                                                                                                                                                                                                                                                                                                              \n-RECORD 1----------------------------------------------------------------------------------------------------------------------------------------------------------------------------------------------------------------------------------------------------------------------------------------------------------------------------------------------------------------------------------------------------------------------------------------------------------------------------------------------------------------------------------------------------------------------------------------------------------------------------------------------------------------------------------------------------------------------------------------------------------------------------------------------------------------------------------------------------------------------------------------------------------------------------------------------------------------------------------------------------------------------------------------------------------------------------------------------------------------------------------------------------------------------------------------------------------------------------------------------------------------------------------------------------------------------------------------------------------------------------------------------------------------------------------------------------------------------------------------------------------------------------------------------------------------------------------------------------------------------------------------------------------------------------------------------------------------------------------------------------------------------------------------------------------------------------------------------------------------------------------------------------------------------------------------------------------------------------------------------------------------------------------------------------------------------------------------------------------------------------------------------------------------------------------------\n viewCount    | 15850611                                                                                                                                                                                                                                                                                                                                                                                                                                                                                                                                                                                                                                                                                                                                                                                                                                                                                                                                                                                                                                                                                                                                                                                                                                                                                                                                                                                                                                                                                                                                                                                                                                                                                                                                                                                          \n\n*** WARNING: max output size exceeded, skipping output. ***\n\n                                                                                                                                                                                                                                                                                                                                                                                                                                                                                                                                                                                                                                                                                                                                                                                                                                                                                                                                                                                                                                                                                                                                                                                                                                                                                                                                                                                                                                                                                                                                                                                                                                                                                                                                                                                         \n description  | Discover why this case ended it all. #TheConjuring: Last Rites - Only in Theaters September 5.\\n\\nFrom New Line Cinema comes the ninth entry in the more than $2 billion theatrical Conjuring universe, The Conjuring: Last Rites, directed by franchise veteran Michael Chaves and produced by franchise architects James Wan and Peter Safran.\\n\\nThe Conjuring: Last Rites delivers another thrilling chapter of the iconic Conjuring cinematic universe, based on real events.  Vera Farmiga and Patrick Wilson reunite for one last case as renowned, real-life paranormal investigators Ed and Lorraine Warren in a powerful and spine-chilling addition to the global box office-breaking franchise.\\n\\nFarmiga and Wilson star alongside Mia Tomlinson and Ben Hardy, who portray Ed and Lorraine’s daughter Judy Warren and her boyfriend, Tony Spera, as well as Steve Coulter returning as Father Gordon, Rebecca Calder, Elliot Cowan, Kíla Lord Cassidy, Beau Gadsdon, John Brotherton and Shannon Kook.\\n\\nChaves directs from a screenplay by Ian Goldberg & Richard Naing and David Leslie Johnson-McGoldrick, story by David Leslie Johnson-McGoldrick & James Wan, based on characters created by Chad Hayes & Carey W. Hayes.  The executive producers are Michael Clear, Judson Scott, Hans Ritter, David Leslie Johnson-McGoldrick, Natalia Safran, John Rickard and Michael Chaves.\\n\\nChaves is joined behind the camera by his creative team, including director of photography Eli Born, production designer John Frankish, editors Elliot Greenberg and Gregory Plotkin, visual effects supervisor Scott Edelstein, visual effects producer Eric Bruneau and costume designer Graham Churchyard, with casting by Rose Wicksteed and Sophie Kingston-Smith.  The music supervisor is Ian Broucek and the music is by composer Benjamin Wallfisch.\\n\\nNew Line Cinema Presents The Safran Company / An Atomic Monster Production, The Conjuring: Last Rites.  The film will be released worldwide by Warner Bros. Pictures and will be only in theaters and IMAX® in North America on September 5, 2025, and internationally beginning 3 September 2025. \n-RECORD 2----------------------------------------------------------------------------------------------------------------------------------------------------------------------------------------------------------------------------------------------------------------------------------------------------------------------------------------------------------------------------------------------------------------------------------------------------------------------------------------------------------------------------------------------------------------------------------------------------------------------------------------------------------------------------------------------------------------------------------------------------------------------------------------------------------------------------------------------------------------------------------------------------------------------------------------------------------------------------------------------------------------------------------------------------------------------------------------------------------------------------------------------------------------------------------------------------------------------------------------------------------------------------------------------------------------------------------------------------------------------------------------------------------------------------------------------------------------------------------------------------------------------------------------------------------------------------------------------------------------------------------------------------------------------------------------------------------------------------------------------------------------------------------------------------------------------------------------------------------------------------------------------------------------------------------------------------------------------------------------------------------------------------------------------------------------------------------------------------------------------------------------------------------------------------------------\n viewCount    | 592587                                                                                                                                                                                                                                                                                                                                                                                                                                                                                                                                                                                                                                                                                                                                                                                                                                                                                                                                                                                                                                                                                                                                                                                                                                                                                                                                                                                                                                                                                                                                                                                                                                                                                                                                                                                                                                                                                                                                                                                                                                                                                                                                                                           \n likeCount    | 23146                                                                                                                                                                                                                                                                                                                                                                                                                                                                                                                                                                                                                                                                                                                                                                                                                                                                                                                                                                                                                                                                                                                                                                                                                                                                                                                                                                                                                                                                                                                                                                                                                                                                                                                                                                                                                                                                                                                                                                                                                                                                                                                                                                            \n commentCount | 1231                                                                                                                                                                                                                                                                                                                                                                                                                                                                                                                                                                                                                                                                                                                                                                                                                                                                                                                                                                                                                                                                                                                                                                                                                                                                                                                                                                                                                                                                                                                                                                                                                                                                                                                                                                                                                                                                                                                                                                                                                                                                                                                                                                             \n duration     | PT2M39S                                                                                                                                                                                                                                                                                                                                                                                                                                                                                                                                                                                                                                                                                                                                                                                                                                                                                                                                                                                                                                                                                                                                                                                                                                                                                                                                                                                                                                                                                                                                                                                                                                                                                                                                                                                                                                                                                                                                                                                                                                                                                                                                                                          \n publishedAt  | 2025-08-08T13:30:56Z                                                                                                                                                                                                                                                                                                                                                                                                                                                                                                                                                                                                                                                                                                                                                                                                                                                                                                                                                                                                                                                                                                                                                                                                                                                                                                                                                                                                                                                                                                                                                                                                                                                                                                                                                                                                                                                                                                                                                                                                                                                                                                                                                             \n channelTitle | Sparrow Cinemas                                                                                                                                                                                                                                                                                                                                                                                                                                                                                                                                                                                                                                                                                                                                                                                                                                                                                                                                                                                                                                                                                                                                                                                                                                                                                                                                                                                                                                                                                                                                                                                                                                                                                                                                                                                                                                                                                                                                                                                                                                                                                                                                                                  \n title        | Captain Prabhakaran New 4K Trailer | Vijayakanth | RK Selvamani | Ilaiyaraja | Sparrow Cinemas                                                                                                                                                                                                                                                                                                                                                                                                                                                                                                                                                                                                                                                                                                                                                                                                                                                                                                                                                                                                                                                                                                                                                                                                                                                                                                                                                                                                                                                                                                                                                                                                                                                                                                                                                                                                                                                                                                                                                                                                                                                                                   \n categoryId   | 1                                                                                                                                                                                                                                                                                                                                                                                                                                                                                                                                                                                                                                                                                                                                                                                                                                                                                                                                                                                                                                                                                                                                                                                                                                                                                                                                                                                                                                                                                                                                                                                                                                                                                                                                                                                                                                                                                                                                                                                                                                                                                                                                                                                \n description  | #CaptainPrabhakaran #Vijayakanth #RkSelvamani #Ilayaraja #SparrowCinemas\\n\\nCaptain Prabhakaran 2025 New 4K Trailer | Vijayakanth's 100th Movie | RK Selvamani | Ilaiyaraja | Sparrow Cinemas\\n\\nDirected by RK Selvamani\\nProduced by Ibrahim Rowther & A. Mohammed Abubucker\\nStarring Vijayakanth, Sarath Kumar, Mansoor Ali Khan, Ramya Krishnan, Rupini & Livingston\\nMusic by Ilaiyaraaja\\nCinematography by Rajarajan\\nEdited by G. Jayachandran\\nEditor (4K Trailer Cuts): R Sudharshan\\nArt by JK\\nStunt: Super Subburayan\\nDialogues: Liyakath Ali Khan\\nRemastered by Film Vision - K Ramu\\nProduction company:  I. V. Cine Productions\\nRe-release by  Sparrow Cinemas Karthick.V\\nPRO: Diamond Babu, Ksk Selvakumaar & Captain MP Anand\\nDesign: Selva\\nRelease Date: Captain Birthday Celebration August 22, 2025                                                                                                                                                                                                                                                                                                                                                                                                                                                                                                                                                                                                                                                                                                                                                                                                                                                                                                                                                                                                                                                                                                                                                                                                                                                                                                                                                  \nonly showing top 3 rows\n"
     ]
    }
   ],
   "source": [
    "casted_df1.select(\n",
    "    \"viewCount\", \"likeCount\", \"commentCount\",\n",
    "    \"duration\", \"publishedAt\", \"channelTitle\",\n",
    "    \"title\", \"categoryId\", \"description\"\n",
    ").show(3, truncate=False, vertical=True)"
   ]
  },
  {
   "cell_type": "code",
   "execution_count": 0,
   "metadata": {
    "application/vnd.databricks.v1+cell": {
     "cellMetadata": {
      "byteLimit": 2048000,
      "rowLimit": 10000
     },
     "inputWidgets": {},
     "nuid": "591a17b4-8eaa-4663-a32c-8f73abf78546",
     "showTitle": false,
     "tableResultSettingsMap": {},
     "title": ""
    }
   },
   "outputs": [
    {
     "output_type": "stream",
     "name": "stdout",
     "output_type": "stream",
     "text": [
      "+----------------------------------------------------------------------------------------------------+-----------+\n|title                                                                                               |duration   |\n+----------------------------------------------------------------------------------------------------+-----------+\n|We Found Mikey TALKING To a GHOST!                                                                  |PT19M32S   |\n|The Conjuring: Last Rites | Official Trailer                                                        |PT2M26S    |\n|Captain Prabhakaran New 4K Trailer | Vijayakanth | RK Selvamani | Ilaiyaraja | Sparrow Cinemas      |PT2M39S    |\n|Pottala Muttaye | Thalaivan Thalaivii | Vijay Sethupathi,Nithya Menen |Pandiraaj |Santhosh Narayanan|PT4M17S    |\n|Janaab-e-Aali Song Teaser | WAR 2 | Hrithik Roshan, NTR | Pritam, Sachet Tandon, Saaj Bhatt, Amitabh|PT35S      |\n|BLAST Premier Bounty S2, Round 2 Day 1 - NAVI vs Astralis, FaZe vs VP, Spirit vs G2, FURIA vs Liquid|PT11H54M59S|\n|grow a garden admin abuse (w/flamingo)                                                              |PT5H25M10S |\n|GHAATI Trailer (Tamil) | Anushka Shetty | Vikram Prabhu | Krish Jagarlamudi | UV Creations          |PT2M22S    |\n|One Punch Man Season 3 - Official Trailer (English Subtitles)                                       |PT43S      |\n|Salambala | Madharaasi | Sivakarthikeyan | Rukmini Vasanth| A.R.Murugadoss | Anirudh | SaiAbhyankkar|PT3M57S    |\n+----------------------------------------------------------------------------------------------------+-----------+\nonly showing top 10 rows\n"
     ]
    }
   ],
   "source": [
    "casted_df1.select(\"title\", \"duration\").show(10, truncate=False)"
   ]
  },
  {
   "cell_type": "markdown",
   "metadata": {
    "application/vnd.databricks.v1+cell": {
     "cellMetadata": {},
     "inputWidgets": {},
     "nuid": "2d99d079-4709-4b16-ac40-6ccb820c33aa",
     "showTitle": false,
     "tableResultSettingsMap": {},
     "title": ""
    }
   },
   "source": [
    "# Convert duration (ISO 8601 format) to Total Seconds"
   ]
  },
  {
   "cell_type": "code",
   "execution_count": 0,
   "metadata": {
    "application/vnd.databricks.v1+cell": {
     "cellMetadata": {
      "byteLimit": 2048000,
      "rowLimit": 10000
     },
     "inputWidgets": {},
     "nuid": "ce17cda5-3b86-44a8-8cde-fe4d388f573f",
     "showTitle": false,
     "tableResultSettingsMap": {},
     "title": ""
    }
   },
   "outputs": [],
   "source": [
    "from pyspark.sql.functions import regexp_extract, col, when\n",
    "\n",
    "# Regex extract hours, minutes, seconds from ISO 8601 duration format\n",
    "casted_df1 = casted_df1 \\\n",
    "    .withColumn(\"hours\", when(regexp_extract(col(\"duration\"), \"PT(\\\\d+)H\", 1) != \"\", regexp_extract(col(\"duration\"), \"PT(\\\\d+)H\", 1).cast(\"int\")).otherwise(0)) \\\n",
    "    .withColumn(\"minutes\", when(regexp_extract(col(\"duration\"), \"(\\\\d+)M\", 1) != \"\", regexp_extract(col(\"duration\"), \"(\\\\d+)M\", 1).cast(\"int\")).otherwise(0)) \\\n",
    "    .withColumn(\"seconds\", when(regexp_extract(col(\"duration\"), \"(\\\\d+)S\", 1) != \"\", regexp_extract(col(\"duration\"), \"(\\\\d+)S\", 1).cast(\"int\")).otherwise(0))\n",
    "\n",
    "# Total seconds calculate karo\n",
    "casted_df1 = casted_df1.withColumn(\n",
    "    \"duration\",\n",
    "    (col(\"hours\")*3600 + col(\"minutes\")*60 + col(\"seconds\"))\n",
    ")\n",
    "\n",
    "# Temporary columns drop karo\n",
    "casted_df1 = casted_df1.drop(\"hours\", \"minutes\", \"seconds\")\n"
   ]
  },
  {
   "cell_type": "code",
   "execution_count": 0,
   "metadata": {
    "application/vnd.databricks.v1+cell": {
     "cellMetadata": {
      "byteLimit": 2048000,
      "rowLimit": 10000
     },
     "inputWidgets": {},
     "nuid": "2082b769-d0fd-4d9d-bfea-ae162f64979d",
     "showTitle": false,
     "tableResultSettingsMap": {},
     "title": ""
    }
   },
   "outputs": [
    {
     "output_type": "stream",
     "name": "stdout",
     "output_type": "stream",
     "text": [
      "root\n |-- id: string (nullable = true)\n |-- publishedAt: string (nullable = true)\n |-- channelId: string (nullable = true)\n |-- channelTitle: string (nullable = true)\n |-- title: string (nullable = true)\n |-- description: string (nullable = true)\n |-- categoryId: string (nullable = true)\n |-- tags: array (nullable = true)\n |    |-- element: string (containsNull = true)\n |-- defaultLanguage: string (nullable = true)\n |-- defaultAudioLanguage: string (nullable = true)\n |-- viewCount: integer (nullable = true)\n |-- likeCount: integer (nullable = true)\n |-- commentCount: integer (nullable = true)\n |-- duration: integer (nullable = true)\n |-- caption: string (nullable = true)\n\n"
     ]
    }
   ],
   "source": [
    "casted_df1.printSchema()"
   ]
  },
  {
   "cell_type": "code",
   "execution_count": 0,
   "metadata": {
    "application/vnd.databricks.v1+cell": {
     "cellMetadata": {
      "byteLimit": 2048000,
      "rowLimit": 10000
     },
     "inputWidgets": {},
     "nuid": "9a39972c-eaf7-4832-8aab-00b23adfbcf1",
     "showTitle": false,
     "tableResultSettingsMap": {},
     "title": ""
    }
   },
   "outputs": [
    {
     "output_type": "stream",
     "name": "stdout",
     "output_type": "stream",
     "text": [
      "+----------------------------------------------------------------------------------------------------+--------+\n|title                                                                                               |duration|\n+----------------------------------------------------------------------------------------------------+--------+\n|We Found Mikey TALKING To a GHOST!                                                                  |1172    |\n|The Conjuring: Last Rites | Official Trailer                                                        |146     |\n|Captain Prabhakaran New 4K Trailer | Vijayakanth | RK Selvamani | Ilaiyaraja | Sparrow Cinemas      |159     |\n|Pottala Muttaye | Thalaivan Thalaivii | Vijay Sethupathi,Nithya Menen |Pandiraaj |Santhosh Narayanan|257     |\n|Janaab-e-Aali Song Teaser | WAR 2 | Hrithik Roshan, NTR | Pritam, Sachet Tandon, Saaj Bhatt, Amitabh|35      |\n|BLAST Premier Bounty S2, Round 2 Day 1 - NAVI vs Astralis, FaZe vs VP, Spirit vs G2, FURIA vs Liquid|42899   |\n|grow a garden admin abuse (w/flamingo)                                                              |19510   |\n|GHAATI Trailer (Tamil) | Anushka Shetty | Vikram Prabhu | Krish Jagarlamudi | UV Creations          |142     |\n|One Punch Man Season 3 - Official Trailer (English Subtitles)                                       |43      |\n|Salambala | Madharaasi | Sivakarthikeyan | Rukmini Vasanth| A.R.Murugadoss | Anirudh | SaiAbhyankkar|237     |\n|BLACKPINK - '뛰어(JUMP)' Live at WORLD TOUR [DEADLINE] IN GOYANG                                    |188     |\n|I Stole The 6 NEWEST Brainrots..                                                                    |825     |\n|BETA SQUAD AMONG US: Zero IQ Edition                                                                |2804    |\n|The Deliverer Trailer - \"Trailblazer\" | Honkai: Star Rail                                           |110     |\n|Lollapalooza Chicago 2025 “Gabriela” Performance | KATSEYE                                          |303     |\n|SIDEMEN AMONG US MEGA CHAOS MODE                                                                    |5564    |\n|3P x 艾薇Ivy - 'RAFFLESIA' (Official Music Video)                                                   |200     |\n|HOW TO GET AMAZING REWARDS, INCLUDING 1 GEM!                                                        |186     |\n|Brawl Stars Championship 2025 - August Monthly Finals - East Asia                                   |20438   |\n|120 Bahadur | Official Teaser | Farhan Akhtar | Raashii Khanna | 21st November                      |128     |\n+----------------------------------------------------------------------------------------------------+--------+\nonly showing top 20 rows\n"
     ]
    }
   ],
   "source": [
    "casted_df1.select(\"title\", \"duration\").show(20, truncate=False)"
   ]
  },
  {
   "cell_type": "markdown",
   "metadata": {
    "application/vnd.databricks.v1+cell": {
     "cellMetadata": {},
     "inputWidgets": {},
     "nuid": "dd244853-6b10-4de3-a70a-d34ac35f2c66",
     "showTitle": false,
     "tableResultSettingsMap": {},
     "title": ""
    }
   },
   "source": [
    "# in our data distinct categoryid available"
   ]
  },
  {
   "cell_type": "code",
   "execution_count": 0,
   "metadata": {
    "application/vnd.databricks.v1+cell": {
     "cellMetadata": {
      "byteLimit": 2048000,
      "rowLimit": 10000
     },
     "inputWidgets": {},
     "nuid": "5a34f302-0e64-4dbf-a984-0fe8decbece9",
     "showTitle": false,
     "tableResultSettingsMap": {},
     "title": ""
    }
   },
   "outputs": [
    {
     "output_type": "execute_result",
     "data": {
      "text/plain": [
       "6"
      ]
     },
     "execution_count": 19,
     "metadata": {},
     "output_type": "execute_result"
    }
   ],
   "source": [
    "parsed_df.select(\"json.snippet.categoryId\").distinct().count()"
   ]
  },
  {
   "cell_type": "code",
   "execution_count": 0,
   "metadata": {
    "application/vnd.databricks.v1+cell": {
     "cellMetadata": {
      "byteLimit": 2048000,
      "rowLimit": 10000
     },
     "inputWidgets": {},
     "nuid": "6dd88098-31fc-44a4-aea6-61ac1febd41f",
     "showTitle": false,
     "tableResultSettingsMap": {},
     "title": ""
    }
   },
   "outputs": [
    {
     "output_type": "stream",
     "name": "stdout",
     "output_type": "stream",
     "text": [
      "+----------+\n|categoryId|\n+----------+\n|22        |\n|10        |\n|24        |\n|1         |\n|17        |\n|20        |\n+----------+\n\n"
     ]
    }
   ],
   "source": [
    "parsed_df.select(\"json.snippet.categoryId\").distinct().show(truncate=False)"
   ]
  },
  {
   "cell_type": "markdown",
   "metadata": {
    "application/vnd.databricks.v1+cell": {
     "cellMetadata": {},
     "inputWidgets": {},
     "nuid": "16421d27-26a0-467d-a39e-e12906494c39",
     "showTitle": false,
     "tableResultSettingsMap": {},
     "title": ""
    }
   },
   "source": [
    "# Mapping distinct Categoryid to Category Name"
   ]
  },
  {
   "cell_type": "code",
   "execution_count": 0,
   "metadata": {
    "application/vnd.databricks.v1+cell": {
     "cellMetadata": {
      "byteLimit": 2048000,
      "rowLimit": 10000
     },
     "inputWidgets": {},
     "nuid": "f6ee9d9e-442c-404e-90a3-41f7cf91bbc1",
     "showTitle": false,
     "tableResultSettingsMap": {},
     "title": ""
    }
   },
   "outputs": [],
   "source": [
    "from pyspark.sql.functions import when, col\n",
    "\n",
    "casted_df1 = casted_df1.withColumn(\n",
    "    \"categoryName\",\n",
    "    when(col(\"categoryId\") == \"1\", \"Film & Animation\")\n",
    "    .when(col(\"categoryId\") == \"10\", \"Music\")\n",
    "    .when(col(\"categoryId\") == \"17\", \"Sports\")\n",
    "    .when(col(\"categoryId\") == \"20\", \"Gaming\")\n",
    "    .when(col(\"categoryId\") == \"22\", \"People & Blogs\")\n",
    "    .when(col(\"categoryId\") == \"24\", \"Entertainment\")\n",
    "    .otherwise(\"Unknown\")\n",
    ")\n"
   ]
  },
  {
   "cell_type": "code",
   "execution_count": 0,
   "metadata": {
    "application/vnd.databricks.v1+cell": {
     "cellMetadata": {
      "byteLimit": 2048000,
      "rowLimit": 10000
     },
     "inputWidgets": {},
     "nuid": "4d7ce358-1302-425e-90a1-206328af2063",
     "showTitle": false,
     "tableResultSettingsMap": {},
     "title": ""
    }
   },
   "outputs": [
    {
     "output_type": "stream",
     "name": "stdout",
     "output_type": "stream",
     "text": [
      "+----------------+-----+\n|categoryName    |count|\n+----------------+-----+\n|People & Blogs  |4    |\n|Film & Animation|6    |\n|Gaming          |15   |\n|Sports          |1    |\n|Entertainment   |7    |\n|Music           |17   |\n+----------------+-----+\n\n"
     ]
    }
   ],
   "source": [
    "casted_df1.groupBy(\"categoryName\").count().show(truncate=False)"
   ]
  },
  {
   "cell_type": "markdown",
   "metadata": {
    "application/vnd.databricks.v1+cell": {
     "cellMetadata": {},
     "inputWidgets": {},
     "nuid": "55f1f135-444b-4d9a-98f7-a5a07e1d19e0",
     "showTitle": false,
     "tableResultSettingsMap": {},
     "title": ""
    }
   },
   "source": [
    "# convert publishAt col to time stamp"
   ]
  },
  {
   "cell_type": "code",
   "execution_count": 0,
   "metadata": {
    "application/vnd.databricks.v1+cell": {
     "cellMetadata": {
      "byteLimit": 2048000,
      "rowLimit": 10000
     },
     "inputWidgets": {},
     "nuid": "2fef90f9-6bb4-4b6b-a974-fc72484cb519",
     "showTitle": false,
     "tableResultSettingsMap": {},
     "title": ""
    }
   },
   "outputs": [],
   "source": [
    "from pyspark.sql.functions import col, to_timestamp, to_date, year, month\n",
    "\n",
    "# Step 1: Convert to timestamp\n",
    "casted_df1 = casted_df1.withColumn(\"publishedAt_ts\", to_timestamp(col(\"publishedAt\"), \"yyyy-MM-dd'T'HH:mm:ss'Z'\"))\n",
    "\n",
    "# Step 2: Extract only the date part\n",
    "casted_df1 = casted_df1.withColumn(\"publishedDate\", to_date(col(\"publishedAt_ts\")))\n",
    "\n",
    "# Step 3: Extract year and month from publishedDate\n",
    "casted_df1 = casted_df1.withColumn(\"year\", year(\"publishedDate\")) \\\n",
    "                     .withColumn(\"month\", month(\"publishedDate\"))\n",
    "\n",
    "# Step 4: Drop original publishedAt and timestamp\n",
    "casted_df1 = casted_df1.drop(\"publishedAt\", \"publishedAt_ts\")\n"
   ]
  },
  {
   "cell_type": "code",
   "execution_count": 0,
   "metadata": {
    "application/vnd.databricks.v1+cell": {
     "cellMetadata": {
      "byteLimit": 2048000,
      "rowLimit": 10000
     },
     "inputWidgets": {},
     "nuid": "519a98f5-e361-4a12-b9fb-a68549911ea6",
     "showTitle": false,
     "tableResultSettingsMap": {},
     "title": ""
    }
   },
   "outputs": [
    {
     "output_type": "stream",
     "name": "stdout",
     "output_type": "stream",
     "text": [
      "-RECORD 0-----------------------------------------------------------------------------------------------------------------------------------------------------------------------------------------------------------------------------------------------------------------------------------------------------------------------------------------------------------------------------------------------------------------------------------------------------------------------------------------------------------------------------------------------------------------------------------------------------------------------------------------------------------------------------------------------------------------------------------------------------------------------------------------------------------------------------------------------------------------------------------------------------------------------------------------------------------------------------------------------------------------------------------------------------------------------------------------------------------------------------------------------------------------------------------------------------------------------------------------------------------------------------------------------------------------------------------------------------------------------------------------------------------------------------------------------------------------------------------------------------------------------------------------------------------------------------------------------------------------------------------------------------------------------------------------------------------------------------------------------------------------------------------------------------------------------------------------------------------------------------------------------------------------------------------------------------------------------------------------------------------------------------------------------------------------------------------------------------------------------------------------------------------------------------------------\n viewCount     | 648907                                                                                                                                                                                                                                                                                                                                                                                                                                                                                                                                                                                                                                                                                                                                                                                                                                                                                                                                                                                                                                                                                                                                                                                                                                                                                                                                                                                                                                                                                                                                                                                                                                                                                                                                                                                                                                                                                                                                                                                                                                                                                                                                                                           \n likeCount     | 5660                                                                                                                                                                                                                                                                                                                                                                                                                                                                                                                                                                                                                                                                                                                                                                                                                                                                                                                                                                                                                                                                                                                                                                                                                                                                                                                                                                                                                                                                                                                                                                                                                                                                                                                                                                                                                                                                                                                                                                                                                                                                                                                                                                             \n commentCount  | 650                                                                                                                                                                                                                                                                                                                                                                                                                                                                                                                                                                                                                                                                                                                                                                                                                                                                                                                                                                                                                                                                                                                                                                                                                                                                                                                                                                                                                                                                                                                                                                                                                                                                                                                                                                                                                                                                                                                                                                                                                                                                                                                                                                              \n duration      | 1172                                                                                                                                                                                                                                                                                                                                                                                                                                                                                                                                                                                                                                                                                                                                                                                                                                                                                                                                                                                                                                                                                                                                                                                                                                                                                                                                                                                                                                                                                                                                                                                                                                                                                                                                                                                                                                                                                                                                                                                                                                                                                                                                                                             \n publishedDate | 2025-08-09                                                                                                                                                                                                                                                                                                                                                                                                                                                                                                                                                                                                                                                                                                                                                                                                                                                                                                                                                                                                                                                                                                                                                                                                                                                                                                                                                                                                                                                                                                                                                                                                                                                                                                                                                                                                                                                                                                                                                                                                                                                                                                                                                                       \n channelTitle  | Maizen                                                                                                                                                                                                                                                                                                                                                                                                                                                                                                                                                                                                                                                                                                                                                                                                                                                                                                                                                                                                                                                                                                                                                                                                                                                                                                                                                                                                                                                                                                                                                                                                                                                                                                                                                                                                                                                                                                                                                                                                                                                                                                                                                                           \n title         | We Found Mikey TALKING To a GHOST!                                                                                                                                                                                                                                                                                                                                                                                                                                                                                                                                                                                                                                                                                                                                                                                                                                                                                                                                                                                                                                                                                                                                                                                                                                                                                                                                                                                                                                                                                                                                                                                                                                                                                                                                                                                                                                                                                                                                                                                                                                                                                                                                               \n categoryId    | 20                                                                                                                                                                                                                                                                                                                                                                                                                                                                                                                                                                                                                                                                                                                                                                                                                                                                                                                                                                                                                                                                                                                                                                                                                                                                                                                                                                                                                                                                                                                                                                                                                                                                                                                                                                                                                                                                                                                                                                                                                                                                                                                                                                               \n description   | Today, Mikey bought a mansion for only one cent! There's just one little problem... this mansion was the scene of a crime! Could there be something dangerous lurking in this old abandoned mansion after all...?\\n\\nWe hope you enjoy our videos! Have a great day! \\n\\nMaizen Merchandise ► https://shop-maizen.myspreadshop.com/                                                                                                                                                                                                                                                                                                                                                                                                                                                                                                                                                                                                                                                                                                                                                                                                                                                                                                                                                                                                                                                                                                                                                                                                                                                                                                                                                                                                                                                                                                                                                                                                                                                                                                                                                                                                                                              \n categoryName  | Gaming                                                                                                                                                                                                                                                                                                                                                                                                                                                                                                                                                                                                                                                                                                                                                                                                                                                                                                                                                                                                                                                                                                                                                                                                                                                                                                                                                                                                                                                                                                                                                                                                                                                                                                                                                                                                                                                                                                                                                                                                                                                                                                                                                                           \n-RECORD 1----------------------------------------------------------------------------------------------------------------------------------------------------------------------------------------------------------------------------------------------------------------------------------------------------------------------------------------------------------------------------------------------------------------------------------------------------------------------------------------------------------------------------------------------------------------------------------------------------------------------------------------------------------------------------------------------------------------------------------------------------------------------------------------------------------------------------------------------------------------------------------------------------------------------------------------------------------------------------------------------------------------------------------------------------------------------------------------------------------------------------------------------------------------------------------------------------------------------------------------------------------------------------------------------------------------------------------------------------------------------------------------------------------------------------------------------------------------------------------------------------------------------------------------------------------------------------------------------------------------------------------------------------------------------------------------------------------------------------------------------------------------------------------------------\n\n*** WARNING: max output size exceeded, skipping output. ***\n\n                                                                                                                                                                                                                                                                                                                                                                                                                                                                                                                                                                                                                                                                                                                                                                                                                                                                                                                                                                                                                                                                                                                                                                                                                                                                                                                                                                                                                                                                                                                                                                                                                                                                                                                                                                              \n-RECORD 2-----------------------------------------------------------------------------------------------------------------------------------------------------------------------------------------------------------------------------------------------------------------------------------------------------------------------------------------------------------------------------------------------------------------------------------------------------------------------------------------------------------------------------------------------------------------------------------------------------------------------------------------------------------------------------------------------------------------------------------------------------------------------------------------------------------------------------------------------------------------------------------------------------------------------------------------------------------------------------------------------------------------------------------------------------------------------------------------------------------------------------------------------------------------------------------------------------------------------------------------------------------------------------------------------------------------------------------------------------------------------------------------------------------------------------------------------------------------------------------------------------------------------------------------------------------------------------------------------------------------------------------------------------------------------------------------------------------------------------------------------------------------------------------------------------------------------------------------------------------------------------------------------------------------------------------------------------------------------------------------------------------------------------------------------------------------------------------------------------------------------------------------------------------------------------------------\n viewCount     | 592587                                                                                                                                                                                                                                                                                                                                                                                                                                                                                                                                                                                                                                                                                                                                                                                                                                                                                                                                                                                                                                                                                                                                                                                                                                                                                                                                                                                                                                                                                                                                                                                                                                                                                                                                                                                                                                                                                                                                                                                                                                                                                                                                                                           \n likeCount     | 23146                                                                                                                                                                                                                                                                                                                                                                                                                                                                                                                                                                                                                                                                                                                                                                                                                                                                                                                                                                                                                                                                                                                                                                                                                                                                                                                                                                                                                                                                                                                                                                                                                                                                                                                                                                                                                                                                                                                                                                                                                                                                                                                                                                            \n commentCount  | 1231                                                                                                                                                                                                                                                                                                                                                                                                                                                                                                                                                                                                                                                                                                                                                                                                                                                                                                                                                                                                                                                                                                                                                                                                                                                                                                                                                                                                                                                                                                                                                                                                                                                                                                                                                                                                                                                                                                                                                                                                                                                                                                                                                                             \n duration      | 159                                                                                                                                                                                                                                                                                                                                                                                                                                                                                                                                                                                                                                                                                                                                                                                                                                                                                                                                                                                                                                                                                                                                                                                                                                                                                                                                                                                                                                                                                                                                                                                                                                                                                                                                                                                                                                                                                                                                                                                                                                                                                                                                                                              \n publishedDate | 2025-08-08                                                                                                                                                                                                                                                                                                                                                                                                                                                                                                                                                                                                                                                                                                                                                                                                                                                                                                                                                                                                                                                                                                                                                                                                                                                                                                                                                                                                                                                                                                                                                                                                                                                                                                                                                                                                                                                                                                                                                                                                                                                                                                                                                                       \n channelTitle  | Sparrow Cinemas                                                                                                                                                                                                                                                                                                                                                                                                                                                                                                                                                                                                                                                                                                                                                                                                                                                                                                                                                                                                                                                                                                                                                                                                                                                                                                                                                                                                                                                                                                                                                                                                                                                                                                                                                                                                                                                                                                                                                                                                                                                                                                                                                                  \n title         | Captain Prabhakaran New 4K Trailer | Vijayakanth | RK Selvamani | Ilaiyaraja | Sparrow Cinemas                                                                                                                                                                                                                                                                                                                                                                                                                                                                                                                                                                                                                                                                                                                                                                                                                                                                                                                                                                                                                                                                                                                                                                                                                                                                                                                                                                                                                                                                                                                                                                                                                                                                                                                                                                                                                                                                                                                                                                                                                                                                                   \n categoryId    | 1                                                                                                                                                                                                                                                                                                                                                                                                                                                                                                                                                                                                                                                                                                                                                                                                                                                                                                                                                                                                                                                                                                                                                                                                                                                                                                                                                                                                                                                                                                                                                                                                                                                                                                                                                                                                                                                                                                                                                                                                                                                                                                                                                                                \n description   | #CaptainPrabhakaran #Vijayakanth #RkSelvamani #Ilayaraja #SparrowCinemas\\n\\nCaptain Prabhakaran 2025 New 4K Trailer | Vijayakanth's 100th Movie | RK Selvamani | Ilaiyaraja | Sparrow Cinemas\\n\\nDirected by RK Selvamani\\nProduced by Ibrahim Rowther & A. Mohammed Abubucker\\nStarring Vijayakanth, Sarath Kumar, Mansoor Ali Khan, Ramya Krishnan, Rupini & Livingston\\nMusic by Ilaiyaraaja\\nCinematography by Rajarajan\\nEdited by G. Jayachandran\\nEditor (4K Trailer Cuts): R Sudharshan\\nArt by JK\\nStunt: Super Subburayan\\nDialogues: Liyakath Ali Khan\\nRemastered by Film Vision - K Ramu\\nProduction company:  I. V. Cine Productions\\nRe-release by  Sparrow Cinemas Karthick.V\\nPRO: Diamond Babu, Ksk Selvakumaar & Captain MP Anand\\nDesign: Selva\\nRelease Date: Captain Birthday Celebration August 22, 2025                                                                                                                                                                                                                                                                                                                                                                                                                                                                                                                                                                                                                                                                                                                                                                                                                                                                                                                                                                                                                                                                                                                                                                                                                                                                                                                                                  \n categoryName  | Film & Animation                                                                                                                                                                                                                                                                                                                                                                                                                                                                                                                                                                                                                                                                                                                                                                                                                                                                                                                                                                                                                                                                                                                                                                                                                                                                                                                                                                                                                                                                                                                                                                                                                                                                                                                                                                                                                                                                                                                                                                                                                                                                                                                                                                 \nonly showing top 3 rows\n"
     ]
    }
   ],
   "source": [
    "casted_df1.select(\n",
    "    \"viewCount\", \"likeCount\", \"commentCount\",\n",
    "    \"duration\", \"publishedDate\", \"channelTitle\",\n",
    "    \"title\", \"categoryId\", \"description\", \"categoryName\"\n",
    ").show(3, truncate=False, vertical=True)"
   ]
  },
  {
   "cell_type": "code",
   "execution_count": 0,
   "metadata": {
    "application/vnd.databricks.v1+cell": {
     "cellMetadata": {
      "byteLimit": 2048000,
      "rowLimit": 10000
     },
     "inputWidgets": {},
     "nuid": "5a39e05c-40f8-470a-8a67-7f450f6c839a",
     "showTitle": false,
     "tableResultSettingsMap": {},
     "title": ""
    }
   },
   "outputs": [
    {
     "output_type": "stream",
     "name": "stdout",
     "output_type": "stream",
     "text": [
      "+--------------+--------------+-----------------+-------------+------------+-----------------+------------------+---------+----------+\n|null_viewCount|null_likeCount|null_commentCount|null_duration|null_caption|null_categoryName|null_publishedDate|null_year|null_month|\n+--------------+--------------+-----------------+-------------+------------+-----------------+------------------+---------+----------+\n|             0|             0|                0|            0|           0|                0|                 0|        0|         0|\n+--------------+--------------+-----------------+-------------+------------+-----------------+------------------+---------+----------+\n\n"
     ]
    }
   ],
   "source": [
    "from pyspark.sql.functions import col, count, when\n",
    "\n",
    "# Check null values for all relevant columns\n",
    "casted_df1.select([\n",
    "    count(when(col(\"viewCount\").isNull(), 1)).alias(\"null_viewCount\"),\n",
    "    count(when(col(\"likeCount\").isNull(), 1)).alias(\"null_likeCount\"),\n",
    "    count(when(col(\"commentCount\").isNull(), 1)).alias(\"null_commentCount\"),\n",
    "    count(when(col(\"duration\").isNull(), 1)).alias(\"null_duration\"),\n",
    "    count(when(col(\"caption\").isNull(), 1)).alias(\"null_caption\"),\n",
    "    count(when(col(\"categoryName\").isNull(), 1)).alias(\"null_categoryName\"),\n",
    "    count(when(col(\"publishedDate\").isNull(), 1)).alias(\"null_publishedDate\"),\n",
    "    count(when(col(\"year\").isNull(), 1)).alias(\"null_year\"),\n",
    "    count(when(col(\"month\").isNull(), 1)).alias(\"null_month\")\n",
    "]).show()"
   ]
  },
  {
   "cell_type": "markdown",
   "metadata": {
    "application/vnd.databricks.v1+cell": {
     "cellMetadata": {},
     "inputWidgets": {},
     "nuid": "efd02f91-a09b-46a2-bcad-bd351fea621e",
     "showTitle": false,
     "tableResultSettingsMap": {},
     "title": ""
    }
   },
   "source": [
    "# Engegment Analysis"
   ]
  },
  {
   "cell_type": "code",
   "execution_count": 0,
   "metadata": {
    "application/vnd.databricks.v1+cell": {
     "cellMetadata": {},
     "inputWidgets": {},
     "nuid": "5408738e-5c60-4787-831d-ccdd90a9271d",
     "showTitle": false,
     "tableResultSettingsMap": {},
     "title": ""
    }
   },
   "outputs": [],
   "source": []
  },
  {
   "cell_type": "markdown",
   "metadata": {
    "application/vnd.databricks.v1+cell": {
     "cellMetadata": {},
     "inputWidgets": {},
     "nuid": "eaca3062-75ba-4fd7-9770-93e25163f1b4",
     "showTitle": false,
     "tableResultSettingsMap": {},
     "title": ""
    }
   },
   "source": [
    "# Top Channels by Total Views"
   ]
  },
  {
   "cell_type": "code",
   "execution_count": 0,
   "metadata": {
    "application/vnd.databricks.v1+cell": {
     "cellMetadata": {
      "byteLimit": 2048000,
      "rowLimit": 10000
     },
     "inputWidgets": {},
     "nuid": "428d1a72-ca6c-4974-9d4f-3c5212e13ec9",
     "showTitle": false,
     "tableResultSettingsMap": {},
     "title": ""
    }
   },
   "outputs": [
    {
     "output_type": "stream",
     "name": "stdout",
     "output_type": "stream",
     "text": [
      "+-------------------+----------+\n|channelTitle       |totalViews|\n+-------------------+----------+\n|Excel Movies       |25329114  |\n|Sun TV             |21923784  |\n|Avatar             |20183637  |\n|Warner Bros.       |15850611  |\n|Sony Music South   |13191803  |\n|Brawl Stars        |12932859  |\n|Junglee Music Tamil|11421274  |\n|YRF                |9209754   |\n|BLACKPINK          |8496334   |\n|Universal Pictures |8435444   |\n|A24                |7633998   |\n|ChappellRoanVEVO   |7495005   |\n|FORMULA 1          |5712448   |\n|Think Music India  |3498143   |\n|Ed Sheeran         |3428391   |\n|MrBeast Gaming     |2807057   |\n|CaylusBlox         |2492431   |\n|KreekCraft         |2473405   |\n|KATSEYE            |2235365   |\n|Fortnite           |2149617   |\n+-------------------+----------+\nonly showing top 20 rows\n"
     ]
    }
   ],
   "source": [
    "top_channels = casted_df1.groupBy(\"channelTitle\") \\\n",
    "    .sum(\"viewCount\") \\\n",
    "    .withColumnRenamed(\"sum(viewCount)\", \"totalViews\") \\\n",
    "    .orderBy(col(\"totalViews\").desc())\n",
    "\n",
    "top_channels.show(20, truncate=False)\n"
   ]
  },
  {
   "cell_type": "markdown",
   "metadata": {
    "application/vnd.databricks.v1+cell": {
     "cellMetadata": {},
     "inputWidgets": {},
     "nuid": "510fa74a-18c4-47ad-aaa0-6f5583511fc4",
     "showTitle": false,
     "tableResultSettingsMap": {},
     "title": ""
    }
   },
   "source": [
    "# Top channels by total likes"
   ]
  },
  {
   "cell_type": "code",
   "execution_count": 0,
   "metadata": {
    "application/vnd.databricks.v1+cell": {
     "cellMetadata": {
      "byteLimit": 2048000,
      "rowLimit": 10000
     },
     "inputWidgets": {},
     "nuid": "0264b927-0c25-4401-8208-0fb02e61a2d8",
     "showTitle": false,
     "tableResultSettingsMap": {},
     "title": ""
    }
   },
   "outputs": [
    {
     "output_type": "stream",
     "name": "stdout",
     "output_type": "stream",
     "text": [
      "+-------------------+----------+\n|channelTitle       |totalLikes|\n+-------------------+----------+\n|Sony Music South   |947792    |\n|Sun TV             |790111    |\n|Avatar             |523179    |\n|ChappellRoanVEVO   |436476    |\n|BLACKPINK          |428653    |\n|Junglee Music Tamil|190641    |\n|Brawl Stars        |169518    |\n|YRF                |155697    |\n|KATSEYE            |139553    |\n|Warner Bros.       |139418    |\n+-------------------+----------+\nonly showing top 10 rows\n"
     ]
    }
   ],
   "source": [
    "top_liked_channels = casted_df1.groupBy(\"channelTitle\") \\\n",
    "    .sum(\"likeCount\") \\\n",
    "    .withColumnRenamed(\"sum(likeCount)\", \"totalLikes\") \\\n",
    "    .orderBy(col(\"totalLikes\").desc())\n",
    "top_liked_channels.show(10, truncate=False)"
   ]
  },
  {
   "cell_type": "markdown",
   "metadata": {
    "application/vnd.databricks.v1+cell": {
     "cellMetadata": {},
     "inputWidgets": {},
     "nuid": "b31b7891-e658-446e-88a9-86eef1376b01",
     "showTitle": false,
     "tableResultSettingsMap": {},
     "title": ""
    }
   },
   "source": [
    "# Most Liked Videos"
   ]
  },
  {
   "cell_type": "code",
   "execution_count": 0,
   "metadata": {
    "application/vnd.databricks.v1+cell": {
     "cellMetadata": {
      "byteLimit": 2048000,
      "rowLimit": 10000
     },
     "inputWidgets": {},
     "nuid": "972d58b1-cecc-4995-85d5-8f72f68509f4",
     "showTitle": false,
     "tableResultSettingsMap": {},
     "title": ""
    }
   },
   "outputs": [],
   "source": [
    "# Here we can find top 5 most liked videos along with its title and chanelTitle "
   ]
  },
  {
   "cell_type": "code",
   "execution_count": 0,
   "metadata": {
    "application/vnd.databricks.v1+cell": {
     "cellMetadata": {
      "byteLimit": 2048000,
      "rowLimit": 10000
     },
     "inputWidgets": {},
     "nuid": "3126c1f2-98d5-44f2-823b-4bdbd70e6048",
     "showTitle": false,
     "tableResultSettingsMap": {},
     "title": ""
    }
   },
   "outputs": [
    {
     "output_type": "stream",
     "name": "stdout",
     "output_type": "stream",
     "text": [
      "+------------------------------------------------------------------------------------------+----------------+---------+\n|title                                                                                     |channelTitle    |likeCount|\n+------------------------------------------------------------------------------------------+----------------+---------+\n|They Call Him OG - Firestorm Lyric Video | Pawan Kalyan | Sujeeth | Thaman S | DVV Danayya|Sony Music South|947792   |\n|Coolie - Official Trailer | Superstar Rajinikanth | Sun Pictures | Lokesh | Anirudh       |Sun TV          |790111   |\n|Avatar: Fire and Ash | Official Trailer                                                   |Avatar          |523179   |\n|Chappell Roan - The Subway (Official Music Video)                                         |ChappellRoanVEVO|436476   |\n|BLACKPINK - '뛰어(JUMP)' Live at WORLD TOUR [DEADLINE] IN GOYANG                          |BLACKPINK       |428653   |\n+------------------------------------------------------------------------------------------+----------------+---------+\nonly showing top 5 rows\n"
     ]
    }
   ],
   "source": [
    "most_liked = casted_df1.orderBy(col(\"likeCount\").desc())\n",
    "most_liked.select(\"title\", \"channelTitle\", \"likeCount\").show(5, truncate=False)"
   ]
  },
  {
   "cell_type": "markdown",
   "metadata": {
    "application/vnd.databricks.v1+cell": {
     "cellMetadata": {},
     "inputWidgets": {},
     "nuid": "b8c7bae9-6cc9-427d-9583-d9db7862a0c2",
     "showTitle": false,
     "tableResultSettingsMap": {},
     "title": ""
    }
   },
   "source": [
    "# Top videos by comment count"
   ]
  },
  {
   "cell_type": "code",
   "execution_count": 0,
   "metadata": {
    "application/vnd.databricks.v1+cell": {
     "cellMetadata": {
      "byteLimit": 2048000,
      "rowLimit": 10000
     },
     "inputWidgets": {},
     "nuid": "0b5e363b-1853-4709-8aad-f7273839cfe4",
     "showTitle": false,
     "tableResultSettingsMap": {},
     "title": ""
    }
   },
   "outputs": [
    {
     "output_type": "stream",
     "name": "stdout",
     "output_type": "stream",
     "text": [
      "+------------------------------------------------------------------------------------------+----------------+------------+\n|title                                                                                     |channelTitle    |commentCount|\n+------------------------------------------------------------------------------------------+----------------+------------+\n|They Call Him OG - Firestorm Lyric Video | Pawan Kalyan | Sujeeth | Thaman S | DVV Danayya|Sony Music South|39250       |\n|Coolie - Official Trailer | Superstar Rajinikanth | Sun Pictures | Lokesh | Anirudh       |Sun TV          |32939       |\n|Avatar: Fire and Ash | Official Trailer                                                   |Avatar          |29236       |\n|Chappell Roan - The Subway (Official Music Video)                                         |ChappellRoanVEVO|17392       |\n|BLACKPINK - '뛰어(JUMP)' Live at WORLD TOUR [DEADLINE] IN GOYANG                          |BLACKPINK       |11235       |\n+------------------------------------------------------------------------------------------+----------------+------------+\nonly showing top 5 rows\n"
     ]
    }
   ],
   "source": [
    "most_commented = casted_df1.orderBy(col(\"commentCount\").desc())\n",
    "most_commented.select(\"title\", \"channelTitle\", \"commentCount\").show(5, truncate=False)\n"
   ]
  },
  {
   "cell_type": "markdown",
   "metadata": {
    "application/vnd.databricks.v1+cell": {
     "cellMetadata": {},
     "inputWidgets": {},
     "nuid": "a304f592-fa43-4f53-944c-03b1b263aff6",
     "showTitle": false,
     "tableResultSettingsMap": {},
     "title": ""
    }
   },
   "source": [
    "# Like to View ratio (engagement rate)"
   ]
  },
  {
   "cell_type": "code",
   "execution_count": 0,
   "metadata": {
    "application/vnd.databricks.v1+cell": {
     "cellMetadata": {
      "byteLimit": 2048000,
      "rowLimit": 10000
     },
     "inputWidgets": {},
     "nuid": "e788b8cd-8853-40ea-9633-ebde16384720",
     "showTitle": false,
     "tableResultSettingsMap": {},
     "title": ""
    }
   },
   "outputs": [
    {
     "output_type": "stream",
     "name": "stdout",
     "output_type": "stream",
     "text": [
      "+------------------------------------------------------------------------------------------+----------------+--------------------+\n|title                                                                                     |channelTitle    |likeViewRatio       |\n+------------------------------------------------------------------------------------------+----------------+--------------------+\n|우기 (YUQI) 'What It Sounds Like / KPop Demon Hunters OST' (Cover)                        |i-dle (아이들)  |0.1445722133637496  |\n|DIOR大穎 - Proud Of Myself - (Official MV）                                               |DIOR大穎        |0.11276653571516813 |\n|IVE 아이브 ‘Secret, Cupid’ Trailer                                                        |IVE             |0.09776322543722918 |\n|[Official Trailer] REVAMP THE UNDEAD STORY                                                |GMMTV OFFICIAL​​|0.08948919865180112 |\n|They Call Him OG - Firestorm Lyric Video | Pawan Kalyan | Sujeeth | Thaman S | DVV Danayya|Sony Music South|0.07184704016577567 |\n|skibidi toilet multiverse 047 (part 2) Trailer                                            |DOM Studio      |0.06423889692926509 |\n|Lollapalooza Chicago 2025 “Gabriela” Performance | KATSEYE                                |KATSEYE         |0.06242962558687284 |\n|GUILTY GEAR -STRIVE- Season Pass 4 Playable Character #4 [Lucy] Trailer                   |arcsystemworks  |0.062256994569531536|\n|Chappell Roan - The Subway (Official Music Video)                                         |ChappellRoanVEVO|0.05823558489954309 |\n|Why the Strongest Pokemon Ever Failed to Win Worlds                                       |WolfeyVGC       |0.056674967406375246|\n+------------------------------------------------------------------------------------------+----------------+--------------------+\nonly showing top 10 rows\n"
     ]
    }
   ],
   "source": [
    "from pyspark.sql.functions import expr\n",
    "\n",
    "engagement_df = casted_df1.withColumn(\"likeViewRatio\", expr(\"likeCount / viewCount\"))\n",
    "engagement_df.orderBy(col(\"likeViewRatio\").desc()).select(\"title\", \"channelTitle\", \"likeViewRatio\").show(10, truncate=False)\n"
   ]
  },
  {
   "cell_type": "markdown",
   "metadata": {
    "application/vnd.databricks.v1+cell": {
     "cellMetadata": {},
     "inputWidgets": {},
     "nuid": "7a278472-2c15-47f7-8fe9-7a5bf7db7018",
     "showTitle": false,
     "tableResultSettingsMap": {},
     "title": ""
    }
   },
   "source": [
    "# Analysis based on categories"
   ]
  },
  {
   "cell_type": "code",
   "execution_count": 0,
   "metadata": {
    "application/vnd.databricks.v1+cell": {
     "cellMetadata": {},
     "inputWidgets": {},
     "nuid": "fab62f58-f77b-4ff4-a2ef-0fb13ad81dd8",
     "showTitle": false,
     "tableResultSettingsMap": {},
     "title": ""
    }
   },
   "outputs": [],
   "source": []
  },
  {
   "cell_type": "markdown",
   "metadata": {
    "application/vnd.databricks.v1+cell": {
     "cellMetadata": {},
     "inputWidgets": {},
     "nuid": "dc0e3a33-635e-4b99-b60f-fe6b73b5f589",
     "showTitle": false,
     "tableResultSettingsMap": {},
     "title": ""
    }
   },
   "source": [
    "# Top Categories by Likes"
   ]
  },
  {
   "cell_type": "code",
   "execution_count": 0,
   "metadata": {
    "application/vnd.databricks.v1+cell": {
     "cellMetadata": {
      "byteLimit": 2048000,
      "rowLimit": 10000
     },
     "inputWidgets": {},
     "nuid": "7651e06a-79ae-44bb-8e9f-9e06f14de881",
     "showTitle": false,
     "tableResultSettingsMap": {},
     "title": ""
    }
   },
   "outputs": [
    {
     "output_type": "stream",
     "name": "stdout",
     "output_type": "stream",
     "text": [
      "+----------------+--------------------+----------+\n|    categoryName|        channelTitle|totalLikes|\n+----------------+--------------------+----------+\n|           Music|    Sony Music South|    947792|\n|   Entertainment|              Sun TV|    790111|\n|   Entertainment|              Avatar|    523179|\n|           Music|    ChappellRoanVEVO|    436476|\n|           Music|           BLACKPINK|    428653|\n|           Music| Junglee Music Tamil|    190641|\n|          Gaming|         Brawl Stars|    169518|\n|           Music|                 YRF|    155697|\n|           Music|             KATSEYE|    139553|\n|Film & Animation|        Warner Bros.|    139418|\n|           Music|          Ed Sheeran|    130486|\n|Film & Animation|        Excel Movies|    121167|\n|          Gaming|      MrBeast Gaming|    120301|\n|          Sports|           FORMULA 1|    105317|\n|  People & Blogs|            Fortnite|     94253|\n|          Gaming|   Honkai: Star Rail|     84855|\n|   Entertainment|                 IVE|     72943|\n|Film & Animation|                 A24|     70888|\n|  People & Blogs|         MoreSidemen|     65014|\n|Film & Animation|Five Star Creations |     64098|\n+----------------+--------------------+----------+\nonly showing top 20 rows\n"
     ]
    }
   ],
   "source": [
    "from pyspark.sql.functions import sum\n",
    "\n",
    "casted_df1.groupBy(\"categoryName\",\"channelTitle\") \\\n",
    "    .agg(sum(\"likeCount\").alias(\"totalLikes\")) \\\n",
    "    .orderBy(\"totalLikes\", ascending=False) \\\n",
    "    .show()"
   ]
  },
  {
   "cell_type": "markdown",
   "metadata": {
    "application/vnd.databricks.v1+cell": {
     "cellMetadata": {},
     "inputWidgets": {},
     "nuid": "afd15138-c645-4d6d-93a1-ab7a6b5781f9",
     "showTitle": false,
     "tableResultSettingsMap": {},
     "title": ""
    }
   },
   "source": [
    "# Top Categories by Comments"
   ]
  },
  {
   "cell_type": "code",
   "execution_count": 0,
   "metadata": {
    "application/vnd.databricks.v1+cell": {
     "cellMetadata": {
      "byteLimit": 2048000,
      "rowLimit": 10000
     },
     "inputWidgets": {},
     "nuid": "65d7ca24-ee49-43d5-9188-c9afa1aa2e34",
     "showTitle": false,
     "tableResultSettingsMap": {},
     "title": ""
    }
   },
   "outputs": [
    {
     "output_type": "stream",
     "name": "stdout",
     "output_type": "stream",
     "text": [
      "+----------------+-------------------+-------------+\n|    categoryName|       channelTitle|totalComments|\n+----------------+-------------------+-------------+\n|           Music|   Sony Music South|        39250|\n|   Entertainment|             Sun TV|        32939|\n|   Entertainment|             Avatar|        29236|\n|           Music|   ChappellRoanVEVO|        17392|\n|           Music|          BLACKPINK|        11235|\n|Film & Animation|       Excel Movies|         9088|\n|           Music|                YRF|         8095|\n|           Music|         Ed Sheeran|         7873|\n|  People & Blogs|           Fortnite|         7605|\n|           Music|Junglee Music Tamil|         6129|\n|          Gaming|        Brawl Stars|         5856|\n|           Music|            KATSEYE|         5366|\n|          Sports|          FORMULA 1|         4694|\n|   Entertainment|                IVE|         4633|\n|          Gaming|            rekrap2|         4582|\n|          Gaming|  Honkai: Star Rail|         4404|\n|Film & Animation|         DOM Studio|         4392|\n|Film & Animation|       Warner Bros.|         4123|\n|   Entertainment| Universal Pictures|         4069|\n|Film & Animation|                A24|         4024|\n+----------------+-------------------+-------------+\nonly showing top 20 rows\n"
     ]
    }
   ],
   "source": [
    "casted_df1.groupBy(\"categoryName\",\"channelTitle\") \\\n",
    "    .agg(sum(\"commentCount\").alias(\"totalComments\")) \\\n",
    "    .orderBy(\"totalComments\", ascending=False) \\\n",
    "    .show()"
   ]
  },
  {
   "cell_type": "markdown",
   "metadata": {
    "application/vnd.databricks.v1+cell": {
     "cellMetadata": {},
     "inputWidgets": {},
     "nuid": "29e2be55-aed0-444e-babc-f525ac8194c4",
     "showTitle": false,
     "tableResultSettingsMap": {},
     "title": ""
    }
   },
   "source": [
    "# Average Engagement per Category"
   ]
  },
  {
   "cell_type": "code",
   "execution_count": 0,
   "metadata": {
    "application/vnd.databricks.v1+cell": {
     "cellMetadata": {
      "byteLimit": 2048000,
      "rowLimit": 10000
     },
     "inputWidgets": {},
     "nuid": "8846a27c-f868-43c0-a306-388092a0be14",
     "showTitle": false,
     "tableResultSettingsMap": {},
     "title": ""
    }
   },
   "outputs": [],
   "source": [
    "# create engagment column on adding likecount and commentcount"
   ]
  },
  {
   "cell_type": "code",
   "execution_count": 0,
   "metadata": {
    "application/vnd.databricks.v1+cell": {
     "cellMetadata": {
      "byteLimit": 2048000,
      "rowLimit": 10000
     },
     "inputWidgets": {},
     "nuid": "84461051-421b-4c51-b80f-589425644f81",
     "showTitle": false,
     "tableResultSettingsMap": {},
     "title": ""
    }
   },
   "outputs": [],
   "source": [
    "casted_df1 = casted_df1.withColumn(\n",
    "    \"engagement\",\n",
    "    col(\"likeCount\") + col(\"commentCount\")\n",
    ")"
   ]
  },
  {
   "cell_type": "code",
   "execution_count": 0,
   "metadata": {
    "application/vnd.databricks.v1+cell": {
     "cellMetadata": {
      "byteLimit": 2048000,
      "rowLimit": 10000
     },
     "inputWidgets": {},
     "nuid": "58c6afc4-6aad-4dbf-9914-fb3d0f0d6790",
     "showTitle": false,
     "tableResultSettingsMap": {},
     "title": ""
    }
   },
   "outputs": [
    {
     "output_type": "stream",
     "name": "stdout",
     "output_type": "stream",
     "text": [
      "+----------------+------------------+\n|categoryName    |avgEngagement     |\n+----------------+------------------+\n|Entertainment   |232500.0          |\n|Music           |164803.11764705883|\n|Sports          |110011.0          |\n|Film & Animation|82786.66666666667 |\n|People & Blogs  |52808.25          |\n|Gaming          |43187.13333333333 |\n+----------------+------------------+\n\n"
     ]
    }
   ],
   "source": [
    "from pyspark.sql.functions import avg\n",
    "\n",
    "casted_df1.groupBy(\"categoryName\") \\\n",
    "    .agg(avg(\"engagement\").alias(\"avgEngagement\")) \\\n",
    "    .orderBy(\"avgEngagement\", ascending=False) \\\n",
    "    .show(truncate=False)"
   ]
  },
  {
   "cell_type": "markdown",
   "metadata": {
    "application/vnd.databricks.v1+cell": {
     "cellMetadata": {},
     "inputWidgets": {},
     "nuid": "12678a4a-5224-4a11-86b5-78551c2028ac",
     "showTitle": false,
     "tableResultSettingsMap": {},
     "title": ""
    }
   },
   "source": [
    "# Average engagement by video duration"
   ]
  },
  {
   "cell_type": "code",
   "execution_count": 0,
   "metadata": {
    "application/vnd.databricks.v1+cell": {
     "cellMetadata": {
      "byteLimit": 2048000,
      "rowLimit": 10000
     },
     "inputWidgets": {},
     "nuid": "314089df-87b4-42b6-9d33-4eb82d21c66b",
     "showTitle": false,
     "tableResultSettingsMap": {},
     "title": ""
    }
   },
   "outputs": [],
   "source": [
    "# it says that people are engage or not  in short,long or medium videos"
   ]
  },
  {
   "cell_type": "code",
   "execution_count": 0,
   "metadata": {
    "application/vnd.databricks.v1+cell": {
     "cellMetadata": {
      "byteLimit": 2048000,
      "rowLimit": 10000
     },
     "inputWidgets": {},
     "nuid": "b79d7bbe-3a61-498d-a49a-008d9e1fca80",
     "showTitle": false,
     "tableResultSettingsMap": {},
     "title": ""
    }
   },
   "outputs": [
    {
     "output_type": "stream",
     "name": "stdout",
     "output_type": "stream",
     "text": [
      "+----------------+------------------+\n|durationCategory|     avgEngagement|\n+----------------+------------------+\n|           Short|164712.93548387097|\n|          Medium|           58205.4|\n|            Long|22974.333333333332|\n+----------------+------------------+\n\n"
     ]
    }
   ],
   "source": [
    "# Step 1: Categorize durations\n",
    "from pyspark.sql.functions import when\n",
    "\n",
    "casted_df1 = casted_df1.withColumn(\n",
    "    \"durationCategory\",\n",
    "    when(col(\"duration\") <= 300, \"Short\")  # ≤ 5 mins\n",
    "    .when((col(\"duration\") > 300) & (col(\"duration\") <= 1200), \"Medium\")  # 5–20 mins\n",
    "    .otherwise(\"Long\")  # > 20 mins\n",
    ")\n",
    "\n",
    "# Step 2: Avg engagement per duration category\n",
    "casted_df1.groupBy(\"durationCategory\") \\\n",
    "    .agg(avg(\"engagement\").alias(\"avgEngagement\")) \\\n",
    "    .orderBy(\"avgEngagement\", ascending=False) \\\n",
    "    .show()"
   ]
  },
  {
   "cell_type": "markdown",
   "metadata": {
    "application/vnd.databricks.v1+cell": {
     "cellMetadata": {},
     "inputWidgets": {},
     "nuid": "ce409ff0-0c1a-4661-9b75-7961a110a86f",
     "showTitle": false,
     "tableResultSettingsMap": {},
     "title": ""
    }
   },
   "source": [
    "# Top performing categories within duration groups"
   ]
  },
  {
   "cell_type": "code",
   "execution_count": 0,
   "metadata": {
    "application/vnd.databricks.v1+cell": {
     "cellMetadata": {
      "byteLimit": 2048000,
      "rowLimit": 10000
     },
     "inputWidgets": {},
     "nuid": "51af81e9-c496-42f7-a03b-6388d039023e",
     "showTitle": false,
     "tableResultSettingsMap": {},
     "title": ""
    }
   },
   "outputs": [
    {
     "output_type": "stream",
     "name": "stdout",
     "output_type": "stream",
     "text": [
      "+----------------+----------------+------------------+\n|durationCategory|    categoryName|     avgEngagement|\n+----------------+----------------+------------------+\n|           Short|   Entertainment|          232500.0|\n|           Short|           Music| 186831.2857142857|\n|           Short|          Gaming|106542.66666666667|\n|           Short|Film & Animation|           87688.6|\n|           Short|  People & Blogs|           52446.0|\n|          Medium|          Sports|          110011.0|\n|          Medium|           Music|           62005.0|\n|          Medium|Film & Animation|           58277.0|\n|          Medium|          Gaming|           45550.2|\n|            Long|  People & Blogs|           53170.5|\n|            Long|          Gaming|14346.857142857143|\n+----------------+----------------+------------------+\n\n"
     ]
    }
   ],
   "source": [
    "casted_df1.groupBy(\"durationCategory\", \"categoryName\") \\\n",
    "    .agg(avg(\"engagement\").alias(\"avgEngagement\")) \\\n",
    "    .orderBy(\"durationCategory\", \"avgEngagement\", ascending=False) \\\n",
    "    .show()"
   ]
  },
  {
   "cell_type": "markdown",
   "metadata": {
    "application/vnd.databricks.v1+cell": {
     "cellMetadata": {},
     "inputWidgets": {},
     "nuid": "7d390bfe-503f-49ac-8637-90493ae46485",
     "showTitle": false,
     "tableResultSettingsMap": {},
     "title": ""
    }
   },
   "source": [
    "# Total Watch Time per Category (durationCategory)"
   ]
  },
  {
   "cell_type": "code",
   "execution_count": 0,
   "metadata": {
    "application/vnd.databricks.v1+cell": {
     "cellMetadata": {
      "byteLimit": 2048000,
      "rowLimit": 10000
     },
     "inputWidgets": {},
     "nuid": "53636074-cdef-4860-89c1-ff7042eab7f7",
     "showTitle": false,
     "tableResultSettingsMap": {},
     "title": ""
    }
   },
   "outputs": [
    {
     "output_type": "stream",
     "name": "stdout",
     "output_type": "stream",
     "text": [
      "+----------------+----------------------+\n|durationCategory|totalWatchTime_seconds|\n+----------------+----------------------+\n|            Long|                139004|\n|          Medium|                  6517|\n|           Short|                  5274|\n+----------------+----------------------+\n\n"
     ]
    }
   ],
   "source": [
    "casted_df1.groupBy(\"durationCategory\") \\\n",
    "    .agg(sum(\"duration\").alias(\"totalWatchTime_seconds\")) \\\n",
    "    .orderBy(\"totalWatchTime_seconds\", ascending=False) \\\n",
    "    .show()"
   ]
  },
  {
   "cell_type": "markdown",
   "metadata": {
    "application/vnd.databricks.v1+cell": {
     "cellMetadata": {},
     "inputWidgets": {},
     "nuid": "6a13551a-5a86-4c81-a1c6-07eddbf80ba3",
     "showTitle": false,
     "tableResultSettingsMap": {},
     "title": ""
    }
   },
   "source": [
    "# Total Watch Time per Category and Duration Bucket"
   ]
  },
  {
   "cell_type": "code",
   "execution_count": 0,
   "metadata": {
    "application/vnd.databricks.v1+cell": {
     "cellMetadata": {
      "byteLimit": 2048000,
      "rowLimit": 10000
     },
     "inputWidgets": {},
     "nuid": "3f9d59a2-7bcb-4344-947c-05db57ec1109",
     "showTitle": false,
     "tableResultSettingsMap": {},
     "title": ""
    }
   },
   "outputs": [
    {
     "output_type": "stream",
     "name": "stdout",
     "output_type": "stream",
     "text": [
      "+----------------+----------------+----------------------+\n|categoryName    |durationCategory|totalWatchTime_seconds|\n+----------------+----------------+----------------------+\n|Entertainment   |Short           |963                   |\n|Film & Animation|Medium          |409                   |\n|Film & Animation|Short           |703                   |\n|Gaming          |Long            |130636                |\n|Gaming          |Medium          |4690                  |\n|Gaming          |Short           |416                   |\n|Music           |Medium          |922                   |\n|Music           |Short           |2837                  |\n|People & Blogs  |Long            |8368                  |\n|People & Blogs  |Short           |355                   |\n|Sports          |Medium          |496                   |\n+----------------+----------------+----------------------+\n\n"
     ]
    }
   ],
   "source": [
    "from pyspark.sql.functions import sum\n",
    "\n",
    "casted_df1.groupBy(\"categoryName\", \"durationCategory\") \\\n",
    "    .agg(sum(\"duration\").alias(\"totalWatchTime_seconds\")) \\\n",
    "    .orderBy(\"categoryName\", \"durationCategory\") \\\n",
    "    .show(truncate=False)"
   ]
  },
  {
   "cell_type": "code",
   "execution_count": 0,
   "metadata": {
    "application/vnd.databricks.v1+cell": {
     "cellMetadata": {
      "byteLimit": 2048000,
      "rowLimit": 10000
     },
     "inputWidgets": {},
     "nuid": "0b73c502-ca59-4b38-8092-36c33c29399e",
     "showTitle": false,
     "tableResultSettingsMap": {},
     "title": ""
    }
   },
   "outputs": [],
   "source": [
    "# i have attached the chanelTitle also , from here we can get idea \n",
    "# 1) Which channel is dominating which category .\n",
    "# 2) Which channel do people watch for longer time?\n",
    "# 3) Which channel's videos, short, medium or long, are being watched more?"
   ]
  },
  {
   "cell_type": "code",
   "execution_count": 0,
   "metadata": {
    "application/vnd.databricks.v1+cell": {
     "cellMetadata": {
      "byteLimit": 2048000,
      "rowLimit": 10000
     },
     "inputWidgets": {},
     "nuid": "7d6890c8-87f3-4546-b3c9-87ebf19fa070",
     "showTitle": false,
     "tableResultSettingsMap": {},
     "title": ""
    }
   },
   "outputs": [
    {
     "output_type": "stream",
     "name": "stdout",
     "output_type": "stream",
     "text": [
      "+-------------------+--------------+----------------+----------------------+\n|channelTitle       |categoryName  |durationCategory|totalWatchTime_seconds|\n+-------------------+--------------+----------------+----------------------+\n|FORMULA 1          |Sports        |Medium          |496                   |\n|Bert & Lulu        |People & Blogs|Short           |275                   |\n|Fortnite           |People & Blogs|Short           |80                    |\n|MoreSidemen        |People & Blogs|Long            |5564                  |\n|NDL                |People & Blogs|Long            |2804                  |\n|Ed Sheeran         |Music         |Short           |277                   |\n|ChappellRoanVEVO   |Music         |Short           |272                   |\n|DIOR大穎           |Music         |Short           |258                   |\n|Think Music India  |Music         |Short           |257                   |\n|Sony Music South   |Music         |Short           |246                   |\n|Junglee Music Tamil|Music         |Short           |237                   |\n|菲道尔 Firdhaus    |Music         |Short           |229                   |\n|相信音樂BinMusic   |Music         |Short           |208                   |\n|3P                 |Music         |Short           |200                   |\n|i-dle (아이들)     |Music         |Short           |189                   |\n|BLACKPINK          |Music         |Short           |188                   |\n|Saregama Tamil     |Music         |Short           |146                   |\n|T-Series Tamil     |Music         |Short           |95                    |\n|YRF                |Music         |Short           |35                    |\n|MAY                |Music         |Medium          |310                   |\n+-------------------+--------------+----------------+----------------------+\nonly showing top 20 rows\n"
     ]
    }
   ],
   "source": [
    "from pyspark.sql.functions import sum\n",
    "\n",
    "casted_df1.groupBy(\"channelTitle\", \"categoryName\", \"durationCategory\") \\\n",
    "    .agg(sum(\"duration\").alias(\"totalWatchTime_seconds\")) \\\n",
    "    .orderBy(\"categoryName\", \"durationCategory\", \"totalWatchTime_seconds\", ascending=False) \\\n",
    "    .show(truncate=False)"
   ]
  },
  {
   "cell_type": "markdown",
   "metadata": {
    "application/vnd.databricks.v1+cell": {
     "cellMetadata": {},
     "inputWidgets": {},
     "nuid": "db1aca3c-f3eb-4638-a3ad-d36b3364bb4f",
     "showTitle": false,
     "tableResultSettingsMap": {},
     "title": ""
    }
   },
   "source": [
    "# Top 5 Longest Videos with High Engagement"
   ]
  },
  {
   "cell_type": "code",
   "execution_count": 0,
   "metadata": {
    "application/vnd.databricks.v1+cell": {
     "cellMetadata": {
      "byteLimit": 2048000,
      "rowLimit": 10000
     },
     "inputWidgets": {},
     "nuid": "ee2d6af4-b10d-449d-8b0d-0732d92a96a5",
     "showTitle": false,
     "tableResultSettingsMap": {},
     "title": ""
    }
   },
   "outputs": [
    {
     "output_type": "stream",
     "name": "stdout",
     "output_type": "stream",
     "text": [
      "+----------------------------------------------------------------------------------------------------+--------+----------+\n|title                                                                                               |duration|engagement|\n+----------------------------------------------------------------------------------------------------+--------+----------+\n|BLAST Premier Bounty S2, Round 2 Day 1 - NAVI vs Astralis, FaZe vs VP, Spirit vs G2, FURIA vs Liquid|42899   |12231     |\n|DRX vs DNF - GEN vs T1 | 2025 LCK                                                                   |23160   |8301      |\n|TLN vs PRX - VCT Pacific - Stage 2 -  Group Stage - Day 13                                          |20865   |4153      |\n|Brawl Stars Championship 2025 - August Monthly Finals - East Asia                                   |20438   |5101      |\n|grow a garden admin abuse (w/flamingo)                                                              |19510   |43303     |\n+----------------------------------------------------------------------------------------------------+--------+----------+\nonly showing top 5 rows\n"
     ]
    }
   ],
   "source": [
    "casted_df1.orderBy(col(\"duration\").desc(), col(\"engagement\").desc()).select(\"title\", \"duration\", \"engagement\").show(5, truncate=False)\n"
   ]
  },
  {
   "cell_type": "code",
   "execution_count": 0,
   "metadata": {
    "application/vnd.databricks.v1+cell": {
     "cellMetadata": {
      "byteLimit": 2048000,
      "rowLimit": 10000
     },
     "inputWidgets": {},
     "nuid": "1412d677-345f-4e46-8432-8e0f0774f328",
     "showTitle": false,
     "tableResultSettingsMap": {},
     "title": ""
    }
   },
   "outputs": [],
   "source": [
    "casted_df1.write.mode(\"overwrite\").saveAsTable(\"processed_data.singapore_trending_processed\")"
   ]
  }
 ],
 "metadata": {
  "application/vnd.databricks.v1+notebook": {
   "computePreferences": null,
   "dashboards": [],
   "environmentMetadata": {
    "base_environment": "",
    "environment_version": "1"
   },
   "inputWidgetPreferences": null,
   "language": "python",
   "notebookMetadata": {
    "pythonIndentUnit": 4
   },
   "notebookName": "Singapore_trends",
   "widgets": {}
  },
  "language_info": {
   "name": "python"
  }
 },
 "nbformat": 4,
 "nbformat_minor": 0
}