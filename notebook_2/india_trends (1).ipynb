{
 "cells": [
  {
   "cell_type": "markdown",
   "metadata": {
    "application/vnd.databricks.v1+cell": {
     "cellMetadata": {},
     "inputWidgets": {},
     "nuid": "ff0b7c13-13b7-4125-a666-94fcda7ff6aa",
     "showTitle": false,
     "tableResultSettingsMap": {},
     "title": ""
    }
   },
   "source": [
    "# Analysis on India Data Set"
   ]
  },
  {
   "cell_type": "markdown",
   "metadata": {
    "application/vnd.databricks.v1+cell": {
     "cellMetadata": {},
     "inputWidgets": {},
     "nuid": "bf0488e7-1414-4824-8a53-413a09c3010a",
     "showTitle": false,
     "tableResultSettingsMap": {},
     "title": ""
    }
   },
   "source": [
    "## Read from Delta table"
   ]
  },
  {
   "cell_type": "code",
   "execution_count": 0,
   "metadata": {
    "application/vnd.databricks.v1+cell": {
     "cellMetadata": {
      "byteLimit": 2048000,
      "rowLimit": 10000
     },
     "inputWidgets": {},
     "nuid": "d062b0c1-a6e6-4125-b8b9-1bee834bce36",
     "showTitle": false,
     "tableResultSettingsMap": {},
     "title": ""
    }
   },
   "outputs": [
    {
     "name": "stdout",
     "output_type": "stream",
     "text": [
      "root\n",
      " |-- _id: string (nullable = true)\n",
      " |-- _fivetran_synced: timestamp (nullable = true)\n",
      " |-- data: string (nullable = true)\n",
      " |-- _fivetran_deleted: boolean (nullable = true)\n",
      "\n"
     ]
    }
   ],
   "source": [
    "from pyspark.sql.functions import col\n",
    "\n",
    "# Load table from mongo_youtube_trends schema\n",
    "df = spark.table(\"mongo_youtube_trends.india_trending\") \n",
    "# Show schema to understand structure\n",
    "df.printSchema()"
   ]
  },
  {
   "cell_type": "code",
   "execution_count": 0,
   "metadata": {
    "application/vnd.databricks.v1+cell": {
     "cellMetadata": {
      "byteLimit": 2048000,
      "rowLimit": 10000
     },
     "inputWidgets": {},
     "nuid": "9c950da8-acde-47e6-8406-dce06069f6a5",
     "showTitle": false,
     "tableResultSettingsMap": {},
     "title": ""
    }
   },
   "outputs": [],
   "source": [
    "from pyspark.sql.functions import from_json, col\n",
    "from pyspark.sql.types import StructType, StructField, StringType, ArrayType, BooleanType, TimestampType\n",
    "from pyspark.sql.types import *\n",
    "\n",
    "# Define schema based on DBFS JSON\n",
    "schema = StructType([\n",
    "    StructField(\"contentDetails\", StructType([\n",
    "        StructField(\"caption\", StringType(), True),\n",
    "        StructField(\"definition\", StringType(), True),\n",
    "        StructField(\"dimension\", StringType(), True),\n",
    "        StructField(\"duration\", StringType(), True),\n",
    "        StructField(\"licensedContent\", BooleanType(), True),\n",
    "        StructField(\"projection\", StringType(), True),\n",
    "        StructField(\"regionRestriction\", StructType([\n",
    "            StructField(\"allowed\", ArrayType(StringType()), True)\n",
    "        ]), True)\n",
    "    ]), True),\n",
    "\n",
    "    StructField(\"etag\", StringType(), True),\n",
    "    StructField(\"id\", StringType(), True),\n",
    "    StructField(\"kind\", StringType(), True),\n",
    "\n",
    "    StructField(\"snippet\", StructType([\n",
    "        StructField(\"categoryId\", StringType(), True),\n",
    "        StructField(\"channelId\", StringType(), True),\n",
    "        StructField(\"channelTitle\", StringType(), True),\n",
    "        StructField(\"defaultAudioLanguage\", StringType(), True),\n",
    "        StructField(\"defaultLanguage\", StringType(), True),\n",
    "        StructField(\"description\", StringType(), True),\n",
    "        StructField(\"liveBroadcastContent\", StringType(), True),\n",
    "        StructField(\"localized\", StructType([\n",
    "            StructField(\"description\", StringType(), True),\n",
    "            StructField(\"title\", StringType(), True)\n",
    "        ]), True),\n",
    "        StructField(\"publishedAt\", StringType(), True),\n",
    "        StructField(\"tags\", ArrayType(StringType()), True),\n",
    "        StructField(\"thumbnails\", StructType([\n",
    "            StructField(\"default\", StructType([\n",
    "                StructField(\"height\", LongType(), True),\n",
    "                StructField(\"url\", StringType(), True),\n",
    "                StructField(\"width\", LongType(), True)\n",
    "            ]), True),\n",
    "            StructField(\"high\", StructType([\n",
    "                StructField(\"height\", LongType(), True),\n",
    "                StructField(\"url\", StringType(), True),\n",
    "                StructField(\"width\", LongType(), True)\n",
    "            ]), True),\n",
    "            StructField(\"maxres\", StructType([\n",
    "                StructField(\"height\", LongType(), True),\n",
    "                StructField(\"url\", StringType(), True),\n",
    "                StructField(\"width\", LongType(), True)\n",
    "            ]), True),\n",
    "            StructField(\"medium\", StructType([\n",
    "                StructField(\"height\", LongType(), True),\n",
    "                StructField(\"url\", StringType(), True),\n",
    "                StructField(\"width\", LongType(), True)\n",
    "            ]), True),\n",
    "            StructField(\"standard\", StructType([\n",
    "                StructField(\"height\", LongType(), True),\n",
    "                StructField(\"url\", StringType(), True),\n",
    "                StructField(\"width\", LongType(), True)\n",
    "            ]), True)\n",
    "        ]), True),\n",
    "        StructField(\"title\", StringType(), True)\n",
    "    ]), True),\n",
    "\n",
    "    StructField(\"statistics\", StructType([\n",
    "        StructField(\"commentCount\", StringType(), True),\n",
    "        StructField(\"favoriteCount\", StringType(), True),\n",
    "        StructField(\"likeCount\", StringType(), True),\n",
    "        StructField(\"viewCount\", StringType(), True)\n",
    "    ]), True),\n",
    "])\n",
    "\n"
   ]
  },
  {
   "cell_type": "code",
   "execution_count": 0,
   "metadata": {
    "application/vnd.databricks.v1+cell": {
     "cellMetadata": {
      "byteLimit": 2048000,
      "rowLimit": 10000
     },
     "inputWidgets": {},
     "nuid": "dc6478e4-5eea-42ba-9a80-60cd53919e0f",
     "showTitle": false,
     "tableResultSettingsMap": {},
     "title": ""
    }
   },
   "outputs": [
    {
     "name": "stdout",
     "output_type": "stream",
     "text": [
      "root\n",
      " |-- _id: string (nullable = true)\n",
      " |-- _fivetran_synced: timestamp (nullable = true)\n",
      " |-- data: string (nullable = true)\n",
      " |-- _fivetran_deleted: boolean (nullable = true)\n",
      " |-- json: struct (nullable = true)\n",
      " |    |-- contentDetails: struct (nullable = true)\n",
      " |    |    |-- caption: string (nullable = true)\n",
      " |    |    |-- definition: string (nullable = true)\n",
      " |    |    |-- dimension: string (nullable = true)\n",
      " |    |    |-- duration: string (nullable = true)\n",
      " |    |    |-- licensedContent: boolean (nullable = true)\n",
      " |    |    |-- projection: string (nullable = true)\n",
      " |    |    |-- regionRestriction: struct (nullable = true)\n",
      " |    |    |    |-- allowed: array (nullable = true)\n",
      " |    |    |    |    |-- element: string (containsNull = true)\n",
      " |    |-- etag: string (nullable = true)\n",
      " |    |-- id: string (nullable = true)\n",
      " |    |-- kind: string (nullable = true)\n",
      " |    |-- snippet: struct (nullable = true)\n",
      " |    |    |-- categoryId: string (nullable = true)\n",
      " |    |    |-- channelId: string (nullable = true)\n",
      " |    |    |-- channelTitle: string (nullable = true)\n",
      " |    |    |-- defaultAudioLanguage: string (nullable = true)\n",
      " |    |    |-- defaultLanguage: string (nullable = true)\n",
      " |    |    |-- description: string (nullable = true)\n",
      " |    |    |-- liveBroadcastContent: string (nullable = true)\n",
      " |    |    |-- localized: struct (nullable = true)\n",
      " |    |    |    |-- description: string (nullable = true)\n",
      " |    |    |    |-- title: string (nullable = true)\n",
      " |    |    |-- publishedAt: string (nullable = true)\n",
      " |    |    |-- tags: array (nullable = true)\n",
      " |    |    |    |-- element: string (containsNull = true)\n",
      " |    |    |-- thumbnails: struct (nullable = true)\n",
      " |    |    |    |-- default: struct (nullable = true)\n",
      " |    |    |    |    |-- height: long (nullable = true)\n",
      " |    |    |    |    |-- url: string (nullable = true)\n",
      " |    |    |    |    |-- width: long (nullable = true)\n",
      " |    |    |    |-- high: struct (nullable = true)\n",
      " |    |    |    |    |-- height: long (nullable = true)\n",
      " |    |    |    |    |-- url: string (nullable = true)\n",
      " |    |    |    |    |-- width: long (nullable = true)\n",
      " |    |    |    |-- maxres: struct (nullable = true)\n",
      " |    |    |    |    |-- height: long (nullable = true)\n",
      " |    |    |    |    |-- url: string (nullable = true)\n",
      " |    |    |    |    |-- width: long (nullable = true)\n",
      " |    |    |    |-- medium: struct (nullable = true)\n",
      " |    |    |    |    |-- height: long (nullable = true)\n",
      " |    |    |    |    |-- url: string (nullable = true)\n",
      " |    |    |    |    |-- width: long (nullable = true)\n",
      " |    |    |    |-- standard: struct (nullable = true)\n",
      " |    |    |    |    |-- height: long (nullable = true)\n",
      " |    |    |    |    |-- url: string (nullable = true)\n",
      " |    |    |    |    |-- width: long (nullable = true)\n",
      " |    |    |-- title: string (nullable = true)\n",
      " |    |-- statistics: struct (nullable = true)\n",
      " |    |    |-- commentCount: string (nullable = true)\n",
      " |    |    |-- favoriteCount: string (nullable = true)\n",
      " |    |    |-- likeCount: string (nullable = true)\n",
      " |    |    |-- viewCount: string (nullable = true)\n",
      "\n"
     ]
    }
   ],
   "source": [
    "from pyspark.sql.functions import from_json, col\n",
    "\n",
    "# Parse JSON string into struct\n",
    "parsed_df = df.withColumn(\"json\", from_json(col(\"data\"), schema))\n",
    "\n",
    "parsed_df.printSchema()\n"
   ]
  },
  {
   "cell_type": "code",
   "execution_count": 0,
   "metadata": {
    "application/vnd.databricks.v1+cell": {
     "cellMetadata": {
      "byteLimit": 2048000,
      "rowLimit": 10000
     },
     "inputWidgets": {},
     "nuid": "a370ff02-9ee4-4863-bf96-0cb93cd33ccb",
     "showTitle": false,
     "tableResultSettingsMap": {},
     "title": ""
    }
   },
   "outputs": [
    {
     "name": "stdout",
     "output_type": "stream",
     "text": [
      "+-----------+--------------------+------------------------+-------------------------------------------+---------------------------------------------------------------------------------------------------+------------------------------------------------------------------------------------------------------------------------------------------------------------------------------------------------------------------------------------------------------------------------------------------------------------------------------------------------------------------------------------------------------------------------------------------------------------------------------------------------------------------------------------------------------------------------------------------------------------------------------------------------------------------------------------------------------------------------------------------------------------------------------------------------------------------------------------------------------------------------------------------------------------------------------------------------------------------------------------------------------------------------------------------------------------------------------------------------------------------------------------------------------------------------------------------------------------------------------------------------------------------------------------------------------------------------------------------------------------------------------------------------------------------------------------------------------------------------------------------------------------------------------------------------------------------------------------------------------------------------------------------------------------------------------------------------------------------------------------------------------------------------------------------------------------------------------------------------------------------------------------------------------------------------------------------------------------------------------------------------------------------------------------------------------------------------------------------------------------------------------------------------------------------------------------------------------------------------------------------------------------------------------------------------------------------------------------------------------------------------------------------------------------------------------------------------------------------------------------------------------------------------------------------------------------------------------------------------------------------------------------------------------------------------------------------------------------------------------------------------------------------------------------------------------------------------------------------------------------------------------------------------------------------------------------------------------------------------------------------------------------------------------------------------------------------------------------------------------------------------------------------------------------------------------------------------------------------------------------------------------------------------------------------------------------------------------------------------------------------------------------------------------------------------------------------------------------------------------------------------------------------------------------------------------------------------------------------------------------------------------------------------------------------------------------------------------------------------------------------------------------------------------------------------------------------------------------------------------------------------------------------------------------------------------------------------------------------------------------------------------------------------------------------------------------------------------------------------------------------------------------------------------------------------------------------------------------------------------------------------------------------------------------------------------------------------------------------------------------------------------------------------------------------------------------------------------------------------------------------------------------------------------------------------------------------------------------------------------------------------------------------------------------------------------------------------------------------------------------------------------------------------------------------------------------------------------------------------------------------------------------------------------------------------------------------------------------------------------+----------+-------------------------------------------------------------------------------------------------------------------------------------------------------------------------------------------------------------------------------------------------------------------------------------------------------------------------------------------------------------------------------------------------------------------------------------------------------------------------------------------------------+---------------+--------------------+---------+---------+------------+----------+-------+\n",
      "|id         |publishedAt         |channelId               |channelTitle                               |title                                                                                              |description                                                                                                                                                                                                                                                                                                                                                                                                                                                                                                                                                                                                                                                                                                                                                                                                                                                                                                                                                                                                                                                                                                                                                                                                                                                                                                                                                                                                                                                                                                                                                                                                                                                                                                                                                                                                                                                                                                                                                                                                                                                                                                                                                                                                                                                                                                                                                                                                                                                                                                                                                                                                                                                                                                                                                                                                                                                                                                                                                                                                                                                                                                                                                                                                                                                                                                                                                                                                                                                                                                                                                                                                                                                                                                                                                                                                                                                                                                                                                                                                                                                                                                                                                                                                                                                                                                                                                                                                                                                                                                                                                                                                                                                                                                                                                                                                                                                                                                                                                                   |categoryId|tags                                                                                                                                                                                                                                                                                                                                                                                                                                                                                                   |defaultLanguage|defaultAudioLanguage|viewCount|likeCount|commentCount|duration  |caption|\n",
      "+-----------+--------------------+------------------------+-------------------------------------------+---------------------------------------------------------------------------------------------------+------------------------------------------------------------------------------------------------------------------------------------------------------------------------------------------------------------------------------------------------------------------------------------------------------------------------------------------------------------------------------------------------------------------------------------------------------------------------------------------------------------------------------------------------------------------------------------------------------------------------------------------------------------------------------------------------------------------------------------------------------------------------------------------------------------------------------------------------------------------------------------------------------------------------------------------------------------------------------------------------------------------------------------------------------------------------------------------------------------------------------------------------------------------------------------------------------------------------------------------------------------------------------------------------------------------------------------------------------------------------------------------------------------------------------------------------------------------------------------------------------------------------------------------------------------------------------------------------------------------------------------------------------------------------------------------------------------------------------------------------------------------------------------------------------------------------------------------------------------------------------------------------------------------------------------------------------------------------------------------------------------------------------------------------------------------------------------------------------------------------------------------------------------------------------------------------------------------------------------------------------------------------------------------------------------------------------------------------------------------------------------------------------------------------------------------------------------------------------------------------------------------------------------------------------------------------------------------------------------------------------------------------------------------------------------------------------------------------------------------------------------------------------------------------------------------------------------------------------------------------------------------------------------------------------------------------------------------------------------------------------------------------------------------------------------------------------------------------------------------------------------------------------------------------------------------------------------------------------------------------------------------------------------------------------------------------------------------------------------------------------------------------------------------------------------------------------------------------------------------------------------------------------------------------------------------------------------------------------------------------------------------------------------------------------------------------------------------------------------------------------------------------------------------------------------------------------------------------------------------------------------------------------------------------------------------------------------------------------------------------------------------------------------------------------------------------------------------------------------------------------------------------------------------------------------------------------------------------------------------------------------------------------------------------------------------------------------------------------------------------------------------------------------------------------------------------------------------------------------------------------------------------------------------------------------------------------------------------------------------------------------------------------------------------------------------------------------------------------------------------------------------------------------------------------------------------------------------------------------------------------------------------------------------------------------------------------------------------------+----------+-------------------------------------------------------------------------------------------------------------------------------------------------------------------------------------------------------------------------------------------------------------------------------------------------------------------------------------------------------------------------------------------------------------------------------------------------------------------------------------------------------+---------------+--------------------+---------+---------+------------+----------+-------+\n",
      "|ikasQ17KRiA|2025-08-08T06:30:31Z|UC4zWG9LccdWGUlF77LZ8toA|Prime Video India                          |Andhera Season 1 - Official Trailer | Prajakta Koli, Surveen Chawla, Priya Bapat, Karanvir Malhotra|Prime Video India Presents\\nAndhera Season 1 Official Trailer\\nStarring Priya Bapat, Karanvir Malhotra, Prajakta Koli, Surveen Chawla, Vatsal Sheth, Parvin Dabas, Pranay Pachauri\\nDirected by Raaghav Dar\\nWritten by Gaurav Desai, Raaghav Dar, Karan Anshuman, Chintan\\nSarda, Akshat Ghildial, Karmanya Ahuja\\nCreated by Gaurav Desai\\nExecutive Producers: Ritesh Sidhwani, Farhan Akhtar, Kassim\\nJagmagia, Mohit Shah, Karan Anshuman\\nAssociate Producer: Vishal Ramchandani\\nProduction Company: Excel Media and Entertainment LLP\\n\\nOfficial Release Date Aug 14 2025, on Prime Video India.\\n\\nAbout:\\nIn the shadow of Mumbai&#39;s shimmering skyline, a sinister force\\nhunts the living. In this visceral tale of urban horror, a fearless cop\\nand a haunted medical student must take on this living darkness\\nto avert impending doom.\\n\\nFollow us on:\\nInstagram: https://www.instagram.com/primevideoin/\\nFacebook: https://www.facebook.com/PrimeVideoIN/\\nX: https://x.com/PrimeVideoIN\\n\\nABOUT PRIME VIDEO\\nPrime Video is a one-stop entertainment destination offering customers a vast collection of premium programming in one application available across several devices. On Prime Video, customers can find their favourite Indian and international original series, movies, TV shows, and more, across multiple languages – including Indian-produced Original series like Mirzapur, Farzi, Panchayat, The Family Man, Dhootha, Jubilee, Dahaad, Made in Heaven, Suzhal – The Vortex, Inspector Rishi, Poacher, Indian Police Force, Paatal Lok, Rainbow Rishta, Wedding.con; Original movies like Maja Ma, Ammu, Mast Mein Rehne Ka; popular global Originals like Citadel, The Lord of The Rings: The Rings of Power, Fallout, Reacher, The Boys, The Wheel of Time, Road House, The Idea of You; some of the biggest post-theatrical films; direct-to-service films such as Shershaah, Soorarai Pottru, Sardar Udham, Bawaal, Gehraiyaan, Jai Bhim, Jalsa, Sherni, Narappa, Sarpatta Parambarai, Kuruthi, Joji, Malik, Pippa, HOME, Sharmajee Ki Beti, and many more of such titles. Additionally, Prime Video’s video entertainment marketplace, offers customers programming from partners such as Lionsgate Play, Discovery+ Crunchyroll, BBC Player, Sony Pictures – Stream, MGM+, FanCode, Chaupal, Manorama Max, Eros Now, Hoichoi, Anime Times, to name a few, via Prime Video add-on-subscriptions, as well as the option to rent movies, regardless of whether customers have a Prime membership or not. Customers can also go behind the scenes of their favorite movies and series with exclusive X-Ray access. Prime Video is one benefit among many that provides savings, convenience, and entertainment as part of the Prime membership. For more info visit www.amazon.com/primevideo.\\n\\n#Andhera #primevideoindia #officialtrailer #prajaktakoli #andheraonprime\\n#priyabapat #surveenchawla #karanvirmalhotra #amazonprime                                                                                                                                                                                                                                                                                                                                                                                                                                                                                                                                                                                                                                                                                                                                                                                                                                                                                                                                                                                                                                                                                                                                                                                                                                                                                                                                                                                                                                                                                                                                                                                                                                                                                                                                                                                                                                                                                                                                                                                        |24        |[andhera, andhera trailer, andhera official trailer, andhera 2025, andhera movie, andhera series, andhera web series, andhera first look, andhera prime video, andhera ott release, andhera amazon prime, prajakta koli, prajakta koli fans, prajakta koli book, prajakta koli movies, prajakta koli videos, prajakta koli skincare, prajakta koli new video, prajakta kohli, prime video, prime video india, amazon prime, mostly sane, horror series, horror web series, horror, movie, series]      |NULL           |en                  |2932388  |9640     |525         |PT2M21S   |true   |\n",
      "|cHd-vTYZ87A|2025-08-06T11:27:27Z|UCmse5JbKneJqVyerfhDVYvQ|UV Creations                               |GHAATI Trailer (Telugu) | Anushka Shetty | Vikram Prabhu | Krish Jagarlamudi | UV Creations        |GHAATI Trailer (Telugu) on UV Creations.\\n\\n#GHAATI is an Upcoming Latest 2025 Movie Starring Anushka Shetty, Vikram Prabhu and others. Written & Directed by Krish Jagarlamudi. Music by Sagar Nagavelli. Produced by Rajeev Reddy and Sai Babu Jagarlamudi under First Frame Entertainments.\\n\\nIn Cinemas Worldwide from September 5th, 2025.\\n\\nIn Telugu, Tamil, Hindi, Kannada and Malayalam.\\n\\n#GhaatiTrailerTelugu #GhaatiTrailer #AnushkaShetty #VikramPrabhu #KrishJagarlamudi #NagavelliVidyaSagar #RajeevReddy #SaiBabuJagarlamudi #UVCreations #FirstFrameEntertainments #LatestTeluguTrailers2025 #LatestTeluguMovies2025\\n\\nCast: 'The Queen' Anushka Shetty, Vikram Prabhu & Others\\n\\nTechnical Crew:\\nWritten & Directed by: Krish Jagarlamudi\\nProduced by: Rajeev Reddy, Sai Babu Jagarlamudi\\nPresents: UV Creations\\nBanner: First Frame Entertainment\\nDirector of Photography: Manojh Reddy Katasani\\nMusic Director: Sagar Nagavelli  \\nArt Director: Thota Tharrani\\nStory: Chintakindi Srinivas Rao\\nDialogues: Sai Madhav Burra\\nAdditional Screenplay: D S Kannan, Ramana Salwa\\nLyrics: E S Murthy, Krish Jagarlamudi\\nEditor: Venkata Swamy Nakka, Chanakya Reddy Toorupu\\nAction: Ram Krishan\\nChoreographer: Raju Sundaram\\nCostumes: Aishwarya Rajeev\\nExecutive Producer: Suhasini Panguluri\\nSound Design: Sreesan G\\nSound Mix: Tapas Nayak \\nVFX Executive Producer: Ujwal\\nVFX Supervisor: Raghav Tammareddy, Bhavani Vara Prasad. CH\\nColorist: Vishnu Vardhan K\\nTrailer Cut: M. Sandeep, Nikhil Nadella\\nPublicity Designs: Anil & Bhanu\\nPRO: Vamsi-Shekar\\nMarketing: First Show\\nCo-Director: Seshu Kumar. M\\nChief Associate Director: Ramana Jagarlamudi(RJ)\\nAssociate Directors: Satyadev Jayanthi, Thanmayee Adi, Dedeep Ganapathineedi, Ranadheer Siddavaram, Navya Nagesh\\nAssistant Directors:  R Venkata Rahul, Seeta Madhur, Prathyusha Bandari, Madhav Pakki\\n\\nAudio Label: Aditya Music\\n\\nClick Here To Watch:  \\n\\nGHAATI Glimpse: https://youtu.be/W5FkYULk3Ls\\n\\nVT15 Shoot Begins: https://youtu.be/x2LODVjyec0\\n\\nVISHWAMBHARA Official Teaser : https://youtu.be/NCv-wz1nSnE\\n\\nCouple Friendly - Santosh Sobhan Birthday Glimpse - https://youtu.be/-uBqVFbXCxY\\n\\nMaa Nanna Super Hero Trailer : https://www.youtube.com/watch?v=uGV5i7YoprE\\n\\nBhaje Vaayu Vegam Trailer : https://youtu.be/q0kQT1HKiNE\\n\\nFollow For More Updates About UV Creations:\\n\\nLike: https://www.facebook.com/UVCTheMovieMakers\\nFollow: https://www.instagram.com/uvcreationsofficial  \\nFollow: https://twitter.com/UV_Creations\\nSubscribe: ht\n",
      "\n",
      "*** WARNING: max output size exceeded, skipping output. ***\n",
      "\n",
      "                                                                                                                                                                                                                                                                                                                                                                                                                                                                                                                                                                                                                                                                                                                                                                                                                                                                                                                                                                                                                                                                                                                                                                                                                                                                                                                                                                                                                                                                                                                                                                                                                                                                                                                                                                                                                                                                                                                                                                                                                                                                                                                                                                     |22        |[funny 3d animals, long slide game, animals cage game, funny animals, funny animal videos, animals game, animals games, animal game, cartoon animal games, animal games, 3d animals, animal names and sounds for kids, animals 3d, wild animals, long slide, learn animal names, animals for kids, farm animals, cartoon animals, animals, zoo animals, cute animals, hippopotamus, mammoth elephant, animal fight, animal fights, animal cartoon, animal crossing]                                    |NULL           |NULL                |1880896  |40057    |1066        |PT6M13S   |false  |\n",
      "|BjpBMiwGNAc|2025-08-09T04:33:03Z|UC3KAE02WDbs_nTVtO0qYIcQ|Kumar Gaming                               |Choo Choo Charles LIVE | Kumar Gaming                                                              |🚂 Choo Choo Charles is back and more dangerous than ever!\\nAaj ki live stream mein hum phir se jungle ke andheron mein ghus rahe hain jahan har kone mein maut chhupi hai. Maine kalma padha... lekin Charles ne chhodna nahi chaha 😱\\n🔥 Kya main bacha paunga? Aao aur LIVE dekho iss horror fight ko!\\n\\n📍 Game: Choo Choo Charles\\n📍 Genre: Horror, Survival\\n📍 Platform: PC\\n\\n❤️ Thanks for 250K Subscribers! Aap sab ka support bina ye possible nahi hota 🙏\\n📢 Like karo, Share karo aur Subscribe zarur karo!\\n\\n📅 Daily Streams\\n\\n📲 Follow Me for Updates:\\n📸 Instagram – \\n🐦 Twitter – \\n🎮 Discord – Join Soon!\\n#ChooChooCharles #KumarGaming #HindiHorrorLive #SpiderTrain #LiveGaming #IndianGamer                                                                                                                                                                                                                                                                                                                                                                                                                                                                                                                                                                                                                                                                                                                                                                                                                                                                                                                                                                                                                                                                                                                                                                                                                                                                                                                                                                                                                                                                                                                                                                                                                                                                                                                                                                                                                                                                                                                                                                                                                                                                                                                                                                                                                                                                                                                                                                                                                                                                                                                                                                                                                                                                                                                                                                                                                                                                                                                                                                                                                                                                                                                                                                                                                                                                                                                                                                                                                                                                                                                                                                                                                                                                                                                                                                                                                                                                                                                                                                                                                                                                                                                                                                                                                                                 |20        |NULL                                                                                                                                                                                                                                                                                                                                                                                                                                                                                                   |NULL           |hi-Latn             |1202528  |4165     |NULL        |PT2H18M16S|false  |\n",
      "|uGDahzWCuUM|2025-08-09T09:02:31Z|UCintIUOJEktQBfhEI9XXpuw|Telugu Filmnagar                           |SSMB29 Pre Reveal Teaser | Fan Made | Globe Trotter | Superstar Mahesh Babu | SS Rajamouli | TFN   |SSMB29 / Globe Trotter Pre Reveal Teaser Fan Made on Telugu FilmNagar. #SSMB29 Starring Superstar Mahesh Babu, Priyanka Chopra Jonas and Prithviraj Sukumaran. Directed by SS Rajamouli. Produced by KL Narayana under the banner Durga Arts. Music by MM Keeravani. #Maheshbabu #SSRajamouli #PriyankaChopra #PrithvirajSukumaran #TeluguFilmnagar\\n\\nSSMB29 Globe Trotter First Reveal will be out in Nov, 2025.\\n\\nWishing Superstar Mahesh Babu a very Happy 50th Birthday.\\n\\nClick here to watch:\\n\\n2025 & 2024 Latest Blockbuster Full Movies: https://bit.ly/3G5ajgF\\n\\nBest Telugu Romantic Full Movies 2025 & 2024: https://bit.ly/3MLNO48\\n\\nLatest Telugu Movie Teasers & Trailers 2025 & 2024: https://bit.ly/3Rih9DS\\n\\nLatest Amazon Prime Movie Scenes 2025 & 2024: https://bit.ly/3oDKr3G\\n\\nSouth Indian Movies Dubbed in Hindi 2025 & 2024: https://bit.ly/3ylZ67k\\n\\nBest Telugu Movie Comedy Scenes 2025 & 2024: https://bit.ly/3ypm2Cq\\n\\nTelugu FilmNagar is South India's #1 YouTube Channel and your final stop for BEST IN CLASS content from TELUGU FILM INDUSTRY. \\n\\nFor more updates on Latest Telugu Movies:\\nLike - https://www.facebook.com/Telugufilmnagar\\nSubscribe - https://www.youtube.com/Telugufilmnagar\\nFollow - https://www.twitter.com/Telugufilmnagar\\nFollow - https://www.instagram.com/Telugufilmnagar                                                                                                                                                                                                                                                                                                                                                                                                                                                                                                                                                                                                                                                                                                                                                                                                                                                                                                                                                                                                                                                                                                                                                                                                                                                                                                                                                                                                                                                                                                                                                                                                                                                                                                                                                                                                                                                                                                                                                                                                                                                                                                                                                                                                                                                                                                                                                                                                                                                                                                                                                                                                                                                                                                                                                                                                                                                                                                                                                                                                                                                                                                                                                                                                                                                                                                                                                                                                                                                                                                                                                                                                                      |24        |[SSMB29 Pre Reveals Teaser, Globe Trotter, Superstar Mahesh Babu, SS Rajamouli, Fan Made, Telugu FilmNagar, SSMB29, SSMB28 Trailer, SSMB29 Teaser, ssmb29 first look, ssmb29 first reveal, ssmb29 motion poster, mahesh babu new movie, mahesh babu ss rajamouli movie, mahesh babu ss rajamouli trailer, ss rajamouli new movie, priyanka chopra, prithviraj sukumaran, globe trotter movie, mahesh babu globe trotter, 2025 telugu movies, telugu new movies 2025, latest telugu movies 2025]        |en             |te                  |90816    |2819     |40          |PT47S     |false  |\n",
      "|zeGb3MBZY6Y|2025-08-08T04:40:25Z|UCMYdKnXOPibmQ0K-pf9iqvQ|Five Star Creations                        |Bullet  – Teaser | Raghava Lawrence | Elviin | Innasi Pandiyan | Kathiresan | Sam CS               |Presenting the official teaser of \"Bullet\" starring Raghava Lawrence, Elviin and others. Directed by Innasi Pandiyan. Music Composed by Sam CS. Produced by Kathiresan\\n\\nMovie Credits: \\nStarring: Raghava Lawrence, Elviin, Sunil, Vaishali, Singampuli and others\\nWritten & Directed by: Innasi Pandiyan \\nBanner: Five Star Creations\\nProduced by : Kathiresan\\nMusic: SAM CS\\nDOP: Aravinnd Singh\\nEditor: Vadivel Vimal Raj\\nAction Director: Phantom Pradeep\\nArt Director: Raju P\\nDialogue Writers: Gnanakaravel & Innasi Pandiyan\\nLyrics: Gnanakaravel & SAM CS\\nChief Co Directors: Mohan Kumar & Ananth Balusamy\\nCo Directors: Varun Mogli & Vignesh Rajendran\\nChoreography: Sridhar\\nCostume Designer: Sher Ali\\nAudiography:  Jaison Jose & Daniel Jefferson\\nSound Design: Venkat\\nStills: Ameer\\nColorist: Shanmuga Pandiyan\\nVFX Supervisor: Monesh H\\nProduction Coordinator: Karthik Ramasamy\\nDI: Infinity Media\\nMakeup: Vinoth Sukumaran\\nCostumes: Murugan\\nProduction Executive: Nagarajan\\nProduction Managers: Jayakumar, Anandaraj, Jegan & Vamsi\\nPRO: Nikil Murukan\\nPublicity Designs: Prathool NT\\nLabel: H Music India\\nAudio on “H Music”\\n© 2025 H Music\\n\\nFor All Updates:\\nConnect with us on,\\nTwitter - https://twitter.com/5starcreationss \\nInstagram - https://www.instagram.com/5starcreationss/\\nYoutube - https://www.youtube.com/c/FiveStarCreationsLLP\\nFacebook - https://www.facebook.com/5starcreationss  \\nWebsite - https://fivestarcreations.in/                                                                                                                                                                                                                                                                                                                                                                                                                                                                                                                                                                                                                                                                                                                                                                                                                                                                                                                                                                                                                                                                                                                                                                                                                                                                                                                                                                                                                                                                                                                                                                                                                                                                                                                                                                                                                                                                                                                                                                                                                                                                                                                                                                                                                                                                                                                                                                                                                                                                                                                                                                                                                                                                                                                                                                                                                                                                                                                                                                                                                                                                                                                                                                                                                                                                                                                                                                                                                                                                   |1         |[#FiveStarCreations, #HMusic, BullletTheMovie, #RaghavaLawrence]                                                                                                                                                                                                                                                                                                                                                                                                                                       |en-IN          |ta                  |2070010  |64098    |1260        |PT1M52S   |true   |\n",
      "+-----------+--------------------+------------------------+-------------------------------------------+---------------------------------------------------------------------------------------------------+------------------------------------------------------------------------------------------------------------------------------------------------------------------------------------------------------------------------------------------------------------------------------------------------------------------------------------------------------------------------------------------------------------------------------------------------------------------------------------------------------------------------------------------------------------------------------------------------------------------------------------------------------------------------------------------------------------------------------------------------------------------------------------------------------------------------------------------------------------------------------------------------------------------------------------------------------------------------------------------------------------------------------------------------------------------------------------------------------------------------------------------------------------------------------------------------------------------------------------------------------------------------------------------------------------------------------------------------------------------------------------------------------------------------------------------------------------------------------------------------------------------------------------------------------------------------------------------------------------------------------------------------------------------------------------------------------------------------------------------------------------------------------------------------------------------------------------------------------------------------------------------------------------------------------------------------------------------------------------------------------------------------------------------------------------------------------------------------------------------------------------------------------------------------------------------------------------------------------------------------------------------------------------------------------------------------------------------------------------------------------------------------------------------------------------------------------------------------------------------------------------------------------------------------------------------------------------------------------------------------------------------------------------------------------------------------------------------------------------------------------------------------------------------------------------------------------------------------------------------------------------------------------------------------------------------------------------------------------------------------------------------------------------------------------------------------------------------------------------------------------------------------------------------------------------------------------------------------------------------------------------------------------------------------------------------------------------------------------------------------------------------------------------------------------------------------------------------------------------------------------------------------------------------------------------------------------------------------------------------------------------------------------------------------------------------------------------------------------------------------------------------------------------------------------------------------------------------------------------------------------------------------------------------------------------------------------------------------------------------------------------------------------------------------------------------------------------------------------------------------------------------------------------------------------------------------------------------------------------------------------------------------------------------------------------------------------------------------------------------------------------------------------------------------------------------------------------------------------------------------------------------------------------------------------------------------------------------------------------------------------------------------------------------------------------------------------------------------------------------------------------------------------------------------------------------------------------------------------------------------------------------------------------------------------------------------------------------------------+----------+-------------------------------------------------------------------------------------------------------------------------------------------------------------------------------------------------------------------------------------------------------------------------------------------------------------------------------------------------------------------------------------------------------------------------------------------------------------------------------------------------------+---------------+--------------------+---------+---------+------------+----------+-------+\n",
      "only showing top 20 rows\n"
     ]
    }
   ],
   "source": [
    "from pyspark.sql.functions import col\n",
    "\n",
    "# Select required fields\n",
    "selected_df = parsed_df.select(\n",
    "    col(\"json.id\").alias(\"id\"),\n",
    "    col(\"json.snippet.publishedAt\").alias(\"publishedAt\"),\n",
    "    col(\"json.snippet.channelId\").alias(\"channelId\"),\n",
    "    col(\"json.snippet.channelTitle\").alias(\"channelTitle\"),\n",
    "    col(\"json.snippet.title\").alias(\"title\"),\n",
    "    col(\"json.snippet.description\").alias(\"description\"),\n",
    "    col(\"json.snippet.categoryId\").alias(\"categoryId\"),\n",
    "    col(\"json.snippet.tags\").alias(\"tags\"),\n",
    "    col(\"json.snippet.defaultLanguage\").alias(\"defaultLanguage\"),\n",
    "    col(\"json.snippet.defaultAudioLanguage\").alias(\"defaultAudioLanguage\"),\n",
    "    col(\"json.statistics.viewCount\").alias(\"viewCount\"),\n",
    "    col(\"json.statistics.likeCount\").alias(\"likeCount\"),\n",
    "    col(\"json.statistics.commentCount\").alias(\"commentCount\"),\n",
    "    col(\"json.contentDetails.duration\").alias(\"duration\"),\n",
    "    col(\"json.contentDetails.caption\").alias(\"caption\")\n",
    ")\n",
    "\n",
    "selected_df.show(truncate=False)\n"
   ]
  },
  {
   "cell_type": "code",
   "execution_count": 0,
   "metadata": {
    "application/vnd.databricks.v1+cell": {
     "cellMetadata": {
      "byteLimit": 2048000,
      "rowLimit": 10000
     },
     "inputWidgets": {},
     "nuid": "1d89dcb7-6e0f-49db-b3ab-78e61fcc49bc",
     "showTitle": false,
     "tableResultSettingsMap": {},
     "title": ""
    }
   },
   "outputs": [
    {
     "name": "stdout",
     "output_type": "stream",
     "text": [
      "root\n",
      " |-- id: string (nullable = true)\n",
      " |-- publishedAt: string (nullable = true)\n",
      " |-- channelId: string (nullable = true)\n",
      " |-- channelTitle: string (nullable = true)\n",
      " |-- title: string (nullable = true)\n",
      " |-- description: string (nullable = true)\n",
      " |-- categoryId: string (nullable = true)\n",
      " |-- tags: array (nullable = true)\n",
      " |    |-- element: string (containsNull = true)\n",
      " |-- defaultLanguage: string (nullable = true)\n",
      " |-- defaultAudioLanguage: string (nullable = true)\n",
      " |-- viewCount: string (nullable = true)\n",
      " |-- likeCount: string (nullable = true)\n",
      " |-- commentCount: string (nullable = true)\n",
      " |-- duration: string (nullable = true)\n",
      " |-- caption: string (nullable = true)\n",
      "\n"
     ]
    }
   ],
   "source": [
    "selected_df.printSchema()"
   ]
  },
  {
   "cell_type": "code",
   "execution_count": 0,
   "metadata": {
    "application/vnd.databricks.v1+cell": {
     "cellMetadata": {
      "byteLimit": 2048000,
      "rowLimit": 10000
     },
     "inputWidgets": {},
     "nuid": "8e6e93ea-a670-462b-a9a3-a531b9a1d8cc",
     "showTitle": false,
     "tableResultSettingsMap": {},
     "title": ""
    }
   },
   "outputs": [],
   "source": [
    "from pyspark.sql.functions import col, when\n",
    "\n",
    "casted_df = selected_df.withColumn(\"viewCount\", when(col(\"viewCount\") != \"\", col(\"viewCount\").cast(\"int\")).otherwise(None)) \\\n",
    "                       .withColumn(\"likeCount\", when(col(\"likeCount\") != \"\", col(\"likeCount\").cast(\"int\")).otherwise(None)) \\\n",
    "                       .withColumn(\"commentCount\", when(col(\"commentCount\") != \"\", col(\"commentCount\").cast(\"int\")).otherwise(None))\n",
    "\n"
   ]
  },
  {
   "cell_type": "code",
   "execution_count": 0,
   "metadata": {
    "application/vnd.databricks.v1+cell": {
     "cellMetadata": {
      "byteLimit": 2048000,
      "rowLimit": 10000
     },
     "inputWidgets": {},
     "nuid": "997eb25c-60ad-4b36-a77e-48c84776b109",
     "showTitle": false,
     "tableResultSettingsMap": {},
     "title": ""
    }
   },
   "outputs": [
    {
     "name": "stdout",
     "output_type": "stream",
     "text": [
      "root\n",
      " |-- id: string (nullable = true)\n",
      " |-- publishedAt: string (nullable = true)\n",
      " |-- channelId: string (nullable = true)\n",
      " |-- channelTitle: string (nullable = true)\n",
      " |-- title: string (nullable = true)\n",
      " |-- description: string (nullable = true)\n",
      " |-- categoryId: string (nullable = true)\n",
      " |-- tags: array (nullable = true)\n",
      " |    |-- element: string (containsNull = true)\n",
      " |-- defaultLanguage: string (nullable = true)\n",
      " |-- defaultAudioLanguage: string (nullable = true)\n",
      " |-- viewCount: integer (nullable = true)\n",
      " |-- likeCount: integer (nullable = true)\n",
      " |-- commentCount: integer (nullable = true)\n",
      " |-- duration: string (nullable = true)\n",
      " |-- caption: string (nullable = true)\n",
      "\n"
     ]
    }
   ],
   "source": [
    "casted_df.printSchema()"
   ]
  },
  {
   "cell_type": "code",
   "execution_count": 0,
   "metadata": {
    "application/vnd.databricks.v1+cell": {
     "cellMetadata": {
      "byteLimit": 2048000,
      "rowLimit": 10000
     },
     "inputWidgets": {},
     "nuid": "ccc1a3bc-c7b4-4d5a-990c-5b1f7a8ee121",
     "showTitle": false,
     "tableResultSettingsMap": {},
     "title": ""
    }
   },
   "outputs": [
    {
     "name": "stdout",
     "output_type": "stream",
     "text": [
      "-RECORD 0----------------------------------------------------------------------------------------------------------------------------------------------------------------------------------------------------------------------------------------------------------------------------------------------------------------------------------------------------------------------------------------------------------------------------------------------------------------------------------------------------------------------------------------------------------------------------------------------------------------------------------------------------------------------------------------------------------------------------------------------------------------------------------------------------------------------------------------------------------------------------------------------------------------------------------------------------------------------------------------------------------------------------------------------------------------------------------------------------------------------------------------------------------------------------------------------------------------------------------------------------------------------------------------------------------------------------------------------------------------------------------------------------------------------------------------------------------------------------------------------------------------------------------------------------------------------------------------------------------------------------------------------------------------------------------------------------------------------------------------------------------------------------------------------------------------------------------------------------------------------------------------------------------------------------------------------------------------------------------------------------------------------------------------------------------------------------------------------------------------------------------------------------------------------------------------------------------------------------------------------------------------------------------------------------------------------------------------------------------------------------------------------------------------------------------------------------------------------------------------------------------------------------------------------------------------------------------------------------------------------------------------------------------------------------------------------------------------------------------------------------------------------------------------------------------------------------------------------------------------------------------------------------------------------------------------------------------------------------------------------\n",
      " viewCount    | 2932388                                                                                                                                                                                                                                                                                                                                                                                                                                                                                                                                                                                                                                                                                                                                                                                                                                                                                                                                                                                                                                                                                                                                                                                                                                                                                                                                                                                                                                                                                                                                                                                                                                                                                                                                                                                                                                                                                                                                                                                                                                                                                                                                                                                                                                                                                                                                                                                                                                                                                                                                                                                                                                                                                                                                                                                                                                                                                                                                                                                \n",
      " likeCount    | 9640                                                                                                                                                                                                                                                                                                                                                                                                                                                                                                                                                                                                                                                                                                                                                                                                                                                                                                                                                                                                                                                                                                                                                                                                                                                                                                                                                                                                                                                                                                                                                                                                                                                                                                                                                                                                                                                                                                                                                                                                                                                                                                                                                                                                                                                                                                                                                                                                                                                                                                                                                                                                                                                                                                                                                                                                                                                                                                                                                                                   \n",
      " commentCount | 525                                                                                                                                                                                                                                                                                                                                                                                                                                                                                                                                                                                                                                                                                                                                                                                                                                                                                                                                                                                                                                                                                                                                                                                                                                                                                                                                                                                                                                                                                                                                                                                                                                                                                                                                                                                                                                                                                                                                                                                                                                                                                                                                                                                                                                                                                                                                                                                                                                                                                                                                                                                                                                                                                                                                                                                                                                                                                                                                                                                    \n",
      " duration     | PT2M21S                                                                                                                                                                                                                                                                                                                                                                                                                                                                                                                                                                                                                                                                                                                                                                                                                                                                                                                                                                                                                                                                                                                                                                                                                                                                                                                                                                                                                                                                                                                                                                                                                                                                                                                                                                                                                                                                                                                                                                                                                                                                                                                                                                                                                                                                                                                                                                                                                                                                                                                                                                                                                                                                                                                                                                                                                                                                                                                                                                                \n",
      " publishedAt  | 2025-08-08T06:30:31Z                                                                                                                                                                                                                                                                                                                                                                                                                                                                                                                                                                                                                                                                                                                                                                                                                                                                                                                                                                                                                                                                                                                                                                                                                                                                                                                                                                                                                                                                                                                                                                                                                                                                                                                                                                                                                                                                                                                                                                                                                                                                                                                                                                                                                                                                                                                                                                                                                                                                                                                                                                                                                                                                                                                                                                                                                                                                                                                                                                   \n",
      " channelTitle | Prime Video India                                                                                                                                                                                                                                                                                                                                                                                                                                                                                                                                                                                                                                                                                                                                                                                                                                                                                                                                                                                                                                                                                                                                                                                                                                                                                                                                                                                                                                                                                                                                                                                                                                                                                                                                                                                                                                                                                                                                                                                                                                                                                                                                                                                                                                                                                                                                                                                                                                                                                                                                                                                                                                                                                                                                                                                                                                                                                                                                                                      \n",
      " title        | Andhera Season 1 - Official Trailer | Prajakta Koli, Surveen Chawla, Priya Bapat, Karanvir Malhotra                                                                                                                                                                                                                                                                                                                                                                                                                                                                                                                                                                                                                                                                                                                                                                                                                                                                                                                                                                                                                                                                                                                                                                                                                                                                                                                                                                                                                                                                                                                                                                                                                                                                                                                                                                                                                                                                                                                                                                                                                                                                                                                                                                                                                                                                                                                                                                                                                                                                                                                                                                                                                                                                                                                                                                                                                                                                                    \n",
      " categoryId   | 24                                                                                                                                                                                                                                                                                                                                                                                                                                                                                                                                                                                                                                                                                                                                                                                                                                                                                                                                                                                                                                                                                                                                                                                                                                                                                                                                                                                                                                                                                                                                                                                                                                                                                                                                                                                                                                                                                                                                                      \n",
      "\n",
      "*** WARNING: max output size exceeded, skipping output. ***\n",
      "\n",
      "                                                                                                                                                                                                                                                                                                                                                                                                                                                                                                                                                                                                                                                                                                                                                                                                                                                                                                                                                                                                                                                                                                                                                                                                                                                                                                                                                                                                                                                                                                                                                                                                                                                                                                                                                                                                                                                                                                                                               \n",
      " likeCount    | 1230                                                                                                                                                                                                                                                                                                                                                                                                                                                                                                                                                                                                                                                                                                                                                                                                                                                                                                                                                                                                                                                                                                                                                                                                                                                                                                                                                                                                                                                                                                                                                                                                                                                                                                                                                                                                                                                                                                                                                                                                                                                                                                                                                                                                                                                                                                                                                                                                                                                                                                                                                                                                                                                                                                                                                                                                                                                                                                                                                                                   \n",
      " commentCount | 47                                                                                                                                                                                                                                                                                                                                                                                                                                                                                                                                                                                                                                                                                                                                                                                                                                                                                                                                                                                                                                                                                                                                                                                                                                                                                                                                                                                                                                                                                                                                                                                                                                                                                                                                                                                                                                                                                                                                                                                                                                                                                                                                                                                                                                                                                                                                                                                                                                                                                                                                                                                                                                                                                                                                                                                                                                                                                                                                                                                     \n",
      " duration     | PT1H2M29S                                                                                                                                                                                                                                                                                                                                                                                                                                                                                                                                                                                                                                                                                                                                                                                                                                                                                                                                                                                                                                                                                                                                                                                                                                                                                                                                                                                                                                                                                                                                                                                                                                                                                                                                                                                                                                                                                                                                                                                                                                                                                                                                                                                                                                                                                                                                                                                                                                                                                                                                                                                                                                                                                                                                                                                                                                                                                                                                                                              \n",
      " publishedAt  | 2025-08-07T22:45:06Z                                                                                                                                                                                                                                                                                                                                                                                                                                                                                                                                                                                                                                                                                                                                                                                                                                                                                                                                                                                                                                                                                                                                                                                                                                                                                                                                                                                                                                                                                                                                                                                                                                                                                                                                                                                                                                                                                                                                                                                                                                                                                                                                                                                                                                                                                                                                                                                                                                                                                                                                                                                                                                                                                                                                                                                                                                                                                                                                                                   \n",
      " channelTitle | ಕನ್ನಡ ಭಕ್ತಿ ಸಾಂಗ್ಸ್ - Kannada Bhakthi Songs                                                                                                                                                                                                                                                                                                                                                                                                                                                                                                                                                                                                                                                                                                                                                                                                                                                                                                                                                                                                                                                                                                                                                                                                                                                                                                                                                                                                                                                                                                                                                                                                                                                                                                                                                                                                                                                                                                                                                                                                                                                                                                                                                                                                                                                                                                                                                                                                                                                                                                                                                                                                                                                                                                                                                                                                                                                                                                                                            \n",
      " title        | ವರಮಹಾಲಕ್ಷ್ಮಿ ವ್ರತ ವಿಶೇಷ | ಲಕ್ಷ್ಮಿ ದೇವಿ ಹಾಡುಗಳು | Vara Lakshmi Devi Songs | Kannada Bhakthi Songs                                                                                                                                                                                                                                                                                                                                                                                                                                                                                                                                                                                                                                                                                                                                                                                                                                                                                                                                                                                                                                                                                                                                                                                                                                                                                                                                                                                                                                                                                                                                                                                                                                                                                                                                                                                                                                                                                                                                                                                                                                                                                                                                                                                                                                                                                                                                                                                                                                                                                                                                                                                                                                                                                                                                                                                                                                                                                       \n",
      " categoryId   | 10                                                                                                                                                                                                                                                                                                                                                                                                                                                                                                                                                                                                                                                                                                                                                                                                                                                                                                                                                                                                                                                                                                                                                                                                                                                                                                                                                                                                                                                                                                                                                                                                                                                                                                                                                                                                                                                                                                                                                                                                                                                                                                                                                                                                                                                                                                                                                                                                                                                                                                                                                                                                                                                                                                                                                                                                                                                                                                                                                                                     \n",
      " description  | ವರಮಹಾಲಕ್ಷ್ಮಿ ವ್ರತ ವಿಶೇಷ | ಲಕ್ಷ್ಮಿ ದೇವಿ ಹಾಡುಗಳು | Vara Lakshmi Devi Songs | Kannada Bhakthi Songs\\n\\nSongs In  This Video : \\n00:00 -  Bhagyada Lakshmi Baramma - ಭಾಗ್ಯದ ಲಕ್ಷ್ಮಿ ಬಾರಮ್ಮ\\n05:10 - Ele Belathingala - ಎಲೆ ಬೆಲತಿಂಗಳ\\n10:31 - Sumanasa Vanditha - ಸುಮನಸ ವಂದಿತ\\n15:37 - Sri lakshmi Bandavale - ಶ್ರೀ ಲಕ್ಷ್ಮಿ ಬಂದವಳೇ\\n20:08 - Asta Lakshm Suprabhata - ಅಷ್ಟ ಲಕ್ಷ್ಮೀ ಸುಪ್ರಭಾತ\\n33:38 - Namastu Maha Maaye - ನಮಸ್ತೇಸ್ತು ಮಹಾಮಾಯೆ\\n39:55 - Sri Lakshmi Shatanamavali - ಶ್ರೀ ಲಕ್ಷ್ಮಿ ಶತನಾಮಾವಳಿ\\n\\n#LakshmiDeviSongs\\n#BhakthiSongs\\n#Bhakthi\\n#VaralakshmiVratham\\n#VaralakshmiVrathamSongs\\n#Sravanamasam                                                                                                                                                                                                                                                                                                                                                                                                                                                                                                                                                                                                                                                                                                                                                                                                                                                                                                                                                                                                                                                                                                                                                                                                                                                                                                                                                                                                                                                                                                                                                                                                                                                                                                                                                                                                                                                                                                                                                                                                                                                                                                                                                                                                                                                                                                                                                                         \n",
      "only showing top 3 rows\n"
     ]
    }
   ],
   "source": [
    "casted_df.select(\n",
    "    \"viewCount\", \"likeCount\", \"commentCount\",\n",
    "    \"duration\", \"publishedAt\", \"channelTitle\",\n",
    "    \"title\", \"categoryId\", \"description\"\n",
    ").show(3, truncate=False, vertical=True)"
   ]
  },
  {
   "cell_type": "code",
   "execution_count": 0,
   "metadata": {
    "application/vnd.databricks.v1+cell": {
     "cellMetadata": {
      "byteLimit": 2048000,
      "rowLimit": 10000
     },
     "inputWidgets": {},
     "nuid": "7645889e-8a65-4707-b3a7-6ea4da5edfc7",
     "showTitle": false,
     "tableResultSettingsMap": {},
     "title": ""
    }
   },
   "outputs": [
    {
     "name": "stdout",
     "output_type": "stream",
     "text": [
      "+---------------------------------------------------------------------------------------------------+---------+\n",
      "|title                                                                                              |duration |\n",
      "+---------------------------------------------------------------------------------------------------+---------+\n",
      "|Andhera Season 1 - Official Trailer | Prajakta Koli, Surveen Chawla, Priya Bapat, Karanvir Malhotra|PT2M21S  |\n",
      "|GHAATI Trailer (Telugu) | Anushka Shetty | Vikram Prabhu | Krish Jagarlamudi | UV Creations        |PT2M22S  |\n",
      "|ವರಮಹಾಲಕ್ಷ್ಮಿ ವ್ರತ ವಿಶೇಷ | ಲಕ್ಷ್ಮಿ ದೇವಿ ಹಾಡುಗಳು | Vara Lakshmi Devi Songs | Kannada Bhakthi Songs   |PT1H2M29S|\n",
      "|HIMLANDS - THE RISE OF A NEW ENTITY [S-6 part 34]                                                  |PT1H9M22S|\n",
      "|JATADHARA Official Teaser | Sudheer Babu | Sonakshi Sinha | Prerna Arora |Telugu-Hindi| Coming Soon|PT1M14S  |\n",
      "|Raksha Bandhan Songs - Behna Pyaari Behna | Chunky Pandey | Sadhana Sargam | Rakhi Songs 2025      |PT8M22S  |\n",
      "|JIGRIS Movie Official Teaser | Krishna B| Dheeraj A | Mani V | Ram N | Harish U | Krishna V        |PT2M5S   |\n",
      "|#video - भईया दे दो कलाई | Bhaiya De Do Kalayi | Anu Dubey Raksha Bandhan Song 2025 | Rakhi Special|PT4M5S   |\n",
      "|I Got Trapped Inside TUNG TUNG SAHUR House!                                                        |PT20M17S |\n",
      "|रक्षाबंधन Rakshabandhan Special Song 2025 | Rakhi Geet: Bhaiya Bhi Tu Hai | LATA MANGESHKAR        |PT4M20S  |\n",
      "+---------------------------------------------------------------------------------------------------+---------+\n",
      "only showing top 10 rows\n"
     ]
    }
   ],
   "source": [
    "casted_df.select(\"title\", \"duration\").show(10, truncate=False)"
   ]
  },
  {
   "cell_type": "code",
   "execution_count": 0,
   "metadata": {
    "application/vnd.databricks.v1+cell": {
     "cellMetadata": {
      "byteLimit": 2048000,
      "rowLimit": 10000
     },
     "inputWidgets": {},
     "nuid": "0a26edf1-dfce-4c55-a64d-3d5d966758b6",
     "showTitle": false,
     "tableResultSettingsMap": {},
     "title": ""
    }
   },
   "outputs": [
    {
     "name": "stdout",
     "output_type": "stream",
     "text": [
      "root\n",
      " |-- id: string (nullable = true)\n",
      " |-- publishedAt: string (nullable = true)\n",
      " |-- channelId: string (nullable = true)\n",
      " |-- channelTitle: string (nullable = true)\n",
      " |-- title: string (nullable = true)\n",
      " |-- description: string (nullable = true)\n",
      " |-- categoryId: string (nullable = true)\n",
      " |-- tags: array (nullable = true)\n",
      " |    |-- element: string (containsNull = true)\n",
      " |-- defaultLanguage: string (nullable = true)\n",
      " |-- defaultAudioLanguage: string (nullable = true)\n",
      " |-- viewCount: integer (nullable = true)\n",
      " |-- likeCount: integer (nullable = true)\n",
      " |-- commentCount: integer (nullable = true)\n",
      " |-- duration: string (nullable = true)\n",
      " |-- caption: string (nullable = true)\n",
      "\n"
     ]
    }
   ],
   "source": [
    "casted_df.printSchema()"
   ]
  },
  {
   "cell_type": "markdown",
   "metadata": {
    "application/vnd.databricks.v1+cell": {
     "cellMetadata": {},
     "inputWidgets": {},
     "nuid": "6b3b438a-f8b7-498d-82cf-7e47234ce5f5",
     "showTitle": false,
     "tableResultSettingsMap": {},
     "title": ""
    }
   },
   "source": [
    "# Convert duration (ISO 8601 format) to Total Seconds"
   ]
  },
  {
   "cell_type": "code",
   "execution_count": 0,
   "metadata": {
    "application/vnd.databricks.v1+cell": {
     "cellMetadata": {
      "byteLimit": 2048000,
      "rowLimit": 10000
     },
     "inputWidgets": {},
     "nuid": "78c17e7e-7e12-4174-9f12-25af67062a2d",
     "showTitle": false,
     "tableResultSettingsMap": {},
     "title": ""
    }
   },
   "outputs": [],
   "source": [
    "from pyspark.sql.functions import regexp_extract, col, when\n",
    "\n",
    "# Regex extract hours, minutes, seconds from ISO 8601 duration format\n",
    "casted_df = casted_df \\\n",
    "    .withColumn(\"hours\", when(regexp_extract(col(\"duration\"), \"PT(\\\\d+)H\", 1) != \"\", regexp_extract(col(\"duration\"), \"PT(\\\\d+)H\", 1).cast(\"int\")).otherwise(0)) \\\n",
    "    .withColumn(\"minutes\", when(regexp_extract(col(\"duration\"), \"(\\\\d+)M\", 1) != \"\", regexp_extract(col(\"duration\"), \"(\\\\d+)M\", 1).cast(\"int\")).otherwise(0)) \\\n",
    "    .withColumn(\"seconds\", when(regexp_extract(col(\"duration\"), \"(\\\\d+)S\", 1) != \"\", regexp_extract(col(\"duration\"), \"(\\\\d+)S\", 1).cast(\"int\")).otherwise(0))\n",
    "\n",
    "# Total seconds calculate \n",
    "casted_df = casted_df.withColumn(\n",
    "    \"duration\",\n",
    "    (col(\"hours\")*3600 + col(\"minutes\")*60 + col(\"seconds\"))\n",
    ")\n",
    "\n",
    "# Temporary columns drop \n",
    "casted_df = casted_df.drop(\"hours\", \"minutes\", \"seconds\")\n"
   ]
  },
  {
   "cell_type": "code",
   "execution_count": 0,
   "metadata": {
    "application/vnd.databricks.v1+cell": {
     "cellMetadata": {
      "byteLimit": 2048000,
      "rowLimit": 10000
     },
     "inputWidgets": {},
     "nuid": "bf677749-02ba-4573-a714-7b5beefce49c",
     "showTitle": false,
     "tableResultSettingsMap": {},
     "title": ""
    }
   },
   "outputs": [
    {
     "name": "stdout",
     "output_type": "stream",
     "text": [
      "root\n",
      " |-- id: string (nullable = true)\n",
      " |-- publishedAt: string (nullable = true)\n",
      " |-- channelId: string (nullable = true)\n",
      " |-- channelTitle: string (nullable = true)\n",
      " |-- title: string (nullable = true)\n",
      " |-- description: string (nullable = true)\n",
      " |-- categoryId: string (nullable = true)\n",
      " |-- tags: array (nullable = true)\n",
      " |    |-- element: string (containsNull = true)\n",
      " |-- defaultLanguage: string (nullable = true)\n",
      " |-- defaultAudioLanguage: string (nullable = true)\n",
      " |-- viewCount: integer (nullable = true)\n",
      " |-- likeCount: integer (nullable = true)\n",
      " |-- commentCount: integer (nullable = true)\n",
      " |-- duration: integer (nullable = true)\n",
      " |-- caption: string (nullable = true)\n",
      "\n"
     ]
    }
   ],
   "source": [
    "casted_df.printSchema()"
   ]
  },
  {
   "cell_type": "code",
   "execution_count": 0,
   "metadata": {
    "application/vnd.databricks.v1+cell": {
     "cellMetadata": {
      "byteLimit": 2048000,
      "rowLimit": 10000
     },
     "inputWidgets": {},
     "nuid": "8f64ab24-b6eb-4389-8874-e28d6a196b93",
     "showTitle": false,
     "tableResultSettingsMap": {},
     "title": ""
    }
   },
   "outputs": [
    {
     "name": "stdout",
     "output_type": "stream",
     "text": [
      "+---------------------------------------------------------------------------------------------------+--------+\n",
      "|title                                                                                              |duration|\n",
      "+---------------------------------------------------------------------------------------------------+--------+\n",
      "|Andhera Season 1 - Official Trailer | Prajakta Koli, Surveen Chawla, Priya Bapat, Karanvir Malhotra|141     |\n",
      "|GHAATI Trailer (Telugu) | Anushka Shetty | Vikram Prabhu | Krish Jagarlamudi | UV Creations        |142     |\n",
      "|ವರಮಹಾಲಕ್ಷ್ಮಿ ವ್ರತ ವಿಶೇಷ | ಲಕ್ಷ್ಮಿ ದೇವಿ ಹಾಡುಗಳು | Vara Lakshmi Devi Songs | Kannada Bhakthi Songs   |3749    |\n",
      "|HIMLANDS - THE RISE OF A NEW ENTITY [S-6 part 34]                                                  |4162    |\n",
      "|JATADHARA Official Teaser | Sudheer Babu | Sonakshi Sinha | Prerna Arora |Telugu-Hindi| Coming Soon|74      |\n",
      "|Raksha Bandhan Songs - Behna Pyaari Behna | Chunky Pandey | Sadhana Sargam | Rakhi Songs 2025      |502     |\n",
      "|JIGRIS Movie Official Teaser | Krishna B| Dheeraj A | Mani V | Ram N | Harish U | Krishna V        |125     |\n",
      "|#video - भईया दे दो कलाई | Bhaiya De Do Kalayi | Anu Dubey Raksha Bandhan Song 2025 | Rakhi Special|245     |\n",
      "|I Got Trapped Inside TUNG TUNG SAHUR House!                                                        |1217    |\n",
      "|रक्षाबंधन Rakshabandhan Special Song 2025 | Rakhi Geet: Bhaiya Bhi Tu Hai | LATA MANGESHKAR        |260     |\n",
      "+---------------------------------------------------------------------------------------------------+--------+\n",
      "only showing top 10 rows\n"
     ]
    }
   ],
   "source": [
    "casted_df.select(\"title\", \"duration\").show(10, truncate=False)\n"
   ]
  },
  {
   "cell_type": "code",
   "execution_count": 0,
   "metadata": {
    "application/vnd.databricks.v1+cell": {
     "cellMetadata": {
      "byteLimit": 2048000,
      "rowLimit": 10000
     },
     "inputWidgets": {},
     "nuid": "b36b09a7-2062-4e40-9dc0-d5d06c309ed4",
     "showTitle": false,
     "tableResultSettingsMap": {},
     "title": ""
    }
   },
   "outputs": [],
   "source": []
  },
  {
   "cell_type": "markdown",
   "metadata": {
    "application/vnd.databricks.v1+cell": {
     "cellMetadata": {},
     "inputWidgets": {},
     "nuid": "6ded9613-2dce-48c1-bc2a-497431e8e39f",
     "showTitle": false,
     "tableResultSettingsMap": {},
     "title": ""
    }
   },
   "source": [
    "# in our data distinct categoryid available"
   ]
  },
  {
   "cell_type": "code",
   "execution_count": 0,
   "metadata": {
    "application/vnd.databricks.v1+cell": {
     "cellMetadata": {
      "byteLimit": 2048000,
      "rowLimit": 10000
     },
     "inputWidgets": {},
     "nuid": "399df398-0557-4c03-a2f8-d1440650cfbb",
     "showTitle": false,
     "tableResultSettingsMap": {},
     "title": ""
    }
   },
   "outputs": [
    {
     "data": {
      "text/plain": [
       "5"
      ]
     },
     "execution_count": 112,
     "metadata": {},
     "output_type": "execute_result"
    }
   ],
   "source": [
    "parsed_df.select(\"json.snippet.categoryId\").distinct().count()"
   ]
  },
  {
   "cell_type": "code",
   "execution_count": 0,
   "metadata": {
    "application/vnd.databricks.v1+cell": {
     "cellMetadata": {
      "byteLimit": 2048000,
      "rowLimit": 10000
     },
     "inputWidgets": {},
     "nuid": "79d37982-ffbc-4607-b6bc-86a636951806",
     "showTitle": false,
     "tableResultSettingsMap": {},
     "title": ""
    }
   },
   "outputs": [
    {
     "name": "stdout",
     "output_type": "stream",
     "text": [
      "+----------+\n",
      "|categoryId|\n",
      "+----------+\n",
      "|22        |\n",
      "|10        |\n",
      "|24        |\n",
      "|1         |\n",
      "|20        |\n",
      "+----------+\n",
      "\n"
     ]
    }
   ],
   "source": [
    "parsed_df.select(\"json.snippet.categoryId\").distinct().show(truncate=False)"
   ]
  },
  {
   "cell_type": "markdown",
   "metadata": {
    "application/vnd.databricks.v1+cell": {
     "cellMetadata": {},
     "inputWidgets": {},
     "nuid": "327f6212-d205-4861-9b98-25a2a321067a",
     "showTitle": false,
     "tableResultSettingsMap": {},
     "title": ""
    }
   },
   "source": [
    "# Mapping distinct Categoryid to Category Name"
   ]
  },
  {
   "cell_type": "code",
   "execution_count": 0,
   "metadata": {
    "application/vnd.databricks.v1+cell": {
     "cellMetadata": {
      "byteLimit": 2048000,
      "rowLimit": 10000
     },
     "inputWidgets": {},
     "nuid": "64f36730-ac2c-4371-9a87-b688527e3072",
     "showTitle": false,
     "tableResultSettingsMap": {},
     "title": ""
    }
   },
   "outputs": [],
   "source": [
    "from pyspark.sql.functions import when, col\n",
    "\n",
    "casted_df = casted_df.withColumn(\n",
    "    \"categoryName\",\n",
    "    when(col(\"categoryId\") == \"1\", \"Film & Animation\")\n",
    "    .when(col(\"categoryId\") == \"10\", \"Music\")\n",
    "    .when(col(\"categoryId\") == \"20\", \"Gaming\")\n",
    "    .when(col(\"categoryId\") == \"22\", \"People & Blogs\")\n",
    "    .when(col(\"categoryId\") == \"24\", \"Entertainment\")\n",
    "    .otherwise(\"Unknown\")\n",
    ")\n"
   ]
  },
  {
   "cell_type": "code",
   "execution_count": 0,
   "metadata": {
    "application/vnd.databricks.v1+cell": {
     "cellMetadata": {
      "byteLimit": 2048000,
      "rowLimit": 10000
     },
     "inputWidgets": {},
     "nuid": "c541ff33-1510-4e37-bf8d-e13cc5f6d487",
     "showTitle": false,
     "tableResultSettingsMap": {},
     "title": ""
    }
   },
   "outputs": [
    {
     "name": "stdout",
     "output_type": "stream",
     "text": [
      "root\n",
      " |-- id: string (nullable = true)\n",
      " |-- publishedAt: string (nullable = true)\n",
      " |-- channelId: string (nullable = true)\n",
      " |-- channelTitle: string (nullable = true)\n",
      " |-- title: string (nullable = true)\n",
      " |-- description: string (nullable = true)\n",
      " |-- categoryId: string (nullable = true)\n",
      " |-- tags: array (nullable = true)\n",
      " |    |-- element: string (containsNull = true)\n",
      " |-- defaultLanguage: string (nullable = true)\n",
      " |-- defaultAudioLanguage: string (nullable = true)\n",
      " |-- viewCount: integer (nullable = true)\n",
      " |-- likeCount: integer (nullable = true)\n",
      " |-- commentCount: integer (nullable = true)\n",
      " |-- duration: integer (nullable = true)\n",
      " |-- caption: string (nullable = true)\n",
      " |-- categoryName: string (nullable = false)\n",
      "\n"
     ]
    }
   ],
   "source": [
    "casted_df.printSchema()"
   ]
  },
  {
   "cell_type": "code",
   "execution_count": 0,
   "metadata": {
    "application/vnd.databricks.v1+cell": {
     "cellMetadata": {
      "byteLimit": 2048000,
      "rowLimit": 10000
     },
     "inputWidgets": {},
     "nuid": "ff50a3a5-581a-46eb-a7c3-d1d75a0209b3",
     "showTitle": false,
     "tableResultSettingsMap": {},
     "title": ""
    }
   },
   "outputs": [
    {
     "name": "stdout",
     "output_type": "stream",
     "text": [
      "+----------------+-----+\n",
      "|categoryName    |count|\n",
      "+----------------+-----+\n",
      "|People & Blogs  |3    |\n",
      "|Film & Animation|4    |\n",
      "|Gaming          |13   |\n",
      "|Entertainment   |12   |\n",
      "|Music           |18   |\n",
      "+----------------+-----+\n",
      "\n"
     ]
    }
   ],
   "source": [
    "casted_df.groupBy(\"categoryName\").count().show(truncate=False)"
   ]
  },
  {
   "cell_type": "markdown",
   "metadata": {
    "application/vnd.databricks.v1+cell": {
     "cellMetadata": {},
     "inputWidgets": {},
     "nuid": "805284b9-33ac-47d1-8d0b-6aa5f89c6fad",
     "showTitle": false,
     "tableResultSettingsMap": {},
     "title": ""
    }
   },
   "source": [
    "# convert publishAt col to time stamp"
   ]
  },
  {
   "cell_type": "code",
   "execution_count": 0,
   "metadata": {
    "application/vnd.databricks.v1+cell": {
     "cellMetadata": {
      "byteLimit": 2048000,
      "rowLimit": 10000
     },
     "inputWidgets": {},
     "nuid": "41e25605-f3b2-4039-8682-ecba4daa182f",
     "showTitle": false,
     "tableResultSettingsMap": {},
     "title": ""
    }
   },
   "outputs": [],
   "source": [
    "from pyspark.sql.functions import col, to_timestamp, to_date, year, month\n",
    "\n",
    "# Step 1: Convert to timestamp\n",
    "casted_df = casted_df.withColumn(\"publishedAt_ts\", to_timestamp(col(\"publishedAt\"), \"yyyy-MM-dd'T'HH:mm:ss'Z'\"))\n",
    "\n",
    "# Step 2: Extract only the date part\n",
    "casted_df = casted_df.withColumn(\"publishedDate\", to_date(col(\"publishedAt_ts\")))\n",
    "\n",
    "# Step 3: Extract year and month from publishedDate\n",
    "casted_df = casted_df.withColumn(\"year\", year(\"publishedDate\")) \\\n",
    "                     .withColumn(\"month\", month(\"publishedDate\"))\n",
    "\n",
    "# Step 4: Drop original publishedAt and timestamp\n",
    "casted_df = casted_df.drop(\"publishedAt\", \"publishedAt_ts\")\n"
   ]
  },
  {
   "cell_type": "code",
   "execution_count": 0,
   "metadata": {
    "application/vnd.databricks.v1+cell": {
     "cellMetadata": {
      "byteLimit": 2048000,
      "rowLimit": 10000
     },
     "inputWidgets": {},
     "nuid": "0ab524a7-b326-4039-9bd0-464026b0bd89",
     "showTitle": false,
     "tableResultSettingsMap": {},
     "title": ""
    }
   },
   "outputs": [
    {
     "name": "stdout",
     "output_type": "stream",
     "text": [
      "root\n",
      " |-- id: string (nullable = true)\n",
      " |-- channelId: string (nullable = true)\n",
      " |-- channelTitle: string (nullable = true)\n",
      " |-- title: string (nullable = true)\n",
      " |-- description: string (nullable = true)\n",
      " |-- categoryId: string (nullable = true)\n",
      " |-- tags: array (nullable = true)\n",
      " |    |-- element: string (containsNull = true)\n",
      " |-- defaultLanguage: string (nullable = true)\n",
      " |-- defaultAudioLanguage: string (nullable = true)\n",
      " |-- viewCount: integer (nullable = true)\n",
      " |-- likeCount: integer (nullable = true)\n",
      " |-- commentCount: integer (nullable = true)\n",
      " |-- duration: integer (nullable = true)\n",
      " |-- caption: string (nullable = true)\n",
      " |-- categoryName: string (nullable = false)\n",
      " |-- publishedDate: date (nullable = true)\n",
      " |-- year: integer (nullable = true)\n",
      " |-- month: integer (nullable = true)\n",
      "\n"
     ]
    }
   ],
   "source": [
    "casted_df.printSchema()"
   ]
  },
  {
   "cell_type": "code",
   "execution_count": 0,
   "metadata": {
    "application/vnd.databricks.v1+cell": {
     "cellMetadata": {
      "byteLimit": 2048000,
      "rowLimit": 10000
     },
     "inputWidgets": {},
     "nuid": "962546f2-4c0a-43fd-b9c3-6a3b3f4370dd",
     "showTitle": false,
     "tableResultSettingsMap": {},
     "title": ""
    }
   },
   "outputs": [
    {
     "name": "stdout",
     "output_type": "stream",
     "text": [
      "-RECORD 0-----------------------------------------------------------------------------------------------------------------------------------------------------------------------------------------------------------------------------------------------------------------------------------------------------------------------------------------------------------------------------------------------------------------------------------------------------------------------------------------------------------------------------------------------------------------------------------------------------------------------------------------------------------------------------------------------------------------------------------------------------------------------------------------------------------------------------------------------------------------------------------------------------------------------------------------------------------------------------------------------------------------------------------------------------------------------------------------------------------------------------------------------------------------------------------------------------------------------------------------------------------------------------------------------------------------------------------------------------------------------------------------------------------------------------------------------------------------------------------------------------------------------------------------------------------------------------------------------------------------------------------------------------------------------------------------------------------------------------------------------------------------------------------------------------------------------------------------------------------------------------------------------------------------------------------------------------------------------------------------------------------------------------------------------------------------------------------------------------------------------------------------------------------------------------------------------------------------------------------------------------------------------------------------------------------------------------------------------------------------------------------------------------------------------------------------------------------------------------------------------------------------------------------------------------------------------------------------------------------------------------------------------------------------------------------------------------------------------------------------------------------------------------------------------------------------------------------------------------------------------------------------------------------------------------------------------------------------------------------------------\n",
      " viewCount     | 2932388                                                                                                                                                                                                                                                                                                                                                                                                                                                                                                                                                                                                                                                                                                                                                                                                                                                                                                                                                                                                                                                                                                                                                                                                                                                                                                                                                                                                                                                                                                                                                                                                                                                                                                                                                                                                                                                                                                                                                                                                                                                                                                                                                                                                                                                                                                                                                                                                                                                                                                                                                                                                                                                                                                                                                                                                                                                                                                                                                                                \n",
      " likeCount     | 9640                                                                                                                                                                                                                                                                                                                                                                                                                                                                                                                                                                                                                                                                                                                                                                                                                                                                                                                                                                                                                                                                                                                                                                                                                                                                                                                                                                                                                                                                                                                                                                                                                                                                                                                                                                                                                                                                                                                                                                                                                                                                                                                                                                                                                                                                                                                                                                                                                                                                                                                                                                                                                                                                                                                                                                                                                                                                                                                                                                                   \n",
      " commentCount  | 525                                                                                                                                                                                                                                                                                                                                                                                                                                                                                                                                                                                                                                                                                                                                                                                                                                                                                                                                                                                                                                                                                                                                                                                                                                                                                                                                                                                                                                                                                                                                                                                                                                                                                                                                                                                                                                                                                                                                                                                                                                                                                                                                                                                                                                                                                                                                                                                                                                                                                                                                                                                                                                                                                                                                                                                                                                                                                                                                                                                    \n",
      " duration      | 141                                                                                                                                                                                                                                                                                                                                                                                                                                                                                                                                                                                                                                                                                                                                                                                                                                                                                                                                                                                                                                                                                                                                                                                                                                                                                                                                                                                                                                                                                                                                                                                                                                                                                                                                                                                                                                                                                                                                                                                                                                                                                                                                                                                                                                                                                                                                                                                                                                                                                                                                                                                                                                                                                                                                                                                                                                                                                                                                                                                    \n",
      " publishedDate | 2025-08-08                                                                                                                                                                                                                                                                                                                                                                                                                                                                                                                                                                                                                                                                                                                                                                                                                                                                                                                                                                                                                                                                                                                                                                                                                                                                                                                                                                                                                                                                                                                                                                                                                                                                                                                                                                                                                                                                                                                                                                                                                                                                                                                                                                                                                                                                                                                                                                                                                                                                                                                                                                                                                                                                                                                                                                                                                                                                                                                                                                             \n",
      " channelTitle  | Prime Video India                                                                                                                                                                                                                                                                                                                                                                                                                                                                                                                                                                                                                                                                                                                                                                                                                                                                                                                                                                                                                                                                                                                                                                                                                                                                                                                                                                                                                                                                                                                                                                                                                                                                                                                                                                                                                                                                                                                                                                                                                                                                                                                                                                                                                                                                                                                                                                                                                                                                                                                                                                                                                                                                                                                                                                                                                                                                                                                                                                      \n",
      " title         | Andhera Season 1 - Official Trailer | Prajakta Koli, Surveen Chawla, Priya Bapat, Karanvir Malhotra                                                                                                                                                                                                                                                                                                                                                                                                                                                                                                                                                                                                                                                                                                                                                                                                                                                                                                                                                                                                                                                                                                                                                                                                                                                                                                                                                                                                                                                                                                                                                                                                                                                                                                                                                                                                                                                                                                                                                                                                                                                                                                                                                                                                                                                                                                                                                                                                                                                                                                                                                                                                                                                                                                                                                                                                                                                                                    \n",
      " categoryId    | 24                                                                                                                                                                                                                                                                                                                                                                                                                                                                                                                                                                                                                                                                                                                                                                                                                                                                                                                                                                                                                                                                                                                                                                                                                                                                                                                                                                                                                                                                                                                                                                                                                                                                                                                                                                                                                                                                                                                                             \n",
      "\n",
      "*** WARNING: max output size exceeded, skipping output. ***\n",
      "\n",
      "                                                                                                                                                                                                                                                                                                                                                                                                                                                                                                                                                                                                                                                                                                                                                                                                                                                                                                                                                                                                                                                                                                                                                                                                                                                                                                                                                                                                                                                                                                                                                                                                                                                                                                                                                                                                                                                                                                                                       \n",
      " commentCount  | 47                                                                                                                                                                                                                                                                                                                                                                                                                                                                                                                                                                                                                                                                                                                                                                                                                                                                                                                                                                                                                                                                                                                                                                                                                                                                                                                                                                                                                                                                                                                                                                                                                                                                                                                                                                                                                                                                                                                                                                                                                                                                                                                                                                                                                                                                                                                                                                                                                                                                                                                                                                                                                                                                                                                                                                                                                                                                                                                                                                                     \n",
      " duration      | 3749                                                                                                                                                                                                                                                                                                                                                                                                                                                                                                                                                                                                                                                                                                                                                                                                                                                                                                                                                                                                                                                                                                                                                                                                                                                                                                                                                                                                                                                                                                                                                                                                                                                                                                                                                                                                                                                                                                                                                                                                                                                                                                                                                                                                                                                                                                                                                                                                                                                                                                                                                                                                                                                                                                                                                                                                                                                                                                                                                                                   \n",
      " publishedDate | 2025-08-07                                                                                                                                                                                                                                                                                                                                                                                                                                                                                                                                                                                                                                                                                                                                                                                                                                                                                                                                                                                                                                                                                                                                                                                                                                                                                                                                                                                                                                                                                                                                                                                                                                                                                                                                                                                                                                                                                                                                                                                                                                                                                                                                                                                                                                                                                                                                                                                                                                                                                                                                                                                                                                                                                                                                                                                                                                                                                                                                                                             \n",
      " channelTitle  | ಕನ್ನಡ ಭಕ್ತಿ ಸಾಂಗ್ಸ್ - Kannada Bhakthi Songs                                                                                                                                                                                                                                                                                                                                                                                                                                                                                                                                                                                                                                                                                                                                                                                                                                                                                                                                                                                                                                                                                                                                                                                                                                                                                                                                                                                                                                                                                                                                                                                                                                                                                                                                                                                                                                                                                                                                                                                                                                                                                                                                                                                                                                                                                                                                                                                                                                                                                                                                                                                                                                                                                                                                                                                                                                                                                                                                            \n",
      " title         | ವರಮಹಾಲಕ್ಷ್ಮಿ ವ್ರತ ವಿಶೇಷ | ಲಕ್ಷ್ಮಿ ದೇವಿ ಹಾಡುಗಳು | Vara Lakshmi Devi Songs | Kannada Bhakthi Songs                                                                                                                                                                                                                                                                                                                                                                                                                                                                                                                                                                                                                                                                                                                                                                                                                                                                                                                                                                                                                                                                                                                                                                                                                                                                                                                                                                                                                                                                                                                                                                                                                                                                                                                                                                                                                                                                                                                                                                                                                                                                                                                                                                                                                                                                                                                                                                                                                                                                                                                                                                                                                                                                                                                                                                                                                                                                                       \n",
      " categoryId    | 10                                                                                                                                                                                                                                                                                                                                                                                                                                                                                                                                                                                                                                                                                                                                                                                                                                                                                                                                                                                                                                                                                                                                                                                                                                                                                                                                                                                                                                                                                                                                                                                                                                                                                                                                                                                                                                                                                                                                                                                                                                                                                                                                                                                                                                                                                                                                                                                                                                                                                                                                                                                                                                                                                                                                                                                                                                                                                                                                                                                     \n",
      " description   | ವರಮಹಾಲಕ್ಷ್ಮಿ ವ್ರತ ವಿಶೇಷ | ಲಕ್ಷ್ಮಿ ದೇವಿ ಹಾಡುಗಳು | Vara Lakshmi Devi Songs | Kannada Bhakthi Songs\\n\\nSongs In  This Video : \\n00:00 -  Bhagyada Lakshmi Baramma - ಭಾಗ್ಯದ ಲಕ್ಷ್ಮಿ ಬಾರಮ್ಮ\\n05:10 - Ele Belathingala - ಎಲೆ ಬೆಲತಿಂಗಳ\\n10:31 - Sumanasa Vanditha - ಸುಮನಸ ವಂದಿತ\\n15:37 - Sri lakshmi Bandavale - ಶ್ರೀ ಲಕ್ಷ್ಮಿ ಬಂದವಳೇ\\n20:08 - Asta Lakshm Suprabhata - ಅಷ್ಟ ಲಕ್ಷ್ಮೀ ಸುಪ್ರಭಾತ\\n33:38 - Namastu Maha Maaye - ನಮಸ್ತೇಸ್ತು ಮಹಾಮಾಯೆ\\n39:55 - Sri Lakshmi Shatanamavali - ಶ್ರೀ ಲಕ್ಷ್ಮಿ ಶತನಾಮಾವಳಿ\\n\\n#LakshmiDeviSongs\\n#BhakthiSongs\\n#Bhakthi\\n#VaralakshmiVratham\\n#VaralakshmiVrathamSongs\\n#Sravanamasam                                                                                                                                                                                                                                                                                                                                                                                                                                                                                                                                                                                                                                                                                                                                                                                                                                                                                                                                                                                                                                                                                                                                                                                                                                                                                                                                                                                                                                                                                                                                                                                                                                                                                                                                                                                                                                                                                                                                                                                                                                                                                                                                                                                                                                                                                                                                                                         \n",
      " categoryName  | Music                                                                                                                                                                                                                                                                                                                                                                                                                                                                                                                                                                                                                                                                                                                                                                                                                                                                                                                                                                                                                                                                                                                                                                                                                                                                                                                                                                                                                                                                                                                                                                                                                                                                                                                                                                                                                                                                                                                                                                                                                                                                                                                                                                                                                                                                                                                                                                                                                                                                                                                                                                                                                                                                                                                                                                                                                                                                                                                                                                                  \n",
      "only showing top 3 rows\n"
     ]
    }
   ],
   "source": [
    "casted_df.select(\n",
    "    \"viewCount\", \"likeCount\", \"commentCount\",\n",
    "    \"duration\", \"publishedDate\", \"channelTitle\",\n",
    "    \"title\", \"categoryId\", \"description\", \"categoryName\"\n",
    ").show(3, truncate=False, vertical=True)"
   ]
  },
  {
   "cell_type": "code",
   "execution_count": 0,
   "metadata": {
    "application/vnd.databricks.v1+cell": {
     "cellMetadata": {
      "byteLimit": 2048000,
      "rowLimit": 10000
     },
     "inputWidgets": {},
     "nuid": "f0e80c8e-29a0-40ad-825c-88ad2e1a18ae",
     "showTitle": false,
     "tableResultSettingsMap": {},
     "title": ""
    }
   },
   "outputs": [],
   "source": [
    "# in likecount and comment count there was a single null valued  so i filled it with '0' "
   ]
  },
  {
   "cell_type": "code",
   "execution_count": 0,
   "metadata": {
    "application/vnd.databricks.v1+cell": {
     "cellMetadata": {
      "byteLimit": 2048000,
      "rowLimit": 10000
     },
     "inputWidgets": {},
     "nuid": "e5477787-87b1-4a2c-9c35-7a06f103431c",
     "showTitle": false,
     "tableResultSettingsMap": {},
     "title": ""
    }
   },
   "outputs": [],
   "source": [
    "from pyspark.sql.functions import col\n",
    "\n",
    "casted_df = casted_df.fillna({\"likeCount\": 0})\n",
    "casted_df = casted_df.fillna({\"commentCount\": 0})\n",
    "\n"
   ]
  },
  {
   "cell_type": "code",
   "execution_count": 0,
   "metadata": {
    "application/vnd.databricks.v1+cell": {
     "cellMetadata": {
      "byteLimit": 2048000,
      "rowLimit": 10000
     },
     "inputWidgets": {},
     "nuid": "1385fb4d-67df-48ee-9a8e-eccbe3f81e95",
     "showTitle": false,
     "tableResultSettingsMap": {},
     "title": ""
    }
   },
   "outputs": [
    {
     "name": "stdout",
     "output_type": "stream",
     "text": [
      "+--------------+--------------+-----------------+-------------+------------+-----------------+------------------+---------+----------+\n",
      "|null_viewCount|null_likeCount|null_commentCount|null_duration|null_caption|null_categoryName|null_publishedDate|null_year|null_month|\n",
      "+--------------+--------------+-----------------+-------------+------------+-----------------+------------------+---------+----------+\n",
      "|             0|             0|                0|            0|           0|                0|                 0|        0|         0|\n",
      "+--------------+--------------+-----------------+-------------+------------+-----------------+------------------+---------+----------+\n",
      "\n"
     ]
    }
   ],
   "source": [
    "from pyspark.sql.functions import col, count, when\n",
    "\n",
    "# Check null values for all relevant columns\n",
    "casted_df.select([\n",
    "    count(when(col(\"viewCount\").isNull(), 1)).alias(\"null_viewCount\"),\n",
    "    count(when(col(\"likeCount\").isNull(), 1)).alias(\"null_likeCount\"),\n",
    "    count(when(col(\"commentCount\").isNull(), 1)).alias(\"null_commentCount\"),\n",
    "    count(when(col(\"duration\").isNull(), 1)).alias(\"null_duration\"),\n",
    "    count(when(col(\"caption\").isNull(), 1)).alias(\"null_caption\"),\n",
    "    count(when(col(\"categoryName\").isNull(), 1)).alias(\"null_categoryName\"),\n",
    "    count(when(col(\"publishedDate\").isNull(), 1)).alias(\"null_publishedDate\"),\n",
    "    count(when(col(\"year\").isNull(), 1)).alias(\"null_year\"),\n",
    "    count(when(col(\"month\").isNull(), 1)).alias(\"null_month\")\n",
    "]).show()\n"
   ]
  },
  {
   "cell_type": "code",
   "execution_count": 0,
   "metadata": {
    "application/vnd.databricks.v1+cell": {
     "cellMetadata": {
      "byteLimit": 2048000,
      "rowLimit": 10000
     },
     "inputWidgets": {},
     "nuid": "c74762e0-c245-47a5-8f59-e64c58dc6f0c",
     "showTitle": false,
     "tableResultSettingsMap": {},
     "title": ""
    }
   },
   "outputs": [],
   "source": []
  },
  {
   "cell_type": "markdown",
   "metadata": {
    "application/vnd.databricks.v1+cell": {
     "cellMetadata": {},
     "inputWidgets": {},
     "nuid": "59a1cd37-6f3e-49b7-889a-245055ec1ed7",
     "showTitle": false,
     "tableResultSettingsMap": {},
     "title": ""
    }
   },
   "source": [
    "# Engegment Analysis"
   ]
  },
  {
   "cell_type": "code",
   "execution_count": 0,
   "metadata": {
    "application/vnd.databricks.v1+cell": {
     "cellMetadata": {
      "byteLimit": 2048000,
      "rowLimit": 10000
     },
     "inputWidgets": {},
     "nuid": "323f1a54-6a9e-4759-b170-fa731c9643e2",
     "showTitle": false,
     "tableResultSettingsMap": {},
     "title": ""
    }
   },
   "outputs": [],
   "source": []
  },
  {
   "cell_type": "markdown",
   "metadata": {
    "application/vnd.databricks.v1+cell": {
     "cellMetadata": {},
     "inputWidgets": {},
     "nuid": "8a7823b9-d19a-4943-b152-6de415351740",
     "showTitle": false,
     "tableResultSettingsMap": {},
     "title": ""
    }
   },
   "source": [
    "# Top Channels by Total Views"
   ]
  },
  {
   "cell_type": "code",
   "execution_count": 0,
   "metadata": {
    "application/vnd.databricks.v1+cell": {
     "cellMetadata": {
      "byteLimit": 2048000,
      "rowLimit": 10000
     },
     "inputWidgets": {},
     "nuid": "96b2e805-cabd-4d8f-9a0b-680fa6bebea3",
     "showTitle": false,
     "tableResultSettingsMap": {},
     "title": ""
    }
   },
   "outputs": [
    {
     "name": "stdout",
     "output_type": "stream",
     "text": [
      "+---------------------------+----------+\n",
      "|channelTitle               |totalViews|\n",
      "+---------------------------+----------+\n",
      "|T-Series                   |20984585  |\n",
      "|Universal Music India      |12361086  |\n",
      "|YRF                        |9209754   |\n",
      "|Zee Studios                |5489968   |\n",
      "|Purav Jha                  |4492281   |\n",
      "|UV Creations               |3622582   |\n",
      "|Prime Video India          |2932388   |\n",
      "|MrBeast Gaming             |2807057   |\n",
      "|Five Star Creations        |2070010   |\n",
      "|Tropical 3D Animals        |1880896   |\n",
      "|iQOO ESPORTS               |1630121   |\n",
      "|T-Series Tamil             |1250386   |\n",
      "|Kumar Gaming               |1202528   |\n",
      "|Teodorissimo - FunAnimation|1201439   |\n",
      "|Techno Gamerz              |1187168   |\n",
      "|Tonde Gamer                |1041139   |\n",
      "|T-Series Bhakti Sagar      |931273    |\n",
      "|Zee Music Company          |927282    |\n",
      "|Husky Music                |889524    |\n",
      "|Tips Official              |768170    |\n",
      "+---------------------------+----------+\n",
      "only showing top 20 rows\n"
     ]
    }
   ],
   "source": [
    "top_channels = casted_df.groupBy(\"channelTitle\") \\\n",
    "    .sum(\"viewCount\") \\\n",
    "    .withColumnRenamed(\"sum(viewCount)\", \"totalViews\") \\\n",
    "    .orderBy(col(\"totalViews\").desc())\n",
    "\n",
    "top_channels.show(20, truncate=False)\n"
   ]
  },
  {
   "cell_type": "markdown",
   "metadata": {
    "application/vnd.databricks.v1+cell": {
     "cellMetadata": {},
     "inputWidgets": {},
     "nuid": "dfb84900-0c87-4718-be54-c06aa4374f44",
     "showTitle": false,
     "tableResultSettingsMap": {},
     "title": ""
    }
   },
   "source": [
    "# Top channels by total likes"
   ]
  },
  {
   "cell_type": "code",
   "execution_count": 0,
   "metadata": {
    "application/vnd.databricks.v1+cell": {
     "cellMetadata": {
      "byteLimit": 2048000,
      "rowLimit": 10000
     },
     "inputWidgets": {},
     "nuid": "26c93f1e-ae15-43fc-928e-43b89f09fa58",
     "showTitle": false,
     "tableResultSettingsMap": {},
     "title": ""
    }
   },
   "outputs": [
    {
     "name": "stdout",
     "output_type": "stream",
     "text": [
      "+---------------------+----------+\n",
      "|channelTitle         |totalLikes|\n",
      "+---------------------+----------+\n",
      "|T-Series             |836570    |\n",
      "|Purav Jha            |496748    |\n",
      "|YRF                  |155697    |\n",
      "|MrBeast Gaming       |120288    |\n",
      "|UV Creations         |105708    |\n",
      "|Techno Gamerz        |77413     |\n",
      "|YesSmartyPie         |75934     |\n",
      "|Five Star Creations  |64098     |\n",
      "|Universal Music India|59015     |\n",
      "|Tonde Gamer          |51926     |\n",
      "+---------------------+----------+\n",
      "only showing top 10 rows\n"
     ]
    }
   ],
   "source": [
    "top_liked_channels = casted_df.groupBy(\"channelTitle\") \\\n",
    "    .sum(\"likeCount\") \\\n",
    "    .withColumnRenamed(\"sum(likeCount)\", \"totalLikes\") \\\n",
    "    .orderBy(col(\"totalLikes\").desc())\n",
    "top_liked_channels.show(10, truncate=False)\n"
   ]
  },
  {
   "cell_type": "markdown",
   "metadata": {
    "application/vnd.databricks.v1+cell": {
     "cellMetadata": {},
     "inputWidgets": {},
     "nuid": "f838a2e2-3f0e-4420-a331-9a206ab29e8e",
     "showTitle": false,
     "tableResultSettingsMap": {},
     "title": ""
    }
   },
   "source": [
    "# Most Liked Videos"
   ]
  },
  {
   "cell_type": "code",
   "execution_count": 0,
   "metadata": {
    "application/vnd.databricks.v1+cell": {
     "cellMetadata": {
      "byteLimit": 2048000,
      "rowLimit": 10000
     },
     "inputWidgets": {},
     "nuid": "b674279d-a9bb-40b4-9a17-6160169e5396",
     "showTitle": false,
     "tableResultSettingsMap": {},
     "title": ""
    }
   },
   "outputs": [],
   "source": [
    "# Here we can find top 5 most liked videos along with its title and chanelTitle "
   ]
  },
  {
   "cell_type": "code",
   "execution_count": 0,
   "metadata": {
    "application/vnd.databricks.v1+cell": {
     "cellMetadata": {
      "byteLimit": 2048000,
      "rowLimit": 10000
     },
     "inputWidgets": {},
     "nuid": "903f3373-0893-4111-bba0-b183b49bbf2f",
     "showTitle": false,
     "tableResultSettingsMap": {},
     "title": ""
    }
   },
   "outputs": [
    {
     "name": "stdout",
     "output_type": "stream",
     "text": [
      "+----------------------------------------------------------------------------------------------------+--------------+---------+\n",
      "|title                                                                                               |channelTitle  |likeCount|\n",
      "+----------------------------------------------------------------------------------------------------+--------------+---------+\n",
      "|ONE THOUSAND MILES (Official Video): Yo Yo Honey Singh | Mandy Takhar | Desi Kalakaar |Bhushan Kumar|T-Series      |836570   |\n",
      "|Bhaiyaara | Saiyaara Trailer Spoof | Purav Jha                                                      |Purav Jha     |496748   |\n",
      "|Janaab-e-Aali Song Teaser | WAR 2 | Hrithik Roshan, NTR | Pritam, Sachet Tandon, Saaj Bhatt, Amitabh|YRF           |155697   |\n",
      "|$1,000 Every Minute You Survive                                                                     |MrBeast Gaming|120288   |\n",
      "|GHAATI Trailer (Telugu) | Anushka Shetty | Vikram Prabhu | Krish Jagarlamudi | UV Creations         |UV Creations  |105708   |\n",
      "+----------------------------------------------------------------------------------------------------+--------------+---------+\n",
      "only showing top 5 rows\n"
     ]
    }
   ],
   "source": [
    "most_liked = casted_df.orderBy(col(\"likeCount\").desc())\n",
    "most_liked.select(\"title\", \"channelTitle\", \"likeCount\").show(5, truncate=False)\n"
   ]
  },
  {
   "cell_type": "markdown",
   "metadata": {
    "application/vnd.databricks.v1+cell": {
     "cellMetadata": {},
     "inputWidgets": {},
     "nuid": "817cd47b-62ee-444f-964f-cd1563f92e48",
     "showTitle": false,
     "tableResultSettingsMap": {},
     "title": ""
    }
   },
   "source": [
    "# Top videos by comment count"
   ]
  },
  {
   "cell_type": "code",
   "execution_count": 0,
   "metadata": {
    "application/vnd.databricks.v1+cell": {
     "cellMetadata": {
      "byteLimit": 2048000,
      "rowLimit": 10000
     },
     "inputWidgets": {},
     "nuid": "e9b07943-1823-4bd7-8d2d-983f69989173",
     "showTitle": false,
     "tableResultSettingsMap": {},
     "title": ""
    }
   },
   "outputs": [
    {
     "name": "stdout",
     "output_type": "stream",
     "text": [
      "+----------------------------------------------------------------------------------------------------+---------------------+------------+\n",
      "|title                                                                                               |channelTitle         |commentCount|\n",
      "+----------------------------------------------------------------------------------------------------+---------------------+------------+\n",
      "|ONE THOUSAND MILES (Official Video): Yo Yo Honey Singh | Mandy Takhar | Desi Kalakaar |Bhushan Kumar|T-Series             |54713       |\n",
      "|Bhaiyaara | Saiyaara Trailer Spoof | Purav Jha                                                      |Purav Jha            |19932       |\n",
      "|MY PARENTS ARE VERY BAD                                                                             |Techno Gamerz        |8715        |\n",
      "|Janaab-e-Aali Song Teaser | WAR 2 | Hrithik Roshan, NTR | Pritam, Sachet Tandon, Saaj Bhatt, Amitabh|YRF                  |8095        |\n",
      "|Bheegi Saree - Param Sundari | Sidharth, Janhvi | Sachin-Jigar, Adnan Sami, Shreya Ghoshal, Amitabh |Universal Music India|7638        |\n",
      "+----------------------------------------------------------------------------------------------------+---------------------+------------+\n",
      "only showing top 5 rows\n"
     ]
    }
   ],
   "source": [
    "most_commented = casted_df.orderBy(col(\"commentCount\").desc())\n",
    "most_commented.select(\"title\", \"channelTitle\", \"commentCount\").show(5, truncate=False)\n"
   ]
  },
  {
   "cell_type": "markdown",
   "metadata": {
    "application/vnd.databricks.v1+cell": {
     "cellMetadata": {},
     "inputWidgets": {},
     "nuid": "3a6cd6ce-7e7b-45ff-b92a-539d0bfc7ef8",
     "showTitle": false,
     "tableResultSettingsMap": {},
     "title": ""
    }
   },
   "source": [
    "# Like to View ratio (engagement rate)"
   ]
  },
  {
   "cell_type": "code",
   "execution_count": 0,
   "metadata": {
    "application/vnd.databricks.v1+cell": {
     "cellMetadata": {
      "byteLimit": 2048000,
      "rowLimit": 10000
     },
     "inputWidgets": {},
     "nuid": "f9f494d7-0e56-4a3e-820a-f97c1bb5f0dc",
     "showTitle": false,
     "tableResultSettingsMap": {},
     "title": ""
    }
   },
   "outputs": [
    {
     "name": "stdout",
     "output_type": "stream",
     "text": [
      "+----------------------------------------------------------------------------------------------------+------------------+--------------------+\n",
      "|title                                                                                               |channelTitle      |likeViewRatio       |\n",
      "+----------------------------------------------------------------------------------------------------+------------------+--------------------+\n",
      "|Odum Kuthira Chaadum Kuthira |Official Trailer | Fahadh Faasil, Kalyani | Althaf Salim | Ashiq Usman|Muzik247          |0.930110658124636   |\n",
      "|Bhaiyaara | Saiyaara Trailer Spoof | Purav Jha                                                      |Purav Jha         |0.11057812278439394 |\n",
      "|HIMLANDS - THE RISE OF A NEW ENTITY [S-6 part 34]                                                   |YesSmartyPie      |0.1048703518281946  |\n",
      "|JANGKHRITHAINI THWISAM 2 || Official Trailer || RD Motion Picture Presents                          |RD Motion Pictures|0.09635438162058055 |\n",
      "|MY PARENTS ARE VERY BAD                                                                             |Techno Gamerz     |0.0652081255559449  |\n",
      "|KYA AAJ #2 HOGA? | CONQUEROR RANK PUSH | BGMI LIVE                                                  |LoLzZz Gaming     |0.05970920469061733 |\n",
      "|Coolie - Official Kannada Trailer | Superstar Rajinikanth | Sun Pictures | Lokesh | Anirudh         |Udaya TV          |0.056103371474760945|\n",
      "|Full Story Decode & Prediction!🥵Coolie Trailer-ல LCU Connect இருக்குதா?😱 LCU | Podcast Tamilan    |Podcast Tamilan   |0.055308680643919375|\n",
      "|Pain Tendo in Free Fire 😱 1💎 Diamonds में nahi Milega 🤐 Tonde Gamer                              |Tonde Gamer       |0.049874224287054854|\n",
      "|I Got Trapped Inside TUNG TUNG SAHUR House!                                                         |Lovely Boss       |0.04799335223951263 |\n",
      "+----------------------------------------------------------------------------------------------------+------------------+--------------------+\n",
      "only showing top 10 rows\n"
     ]
    }
   ],
   "source": [
    "from pyspark.sql.functions import expr\n",
    "\n",
    "engagement_df = casted_df.withColumn(\"likeViewRatio\", expr(\"likeCount / viewCount\"))\n",
    "engagement_df.orderBy(col(\"likeViewRatio\").desc()).select(\"title\", \"channelTitle\", \"likeViewRatio\").show(10, truncate=False)\n"
   ]
  },
  {
   "cell_type": "markdown",
   "metadata": {
    "application/vnd.databricks.v1+cell": {
     "cellMetadata": {},
     "inputWidgets": {},
     "nuid": "323db54d-d270-4994-8ff6-7f421b8e9547",
     "showTitle": false,
     "tableResultSettingsMap": {},
     "title": ""
    }
   },
   "source": [
    "# Analysis based on categories"
   ]
  },
  {
   "cell_type": "code",
   "execution_count": 0,
   "metadata": {
    "application/vnd.databricks.v1+cell": {
     "cellMetadata": {
      "byteLimit": 2048000,
      "rowLimit": 10000
     },
     "inputWidgets": {},
     "nuid": "03daabaf-cc6c-4269-a6f8-dd45baf329b0",
     "showTitle": false,
     "tableResultSettingsMap": {},
     "title": ""
    }
   },
   "outputs": [],
   "source": []
  },
  {
   "cell_type": "markdown",
   "metadata": {
    "application/vnd.databricks.v1+cell": {
     "cellMetadata": {},
     "inputWidgets": {},
     "nuid": "34eec125-9197-4ddc-8ac5-ef719fdff2bf",
     "showTitle": false,
     "tableResultSettingsMap": {},
     "title": ""
    }
   },
   "source": [
    "# Top Categories by Likes"
   ]
  },
  {
   "cell_type": "code",
   "execution_count": 0,
   "metadata": {
    "application/vnd.databricks.v1+cell": {
     "cellMetadata": {
      "byteLimit": 2048000,
      "rowLimit": 10000
     },
     "inputWidgets": {},
     "nuid": "deb0b65a-faf9-4f8b-84ce-bdfea58f5332",
     "showTitle": false,
     "tableResultSettingsMap": {},
     "title": ""
    }
   },
   "outputs": [
    {
     "name": "stdout",
     "output_type": "stream",
     "text": [
      "+----------------+--------------------+----------+\n",
      "|    categoryName|        channelTitle|totalLikes|\n",
      "+----------------+--------------------+----------+\n",
      "|           Music|            T-Series|    836570|\n",
      "|   Entertainment|           Purav Jha|    496748|\n",
      "|           Music|                 YRF|    155697|\n",
      "|          Gaming|      MrBeast Gaming|    120288|\n",
      "|   Entertainment|        UV Creations|    105708|\n",
      "|          Gaming|       Techno Gamerz|     77413|\n",
      "|          Gaming|        YesSmartyPie|     75934|\n",
      "|Film & Animation|Five Star Creations |     64098|\n",
      "|           Music|Universal Music I...|     59015|\n",
      "|          Gaming|         Tonde Gamer|     51926|\n",
      "|           Music|      T-Series Tamil|     50402|\n",
      "|          Gaming|        iQOO ESPORTS|     43933|\n",
      "|   Entertainment|Teodorissimo - Fu...|     43708|\n",
      "|  People & Blogs| Tropical 3D Animals|     40057|\n",
      "|          Gaming|       LoLzZz Gaming|     37440|\n",
      "|           Music|         Husky Music|     30570|\n",
      "|   Entertainment|            Udaya TV|     28943|\n",
      "|Film & Animation|         Zee Studios|     24031|\n",
      "|Film & Animation|     Sparrow Cinemas|     23146|\n",
      "|   Entertainment|      YOGI BOLTA HAI|     21902|\n",
      "+----------------+--------------------+----------+\n",
      "only showing top 20 rows\n"
     ]
    }
   ],
   "source": [
    "from pyspark.sql.functions import sum\n",
    "\n",
    "casted_df.groupBy(\"categoryName\",\"channelTitle\") \\\n",
    "    .agg(sum(\"likeCount\").alias(\"totalLikes\")) \\\n",
    "    .orderBy(\"totalLikes\", ascending=False) \\\n",
    "    .show()\n",
    "\n"
   ]
  },
  {
   "cell_type": "markdown",
   "metadata": {
    "application/vnd.databricks.v1+cell": {
     "cellMetadata": {},
     "inputWidgets": {},
     "nuid": "c9b17c2a-56a1-4e31-840b-5e35b1bad17d",
     "showTitle": false,
     "tableResultSettingsMap": {},
     "title": ""
    }
   },
   "source": [
    "# Top Categories by Comments"
   ]
  },
  {
   "cell_type": "code",
   "execution_count": 0,
   "metadata": {
    "application/vnd.databricks.v1+cell": {
     "cellMetadata": {
      "byteLimit": 2048000,
      "rowLimit": 10000
     },
     "inputWidgets": {},
     "nuid": "2d4a45e0-807c-4cf9-94f6-8b7b1ef9b00b",
     "showTitle": false,
     "tableResultSettingsMap": {},
     "title": ""
    }
   },
   "outputs": [
    {
     "name": "stdout",
     "output_type": "stream",
     "text": [
      "+----------------+--------------------+-------------+\n",
      "|    categoryName|        channelTitle|totalComments|\n",
      "+----------------+--------------------+-------------+\n",
      "|           Music|            T-Series|        54713|\n",
      "|   Entertainment|           Purav Jha|        19932|\n",
      "|          Gaming|       Techno Gamerz|         8715|\n",
      "|           Music|                 YRF|         8095|\n",
      "|           Music|Universal Music I...|         7638|\n",
      "|          Gaming|        YesSmartyPie|         5013|\n",
      "|   Entertainment|        UV Creations|         3711|\n",
      "|          Gaming|         Tonde Gamer|         3042|\n",
      "|          Gaming|      MrBeast Gaming|         2454|\n",
      "|          Gaming|     SenpaiUnlimited|         2193|\n",
      "|           Music|      T-Series Tamil|         2056|\n",
      "|           Music|         Husky Music|         1699|\n",
      "|Film & Animation|Five Star Creations |         1260|\n",
      "|Film & Animation|     Sparrow Cinemas|         1231|\n",
      "|   Entertainment|            Udaya TV|         1212|\n",
      "|  People & Blogs|         Lovely Boss|         1186|\n",
      "|  People & Blogs| Tropical 3D Animals|         1066|\n",
      "|   Entertainment|  RD Motion Pictures|          970|\n",
      "|   Entertainment|      YOGI BOLTA HAI|          911|\n",
      "|  People & Blogs|     Podcast Tamilan|          897|\n",
      "+----------------+--------------------+-------------+\n",
      "only showing top 20 rows\n"
     ]
    }
   ],
   "source": [
    "casted_df.groupBy(\"categoryName\",\"channelTitle\") \\\n",
    "    .agg(sum(\"commentCount\").alias(\"totalComments\")) \\\n",
    "    .orderBy(\"totalComments\", ascending=False) \\\n",
    "    .show()"
   ]
  },
  {
   "cell_type": "markdown",
   "metadata": {
    "application/vnd.databricks.v1+cell": {
     "cellMetadata": {},
     "inputWidgets": {},
     "nuid": "64c9cb00-3f53-4b1b-ac68-4409dafa4221",
     "showTitle": false,
     "tableResultSettingsMap": {},
     "title": ""
    }
   },
   "source": [
    "# Average Engagement per Category"
   ]
  },
  {
   "cell_type": "code",
   "execution_count": 0,
   "metadata": {
    "application/vnd.databricks.v1+cell": {
     "cellMetadata": {
      "byteLimit": 2048000,
      "rowLimit": 10000
     },
     "inputWidgets": {},
     "nuid": "1057d0d1-6c72-4b42-aa40-2d69f020fff5",
     "showTitle": false,
     "tableResultSettingsMap": {},
     "title": ""
    }
   },
   "outputs": [],
   "source": [
    "# create engagment column on adding likecount and commentcount"
   ]
  },
  {
   "cell_type": "code",
   "execution_count": 0,
   "metadata": {
    "application/vnd.databricks.v1+cell": {
     "cellMetadata": {
      "byteLimit": 2048000,
      "rowLimit": 10000
     },
     "inputWidgets": {},
     "nuid": "02ae8e87-d6e7-484a-8f4c-b41893b79db4",
     "showTitle": false,
     "tableResultSettingsMap": {},
     "title": ""
    }
   },
   "outputs": [],
   "source": [
    "casted_df = casted_df.withColumn(\n",
    "    \"engagement\",\n",
    "    col(\"likeCount\") + col(\"commentCount\")\n",
    ")"
   ]
  },
  {
   "cell_type": "code",
   "execution_count": 0,
   "metadata": {
    "application/vnd.databricks.v1+cell": {
     "cellMetadata": {
      "byteLimit": 2048000,
      "rowLimit": 10000
     },
     "inputWidgets": {},
     "nuid": "9287e64b-4719-4b95-ad4f-8aa3c0590fdb",
     "showTitle": false,
     "tableResultSettingsMap": {},
     "title": ""
    }
   },
   "outputs": [
    {
     "name": "stdout",
     "output_type": "stream",
     "text": [
      "+----------------+------------------+\n",
      "|categoryName    |avgEngagement     |\n",
      "+----------------+------------------+\n",
      "|Music           |69852.55555555556 |\n",
      "|Entertainment   |65544.16666666667 |\n",
      "|Gaming          |36856.53846153846 |\n",
      "|Film & Animation|29056.75          |\n",
      "|People & Blogs  |20538.666666666668|\n",
      "+----------------+------------------+\n",
      "\n"
     ]
    }
   ],
   "source": [
    "from pyspark.sql.functions import avg\n",
    "\n",
    "casted_df.groupBy(\"categoryName\") \\\n",
    "    .agg(avg(\"engagement\").alias(\"avgEngagement\")) \\\n",
    "    .orderBy(\"avgEngagement\", ascending=False) \\\n",
    "    .show(truncate=False)\n"
   ]
  },
  {
   "cell_type": "code",
   "execution_count": 0,
   "metadata": {
    "application/vnd.databricks.v1+cell": {
     "cellMetadata": {
      "byteLimit": 2048000,
      "rowLimit": 10000
     },
     "inputWidgets": {},
     "nuid": "c99929e7-4f10-48be-b18c-9e30a213f83d",
     "showTitle": false,
     "tableResultSettingsMap": {},
     "title": ""
    }
   },
   "outputs": [],
   "source": []
  },
  {
   "cell_type": "markdown",
   "metadata": {
    "application/vnd.databricks.v1+cell": {
     "cellMetadata": {},
     "inputWidgets": {},
     "nuid": "d28831dd-1a5b-4d12-9e23-ff0ec108a111",
     "showTitle": false,
     "tableResultSettingsMap": {},
     "title": ""
    }
   },
   "source": [
    "# Average engagement by video duration"
   ]
  },
  {
   "cell_type": "code",
   "execution_count": 0,
   "metadata": {
    "application/vnd.databricks.v1+cell": {
     "cellMetadata": {
      "byteLimit": 2048000,
      "rowLimit": 10000
     },
     "inputWidgets": {},
     "nuid": "ea0fa3a8-9071-4595-9f40-c71df1acd649",
     "showTitle": false,
     "tableResultSettingsMap": {},
     "title": ""
    }
   },
   "outputs": [],
   "source": [
    "# it says that people are engage or not  in short,long or medium videos"
   ]
  },
  {
   "cell_type": "code",
   "execution_count": 0,
   "metadata": {
    "application/vnd.databricks.v1+cell": {
     "cellMetadata": {
      "byteLimit": 2048000,
      "rowLimit": 10000
     },
     "inputWidgets": {},
     "nuid": "2e5a3e86-3190-4fb4-be32-bc64cc6e1467",
     "showTitle": false,
     "tableResultSettingsMap": {},
     "title": ""
    }
   },
   "outputs": [
    {
     "name": "stdout",
     "output_type": "stream",
     "text": [
      "+----------------+------------------+\n",
      "|durationCategory|     avgEngagement|\n",
      "+----------------+------------------+\n",
      "|          Medium|          165575.5|\n",
      "|           Short|28264.333333333332|\n",
      "|            Long|        22922.1875|\n",
      "+----------------+------------------+\n",
      "\n"
     ]
    }
   ],
   "source": [
    "# Step 1: Categorize durations\n",
    "from pyspark.sql.functions import when\n",
    "\n",
    "casted_df = casted_df.withColumn(\n",
    "    \"durationCategory\",\n",
    "    when(col(\"duration\") <= 300, \"Short\")  # ≤ 5 mins\n",
    "    .when((col(\"duration\") > 300) & (col(\"duration\") <= 1200), \"Medium\")  # 5–20 mins\n",
    "    .otherwise(\"Long\")  # > 20 mins\n",
    ")\n",
    "\n",
    "# Step 2: Avg engagement per duration category\n",
    "casted_df.groupBy(\"durationCategory\") \\\n",
    "    .agg(avg(\"engagement\").alias(\"avgEngagement\")) \\\n",
    "    .orderBy(\"avgEngagement\", ascending=False) \\\n",
    "    .show()\n",
    "\n"
   ]
  },
  {
   "cell_type": "markdown",
   "metadata": {
    "application/vnd.databricks.v1+cell": {
     "cellMetadata": {},
     "inputWidgets": {},
     "nuid": "72538082-1c80-46e1-a04c-a82a83b09d27",
     "showTitle": false,
     "tableResultSettingsMap": {},
     "title": ""
    }
   },
   "source": [
    "# Top performing categories within duration groups"
   ]
  },
  {
   "cell_type": "code",
   "execution_count": 0,
   "metadata": {
    "application/vnd.databricks.v1+cell": {
     "cellMetadata": {
      "byteLimit": 2048000,
      "rowLimit": 10000
     },
     "inputWidgets": {},
     "nuid": "d038bee9-35aa-4c91-bdbe-1217fc49ee26",
     "showTitle": false,
     "tableResultSettingsMap": {},
     "title": ""
    }
   },
   "outputs": [
    {
     "name": "stdout",
     "output_type": "stream",
     "text": [
      "+----------------+----------------+------------------+\n",
      "|durationCategory|    categoryName|     avgEngagement|\n",
      "+----------------+----------------+------------------+\n",
      "|           Short|           Music|32671.090909090908|\n",
      "|           Short|Film & Animation|          29056.75|\n",
      "|           Short|   Entertainment| 22526.11111111111|\n",
      "|          Medium|           Music| 298086.6666666667|\n",
      "|          Medium|   Entertainment|194598.33333333334|\n",
      "|          Medium|          Gaming|45525.666666666664|\n",
      "|          Medium|  People & Blogs|           41123.0|\n",
      "|            Long|          Gaming|           34255.8|\n",
      "|            Long|  People & Blogs|           10246.5|\n",
      "|            Long|           Music|             926.0|\n",
      "+----------------+----------------+------------------+\n",
      "\n"
     ]
    }
   ],
   "source": [
    "casted_df.groupBy(\"durationCategory\", \"categoryName\") \\\n",
    "    .agg(avg(\"engagement\").alias(\"avgEngagement\")) \\\n",
    "    .orderBy(\"durationCategory\", \"avgEngagement\", ascending=False) \\\n",
    "    .show()\n"
   ]
  },
  {
   "cell_type": "markdown",
   "metadata": {
    "application/vnd.databricks.v1+cell": {
     "cellMetadata": {},
     "inputWidgets": {},
     "nuid": "a661a564-4a57-4ecb-a99e-b3b16ad09a30",
     "showTitle": false,
     "tableResultSettingsMap": {},
     "title": ""
    }
   },
   "source": [
    "# Total Watch Time per Category (durationCategory)"
   ]
  },
  {
   "cell_type": "code",
   "execution_count": 0,
   "metadata": {
    "application/vnd.databricks.v1+cell": {
     "cellMetadata": {
      "byteLimit": 2048000,
      "rowLimit": 10000
     },
     "inputWidgets": {},
     "nuid": "8135d5b7-c765-4405-8d4c-47fc3a68c97b",
     "showTitle": false,
     "tableResultSettingsMap": {},
     "title": ""
    }
   },
   "outputs": [
    {
     "name": "stdout",
     "output_type": "stream",
     "text": [
      "+----------------+----------------------+\n",
      "|durationCategory|totalWatchTime_seconds|\n",
      "+----------------+----------------------+\n",
      "|            Long|                102896|\n",
      "|          Medium|                  5524|\n",
      "|           Short|                  4007|\n",
      "+----------------+----------------------+\n",
      "\n"
     ]
    }
   ],
   "source": [
    "casted_df.groupBy(\"durationCategory\") \\\n",
    "    .agg(sum(\"duration\").alias(\"totalWatchTime_seconds\")) \\\n",
    "    .orderBy(\"totalWatchTime_seconds\", ascending=False) \\\n",
    "    .show()\n"
   ]
  },
  {
   "cell_type": "markdown",
   "metadata": {
    "application/vnd.databricks.v1+cell": {
     "cellMetadata": {},
     "inputWidgets": {},
     "nuid": "565c3471-5d58-420c-aed6-a1330c16b51f",
     "showTitle": false,
     "tableResultSettingsMap": {},
     "title": ""
    }
   },
   "source": [
    "# Total Watch Time per Category and Duration Bucket"
   ]
  },
  {
   "cell_type": "code",
   "execution_count": 0,
   "metadata": {
    "application/vnd.databricks.v1+cell": {
     "cellMetadata": {
      "byteLimit": 2048000,
      "rowLimit": 10000
     },
     "inputWidgets": {},
     "nuid": "1ce814e2-713b-48c8-b13a-d27112f7e876",
     "showTitle": false,
     "tableResultSettingsMap": {},
     "title": ""
    }
   },
   "outputs": [
    {
     "name": "stdout",
     "output_type": "stream",
     "text": [
      "+----------------+----------------+----------------------+\n",
      "|categoryName    |durationCategory|totalWatchTime_seconds|\n",
      "+----------------+----------------+----------------------+\n",
      "|Entertainment   |Medium          |1497                  |\n",
      "|Entertainment   |Short           |1260                  |\n",
      "|Film & Animation|Short           |551                   |\n",
      "|Gaming          |Long            |87699                 |\n",
      "|Gaming          |Medium          |2250                  |\n",
      "|Music           |Long            |11654                 |\n",
      "|Music           |Medium          |1404                  |\n",
      "|Music           |Short           |2196                  |\n",
      "|People & Blogs  |Long            |3543                  |\n",
      "|People & Blogs  |Medium          |373                   |\n",
      "+----------------+----------------+----------------------+\n",
      "\n"
     ]
    }
   ],
   "source": [
    "from pyspark.sql.functions import sum\n",
    "\n",
    "casted_df.groupBy(\"categoryName\", \"durationCategory\") \\\n",
    "    .agg(sum(\"duration\").alias(\"totalWatchTime_seconds\")) \\\n",
    "    .orderBy(\"categoryName\", \"durationCategory\") \\\n",
    "    .show(truncate=False)"
   ]
  },
  {
   "cell_type": "code",
   "execution_count": 0,
   "metadata": {
    "application/vnd.databricks.v1+cell": {
     "cellMetadata": {
      "byteLimit": 2048000,
      "rowLimit": 10000
     },
     "inputWidgets": {},
     "nuid": "0eaeb5be-22ef-4b78-9924-575d01e1a8e4",
     "showTitle": false,
     "tableResultSettingsMap": {},
     "title": ""
    }
   },
   "outputs": [],
   "source": [
    "# i have attached the chanelTitle also , from here we can get idea \n",
    "# 1) Which channel is dominating which category .\n",
    "# 2) Which channel do people watch for longer time?\n",
    "# 3) Which channel's videos, short, medium or long, are being watched more?"
   ]
  },
  {
   "cell_type": "code",
   "execution_count": 0,
   "metadata": {
    "application/vnd.databricks.v1+cell": {
     "cellMetadata": {
      "byteLimit": 2048000,
      "rowLimit": 10000
     },
     "inputWidgets": {},
     "nuid": "57605fe9-91b9-4aa1-b324-e7c395e19551",
     "showTitle": false,
     "tableResultSettingsMap": {},
     "title": ""
    }
   },
   "outputs": [
    {
     "name": "stdout",
     "output_type": "stream",
     "text": [
      "+-------------------------------------------+--------------+----------------+----------------------+\n",
      "|channelTitle                               |categoryName  |durationCategory|totalWatchTime_seconds|\n",
      "+-------------------------------------------+--------------+----------------+----------------------+\n",
      "|Tropical 3D Animals                        |People & Blogs|Medium          |373                   |\n",
      "|Podcast Tamilan                            |People & Blogs|Long            |2326                  |\n",
      "|Lovely Boss                                |People & Blogs|Long            |1217                  |\n",
      "|Zee Music Company                          |Music         |Short           |298                   |\n",
      "|T-Series Bhakti Sagar                      |Music         |Short           |260                   |\n",
      "|Bollywood Fever                            |Music         |Short           |253                   |\n",
      "|Sannu Kumar                                |Music         |Short           |245                   |\n",
      "|Anu Dubey Entertainment                    |Music         |Short           |245                   |\n",
      "|Husky Music                                |Music         |Short           |240                   |\n",
      "|Think Music Telugu                         |Music         |Short           |223                   |\n",
      "|Universal Music India                      |Music         |Short           |177                   |\n",
      "|T-Series Telugu                            |Music         |Short           |125                   |\n",
      "|T-Series Tamil                             |Music         |Short           |95                    |\n",
      "|YRF                                        |Music         |Short           |35                    |\n",
      "|Shivani Ka Thumka                          |Music         |Medium          |506                   |\n",
      "|Tips Official                              |Music         |Medium          |502                   |\n",
      "|T-Series                                   |Music         |Medium          |396                   |\n",
      "|ಕನ್ನಡ ಭಕ್ತಿ ಸಾಂಗ್ಸ್ - Kannada Bhakthi Songs|Music         |Long            |3749                  |\n",
      "|Hrishi Audio Video                         |Music         |Long            |3592                  |\n",
      "|Sonotek Bhakti                             |Music         |Long            |2694                  |\n",
      "+-------------------------------------------+--------------+----------------+----------------------+\n",
      "only showing top 20 rows\n"
     ]
    }
   ],
   "source": [
    "from pyspark.sql.functions import sum\n",
    "\n",
    "casted_df.groupBy(\"channelTitle\", \"categoryName\", \"durationCategory\") \\\n",
    "    .agg(sum(\"duration\").alias(\"totalWatchTime_seconds\")) \\\n",
    "    .orderBy(\"categoryName\", \"durationCategory\", \"totalWatchTime_seconds\", ascending=False) \\\n",
    "    .show(truncate=False)"
   ]
  },
  {
   "cell_type": "code",
   "execution_count": 0,
   "metadata": {
    "application/vnd.databricks.v1+cell": {
     "cellMetadata": {
      "byteLimit": 2048000,
      "rowLimit": 10000
     },
     "inputWidgets": {},
     "nuid": "de4288fe-4a2a-4ffe-8618-22ede843d9b2",
     "showTitle": false,
     "tableResultSettingsMap": {},
     "title": ""
    }
   },
   "outputs": [],
   "source": []
  },
  {
   "cell_type": "markdown",
   "metadata": {
    "application/vnd.databricks.v1+cell": {
     "cellMetadata": {},
     "inputWidgets": {},
     "nuid": "26ed54da-4b5a-4911-87b5-8cd16f364749",
     "showTitle": false,
     "tableResultSettingsMap": {},
     "title": ""
    }
   },
   "source": [
    "# Top 5 Longest Videos with High Engagement"
   ]
  },
  {
   "cell_type": "code",
   "execution_count": 0,
   "metadata": {
    "application/vnd.databricks.v1+cell": {
     "cellMetadata": {
      "byteLimit": 2048000,
      "rowLimit": 10000
     },
     "inputWidgets": {},
     "nuid": "3dda7365-c8db-4785-aa45-1e41b5b88b6d",
     "showTitle": false,
     "tableResultSettingsMap": {},
     "title": ""
    }
   },
   "outputs": [
    {
     "name": "stdout",
     "output_type": "stream",
     "text": [
      "+--------------------------------------------------------------------------------------+--------+----------+\n",
      "|title                                                                                 |duration|engagement|\n",
      "+--------------------------------------------------------------------------------------+--------+----------+\n",
      "|KYA AAJ #2 HOGA? | CONQUEROR RANK PUSH | BGMI LIVE                                    |33046   |37476     |\n",
      "|[HINDI] iQOO Battleground Series 2025 | Grand Finale - Day 2 #QuestForGlory #iQOONeo10|20245   |44158     |\n",
      "|3.9 UPDATE IS HERE IN BGMI SOLO VS SQUAD🔥 #bgmi #bgmilive #shortsfeed #shortslive    |14863   |4174      |\n",
      "|Choo Choo Charles LIVE | Kumar Gaming                                                 |8296    |4165      |\n",
      "|HIMLANDS - THE RISE OF A NEW ENTITY [S-6 part 34]                                     |4162    |80947     |\n",
      "+--------------------------------------------------------------------------------------+--------+----------+\n",
      "only showing top 5 rows\n"
     ]
    }
   ],
   "source": [
    "casted_df.orderBy(col(\"duration\").desc(), col(\"engagement\").desc()).select(\"title\", \"duration\", \"engagement\").show(5, truncate=False)"
   ]
  },
  {
   "cell_type": "code",
   "execution_count": 0,
   "metadata": {
    "application/vnd.databricks.v1+cell": {
     "cellMetadata": {
      "byteLimit": 2048000,
      "rowLimit": 10000
     },
     "inputWidgets": {},
     "nuid": "4c384f37-de3f-4e50-a7d9-c221700329fe",
     "showTitle": false,
     "tableResultSettingsMap": {},
     "title": ""
    }
   },
   "outputs": [],
   "source": [
    "casted_df.write.mode(\"overwrite\").saveAsTable(\"processed_data.india_trending_processed\")\n"
   ]
  }
 ],
 "metadata": {
  "application/vnd.databricks.v1+notebook": {
   "computePreferences": {
    "hardware": {
     "accelerator": null,
     "gpuPoolId": null,
     "memory": null
    }
   },
   "dashboards": [],
   "environmentMetadata": {
    "base_environment": "",
    "dependencies": [
     "pymongo ",
     "dnspython"
    ],
    "environment_version": "1"
   },
   "inputWidgetPreferences": null,
   "language": "python",
   "notebookMetadata": {
    "pythonIndentUnit": 4
   },
   "notebookName": "india_trends",
   "widgets": {}
  },
  "language_info": {
   "name": "python"
  }
 },
 "nbformat": 4,
 "nbformat_minor": 0
}
