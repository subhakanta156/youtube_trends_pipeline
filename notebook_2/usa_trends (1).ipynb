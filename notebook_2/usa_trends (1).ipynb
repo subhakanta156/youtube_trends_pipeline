{
 "cells": [
  {
   "cell_type": "markdown",
   "metadata": {
    "application/vnd.databricks.v1+cell": {
     "cellMetadata": {},
     "inputWidgets": {},
     "nuid": "a3d1f297-89a6-4626-af20-8a0367910527",
     "showTitle": false,
     "tableResultSettingsMap": {},
     "title": ""
    }
   },
   "source": [
    "# Analysis on USA Data Set"
   ]
  },
  {
   "cell_type": "markdown",
   "metadata": {
    "application/vnd.databricks.v1+cell": {
     "cellMetadata": {},
     "inputWidgets": {},
     "nuid": "8019e6ab-0ad0-4a57-984b-71f652013f0b",
     "showTitle": false,
     "tableResultSettingsMap": {},
     "title": ""
    }
   },
   "source": [
    "## Read from Delta table"
   ]
  },
  {
   "cell_type": "code",
   "execution_count": 0,
   "metadata": {
    "application/vnd.databricks.v1+cell": {
     "cellMetadata": {
      "byteLimit": 2048000,
      "rowLimit": 10000
     },
     "inputWidgets": {},
     "nuid": "01a26c95-de19-40b8-affe-3a5ee20ef714",
     "showTitle": false,
     "tableResultSettingsMap": {},
     "title": ""
    }
   },
   "outputs": [
    {
     "output_type": "stream",
     "name": "stdout",
     "output_type": "stream",
     "text": [
      "root\n |-- _id: string (nullable = true)\n |-- _fivetran_synced: timestamp (nullable = true)\n |-- data: string (nullable = true)\n |-- _fivetran_deleted: boolean (nullable = true)\n\n"
     ]
    }
   ],
   "source": [
    "# Load table from mongo_youtube_trends schema\n",
    "df = spark.table(\"mongo_youtube_trends.usa_trending\") \n",
    "# Show schema to understand structure\n",
    "df.printSchema()"
   ]
  },
  {
   "cell_type": "code",
   "execution_count": 0,
   "metadata": {
    "application/vnd.databricks.v1+cell": {
     "cellMetadata": {
      "byteLimit": 2048000,
      "rowLimit": 10000
     },
     "inputWidgets": {},
     "nuid": "6db4cf86-ff3b-4315-bf4d-16a75fafcd2c",
     "showTitle": false,
     "tableResultSettingsMap": {},
     "title": ""
    }
   },
   "outputs": [],
   "source": [
    "from pyspark.sql.functions import from_json, col\n",
    "from pyspark.sql.types import StructType, StructField, StringType, ArrayType, BooleanType, TimestampType\n",
    "from pyspark.sql.types import *\n",
    "\n",
    "# Define schema based on DBFS JSON\n",
    "schema = StructType([\n",
    "    StructField(\"contentDetails\", StructType([\n",
    "        StructField(\"caption\", StringType(), True),\n",
    "        StructField(\"definition\", StringType(), True),\n",
    "        StructField(\"dimension\", StringType(), True),\n",
    "        StructField(\"duration\", StringType(), True),\n",
    "        StructField(\"licensedContent\", BooleanType(), True),\n",
    "        StructField(\"projection\", StringType(), True),\n",
    "        StructField(\"regionRestriction\", StructType([\n",
    "            StructField(\"allowed\", ArrayType(StringType()), True)\n",
    "        ]), True)\n",
    "    ]), True),\n",
    "\n",
    "    StructField(\"etag\", StringType(), True),\n",
    "    StructField(\"id\", StringType(), True),\n",
    "    StructField(\"kind\", StringType(), True),\n",
    "\n",
    "    StructField(\"snippet\", StructType([\n",
    "        StructField(\"categoryId\", StringType(), True),\n",
    "        StructField(\"channelId\", StringType(), True),\n",
    "        StructField(\"channelTitle\", StringType(), True),\n",
    "        StructField(\"defaultAudioLanguage\", StringType(), True),\n",
    "        StructField(\"defaultLanguage\", StringType(), True),\n",
    "        StructField(\"description\", StringType(), True),\n",
    "        StructField(\"liveBroadcastContent\", StringType(), True),\n",
    "        StructField(\"localized\", StructType([\n",
    "            StructField(\"description\", StringType(), True),\n",
    "            StructField(\"title\", StringType(), True)\n",
    "        ]), True),\n",
    "        StructField(\"publishedAt\", StringType(), True),\n",
    "        StructField(\"tags\", ArrayType(StringType()), True),\n",
    "        StructField(\"thumbnails\", StructType([\n",
    "            StructField(\"default\", StructType([\n",
    "                StructField(\"height\", LongType(), True),\n",
    "                StructField(\"url\", StringType(), True),\n",
    "                StructField(\"width\", LongType(), True)\n",
    "            ]), True),\n",
    "            StructField(\"high\", StructType([\n",
    "                StructField(\"height\", LongType(), True),\n",
    "                StructField(\"url\", StringType(), True),\n",
    "                StructField(\"width\", LongType(), True)\n",
    "            ]), True),\n",
    "            StructField(\"maxres\", StructType([\n",
    "                StructField(\"height\", LongType(), True),\n",
    "                StructField(\"url\", StringType(), True),\n",
    "                StructField(\"width\", LongType(), True)\n",
    "            ]), True),\n",
    "            StructField(\"medium\", StructType([\n",
    "                StructField(\"height\", LongType(), True),\n",
    "                StructField(\"url\", StringType(), True),\n",
    "                StructField(\"width\", LongType(), True)\n",
    "            ]), True),\n",
    "            StructField(\"standard\", StructType([\n",
    "                StructField(\"height\", LongType(), True),\n",
    "                StructField(\"url\", StringType(), True),\n",
    "                StructField(\"width\", LongType(), True)\n",
    "            ]), True)\n",
    "        ]), True),\n",
    "        StructField(\"title\", StringType(), True)\n",
    "    ]), True),\n",
    "\n",
    "    StructField(\"statistics\", StructType([\n",
    "        StructField(\"commentCount\", StringType(), True),\n",
    "        StructField(\"favoriteCount\", StringType(), True),\n",
    "        StructField(\"likeCount\", StringType(), True),\n",
    "        StructField(\"viewCount\", StringType(), True)\n",
    "    ]), True),\n",
    "])\n",
    "\n"
   ]
  },
  {
   "cell_type": "code",
   "execution_count": 0,
   "metadata": {
    "application/vnd.databricks.v1+cell": {
     "cellMetadata": {
      "byteLimit": 2048000,
      "rowLimit": 10000
     },
     "inputWidgets": {},
     "nuid": "2c05d26a-b95d-4990-b245-0204e1b0f589",
     "showTitle": false,
     "tableResultSettingsMap": {},
     "title": ""
    }
   },
   "outputs": [
    {
     "output_type": "stream",
     "name": "stdout",
     "output_type": "stream",
     "text": [
      "root\n |-- _id: string (nullable = true)\n |-- _fivetran_synced: timestamp (nullable = true)\n |-- data: string (nullable = true)\n |-- _fivetran_deleted: boolean (nullable = true)\n |-- json: struct (nullable = true)\n |    |-- contentDetails: struct (nullable = true)\n |    |    |-- caption: string (nullable = true)\n |    |    |-- definition: string (nullable = true)\n |    |    |-- dimension: string (nullable = true)\n |    |    |-- duration: string (nullable = true)\n |    |    |-- licensedContent: boolean (nullable = true)\n |    |    |-- projection: string (nullable = true)\n |    |    |-- regionRestriction: struct (nullable = true)\n |    |    |    |-- allowed: array (nullable = true)\n |    |    |    |    |-- element: string (containsNull = true)\n |    |-- etag: string (nullable = true)\n |    |-- id: string (nullable = true)\n |    |-- kind: string (nullable = true)\n |    |-- snippet: struct (nullable = true)\n |    |    |-- categoryId: string (nullable = true)\n |    |    |-- channelId: string (nullable = true)\n |    |    |-- channelTitle: string (nullable = true)\n |    |    |-- defaultAudioLanguage: string (nullable = true)\n |    |    |-- defaultLanguage: string (nullable = true)\n |    |    |-- description: string (nullable = true)\n |    |    |-- liveBroadcastContent: string (nullable = true)\n |    |    |-- localized: struct (nullable = true)\n |    |    |    |-- description: string (nullable = true)\n |    |    |    |-- title: string (nullable = true)\n |    |    |-- publishedAt: string (nullable = true)\n |    |    |-- tags: array (nullable = true)\n |    |    |    |-- element: string (containsNull = true)\n |    |    |-- thumbnails: struct (nullable = true)\n |    |    |    |-- default: struct (nullable = true)\n |    |    |    |    |-- height: long (nullable = true)\n |    |    |    |    |-- url: string (nullable = true)\n |    |    |    |    |-- width: long (nullable = true)\n |    |    |    |-- high: struct (nullable = true)\n |    |    |    |    |-- height: long (nullable = true)\n |    |    |    |    |-- url: string (nullable = true)\n |    |    |    |    |-- width: long (nullable = true)\n |    |    |    |-- maxres: struct (nullable = true)\n |    |    |    |    |-- height: long (nullable = true)\n |    |    |    |    |-- url: string (nullable = true)\n |    |    |    |    |-- width: long (nullable = true)\n |    |    |    |-- medium: struct (nullable = true)\n |    |    |    |    |-- height: long (nullable = true)\n |    |    |    |    |-- url: string (nullable = true)\n |    |    |    |    |-- width: long (nullable = true)\n |    |    |    |-- standard: struct (nullable = true)\n |    |    |    |    |-- height: long (nullable = true)\n |    |    |    |    |-- url: string (nullable = true)\n |    |    |    |    |-- width: long (nullable = true)\n |    |    |-- title: string (nullable = true)\n |    |-- statistics: struct (nullable = true)\n |    |    |-- commentCount: string (nullable = true)\n |    |    |-- favoriteCount: string (nullable = true)\n |    |    |-- likeCount: string (nullable = true)\n |    |    |-- viewCount: string (nullable = true)\n\n"
     ]
    }
   ],
   "source": [
    "from pyspark.sql.functions import from_json, col\n",
    "\n",
    "# Parse JSON string into struct\n",
    "parsed_df = df.withColumn(\"json\", from_json(col(\"data\"), schema))\n",
    "\n",
    "parsed_df.printSchema()\n"
   ]
  },
  {
   "cell_type": "code",
   "execution_count": 0,
   "metadata": {
    "application/vnd.databricks.v1+cell": {
     "cellMetadata": {
      "byteLimit": 2048000,
      "rowLimit": 10000
     },
     "inputWidgets": {},
     "nuid": "b6e4ae16-ff34-4007-9a2e-7f7b73f1c042",
     "showTitle": false,
     "tableResultSettingsMap": {},
     "title": ""
    }
   },
   "outputs": [
    {
     "output_type": "stream",
     "name": "stdout",
     "output_type": "stream",
     "text": [
      "+-----------+--------------------+------------------------+------------------------+--------------------------------------------------------------------------------------------------+-----------------------------------------------------------------------------------------------------------------------------------------------------------------------------------------------------------------------------------------------------------------------------------------------------------------------------------------------------------------------------------------------------------------------------------------------------------------------------------------------------------------------------------------------------------------------------------------------------------------------------------------------------------------------------------------------------------------------------------------------------------------------------------------------------------------------------------------------------------------------------------------------------------------------------------------------------------------------------------------------------------------------------------------------------------------------------------------------------------------------------------------------------------------------------------------------------------------------------------------------------------------------------------------------------------------------------------------------------------------------------------------------------------------------------------------------------------------------------------------------------------------------------------------------------------------------------------------------------------------------------------------------------------------------------------------------------------------------------------------------------------------------------------------------------------------------------------------------------------------------------------------------------------------------------------------------------------------------------------------------------------------------------------------------------------------------------------------------------------------------------------------------------------------------------------------------------------------------------------------------------------------------------------------------------------------------------------------------------------------------------------------------------------------------------------------------------------------------------------------------------------------------------------------------------------------------------------------------------------------------------------------------------------------------------------------------------------------------------------------------------------------------------------------------------------------------------------------------------------------------------------------------------------------------------------------------------------------------------------------------------------------------------------------------------------------------------------------------------------------------------------------------------------------------------------------------+----------+-----------------------------------------------------------------------------------------------------------------------------------------------------------------------------------------------------------------------------------------------------------------------------------------------------------------------------------------------------------------------------------------------------------------------------------------------------------------------------------------------------+---------------+--------------------+---------+---------+------------+----------+-------+\n|id         |publishedAt         |channelId               |channelTitle            |title                                                                                             |description                                                                                                                                                                                                                                                                                                                                                                                                                                                                                                                                                                                                                                                                                                                                                                                                                                                                                                                                                                                                                                                                                                                                                                                                                                                                                                                                                                                                                                                                                                                                                                                                                                                                                                                                                                                                                                                                                                                                                                                                                                                                                                                                                                                                                                                                                                                                                                                                                                                                                                                                                                                                                                                                                                                                                                                                                                                                                                                                                                                                                                                                                                                                                                                    |categoryId|tags                                                                                                                                                                                                                                                                                                                                                                                                                                                                                                 |defaultLanguage|defaultAudioLanguage|viewCount|likeCount|commentCount|duration  |caption|\n+-----------+--------------------+------------------------+------------------------+--------------------------------------------------------------------------------------------------+-----------------------------------------------------------------------------------------------------------------------------------------------------------------------------------------------------------------------------------------------------------------------------------------------------------------------------------------------------------------------------------------------------------------------------------------------------------------------------------------------------------------------------------------------------------------------------------------------------------------------------------------------------------------------------------------------------------------------------------------------------------------------------------------------------------------------------------------------------------------------------------------------------------------------------------------------------------------------------------------------------------------------------------------------------------------------------------------------------------------------------------------------------------------------------------------------------------------------------------------------------------------------------------------------------------------------------------------------------------------------------------------------------------------------------------------------------------------------------------------------------------------------------------------------------------------------------------------------------------------------------------------------------------------------------------------------------------------------------------------------------------------------------------------------------------------------------------------------------------------------------------------------------------------------------------------------------------------------------------------------------------------------------------------------------------------------------------------------------------------------------------------------------------------------------------------------------------------------------------------------------------------------------------------------------------------------------------------------------------------------------------------------------------------------------------------------------------------------------------------------------------------------------------------------------------------------------------------------------------------------------------------------------------------------------------------------------------------------------------------------------------------------------------------------------------------------------------------------------------------------------------------------------------------------------------------------------------------------------------------------------------------------------------------------------------------------------------------------------------------------------------------------------------------------------------------------+----------+-----------------------------------------------------------------------------------------------------------------------------------------------------------------------------------------------------------------------------------------------------------------------------------------------------------------------------------------------------------------------------------------------------------------------------------------------------------------------------------------------------+---------------+--------------------+---------+---------+------------+----------+-------+\n|kb9RvtiQVWk|2025-08-09T04:23:16Z|UCKqH_9mk1waLgBiL2vT5b9g|VanossGaming            |GTA5 - Car Roulette Returns and Animal Safari... ENHANCED!! (Funny Moments)                       |Outro Song: https://www.youtube.com/watch?v=o1rEmrpe7Uo\\nVanoss Merch HERE!: https://vanoss.3blackdot.com/\\n\\nPersonal Twitter - https://twitter.com/evanfong\\nPersonal Instagram - https://www.instagram.com/evanfong/\\nVanossGaming Twitter - http://twitter.com/#!/VanossGaming\\nVanossGaming Instagram - http://instagram.com/vanossinstagram\\nVanossGaming TikTok: https://www.tiktok.com/@vanossontiktok\\nVanossGaming Facebook Page - http://www.facebook.com/VanossGaming\\n\\nFriends in Video: \\n\\nPasta - @PastaReacts \\nLui Calibre - @KingLuiCalibre \\nWildcat - @wildcat \\nTerroriser - @Terroriser \\nH2O Delirious - @H2ODelirious \\n\\nPlease Ignore or flag spam, negative, or hateful comments.  We're here to have a good time.  Thanks everyone, and enjoy :]                                                                                                                                                                                                                                                                                                                                                                                                                                                                                                                                                                                                                                                                                                                                                                                                                                                                                                                                                                                                                                                                                                                                                                                                                                                                                                                                                                                                                                                                                                                                                                                                                                                                                                                                                                                                                                                                                                                                                                                                                                                                                                                                                                                                                                                                                                                                                                                                                 |20        |[Funny Moments, Montage video games, gaming, Vanoss, VanossGaming, Gameplay, Secret, Puncake, Parody, Comedy, Remix, Epic, Trolling, Xbox One, MultiplayerPS4, Funtage]                                                                                                                                                                                                                                                                                                                              |en             |en                  |770446   |46034    |1700        |PT31M3S   |false  |\n|w-nwpNtGLPE|2025-08-09T08:20:46Z|UCRkuUgtDAL4XSU5jB40J_wA|Foltyn                  |Pretending To Be A DRAGON CANNELLONI In Steal A Brainrot..                                        |Today I pretended To Be The DRAGON CANNELLONI In Steal A Brainrot. Make sure you watch the whole video to find out what happens.\\n\\nFOLTYN PLUSHYS: https://shop.junipercreates.com/channel/UCRkuUgtDAL4XSU5jB40J_wA/p/7351840964799\\n\\nJoin this channel to get access to perks:\\nhttps://www.youtube.com/channel/UCRkuUgtDAL4XSU5jB40J_wA/join\\n\\n--Socials--\\n\\nDiscord: https://discord.gg/hqwZhrkqRr\\n\\nRoblox Group: https://www.roblox.com/groups/11775558/Foltyns-Family#!/about\\n\\nRoblox Name: TheRealFoltyn\\n\\nInsta: https://www.instagram.com/realfoltyn/\\n\\nTwitter: https://twitter.com/Foltynnn\\n\\nWhat is Roblox? ROBLOX is an online virtual playground and workshop, where kids of all ages can safely interact, create, have fun, and learn. It’s unique in that practically everything on ROBLOX is designed and constructed by members of the community. ROBLOX is designed for 13 to 18 year olds, but it is open to people of all ages. Each player starts by choosing an avatar and giving it an identity. They can then explore ROBLOX — interacting with others by chatting, playing games, or collaborating on creative projects. Each player is also given their own piece of undeveloped real estate along with a virtual toolbox with which to design and build anything — be it a navigable skyscraper, a working helicopter, a giant pinball machine, a multiplayer “Capture the Flag” game or some other, yet-to-be-dreamed-up creation. There is no cost for this first plot of virtual land. By participating and by building cool stuff, ROBLOX members can earn specialty badges as well as ROBLOX dollars (“Robux”). In turn, they can shop the online catalog to purchase avatar clothing and accessories as well as premium building materials, interactive components, and working mechanisms.\\n\\n#Roblox #foltyn                                                                                                                                                                                                                                                                                                                                                                                                                                                                                                                                                                                                                                                                                                                                                                                                                                                                                                                                                                                                                                                                                                                                                                                                                                                                                                                                    |20        |[foltyn, foltyn roblox, family friendly, roblox, roblox foltyn, foltyn family, funny, no swearing, foltyn family roblox, roblox foltyn family, blade ball, roblox blade ball, foltyn blade ball, kid friendly, roblox steal a brainrot, steal a brainrot in roblox, Spending $9382356 For The DRAGON CANNELLONI In Steal A Brainrot.., I STOLE THE 12 NEWEST BRAINROTS.., I Stole 6 NEWEST Brainrots..]                                                                                              |NULL           |en-US               |798010   |16290    |2553        |PT14M59S  |false  |\n|zTMb31shzqg|2025-08-08T04:01:30Z|UCAkIMkEaa9sZmjcy7mfd5lQ|Gunna                   |Gunna - at my purest (feat. Offset) [Official Visualizer]                                         |The official visualizer for Gunna's \"at my purest\" featuring @OFFSETYRN - OUT NOW!\\n\\nStream \"The Last Wun\": https://gunna.lnk.to/thelastwun\\n\\nShop Official Merch: https://gunnawunna.com/\\n\\nFollow Gunna:\\nhttps://only1gunna.com/\\nhttps://www.instagram.com/gunna/\\nhttps://twitter.com/1GunnaGunna\\nhttps://www.tiktok.com/@gunna\\nhttps://www.facebook.com/gunnaofficial/\\nhttps://soundcloud.com/gunna\\n\\n℗ 2025 Young Stoner Life Records / 300 Entertainment\\n\\n#Gunna #atmypurest #Offset #OfficialVisualizer #TheLastWun \\n\\n_\\n\\nLyrics:\\n\\nRun that back, Turbo\\n\\nOverseas in Europe, I hit Zurich, bought a watch\\nKicking it my purest, my influence worth a lot\\nBought my bitch the urus that I skirt to that drop\\nBetter see my jewelry, that shit blurry, at the top\\nTop, top, top, top\\nI'm kicking it at the top\\nT-O-P, I'm up\\nEyes on me like Pac\\nPush one up whenever I walk\\nCan't touch me I'm too hot\\nHunnids inside of a vault\\nMans is covered in croc\\nCroc\\nAlligator or Croc\\nHuman ain't no telling\\nYoung GunnaWun for president, let my ho go presi'\\nCountin' up stackin' these presidents, know this shit get treacherous\\n\\nWake up takin' these chances\\nBusiness man I barely drive I bought me two new Caddys\\nGot acres I can sell you land, costs at least two Patek's\\nLS state behind the gate, don't let 'em know my addy\\nPretty face from 'round the way, come play I do her nasty\\nPlain jane I ain't flashy\\nGucci shorts they khaki\\nFucking a slut accountant bitch she help me lower my taxes\\nYoung Gunna wunna a chest set up in …. On top my jacket\\nCaviar the riviar of France, they stuffin my passes\\n\\nOverseas in Europe, I hit Zurich, bought a watch\\nKicking it my purest, my influence worth a lot\\nBought my bitch the urus that I skirt to that drop\\nBetter see my jewelry, my shit blurry, at the top\\nTop, top\\nI'm kicking it at the top\\nT-O-P, I'm up\\nEyes on me like Pac\\nPush one up I walk\\nCan't touch me I'm too hot\\nHunnids inside of a vault, man is covered in Croc\\n\\nRockstar grab my crotch\\nRick Owen high tops\\nI go in Miami, Kawasaki with two thots\\nShe fuck with the top\\nCashed out ice me out\\nBurnt that nigga's chop\\nI did this shit for granny, look down my wrist is a Grammy\\nPrincess like diani, introduce her to my family\\nFlower she my dandy, but don't come for not at all\\nI ain't going at all, I took out the brain and tore down on 'em all\\nPlain Jane I let it went froze, this shit is insane they thought I would fall\\nThe flames come out the exhaust, the Ferrari spider, it climb up the wall\\nShe learnin' to deal with a dog\\nThe double R star see Mars\\nI told her to beat it, get off me\\nI only be fucking with stars\\nI got in my groove like Austin\\n\\nOverseas in Europe, I hit Zurich, bought a watch\\nKicking it my purest, my influence worth a lot\\nBought my bitch the urus that I skirt to that drop\\nBetter see my jewelry, my shit blurry, at the top\\nTop, top\\nI'm kicking it at the top\\nT-O-P, I'm up\\nEyes on me like Pac\\nPush up whenever I walk\\nCan't touch me I'm too hot\\nHunnids inside of a vault, Mans is covered in Croc\\nCroc|10        |[Gunna, YSL, YSL Gunna, Rap Music, Atlanta, Hip Hop, Drip Season, Drip, Fashion, Atlanta Rap, Atlanta Rap Music, Worldstarhiphop, The Fader, Wunna, the last wun, The Last Wun, gunna the last wun, the last wun gunna, gunna new album, gunna album, Gunna - at my purest (feat. Offset) [Official Visualizer], gunna at my purest ft offset, at my purest gunna ft offset, offset, gunna ft offset, gunna at my purest, at my purest gunna, at my purest, gunna and offset, at my purest offset]   |en             |en                  |419239   |15519    |938         |PT3M14S   |false  |\n|aKP05yxnIZg|2025-08-07T10:02:03Z|UCXfrOptKcBwWzjY0wBXjj8A|El Fantasma - Topic     |La Lotería                                                                                        |Provided to YouTube by Afinarte Music\\n\\nLa Lotería · El Fantasma\\n\\nLa Lotería\\n\\n℗ Afinarte Music\\n\\nReleased on: 2025-07-08\\n\\nComposer: Alfonso de la Cruz\\nComposer: Julio César Nápoles\\nLyricist: Alfonso de la Cruz\\nLyricist: Julio César Nápoles\\n\\nAuto-generated by YouTube.                                                                                                                                                                                                                                                                                                                                                                                                                                                                                                                                                                                                                                                                                                                                                                                                                                                                                                                                                                                                                                                                                                                                                                                                                                                                                                                                                                                                                                                                                                                                             \n\n*** WARNING: max output size exceeded, skipping output. ***\n\n                                                                                                                                                                                                                                                                                                                                                                                                                                                                                                                                                                                                                                                                                                                                                                                                                                                                                                                                                                                                                                                                                                                                                                                                                                                                                                                                                                                       |20        |[Wolfey, Pokemon, VGC, Wolfe Glick, Competitive Pokemon, Pokemon VGC, pokemon nuzlocke, nuzlocke, ludwig, pokemon challenge, alpharad, wolfeyvgc, purplecliffe, pm7, pokemen7, mandjtv, shiny pokemon, pokemon scarlet, pokemon violet, scarlet, violet, scarlet and violet, Legends ZA, Pokemon Champions, Champions, Pokemon Legends, Xerneas, Pokemon Worlds, strongest Pokemon, best Pokemon, pokemon fail, worst pokemon, pokemon failure, pokemon leaks, pokemon gameplay]                     |NULL           |en                  |434901   |24647    |1421        |PT27M28S  |true   |\n|EGhg-gfp4XM|2025-08-05T00:02:46Z|UCtPkOPsVxV6wG2M2xoIE4hg|Edén Muñoz - Topic      |Te Juro Que Te Amo                                                                                |Provided to YouTube by EMC Music/Sony Music México\\n\\nTe Juro Que Te Amo · Eden Muñoz\\n\\nTe Juro Que Te Amo\\n\\n℗ 2025 Sony Music Entertainment México, S.A. de C.V. Bajo Distribución en Exclusiva por Eden Muñoz by EMC MUSIC, INC.\\n\\nReleased on: 2025-08-04\\n\\nDrums: Brandon López\\nAssociated Performer, Accordion, Producer: Eden Muñoz\\nTuba: Ángel Isaac Muñoz Castro\\nAssociated Performer: Osvaldo Ruiz\\nAssociated Performer: Erick Emanuel Ruíz Ruíz\\nSaxophone: Yovanel Amaya Guzmán\\nVocal: Alejandro Rafael Sanchez Madrigal\\nLyricist, Composer: Giulio Rapetti Mogol\\nLyricist, Composer: Bruno Lauzi\\nLyricist, Composer: Oscar Prudente\\nMixing Engineer, Recording Engineer: Sergio Vargas Medina\\nRecording Engineer: Alejandro Caro\\nRecording Engineer: Daniel Fernández\\nMastering Engineer: Luis F. Herrera\\n\\nAuto-generated by YouTube.                                                                                                                                                                                                                                                                                                                                                                                                                                                                                                                                                                                                                                                                                                                                                                                                                                                                                                                                                                                                                                                                                                                                                                                                                                                                                                                                                                                                                                                                                                                                                                                                                                                                                                                                                                                                                                                                                                                                                                                                                                                                                                                                                                                                                                                                                                                            |10        |[Eden Muñoz, Te Juro Que Te Amo]                                                                                                                                                                                                                                                                                                                                                                                                                                                                     |NULL           |NULL                |205219   |3817     |24          |PT3M29S   |false  |\n|cXVME_UDdmQ|2025-08-08T18:51:37Z|UCEU5ZK7DwN9ppqPFJiGah3A|ElAlfaElJefeTV          |El Alfa \"El Jefe\" x El Shick - K PARA DE QUE | Video Oficial                                      |© 2025 ONE BILLION RECORDS.\\nEl Alfa en colaboración con El Shick interpretan K PARA DE QUE, filmado en Barcelona, España y Miami, Florida bajo la dirección de CREADOR. \\n\\n#KParaDeQue \\n#elalfaeljefe \\n#elshick                                                                                                                                                                                                                                                                                                                                                                                                                                                                                                                                                                                                                                                                                                                                                                                                                                                                                                                                                                                                                                                                                                                                                                                                                                                                                                                                                                                                                                                                                                                                                                                                                                                                                                                                                                                                                                                                                                                                                                                                                                                                                                                                                                                                                                                                                                                                                                                                                                                                                                                                                                                                                                                                                                                                                                                                                                                                                                                                                                            |10        |[Music, Musica, Latino, Latin, Urban, Urbano, Trap, Reggaeton, Dembow, Rap, Hip Hop, Latin Hits, 2019 Hits, Puerto Rico, Dominican Republic, Mexico, Miami, New York, Spain, España, mundial, Republica, dominicana, Republica Dominicana, Fuego, Fire, Bugatti, El Alfa, El Jefe, El Hombre, La leyenda, el androide, el animal, el, criminal, the best]                                                                                                                                            |NULL           |es-419              |654329   |33059    |3172        |PT3M4S    |false  |\n|6BsLfl-93sg|2025-08-09T21:48:01Z|UCzzF1kdBgwv5RB6rbB6kVSA|Tyler & Snowi           |POLAR BEAR vs DEER MONSTER?! Roblox 99 Nights in the Forest                                       |Adopt Your Own TYLER and SNOWI ✨ https://tylerandsnowi.store/ \uD83D\uDC48 Back for a Limited Time ⏰\\nToday in Roblox Tyler & Snowi we're playing 99 DAYS with a POLAR BEAR! \uD83E\uDD76\uD83D\uDC3B‍❄️ Can we learn THE TRUTH BEHIND THE POLAR BEAR and ESCAPE?! This Roblox 99 Nights in the Forest game has SO MANY FUNNY MOMENTS !!  \uD83D\uDC49Don't forget to SUBSCRIBE & leave a like \uD83D\uDC4D if you enjoyed!\\n\\nJoin our Roblox Group here! https://www.roblox.com/groups/15659093/Tyler-and-Snowi\\n\\n#funnymoments #roblox #99nights  \\n[0736]                                                                                                                                                                                                                                                                                                                                                                                                                                                                                                                                                                                                                                                                                                                                                                                                                                                                                                                                                                                                                                                                                                                                                                                                                                                                                                                                                                                                                                                                                                                                                                                                                                                                                                                                                                                                                                                                                                                                                                                                                                                                                                                                                                                                                                                                                                                                                                                                                                                                                                                                                                                                                                                                                   |20        |[roblox, funny moments, tyler and snowi, tyler, snowi, tyler & snowi, funny, moments, roblox funny moments, 99 nights, 99 nights movie, 99 nights story, roblox 99 nights, roblox 99 nights in the forest, 99 nights in the forest roblox, roblox 99 nights kids, roblox 99 nights deer, roblox 99 nights deer story, roblox 100 nights, deer, dog, 99 days with a polar bear, 99 days, 99 days with a polar bear roblox, roblox 99 days with a polar bear, polar bear, roblox 99 days in the forest]|NULL           |en-US               |337154   |9455     |447         |PT15M52S  |false  |\n|L65u1yYWaJk|2025-08-08T23:00:32Z|UCZ3pVT4hv4hgWwHpJHyTNRQ|AfinArte Music          |El Fantasma - La Loteria (Video Oficial)                                                          |Escucha lo mejor de AfinArte Music Aquí  http://bit.ly/LoMejorDeAfinArte\\nSuscríbete a nuestro canal: http://bit.ly/AfinArte\\nDescubre lo mas nuevo de AfinArte Aquí: https://bit.ly/EstrenosAfinArte2023\\n\\nEl Fantasma - La Loteria (Video Oficial)\\n\\nContrataciones: \\nUSA: +1 (714) 345-6352\\nMéxico: +52 (443) 187-8559\\n\\n\\nhttps://facebook.com/AfinArteMusic\\nhttps://instagram.com/AfinArtemusic\\n\\n\\n#AfinArteMusic #México #MusicaMexicana #ElFantasma #LaLoteria                                                                                                                                                                                                                                                                                                                                                                                                                                                                                                                                                                                                                                                                                                                                                                                                                                                                                                                                                                                                                                                                                                                                                                                                                                                                                                                                                                                                                                                                                                                                                                                                                                                                                                                                                                                                                                                                                                                                                                                                                                                                                                                                                                                                                                                                                                                                                                                                                                                                                                                                                                                                                                                                                                                  |10        |[afinarte, music]                                                                                                                                                                                                                                                                                                                                                                                                                                                                                    |NULL           |es                  |73294    |2260     |53          |PT2M56S   |false  |\n|dm1fW0TbKq4|2025-08-09T20:24:37Z|UCXBE_QQSZueB8082ml5fslg|TimTheTatman            |$1,000,000 EWC WARZONE GRAND FINALS WATCH PARTY                                                   |https://esportsworldcup.com/en #ad\\n\\n\uD83D\uDCAA BECOME A MEMBER OF THE STREAM - https://youtube.com/timthetatman/join\\n\\n\uD83D\uDCB0 DONATE: https://streamelements.com/timthetatman/tip\\n\\n\uD83D\uDC49 JOIN THE DISCORD: https://discord.gg/timthetatman \\n\\n\uD83C\uDFA5 More TimTheTatman: https://youtube.com/MoreTimTheTatman\\n\uD83C\uDFA5 TimTheTatman Two: https://youtube.com/TimTheTatmanTwo\\n\uD83C\uDFA5 TimTheTatman VODs: https://youtube.com/TimTheTatmanVODs\\n\uD83C\uDFA5 TimTheTatman Shorts: https://youtube.com/TimTheTatmanShorts\\n\\n▶️GET CONNECTED:\\n\uD83D\uDCBBWebsite | https://timthetatman.com\\n\uD83D\uDC26Twitter | https://twitter.com/timthetatman\\n\uD83D\uDCF7Instagram | https://www.instagram.com/timthetatman/\\n\uD83D\uDCF1TikTok  | https://tiktok.com/@timthetatman\\n\\n\uD83D\uDD25SPONSORS:\\nRazer | https://bit.ly/TimRazer - USE CODE TIM5\\nMountain Dew | https://mtndewgaming.com/\\nFanDuel | https://www.fanduel.com/tatmansbk                                                                                                                                                                                                                                                                                                                                                                                                                                                                                                                                                                                                                                                                                                                                                                                                                                                                                                                                                                                                                                                                                                                                                                                                                                                                                                                                                                                                                                                                                                                                                                                                                                                                                                                                                                                                                                                                                                                                                                                                                                                                                                                                                                                                                                                                                                                                      |20        |[timthetatman, tatmanarmy, tim, the, tat, man, timthetatman ninja, nickmercs, funny moments, gameplay, compilation, funny, fat, streamer, spectating solos, warzone hacker, warzone cheater, cheater, hacker, solos, warzone solo, warzone solos, tim solos, tim the tatman, timthetatman spectates, timthetatman highlights, timthetatman moments, warzone spectating, best of, best of timthetatman, best of tim, timthetatman funny, timthetatman solo, LIVE, LIVESTREAM, STREAM]                 |NULL           |NULL                |149064   |1923     |23          |PT3H11M51S|false  |\n+-----------+--------------------+------------------------+------------------------+--------------------------------------------------------------------------------------------------+-----------------------------------------------------------------------------------------------------------------------------------------------------------------------------------------------------------------------------------------------------------------------------------------------------------------------------------------------------------------------------------------------------------------------------------------------------------------------------------------------------------------------------------------------------------------------------------------------------------------------------------------------------------------------------------------------------------------------------------------------------------------------------------------------------------------------------------------------------------------------------------------------------------------------------------------------------------------------------------------------------------------------------------------------------------------------------------------------------------------------------------------------------------------------------------------------------------------------------------------------------------------------------------------------------------------------------------------------------------------------------------------------------------------------------------------------------------------------------------------------------------------------------------------------------------------------------------------------------------------------------------------------------------------------------------------------------------------------------------------------------------------------------------------------------------------------------------------------------------------------------------------------------------------------------------------------------------------------------------------------------------------------------------------------------------------------------------------------------------------------------------------------------------------------------------------------------------------------------------------------------------------------------------------------------------------------------------------------------------------------------------------------------------------------------------------------------------------------------------------------------------------------------------------------------------------------------------------------------------------------------------------------------------------------------------------------------------------------------------------------------------------------------------------------------------------------------------------------------------------------------------------------------------------------------------------------------------------------------------------------------------------------------------------------------------------------------------------------------------------------------------------------------------------------------------------------+----------+-----------------------------------------------------------------------------------------------------------------------------------------------------------------------------------------------------------------------------------------------------------------------------------------------------------------------------------------------------------------------------------------------------------------------------------------------------------------------------------------------------+---------------+--------------------+---------+---------+------------+----------+-------+\nonly showing top 20 rows\n"
     ]
    }
   ],
   "source": [
    "from pyspark.sql.functions import col\n",
    "\n",
    "# Select required fields\n",
    "selected_df = parsed_df.select(\n",
    "    col(\"json.id\").alias(\"id\"),\n",
    "    col(\"json.snippet.publishedAt\").alias(\"publishedAt\"),\n",
    "    col(\"json.snippet.channelId\").alias(\"channelId\"),\n",
    "    col(\"json.snippet.channelTitle\").alias(\"channelTitle\"),\n",
    "    col(\"json.snippet.title\").alias(\"title\"),\n",
    "    col(\"json.snippet.description\").alias(\"description\"),\n",
    "    col(\"json.snippet.categoryId\").alias(\"categoryId\"),\n",
    "    col(\"json.snippet.tags\").alias(\"tags\"),\n",
    "    col(\"json.snippet.defaultLanguage\").alias(\"defaultLanguage\"),\n",
    "    col(\"json.snippet.defaultAudioLanguage\").alias(\"defaultAudioLanguage\"),\n",
    "    col(\"json.statistics.viewCount\").alias(\"viewCount\"),\n",
    "    col(\"json.statistics.likeCount\").alias(\"likeCount\"),\n",
    "    col(\"json.statistics.commentCount\").alias(\"commentCount\"),\n",
    "    col(\"json.contentDetails.duration\").alias(\"duration\"),\n",
    "    col(\"json.contentDetails.caption\").alias(\"caption\")\n",
    ")\n",
    "\n",
    "selected_df.show(truncate=False)\n"
   ]
  },
  {
   "cell_type": "code",
   "execution_count": 0,
   "metadata": {
    "application/vnd.databricks.v1+cell": {
     "cellMetadata": {
      "byteLimit": 2048000,
      "rowLimit": 10000
     },
     "inputWidgets": {},
     "nuid": "84468c33-761b-490b-b9ff-457060e65163",
     "showTitle": false,
     "tableResultSettingsMap": {},
     "title": ""
    }
   },
   "outputs": [
    {
     "output_type": "stream",
     "name": "stdout",
     "output_type": "stream",
     "text": [
      "root\n |-- id: string (nullable = true)\n |-- publishedAt: string (nullable = true)\n |-- channelId: string (nullable = true)\n |-- channelTitle: string (nullable = true)\n |-- title: string (nullable = true)\n |-- description: string (nullable = true)\n |-- categoryId: string (nullable = true)\n |-- tags: array (nullable = true)\n |    |-- element: string (containsNull = true)\n |-- defaultLanguage: string (nullable = true)\n |-- defaultAudioLanguage: string (nullable = true)\n |-- viewCount: string (nullable = true)\n |-- likeCount: string (nullable = true)\n |-- commentCount: string (nullable = true)\n |-- duration: string (nullable = true)\n |-- caption: string (nullable = true)\n\n"
     ]
    }
   ],
   "source": [
    "selected_df.printSchema()"
   ]
  },
  {
   "cell_type": "code",
   "execution_count": 0,
   "metadata": {
    "application/vnd.databricks.v1+cell": {
     "cellMetadata": {
      "byteLimit": 2048000,
      "rowLimit": 10000
     },
     "inputWidgets": {},
     "nuid": "708c522f-f3e7-4c54-8551-effa49c5a8e9",
     "showTitle": false,
     "tableResultSettingsMap": {},
     "title": ""
    }
   },
   "outputs": [],
   "source": [
    "from pyspark.sql.functions import col, when\n",
    "\n",
    "casted_df2 = selected_df.withColumn(\"viewCount\", when(col(\"viewCount\") != \"\", col(\"viewCount\").cast(\"int\")).otherwise(None)) \\\n",
    "                       .withColumn(\"likeCount\", when(col(\"likeCount\") != \"\", col(\"likeCount\").cast(\"int\")).otherwise(None)) \\\n",
    "                       .withColumn(\"commentCount\", when(col(\"commentCount\") != \"\", col(\"commentCount\").cast(\"int\")).otherwise(None))\n",
    "\n"
   ]
  },
  {
   "cell_type": "code",
   "execution_count": 0,
   "metadata": {
    "application/vnd.databricks.v1+cell": {
     "cellMetadata": {
      "byteLimit": 2048000,
      "rowLimit": 10000
     },
     "inputWidgets": {},
     "nuid": "700f12bc-4368-431b-9808-d450c3db9e0b",
     "showTitle": false,
     "tableResultSettingsMap": {},
     "title": ""
    }
   },
   "outputs": [
    {
     "output_type": "stream",
     "name": "stdout",
     "output_type": "stream",
     "text": [
      "root\n |-- id: string (nullable = true)\n |-- publishedAt: string (nullable = true)\n |-- channelId: string (nullable = true)\n |-- channelTitle: string (nullable = true)\n |-- title: string (nullable = true)\n |-- description: string (nullable = true)\n |-- categoryId: string (nullable = true)\n |-- tags: array (nullable = true)\n |    |-- element: string (containsNull = true)\n |-- defaultLanguage: string (nullable = true)\n |-- defaultAudioLanguage: string (nullable = true)\n |-- viewCount: integer (nullable = true)\n |-- likeCount: integer (nullable = true)\n |-- commentCount: integer (nullable = true)\n |-- duration: string (nullable = true)\n |-- caption: string (nullable = true)\n\n"
     ]
    }
   ],
   "source": [
    "casted_df2.printSchema()"
   ]
  },
  {
   "cell_type": "code",
   "execution_count": 0,
   "metadata": {
    "application/vnd.databricks.v1+cell": {
     "cellMetadata": {
      "byteLimit": 2048000,
      "rowLimit": 10000
     },
     "inputWidgets": {},
     "nuid": "178c42e2-b6a8-4cd6-a787-7a270d017098",
     "showTitle": false,
     "tableResultSettingsMap": {},
     "title": ""
    }
   },
   "outputs": [
    {
     "output_type": "stream",
     "name": "stdout",
     "output_type": "stream",
     "text": [
      "-RECORD 0-------------------------------------------------------------------------------------------------------------------------------------------------------------------------------------------------------------------------------------------------------------------------------------------------------------------------------------------------------------------------------------------------------------------------------------------------------------------------------------------------------------------------------------------------------------------------------------------------------------------------------------------------------------------------------------------------------------------------------------------------------------------------------------------------------------------------------------------------------------------------------------------------------------------------------------------------------------------------------------------------------------------------------------------------------------------------------------------------------------------------------------------------------------------------------------------------------------------------------------------------------------------------------------------------------------------------------------------------------------------------------------------------------------------------------------------------------------------------------------------------------------------------------------------------------------------------------------------------------------------------------------------------------------------------------------------------------------------------------------------------------------------------------------------------------------------------------------------------------------------------------------------------------------------------------------------------------------------------------------------------------------------------------------------------------------------------------------------------------------------------------------------------------------------------------------------------------------------------------------------------------------------------------------------------------------------------------------------------------------------------------------------------------------------------------------------------------------------------------------------------------------------------------------------------------------------------------------------------------------------------------------------------------------------------------------------------------------------------------------------------------------------------------------------------------------------------------------------------------------------------------------------------------------------------------------------------------------------------------------------------------------------------------------------------------------------------------------------------------------------------------------------------------------------------------------------------------\n viewCount    | 770446                                                                                                                                                                                                                                                                                                                                                                                                                                                                                                                                                                                                                                                                                                                                                                                                                                                                                                                                                                                                                                                                                                                                                                                                                                                                                                                                                                                                                                                                                                                                                                                                                                                                                                                                                                                                                                                                                                                                                                                                                                                                                                                                                                                                                                                                                                                                                                                                                                                                                                                                                                                                                                                                                                                                                                                                                                                                                                                                                                                                                                                                                                                                                                                          \n likeCount    | 46034                                                                                                                                                                                                                                                                                                                                                                                                                                                                                                                                                                                                                                                                                                                                                                                                                                                                                                                                                                                                                                                                                                                                                                                                                                                                                                                                                                                                                                                                                                                                                                                                                                                                                                                                                                                                                                                                                                                                                                                                                                                                                                                                                                                                                                                                                                                                                                                                                                                                                                                                                                                                                                                                                                                                                                                                                                                                                                                                                                                                                                                                                                                                                                                           \n commentCount | 1700                                                                                                                                                                                                                                                                                                                                                                                                                                                                                                                                                                                                                                                                                                                                                                                                                                                                                                                                                                                                                                                                                                                                                                                                                                                                                                                                                                                                                                                                                                                                                                                                                                                                                                                                                                                                                                                                                                                                                                                                                                                                                                                                                                                                                                                                                                                                                                                                                                                                                                                                                                                                                                                                                                                                                                                                                                                                                                                                                                                                                                                                                                                                                                                            \n duration     | PT31M3S                                                                                                                                                                                                                                                                                                                                                                                                                                                                                                                                                                                                                                                                                                                                                                                                                                                                                                                                                                                                                                                                                                                                                                                                                                                                                                                                                                                                                                                                                                                                                                                                                                                                                                                                                                                                                                                                                                                                                                                                                                                                                                                                                                                                                                                                                                                                                                                                                                                                                                                                                                                                                                                                                                                                                                                                                                                                                                                                                                                                                                                                                                                                                                                         \n publishedAt  | 2025-08-09T04:23:16Z                                                                                                                                                                                                                                                                                                                                                                                                                                                                                                                                                                                                                                                                                                                                                                                                                                                                                                                                                                                                                                                                                                                                                                                                                                                                                                                                                                                                                                                                                                                                                                                                                                                                                                                                                                                                                                                                                                                                                                                                                                                                                                                                                                                                                                                                                                                                                                                                                                                                                                                                                                                                                                                                                                                                                                                                                                                                                                                                                                                                                                                                                                                                                                            \n channelTitle | VanossGaming                                                                                                                                                                                                                                                                                                                                                                                                                                                                                                                                                                                                                                                                                                                                                                                                                                                                                                                                                                                                                                                                                                                                                                                                                                                                                                                                                                                                                                                                                                                                                                                                                                                                                                                                                                                                                                                                                                                                                                                                                                                                                                                                                                                                                                                                                                                                                                                                                                                                                                                                                                                                                                                                                                                                                                                                                                                                                                                                                                                                                                                                                                                                                                                    \n title        | GTA5 - Car Roulette Returns and Animal Safari... ENHANCED!! (Funny Moments)                                                                                                                                                                                                                                                                                                                                                                                                                                                                                                                                                                                                                                                                                                                                                                                                                                                                                                                                                                                                                                                                                                                                                                                                                                                                                                                                                                                                                                                                                                                                                                                                                                                                                                                                                                                                                                                                                                                                                                                                                                                                                                                                                                                                                                                                                                                                                                                                                                                                                                                                                                                                                                                                                                                                                                                                                                                                                                                                                                                                                                                                                                                     \n categoryId   | 20                                                                                                                                                                                                                                                                              \n\n*** WARNING: max output size exceeded, skipping output. ***\n\n                                                                                                                                                                                                                                                                       \n likeCount    | 15519                                                                                                                                                                                                                                                                                                                                                                                                                                                                                                                                                                                                                                                                                                                                                                                                                                                                                                                                                                                                                                                                                                                                                                                                                                                                                                                                                                                                                                                                                                                                                                                                                                                                                                                                                                                                                                                                                                                                                                                                                                                                                                                                                                                                                                                                                                                                                                                                                                                                                                                                                                                                                                                                                                                                                                                                                                                                                                                                                                                                                                                                                                                                                                                           \n commentCount | 938                                                                                                                                                                                                                                                                                                                                                                                                                                                                                                                                                                                                                                                                                                                                                                                                                                                                                                                                                                                                                                                                                                                                                                                                                                                                                                                                                                                                                                                                                                                                                                                                                                                                                                                                                                                                                                                                                                                                                                                                                                                                                                                                                                                                                                                                                                                                                                                                                                                                                                                                                                                                                                                                                                                                                                                                                                                                                                                                                                                                                                                                                                                                                                                             \n duration     | PT3M14S                                                                                                                                                                                                                                                                                                                                                                                                                                                                                                                                                                                                                                                                                                                                                                                                                                                                                                                                                                                                                                                                                                                                                                                                                                                                                                                                                                                                                                                                                                                                                                                                                                                                                                                                                                                                                                                                                                                                                                                                                                                                                                                                                                                                                                                                                                                                                                                                                                                                                                                                                                                                                                                                                                                                                                                                                                                                                                                                                                                                                                                                                                                                                                                         \n publishedAt  | 2025-08-08T04:01:30Z                                                                                                                                                                                                                                                                                                                                                                                                                                                                                                                                                                                                                                                                                                                                                                                                                                                                                                                                                                                                                                                                                                                                                                                                                                                                                                                                                                                                                                                                                                                                                                                                                                                                                                                                                                                                                                                                                                                                                                                                                                                                                                                                                                                                                                                                                                                                                                                                                                                                                                                                                                                                                                                                                                                                                                                                                                                                                                                                                                                                                                                                                                                                                                            \n channelTitle | Gunna                                                                                                                                                                                                                                                                                                                                                                                                                                                                                                                                                                                                                                                                                                                                                                                                                                                                                                                                                                                                                                                                                                                                                                                                                                                                                                                                                                                                                                                                                                                                                                                                                                                                                                                                                                                                                                                                                                                                                                                                                                                                                                                                                                                                                                                                                                                                                                                                                                                                                                                                                                                                                                                                                                                                                                                                                                                                                                                                                                                                                                                                                                                                                                                           \n title        | Gunna - at my purest (feat. Offset) [Official Visualizer]                                                                                                                                                                                                                                                                                                                                                                                                                                                                                                                                                                                                                                                                                                                                                                                                                                                                                                                                                                                                                                                                                                                                                                                                                                                                                                                                                                                                                                                                                                                                                                                                                                                                                                                                                                                                                                                                                                                                                                                                                                                                                                                                                                                                                                                                                                                                                                                                                                                                                                                                                                                                                                                                                                                                                                                                                                                                                                                                                                                                                                                                                                                                       \n categoryId   | 10                                                                                                                                                                                                                                                                                                                                                                                                                                                                                                                                                                                                                                                                                                                                                                                                                                                                                                                                                                                                                                                                                                                                                                                                                                                                                                                                                                                                                                                                                                                                                                                                                                                                                                                                                                                                                                                                                                                                                                                                                                                                                                                                                                                                                                                                                                                                                                                                                                                                                                                                                                                                                                                                                                                                                                                                                                                                                                                                                                                                                                                                                                                                                                                              \n description  | The official visualizer for Gunna's \"at my purest\" featuring @OFFSETYRN - OUT NOW!\\n\\nStream \"The Last Wun\": https://gunna.lnk.to/thelastwun\\n\\nShop Official Merch: https://gunnawunna.com/\\n\\nFollow Gunna:\\nhttps://only1gunna.com/\\nhttps://www.instagram.com/gunna/\\nhttps://twitter.com/1GunnaGunna\\nhttps://www.tiktok.com/@gunna\\nhttps://www.facebook.com/gunnaofficial/\\nhttps://soundcloud.com/gunna\\n\\n℗ 2025 Young Stoner Life Records / 300 Entertainment\\n\\n#Gunna #atmypurest #Offset #OfficialVisualizer #TheLastWun \\n\\n_\\n\\nLyrics:\\n\\nRun that back, Turbo\\n\\nOverseas in Europe, I hit Zurich, bought a watch\\nKicking it my purest, my influence worth a lot\\nBought my bitch the urus that I skirt to that drop\\nBetter see my jewelry, that shit blurry, at the top\\nTop, top, top, top\\nI'm kicking it at the top\\nT-O-P, I'm up\\nEyes on me like Pac\\nPush one up whenever I walk\\nCan't touch me I'm too hot\\nHunnids inside of a vault\\nMans is covered in croc\\nCroc\\nAlligator or Croc\\nHuman ain't no telling\\nYoung GunnaWun for president, let my ho go presi'\\nCountin' up stackin' these presidents, know this shit get treacherous\\n\\nWake up takin' these chances\\nBusiness man I barely drive I bought me two new Caddys\\nGot acres I can sell you land, costs at least two Patek's\\nLS state behind the gate, don't let 'em know my addy\\nPretty face from 'round the way, come play I do her nasty\\nPlain jane I ain't flashy\\nGucci shorts they khaki\\nFucking a slut accountant bitch she help me lower my taxes\\nYoung Gunna wunna a chest set up in …. On top my jacket\\nCaviar the riviar of France, they stuffin my passes\\n\\nOverseas in Europe, I hit Zurich, bought a watch\\nKicking it my purest, my influence worth a lot\\nBought my bitch the urus that I skirt to that drop\\nBetter see my jewelry, my shit blurry, at the top\\nTop, top\\nI'm kicking it at the top\\nT-O-P, I'm up\\nEyes on me like Pac\\nPush one up I walk\\nCan't touch me I'm too hot\\nHunnids inside of a vault, man is covered in Croc\\n\\nRockstar grab my crotch\\nRick Owen high tops\\nI go in Miami, Kawasaki with two thots\\nShe fuck with the top\\nCashed out ice me out\\nBurnt that nigga's chop\\nI did this shit for granny, look down my wrist is a Grammy\\nPrincess like diani, introduce her to my family\\nFlower she my dandy, but don't come for not at all\\nI ain't going at all, I took out the brain and tore down on 'em all\\nPlain Jane I let it went froze, this shit is insane they thought I would fall\\nThe flames come out the exhaust, the Ferrari spider, it climb up the wall\\nShe learnin' to deal with a dog\\nThe double R star see Mars\\nI told her to beat it, get off me\\nI only be fucking with stars\\nI got in my groove like Austin\\n\\nOverseas in Europe, I hit Zurich, bought a watch\\nKicking it my purest, my influence worth a lot\\nBought my bitch the urus that I skirt to that drop\\nBetter see my jewelry, my shit blurry, at the top\\nTop, top\\nI'm kicking it at the top\\nT-O-P, I'm up\\nEyes on me like Pac\\nPush up whenever I walk\\nCan't touch me I'm too hot\\nHunnids inside of a vault, Mans is covered in Croc\\nCroc \nonly showing top 3 rows\n"
     ]
    }
   ],
   "source": [
    "casted_df2.select(\n",
    "    \"viewCount\", \"likeCount\", \"commentCount\",\n",
    "    \"duration\", \"publishedAt\", \"channelTitle\",\n",
    "    \"title\", \"categoryId\", \"description\"\n",
    ").show(3, truncate=False, vertical=True)"
   ]
  },
  {
   "cell_type": "code",
   "execution_count": 0,
   "metadata": {
    "application/vnd.databricks.v1+cell": {
     "cellMetadata": {
      "byteLimit": 2048000,
      "rowLimit": 10000
     },
     "inputWidgets": {},
     "nuid": "f6c0f78c-b6a5-4c4a-bae3-c1491b94086e",
     "showTitle": false,
     "tableResultSettingsMap": {},
     "title": ""
    }
   },
   "outputs": [
    {
     "output_type": "stream",
     "name": "stdout",
     "output_type": "stream",
     "text": [
      "+--------------------------------------------------------------------------------------+--------+\n|title                                                                                 |duration|\n+--------------------------------------------------------------------------------------+--------+\n|GTA5 - Car Roulette Returns and Animal Safari... ENHANCED!! (Funny Moments)           |PT31M3S |\n|Pretending To Be A DRAGON CANNELLONI In Steal A Brainrot..                            |PT14M59S|\n|Gunna - at my purest (feat. Offset) [Official Visualizer]                             |PT3M14S |\n|La Lotería                                                                            |PT2M54S |\n|Trump saves gamers                                                                    |PT27M31S|\n|I Build the FASTEST PLANE in Roblox!                                                  |PT42M6S |\n|BabyChiefDoit - Mr. President (Official Music Video)                                  |PT2M15S |\n|Kick The Dust Up                                                                      |PT3M11S |\n|Using ADMIN on my ULTIMA One Block!                                                   |PT16M39S|\n|I used INFINITE LUCK & UNLOCKED NEW Los Hotspotsitos SECRET in Roblox Steal a Brainrot|PT11M57S|\n+--------------------------------------------------------------------------------------+--------+\nonly showing top 10 rows\n"
     ]
    }
   ],
   "source": [
    "casted_df2.select(\"title\", \"duration\").show(10, truncate=False)"
   ]
  },
  {
   "cell_type": "markdown",
   "metadata": {
    "application/vnd.databricks.v1+cell": {
     "cellMetadata": {},
     "inputWidgets": {},
     "nuid": "efcbf1fb-2562-4906-8f19-139707e3649c",
     "showTitle": false,
     "tableResultSettingsMap": {},
     "title": ""
    }
   },
   "source": [
    "# Convert duration (ISO 8601 format) to Total Seconds"
   ]
  },
  {
   "cell_type": "code",
   "execution_count": 0,
   "metadata": {
    "application/vnd.databricks.v1+cell": {
     "cellMetadata": {
      "byteLimit": 2048000,
      "rowLimit": 10000
     },
     "inputWidgets": {},
     "nuid": "aeadf585-d825-4717-b568-c524bbbe3336",
     "showTitle": false,
     "tableResultSettingsMap": {},
     "title": ""
    }
   },
   "outputs": [],
   "source": [
    "from pyspark.sql.functions import regexp_extract, col, when\n",
    "\n",
    "# Regex extract hours, minutes, seconds from ISO 8601 duration format\n",
    "casted_df2 = casted_df2 \\\n",
    "    .withColumn(\"hours\", when(regexp_extract(col(\"duration\"), \"PT(\\\\d+)H\", 1) != \"\", regexp_extract(col(\"duration\"), \"PT(\\\\d+)H\", 1).cast(\"int\")).otherwise(0)) \\\n",
    "    .withColumn(\"minutes\", when(regexp_extract(col(\"duration\"), \"(\\\\d+)M\", 1) != \"\", regexp_extract(col(\"duration\"), \"(\\\\d+)M\", 1).cast(\"int\")).otherwise(0)) \\\n",
    "    .withColumn(\"seconds\", when(regexp_extract(col(\"duration\"), \"(\\\\d+)S\", 1) != \"\", regexp_extract(col(\"duration\"), \"(\\\\d+)S\", 1).cast(\"int\")).otherwise(0))\n",
    "\n",
    "# Total seconds calculate karo\n",
    "casted_df2 = casted_df2.withColumn(\n",
    "    \"duration\",\n",
    "    (col(\"hours\")*3600 + col(\"minutes\")*60 + col(\"seconds\"))\n",
    ")\n",
    "\n",
    "# Temporary columns drop karo\n",
    "casted_df2 = casted_df2.drop(\"hours\", \"minutes\", \"seconds\")\n"
   ]
  },
  {
   "cell_type": "code",
   "execution_count": 0,
   "metadata": {
    "application/vnd.databricks.v1+cell": {
     "cellMetadata": {
      "byteLimit": 2048000,
      "rowLimit": 10000
     },
     "inputWidgets": {},
     "nuid": "4c1a7ea6-ecc9-42f7-b51a-f2191994de96",
     "showTitle": false,
     "tableResultSettingsMap": {},
     "title": ""
    }
   },
   "outputs": [
    {
     "output_type": "stream",
     "name": "stdout",
     "output_type": "stream",
     "text": [
      "+--------------------------------------------------------------------------------------+--------+\n|title                                                                                 |duration|\n+--------------------------------------------------------------------------------------+--------+\n|GTA5 - Car Roulette Returns and Animal Safari... ENHANCED!! (Funny Moments)           |1863    |\n|Pretending To Be A DRAGON CANNELLONI In Steal A Brainrot..                            |899     |\n|Gunna - at my purest (feat. Offset) [Official Visualizer]                             |194     |\n|La Lotería                                                                            |174     |\n|Trump saves gamers                                                                    |1651    |\n|I Build the FASTEST PLANE in Roblox!                                                  |2526    |\n|BabyChiefDoit - Mr. President (Official Music Video)                                  |135     |\n|Kick The Dust Up                                                                      |191     |\n|Using ADMIN on my ULTIMA One Block!                                                   |999     |\n|I used INFINITE LUCK & UNLOCKED NEW Los Hotspotsitos SECRET in Roblox Steal a Brainrot|717     |\n+--------------------------------------------------------------------------------------+--------+\nonly showing top 10 rows\n"
     ]
    }
   ],
   "source": [
    "casted_df2.select(\"title\", \"duration\").show(10, truncate=False)"
   ]
  },
  {
   "cell_type": "markdown",
   "metadata": {
    "application/vnd.databricks.v1+cell": {
     "cellMetadata": {},
     "inputWidgets": {},
     "nuid": "f0129bf9-faf6-46e7-9efc-d81721d5396c",
     "showTitle": false,
     "tableResultSettingsMap": {},
     "title": ""
    }
   },
   "source": [
    "# in our data distinct categoryid available"
   ]
  },
  {
   "cell_type": "code",
   "execution_count": 0,
   "metadata": {
    "application/vnd.databricks.v1+cell": {
     "cellMetadata": {
      "byteLimit": 2048000,
      "rowLimit": 10000
     },
     "inputWidgets": {},
     "nuid": "3a0117c2-e00c-430d-b984-4b7dd4d3fea4",
     "showTitle": false,
     "tableResultSettingsMap": {},
     "title": ""
    }
   },
   "outputs": [
    {
     "output_type": "execute_result",
     "data": {
      "text/plain": [
       "5"
      ]
     },
     "execution_count": 15,
     "metadata": {},
     "output_type": "execute_result"
    }
   ],
   "source": [
    "parsed_df.select(\"json.snippet.categoryId\").distinct().count()"
   ]
  },
  {
   "cell_type": "code",
   "execution_count": 0,
   "metadata": {
    "application/vnd.databricks.v1+cell": {
     "cellMetadata": {
      "byteLimit": 2048000,
      "rowLimit": 10000
     },
     "inputWidgets": {},
     "nuid": "eba3cf92-49e8-4ae2-a49b-0c1f1379dffa",
     "showTitle": false,
     "tableResultSettingsMap": {},
     "title": ""
    }
   },
   "outputs": [
    {
     "output_type": "stream",
     "name": "stdout",
     "output_type": "stream",
     "text": [
      "+----------+\n|categoryId|\n+----------+\n|22        |\n|10        |\n|24        |\n|1         |\n|20        |\n+----------+\n\n"
     ]
    }
   ],
   "source": [
    "parsed_df.select(\"json.snippet.categoryId\").distinct().show(truncate=False)"
   ]
  },
  {
   "cell_type": "markdown",
   "metadata": {
    "application/vnd.databricks.v1+cell": {
     "cellMetadata": {},
     "inputWidgets": {},
     "nuid": "4c29ef56-42cc-40ff-a7ef-7624e240ec2d",
     "showTitle": false,
     "tableResultSettingsMap": {},
     "title": ""
    }
   },
   "source": [
    "# Mapping distinct Categoryid to Category Name"
   ]
  },
  {
   "cell_type": "code",
   "execution_count": 0,
   "metadata": {
    "application/vnd.databricks.v1+cell": {
     "cellMetadata": {
      "byteLimit": 2048000,
      "rowLimit": 10000
     },
     "inputWidgets": {},
     "nuid": "d397d41f-447f-4fb6-99eb-795a83a77944",
     "showTitle": false,
     "tableResultSettingsMap": {},
     "title": ""
    }
   },
   "outputs": [],
   "source": [
    "from pyspark.sql.functions import when, col\n",
    "\n",
    "casted_df2 = casted_df2.withColumn(\n",
    "    \"categoryName\",\n",
    "    when(col(\"categoryId\") == \"1\", \"Film & Animation\")\n",
    "    .when(col(\"categoryId\") == \"10\", \"Music\")\n",
    "    .when(col(\"categoryId\") == \"20\", \"Gaming\")\n",
    "    .when(col(\"categoryId\") == \"22\", \"People & Blogs\")\n",
    "    .when(col(\"categoryId\") == \"24\", \"Entertainment\")\n",
    "    .otherwise(\"Unknown\")\n",
    ")\n"
   ]
  },
  {
   "cell_type": "code",
   "execution_count": 0,
   "metadata": {
    "application/vnd.databricks.v1+cell": {
     "cellMetadata": {
      "byteLimit": 2048000,
      "rowLimit": 10000
     },
     "inputWidgets": {},
     "nuid": "f02c03ff-f476-4567-8124-771c10957517",
     "showTitle": false,
     "tableResultSettingsMap": {},
     "title": ""
    }
   },
   "outputs": [
    {
     "output_type": "stream",
     "name": "stdout",
     "output_type": "stream",
     "text": [
      "+----------------+-----+\n|categoryName    |count|\n+----------------+-----+\n|People & Blogs  |3    |\n|Film & Animation|3    |\n|Gaming          |18   |\n|Entertainment   |5    |\n|Music           |21   |\n+----------------+-----+\n\n"
     ]
    }
   ],
   "source": [
    "casted_df2.groupBy(\"categoryName\").count().show(truncate=False)"
   ]
  },
  {
   "cell_type": "markdown",
   "metadata": {
    "application/vnd.databricks.v1+cell": {
     "cellMetadata": {},
     "inputWidgets": {},
     "nuid": "7691bdc5-632e-4adf-88e4-14acf9b0b706",
     "showTitle": false,
     "tableResultSettingsMap": {},
     "title": ""
    }
   },
   "source": [
    "# convert publishAt col to time stamp"
   ]
  },
  {
   "cell_type": "code",
   "execution_count": 0,
   "metadata": {
    "application/vnd.databricks.v1+cell": {
     "cellMetadata": {
      "byteLimit": 2048000,
      "rowLimit": 10000
     },
     "inputWidgets": {},
     "nuid": "3df5497b-bb19-4755-9a15-2c4b0cc23d39",
     "showTitle": false,
     "tableResultSettingsMap": {},
     "title": ""
    }
   },
   "outputs": [],
   "source": [
    "from pyspark.sql.functions import col, to_timestamp, to_date, year, month\n",
    "\n",
    "# Step 1: Convert to timestamp\n",
    "casted_df2 = casted_df2.withColumn(\"publishedAt_ts\", to_timestamp(col(\"publishedAt\"), \"yyyy-MM-dd'T'HH:mm:ss'Z'\"))\n",
    "\n",
    "# Step 2: Extract only the date part\n",
    "casted_df2 = casted_df2.withColumn(\"publishedDate\", to_date(col(\"publishedAt_ts\")))\n",
    "\n",
    "# Step 3: Extract year and month from publishedDate\n",
    "casted_df2 = casted_df2.withColumn(\"year\", year(\"publishedDate\")) \\\n",
    "                     .withColumn(\"month\", month(\"publishedDate\"))\n",
    "\n",
    "# Step 4: Drop original publishedAt and timestamp\n",
    "casted_df2 = casted_df2.drop(\"publishedAt\", \"publishedAt_ts\")\n"
   ]
  },
  {
   "cell_type": "code",
   "execution_count": 0,
   "metadata": {
    "application/vnd.databricks.v1+cell": {
     "cellMetadata": {
      "byteLimit": 2048000,
      "rowLimit": 10000
     },
     "inputWidgets": {},
     "nuid": "d8490bd4-b104-4d20-bb9b-d6dcb3e2dd8b",
     "showTitle": false,
     "tableResultSettingsMap": {},
     "title": ""
    }
   },
   "outputs": [
    {
     "output_type": "stream",
     "name": "stdout",
     "output_type": "stream",
     "text": [
      "-RECORD 0--------------------------------------------------------------------------------------------------------------------------------------------------------------------------------------------------------------------------------------------------------------------------------------------------------------------------------------------------------------------------------------------------------------------------------------------------------------------------------------------------------------------------------------------------------------------------------------------------------------------------------------------------------------------------------------------------------------------------------------------------------------------------------------------------------------------------------------------------------------------------------------------------------------------------------------------------------------------------------------------------------------------------------------------------------------------------------------------------------------------------------------------------------------------------------------------------------------------------------------------------------------------------------------------------------------------------------------------------------------------------------------------------------------------------------------------------------------------------------------------------------------------------------------------------------------------------------------------------------------------------------------------------------------------------------------------------------------------------------------------------------------------------------------------------------------------------------------------------------------------------------------------------------------------------------------------------------------------------------------------------------------------------------------------------------------------------------------------------------------------------------------------------------------------------------------------------------------------------------------------------------------------------------------------------------------------------------------------------------------------------------------------------------------------------------------------------------------------------------------------------------------------------------------------------------------------------------------------------------------------------------------------------------------------------------------------------------------------------------------------------------------------------------------------------------------------------------------------------------------------------------------------------------------------------------------------------------------------------------------------------------------------------------------------------------------------------------------------------------------------------------------------------------------------------------------------------------\n viewCount     | 770446                                                                                                                                                                                                                                                                                                                                                                                                                                                                                                                                                                                                                                                                                                                                                                                                                                                                                                                                                                                                                                                                                                                                                                                                                                                                                                                                                                                                                                                                                                                                                                                                                                                                                                                                                                                                                                                                                                                                                                                                                                                                                                                                                                                                                                                                                                                                                                                                                                                                                                                                                                                                                                                                                                                                                                                                                                                                                                                                                                                                                                                                                                                                                                                          \n likeCount     | 46034                                                                                                                                                                                                                                                                                                                                                                                                                                                                                                                                                                                                                                                                                                                                                                                                                                                                                                                                                                                                                                                                                                                                                                                                                                                                                                                                                                                                                                                                                                                                                                                                                                                                                                                                                                                                                                                                                                                                                                                                                                                                                                                                                                                                                                                                                                                                                                                                                                                                                                                                                                                                                                                                                                                                                                                                                                                                                                                                                                                                                                                                                                                                                                                           \n commentCount  | 1700                                                                                                                                                                                                                                                                                                                                                                                                                                                                                                                                                                                                                                                                                                                                                                                                                                                                                                                                                                                                                                                                                                                                                                                                                                                                                                                                                                                                                                                                                                                                                                                                                                                                                                                                                                                                                                                                                                                                                                                                                                                                                                                                                                                                                                                                                                                                                                                                                                                                                                                                                                                                                                                                                                                                                                                                                                                                                                                                                                                                                                                                                                                                                                                            \n duration      | 1863                                                                                                                                                                                                                                                                                                                                                                                                                                                                                                                                                                                                                                                                                                                                                                                                                                                                                                                                                                                                                                                                                                                                                                                                                                                                                                                                                                                                                                                                                                                                                                                                                                                                                                                                                                                                                                                                                                                                                                                                                                                                                                                                                                                                                                                                                                                                                                                                                                                                                                                                                                                                                                                                                                                                                                                                                                                                                                                                                                                                                                                                                                                                                                                            \n publishedDate | 2025-08-09                                                                                                                                                                                                                                                                                                                                                                                                                                                                                                                                                                                                                                                                                                                                                                                                                                                                                                                                                                                                                                                                                                                                                                                                                                                                                                                                                                                                                                                                                                                                                                                                                                                                                                                                                                                                                                                                                                                                                                                                                                                                                                                                                                                                                                                                                                                                                                                                                                                                                                                                                                                                                                                                                                                                                                                                                                                                                                                                                                                                                                                                                                                                                                                      \n channelTitle  | VanossGaming                                                                                                                                                                                                                                                                                                                                                                                                                                                                                                                                                                                                                                                                                                                                                                                                                                                                                                                                                                                                                                                                                                                                                                                                                                                                                                                                                                                                                                                                                                                                                                                                                                                                                                                                                                                                                                                                                                                                                                                                                                                                                                                                                                                                                                                                                                                                                                                                                                                                                                                                                                                                                                                                                                                                                                                                                                                                                                                                                                                                                                                                                                                                                                                    \n title         | GTA5 - Car Roulette Returns and Animal Safari... ENHANCED!! (Funny Moments)                                                                                                                                                                                                                                                                                                                                                                                                                                                                                                                                                                                                                                                                                                                                                                                                                                                                                                                                                                                                                                                                                                                                                                                                                                                                                                                                                                                                                                                                                                                                                                                                                                                                                                                                                                                                                                                                                                                                                                                                                                                                                                                                                                                                                                                                                                                                                                                                                                                                                                                                                                                                                                                                                                                                                                                                                                                                                                                                                                                                                                                                                                                     \n categoryId    | 20                                                                                                                                                                                                                                                                     \n\n*** WARNING: max output size exceeded, skipping output. ***\n\n                                                                                                                                                                                                                                                               \n commentCount  | 938                                                                                                                                                                                                                                                                                                                                                                                                                                                                                                                                                                                                                                                                                                                                                                                                                                                                                                                                                                                                                                                                                                                                                                                                                                                                                                                                                                                                                                                                                                                                                                                                                                                                                                                                                                                                                                                                                                                                                                                                                                                                                                                                                                                                                                                                                                                                                                                                                                                                                                                                                                                                                                                                                                                                                                                                                                                                                                                                                                                                                                                                                                                                                                                             \n duration      | 194                                                                                                                                                                                                                                                                                                                                                                                                                                                                                                                                                                                                                                                                                                                                                                                                                                                                                                                                                                                                                                                                                                                                                                                                                                                                                                                                                                                                                                                                                                                                                                                                                                                                                                                                                                                                                                                                                                                                                                                                                                                                                                                                                                                                                                                                                                                                                                                                                                                                                                                                                                                                                                                                                                                                                                                                                                                                                                                                                                                                                                                                                                                                                                                             \n publishedDate | 2025-08-08                                                                                                                                                                                                                                                                                                                                                                                                                                                                                                                                                                                                                                                                                                                                                                                                                                                                                                                                                                                                                                                                                                                                                                                                                                                                                                                                                                                                                                                                                                                                                                                                                                                                                                                                                                                                                                                                                                                                                                                                                                                                                                                                                                                                                                                                                                                                                                                                                                                                                                                                                                                                                                                                                                                                                                                                                                                                                                                                                                                                                                                                                                                                                                                      \n channelTitle  | Gunna                                                                                                                                                                                                                                                                                                                                                                                                                                                                                                                                                                                                                                                                                                                                                                                                                                                                                                                                                                                                                                                                                                                                                                                                                                                                                                                                                                                                                                                                                                                                                                                                                                                                                                                                                                                                                                                                                                                                                                                                                                                                                                                                                                                                                                                                                                                                                                                                                                                                                                                                                                                                                                                                                                                                                                                                                                                                                                                                                                                                                                                                                                                                                                                           \n title         | Gunna - at my purest (feat. Offset) [Official Visualizer]                                                                                                                                                                                                                                                                                                                                                                                                                                                                                                                                                                                                                                                                                                                                                                                                                                                                                                                                                                                                                                                                                                                                                                                                                                                                                                                                                                                                                                                                                                                                                                                                                                                                                                                                                                                                                                                                                                                                                                                                                                                                                                                                                                                                                                                                                                                                                                                                                                                                                                                                                                                                                                                                                                                                                                                                                                                                                                                                                                                                                                                                                                                                       \n categoryId    | 10                                                                                                                                                                                                                                                                                                                                                                                                                                                                                                                                                                                                                                                                                                                                                                                                                                                                                                                                                                                                                                                                                                                                                                                                                                                                                                                                                                                                                                                                                                                                                                                                                                                                                                                                                                                                                                                                                                                                                                                                                                                                                                                                                                                                                                                                                                                                                                                                                                                                                                                                                                                                                                                                                                                                                                                                                                                                                                                                                                                                                                                                                                                                                                                              \n description   | The official visualizer for Gunna's \"at my purest\" featuring @OFFSETYRN - OUT NOW!\\n\\nStream \"The Last Wun\": https://gunna.lnk.to/thelastwun\\n\\nShop Official Merch: https://gunnawunna.com/\\n\\nFollow Gunna:\\nhttps://only1gunna.com/\\nhttps://www.instagram.com/gunna/\\nhttps://twitter.com/1GunnaGunna\\nhttps://www.tiktok.com/@gunna\\nhttps://www.facebook.com/gunnaofficial/\\nhttps://soundcloud.com/gunna\\n\\n℗ 2025 Young Stoner Life Records / 300 Entertainment\\n\\n#Gunna #atmypurest #Offset #OfficialVisualizer #TheLastWun \\n\\n_\\n\\nLyrics:\\n\\nRun that back, Turbo\\n\\nOverseas in Europe, I hit Zurich, bought a watch\\nKicking it my purest, my influence worth a lot\\nBought my bitch the urus that I skirt to that drop\\nBetter see my jewelry, that shit blurry, at the top\\nTop, top, top, top\\nI'm kicking it at the top\\nT-O-P, I'm up\\nEyes on me like Pac\\nPush one up whenever I walk\\nCan't touch me I'm too hot\\nHunnids inside of a vault\\nMans is covered in croc\\nCroc\\nAlligator or Croc\\nHuman ain't no telling\\nYoung GunnaWun for president, let my ho go presi'\\nCountin' up stackin' these presidents, know this shit get treacherous\\n\\nWake up takin' these chances\\nBusiness man I barely drive I bought me two new Caddys\\nGot acres I can sell you land, costs at least two Patek's\\nLS state behind the gate, don't let 'em know my addy\\nPretty face from 'round the way, come play I do her nasty\\nPlain jane I ain't flashy\\nGucci shorts they khaki\\nFucking a slut accountant bitch she help me lower my taxes\\nYoung Gunna wunna a chest set up in …. On top my jacket\\nCaviar the riviar of France, they stuffin my passes\\n\\nOverseas in Europe, I hit Zurich, bought a watch\\nKicking it my purest, my influence worth a lot\\nBought my bitch the urus that I skirt to that drop\\nBetter see my jewelry, my shit blurry, at the top\\nTop, top\\nI'm kicking it at the top\\nT-O-P, I'm up\\nEyes on me like Pac\\nPush one up I walk\\nCan't touch me I'm too hot\\nHunnids inside of a vault, man is covered in Croc\\n\\nRockstar grab my crotch\\nRick Owen high tops\\nI go in Miami, Kawasaki with two thots\\nShe fuck with the top\\nCashed out ice me out\\nBurnt that nigga's chop\\nI did this shit for granny, look down my wrist is a Grammy\\nPrincess like diani, introduce her to my family\\nFlower she my dandy, but don't come for not at all\\nI ain't going at all, I took out the brain and tore down on 'em all\\nPlain Jane I let it went froze, this shit is insane they thought I would fall\\nThe flames come out the exhaust, the Ferrari spider, it climb up the wall\\nShe learnin' to deal with a dog\\nThe double R star see Mars\\nI told her to beat it, get off me\\nI only be fucking with stars\\nI got in my groove like Austin\\n\\nOverseas in Europe, I hit Zurich, bought a watch\\nKicking it my purest, my influence worth a lot\\nBought my bitch the urus that I skirt to that drop\\nBetter see my jewelry, my shit blurry, at the top\\nTop, top\\nI'm kicking it at the top\\nT-O-P, I'm up\\nEyes on me like Pac\\nPush up whenever I walk\\nCan't touch me I'm too hot\\nHunnids inside of a vault, Mans is covered in Croc\\nCroc \n categoryName  | Music                                                                                                                                                                                                                                                                                                                                                                                                                                                                                                                                                                                                                                                                                                                                                                                                                                                                                                                                                                                                                                                                                                                                                                                                                                                                                                                                                                                                                                                                                                                                                                                                                                                                                                                                                                                                                                                                                                                                                                                                                                                                                                                                                                                                                                                                                                                                                                                                                                                                                                                                                                                                                                                                                                                                                                                                                                                                                                                                                                                                                                                                                                                                                                                           \nonly showing top 3 rows\n"
     ]
    }
   ],
   "source": [
    "casted_df2.select(\n",
    "    \"viewCount\", \"likeCount\", \"commentCount\",\n",
    "    \"duration\", \"publishedDate\", \"channelTitle\",\n",
    "    \"title\", \"categoryId\", \"description\", \"categoryName\"\n",
    ").show(3, truncate=False, vertical=True)"
   ]
  },
  {
   "cell_type": "code",
   "execution_count": 0,
   "metadata": {
    "application/vnd.databricks.v1+cell": {
     "cellMetadata": {
      "byteLimit": 2048000,
      "rowLimit": 10000
     },
     "inputWidgets": {},
     "nuid": "a40e076f-d91f-4047-a3d8-78afa2dc3b6f",
     "showTitle": false,
     "tableResultSettingsMap": {},
     "title": ""
    }
   },
   "outputs": [
    {
     "output_type": "stream",
     "name": "stdout",
     "output_type": "stream",
     "text": [
      "+--------------+--------------+-----------------+-------------+------------+-----------------+------------------+---------+----------+\n|null_viewCount|null_likeCount|null_commentCount|null_duration|null_caption|null_categoryName|null_publishedDate|null_year|null_month|\n+--------------+--------------+-----------------+-------------+------------+-----------------+------------------+---------+----------+\n|             0|             0|                0|            0|           0|                0|                 0|        0|         0|\n+--------------+--------------+-----------------+-------------+------------+-----------------+------------------+---------+----------+\n\n"
     ]
    }
   ],
   "source": [
    "from pyspark.sql.functions import col, count, when\n",
    "\n",
    "# Check null values for all relevant columns\n",
    "casted_df2.select([\n",
    "    count(when(col(\"viewCount\").isNull(), 1)).alias(\"null_viewCount\"),\n",
    "    count(when(col(\"likeCount\").isNull(), 1)).alias(\"null_likeCount\"),\n",
    "    count(when(col(\"commentCount\").isNull(), 1)).alias(\"null_commentCount\"),\n",
    "    count(when(col(\"duration\").isNull(), 1)).alias(\"null_duration\"),\n",
    "    count(when(col(\"caption\").isNull(), 1)).alias(\"null_caption\"),\n",
    "    count(when(col(\"categoryName\").isNull(), 1)).alias(\"null_categoryName\"),\n",
    "    count(when(col(\"publishedDate\").isNull(), 1)).alias(\"null_publishedDate\"),\n",
    "    count(when(col(\"year\").isNull(), 1)).alias(\"null_year\"),\n",
    "    count(when(col(\"month\").isNull(), 1)).alias(\"null_month\")\n",
    "]).show()"
   ]
  },
  {
   "cell_type": "markdown",
   "metadata": {
    "application/vnd.databricks.v1+cell": {
     "cellMetadata": {},
     "inputWidgets": {},
     "nuid": "b61dd461-a595-43c4-a9d5-8df662db0470",
     "showTitle": false,
     "tableResultSettingsMap": {},
     "title": ""
    }
   },
   "source": [
    "# Engegment Analysis"
   ]
  },
  {
   "cell_type": "markdown",
   "metadata": {
    "application/vnd.databricks.v1+cell": {
     "cellMetadata": {},
     "inputWidgets": {},
     "nuid": "292b0471-0144-4eab-8c18-37ade479f705",
     "showTitle": false,
     "tableResultSettingsMap": {},
     "title": ""
    }
   },
   "source": [
    "# Top Channels by Total Views"
   ]
  },
  {
   "cell_type": "code",
   "execution_count": 0,
   "metadata": {
    "application/vnd.databricks.v1+cell": {
     "cellMetadata": {
      "byteLimit": 2048000,
      "rowLimit": 10000
     },
     "inputWidgets": {},
     "nuid": "4b9e4962-37c7-444f-a2a8-7d943e2ee985",
     "showTitle": false,
     "tableResultSettingsMap": {},
     "title": ""
    }
   },
   "outputs": [
    {
     "output_type": "stream",
     "name": "stdout",
     "output_type": "stream",
     "text": [
      "+----------------+----------+\n|channelTitle    |totalViews|\n+----------------+----------+\n|T-Series        |5067756   |\n|MrBeast Gaming  |2807057   |\n|KreekCraft      |2473405   |\n|Peacock         |2057632   |\n|Asmongold TV    |1387047   |\n|MoreSidemen     |1213482   |\n|Epitaph Records |1134819   |\n|CaylusBlox      |997594    |\n|DOM Studio      |838822    |\n|Foltyn          |798010    |\n|VanossGaming    |770446    |\n|ElAlfaElJefeTV  |654329    |\n|penguinz0       |595312    |\n|rekrap2         |571670    |\n|WolfeyVGC       |434901    |\n|Gunna           |419239    |\n|Latto           |402561    |\n|Hurricane Wisdom|393519    |\n|Doodle and Arkey|360495    |\n|MovieGasm‍․com  |359160    |\n+----------------+----------+\nonly showing top 20 rows\n"
     ]
    }
   ],
   "source": [
    "top_channels = casted_df2.groupBy(\"channelTitle\") \\\n",
    "    .sum(\"viewCount\") \\\n",
    "    .withColumnRenamed(\"sum(viewCount)\", \"totalViews\") \\\n",
    "    .orderBy(col(\"totalViews\").desc())\n",
    "\n",
    "top_channels.show(20, truncate=False)\n"
   ]
  },
  {
   "cell_type": "markdown",
   "metadata": {
    "application/vnd.databricks.v1+cell": {
     "cellMetadata": {},
     "inputWidgets": {},
     "nuid": "7fc38aa3-3020-4dc9-9040-b822d2633791",
     "showTitle": false,
     "tableResultSettingsMap": {},
     "title": ""
    }
   },
   "source": [
    "# Top channels by total likes"
   ]
  },
  {
   "cell_type": "code",
   "execution_count": 0,
   "metadata": {
    "application/vnd.databricks.v1+cell": {
     "cellMetadata": {
      "byteLimit": 2048000,
      "rowLimit": 10000
     },
     "inputWidgets": {},
     "nuid": "101ca613-58b3-4f6a-9435-4a410d6626f8",
     "showTitle": false,
     "tableResultSettingsMap": {},
     "title": ""
    }
   },
   "outputs": [
    {
     "output_type": "stream",
     "name": "stdout",
     "output_type": "stream",
     "text": [
      "+---------------+----------+\n|channelTitle   |totalLikes|\n+---------------+----------+\n|T-Series       |152032    |\n|MrBeast Gaming |120301    |\n|Asmongold TV   |69422     |\n|MoreSidemen    |65014     |\n|DOM Studio     |53885     |\n|VanossGaming   |46034     |\n|KreekCraft     |42803     |\n|Epitaph Records|38559     |\n|penguinz0      |34352     |\n|ElAlfaElJefeTV |33059     |\n+---------------+----------+\nonly showing top 10 rows\n"
     ]
    }
   ],
   "source": [
    "top_liked_channels = casted_df2.groupBy(\"channelTitle\") \\\n",
    "    .sum(\"likeCount\") \\\n",
    "    .withColumnRenamed(\"sum(likeCount)\", \"totalLikes\") \\\n",
    "    .orderBy(col(\"totalLikes\").desc())\n",
    "top_liked_channels.show(10, truncate=False)"
   ]
  },
  {
   "cell_type": "markdown",
   "metadata": {
    "application/vnd.databricks.v1+cell": {
     "cellMetadata": {},
     "inputWidgets": {},
     "nuid": "48a0b3fc-3f95-4cb3-a0b1-7d3ee772c00a",
     "showTitle": false,
     "tableResultSettingsMap": {},
     "title": ""
    }
   },
   "source": [
    "# Most Liked Videos"
   ]
  },
  {
   "cell_type": "code",
   "execution_count": 0,
   "metadata": {
    "application/vnd.databricks.v1+cell": {
     "cellMetadata": {
      "byteLimit": 2048000,
      "rowLimit": 10000
     },
     "inputWidgets": {},
     "nuid": "05a67acc-11c0-4a5c-8c01-153450fe269b",
     "showTitle": false,
     "tableResultSettingsMap": {},
     "title": ""
    }
   },
   "outputs": [],
   "source": [
    "# Here we can find top 5 most liked videos along with its title and chanelTitle "
   ]
  },
  {
   "cell_type": "code",
   "execution_count": 0,
   "metadata": {
    "application/vnd.databricks.v1+cell": {
     "cellMetadata": {
      "byteLimit": 2048000,
      "rowLimit": 10000
     },
     "inputWidgets": {},
     "nuid": "783ae0b8-8d9f-41e3-8a99-2c3ffd7fbab8",
     "showTitle": false,
     "tableResultSettingsMap": {},
     "title": ""
    }
   },
   "outputs": [
    {
     "output_type": "stream",
     "name": "stdout",
     "output_type": "stream",
     "text": [
      "+--------------------------------------------------------------------------------------------------+--------------+----------------+---------+\n|title                                                                                             |channelTitle  |categoryName    |likeCount|\n+--------------------------------------------------------------------------------------------------+--------------+----------------+---------+\n|Oh Mama! TETEMA (Song) | Rayvanny, Nora Fatehi | Shreya Ghoshal, Vishal Mishra, Sanjoy | Bhushan K|T-Series      |Music           |152032   |\n|$1,000 Every Minute You Survive                                                                   |MrBeast Gaming|Gaming          |120301   |\n|Trump saves gamers                                                                                |Asmongold TV  |Gaming          |69422    |\n|SIDEMEN AMONG US MEGA CHAOS MODE                                                                  |MoreSidemen   |People & Blogs  |65014    |\n|skibidi toilet multiverse 047 (part 2) Trailer                                                    |DOM Studio    |Film & Animation|53885    |\n+--------------------------------------------------------------------------------------------------+--------------+----------------+---------+\nonly showing top 5 rows\n"
     ]
    }
   ],
   "source": [
    "most_liked = casted_df2.orderBy(col(\"likeCount\").desc())\n",
    "most_liked.select(\"title\", \"channelTitle\", \"categoryName\", \"likeCount\").show(5, truncate=False)"
   ]
  },
  {
   "cell_type": "markdown",
   "metadata": {
    "application/vnd.databricks.v1+cell": {
     "cellMetadata": {},
     "inputWidgets": {},
     "nuid": "6107156f-7f41-4f64-871c-e93a330eda4c",
     "showTitle": false,
     "tableResultSettingsMap": {},
     "title": ""
    }
   },
   "source": [
    "# Top videos by comment count"
   ]
  },
  {
   "cell_type": "code",
   "execution_count": 0,
   "metadata": {
    "application/vnd.databricks.v1+cell": {
     "cellMetadata": {
      "byteLimit": 2048000,
      "rowLimit": 10000
     },
     "inputWidgets": {},
     "nuid": "cbea6a8f-634a-472b-9c15-9ae03a0e642b",
     "showTitle": false,
     "tableResultSettingsMap": {},
     "title": ""
    }
   },
   "outputs": [
    {
     "output_type": "stream",
     "name": "stdout",
     "output_type": "stream",
     "text": [
      "+--------------------------------------------------------------------------------------------------+--------------+------------+\n|title                                                                                             |channelTitle  |commentCount|\n+--------------------------------------------------------------------------------------------------+--------------+------------+\n|Trump saves gamers                                                                                |Asmongold TV  |12483       |\n|Oh Mama! TETEMA (Song) | Rayvanny, Nora Fatehi | Shreya Ghoshal, Vishal Mishra, Sanjoy | Bhushan K|T-Series      |6419        |\n|Nintendo is Bullying Again                                                                        |penguinz0     |4722        |\n|ROBLOX OP ADMIN IN STEAL A BRAINROT                                                               |Flamingo      |4662        |\n|skibidi toilet multiverse 047 (part 2) Trailer                                                    |DOM Studio    |4392        |\n+--------------------------------------------------------------------------------------------------+--------------+------------+\nonly showing top 5 rows\n"
     ]
    }
   ],
   "source": [
    "most_commented = casted_df2.orderBy(col(\"commentCount\").desc())\n",
    "most_commented.select(\"title\", \"channelTitle\", \"commentCount\").show(5, truncate=False)"
   ]
  },
  {
   "cell_type": "markdown",
   "metadata": {
    "application/vnd.databricks.v1+cell": {
     "cellMetadata": {},
     "inputWidgets": {},
     "nuid": "e8492add-4e83-444f-b87b-ec5051952c0e",
     "showTitle": false,
     "tableResultSettingsMap": {},
     "title": ""
    }
   },
   "source": [
    "# Like to View ratio (engagement rate)"
   ]
  },
  {
   "cell_type": "code",
   "execution_count": 0,
   "metadata": {
    "application/vnd.databricks.v1+cell": {
     "cellMetadata": {
      "byteLimit": 2048000,
      "rowLimit": 10000
     },
     "inputWidgets": {},
     "nuid": "f83a2d28-aeca-4426-b58e-2f76a89f17d1",
     "showTitle": false,
     "tableResultSettingsMap": {},
     "title": ""
    }
   },
   "outputs": [
    {
     "output_type": "stream",
     "name": "stdout",
     "output_type": "stream",
     "text": [
      "+---------------------------------------------------------------------------+-------------------+--------------------+\n|title                                                                      |channelTitle       |likeViewRatio       |\n+---------------------------------------------------------------------------+-------------------+--------------------+\n|**ONE PIECE** Season 2 Grand Line Trailer has us hyped!                    |Sorta Stupid       |0.12503149407911313 |\n|Specter                                                                    |Bad Omens - Topic  |0.10022150624244865 |\n|ROBLOX OP ADMIN IN STEAL A BRAINROT                                        |Flamingo           |0.08713840980954661 |\n|BabyChiefDoit - Mr. President (Official Music Video)                       |BabyChiefDoit      |0.07828743037552298 |\n|Hell At Night                                                              |BigXthaPlug - Topic|0.07041394106801913 |\n|Latto - Chicken Grease (Official Video)                                    |Latto              |0.06944537598028622 |\n|skibidi toilet multiverse 047 (part 2) Trailer                             |DOM Studio         |0.06423889692926509 |\n|GTA5 - Car Roulette Returns and Animal Safari... ENHANCED!! (Funny Moments)|VanossGaming       |0.05974980725449934 |\n|Game Theory: Can ANYONE Save Amanda the Adventurer?                        |The Game Theorists |0.05839256821859036 |\n|Nintendo is Bullying Again                                                 |penguinz0          |0.057704195447093286|\n+---------------------------------------------------------------------------+-------------------+--------------------+\nonly showing top 10 rows\n"
     ]
    }
   ],
   "source": [
    "from pyspark.sql.functions import expr\n",
    "\n",
    "engagement_df = casted_df2.withColumn(\"likeViewRatio\", expr(\"likeCount / viewCount\"))\n",
    "engagement_df.orderBy(col(\"likeViewRatio\").desc()).select(\"title\", \"channelTitle\", \"likeViewRatio\").show(10, truncate=False)"
   ]
  },
  {
   "cell_type": "markdown",
   "metadata": {
    "application/vnd.databricks.v1+cell": {
     "cellMetadata": {},
     "inputWidgets": {},
     "nuid": "1686796c-5320-4cdc-91aa-356a48a889d5",
     "showTitle": false,
     "tableResultSettingsMap": {},
     "title": ""
    }
   },
   "source": [
    "# Analysis based on categories"
   ]
  },
  {
   "cell_type": "markdown",
   "metadata": {
    "application/vnd.databricks.v1+cell": {
     "cellMetadata": {},
     "inputWidgets": {},
     "nuid": "f4a17f74-3a40-43ef-8cda-5076a6efdb8f",
     "showTitle": false,
     "tableResultSettingsMap": {},
     "title": ""
    }
   },
   "source": [
    "# Top Categories by Likes"
   ]
  },
  {
   "cell_type": "code",
   "execution_count": 0,
   "metadata": {
    "application/vnd.databricks.v1+cell": {
     "cellMetadata": {
      "byteLimit": 2048000,
      "rowLimit": 10000
     },
     "inputWidgets": {},
     "nuid": "6b65a592-3300-4560-a919-4cc50c894ecf",
     "showTitle": false,
     "tableResultSettingsMap": {},
     "title": ""
    }
   },
   "outputs": [
    {
     "output_type": "stream",
     "name": "stdout",
     "output_type": "stream",
     "text": [
      "+----------------+------------------+----------+\n|    categoryName|      channelTitle|totalLikes|\n+----------------+------------------+----------+\n|           Music|          T-Series|    152032|\n|          Gaming|    MrBeast Gaming|    120301|\n|          Gaming|    Asmongold TV  |     69422|\n|  People & Blogs|       MoreSidemen|     65014|\n|Film & Animation|        DOM Studio|     53885|\n|          Gaming|      VanossGaming|     46034|\n|          Gaming|        KreekCraft|     42803|\n|           Music|   Epitaph Records|     38559|\n|   Entertainment|         penguinz0|     34352|\n|           Music|    ElAlfaElJefeTV|     33059|\n|          Gaming|           rekrap2|     31916|\n|           Music|             Latto|     27956|\n|          Gaming|         WolfeyVGC|     24647|\n|   Entertainment|           Peacock|     21141|\n|           Music|  Hurricane Wisdom|     20839|\n|           Music| Bad Omens - Topic|     19908|\n|          Gaming|The Game Theorists|     19272|\n|          Gaming|          Flamingo|     17830|\n|          Gaming|            Foltyn|     16290|\n|           Music|             Gunna|     15519|\n+----------------+------------------+----------+\nonly showing top 20 rows\n"
     ]
    }
   ],
   "source": [
    "from pyspark.sql.functions import sum\n",
    "\n",
    "casted_df2.groupBy(\"categoryName\",\"channelTitle\") \\\n",
    "    .agg(sum(\"likeCount\").alias(\"totalLikes\")) \\\n",
    "    .orderBy(\"totalLikes\", ascending=False) \\\n",
    "    .show()"
   ]
  },
  {
   "cell_type": "markdown",
   "metadata": {
    "application/vnd.databricks.v1+cell": {
     "cellMetadata": {},
     "inputWidgets": {},
     "nuid": "f778e262-a165-4db6-935a-609f71a25b25",
     "showTitle": false,
     "tableResultSettingsMap": {},
     "title": ""
    }
   },
   "source": [
    "# Top Categories by Comments"
   ]
  },
  {
   "cell_type": "code",
   "execution_count": 0,
   "metadata": {
    "application/vnd.databricks.v1+cell": {
     "cellMetadata": {
      "byteLimit": 2048000,
      "rowLimit": 10000
     },
     "inputWidgets": {},
     "nuid": "fe060528-01a4-48be-a1ef-de0b93e0f82f",
     "showTitle": false,
     "tableResultSettingsMap": {},
     "title": ""
    }
   },
   "outputs": [
    {
     "output_type": "stream",
     "name": "stdout",
     "output_type": "stream",
     "text": [
      "+----------------+------------------+-------------+\n|    categoryName|      channelTitle|totalComments|\n+----------------+------------------+-------------+\n|          Gaming|    Asmongold TV  |        12483|\n|           Music|          T-Series|         6419|\n|   Entertainment|         penguinz0|         4722|\n|          Gaming|          Flamingo|         4662|\n|Film & Animation|        DOM Studio|         4392|\n|  People & Blogs|       MoreSidemen|         3880|\n|           Music|    ElAlfaElJefeTV|         3172|\n|           Music|   Epitaph Records|         2614|\n|          Gaming|            Foltyn|         2553|\n|          Gaming|    MrBeast Gaming|         2454|\n|          Gaming|           rekrap2|         2451|\n|   Entertainment|           Peacock|         1941|\n|          Gaming|            Aphmau|         1849|\n|          Gaming|         ItsFunneh|         1720|\n|          Gaming|      VanossGaming|         1700|\n|           Music|             Latto|         1543|\n|          Gaming|         WolfeyVGC|         1421|\n|          Gaming|        CaylusBlox|         1383|\n|          Gaming|The Game Theorists|         1276|\n|           Music|On The Radar Radio|         1130|\n+----------------+------------------+-------------+\nonly showing top 20 rows\n"
     ]
    }
   ],
   "source": [
    "casted_df2.groupBy(\"categoryName\",\"channelTitle\") \\\n",
    "    .agg(sum(\"commentCount\").alias(\"totalComments\")) \\\n",
    "    .orderBy(\"totalComments\", ascending=False) \\\n",
    "    .show()"
   ]
  },
  {
   "cell_type": "markdown",
   "metadata": {
    "application/vnd.databricks.v1+cell": {
     "cellMetadata": {},
     "inputWidgets": {},
     "nuid": "b112e247-476f-4d8f-adf0-7abb5ee96d48",
     "showTitle": false,
     "tableResultSettingsMap": {},
     "title": ""
    }
   },
   "source": [
    "# Average Engagement per Category"
   ]
  },
  {
   "cell_type": "code",
   "execution_count": 0,
   "metadata": {
    "application/vnd.databricks.v1+cell": {
     "cellMetadata": {
      "byteLimit": 2048000,
      "rowLimit": 10000
     },
     "inputWidgets": {},
     "nuid": "480d58db-115c-45bc-aa6b-0571891f0f7f",
     "showTitle": false,
     "tableResultSettingsMap": {},
     "title": ""
    }
   },
   "outputs": [],
   "source": [
    "# create engagment column on adding likecount and commentcount"
   ]
  },
  {
   "cell_type": "code",
   "execution_count": 0,
   "metadata": {
    "application/vnd.databricks.v1+cell": {
     "cellMetadata": {
      "byteLimit": 2048000,
      "rowLimit": 10000
     },
     "inputWidgets": {},
     "nuid": "28ac1306-30cf-474a-ae29-3ffaf0c0c141",
     "showTitle": false,
     "tableResultSettingsMap": {},
     "title": ""
    }
   },
   "outputs": [],
   "source": [
    "casted_df2 = casted_df2.withColumn(\n",
    "    \"engagement\",\n",
    "    col(\"likeCount\") + col(\"commentCount\")\n",
    ")"
   ]
  },
  {
   "cell_type": "code",
   "execution_count": 0,
   "metadata": {
    "application/vnd.databricks.v1+cell": {
     "cellMetadata": {
      "byteLimit": 2048000,
      "rowLimit": 10000
     },
     "inputWidgets": {},
     "nuid": "7c4c5460-5c61-4d28-8b34-f188bcd3f9f4",
     "showTitle": false,
     "tableResultSettingsMap": {},
     "title": ""
    }
   },
   "outputs": [
    {
     "output_type": "stream",
     "name": "stdout",
     "output_type": "stream",
     "text": [
      "+----------------+------------------+\n|categoryName    |avgEngagement     |\n+----------------+------------------+\n|Gaming          |27128.333333333332|\n|People & Blogs  |23888.666666666668|\n|Film & Animation|20346.666666666668|\n|Music           |18430.619047619046|\n|Entertainment   |13392.6           |\n+----------------+------------------+\n\n"
     ]
    }
   ],
   "source": [
    "from pyspark.sql.functions import avg\n",
    "\n",
    "casted_df2.groupBy(\"categoryName\") \\\n",
    "    .agg(avg(\"engagement\").alias(\"avgEngagement\")) \\\n",
    "    .orderBy(\"avgEngagement\", ascending=False) \\\n",
    "    .show(truncate=False)"
   ]
  },
  {
   "cell_type": "markdown",
   "metadata": {
    "application/vnd.databricks.v1+cell": {
     "cellMetadata": {},
     "inputWidgets": {},
     "nuid": "9825f758-2d43-4083-bd32-fc498f03f058",
     "showTitle": false,
     "tableResultSettingsMap": {},
     "title": ""
    }
   },
   "source": [
    "# Average engagement by video duration"
   ]
  },
  {
   "cell_type": "code",
   "execution_count": 0,
   "metadata": {
    "application/vnd.databricks.v1+cell": {
     "cellMetadata": {
      "byteLimit": 2048000,
      "rowLimit": 10000
     },
     "inputWidgets": {},
     "nuid": "ad88929c-6053-4084-8b27-f1a37c7e8a09",
     "showTitle": false,
     "tableResultSettingsMap": {},
     "title": ""
    }
   },
   "outputs": [],
   "source": [
    "# it says that people are engage or not  in short,long or medium videos"
   ]
  },
  {
   "cell_type": "code",
   "execution_count": 0,
   "metadata": {
    "application/vnd.databricks.v1+cell": {
     "cellMetadata": {
      "byteLimit": 2048000,
      "rowLimit": 10000
     },
     "inputWidgets": {},
     "nuid": "17605288-d162-4b2a-94f7-3ce75fcb44c5",
     "showTitle": false,
     "tableResultSettingsMap": {},
     "title": ""
    }
   },
   "outputs": [
    {
     "output_type": "stream",
     "name": "stdout",
     "output_type": "stream",
     "text": [
      "+----------------+------------------+\n|durationCategory|     avgEngagement|\n+----------------+------------------+\n|            Long|           33062.9|\n|          Medium| 24095.35714285714|\n|           Short|15656.076923076924|\n+----------------+------------------+\n\n"
     ]
    }
   ],
   "source": [
    "# Step 1: Categorize durations\n",
    "from pyspark.sql.functions import when\n",
    "\n",
    "casted_df2 = casted_df2.withColumn(\n",
    "    \"durationCategory\",\n",
    "    when(col(\"duration\") <= 300, \"Short\")  # ≤ 5 mins\n",
    "    .when((col(\"duration\") > 300) & (col(\"duration\") <= 1200), \"Medium\")  # 5–20 mins\n",
    "    .otherwise(\"Long\")  # > 20 mins\n",
    ")\n",
    "\n",
    "# Step 2: Avg engagement per duration category\n",
    "casted_df2.groupBy(\"durationCategory\") \\\n",
    "    .agg(avg(\"engagement\").alias(\"avgEngagement\")) \\\n",
    "    .orderBy(\"avgEngagement\", ascending=False) \\\n",
    "    .show()\n"
   ]
  },
  {
   "cell_type": "markdown",
   "metadata": {
    "application/vnd.databricks.v1+cell": {
     "cellMetadata": {},
     "inputWidgets": {},
     "nuid": "6a482220-60b6-4b0f-beb8-96be6d79b776",
     "showTitle": false,
     "tableResultSettingsMap": {},
     "title": ""
    }
   },
   "source": [
    "# Top performing categories within duration groups"
   ]
  },
  {
   "cell_type": "code",
   "execution_count": 0,
   "metadata": {
    "application/vnd.databricks.v1+cell": {
     "cellMetadata": {
      "byteLimit": 2048000,
      "rowLimit": 10000
     },
     "inputWidgets": {},
     "nuid": "36bdaa2e-2489-41df-93ae-3ad697771ff0",
     "showTitle": false,
     "tableResultSettingsMap": {},
     "title": ""
    }
   },
   "outputs": [
    {
     "output_type": "stream",
     "name": "stdout",
     "output_type": "stream",
     "text": [
      "+----------------+----------------+------------------+\n|durationCategory|    categoryName|     avgEngagement|\n+----------------+----------------+------------------+\n|           Short|           Music|          18950.75|\n|           Short|   Entertainment| 8496.666666666666|\n|           Short|          Gaming|            1473.0|\n|           Short|Film & Animation|            1002.0|\n|           Short|  People & Blogs|              78.0|\n|          Medium|Film & Animation|           30019.0|\n|          Medium|          Gaming|          28137.75|\n|          Medium|   Entertainment|           20736.5|\n|          Medium|           Music|            8028.0|\n|          Medium|  People & Blogs|            2694.0|\n|            Long|  People & Blogs|           68894.0|\n|            Long|          Gaming|29081.666666666668|\n+----------------+----------------+------------------+\n\n"
     ]
    }
   ],
   "source": [
    "casted_df2.groupBy(\"durationCategory\", \"categoryName\") \\\n",
    "    .agg(avg(\"engagement\").alias(\"avgEngagement\")) \\\n",
    "    .orderBy(\"durationCategory\", \"avgEngagement\", ascending=False) \\\n",
    "    .show()"
   ]
  },
  {
   "cell_type": "markdown",
   "metadata": {
    "application/vnd.databricks.v1+cell": {
     "cellMetadata": {},
     "inputWidgets": {},
     "nuid": "166abd9f-8ccb-41a8-b4c9-419d2b9ff327",
     "showTitle": false,
     "tableResultSettingsMap": {},
     "title": ""
    }
   },
   "source": [
    "# Total Watch Time per Category (durationCategory)"
   ]
  },
  {
   "cell_type": "code",
   "execution_count": 0,
   "metadata": {
    "application/vnd.databricks.v1+cell": {
     "cellMetadata": {
      "byteLimit": 2048000,
      "rowLimit": 10000
     },
     "inputWidgets": {},
     "nuid": "7ea04df4-30df-43d4-a882-9817c35fb363",
     "showTitle": false,
     "tableResultSettingsMap": {},
     "title": ""
    }
   },
   "outputs": [
    {
     "output_type": "stream",
     "name": "stdout",
     "output_type": "stream",
     "text": [
      "+----------------+----------------------+\n|durationCategory|totalWatchTime_seconds|\n+----------------+----------------------+\n|            Long|                 53131|\n|          Medium|                 10862|\n|           Short|                  4395|\n+----------------+----------------------+\n\n"
     ]
    }
   ],
   "source": [
    "casted_df2.groupBy(\"durationCategory\") \\\n",
    "    .agg(sum(\"duration\").alias(\"totalWatchTime_seconds\")) \\\n",
    "    .orderBy(\"totalWatchTime_seconds\", ascending=False) \\\n",
    "    .show()"
   ]
  },
  {
   "cell_type": "markdown",
   "metadata": {
    "application/vnd.databricks.v1+cell": {
     "cellMetadata": {},
     "inputWidgets": {},
     "nuid": "9ef57a41-2a71-439c-9a24-c72174d65d3a",
     "showTitle": false,
     "tableResultSettingsMap": {},
     "title": ""
    }
   },
   "source": [
    "# Total Watch Time per Category and Duration Bucket"
   ]
  },
  {
   "cell_type": "code",
   "execution_count": 0,
   "metadata": {
    "application/vnd.databricks.v1+cell": {
     "cellMetadata": {
      "byteLimit": 2048000,
      "rowLimit": 10000
     },
     "inputWidgets": {},
     "nuid": "03a06169-ab08-4050-9b2b-26befeb8b02c",
     "showTitle": false,
     "tableResultSettingsMap": {},
     "title": ""
    }
   },
   "outputs": [
    {
     "output_type": "stream",
     "name": "stdout",
     "output_type": "stream",
     "text": [
      "+----------------+----------------+----------------------+\n|categoryName    |durationCategory|totalWatchTime_seconds|\n+----------------+----------------+----------------------+\n|Entertainment   |Medium          |1411                  |\n|Entertainment   |Short           |339                   |\n|Film & Animation|Medium          |989                   |\n|Film & Animation|Short           |143                   |\n|Gaming          |Long            |47567                 |\n|Gaming          |Medium          |7041                  |\n|Gaming          |Short           |79                    |\n|Music           |Medium          |704                   |\n|Music           |Short           |3774                  |\n|People & Blogs  |Long            |5564                  |\n|People & Blogs  |Medium          |717                   |\n|People & Blogs  |Short           |60                    |\n+----------------+----------------+----------------------+\n\n"
     ]
    }
   ],
   "source": [
    "from pyspark.sql.functions import sum\n",
    "\n",
    "casted_df2.groupBy(\"categoryName\", \"durationCategory\") \\\n",
    "    .agg(sum(\"duration\").alias(\"totalWatchTime_seconds\")) \\\n",
    "    .orderBy(\"categoryName\", \"durationCategory\") \\\n",
    "    .show(truncate=False)"
   ]
  },
  {
   "cell_type": "code",
   "execution_count": 0,
   "metadata": {
    "application/vnd.databricks.v1+cell": {
     "cellMetadata": {
      "byteLimit": 2048000,
      "rowLimit": 10000
     },
     "inputWidgets": {},
     "nuid": "e590d938-c33d-487f-b8c7-1908dbc14f26",
     "showTitle": false,
     "tableResultSettingsMap": {},
     "title": ""
    }
   },
   "outputs": [],
   "source": [
    "# i have attached the chanelTitle also , from here we can get idea \n",
    "# 1) Which channel is dominating which category .\n",
    "# 2) Which channel do people watch for longer time?\n",
    "# 3) Which channel's videos, short, medium or long, are being watched more?"
   ]
  },
  {
   "cell_type": "code",
   "execution_count": 0,
   "metadata": {
    "application/vnd.databricks.v1+cell": {
     "cellMetadata": {
      "byteLimit": 2048000,
      "rowLimit": 10000
     },
     "inputWidgets": {},
     "nuid": "f46f55d5-fb05-48b3-b042-1fcdcaa31bd4",
     "showTitle": false,
     "tableResultSettingsMap": {},
     "title": ""
    }
   },
   "outputs": [
    {
     "output_type": "stream",
     "name": "stdout",
     "output_type": "stream",
     "text": [
      "+----------------------------------------+--------------+----------------+----------------------+\n|channelTitle                            |categoryName  |durationCategory|totalWatchTime_seconds|\n+----------------------------------------+--------------+----------------+----------------------+\n|Starlight Cinema                        |People & Blogs|Short           |60                    |\n|gara                                    |People & Blogs|Medium          |717                   |\n|MoreSidemen                             |People & Blogs|Long            |5564                  |\n|Bad Omens - Topic                       |Music         |Short           |275                   |\n|SeanRiiVEVO                             |Music         |Short           |241                   |\n|Jose Torres El Rey De Alto Mando - Topic|Music         |Short           |219                   |\n|Edén Muñoz - Topic                      |Music         |Short           |209                   |\n|T-Series                                |Music         |Short           |196                   |\n|Gunna                                   |Music         |Short           |194                   |\n|Raúl Beltran - Topic                    |Music         |Short           |191                   |\n|Luke Bryan - Topic                      |Music         |Short           |191                   |\n|Epitaph Records                         |Music         |Short           |188                   |\n|ElAlfaElJefeTV                          |Music         |Short           |184                   |\n|Mozzy - Topic                           |Music         |Short           |183                   |\n|BigXthaPlug - Topic                     |Music         |Short           |180                   |\n|Hurricane Wisdom                        |Music         |Short           |179                   |\n|Latto                                   |Music         |Short           |177                   |\n|AfinArte Music                          |Music         |Short           |176                   |\n|El Fantasma - Topic                     |Music         |Short           |174                   |\n|Bailey Zimmerman - Topic                |Music         |Short           |172                   |\n+----------------------------------------+--------------+----------------+----------------------+\nonly showing top 20 rows\n"
     ]
    }
   ],
   "source": [
    "from pyspark.sql.functions import sum\n",
    "\n",
    "casted_df2.groupBy(\"channelTitle\", \"categoryName\", \"durationCategory\") \\\n",
    "    .agg(sum(\"duration\").alias(\"totalWatchTime_seconds\")) \\\n",
    "    .orderBy(\"categoryName\", \"durationCategory\", \"totalWatchTime_seconds\", ascending=False) \\\n",
    "    .show(truncate=False)"
   ]
  },
  {
   "cell_type": "markdown",
   "metadata": {
    "application/vnd.databricks.v1+cell": {
     "cellMetadata": {},
     "inputWidgets": {},
     "nuid": "cd366598-fc5e-4f29-a7f7-6c9bd8a88f7e",
     "showTitle": false,
     "tableResultSettingsMap": {},
     "title": ""
    }
   },
   "source": [
    "# Top 5 Longest Videos with High Engagement"
   ]
  },
  {
   "cell_type": "code",
   "execution_count": 0,
   "metadata": {
    "application/vnd.databricks.v1+cell": {
     "cellMetadata": {
      "byteLimit": 2048000,
      "rowLimit": 10000
     },
     "inputWidgets": {},
     "nuid": "c33015d4-42f4-43d8-b4d4-19280af4a191",
     "showTitle": false,
     "tableResultSettingsMap": {},
     "title": ""
    }
   },
   "outputs": [
    {
     "output_type": "stream",
     "name": "stdout",
     "output_type": "stream",
     "text": [
      "+-----------------------------------------------+--------+----------+\n|title                                          |duration|engagement|\n+-----------------------------------------------+--------+----------+\n|grow a garden admin abuse (w/flamingo)         |19510   |43303     |\n|$1,000,000 EWC WARZONE GRAND FINALS WATCH PARTY|11511   |1946      |\n|Liminal Exit…                                  |5959    |9610      |\n|SIDEMEN AMONG US MEGA CHAOS MODE               |5564    |68894     |\n|I Build the FASTEST PLANE in Roblox!           |2526    |12117     |\n+-----------------------------------------------+--------+----------+\nonly showing top 5 rows\n"
     ]
    }
   ],
   "source": [
    "casted_df2.orderBy(col(\"duration\").desc(), col(\"engagement\").desc()).select(\"title\", \"duration\", \"engagement\").show(5, truncate=False)\n"
   ]
  },
  {
   "cell_type": "markdown",
   "metadata": {
    "application/vnd.databricks.v1+cell": {
     "cellMetadata": {},
     "inputWidgets": {},
     "nuid": "ea894c00-88fe-4e23-bd7b-8f0bfb97421e",
     "showTitle": false,
     "tableResultSettingsMap": {},
     "title": ""
    }
   },
   "source": [
    "#  Education and Tech-Focused Insights"
   ]
  },
  {
   "cell_type": "code",
   "execution_count": 0,
   "metadata": {
    "application/vnd.databricks.v1+cell": {
     "cellMetadata": {
      "byteLimit": 2048000,
      "rowLimit": 10000
     },
     "inputWidgets": {},
     "nuid": "ace40303-58b9-4085-9902-5a1f88d9c731",
     "showTitle": false,
     "tableResultSettingsMap": {},
     "title": ""
    }
   },
   "outputs": [],
   "source": [
    "# i check education content by seeing the keyword like what ever i have mentioned in the below "
   ]
  },
  {
   "cell_type": "markdown",
   "metadata": {
    "application/vnd.databricks.v1+cell": {
     "cellMetadata": {},
     "inputWidgets": {},
     "nuid": "fd1a839c-1e38-47a0-bd8f-5f2afc28e551",
     "showTitle": false,
     "tableResultSettingsMap": {},
     "title": ""
    }
   },
   "source": [
    "# Keyword-Based Filtering (regardless of category)"
   ]
  },
  {
   "cell_type": "code",
   "execution_count": 0,
   "metadata": {
    "application/vnd.databricks.v1+cell": {
     "cellMetadata": {
      "byteLimit": 2048000,
      "rowLimit": 10000
     },
     "inputWidgets": {},
     "nuid": "3baa390e-4c73-4594-9723-bf089493667f",
     "showTitle": false,
     "tableResultSettingsMap": {},
     "title": ""
    }
   },
   "outputs": [
    {
     "output_type": "stream",
     "name": "stdout",
     "output_type": "stream",
     "text": [
      "+------------+-----------------------------------------------------------+-----------------------------------------------------------------------------------------------------------------------------------------------------------------------------------------------------------------------------------------------------------------------------------------------------------------------------------------------------------------------------------------------------------------------------------------------------------------------------------------------------------------------------------------------------------------------------------------------------------------------------------------------------------------------------------------------------------------------------------------------------------------------------------------------------------------------------------------------------------------------------------------------------------------------------------------------------------------------------------------------------------------------------------------------------------------------------------------------------------------------------------------------------------------------------------------------------------------------------------------------------------------------------------------------------------------------------------------------------------------------------------------------------------------------------------------------------------------------------------------------------------------------------------------------------------------------------------------------------------------------------------------------------------------------------------------------------------------------------------------------------------------------------------------------------------------------------------------------------------------------------------------------------------------------------------------------------------------------------------------------------------------------------------------------------------------------------------------------------------------------------------------------------------------------------------------------------------------------------------------------------------------------------------------------------------------------------------------------------------------------------------------------------------------------------------------------------------------------------------------------------------------------------------------------------------------------------------------------------------------------------------------------------------------------------------------------------------------------------------------------------------------------------------------------------------------------------------------------------------------------------------------------------------------------------------------------------------------------------------------------------------------------------------------------------------------------------------------------------------------------------------------------------------------------------------------------+\n|categoryName|title                                                      |description                                                                                                                                                                                                                                                                                                                                                                                                                                                                                                                                                                                                                                                                                                                                                                                                                                                                                                                                                                                                                                                                                                                                                                                                                                                                                                                                                                                                                                                                                                                                                                                                                                                                                                                                                                                                                                                                                                                                                                                                                                                                                                                                                                                                                                                                                                                                                                                                                                                                                                                                                                                                                                                                                                                                                                                                                                                                                                                                                                                                                                                                                                                                                                                    |\n+------------+-----------------------------------------------------------+-----------------------------------------------------------------------------------------------------------------------------------------------------------------------------------------------------------------------------------------------------------------------------------------------------------------------------------------------------------------------------------------------------------------------------------------------------------------------------------------------------------------------------------------------------------------------------------------------------------------------------------------------------------------------------------------------------------------------------------------------------------------------------------------------------------------------------------------------------------------------------------------------------------------------------------------------------------------------------------------------------------------------------------------------------------------------------------------------------------------------------------------------------------------------------------------------------------------------------------------------------------------------------------------------------------------------------------------------------------------------------------------------------------------------------------------------------------------------------------------------------------------------------------------------------------------------------------------------------------------------------------------------------------------------------------------------------------------------------------------------------------------------------------------------------------------------------------------------------------------------------------------------------------------------------------------------------------------------------------------------------------------------------------------------------------------------------------------------------------------------------------------------------------------------------------------------------------------------------------------------------------------------------------------------------------------------------------------------------------------------------------------------------------------------------------------------------------------------------------------------------------------------------------------------------------------------------------------------------------------------------------------------------------------------------------------------------------------------------------------------------------------------------------------------------------------------------------------------------------------------------------------------------------------------------------------------------------------------------------------------------------------------------------------------------------------------------------------------------------------------------------------------------------------------------------------------+\n|Gaming      |Pretending To Be A DRAGON CANNELLONI In Steal A Brainrot.. |Today I pretended To Be The DRAGON CANNELLONI In Steal A Brainrot. Make sure you watch the whole video to find out what happens.\\n\\nFOLTYN PLUSHYS: https://shop.junipercreates.com/channel/UCRkuUgtDAL4XSU5jB40J_wA/p/7351840964799\\n\\nJoin this channel to get access to perks:\\nhttps://www.youtube.com/channel/UCRkuUgtDAL4XSU5jB40J_wA/join\\n\\n--Socials--\\n\\nDiscord: https://discord.gg/hqwZhrkqRr\\n\\nRoblox Group: https://www.roblox.com/groups/11775558/Foltyns-Family#!/about\\n\\nRoblox Name: TheRealFoltyn\\n\\nInsta: https://www.instagram.com/realfoltyn/\\n\\nTwitter: https://twitter.com/Foltynnn\\n\\nWhat is Roblox? ROBLOX is an online virtual playground and workshop, where kids of all ages can safely interact, create, have fun, and learn. It’s unique in that practically everything on ROBLOX is designed and constructed by members of the community. ROBLOX is designed for 13 to 18 year olds, but it is open to people of all ages. Each player starts by choosing an avatar and giving it an identity. They can then explore ROBLOX — interacting with others by chatting, playing games, or collaborating on creative projects. Each player is also given their own piece of undeveloped real estate along with a virtual toolbox with which to design and build anything — be it a navigable skyscraper, a working helicopter, a giant pinball machine, a multiplayer “Capture the Flag” game or some other, yet-to-be-dreamed-up creation. There is no cost for this first plot of virtual land. By participating and by building cool stuff, ROBLOX members can earn specialty badges as well as ROBLOX dollars (“Robux”). In turn, they can shop the online catalog to purchase avatar clothing and accessories as well as premium building materials, interactive components, and working mechanisms.\\n\\n#Roblox #foltyn                                                                                                                                                                                                                                                                                                                                                                                                                                                                                                                                                                                                                                                                                                                                                                                                                                                                                                                                                                                                                                                                                                                                                                                                                                                                                                                                    |\n|Music       |Gunna - at my purest (feat. Offset) [Official Visualizer]  |The official visualizer for Gunna's \"at my purest\" featuring @OFFSETYRN - OUT NOW!\\n\\nStream \"The Last Wun\": https://gunna.lnk.to/thelastwun\\n\\nShop Official Merch: https://gunnawunna.com/\\n\\nFollow Gunna:\\nhttps://only1gunna.com/\\nhttps://www.instagram.com/gunna/\\nhttps://twitter.com/1GunnaGunna\\nhttps://www.tiktok.com/@gunna\\nhttps://www.facebook.com/gunnaofficial/\\nhttps://soundcloud.com/gunna\\n\\n℗ 2025 Young Stoner Life Records / 300 Entertainment\\n\\n#Gunna #atmypurest #Offset #OfficialVisualizer #TheLastWun \\n\\n_\\n\\nLyrics:\\n\\nRun that back, Turbo\\n\\nOverseas in Europe, I hit Zurich, bought a watch\\nKicking it my purest, my influence worth a lot\\nBought my bitch the urus that I skirt to that drop\\nBetter see my jewelry, that shit blurry, at the top\\nTop, top, top, top\\nI'm kicking it at the top\\nT-O-P, I'm up\\nEyes on me like Pac\\nPush one up whenever I walk\\nCan't touch me I'm too hot\\nHunnids inside of a vault\\nMans is covered in croc\\nCroc\\nAlligator or Croc\\nHuman ain't no telling\\nYoung GunnaWun for president, let my ho go presi'\\nCountin' up stackin' these presidents, know this shit get treacherous\\n\\nWake up takin' these chances\\nBusiness man I barely drive I bought me two new Caddys\\nGot acres I can sell you land, costs at least two Patek's\\nLS state behind the gate, don't let 'em know my addy\\nPretty face from 'round the way, come play I do her nasty\\nPlain jane I ain't flashy\\nGucci shorts they khaki\\nFucking a slut accountant bitch she help me lower my taxes\\nYoung Gunna wunna a chest set up in …. On top my jacket\\nCaviar the riviar of France, they stuffin my passes\\n\\nOverseas in Europe, I hit Zurich, bought a watch\\nKicking it my purest, my influence worth a lot\\nBought my bitch the urus that I skirt to that drop\\nBetter see my jewelry, my shit blurry, at the top\\nTop, top\\nI'm kicking it at the top\\nT-O-P, I'm up\\nEyes on me like Pac\\nPush one up I walk\\nCan't touch me I'm too hot\\nHunnids inside of a vault, man is covered in Croc\\n\\nRockstar grab my crotch\\nRick Owen high tops\\nI go in Miami, Kawasaki with two thots\\nShe fuck with the top\\nCashed out ice me out\\nBurnt that nigga's chop\\nI did this shit for granny, look down my wrist is a Grammy\\nPrincess like diani, introduce her to my family\\nFlower she my dandy, but don't come for not at all\\nI ain't going at all, I took out the brain and tore down on 'em all\\nPlain Jane I let it went froze, this shit is insane they thought I would fall\\nThe flames come out the exhaust, the Ferrari spider, it climb up the wall\\nShe learnin' to deal with a dog\\nThe double R star see Mars\\nI told her to beat it, get off me\\nI only be fucking with stars\\nI got in my groove like Austin\\n\\nOverseas in Europe, I hit Zurich, bought a watch\\nKicking it my purest, my influence worth a lot\\nBought my bitch the urus that I skirt to that drop\\nBetter see my jewelry, my shit blurry, at the top\\nTop, top\\nI'm kicking it at the top\\nT-O-P, I'm up\\nEyes on me like Pac\\nPush up whenever I walk\\nCan't touch me I'm too hot\\nHunnids inside of a vault, Mans is covered in Croc\\nCroc|\n|Gaming      |POLAR BEAR vs DEER MONSTER?! Roblox 99 Nights in the Forest|Adopt Your Own TYLER and SNOWI ✨ https://tylerandsnowi.store/ \uD83D\uDC48 Back for a Limited Time ⏰\\nToday in Roblox Tyler & Snowi we're playing 99 DAYS with a POLAR BEAR! \uD83E\uDD76\uD83D\uDC3B‍❄️ Can we learn THE TRUTH BEHIND THE POLAR BEAR and ESCAPE?! This Roblox 99 Nights in the Forest game has SO MANY FUNNY MOMENTS !!  \uD83D\uDC49Don't forget to SUBSCRIBE & leave a like \uD83D\uDC4D if you enjoyed!\\n\\nJoin our Roblox Group here! https://www.roblox.com/groups/15659093/Tyler-and-Snowi\\n\\n#funnymoments #roblox #99nights  \\n[0736]                                                                                                                                                                                                                                                                                                                                                                                                                                                                                                                                                                                                                                                                                                                                                                                                                                                                                                                                                                                                                                                                                                                                                                                                                                                                                                                                                                                                                                                                                                                                                                                                                                                                                                                                                                                                                                                                                                                                                                                                                                                                                                                                                                                                                                                                                                                                                                                                                                                                                                                                                                                                                                                                                   |\n+------------+-----------------------------------------------------------+-----------------------------------------------------------------------------------------------------------------------------------------------------------------------------------------------------------------------------------------------------------------------------------------------------------------------------------------------------------------------------------------------------------------------------------------------------------------------------------------------------------------------------------------------------------------------------------------------------------------------------------------------------------------------------------------------------------------------------------------------------------------------------------------------------------------------------------------------------------------------------------------------------------------------------------------------------------------------------------------------------------------------------------------------------------------------------------------------------------------------------------------------------------------------------------------------------------------------------------------------------------------------------------------------------------------------------------------------------------------------------------------------------------------------------------------------------------------------------------------------------------------------------------------------------------------------------------------------------------------------------------------------------------------------------------------------------------------------------------------------------------------------------------------------------------------------------------------------------------------------------------------------------------------------------------------------------------------------------------------------------------------------------------------------------------------------------------------------------------------------------------------------------------------------------------------------------------------------------------------------------------------------------------------------------------------------------------------------------------------------------------------------------------------------------------------------------------------------------------------------------------------------------------------------------------------------------------------------------------------------------------------------------------------------------------------------------------------------------------------------------------------------------------------------------------------------------------------------------------------------------------------------------------------------------------------------------------------------------------------------------------------------------------------------------------------------------------------------------------------------------------------------------------------------------------------------+\n\n"
     ]
    }
   ],
   "source": [
    "from pyspark.sql.functions import lower, col\n",
    "from functools import reduce\n",
    "\n",
    "keywords = [\"tutorial\", \"science\", \"learn\", \"how to\", \"technology\", \"education\", \"experiment\", \"ChatGPT\", \"OpenAI \", \"agent\"]\n",
    "\n",
    "# keyword-based filter on title and description\n",
    "filtered_df = casted_df2.filter(\n",
    "    reduce(lambda a, b: a | b, [lower(col(\"title\")).contains(k) | lower(col(\"description\")).contains(k) for k in keywords])\n",
    ")\n",
    "\n",
    "filtered_df.select(\"categoryName\", \"title\", \"description\").show(truncate=False)"
   ]
  },
  {
   "cell_type": "code",
   "execution_count": 0,
   "metadata": {
    "application/vnd.databricks.v1+cell": {
     "cellMetadata": {
      "byteLimit": 2048000,
      "rowLimit": 10000
     },
     "inputWidgets": {},
     "nuid": "7e1ee458-5e96-4e34-9e2d-ec7ce045a0de",
     "showTitle": false,
     "tableResultSettingsMap": {},
     "title": ""
    }
   },
   "outputs": [],
   "source": [
    "casted_df2.write.mode(\"overwrite\").saveAsTable(\"processed_data.usa_trending_processed\")\n",
    "\n"
   ]
  }
 ],
 "metadata": {
  "application/vnd.databricks.v1+notebook": {
   "computePreferences": null,
   "dashboards": [],
   "environmentMetadata": {
    "base_environment": "",
    "environment_version": "1"
   },
   "inputWidgetPreferences": null,
   "language": "python",
   "notebookMetadata": {
    "pythonIndentUnit": 4
   },
   "notebookName": "usa_trends",
   "widgets": {}
  },
  "language_info": {
   "name": "python"
  }
 },
 "nbformat": 4,
 "nbformat_minor": 0
}